{
  "nbformat": 4,
  "nbformat_minor": 0,
  "metadata": {
    "colab": {
      "name": "Homework4.ipynb",
      "provenance": []
    },
    "kernelspec": {
      "name": "python3",
      "display_name": "Python 3"
    },
    "language_info": {
      "name": "python"
    }
  },
  "cells": [
    {
      "cell_type": "markdown",
      "source": [
        "Случайная непрерывная величина A имеет равномерное распределение на промежутке (200, 800].\n",
        "Найдите ее среднее значение и дисперсию."
      ],
      "metadata": {
        "id": "dOtiNR3waLDa"
      }
    },
    {
      "cell_type": "code",
      "source": [
        "import numpy as np\n",
        "import pandas as pd\n",
        "import matplotlib.pyplot as plt\n",
        "import warnings\n",
        "warnings.filterwarnings('ignore')"
      ],
      "metadata": {
        "id": "NpP6cwHOb3zl"
      },
      "execution_count": 26,
      "outputs": []
    },
    {
      "cell_type": "code",
      "execution_count": 27,
      "metadata": {
        "colab": {
          "base_uri": "https://localhost:8080/"
        },
        "id": "UToY-nAiYkYJ",
        "outputId": "036374d4-b1a7-4500-93fa-6a68c2d83db0"
      },
      "outputs": [
        {
          "output_type": "stream",
          "name": "stdout",
          "text": [
            "500.0\n",
            "30000.0\n"
          ]
        }
      ],
      "source": [
        "a = 200\n",
        "b = 800\n",
        "M_x = (a + b) / 2\n",
        "print(M_x)\n",
        "D_x = ((b - a) ** 2) / 12\n",
        "print(D_x)"
      ]
    },
    {
      "cell_type": "markdown",
      "source": [
        "О случайной непрерывной равномерно распределенной величине B известно, что ее дисперсия равна 0.2.\n",
        "Можно ли найти правую границу величины B и ее среднее значение зная, что левая граница равна 0.5?\n",
        "Если да, найдите ее."
      ],
      "metadata": {
        "id": "xU8OWmPCca8P"
      }
    },
    {
      "cell_type": "code",
      "source": [
        "D = 0.2\n",
        "a = 0.5"
      ],
      "metadata": {
        "id": "9_pRwRNkbdRu"
      },
      "execution_count": 28,
      "outputs": []
    },
    {
      "cell_type": "markdown",
      "source": [
        "Я сделал сначала уравнение следующего вида: (b - 0.5) ** 2 = 0.2 * 1.2\n",
        "Затем, если я правильно помню арифметику, то я домножил обе части уравнения на корень и получил: b - 0.5 = sqrt(2.4), то есть b = sqrt(2.4) + 0.5. "
      ],
      "metadata": {
        "id": "eQ6wKV22hGai"
      }
    },
    {
      "cell_type": "code",
      "source": [
        "b = np.sqrt(2.4) + 0.5\n",
        "b"
      ],
      "metadata": {
        "colab": {
          "base_uri": "https://localhost:8080/"
        },
        "id": "6nQSyKLncjsv",
        "outputId": "8ebf90a5-7dc7-40e4-9afb-4ccd4dbee23e"
      },
      "execution_count": 29,
      "outputs": [
        {
          "output_type": "execute_result",
          "data": {
            "text/plain": [
              "2.049193338482967"
            ]
          },
          "metadata": {},
          "execution_count": 29
        }
      ]
    },
    {
      "cell_type": "code",
      "source": [
        "M_x = (a + b) / 2\n",
        "M_x"
      ],
      "metadata": {
        "colab": {
          "base_uri": "https://localhost:8080/"
        },
        "id": "i88zG0bNhfCv",
        "outputId": "bf7b47e0-2b5a-4528-b62e-899b3b23af63"
      },
      "execution_count": 30,
      "outputs": [
        {
          "output_type": "execute_result",
          "data": {
            "text/plain": [
              "1.2745966692414834"
            ]
          },
          "metadata": {},
          "execution_count": 30
        }
      ]
    },
    {
      "cell_type": "markdown",
      "source": [
        "Непрерывная случайная величина X распределена нормально и задана плотностью распределения\n",
        "f(x) = (1 / (4 * sqrt(2*pi))) * (exp(-(x+2)***2) / 32).\n",
        "Найдите:\n",
        "а). M(X)\n",
        "б). D(X)\n",
        "в). std(X) (среднее квадратичное отклонение)"
      ],
      "metadata": {
        "id": "bCcupLw_iW1S"
      }
    },
    {
      "cell_type": "markdown",
      "source": [
        "Формула: \n",
        "$$f(x) = \\frac{1}{\\sigma \\sqrt{2 \\pi}} e ^ {- \\frac{(x - a)^2}{2 \\sigma^2}},$$\n",
        "\n",
        "---\n"
      ],
      "metadata": {
        "id": "I4zEJ1vnimOk"
      }
    },
    {
      "cell_type": "code",
      "source": [
        "sko = 4\n",
        "a = -2\n"
      ],
      "metadata": {
        "id": "MEPLUBZkiTkt"
      },
      "execution_count": 31,
      "outputs": []
    },
    {
      "cell_type": "code",
      "source": [
        "M_x = a\n",
        "D_x = sko ** 2\n",
        "std = sko\n",
        "print(M_x)\n",
        "print(D_x)\n",
        "print(std)"
      ],
      "metadata": {
        "colab": {
          "base_uri": "https://localhost:8080/"
        },
        "id": "NnPVLdECjbbM",
        "outputId": "bbc8a7f7-a6a8-4ff0-8d38-b504eba38017"
      },
      "execution_count": 32,
      "outputs": [
        {
          "output_type": "stream",
          "name": "stdout",
          "text": [
            "-2\n",
            "16\n",
            "4\n"
          ]
        }
      ]
    },
    {
      "cell_type": "markdown",
      "source": [
        "Рост взрослого населения города X имеет нормальное распределение.\n",
        "Причем, средний рост равен 174 см, а среднее квадратичное отклонение равно 8 см.\n",
        "Какова вероятность того, что случайным образом выбранный взрослый человек имеет рост:\n",
        "\n",
        "а). больше 182 см\n",
        "\n",
        "б). больше 190 см\n",
        "\n",
        "в). от 166 см до 190 см\n",
        "\n",
        "г). от 166 см до 182 см\n",
        "\n",
        "д). от 158 см до 190 см\n",
        "\n",
        "е). не выше 150 см или не ниже 190 см\n",
        "\n",
        "ё). не выше 150 см или не ниже 198 см\n",
        "\n",
        "ж). ниже 166 см."
      ],
      "metadata": {
        "id": "xaP1HCEukgmC"
      }
    },
    {
      "cell_type": "code",
      "source": [
        "std_x = 8\n",
        "mean_x = 174\n",
        "disp = std_x ** 2\n",
        "disp"
      ],
      "metadata": {
        "colab": {
          "base_uri": "https://localhost:8080/"
        },
        "id": "8S1K_4aIkXbw",
        "outputId": "fc8dfd8e-2df1-4983-c42b-c2a099464d2e"
      },
      "execution_count": 33,
      "outputs": [
        {
          "output_type": "execute_result",
          "data": {
            "text/plain": [
              "64"
            ]
          },
          "metadata": {},
          "execution_count": 33
        }
      ]
    },
    {
      "cell_type": "code",
      "source": [
        "f_x = (1 / (std_x * np.sqrt(2 * np.pi))) * (np.exp ( -(182 - 174)**2) / (2 * disp))\n",
        "f_x"
      ],
      "metadata": {
        "colab": {
          "base_uri": "https://localhost:8080/"
        },
        "id": "4Hi4fG6hwasR",
        "outputId": "0fb48ab3-25e5-437b-9432-d4ca868d0b4b"
      },
      "execution_count": 34,
      "outputs": [
        {
          "output_type": "execute_result",
          "data": {
            "text/plain": [
              "6.248320058673108e-32"
            ]
          },
          "metadata": {},
          "execution_count": 34
        }
      ]
    },
    {
      "cell_type": "code",
      "source": [
        "def f(x):\n",
        "  (1 / (std_x * np.sqrt(2 * np.pi))) * (np.exp ( -(x - 174)**2) / (2 * disp))"
      ],
      "metadata": {
        "id": "5o0TaXdu8XCY"
      },
      "execution_count": 35,
      "outputs": []
    },
    {
      "cell_type": "code",
      "source": [
        "from scipy import integrate\n",
        "import scipy.stats"
      ],
      "metadata": {
        "id": "-TeBxUzl1hf9"
      },
      "execution_count": 42,
      "outputs": []
    },
    {
      "cell_type": "code",
      "source": [
        "p = scipy.stats.norm.cdf(f_x) - 0.5\n",
        "p"
      ],
      "metadata": {
        "colab": {
          "base_uri": "https://localhost:8080/"
        },
        "id": "4_Qg4gdB7rmv",
        "outputId": "bc539e6c-a174-4b5f-f90c-9c66d458e40c"
      },
      "execution_count": 48,
      "outputs": [
        {
          "output_type": "execute_result",
          "data": {
            "text/plain": [
              "0.0"
            ]
          },
          "metadata": {},
          "execution_count": 48
        }
      ]
    },
    {
      "cell_type": "code",
      "source": [
        "x = 190\n",
        "f_x = (1 / (std_x * np.sqrt(2 * np.pi))) * (np.exp ( -(x - 174)**2) / (2 * disp))\n",
        "f_x\n",
        "p = scipy.stats.norm.cdf(f_x) - 0.5\n",
        "p"
      ],
      "metadata": {
        "colab": {
          "base_uri": "https://localhost:8080/"
        },
        "id": "F1tJiIuLBKs4",
        "outputId": "ef89fdfe-262a-40dd-ec8c-9c7ecdfef435"
      },
      "execution_count": 47,
      "outputs": [
        {
          "output_type": "execute_result",
          "data": {
            "text/plain": [
              "0.0"
            ]
          },
          "metadata": {},
          "execution_count": 47
        }
      ]
    },
    {
      "cell_type": "code",
      "source": [
        "x = 190\n",
        "f_x = (1 / (std_x * np.sqrt(2 * np.pi))) * (np.exp ( -(182 - 174)**2) / (2 * disp))\n",
        "f_x\n",
        "p = scipy.stats.norm.cdf(f_x) - 0.5\n",
        "p"
      ],
      "metadata": {
        "colab": {
          "base_uri": "https://localhost:8080/"
        },
        "id": "7aeev52VBUdf",
        "outputId": "1f12240f-8da8-4ace-8239-d1303382b302"
      },
      "execution_count": 49,
      "outputs": [
        {
          "output_type": "execute_result",
          "data": {
            "text/plain": [
              "0.0"
            ]
          },
          "metadata": {},
          "execution_count": 49
        }
      ]
    },
    {
      "cell_type": "markdown",
      "source": [
        "Ну, тут мои полномочия все, функцию посчитал, интеграл по формуле забил, что с этим дальше делать без понятия, ведь в методичке нет ни одного нормального примера по этому поводу"
      ],
      "metadata": {
        "id": "VlbMZLYGHDaK"
      }
    },
    {
      "cell_type": "markdown",
      "source": [
        "На сколько сигм (средних квадратичных отклонений) отклоняется рост человека, равный 190 см, от\n",
        "математического ожидания роста в популяции, в которой M(X) = 178 см и D(X) = 25 кв.см?"
      ],
      "metadata": {
        "id": "cIVl9JTHHdut"
      }
    },
    {
      "cell_type": "code",
      "source": [
        "M_x = 178\n",
        "D_x = 25\n",
        "std_x = np.sqrt(D_x)\n",
        "std_x"
      ],
      "metadata": {
        "colab": {
          "base_uri": "https://localhost:8080/"
        },
        "id": "i1iHc-179DQu",
        "outputId": "792ea5d5-b066-441e-e371-bede624b32c5"
      },
      "execution_count": 50,
      "outputs": [
        {
          "output_type": "execute_result",
          "data": {
            "text/plain": [
              "5.0"
            ]
          },
          "metadata": {},
          "execution_count": 50
        }
      ]
    },
    {
      "cell_type": "code",
      "source": [
        "sigm_count = (190 - 178) / std_x\n",
        "sigm_count"
      ],
      "metadata": {
        "colab": {
          "base_uri": "https://localhost:8080/"
        },
        "id": "IgLZft08HuuN",
        "outputId": "f8f18bd9-f09c-4724-ccae-0c312d9adcc4"
      },
      "execution_count": 51,
      "outputs": [
        {
          "output_type": "execute_result",
          "data": {
            "text/plain": [
              "2.4"
            ]
          },
          "metadata": {},
          "execution_count": 51
        }
      ]
    },
    {
      "cell_type": "code",
      "source": [
        ""
      ],
      "metadata": {
        "id": "uxMgmhTEH9yO"
      },
      "execution_count": null,
      "outputs": []
    }
  ]
}