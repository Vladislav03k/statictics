{
  "nbformat": 4,
  "nbformat_minor": 0,
  "metadata": {
    "colab": {
      "name": "Main_project.ipynb",
      "provenance": [],
      "toc_visible": true
    },
    "kernelspec": {
      "name": "python3",
      "display_name": "Python 3"
    },
    "language_info": {
      "name": "python"
    }
  },
  "cells": [
    {
      "cell_type": "markdown",
      "source": [
        "В текущем проекте будет произведен анализ криптовалют, а именно статистическое сопоставление биткоина и эфириума"
      ],
      "metadata": {
        "id": "-lCZUQKwVG-w"
      }
    },
    {
      "cell_type": "code",
      "source": [
        "import warnings\n",
        "warnings.filterwarnings('ignore')"
      ],
      "metadata": {
        "id": "CL-RdqVVIaxz"
      },
      "execution_count": 1,
      "outputs": []
    },
    {
      "cell_type": "code",
      "execution_count": 2,
      "metadata": {
        "id": "zdwsV5bQId1h"
      },
      "outputs": [],
      "source": [
        "import numpy as np\n",
        "import pandas as pd\n",
        "import seaborn as sns\n",
        "import matplotlib.style as style\n",
        "import matplotlib.pyplot as plt\n",
        "import scipy.stats\n",
        "import statsmodels.api as sm\n",
        "from mpl_toolkits.mplot3d import Axes3D\n",
        "from matplotlib import animation, rc\n",
        "from IPython.display import HTML\n",
        "%matplotlib inline\n",
        "%config InlineBackend.figure_format = 'svg'\n",
        "np.set_printoptions(suppress=True)"
      ]
    },
    {
      "cell_type": "markdown",
      "source": [
        "# Загрузка датасетов и приведение их к одной размерности по датам"
      ],
      "metadata": {
        "id": "7sn_-AoUZ5rY"
      }
    },
    {
      "cell_type": "markdown",
      "source": [
        "Загрузим датасет биткоина"
      ],
      "metadata": {
        "id": "5yX59FT4VfUW"
      }
    },
    {
      "cell_type": "code",
      "source": [
        "from google.colab import drive\n",
        "drive.mount('/content/drive')"
      ],
      "metadata": {
        "colab": {
          "base_uri": "https://localhost:8080/"
        },
        "id": "xeIe51IPVGTi",
        "outputId": "2cd48a02-cf8a-42df-c8e6-c07ccaebd6f5"
      },
      "execution_count": 3,
      "outputs": [
        {
          "output_type": "stream",
          "name": "stdout",
          "text": [
            "Mounted at /content/drive\n"
          ]
        }
      ]
    },
    {
      "cell_type": "code",
      "source": [
        "BTC_DATASET = '/content/drive/My Drive/Мат статистика/BTC-USD.csv'\n",
        "ETH_DATASET = '/content/drive/My Drive/Мат статистика/ETH-USD.csv'"
      ],
      "metadata": {
        "id": "Quw4gDiqWiPy"
      },
      "execution_count": 4,
      "outputs": []
    },
    {
      "cell_type": "code",
      "source": [
        "btc_df = pd.read_csv(BTC_DATASET)\n",
        "btc_df.head(1000)"
      ],
      "metadata": {
        "colab": {
          "base_uri": "https://localhost:8080/",
          "height": 424
        },
        "id": "qszjz_mrXWxo",
        "outputId": "e5cdabbd-9389-4192-8004-e795477a2ab2"
      },
      "execution_count": 5,
      "outputs": [
        {
          "output_type": "execute_result",
          "data": {
            "text/plain": [
              "           Date         Open         High          Low        Close  \\\n",
              "0    2014-09-17   465.864014   468.174011   452.421997   457.334015   \n",
              "1    2014-09-18   456.859985   456.859985   413.104004   424.440002   \n",
              "2    2014-09-19   424.102997   427.834991   384.532013   394.795990   \n",
              "3    2014-09-20   394.673004   423.295990   389.882996   408.903992   \n",
              "4    2014-09-21   408.084991   412.425995   393.181000   398.821014   \n",
              "..          ...          ...          ...          ...          ...   \n",
              "995  2017-06-08  2720.489990  2815.300049  2670.949951  2805.620117   \n",
              "996  2017-06-09  2807.439941  2901.709961  2795.620117  2823.810059   \n",
              "997  2017-06-10  2828.139893  2950.989990  2746.550049  2947.709961   \n",
              "998  2017-06-11  2942.409912  2996.600098  2840.530029  2958.110107   \n",
              "999  2017-06-12  2953.219971  2997.260010  2518.560059  2659.629883   \n",
              "\n",
              "       Adj Close      Volume  \n",
              "0     457.334015    21056800  \n",
              "1     424.440002    34483200  \n",
              "2     394.795990    37919700  \n",
              "3     408.903992    36863600  \n",
              "4     398.821014    26580100  \n",
              "..           ...         ...  \n",
              "995  2805.620117  1281170048  \n",
              "996  2823.810059  1348950016  \n",
              "997  2947.709961  2018889984  \n",
              "998  2958.110107  1752400000  \n",
              "999  2659.629883  2569530112  \n",
              "\n",
              "[1000 rows x 7 columns]"
            ],
            "text/html": [
              "\n",
              "  <div id=\"df-91dd9459-85ed-43b0-a142-d72a865430c9\">\n",
              "    <div class=\"colab-df-container\">\n",
              "      <div>\n",
              "<style scoped>\n",
              "    .dataframe tbody tr th:only-of-type {\n",
              "        vertical-align: middle;\n",
              "    }\n",
              "\n",
              "    .dataframe tbody tr th {\n",
              "        vertical-align: top;\n",
              "    }\n",
              "\n",
              "    .dataframe thead th {\n",
              "        text-align: right;\n",
              "    }\n",
              "</style>\n",
              "<table border=\"1\" class=\"dataframe\">\n",
              "  <thead>\n",
              "    <tr style=\"text-align: right;\">\n",
              "      <th></th>\n",
              "      <th>Date</th>\n",
              "      <th>Open</th>\n",
              "      <th>High</th>\n",
              "      <th>Low</th>\n",
              "      <th>Close</th>\n",
              "      <th>Adj Close</th>\n",
              "      <th>Volume</th>\n",
              "    </tr>\n",
              "  </thead>\n",
              "  <tbody>\n",
              "    <tr>\n",
              "      <th>0</th>\n",
              "      <td>2014-09-17</td>\n",
              "      <td>465.864014</td>\n",
              "      <td>468.174011</td>\n",
              "      <td>452.421997</td>\n",
              "      <td>457.334015</td>\n",
              "      <td>457.334015</td>\n",
              "      <td>21056800</td>\n",
              "    </tr>\n",
              "    <tr>\n",
              "      <th>1</th>\n",
              "      <td>2014-09-18</td>\n",
              "      <td>456.859985</td>\n",
              "      <td>456.859985</td>\n",
              "      <td>413.104004</td>\n",
              "      <td>424.440002</td>\n",
              "      <td>424.440002</td>\n",
              "      <td>34483200</td>\n",
              "    </tr>\n",
              "    <tr>\n",
              "      <th>2</th>\n",
              "      <td>2014-09-19</td>\n",
              "      <td>424.102997</td>\n",
              "      <td>427.834991</td>\n",
              "      <td>384.532013</td>\n",
              "      <td>394.795990</td>\n",
              "      <td>394.795990</td>\n",
              "      <td>37919700</td>\n",
              "    </tr>\n",
              "    <tr>\n",
              "      <th>3</th>\n",
              "      <td>2014-09-20</td>\n",
              "      <td>394.673004</td>\n",
              "      <td>423.295990</td>\n",
              "      <td>389.882996</td>\n",
              "      <td>408.903992</td>\n",
              "      <td>408.903992</td>\n",
              "      <td>36863600</td>\n",
              "    </tr>\n",
              "    <tr>\n",
              "      <th>4</th>\n",
              "      <td>2014-09-21</td>\n",
              "      <td>408.084991</td>\n",
              "      <td>412.425995</td>\n",
              "      <td>393.181000</td>\n",
              "      <td>398.821014</td>\n",
              "      <td>398.821014</td>\n",
              "      <td>26580100</td>\n",
              "    </tr>\n",
              "    <tr>\n",
              "      <th>...</th>\n",
              "      <td>...</td>\n",
              "      <td>...</td>\n",
              "      <td>...</td>\n",
              "      <td>...</td>\n",
              "      <td>...</td>\n",
              "      <td>...</td>\n",
              "      <td>...</td>\n",
              "    </tr>\n",
              "    <tr>\n",
              "      <th>995</th>\n",
              "      <td>2017-06-08</td>\n",
              "      <td>2720.489990</td>\n",
              "      <td>2815.300049</td>\n",
              "      <td>2670.949951</td>\n",
              "      <td>2805.620117</td>\n",
              "      <td>2805.620117</td>\n",
              "      <td>1281170048</td>\n",
              "    </tr>\n",
              "    <tr>\n",
              "      <th>996</th>\n",
              "      <td>2017-06-09</td>\n",
              "      <td>2807.439941</td>\n",
              "      <td>2901.709961</td>\n",
              "      <td>2795.620117</td>\n",
              "      <td>2823.810059</td>\n",
              "      <td>2823.810059</td>\n",
              "      <td>1348950016</td>\n",
              "    </tr>\n",
              "    <tr>\n",
              "      <th>997</th>\n",
              "      <td>2017-06-10</td>\n",
              "      <td>2828.139893</td>\n",
              "      <td>2950.989990</td>\n",
              "      <td>2746.550049</td>\n",
              "      <td>2947.709961</td>\n",
              "      <td>2947.709961</td>\n",
              "      <td>2018889984</td>\n",
              "    </tr>\n",
              "    <tr>\n",
              "      <th>998</th>\n",
              "      <td>2017-06-11</td>\n",
              "      <td>2942.409912</td>\n",
              "      <td>2996.600098</td>\n",
              "      <td>2840.530029</td>\n",
              "      <td>2958.110107</td>\n",
              "      <td>2958.110107</td>\n",
              "      <td>1752400000</td>\n",
              "    </tr>\n",
              "    <tr>\n",
              "      <th>999</th>\n",
              "      <td>2017-06-12</td>\n",
              "      <td>2953.219971</td>\n",
              "      <td>2997.260010</td>\n",
              "      <td>2518.560059</td>\n",
              "      <td>2659.629883</td>\n",
              "      <td>2659.629883</td>\n",
              "      <td>2569530112</td>\n",
              "    </tr>\n",
              "  </tbody>\n",
              "</table>\n",
              "<p>1000 rows × 7 columns</p>\n",
              "</div>\n",
              "      <button class=\"colab-df-convert\" onclick=\"convertToInteractive('df-91dd9459-85ed-43b0-a142-d72a865430c9')\"\n",
              "              title=\"Convert this dataframe to an interactive table.\"\n",
              "              style=\"display:none;\">\n",
              "        \n",
              "  <svg xmlns=\"http://www.w3.org/2000/svg\" height=\"24px\"viewBox=\"0 0 24 24\"\n",
              "       width=\"24px\">\n",
              "    <path d=\"M0 0h24v24H0V0z\" fill=\"none\"/>\n",
              "    <path d=\"M18.56 5.44l.94 2.06.94-2.06 2.06-.94-2.06-.94-.94-2.06-.94 2.06-2.06.94zm-11 1L8.5 8.5l.94-2.06 2.06-.94-2.06-.94L8.5 2.5l-.94 2.06-2.06.94zm10 10l.94 2.06.94-2.06 2.06-.94-2.06-.94-.94-2.06-.94 2.06-2.06.94z\"/><path d=\"M17.41 7.96l-1.37-1.37c-.4-.4-.92-.59-1.43-.59-.52 0-1.04.2-1.43.59L10.3 9.45l-7.72 7.72c-.78.78-.78 2.05 0 2.83L4 21.41c.39.39.9.59 1.41.59.51 0 1.02-.2 1.41-.59l7.78-7.78 2.81-2.81c.8-.78.8-2.07 0-2.86zM5.41 20L4 18.59l7.72-7.72 1.47 1.35L5.41 20z\"/>\n",
              "  </svg>\n",
              "      </button>\n",
              "      \n",
              "  <style>\n",
              "    .colab-df-container {\n",
              "      display:flex;\n",
              "      flex-wrap:wrap;\n",
              "      gap: 12px;\n",
              "    }\n",
              "\n",
              "    .colab-df-convert {\n",
              "      background-color: #E8F0FE;\n",
              "      border: none;\n",
              "      border-radius: 50%;\n",
              "      cursor: pointer;\n",
              "      display: none;\n",
              "      fill: #1967D2;\n",
              "      height: 32px;\n",
              "      padding: 0 0 0 0;\n",
              "      width: 32px;\n",
              "    }\n",
              "\n",
              "    .colab-df-convert:hover {\n",
              "      background-color: #E2EBFA;\n",
              "      box-shadow: 0px 1px 2px rgba(60, 64, 67, 0.3), 0px 1px 3px 1px rgba(60, 64, 67, 0.15);\n",
              "      fill: #174EA6;\n",
              "    }\n",
              "\n",
              "    [theme=dark] .colab-df-convert {\n",
              "      background-color: #3B4455;\n",
              "      fill: #D2E3FC;\n",
              "    }\n",
              "\n",
              "    [theme=dark] .colab-df-convert:hover {\n",
              "      background-color: #434B5C;\n",
              "      box-shadow: 0px 1px 3px 1px rgba(0, 0, 0, 0.15);\n",
              "      filter: drop-shadow(0px 1px 2px rgba(0, 0, 0, 0.3));\n",
              "      fill: #FFFFFF;\n",
              "    }\n",
              "  </style>\n",
              "\n",
              "      <script>\n",
              "        const buttonEl =\n",
              "          document.querySelector('#df-91dd9459-85ed-43b0-a142-d72a865430c9 button.colab-df-convert');\n",
              "        buttonEl.style.display =\n",
              "          google.colab.kernel.accessAllowed ? 'block' : 'none';\n",
              "\n",
              "        async function convertToInteractive(key) {\n",
              "          const element = document.querySelector('#df-91dd9459-85ed-43b0-a142-d72a865430c9');\n",
              "          const dataTable =\n",
              "            await google.colab.kernel.invokeFunction('convertToInteractive',\n",
              "                                                     [key], {});\n",
              "          if (!dataTable) return;\n",
              "\n",
              "          const docLinkHtml = 'Like what you see? Visit the ' +\n",
              "            '<a target=\"_blank\" href=https://colab.research.google.com/notebooks/data_table.ipynb>data table notebook</a>'\n",
              "            + ' to learn more about interactive tables.';\n",
              "          element.innerHTML = '';\n",
              "          dataTable['output_type'] = 'display_data';\n",
              "          await google.colab.output.renderOutput(dataTable, element);\n",
              "          const docLink = document.createElement('div');\n",
              "          docLink.innerHTML = docLinkHtml;\n",
              "          element.appendChild(docLink);\n",
              "        }\n",
              "      </script>\n",
              "    </div>\n",
              "  </div>\n",
              "  "
            ]
          },
          "metadata": {},
          "execution_count": 5
        }
      ]
    },
    {
      "cell_type": "code",
      "source": [
        "btc_df.info()"
      ],
      "metadata": {
        "colab": {
          "base_uri": "https://localhost:8080/"
        },
        "id": "jSFwmjpiXpU5",
        "outputId": "b7237c4c-200b-4702-aa7d-a44e05df99a5"
      },
      "execution_count": 6,
      "outputs": [
        {
          "output_type": "stream",
          "name": "stdout",
          "text": [
            "<class 'pandas.core.frame.DataFrame'>\n",
            "RangeIndex: 2747 entries, 0 to 2746\n",
            "Data columns (total 7 columns):\n",
            " #   Column     Non-Null Count  Dtype  \n",
            "---  ------     --------------  -----  \n",
            " 0   Date       2747 non-null   object \n",
            " 1   Open       2747 non-null   float64\n",
            " 2   High       2747 non-null   float64\n",
            " 3   Low        2747 non-null   float64\n",
            " 4   Close      2747 non-null   float64\n",
            " 5   Adj Close  2747 non-null   float64\n",
            " 6   Volume     2747 non-null   int64  \n",
            "dtypes: float64(5), int64(1), object(1)\n",
            "memory usage: 150.4+ KB\n"
          ]
        }
      ]
    },
    {
      "cell_type": "code",
      "source": [
        "btc_df.tail()"
      ],
      "metadata": {
        "colab": {
          "base_uri": "https://localhost:8080/",
          "height": 206
        },
        "id": "wkxqvrGiYkqn",
        "outputId": "b403ae86-bfc3-4e39-d435-6ff6a053d922"
      },
      "execution_count": 7,
      "outputs": [
        {
          "output_type": "execute_result",
          "data": {
            "text/plain": [
              "            Date          Open          High           Low         Close  \\\n",
              "2742  2022-03-21  41246.132813  41454.410156  40668.042969  41077.996094   \n",
              "2743  2022-03-22  41074.105469  43124.707031  40948.281250  42358.808594   \n",
              "2744  2022-03-23  42364.378906  42893.507813  41877.507813  42892.957031   \n",
              "2745  2022-03-24  42886.652344  44131.855469  42726.164063  43960.933594   \n",
              "2746  2022-03-25  43958.675781  44982.519531  43711.871094  44395.964844   \n",
              "\n",
              "         Adj Close       Volume  \n",
              "2742  41077.996094  24615543271  \n",
              "2743  42358.808594  32004652376  \n",
              "2744  42892.957031  25242943069  \n",
              "2745  43960.933594  31042992291  \n",
              "2746  44395.964844  30379415552  "
            ],
            "text/html": [
              "\n",
              "  <div id=\"df-ef8cfabe-21f8-458e-b300-1e663722223d\">\n",
              "    <div class=\"colab-df-container\">\n",
              "      <div>\n",
              "<style scoped>\n",
              "    .dataframe tbody tr th:only-of-type {\n",
              "        vertical-align: middle;\n",
              "    }\n",
              "\n",
              "    .dataframe tbody tr th {\n",
              "        vertical-align: top;\n",
              "    }\n",
              "\n",
              "    .dataframe thead th {\n",
              "        text-align: right;\n",
              "    }\n",
              "</style>\n",
              "<table border=\"1\" class=\"dataframe\">\n",
              "  <thead>\n",
              "    <tr style=\"text-align: right;\">\n",
              "      <th></th>\n",
              "      <th>Date</th>\n",
              "      <th>Open</th>\n",
              "      <th>High</th>\n",
              "      <th>Low</th>\n",
              "      <th>Close</th>\n",
              "      <th>Adj Close</th>\n",
              "      <th>Volume</th>\n",
              "    </tr>\n",
              "  </thead>\n",
              "  <tbody>\n",
              "    <tr>\n",
              "      <th>2742</th>\n",
              "      <td>2022-03-21</td>\n",
              "      <td>41246.132813</td>\n",
              "      <td>41454.410156</td>\n",
              "      <td>40668.042969</td>\n",
              "      <td>41077.996094</td>\n",
              "      <td>41077.996094</td>\n",
              "      <td>24615543271</td>\n",
              "    </tr>\n",
              "    <tr>\n",
              "      <th>2743</th>\n",
              "      <td>2022-03-22</td>\n",
              "      <td>41074.105469</td>\n",
              "      <td>43124.707031</td>\n",
              "      <td>40948.281250</td>\n",
              "      <td>42358.808594</td>\n",
              "      <td>42358.808594</td>\n",
              "      <td>32004652376</td>\n",
              "    </tr>\n",
              "    <tr>\n",
              "      <th>2744</th>\n",
              "      <td>2022-03-23</td>\n",
              "      <td>42364.378906</td>\n",
              "      <td>42893.507813</td>\n",
              "      <td>41877.507813</td>\n",
              "      <td>42892.957031</td>\n",
              "      <td>42892.957031</td>\n",
              "      <td>25242943069</td>\n",
              "    </tr>\n",
              "    <tr>\n",
              "      <th>2745</th>\n",
              "      <td>2022-03-24</td>\n",
              "      <td>42886.652344</td>\n",
              "      <td>44131.855469</td>\n",
              "      <td>42726.164063</td>\n",
              "      <td>43960.933594</td>\n",
              "      <td>43960.933594</td>\n",
              "      <td>31042992291</td>\n",
              "    </tr>\n",
              "    <tr>\n",
              "      <th>2746</th>\n",
              "      <td>2022-03-25</td>\n",
              "      <td>43958.675781</td>\n",
              "      <td>44982.519531</td>\n",
              "      <td>43711.871094</td>\n",
              "      <td>44395.964844</td>\n",
              "      <td>44395.964844</td>\n",
              "      <td>30379415552</td>\n",
              "    </tr>\n",
              "  </tbody>\n",
              "</table>\n",
              "</div>\n",
              "      <button class=\"colab-df-convert\" onclick=\"convertToInteractive('df-ef8cfabe-21f8-458e-b300-1e663722223d')\"\n",
              "              title=\"Convert this dataframe to an interactive table.\"\n",
              "              style=\"display:none;\">\n",
              "        \n",
              "  <svg xmlns=\"http://www.w3.org/2000/svg\" height=\"24px\"viewBox=\"0 0 24 24\"\n",
              "       width=\"24px\">\n",
              "    <path d=\"M0 0h24v24H0V0z\" fill=\"none\"/>\n",
              "    <path d=\"M18.56 5.44l.94 2.06.94-2.06 2.06-.94-2.06-.94-.94-2.06-.94 2.06-2.06.94zm-11 1L8.5 8.5l.94-2.06 2.06-.94-2.06-.94L8.5 2.5l-.94 2.06-2.06.94zm10 10l.94 2.06.94-2.06 2.06-.94-2.06-.94-.94-2.06-.94 2.06-2.06.94z\"/><path d=\"M17.41 7.96l-1.37-1.37c-.4-.4-.92-.59-1.43-.59-.52 0-1.04.2-1.43.59L10.3 9.45l-7.72 7.72c-.78.78-.78 2.05 0 2.83L4 21.41c.39.39.9.59 1.41.59.51 0 1.02-.2 1.41-.59l7.78-7.78 2.81-2.81c.8-.78.8-2.07 0-2.86zM5.41 20L4 18.59l7.72-7.72 1.47 1.35L5.41 20z\"/>\n",
              "  </svg>\n",
              "      </button>\n",
              "      \n",
              "  <style>\n",
              "    .colab-df-container {\n",
              "      display:flex;\n",
              "      flex-wrap:wrap;\n",
              "      gap: 12px;\n",
              "    }\n",
              "\n",
              "    .colab-df-convert {\n",
              "      background-color: #E8F0FE;\n",
              "      border: none;\n",
              "      border-radius: 50%;\n",
              "      cursor: pointer;\n",
              "      display: none;\n",
              "      fill: #1967D2;\n",
              "      height: 32px;\n",
              "      padding: 0 0 0 0;\n",
              "      width: 32px;\n",
              "    }\n",
              "\n",
              "    .colab-df-convert:hover {\n",
              "      background-color: #E2EBFA;\n",
              "      box-shadow: 0px 1px 2px rgba(60, 64, 67, 0.3), 0px 1px 3px 1px rgba(60, 64, 67, 0.15);\n",
              "      fill: #174EA6;\n",
              "    }\n",
              "\n",
              "    [theme=dark] .colab-df-convert {\n",
              "      background-color: #3B4455;\n",
              "      fill: #D2E3FC;\n",
              "    }\n",
              "\n",
              "    [theme=dark] .colab-df-convert:hover {\n",
              "      background-color: #434B5C;\n",
              "      box-shadow: 0px 1px 3px 1px rgba(0, 0, 0, 0.15);\n",
              "      filter: drop-shadow(0px 1px 2px rgba(0, 0, 0, 0.3));\n",
              "      fill: #FFFFFF;\n",
              "    }\n",
              "  </style>\n",
              "\n",
              "      <script>\n",
              "        const buttonEl =\n",
              "          document.querySelector('#df-ef8cfabe-21f8-458e-b300-1e663722223d button.colab-df-convert');\n",
              "        buttonEl.style.display =\n",
              "          google.colab.kernel.accessAllowed ? 'block' : 'none';\n",
              "\n",
              "        async function convertToInteractive(key) {\n",
              "          const element = document.querySelector('#df-ef8cfabe-21f8-458e-b300-1e663722223d');\n",
              "          const dataTable =\n",
              "            await google.colab.kernel.invokeFunction('convertToInteractive',\n",
              "                                                     [key], {});\n",
              "          if (!dataTable) return;\n",
              "\n",
              "          const docLinkHtml = 'Like what you see? Visit the ' +\n",
              "            '<a target=\"_blank\" href=https://colab.research.google.com/notebooks/data_table.ipynb>data table notebook</a>'\n",
              "            + ' to learn more about interactive tables.';\n",
              "          element.innerHTML = '';\n",
              "          dataTable['output_type'] = 'display_data';\n",
              "          await google.colab.output.renderOutput(dataTable, element);\n",
              "          const docLink = document.createElement('div');\n",
              "          docLink.innerHTML = docLinkHtml;\n",
              "          element.appendChild(docLink);\n",
              "        }\n",
              "      </script>\n",
              "    </div>\n",
              "  </div>\n",
              "  "
            ]
          },
          "metadata": {},
          "execution_count": 7
        }
      ]
    },
    {
      "cell_type": "markdown",
      "source": [
        "Загрузим датасет эфириума"
      ],
      "metadata": {
        "id": "VdhGo-dnX7lc"
      }
    },
    {
      "cell_type": "code",
      "source": [
        "eth_df = pd.read_csv(ETH_DATASET)\n",
        "eth_df.head(100)"
      ],
      "metadata": {
        "colab": {
          "base_uri": "https://localhost:8080/",
          "height": 424
        },
        "id": "cMGR3aNSXsqD",
        "outputId": "3be7c3cd-a8f9-40b5-9eb9-aed3c1be690b"
      },
      "execution_count": 8,
      "outputs": [
        {
          "output_type": "execute_result",
          "data": {
            "text/plain": [
              "          Date        Open        High         Low       Close   Adj Close  \\\n",
              "0   2017-11-09  308.644989  329.451996  307.056000  320.884003  320.884003   \n",
              "1   2017-11-10  320.670990  324.717987  294.541992  299.252991  299.252991   \n",
              "2   2017-11-11  298.585999  319.453003  298.191986  314.681000  314.681000   \n",
              "3   2017-11-12  314.690002  319.153015  298.513000  307.907990  307.907990   \n",
              "4   2017-11-13  307.024994  328.415009  307.024994  316.716003  316.716003   \n",
              "..         ...         ...         ...         ...         ...         ...   \n",
              "95  2018-02-12  817.507996  875.937012  817.507996  868.706970  868.706970   \n",
              "96  2018-02-13  869.293030  870.708984  828.836975  845.257996  845.257996   \n",
              "97  2018-02-14  844.278992  926.429016  844.278992  923.560974  923.560974   \n",
              "98  2018-02-15  923.728027  951.947998  911.111023  936.976013  936.976013   \n",
              "99  2018-02-16  934.786011  950.005005  917.848022  944.210022  944.210022   \n",
              "\n",
              "        Volume  \n",
              "0    893249984  \n",
              "1    885985984  \n",
              "2    842300992  \n",
              "3   1613479936  \n",
              "4   1041889984  \n",
              "..         ...  \n",
              "95  2243450112  \n",
              "96  2081170048  \n",
              "97  2818370048  \n",
              "98  2900100096  \n",
              "99  2369449984  \n",
              "\n",
              "[100 rows x 7 columns]"
            ],
            "text/html": [
              "\n",
              "  <div id=\"df-637a34a2-fb2c-43ba-a5ac-ba8c81c7a29e\">\n",
              "    <div class=\"colab-df-container\">\n",
              "      <div>\n",
              "<style scoped>\n",
              "    .dataframe tbody tr th:only-of-type {\n",
              "        vertical-align: middle;\n",
              "    }\n",
              "\n",
              "    .dataframe tbody tr th {\n",
              "        vertical-align: top;\n",
              "    }\n",
              "\n",
              "    .dataframe thead th {\n",
              "        text-align: right;\n",
              "    }\n",
              "</style>\n",
              "<table border=\"1\" class=\"dataframe\">\n",
              "  <thead>\n",
              "    <tr style=\"text-align: right;\">\n",
              "      <th></th>\n",
              "      <th>Date</th>\n",
              "      <th>Open</th>\n",
              "      <th>High</th>\n",
              "      <th>Low</th>\n",
              "      <th>Close</th>\n",
              "      <th>Adj Close</th>\n",
              "      <th>Volume</th>\n",
              "    </tr>\n",
              "  </thead>\n",
              "  <tbody>\n",
              "    <tr>\n",
              "      <th>0</th>\n",
              "      <td>2017-11-09</td>\n",
              "      <td>308.644989</td>\n",
              "      <td>329.451996</td>\n",
              "      <td>307.056000</td>\n",
              "      <td>320.884003</td>\n",
              "      <td>320.884003</td>\n",
              "      <td>893249984</td>\n",
              "    </tr>\n",
              "    <tr>\n",
              "      <th>1</th>\n",
              "      <td>2017-11-10</td>\n",
              "      <td>320.670990</td>\n",
              "      <td>324.717987</td>\n",
              "      <td>294.541992</td>\n",
              "      <td>299.252991</td>\n",
              "      <td>299.252991</td>\n",
              "      <td>885985984</td>\n",
              "    </tr>\n",
              "    <tr>\n",
              "      <th>2</th>\n",
              "      <td>2017-11-11</td>\n",
              "      <td>298.585999</td>\n",
              "      <td>319.453003</td>\n",
              "      <td>298.191986</td>\n",
              "      <td>314.681000</td>\n",
              "      <td>314.681000</td>\n",
              "      <td>842300992</td>\n",
              "    </tr>\n",
              "    <tr>\n",
              "      <th>3</th>\n",
              "      <td>2017-11-12</td>\n",
              "      <td>314.690002</td>\n",
              "      <td>319.153015</td>\n",
              "      <td>298.513000</td>\n",
              "      <td>307.907990</td>\n",
              "      <td>307.907990</td>\n",
              "      <td>1613479936</td>\n",
              "    </tr>\n",
              "    <tr>\n",
              "      <th>4</th>\n",
              "      <td>2017-11-13</td>\n",
              "      <td>307.024994</td>\n",
              "      <td>328.415009</td>\n",
              "      <td>307.024994</td>\n",
              "      <td>316.716003</td>\n",
              "      <td>316.716003</td>\n",
              "      <td>1041889984</td>\n",
              "    </tr>\n",
              "    <tr>\n",
              "      <th>...</th>\n",
              "      <td>...</td>\n",
              "      <td>...</td>\n",
              "      <td>...</td>\n",
              "      <td>...</td>\n",
              "      <td>...</td>\n",
              "      <td>...</td>\n",
              "      <td>...</td>\n",
              "    </tr>\n",
              "    <tr>\n",
              "      <th>95</th>\n",
              "      <td>2018-02-12</td>\n",
              "      <td>817.507996</td>\n",
              "      <td>875.937012</td>\n",
              "      <td>817.507996</td>\n",
              "      <td>868.706970</td>\n",
              "      <td>868.706970</td>\n",
              "      <td>2243450112</td>\n",
              "    </tr>\n",
              "    <tr>\n",
              "      <th>96</th>\n",
              "      <td>2018-02-13</td>\n",
              "      <td>869.293030</td>\n",
              "      <td>870.708984</td>\n",
              "      <td>828.836975</td>\n",
              "      <td>845.257996</td>\n",
              "      <td>845.257996</td>\n",
              "      <td>2081170048</td>\n",
              "    </tr>\n",
              "    <tr>\n",
              "      <th>97</th>\n",
              "      <td>2018-02-14</td>\n",
              "      <td>844.278992</td>\n",
              "      <td>926.429016</td>\n",
              "      <td>844.278992</td>\n",
              "      <td>923.560974</td>\n",
              "      <td>923.560974</td>\n",
              "      <td>2818370048</td>\n",
              "    </tr>\n",
              "    <tr>\n",
              "      <th>98</th>\n",
              "      <td>2018-02-15</td>\n",
              "      <td>923.728027</td>\n",
              "      <td>951.947998</td>\n",
              "      <td>911.111023</td>\n",
              "      <td>936.976013</td>\n",
              "      <td>936.976013</td>\n",
              "      <td>2900100096</td>\n",
              "    </tr>\n",
              "    <tr>\n",
              "      <th>99</th>\n",
              "      <td>2018-02-16</td>\n",
              "      <td>934.786011</td>\n",
              "      <td>950.005005</td>\n",
              "      <td>917.848022</td>\n",
              "      <td>944.210022</td>\n",
              "      <td>944.210022</td>\n",
              "      <td>2369449984</td>\n",
              "    </tr>\n",
              "  </tbody>\n",
              "</table>\n",
              "<p>100 rows × 7 columns</p>\n",
              "</div>\n",
              "      <button class=\"colab-df-convert\" onclick=\"convertToInteractive('df-637a34a2-fb2c-43ba-a5ac-ba8c81c7a29e')\"\n",
              "              title=\"Convert this dataframe to an interactive table.\"\n",
              "              style=\"display:none;\">\n",
              "        \n",
              "  <svg xmlns=\"http://www.w3.org/2000/svg\" height=\"24px\"viewBox=\"0 0 24 24\"\n",
              "       width=\"24px\">\n",
              "    <path d=\"M0 0h24v24H0V0z\" fill=\"none\"/>\n",
              "    <path d=\"M18.56 5.44l.94 2.06.94-2.06 2.06-.94-2.06-.94-.94-2.06-.94 2.06-2.06.94zm-11 1L8.5 8.5l.94-2.06 2.06-.94-2.06-.94L8.5 2.5l-.94 2.06-2.06.94zm10 10l.94 2.06.94-2.06 2.06-.94-2.06-.94-.94-2.06-.94 2.06-2.06.94z\"/><path d=\"M17.41 7.96l-1.37-1.37c-.4-.4-.92-.59-1.43-.59-.52 0-1.04.2-1.43.59L10.3 9.45l-7.72 7.72c-.78.78-.78 2.05 0 2.83L4 21.41c.39.39.9.59 1.41.59.51 0 1.02-.2 1.41-.59l7.78-7.78 2.81-2.81c.8-.78.8-2.07 0-2.86zM5.41 20L4 18.59l7.72-7.72 1.47 1.35L5.41 20z\"/>\n",
              "  </svg>\n",
              "      </button>\n",
              "      \n",
              "  <style>\n",
              "    .colab-df-container {\n",
              "      display:flex;\n",
              "      flex-wrap:wrap;\n",
              "      gap: 12px;\n",
              "    }\n",
              "\n",
              "    .colab-df-convert {\n",
              "      background-color: #E8F0FE;\n",
              "      border: none;\n",
              "      border-radius: 50%;\n",
              "      cursor: pointer;\n",
              "      display: none;\n",
              "      fill: #1967D2;\n",
              "      height: 32px;\n",
              "      padding: 0 0 0 0;\n",
              "      width: 32px;\n",
              "    }\n",
              "\n",
              "    .colab-df-convert:hover {\n",
              "      background-color: #E2EBFA;\n",
              "      box-shadow: 0px 1px 2px rgba(60, 64, 67, 0.3), 0px 1px 3px 1px rgba(60, 64, 67, 0.15);\n",
              "      fill: #174EA6;\n",
              "    }\n",
              "\n",
              "    [theme=dark] .colab-df-convert {\n",
              "      background-color: #3B4455;\n",
              "      fill: #D2E3FC;\n",
              "    }\n",
              "\n",
              "    [theme=dark] .colab-df-convert:hover {\n",
              "      background-color: #434B5C;\n",
              "      box-shadow: 0px 1px 3px 1px rgba(0, 0, 0, 0.15);\n",
              "      filter: drop-shadow(0px 1px 2px rgba(0, 0, 0, 0.3));\n",
              "      fill: #FFFFFF;\n",
              "    }\n",
              "  </style>\n",
              "\n",
              "      <script>\n",
              "        const buttonEl =\n",
              "          document.querySelector('#df-637a34a2-fb2c-43ba-a5ac-ba8c81c7a29e button.colab-df-convert');\n",
              "        buttonEl.style.display =\n",
              "          google.colab.kernel.accessAllowed ? 'block' : 'none';\n",
              "\n",
              "        async function convertToInteractive(key) {\n",
              "          const element = document.querySelector('#df-637a34a2-fb2c-43ba-a5ac-ba8c81c7a29e');\n",
              "          const dataTable =\n",
              "            await google.colab.kernel.invokeFunction('convertToInteractive',\n",
              "                                                     [key], {});\n",
              "          if (!dataTable) return;\n",
              "\n",
              "          const docLinkHtml = 'Like what you see? Visit the ' +\n",
              "            '<a target=\"_blank\" href=https://colab.research.google.com/notebooks/data_table.ipynb>data table notebook</a>'\n",
              "            + ' to learn more about interactive tables.';\n",
              "          element.innerHTML = '';\n",
              "          dataTable['output_type'] = 'display_data';\n",
              "          await google.colab.output.renderOutput(dataTable, element);\n",
              "          const docLink = document.createElement('div');\n",
              "          docLink.innerHTML = docLinkHtml;\n",
              "          element.appendChild(docLink);\n",
              "        }\n",
              "      </script>\n",
              "    </div>\n",
              "  </div>\n",
              "  "
            ]
          },
          "metadata": {},
          "execution_count": 8
        }
      ]
    },
    {
      "cell_type": "code",
      "source": [
        "eth_df.info()"
      ],
      "metadata": {
        "colab": {
          "base_uri": "https://localhost:8080/"
        },
        "id": "qeNn1JT9YLb6",
        "outputId": "2b5ee5ee-9526-4364-ed42-906fb71db575"
      },
      "execution_count": 9,
      "outputs": [
        {
          "output_type": "stream",
          "name": "stdout",
          "text": [
            "<class 'pandas.core.frame.DataFrame'>\n",
            "RangeIndex: 1598 entries, 0 to 1597\n",
            "Data columns (total 7 columns):\n",
            " #   Column     Non-Null Count  Dtype  \n",
            "---  ------     --------------  -----  \n",
            " 0   Date       1598 non-null   object \n",
            " 1   Open       1598 non-null   float64\n",
            " 2   High       1598 non-null   float64\n",
            " 3   Low        1598 non-null   float64\n",
            " 4   Close      1598 non-null   float64\n",
            " 5   Adj Close  1598 non-null   float64\n",
            " 6   Volume     1598 non-null   int64  \n",
            "dtypes: float64(5), int64(1), object(1)\n",
            "memory usage: 87.5+ KB\n"
          ]
        }
      ]
    },
    {
      "cell_type": "code",
      "source": [
        "eth_df.tail()"
      ],
      "metadata": {
        "colab": {
          "base_uri": "https://localhost:8080/",
          "height": 206
        },
        "id": "FmPlQ_U0YeR_",
        "outputId": "8137b75c-20d5-4824-b49b-c2cbf3d97bdd"
      },
      "execution_count": 10,
      "outputs": [
        {
          "output_type": "execute_result",
          "data": {
            "text/plain": [
              "            Date         Open         High          Low        Close  \\\n",
              "1593  2022-03-21  2860.103271  2954.556641  2838.250488  2897.976563   \n",
              "1594  2022-03-22  2897.774170  3040.382813  2892.544434  2973.131104   \n",
              "1595  2022-03-23  2973.145020  3036.752197  2933.306641  3031.067139   \n",
              "1596  2022-03-24  3031.060791  3118.387695  3012.326660  3108.062012   \n",
              "1597  2022-03-25  3109.523438  3182.826660  3097.624268  3122.535889   \n",
              "\n",
              "        Adj Close       Volume  \n",
              "1593  2897.976563  15206116098  \n",
              "1594  2973.131104  16830539230  \n",
              "1595  3031.067139  16008767658  \n",
              "1596  3108.062012  18070503166  \n",
              "1597  3122.535889  16882068480  "
            ],
            "text/html": [
              "\n",
              "  <div id=\"df-bfcbe515-40f0-4980-9b8a-987cc2fd24f2\">\n",
              "    <div class=\"colab-df-container\">\n",
              "      <div>\n",
              "<style scoped>\n",
              "    .dataframe tbody tr th:only-of-type {\n",
              "        vertical-align: middle;\n",
              "    }\n",
              "\n",
              "    .dataframe tbody tr th {\n",
              "        vertical-align: top;\n",
              "    }\n",
              "\n",
              "    .dataframe thead th {\n",
              "        text-align: right;\n",
              "    }\n",
              "</style>\n",
              "<table border=\"1\" class=\"dataframe\">\n",
              "  <thead>\n",
              "    <tr style=\"text-align: right;\">\n",
              "      <th></th>\n",
              "      <th>Date</th>\n",
              "      <th>Open</th>\n",
              "      <th>High</th>\n",
              "      <th>Low</th>\n",
              "      <th>Close</th>\n",
              "      <th>Adj Close</th>\n",
              "      <th>Volume</th>\n",
              "    </tr>\n",
              "  </thead>\n",
              "  <tbody>\n",
              "    <tr>\n",
              "      <th>1593</th>\n",
              "      <td>2022-03-21</td>\n",
              "      <td>2860.103271</td>\n",
              "      <td>2954.556641</td>\n",
              "      <td>2838.250488</td>\n",
              "      <td>2897.976563</td>\n",
              "      <td>2897.976563</td>\n",
              "      <td>15206116098</td>\n",
              "    </tr>\n",
              "    <tr>\n",
              "      <th>1594</th>\n",
              "      <td>2022-03-22</td>\n",
              "      <td>2897.774170</td>\n",
              "      <td>3040.382813</td>\n",
              "      <td>2892.544434</td>\n",
              "      <td>2973.131104</td>\n",
              "      <td>2973.131104</td>\n",
              "      <td>16830539230</td>\n",
              "    </tr>\n",
              "    <tr>\n",
              "      <th>1595</th>\n",
              "      <td>2022-03-23</td>\n",
              "      <td>2973.145020</td>\n",
              "      <td>3036.752197</td>\n",
              "      <td>2933.306641</td>\n",
              "      <td>3031.067139</td>\n",
              "      <td>3031.067139</td>\n",
              "      <td>16008767658</td>\n",
              "    </tr>\n",
              "    <tr>\n",
              "      <th>1596</th>\n",
              "      <td>2022-03-24</td>\n",
              "      <td>3031.060791</td>\n",
              "      <td>3118.387695</td>\n",
              "      <td>3012.326660</td>\n",
              "      <td>3108.062012</td>\n",
              "      <td>3108.062012</td>\n",
              "      <td>18070503166</td>\n",
              "    </tr>\n",
              "    <tr>\n",
              "      <th>1597</th>\n",
              "      <td>2022-03-25</td>\n",
              "      <td>3109.523438</td>\n",
              "      <td>3182.826660</td>\n",
              "      <td>3097.624268</td>\n",
              "      <td>3122.535889</td>\n",
              "      <td>3122.535889</td>\n",
              "      <td>16882068480</td>\n",
              "    </tr>\n",
              "  </tbody>\n",
              "</table>\n",
              "</div>\n",
              "      <button class=\"colab-df-convert\" onclick=\"convertToInteractive('df-bfcbe515-40f0-4980-9b8a-987cc2fd24f2')\"\n",
              "              title=\"Convert this dataframe to an interactive table.\"\n",
              "              style=\"display:none;\">\n",
              "        \n",
              "  <svg xmlns=\"http://www.w3.org/2000/svg\" height=\"24px\"viewBox=\"0 0 24 24\"\n",
              "       width=\"24px\">\n",
              "    <path d=\"M0 0h24v24H0V0z\" fill=\"none\"/>\n",
              "    <path d=\"M18.56 5.44l.94 2.06.94-2.06 2.06-.94-2.06-.94-.94-2.06-.94 2.06-2.06.94zm-11 1L8.5 8.5l.94-2.06 2.06-.94-2.06-.94L8.5 2.5l-.94 2.06-2.06.94zm10 10l.94 2.06.94-2.06 2.06-.94-2.06-.94-.94-2.06-.94 2.06-2.06.94z\"/><path d=\"M17.41 7.96l-1.37-1.37c-.4-.4-.92-.59-1.43-.59-.52 0-1.04.2-1.43.59L10.3 9.45l-7.72 7.72c-.78.78-.78 2.05 0 2.83L4 21.41c.39.39.9.59 1.41.59.51 0 1.02-.2 1.41-.59l7.78-7.78 2.81-2.81c.8-.78.8-2.07 0-2.86zM5.41 20L4 18.59l7.72-7.72 1.47 1.35L5.41 20z\"/>\n",
              "  </svg>\n",
              "      </button>\n",
              "      \n",
              "  <style>\n",
              "    .colab-df-container {\n",
              "      display:flex;\n",
              "      flex-wrap:wrap;\n",
              "      gap: 12px;\n",
              "    }\n",
              "\n",
              "    .colab-df-convert {\n",
              "      background-color: #E8F0FE;\n",
              "      border: none;\n",
              "      border-radius: 50%;\n",
              "      cursor: pointer;\n",
              "      display: none;\n",
              "      fill: #1967D2;\n",
              "      height: 32px;\n",
              "      padding: 0 0 0 0;\n",
              "      width: 32px;\n",
              "    }\n",
              "\n",
              "    .colab-df-convert:hover {\n",
              "      background-color: #E2EBFA;\n",
              "      box-shadow: 0px 1px 2px rgba(60, 64, 67, 0.3), 0px 1px 3px 1px rgba(60, 64, 67, 0.15);\n",
              "      fill: #174EA6;\n",
              "    }\n",
              "\n",
              "    [theme=dark] .colab-df-convert {\n",
              "      background-color: #3B4455;\n",
              "      fill: #D2E3FC;\n",
              "    }\n",
              "\n",
              "    [theme=dark] .colab-df-convert:hover {\n",
              "      background-color: #434B5C;\n",
              "      box-shadow: 0px 1px 3px 1px rgba(0, 0, 0, 0.15);\n",
              "      filter: drop-shadow(0px 1px 2px rgba(0, 0, 0, 0.3));\n",
              "      fill: #FFFFFF;\n",
              "    }\n",
              "  </style>\n",
              "\n",
              "      <script>\n",
              "        const buttonEl =\n",
              "          document.querySelector('#df-bfcbe515-40f0-4980-9b8a-987cc2fd24f2 button.colab-df-convert');\n",
              "        buttonEl.style.display =\n",
              "          google.colab.kernel.accessAllowed ? 'block' : 'none';\n",
              "\n",
              "        async function convertToInteractive(key) {\n",
              "          const element = document.querySelector('#df-bfcbe515-40f0-4980-9b8a-987cc2fd24f2');\n",
              "          const dataTable =\n",
              "            await google.colab.kernel.invokeFunction('convertToInteractive',\n",
              "                                                     [key], {});\n",
              "          if (!dataTable) return;\n",
              "\n",
              "          const docLinkHtml = 'Like what you see? Visit the ' +\n",
              "            '<a target=\"_blank\" href=https://colab.research.google.com/notebooks/data_table.ipynb>data table notebook</a>'\n",
              "            + ' to learn more about interactive tables.';\n",
              "          element.innerHTML = '';\n",
              "          dataTable['output_type'] = 'display_data';\n",
              "          await google.colab.output.renderOutput(dataTable, element);\n",
              "          const docLink = document.createElement('div');\n",
              "          docLink.innerHTML = docLinkHtml;\n",
              "          element.appendChild(docLink);\n",
              "        }\n",
              "      </script>\n",
              "    </div>\n",
              "  </div>\n",
              "  "
            ]
          },
          "metadata": {},
          "execution_count": 10
        }
      ]
    },
    {
      "cell_type": "markdown",
      "source": [
        "Так как последний элемент обоих датасетов заканчивается одной и той же датой, то путем нехитрых вычислений выясним какой кусок датасета биткоина надо отрезать"
      ],
      "metadata": {
        "id": "i_Q2dfz9YudH"
      }
    },
    {
      "cell_type": "code",
      "source": [
        "2746 - 1597"
      ],
      "metadata": {
        "colab": {
          "base_uri": "https://localhost:8080/"
        },
        "id": "yStDK7bYYf1G",
        "outputId": "d0b7eb4a-e997-4d17-9ed1-72de8d971719"
      },
      "execution_count": 11,
      "outputs": [
        {
          "output_type": "execute_result",
          "data": {
            "text/plain": [
              "1149"
            ]
          },
          "metadata": {},
          "execution_count": 11
        }
      ]
    },
    {
      "cell_type": "code",
      "source": [
        "btc_df[1149:]"
      ],
      "metadata": {
        "colab": {
          "base_uri": "https://localhost:8080/",
          "height": 424
        },
        "id": "wNtpV0YoY9uW",
        "outputId": "febfd896-f85c-48a9-ac70-41d0c3a66785"
      },
      "execution_count": 12,
      "outputs": [
        {
          "output_type": "execute_result",
          "data": {
            "text/plain": [
              "            Date          Open          High           Low         Close  \\\n",
              "1149  2017-11-09   7446.830078   7446.830078   7101.520020   7143.580078   \n",
              "1150  2017-11-10   7173.729980   7312.000000   6436.870117   6618.140137   \n",
              "1151  2017-11-11   6618.609863   6873.149902   6204.220215   6357.600098   \n",
              "1152  2017-11-12   6295.450195   6625.049805   5519.009766   5950.069824   \n",
              "1153  2017-11-13   5938.250000   6811.189941   5844.290039   6559.490234   \n",
              "...          ...           ...           ...           ...           ...   \n",
              "2742  2022-03-21  41246.132813  41454.410156  40668.042969  41077.996094   \n",
              "2743  2022-03-22  41074.105469  43124.707031  40948.281250  42358.808594   \n",
              "2744  2022-03-23  42364.378906  42893.507813  41877.507813  42892.957031   \n",
              "2745  2022-03-24  42886.652344  44131.855469  42726.164063  43960.933594   \n",
              "2746  2022-03-25  43958.675781  44982.519531  43711.871094  44395.964844   \n",
              "\n",
              "         Adj Close       Volume  \n",
              "1149   7143.580078   3226249984  \n",
              "1150   6618.140137   5208249856  \n",
              "1151   6357.600098   4908680192  \n",
              "1152   5950.069824   8957349888  \n",
              "1153   6559.490234   6263249920  \n",
              "...            ...          ...  \n",
              "2742  41077.996094  24615543271  \n",
              "2743  42358.808594  32004652376  \n",
              "2744  42892.957031  25242943069  \n",
              "2745  43960.933594  31042992291  \n",
              "2746  44395.964844  30379415552  \n",
              "\n",
              "[1598 rows x 7 columns]"
            ],
            "text/html": [
              "\n",
              "  <div id=\"df-044f21ad-11d2-4d0e-afce-bf2226d2ab54\">\n",
              "    <div class=\"colab-df-container\">\n",
              "      <div>\n",
              "<style scoped>\n",
              "    .dataframe tbody tr th:only-of-type {\n",
              "        vertical-align: middle;\n",
              "    }\n",
              "\n",
              "    .dataframe tbody tr th {\n",
              "        vertical-align: top;\n",
              "    }\n",
              "\n",
              "    .dataframe thead th {\n",
              "        text-align: right;\n",
              "    }\n",
              "</style>\n",
              "<table border=\"1\" class=\"dataframe\">\n",
              "  <thead>\n",
              "    <tr style=\"text-align: right;\">\n",
              "      <th></th>\n",
              "      <th>Date</th>\n",
              "      <th>Open</th>\n",
              "      <th>High</th>\n",
              "      <th>Low</th>\n",
              "      <th>Close</th>\n",
              "      <th>Adj Close</th>\n",
              "      <th>Volume</th>\n",
              "    </tr>\n",
              "  </thead>\n",
              "  <tbody>\n",
              "    <tr>\n",
              "      <th>1149</th>\n",
              "      <td>2017-11-09</td>\n",
              "      <td>7446.830078</td>\n",
              "      <td>7446.830078</td>\n",
              "      <td>7101.520020</td>\n",
              "      <td>7143.580078</td>\n",
              "      <td>7143.580078</td>\n",
              "      <td>3226249984</td>\n",
              "    </tr>\n",
              "    <tr>\n",
              "      <th>1150</th>\n",
              "      <td>2017-11-10</td>\n",
              "      <td>7173.729980</td>\n",
              "      <td>7312.000000</td>\n",
              "      <td>6436.870117</td>\n",
              "      <td>6618.140137</td>\n",
              "      <td>6618.140137</td>\n",
              "      <td>5208249856</td>\n",
              "    </tr>\n",
              "    <tr>\n",
              "      <th>1151</th>\n",
              "      <td>2017-11-11</td>\n",
              "      <td>6618.609863</td>\n",
              "      <td>6873.149902</td>\n",
              "      <td>6204.220215</td>\n",
              "      <td>6357.600098</td>\n",
              "      <td>6357.600098</td>\n",
              "      <td>4908680192</td>\n",
              "    </tr>\n",
              "    <tr>\n",
              "      <th>1152</th>\n",
              "      <td>2017-11-12</td>\n",
              "      <td>6295.450195</td>\n",
              "      <td>6625.049805</td>\n",
              "      <td>5519.009766</td>\n",
              "      <td>5950.069824</td>\n",
              "      <td>5950.069824</td>\n",
              "      <td>8957349888</td>\n",
              "    </tr>\n",
              "    <tr>\n",
              "      <th>1153</th>\n",
              "      <td>2017-11-13</td>\n",
              "      <td>5938.250000</td>\n",
              "      <td>6811.189941</td>\n",
              "      <td>5844.290039</td>\n",
              "      <td>6559.490234</td>\n",
              "      <td>6559.490234</td>\n",
              "      <td>6263249920</td>\n",
              "    </tr>\n",
              "    <tr>\n",
              "      <th>...</th>\n",
              "      <td>...</td>\n",
              "      <td>...</td>\n",
              "      <td>...</td>\n",
              "      <td>...</td>\n",
              "      <td>...</td>\n",
              "      <td>...</td>\n",
              "      <td>...</td>\n",
              "    </tr>\n",
              "    <tr>\n",
              "      <th>2742</th>\n",
              "      <td>2022-03-21</td>\n",
              "      <td>41246.132813</td>\n",
              "      <td>41454.410156</td>\n",
              "      <td>40668.042969</td>\n",
              "      <td>41077.996094</td>\n",
              "      <td>41077.996094</td>\n",
              "      <td>24615543271</td>\n",
              "    </tr>\n",
              "    <tr>\n",
              "      <th>2743</th>\n",
              "      <td>2022-03-22</td>\n",
              "      <td>41074.105469</td>\n",
              "      <td>43124.707031</td>\n",
              "      <td>40948.281250</td>\n",
              "      <td>42358.808594</td>\n",
              "      <td>42358.808594</td>\n",
              "      <td>32004652376</td>\n",
              "    </tr>\n",
              "    <tr>\n",
              "      <th>2744</th>\n",
              "      <td>2022-03-23</td>\n",
              "      <td>42364.378906</td>\n",
              "      <td>42893.507813</td>\n",
              "      <td>41877.507813</td>\n",
              "      <td>42892.957031</td>\n",
              "      <td>42892.957031</td>\n",
              "      <td>25242943069</td>\n",
              "    </tr>\n",
              "    <tr>\n",
              "      <th>2745</th>\n",
              "      <td>2022-03-24</td>\n",
              "      <td>42886.652344</td>\n",
              "      <td>44131.855469</td>\n",
              "      <td>42726.164063</td>\n",
              "      <td>43960.933594</td>\n",
              "      <td>43960.933594</td>\n",
              "      <td>31042992291</td>\n",
              "    </tr>\n",
              "    <tr>\n",
              "      <th>2746</th>\n",
              "      <td>2022-03-25</td>\n",
              "      <td>43958.675781</td>\n",
              "      <td>44982.519531</td>\n",
              "      <td>43711.871094</td>\n",
              "      <td>44395.964844</td>\n",
              "      <td>44395.964844</td>\n",
              "      <td>30379415552</td>\n",
              "    </tr>\n",
              "  </tbody>\n",
              "</table>\n",
              "<p>1598 rows × 7 columns</p>\n",
              "</div>\n",
              "      <button class=\"colab-df-convert\" onclick=\"convertToInteractive('df-044f21ad-11d2-4d0e-afce-bf2226d2ab54')\"\n",
              "              title=\"Convert this dataframe to an interactive table.\"\n",
              "              style=\"display:none;\">\n",
              "        \n",
              "  <svg xmlns=\"http://www.w3.org/2000/svg\" height=\"24px\"viewBox=\"0 0 24 24\"\n",
              "       width=\"24px\">\n",
              "    <path d=\"M0 0h24v24H0V0z\" fill=\"none\"/>\n",
              "    <path d=\"M18.56 5.44l.94 2.06.94-2.06 2.06-.94-2.06-.94-.94-2.06-.94 2.06-2.06.94zm-11 1L8.5 8.5l.94-2.06 2.06-.94-2.06-.94L8.5 2.5l-.94 2.06-2.06.94zm10 10l.94 2.06.94-2.06 2.06-.94-2.06-.94-.94-2.06-.94 2.06-2.06.94z\"/><path d=\"M17.41 7.96l-1.37-1.37c-.4-.4-.92-.59-1.43-.59-.52 0-1.04.2-1.43.59L10.3 9.45l-7.72 7.72c-.78.78-.78 2.05 0 2.83L4 21.41c.39.39.9.59 1.41.59.51 0 1.02-.2 1.41-.59l7.78-7.78 2.81-2.81c.8-.78.8-2.07 0-2.86zM5.41 20L4 18.59l7.72-7.72 1.47 1.35L5.41 20z\"/>\n",
              "  </svg>\n",
              "      </button>\n",
              "      \n",
              "  <style>\n",
              "    .colab-df-container {\n",
              "      display:flex;\n",
              "      flex-wrap:wrap;\n",
              "      gap: 12px;\n",
              "    }\n",
              "\n",
              "    .colab-df-convert {\n",
              "      background-color: #E8F0FE;\n",
              "      border: none;\n",
              "      border-radius: 50%;\n",
              "      cursor: pointer;\n",
              "      display: none;\n",
              "      fill: #1967D2;\n",
              "      height: 32px;\n",
              "      padding: 0 0 0 0;\n",
              "      width: 32px;\n",
              "    }\n",
              "\n",
              "    .colab-df-convert:hover {\n",
              "      background-color: #E2EBFA;\n",
              "      box-shadow: 0px 1px 2px rgba(60, 64, 67, 0.3), 0px 1px 3px 1px rgba(60, 64, 67, 0.15);\n",
              "      fill: #174EA6;\n",
              "    }\n",
              "\n",
              "    [theme=dark] .colab-df-convert {\n",
              "      background-color: #3B4455;\n",
              "      fill: #D2E3FC;\n",
              "    }\n",
              "\n",
              "    [theme=dark] .colab-df-convert:hover {\n",
              "      background-color: #434B5C;\n",
              "      box-shadow: 0px 1px 3px 1px rgba(0, 0, 0, 0.15);\n",
              "      filter: drop-shadow(0px 1px 2px rgba(0, 0, 0, 0.3));\n",
              "      fill: #FFFFFF;\n",
              "    }\n",
              "  </style>\n",
              "\n",
              "      <script>\n",
              "        const buttonEl =\n",
              "          document.querySelector('#df-044f21ad-11d2-4d0e-afce-bf2226d2ab54 button.colab-df-convert');\n",
              "        buttonEl.style.display =\n",
              "          google.colab.kernel.accessAllowed ? 'block' : 'none';\n",
              "\n",
              "        async function convertToInteractive(key) {\n",
              "          const element = document.querySelector('#df-044f21ad-11d2-4d0e-afce-bf2226d2ab54');\n",
              "          const dataTable =\n",
              "            await google.colab.kernel.invokeFunction('convertToInteractive',\n",
              "                                                     [key], {});\n",
              "          if (!dataTable) return;\n",
              "\n",
              "          const docLinkHtml = 'Like what you see? Visit the ' +\n",
              "            '<a target=\"_blank\" href=https://colab.research.google.com/notebooks/data_table.ipynb>data table notebook</a>'\n",
              "            + ' to learn more about interactive tables.';\n",
              "          element.innerHTML = '';\n",
              "          dataTable['output_type'] = 'display_data';\n",
              "          await google.colab.output.renderOutput(dataTable, element);\n",
              "          const docLink = document.createElement('div');\n",
              "          docLink.innerHTML = docLinkHtml;\n",
              "          element.appendChild(docLink);\n",
              "        }\n",
              "      </script>\n",
              "    </div>\n",
              "  </div>\n",
              "  "
            ]
          },
          "metadata": {},
          "execution_count": 12
        }
      ]
    },
    {
      "cell_type": "code",
      "source": [
        "btc_df = btc_df[1149:]\n",
        "\n",
        "btc_df.head()\n"
      ],
      "metadata": {
        "colab": {
          "base_uri": "https://localhost:8080/",
          "height": 206
        },
        "id": "F4_UiEJcZD-3",
        "outputId": "df1de99a-97d3-4171-9af4-e5d1c104b3e6"
      },
      "execution_count": 13,
      "outputs": [
        {
          "output_type": "execute_result",
          "data": {
            "text/plain": [
              "            Date         Open         High          Low        Close  \\\n",
              "1149  2017-11-09  7446.830078  7446.830078  7101.520020  7143.580078   \n",
              "1150  2017-11-10  7173.729980  7312.000000  6436.870117  6618.140137   \n",
              "1151  2017-11-11  6618.609863  6873.149902  6204.220215  6357.600098   \n",
              "1152  2017-11-12  6295.450195  6625.049805  5519.009766  5950.069824   \n",
              "1153  2017-11-13  5938.250000  6811.189941  5844.290039  6559.490234   \n",
              "\n",
              "        Adj Close      Volume  \n",
              "1149  7143.580078  3226249984  \n",
              "1150  6618.140137  5208249856  \n",
              "1151  6357.600098  4908680192  \n",
              "1152  5950.069824  8957349888  \n",
              "1153  6559.490234  6263249920  "
            ],
            "text/html": [
              "\n",
              "  <div id=\"df-16c1735c-5fb9-43ec-8bdb-1162545d79a5\">\n",
              "    <div class=\"colab-df-container\">\n",
              "      <div>\n",
              "<style scoped>\n",
              "    .dataframe tbody tr th:only-of-type {\n",
              "        vertical-align: middle;\n",
              "    }\n",
              "\n",
              "    .dataframe tbody tr th {\n",
              "        vertical-align: top;\n",
              "    }\n",
              "\n",
              "    .dataframe thead th {\n",
              "        text-align: right;\n",
              "    }\n",
              "</style>\n",
              "<table border=\"1\" class=\"dataframe\">\n",
              "  <thead>\n",
              "    <tr style=\"text-align: right;\">\n",
              "      <th></th>\n",
              "      <th>Date</th>\n",
              "      <th>Open</th>\n",
              "      <th>High</th>\n",
              "      <th>Low</th>\n",
              "      <th>Close</th>\n",
              "      <th>Adj Close</th>\n",
              "      <th>Volume</th>\n",
              "    </tr>\n",
              "  </thead>\n",
              "  <tbody>\n",
              "    <tr>\n",
              "      <th>1149</th>\n",
              "      <td>2017-11-09</td>\n",
              "      <td>7446.830078</td>\n",
              "      <td>7446.830078</td>\n",
              "      <td>7101.520020</td>\n",
              "      <td>7143.580078</td>\n",
              "      <td>7143.580078</td>\n",
              "      <td>3226249984</td>\n",
              "    </tr>\n",
              "    <tr>\n",
              "      <th>1150</th>\n",
              "      <td>2017-11-10</td>\n",
              "      <td>7173.729980</td>\n",
              "      <td>7312.000000</td>\n",
              "      <td>6436.870117</td>\n",
              "      <td>6618.140137</td>\n",
              "      <td>6618.140137</td>\n",
              "      <td>5208249856</td>\n",
              "    </tr>\n",
              "    <tr>\n",
              "      <th>1151</th>\n",
              "      <td>2017-11-11</td>\n",
              "      <td>6618.609863</td>\n",
              "      <td>6873.149902</td>\n",
              "      <td>6204.220215</td>\n",
              "      <td>6357.600098</td>\n",
              "      <td>6357.600098</td>\n",
              "      <td>4908680192</td>\n",
              "    </tr>\n",
              "    <tr>\n",
              "      <th>1152</th>\n",
              "      <td>2017-11-12</td>\n",
              "      <td>6295.450195</td>\n",
              "      <td>6625.049805</td>\n",
              "      <td>5519.009766</td>\n",
              "      <td>5950.069824</td>\n",
              "      <td>5950.069824</td>\n",
              "      <td>8957349888</td>\n",
              "    </tr>\n",
              "    <tr>\n",
              "      <th>1153</th>\n",
              "      <td>2017-11-13</td>\n",
              "      <td>5938.250000</td>\n",
              "      <td>6811.189941</td>\n",
              "      <td>5844.290039</td>\n",
              "      <td>6559.490234</td>\n",
              "      <td>6559.490234</td>\n",
              "      <td>6263249920</td>\n",
              "    </tr>\n",
              "  </tbody>\n",
              "</table>\n",
              "</div>\n",
              "      <button class=\"colab-df-convert\" onclick=\"convertToInteractive('df-16c1735c-5fb9-43ec-8bdb-1162545d79a5')\"\n",
              "              title=\"Convert this dataframe to an interactive table.\"\n",
              "              style=\"display:none;\">\n",
              "        \n",
              "  <svg xmlns=\"http://www.w3.org/2000/svg\" height=\"24px\"viewBox=\"0 0 24 24\"\n",
              "       width=\"24px\">\n",
              "    <path d=\"M0 0h24v24H0V0z\" fill=\"none\"/>\n",
              "    <path d=\"M18.56 5.44l.94 2.06.94-2.06 2.06-.94-2.06-.94-.94-2.06-.94 2.06-2.06.94zm-11 1L8.5 8.5l.94-2.06 2.06-.94-2.06-.94L8.5 2.5l-.94 2.06-2.06.94zm10 10l.94 2.06.94-2.06 2.06-.94-2.06-.94-.94-2.06-.94 2.06-2.06.94z\"/><path d=\"M17.41 7.96l-1.37-1.37c-.4-.4-.92-.59-1.43-.59-.52 0-1.04.2-1.43.59L10.3 9.45l-7.72 7.72c-.78.78-.78 2.05 0 2.83L4 21.41c.39.39.9.59 1.41.59.51 0 1.02-.2 1.41-.59l7.78-7.78 2.81-2.81c.8-.78.8-2.07 0-2.86zM5.41 20L4 18.59l7.72-7.72 1.47 1.35L5.41 20z\"/>\n",
              "  </svg>\n",
              "      </button>\n",
              "      \n",
              "  <style>\n",
              "    .colab-df-container {\n",
              "      display:flex;\n",
              "      flex-wrap:wrap;\n",
              "      gap: 12px;\n",
              "    }\n",
              "\n",
              "    .colab-df-convert {\n",
              "      background-color: #E8F0FE;\n",
              "      border: none;\n",
              "      border-radius: 50%;\n",
              "      cursor: pointer;\n",
              "      display: none;\n",
              "      fill: #1967D2;\n",
              "      height: 32px;\n",
              "      padding: 0 0 0 0;\n",
              "      width: 32px;\n",
              "    }\n",
              "\n",
              "    .colab-df-convert:hover {\n",
              "      background-color: #E2EBFA;\n",
              "      box-shadow: 0px 1px 2px rgba(60, 64, 67, 0.3), 0px 1px 3px 1px rgba(60, 64, 67, 0.15);\n",
              "      fill: #174EA6;\n",
              "    }\n",
              "\n",
              "    [theme=dark] .colab-df-convert {\n",
              "      background-color: #3B4455;\n",
              "      fill: #D2E3FC;\n",
              "    }\n",
              "\n",
              "    [theme=dark] .colab-df-convert:hover {\n",
              "      background-color: #434B5C;\n",
              "      box-shadow: 0px 1px 3px 1px rgba(0, 0, 0, 0.15);\n",
              "      filter: drop-shadow(0px 1px 2px rgba(0, 0, 0, 0.3));\n",
              "      fill: #FFFFFF;\n",
              "    }\n",
              "  </style>\n",
              "\n",
              "      <script>\n",
              "        const buttonEl =\n",
              "          document.querySelector('#df-16c1735c-5fb9-43ec-8bdb-1162545d79a5 button.colab-df-convert');\n",
              "        buttonEl.style.display =\n",
              "          google.colab.kernel.accessAllowed ? 'block' : 'none';\n",
              "\n",
              "        async function convertToInteractive(key) {\n",
              "          const element = document.querySelector('#df-16c1735c-5fb9-43ec-8bdb-1162545d79a5');\n",
              "          const dataTable =\n",
              "            await google.colab.kernel.invokeFunction('convertToInteractive',\n",
              "                                                     [key], {});\n",
              "          if (!dataTable) return;\n",
              "\n",
              "          const docLinkHtml = 'Like what you see? Visit the ' +\n",
              "            '<a target=\"_blank\" href=https://colab.research.google.com/notebooks/data_table.ipynb>data table notebook</a>'\n",
              "            + ' to learn more about interactive tables.';\n",
              "          element.innerHTML = '';\n",
              "          dataTable['output_type'] = 'display_data';\n",
              "          await google.colab.output.renderOutput(dataTable, element);\n",
              "          const docLink = document.createElement('div');\n",
              "          docLink.innerHTML = docLinkHtml;\n",
              "          element.appendChild(docLink);\n",
              "        }\n",
              "      </script>\n",
              "    </div>\n",
              "  </div>\n",
              "  "
            ]
          },
          "metadata": {},
          "execution_count": 13
        }
      ]
    },
    {
      "cell_type": "code",
      "source": [
        "btc_df.shape"
      ],
      "metadata": {
        "colab": {
          "base_uri": "https://localhost:8080/"
        },
        "id": "XFTtLtBZZlQn",
        "outputId": "308adda1-cd00-4d47-a7f7-9c4e7a73adcb"
      },
      "execution_count": 14,
      "outputs": [
        {
          "output_type": "execute_result",
          "data": {
            "text/plain": [
              "(1598, 7)"
            ]
          },
          "metadata": {},
          "execution_count": 14
        }
      ]
    },
    {
      "cell_type": "code",
      "source": [
        "eth_df.shape"
      ],
      "metadata": {
        "colab": {
          "base_uri": "https://localhost:8080/"
        },
        "id": "p-ESxE8cZvZm",
        "outputId": "ab7d257b-6531-4e68-a472-4db410a22923"
      },
      "execution_count": 15,
      "outputs": [
        {
          "output_type": "execute_result",
          "data": {
            "text/plain": [
              "(1598, 7)"
            ]
          },
          "metadata": {},
          "execution_count": 15
        }
      ]
    },
    {
      "cell_type": "markdown",
      "source": [
        "# Статистический анализ биткоина\n"
      ],
      "metadata": {
        "id": "aPCBvjBGB_Jh"
      }
    },
    {
      "cell_type": "markdown",
      "source": [
        "За основной показатель возьмем цену на закрытии биржи, кроме того интерес вызывает объем торгов(то есть volume), проанализируем основные статистические показатели."
      ],
      "metadata": {
        "id": "Xt7lc9g5CG6w"
      }
    },
    {
      "cell_type": "markdown",
      "source": [
        "Среднее значение:"
      ],
      "metadata": {
        "id": "FwsoCm17ETWH"
      }
    },
    {
      "cell_type": "code",
      "source": [
        "mean_close = btc_df['Close'].sum() / btc_df['Close'].count()\n",
        "mean_close"
      ],
      "metadata": {
        "colab": {
          "base_uri": "https://localhost:8080/"
        },
        "id": "GVMJVW1RCE9_",
        "outputId": "a179364d-b19f-443b-cf3f-622ab440403a"
      },
      "execution_count": 16,
      "outputs": [
        {
          "output_type": "execute_result",
          "data": {
            "text/plain": [
              "19359.002364138294"
            ]
          },
          "metadata": {},
          "execution_count": 16
        }
      ]
    },
    {
      "cell_type": "code",
      "source": [
        "mean_volume = btc_df['Volume'].sum() / btc_df['Volume'].count()\n",
        "mean_volume"
      ],
      "metadata": {
        "colab": {
          "base_uri": "https://localhost:8080/"
        },
        "id": "CrGW13CnEWd1",
        "outputId": "e1ff8cec-62b2-498c-f3e8-44f6e1fb4b42"
      },
      "execution_count": 17,
      "outputs": [
        {
          "output_type": "execute_result",
          "data": {
            "text/plain": [
              "25277843551.71339"
            ]
          },
          "metadata": {},
          "execution_count": 17
        }
      ]
    },
    {
      "cell_type": "markdown",
      "source": [
        "Среднеквадратическое отклонение:"
      ],
      "metadata": {
        "id": "Yxdop9BzEyX-"
      }
    },
    {
      "cell_type": "code",
      "source": [
        "close_std = np.sqrt(((btc_df['Close'] - btc_df['Close'].mean()) ** 2).sum() / btc_df['Close'].count())\n",
        "close_std"
      ],
      "metadata": {
        "colab": {
          "base_uri": "https://localhost:8080/"
        },
        "id": "NuDm-AfsEx7t",
        "outputId": "65dc1750-4bd6-4023-d9f6-ab482ca1d2bb"
      },
      "execution_count": 18,
      "outputs": [
        {
          "output_type": "execute_result",
          "data": {
            "text/plain": [
              "17780.779008190195"
            ]
          },
          "metadata": {},
          "execution_count": 18
        }
      ]
    },
    {
      "cell_type": "code",
      "source": [
        "volume_std = np.sqrt(((btc_df['Volume'] - btc_df['Volume'].mean()) ** 2).sum() / btc_df['Volume'].count())\n",
        "volume_std"
      ],
      "metadata": {
        "colab": {
          "base_uri": "https://localhost:8080/"
        },
        "id": "jO5mSl_yFWh3",
        "outputId": "9629d26d-b1e4-4c74-ae88-a0c0b66a201d"
      },
      "execution_count": 19,
      "outputs": [
        {
          "output_type": "execute_result",
          "data": {
            "text/plain": [
              "20575824986.445522"
            ]
          },
          "metadata": {},
          "execution_count": 19
        }
      ]
    },
    {
      "cell_type": "code",
      "source": [
        "btc_df['Close'].std(ddof=0), btc_df['Volume'].std(ddof=0)"
      ],
      "metadata": {
        "colab": {
          "base_uri": "https://localhost:8080/"
        },
        "id": "wMQaimFHFnPg",
        "outputId": "402053fd-b391-4504-c443-68aec871662b"
      },
      "execution_count": 20,
      "outputs": [
        {
          "output_type": "execute_result",
          "data": {
            "text/plain": [
              "(17780.779008190195, 20575824986.445522)"
            ]
          },
          "metadata": {},
          "execution_count": 20
        }
      ]
    },
    {
      "cell_type": "markdown",
      "source": [
        "Дисперсия смещенная и несмещенная:"
      ],
      "metadata": {
        "id": "_uStuSxXGI5Y"
      }
    },
    {
      "cell_type": "code",
      "source": [
        "close_disp = ((btc_df['Close'] - btc_df['Close'].mean()) ** 2).sum() / btc_df['Close'].count()\n",
        "close_disp"
      ],
      "metadata": {
        "colab": {
          "base_uri": "https://localhost:8080/"
        },
        "id": "uRHxicM4GMr8",
        "outputId": "7bd87afd-66b8-44e9-b5ac-a895bcf5d4f8"
      },
      "execution_count": 21,
      "outputs": [
        {
          "output_type": "execute_result",
          "data": {
            "text/plain": [
              "316156102.1380971"
            ]
          },
          "metadata": {},
          "execution_count": 21
        }
      ]
    },
    {
      "cell_type": "code",
      "source": [
        "close_disp2 = ((btc_df['Close'] - btc_df['Close'].mean()) ** 2).sum() / (btc_df['Close'].count() - 1)\n",
        "close_disp2"
      ],
      "metadata": {
        "colab": {
          "base_uri": "https://localhost:8080/"
        },
        "id": "tptIMUdoGaEi",
        "outputId": "c7f4cd4b-34f7-4475-e1bf-6dc504faa97d"
      },
      "execution_count": 22,
      "outputs": [
        {
          "output_type": "execute_result",
          "data": {
            "text/plain": [
              "316354070.89334947"
            ]
          },
          "metadata": {},
          "execution_count": 22
        }
      ]
    },
    {
      "cell_type": "code",
      "source": [
        "btc_df['Close'].var(ddof=0), btc_df['Close'].var(ddof=1)"
      ],
      "metadata": {
        "colab": {
          "base_uri": "https://localhost:8080/"
        },
        "id": "d4ENnUhYGnVg",
        "outputId": "8ea771bc-b49e-4a36-8621-e73dc5489f0c"
      },
      "execution_count": 23,
      "outputs": [
        {
          "output_type": "execute_result",
          "data": {
            "text/plain": [
              "(316156102.1380971, 316354070.89334947)"
            ]
          },
          "metadata": {},
          "execution_count": 23
        }
      ]
    },
    {
      "cell_type": "markdown",
      "source": [
        "Теперь посмотрим основные статистические показатели:"
      ],
      "metadata": {
        "id": "9MzN7YttG-y5"
      }
    },
    {
      "cell_type": "code",
      "source": [
        "btc_df['Close'].describe()"
      ],
      "metadata": {
        "colab": {
          "base_uri": "https://localhost:8080/"
        },
        "id": "F4hMhN_sHL4x",
        "outputId": "7b76b0a0-3e5f-40cf-92a7-e0a9f95de130"
      },
      "execution_count": 24,
      "outputs": [
        {
          "output_type": "execute_result",
          "data": {
            "text/plain": [
              "count     1598.000000\n",
              "mean     19359.002364\n",
              "std      17786.345068\n",
              "min       3236.761719\n",
              "25%       7277.131958\n",
              "50%       9756.196778\n",
              "75%      34641.250000\n",
              "max      67566.828125\n",
              "Name: Close, dtype: float64"
            ]
          },
          "metadata": {},
          "execution_count": 24
        }
      ]
    },
    {
      "cell_type": "code",
      "source": [
        "btc_df['Close'].mode()"
      ],
      "metadata": {
        "colab": {
          "base_uri": "https://localhost:8080/"
        },
        "id": "2ZcAbzJ8Kxxr",
        "outputId": "a30dd71a-4970-45fb-ea3b-12fd96afb8fb"
      },
      "execution_count": 25,
      "outputs": [
        {
          "output_type": "execute_result",
          "data": {
            "text/plain": [
              "0    6741.75\n",
              "dtype: float64"
            ]
          },
          "metadata": {},
          "execution_count": 25
        }
      ]
    },
    {
      "cell_type": "markdown",
      "source": [
        "Итак, мы наблюдаем, что разброс между минимальным и максимальным значением весьма значительный, о чем и свидетельствует вышеупомянутое среднеквадратическое отклонение"
      ],
      "metadata": {
        "id": "Zjlg-CceHh0e"
      }
    },
    {
      "cell_type": "markdown",
      "source": [
        "Далее графически изобразим нашу выборку:"
      ],
      "metadata": {
        "id": "mqCWE8KtIB8w"
      }
    },
    {
      "cell_type": "code",
      "source": [
        "sns.boxplot(btc_df['Close'], orient = 'v')\n",
        "plt.show()"
      ],
      "metadata": {
        "colab": {
          "base_uri": "https://localhost:8080/",
          "height": 371
        },
        "id": "h-Wsm-_cINcV",
        "outputId": "d5425ee2-4ae0-48b7-fe1a-1d6bfa13e1e6"
      },
      "execution_count": 26,
      "outputs": [
        {
          "output_type": "display_data",
          "data": {
            "text/plain": [
              "<Figure size 432x288 with 1 Axes>"
            ],
            "image/svg+xml": "<?xml version=\"1.0\" encoding=\"utf-8\" standalone=\"no\"?>\n<!DOCTYPE svg PUBLIC \"-//W3C//DTD SVG 1.1//EN\"\n  \"http://www.w3.org/Graphics/SVG/1.1/DTD/svg11.dtd\">\n<!-- Created with matplotlib (https://matplotlib.org/) -->\n<svg height=\"262.19625pt\" version=\"1.1\" viewBox=\"0 0 364.900089 262.19625\" width=\"364.900089pt\" xmlns=\"http://www.w3.org/2000/svg\" xmlns:xlink=\"http://www.w3.org/1999/xlink\">\n <defs>\n  <style type=\"text/css\">\n*{stroke-linecap:butt;stroke-linejoin:round;}\n  </style>\n </defs>\n <g id=\"figure_1\">\n  <g id=\"patch_1\">\n   <path d=\"M 0 262.19625 \nL 364.900089 262.19625 \nL 364.900089 0 \nL 0 0 \nz\n\" style=\"fill:none;\"/>\n  </g>\n  <g id=\"axes_1\">\n   <g id=\"patch_2\">\n    <path d=\"M 10.7 224.64 \nL 345.5 224.64 \nL 345.5 7.2 \nL 10.7 7.2 \nz\n\" style=\"fill:#ffffff;\"/>\n   </g>\n   <g id=\"patch_3\">\n    <path clip-path=\"url(#p6f81f9a493)\" d=\"M 45.03431 28.944 \nL 45.03431 202.896 \nL 174.501648 202.896 \nL 174.501648 28.944 \nL 45.03431 28.944 \nz\n\" style=\"fill:#3274a1;stroke:#3f3f3f;stroke-linejoin:miter;stroke-width:1.5;\"/>\n   </g>\n   <g id=\"matplotlib.axis_1\">\n    <g id=\"xtick_1\">\n     <g id=\"line2d_1\">\n      <defs>\n       <path d=\"M 0 0 \nL 0 3.5 \n\" id=\"m1016b1769e\" style=\"stroke:#000000;stroke-width:0.8;\"/>\n      </defs>\n      <g>\n       <use style=\"stroke:#000000;stroke-width:0.8;\" x=\"57.916964\" xlink:href=\"#m1016b1769e\" y=\"224.64\"/>\n      </g>\n     </g>\n     <g id=\"text_1\">\n      <!-- 10000 -->\n      <defs>\n       <path d=\"M 12.40625 8.296875 \nL 28.515625 8.296875 \nL 28.515625 63.921875 \nL 10.984375 60.40625 \nL 10.984375 69.390625 \nL 28.421875 72.90625 \nL 38.28125 72.90625 \nL 38.28125 8.296875 \nL 54.390625 8.296875 \nL 54.390625 0 \nL 12.40625 0 \nz\n\" id=\"DejaVuSans-49\"/>\n       <path d=\"M 31.78125 66.40625 \nQ 24.171875 66.40625 20.328125 58.90625 \nQ 16.5 51.421875 16.5 36.375 \nQ 16.5 21.390625 20.328125 13.890625 \nQ 24.171875 6.390625 31.78125 6.390625 \nQ 39.453125 6.390625 43.28125 13.890625 \nQ 47.125 21.390625 47.125 36.375 \nQ 47.125 51.421875 43.28125 58.90625 \nQ 39.453125 66.40625 31.78125 66.40625 \nz\nM 31.78125 74.21875 \nQ 44.046875 74.21875 50.515625 64.515625 \nQ 56.984375 54.828125 56.984375 36.375 \nQ 56.984375 17.96875 50.515625 8.265625 \nQ 44.046875 -1.421875 31.78125 -1.421875 \nQ 19.53125 -1.421875 13.0625 8.265625 \nQ 6.59375 17.96875 6.59375 36.375 \nQ 6.59375 54.828125 13.0625 64.515625 \nQ 19.53125 74.21875 31.78125 74.21875 \nz\n\" id=\"DejaVuSans-48\"/>\n      </defs>\n      <g transform=\"translate(42.010714 239.238437)scale(0.1 -0.1)\">\n       <use xlink:href=\"#DejaVuSans-49\"/>\n       <use x=\"63.623047\" xlink:href=\"#DejaVuSans-48\"/>\n       <use x=\"127.246094\" xlink:href=\"#DejaVuSans-48\"/>\n       <use x=\"190.869141\" xlink:href=\"#DejaVuSans-48\"/>\n       <use x=\"254.492188\" xlink:href=\"#DejaVuSans-48\"/>\n      </g>\n     </g>\n    </g>\n    <g id=\"xtick_2\">\n     <g id=\"line2d_2\">\n      <g>\n       <use style=\"stroke:#000000;stroke-width:0.8;\" x=\"105.229777\" xlink:href=\"#m1016b1769e\" y=\"224.64\"/>\n      </g>\n     </g>\n     <g id=\"text_2\">\n      <!-- 20000 -->\n      <defs>\n       <path d=\"M 19.1875 8.296875 \nL 53.609375 8.296875 \nL 53.609375 0 \nL 7.328125 0 \nL 7.328125 8.296875 \nQ 12.9375 14.109375 22.625 23.890625 \nQ 32.328125 33.6875 34.8125 36.53125 \nQ 39.546875 41.84375 41.421875 45.53125 \nQ 43.3125 49.21875 43.3125 52.78125 \nQ 43.3125 58.59375 39.234375 62.25 \nQ 35.15625 65.921875 28.609375 65.921875 \nQ 23.96875 65.921875 18.8125 64.3125 \nQ 13.671875 62.703125 7.8125 59.421875 \nL 7.8125 69.390625 \nQ 13.765625 71.78125 18.9375 73 \nQ 24.125 74.21875 28.421875 74.21875 \nQ 39.75 74.21875 46.484375 68.546875 \nQ 53.21875 62.890625 53.21875 53.421875 \nQ 53.21875 48.921875 51.53125 44.890625 \nQ 49.859375 40.875 45.40625 35.40625 \nQ 44.1875 33.984375 37.640625 27.21875 \nQ 31.109375 20.453125 19.1875 8.296875 \nz\n\" id=\"DejaVuSans-50\"/>\n      </defs>\n      <g transform=\"translate(89.323527 239.238437)scale(0.1 -0.1)\">\n       <use xlink:href=\"#DejaVuSans-50\"/>\n       <use x=\"63.623047\" xlink:href=\"#DejaVuSans-48\"/>\n       <use x=\"127.246094\" xlink:href=\"#DejaVuSans-48\"/>\n       <use x=\"190.869141\" xlink:href=\"#DejaVuSans-48\"/>\n       <use x=\"254.492188\" xlink:href=\"#DejaVuSans-48\"/>\n      </g>\n     </g>\n    </g>\n    <g id=\"xtick_3\">\n     <g id=\"line2d_3\">\n      <g>\n       <use style=\"stroke:#000000;stroke-width:0.8;\" x=\"152.542589\" xlink:href=\"#m1016b1769e\" y=\"224.64\"/>\n      </g>\n     </g>\n     <g id=\"text_3\">\n      <!-- 30000 -->\n      <defs>\n       <path d=\"M 40.578125 39.3125 \nQ 47.65625 37.796875 51.625 33 \nQ 55.609375 28.21875 55.609375 21.1875 \nQ 55.609375 10.40625 48.1875 4.484375 \nQ 40.765625 -1.421875 27.09375 -1.421875 \nQ 22.515625 -1.421875 17.65625 -0.515625 \nQ 12.796875 0.390625 7.625 2.203125 \nL 7.625 11.71875 \nQ 11.71875 9.328125 16.59375 8.109375 \nQ 21.484375 6.890625 26.8125 6.890625 \nQ 36.078125 6.890625 40.9375 10.546875 \nQ 45.796875 14.203125 45.796875 21.1875 \nQ 45.796875 27.640625 41.28125 31.265625 \nQ 36.765625 34.90625 28.71875 34.90625 \nL 20.21875 34.90625 \nL 20.21875 43.015625 \nL 29.109375 43.015625 \nQ 36.375 43.015625 40.234375 45.921875 \nQ 44.09375 48.828125 44.09375 54.296875 \nQ 44.09375 59.90625 40.109375 62.90625 \nQ 36.140625 65.921875 28.71875 65.921875 \nQ 24.65625 65.921875 20.015625 65.03125 \nQ 15.375 64.15625 9.8125 62.3125 \nL 9.8125 71.09375 \nQ 15.4375 72.65625 20.34375 73.4375 \nQ 25.25 74.21875 29.59375 74.21875 \nQ 40.828125 74.21875 47.359375 69.109375 \nQ 53.90625 64.015625 53.90625 55.328125 \nQ 53.90625 49.265625 50.4375 45.09375 \nQ 46.96875 40.921875 40.578125 39.3125 \nz\n\" id=\"DejaVuSans-51\"/>\n      </defs>\n      <g transform=\"translate(136.636339 239.238437)scale(0.1 -0.1)\">\n       <use xlink:href=\"#DejaVuSans-51\"/>\n       <use x=\"63.623047\" xlink:href=\"#DejaVuSans-48\"/>\n       <use x=\"127.246094\" xlink:href=\"#DejaVuSans-48\"/>\n       <use x=\"190.869141\" xlink:href=\"#DejaVuSans-48\"/>\n       <use x=\"254.492188\" xlink:href=\"#DejaVuSans-48\"/>\n      </g>\n     </g>\n    </g>\n    <g id=\"xtick_4\">\n     <g id=\"line2d_4\">\n      <g>\n       <use style=\"stroke:#000000;stroke-width:0.8;\" x=\"199.855401\" xlink:href=\"#m1016b1769e\" y=\"224.64\"/>\n      </g>\n     </g>\n     <g id=\"text_4\">\n      <!-- 40000 -->\n      <defs>\n       <path d=\"M 37.796875 64.3125 \nL 12.890625 25.390625 \nL 37.796875 25.390625 \nz\nM 35.203125 72.90625 \nL 47.609375 72.90625 \nL 47.609375 25.390625 \nL 58.015625 25.390625 \nL 58.015625 17.1875 \nL 47.609375 17.1875 \nL 47.609375 0 \nL 37.796875 0 \nL 37.796875 17.1875 \nL 4.890625 17.1875 \nL 4.890625 26.703125 \nz\n\" id=\"DejaVuSans-52\"/>\n      </defs>\n      <g transform=\"translate(183.949151 239.238437)scale(0.1 -0.1)\">\n       <use xlink:href=\"#DejaVuSans-52\"/>\n       <use x=\"63.623047\" xlink:href=\"#DejaVuSans-48\"/>\n       <use x=\"127.246094\" xlink:href=\"#DejaVuSans-48\"/>\n       <use x=\"190.869141\" xlink:href=\"#DejaVuSans-48\"/>\n       <use x=\"254.492188\" xlink:href=\"#DejaVuSans-48\"/>\n      </g>\n     </g>\n    </g>\n    <g id=\"xtick_5\">\n     <g id=\"line2d_5\">\n      <g>\n       <use style=\"stroke:#000000;stroke-width:0.8;\" x=\"247.168214\" xlink:href=\"#m1016b1769e\" y=\"224.64\"/>\n      </g>\n     </g>\n     <g id=\"text_5\">\n      <!-- 50000 -->\n      <defs>\n       <path d=\"M 10.796875 72.90625 \nL 49.515625 72.90625 \nL 49.515625 64.59375 \nL 19.828125 64.59375 \nL 19.828125 46.734375 \nQ 21.96875 47.46875 24.109375 47.828125 \nQ 26.265625 48.1875 28.421875 48.1875 \nQ 40.625 48.1875 47.75 41.5 \nQ 54.890625 34.8125 54.890625 23.390625 \nQ 54.890625 11.625 47.5625 5.09375 \nQ 40.234375 -1.421875 26.90625 -1.421875 \nQ 22.3125 -1.421875 17.546875 -0.640625 \nQ 12.796875 0.140625 7.71875 1.703125 \nL 7.71875 11.625 \nQ 12.109375 9.234375 16.796875 8.0625 \nQ 21.484375 6.890625 26.703125 6.890625 \nQ 35.15625 6.890625 40.078125 11.328125 \nQ 45.015625 15.765625 45.015625 23.390625 \nQ 45.015625 31 40.078125 35.4375 \nQ 35.15625 39.890625 26.703125 39.890625 \nQ 22.75 39.890625 18.8125 39.015625 \nQ 14.890625 38.140625 10.796875 36.28125 \nz\n\" id=\"DejaVuSans-53\"/>\n      </defs>\n      <g transform=\"translate(231.261964 239.238437)scale(0.1 -0.1)\">\n       <use xlink:href=\"#DejaVuSans-53\"/>\n       <use x=\"63.623047\" xlink:href=\"#DejaVuSans-48\"/>\n       <use x=\"127.246094\" xlink:href=\"#DejaVuSans-48\"/>\n       <use x=\"190.869141\" xlink:href=\"#DejaVuSans-48\"/>\n       <use x=\"254.492188\" xlink:href=\"#DejaVuSans-48\"/>\n      </g>\n     </g>\n    </g>\n    <g id=\"xtick_6\">\n     <g id=\"line2d_6\">\n      <g>\n       <use style=\"stroke:#000000;stroke-width:0.8;\" x=\"294.481026\" xlink:href=\"#m1016b1769e\" y=\"224.64\"/>\n      </g>\n     </g>\n     <g id=\"text_6\">\n      <!-- 60000 -->\n      <defs>\n       <path d=\"M 33.015625 40.375 \nQ 26.375 40.375 22.484375 35.828125 \nQ 18.609375 31.296875 18.609375 23.390625 \nQ 18.609375 15.53125 22.484375 10.953125 \nQ 26.375 6.390625 33.015625 6.390625 \nQ 39.65625 6.390625 43.53125 10.953125 \nQ 47.40625 15.53125 47.40625 23.390625 \nQ 47.40625 31.296875 43.53125 35.828125 \nQ 39.65625 40.375 33.015625 40.375 \nz\nM 52.59375 71.296875 \nL 52.59375 62.3125 \nQ 48.875 64.0625 45.09375 64.984375 \nQ 41.3125 65.921875 37.59375 65.921875 \nQ 27.828125 65.921875 22.671875 59.328125 \nQ 17.53125 52.734375 16.796875 39.40625 \nQ 19.671875 43.65625 24.015625 45.921875 \nQ 28.375 48.1875 33.59375 48.1875 \nQ 44.578125 48.1875 50.953125 41.515625 \nQ 57.328125 34.859375 57.328125 23.390625 \nQ 57.328125 12.15625 50.6875 5.359375 \nQ 44.046875 -1.421875 33.015625 -1.421875 \nQ 20.359375 -1.421875 13.671875 8.265625 \nQ 6.984375 17.96875 6.984375 36.375 \nQ 6.984375 53.65625 15.1875 63.9375 \nQ 23.390625 74.21875 37.203125 74.21875 \nQ 40.921875 74.21875 44.703125 73.484375 \nQ 48.484375 72.75 52.59375 71.296875 \nz\n\" id=\"DejaVuSans-54\"/>\n      </defs>\n      <g transform=\"translate(278.574776 239.238437)scale(0.1 -0.1)\">\n       <use xlink:href=\"#DejaVuSans-54\"/>\n       <use x=\"63.623047\" xlink:href=\"#DejaVuSans-48\"/>\n       <use x=\"127.246094\" xlink:href=\"#DejaVuSans-48\"/>\n       <use x=\"190.869141\" xlink:href=\"#DejaVuSans-48\"/>\n       <use x=\"254.492188\" xlink:href=\"#DejaVuSans-48\"/>\n      </g>\n     </g>\n    </g>\n    <g id=\"xtick_7\">\n     <g id=\"line2d_7\">\n      <g>\n       <use style=\"stroke:#000000;stroke-width:0.8;\" x=\"341.793839\" xlink:href=\"#m1016b1769e\" y=\"224.64\"/>\n      </g>\n     </g>\n     <g id=\"text_7\">\n      <!-- 70000 -->\n      <defs>\n       <path d=\"M 8.203125 72.90625 \nL 55.078125 72.90625 \nL 55.078125 68.703125 \nL 28.609375 0 \nL 18.3125 0 \nL 43.21875 64.59375 \nL 8.203125 64.59375 \nz\n\" id=\"DejaVuSans-55\"/>\n      </defs>\n      <g transform=\"translate(325.887589 239.238437)scale(0.1 -0.1)\">\n       <use xlink:href=\"#DejaVuSans-55\"/>\n       <use x=\"63.623047\" xlink:href=\"#DejaVuSans-48\"/>\n       <use x=\"127.246094\" xlink:href=\"#DejaVuSans-48\"/>\n       <use x=\"190.869141\" xlink:href=\"#DejaVuSans-48\"/>\n       <use x=\"254.492188\" xlink:href=\"#DejaVuSans-48\"/>\n      </g>\n     </g>\n    </g>\n    <g id=\"text_8\">\n     <!-- Close -->\n     <defs>\n      <path d=\"M 64.40625 67.28125 \nL 64.40625 56.890625 \nQ 59.421875 61.53125 53.78125 63.8125 \nQ 48.140625 66.109375 41.796875 66.109375 \nQ 29.296875 66.109375 22.65625 58.46875 \nQ 16.015625 50.828125 16.015625 36.375 \nQ 16.015625 21.96875 22.65625 14.328125 \nQ 29.296875 6.6875 41.796875 6.6875 \nQ 48.140625 6.6875 53.78125 8.984375 \nQ 59.421875 11.28125 64.40625 15.921875 \nL 64.40625 5.609375 \nQ 59.234375 2.09375 53.4375 0.328125 \nQ 47.65625 -1.421875 41.21875 -1.421875 \nQ 24.65625 -1.421875 15.125 8.703125 \nQ 5.609375 18.84375 5.609375 36.375 \nQ 5.609375 53.953125 15.125 64.078125 \nQ 24.65625 74.21875 41.21875 74.21875 \nQ 47.75 74.21875 53.53125 72.484375 \nQ 59.328125 70.75 64.40625 67.28125 \nz\n\" id=\"DejaVuSans-67\"/>\n      <path d=\"M 9.421875 75.984375 \nL 18.40625 75.984375 \nL 18.40625 0 \nL 9.421875 0 \nz\n\" id=\"DejaVuSans-108\"/>\n      <path d=\"M 30.609375 48.390625 \nQ 23.390625 48.390625 19.1875 42.75 \nQ 14.984375 37.109375 14.984375 27.296875 \nQ 14.984375 17.484375 19.15625 11.84375 \nQ 23.34375 6.203125 30.609375 6.203125 \nQ 37.796875 6.203125 41.984375 11.859375 \nQ 46.1875 17.53125 46.1875 27.296875 \nQ 46.1875 37.015625 41.984375 42.703125 \nQ 37.796875 48.390625 30.609375 48.390625 \nz\nM 30.609375 56 \nQ 42.328125 56 49.015625 48.375 \nQ 55.71875 40.765625 55.71875 27.296875 \nQ 55.71875 13.875 49.015625 6.21875 \nQ 42.328125 -1.421875 30.609375 -1.421875 \nQ 18.84375 -1.421875 12.171875 6.21875 \nQ 5.515625 13.875 5.515625 27.296875 \nQ 5.515625 40.765625 12.171875 48.375 \nQ 18.84375 56 30.609375 56 \nz\n\" id=\"DejaVuSans-111\"/>\n      <path d=\"M 44.28125 53.078125 \nL 44.28125 44.578125 \nQ 40.484375 46.53125 36.375 47.5 \nQ 32.28125 48.484375 27.875 48.484375 \nQ 21.1875 48.484375 17.84375 46.4375 \nQ 14.5 44.390625 14.5 40.28125 \nQ 14.5 37.15625 16.890625 35.375 \nQ 19.28125 33.59375 26.515625 31.984375 \nL 29.59375 31.296875 \nQ 39.15625 29.25 43.1875 25.515625 \nQ 47.21875 21.78125 47.21875 15.09375 \nQ 47.21875 7.46875 41.1875 3.015625 \nQ 35.15625 -1.421875 24.609375 -1.421875 \nQ 20.21875 -1.421875 15.453125 -0.5625 \nQ 10.6875 0.296875 5.421875 2 \nL 5.421875 11.28125 \nQ 10.40625 8.6875 15.234375 7.390625 \nQ 20.0625 6.109375 24.8125 6.109375 \nQ 31.15625 6.109375 34.5625 8.28125 \nQ 37.984375 10.453125 37.984375 14.40625 \nQ 37.984375 18.0625 35.515625 20.015625 \nQ 33.0625 21.96875 24.703125 23.78125 \nL 21.578125 24.515625 \nQ 13.234375 26.265625 9.515625 29.90625 \nQ 5.8125 33.546875 5.8125 39.890625 \nQ 5.8125 47.609375 11.28125 51.796875 \nQ 16.75 56 26.8125 56 \nQ 31.78125 56 36.171875 55.265625 \nQ 40.578125 54.546875 44.28125 53.078125 \nz\n\" id=\"DejaVuSans-115\"/>\n      <path d=\"M 56.203125 29.59375 \nL 56.203125 25.203125 \nL 14.890625 25.203125 \nQ 15.484375 15.921875 20.484375 11.0625 \nQ 25.484375 6.203125 34.421875 6.203125 \nQ 39.59375 6.203125 44.453125 7.46875 \nQ 49.3125 8.734375 54.109375 11.28125 \nL 54.109375 2.78125 \nQ 49.265625 0.734375 44.1875 -0.34375 \nQ 39.109375 -1.421875 33.890625 -1.421875 \nQ 20.796875 -1.421875 13.15625 6.1875 \nQ 5.515625 13.8125 5.515625 26.8125 \nQ 5.515625 40.234375 12.765625 48.109375 \nQ 20.015625 56 32.328125 56 \nQ 43.359375 56 49.78125 48.890625 \nQ 56.203125 41.796875 56.203125 29.59375 \nz\nM 47.21875 32.234375 \nQ 47.125 39.59375 43.09375 43.984375 \nQ 39.0625 48.390625 32.421875 48.390625 \nQ 24.90625 48.390625 20.390625 44.140625 \nQ 15.875 39.890625 15.1875 32.171875 \nz\n\" id=\"DejaVuSans-101\"/>\n     </defs>\n     <g transform=\"translate(164.478906 252.916562)scale(0.1 -0.1)\">\n      <use xlink:href=\"#DejaVuSans-67\"/>\n      <use x=\"69.824219\" xlink:href=\"#DejaVuSans-108\"/>\n      <use x=\"97.607422\" xlink:href=\"#DejaVuSans-111\"/>\n      <use x=\"158.789062\" xlink:href=\"#DejaVuSans-115\"/>\n      <use x=\"210.888672\" xlink:href=\"#DejaVuSans-101\"/>\n     </g>\n    </g>\n   </g>\n   <g id=\"matplotlib.axis_2\">\n    <g id=\"ytick_1\">\n     <g id=\"line2d_8\">\n      <defs>\n       <path d=\"M 0 0 \nL -3.5 0 \n\" id=\"m346e986863\" style=\"stroke:#000000;stroke-width:0.8;\"/>\n      </defs>\n      <g>\n       <use style=\"stroke:#000000;stroke-width:0.8;\" x=\"10.7\" xlink:href=\"#m346e986863\" y=\"115.92\"/>\n      </g>\n     </g>\n    </g>\n   </g>\n   <g id=\"line2d_9\">\n    <path clip-path=\"url(#p6f81f9a493)\" d=\"M 45.03431 115.92 \nL 25.918182 115.92 \n\" style=\"fill:none;stroke:#3f3f3f;stroke-linecap:square;stroke-width:1.5;\"/>\n   </g>\n   <g id=\"line2d_10\">\n    <path clip-path=\"url(#p6f81f9a493)\" d=\"M 174.501648 115.92 \nL 330.281818 115.92 \n\" style=\"fill:none;stroke:#3f3f3f;stroke-linecap:square;stroke-width:1.5;\"/>\n   </g>\n   <g id=\"line2d_11\">\n    <path clip-path=\"url(#p6f81f9a493)\" d=\"M 25.918182 72.432 \nL 25.918182 159.408 \n\" style=\"fill:none;stroke:#3f3f3f;stroke-linecap:square;stroke-width:1.5;\"/>\n   </g>\n   <g id=\"line2d_12\">\n    <path clip-path=\"url(#p6f81f9a493)\" d=\"M 330.281818 72.432 \nL 330.281818 159.408 \n\" style=\"fill:none;stroke:#3f3f3f;stroke-linecap:square;stroke-width:1.5;\"/>\n   </g>\n   <g id=\"line2d_13\"/>\n   <g id=\"line2d_14\">\n    <path clip-path=\"url(#p6f81f9a493)\" d=\"M 56.763463 28.944 \nL 56.763463 202.896 \n\" style=\"fill:none;stroke:#3f3f3f;stroke-linecap:square;stroke-width:1.5;\"/>\n   </g>\n   <g id=\"patch_4\">\n    <path d=\"M 10.7 224.64 \nL 10.7 7.2 \n\" style=\"fill:none;stroke:#000000;stroke-linecap:square;stroke-linejoin:miter;stroke-width:0.8;\"/>\n   </g>\n   <g id=\"patch_5\">\n    <path d=\"M 345.5 224.64 \nL 345.5 7.2 \n\" style=\"fill:none;stroke:#000000;stroke-linecap:square;stroke-linejoin:miter;stroke-width:0.8;\"/>\n   </g>\n   <g id=\"patch_6\">\n    <path d=\"M 10.7 224.64 \nL 345.5 224.64 \n\" style=\"fill:none;stroke:#000000;stroke-linecap:square;stroke-linejoin:miter;stroke-width:0.8;\"/>\n   </g>\n   <g id=\"patch_7\">\n    <path d=\"M 10.7 7.2 \nL 345.5 7.2 \n\" style=\"fill:none;stroke:#000000;stroke-linecap:square;stroke-linejoin:miter;stroke-width:0.8;\"/>\n   </g>\n  </g>\n </g>\n <defs>\n  <clipPath id=\"p6f81f9a493\">\n   <rect height=\"217.44\" width=\"334.8\" x=\"10.7\" y=\"7.2\"/>\n  </clipPath>\n </defs>\n</svg>\n"
          },
          "metadata": {
            "needs_background": "light"
          }
        }
      ]
    },
    {
      "cell_type": "code",
      "source": [
        "btc_df['Close'].median()"
      ],
      "metadata": {
        "colab": {
          "base_uri": "https://localhost:8080/"
        },
        "id": "65RHhp_CInWj",
        "outputId": "8ee04f0e-6d82-4d0a-e3ba-c5cc20b1cb1d"
      },
      "execution_count": 27,
      "outputs": [
        {
          "output_type": "execute_result",
          "data": {
            "text/plain": [
              "9756.196777500001"
            ]
          },
          "metadata": {},
          "execution_count": 27
        }
      ]
    },
    {
      "cell_type": "markdown",
      "source": [
        "Итак, на основе графического изображения и анализа медианного значения можно сделать вывод, что распределние в выборке не является нормальным распеределением"
      ],
      "metadata": {
        "id": "-d9mfyNTIueA"
      }
    },
    {
      "cell_type": "code",
      "source": [
        "sns_plot = sns.distplot(btc_df['Close'])\n",
        "fig = sns_plot.get_figure()"
      ],
      "metadata": {
        "colab": {
          "base_uri": "https://localhost:8080/",
          "height": 385
        },
        "id": "2TrJpLiRJ8v4",
        "outputId": "16c282b4-10b5-498f-cd0f-9096897c9f50"
      },
      "execution_count": 28,
      "outputs": [
        {
          "output_type": "display_data",
          "data": {
            "text/plain": [
              "<Figure size 432x288 with 1 Axes>"
            ],
            "image/svg+xml": "<?xml version=\"1.0\" encoding=\"utf-8\" standalone=\"no\"?>\n<!DOCTYPE svg PUBLIC \"-//W3C//DTD SVG 1.1//EN\"\n  \"http://www.w3.org/Graphics/SVG/1.1/DTD/svg11.dtd\">\n<!-- Created with matplotlib (https://matplotlib.org/) -->\n<svg height=\"272.794688pt\" version=\"1.1\" viewBox=\"0 0 377.715661 272.794688\" width=\"377.715661pt\" xmlns=\"http://www.w3.org/2000/svg\" xmlns:xlink=\"http://www.w3.org/1999/xlink\">\n <defs>\n  <style type=\"text/css\">\n*{stroke-linecap:butt;stroke-linejoin:round;}\n  </style>\n </defs>\n <g id=\"figure_1\">\n  <g id=\"patch_1\">\n   <path d=\"M 0 272.794688 \nL 377.715661 272.794688 \nL 377.715661 0 \nL 0 0 \nz\n\" style=\"fill:none;\"/>\n  </g>\n  <g id=\"axes_1\">\n   <g id=\"patch_2\">\n    <path d=\"M 34.240625 235.238438 \nL 369.040625 235.238438 \nL 369.040625 17.798438 \nL 34.240625 17.798438 \nz\n\" style=\"fill:#ffffff;\"/>\n   </g>\n   <g id=\"patch_3\">\n    <path clip-path=\"url(#pd9952c53ba)\" d=\"M 91.316766 235.238438 \nL 107.077318 235.238438 \nL 107.077318 56.187793 \nL 91.316766 56.187793 \nz\n\" style=\"fill:#1f77b4;opacity:0.4;\"/>\n   </g>\n   <g id=\"patch_4\">\n    <path clip-path=\"url(#pd9952c53ba)\" d=\"M 107.077318 235.238438 \nL 122.837869 235.238438 \nL 122.837869 28.152723 \nL 107.077318 28.152723 \nz\n\" style=\"fill:#1f77b4;opacity:0.4;\"/>\n   </g>\n   <g id=\"patch_5\">\n    <path clip-path=\"url(#pd9952c53ba)\" d=\"M 122.837869 235.238438 \nL 138.59842 235.238438 \nL 138.59842 212.06278 \nL 122.837869 212.06278 \nz\n\" style=\"fill:#1f77b4;opacity:0.4;\"/>\n   </g>\n   <g id=\"patch_6\">\n    <path clip-path=\"url(#pd9952c53ba)\" d=\"M 138.59842 235.238438 \nL 154.358971 235.238438 \nL 154.358971 220.660201 \nL 138.59842 220.660201 \nz\n\" style=\"fill:#1f77b4;opacity:0.4;\"/>\n   </g>\n   <g id=\"patch_7\">\n    <path clip-path=\"url(#pd9952c53ba)\" d=\"M 154.358971 235.238438 \nL 170.119523 235.238438 \nL 170.119523 231.874229 \nL 154.358971 231.874229 \nz\n\" style=\"fill:#1f77b4;opacity:0.4;\"/>\n   </g>\n   <g id=\"patch_8\">\n    <path clip-path=\"url(#pd9952c53ba)\" d=\"M 170.119523 235.238438 \nL 185.880074 235.238438 \nL 185.880074 231.874229 \nL 170.119523 231.874229 \nz\n\" style=\"fill:#1f77b4;opacity:0.4;\"/>\n   </g>\n   <g id=\"patch_9\">\n    <path clip-path=\"url(#pd9952c53ba)\" d=\"M 185.880074 235.238438 \nL 201.640625 235.238438 \nL 201.640625 215.053187 \nL 185.880074 215.053187 \nz\n\" style=\"fill:#1f77b4;opacity:0.4;\"/>\n   </g>\n   <g id=\"patch_10\">\n    <path clip-path=\"url(#pd9952c53ba)\" d=\"M 201.640625 235.238438 \nL 217.401176 235.238438 \nL 217.401176 203.83916 \nL 201.640625 203.83916 \nz\n\" style=\"fill:#1f77b4;opacity:0.4;\"/>\n   </g>\n   <g id=\"patch_11\">\n    <path clip-path=\"url(#pd9952c53ba)\" d=\"M 217.401176 235.238438 \nL 233.161727 235.238438 \nL 233.161727 208.324771 \nL 217.401176 208.324771 \nz\n\" style=\"fill:#1f77b4;opacity:0.4;\"/>\n   </g>\n   <g id=\"patch_12\">\n    <path clip-path=\"url(#pd9952c53ba)\" d=\"M 233.161727 235.238438 \nL 248.922279 235.238438 \nL 248.922279 205.708164 \nL 233.161727 205.708164 \nz\n\" style=\"fill:#1f77b4;opacity:0.4;\"/>\n   </g>\n   <g id=\"patch_13\">\n    <path clip-path=\"url(#pd9952c53ba)\" d=\"M 248.922279 235.238438 \nL 264.68283 235.238438 \nL 264.68283 220.2864 \nL 248.922279 220.2864 \nz\n\" style=\"fill:#1f77b4;opacity:0.4;\"/>\n   </g>\n   <g id=\"patch_14\">\n    <path clip-path=\"url(#pd9952c53ba)\" d=\"M 264.68283 235.238438 \nL 280.443381 235.238438 \nL 280.443381 211.688979 \nL 264.68283 211.688979 \nz\n\" style=\"fill:#1f77b4;opacity:0.4;\"/>\n   </g>\n   <g id=\"patch_15\">\n    <path clip-path=\"url(#pd9952c53ba)\" d=\"M 280.443381 235.238438 \nL 296.203932 235.238438 \nL 296.203932 221.034002 \nL 280.443381 221.034002 \nz\n\" style=\"fill:#1f77b4;opacity:0.4;\"/>\n   </g>\n   <g id=\"patch_16\">\n    <path clip-path=\"url(#pd9952c53ba)\" d=\"M 296.203932 235.238438 \nL 311.964484 235.238438 \nL 311.964484 229.257623 \nL 296.203932 229.257623 \nz\n\" style=\"fill:#1f77b4;opacity:0.4;\"/>\n   </g>\n   <g id=\"matplotlib.axis_1\">\n    <g id=\"xtick_1\">\n     <g id=\"line2d_1\">\n      <defs>\n       <path d=\"M 0 0 \nL 0 3.5 \n\" id=\"md8aef87e1c\" style=\"stroke:#000000;stroke-width:0.8;\"/>\n      </defs>\n      <g>\n       <use style=\"stroke:#000000;stroke-width:0.8;\" x=\"80.214895\" xlink:href=\"#md8aef87e1c\" y=\"235.238438\"/>\n      </g>\n     </g>\n     <g id=\"text_1\">\n      <!-- 0 -->\n      <defs>\n       <path d=\"M 31.78125 66.40625 \nQ 24.171875 66.40625 20.328125 58.90625 \nQ 16.5 51.421875 16.5 36.375 \nQ 16.5 21.390625 20.328125 13.890625 \nQ 24.171875 6.390625 31.78125 6.390625 \nQ 39.453125 6.390625 43.28125 13.890625 \nQ 47.125 21.390625 47.125 36.375 \nQ 47.125 51.421875 43.28125 58.90625 \nQ 39.453125 66.40625 31.78125 66.40625 \nz\nM 31.78125 74.21875 \nQ 44.046875 74.21875 50.515625 64.515625 \nQ 56.984375 54.828125 56.984375 36.375 \nQ 56.984375 17.96875 50.515625 8.265625 \nQ 44.046875 -1.421875 31.78125 -1.421875 \nQ 19.53125 -1.421875 13.0625 8.265625 \nQ 6.59375 17.96875 6.59375 36.375 \nQ 6.59375 54.828125 13.0625 64.515625 \nQ 19.53125 74.21875 31.78125 74.21875 \nz\n\" id=\"DejaVuSans-48\"/>\n      </defs>\n      <g transform=\"translate(77.033645 249.836875)scale(0.1 -0.1)\">\n       <use xlink:href=\"#DejaVuSans-48\"/>\n      </g>\n     </g>\n    </g>\n    <g id=\"xtick_2\">\n     <g id=\"line2d_2\">\n      <g>\n       <use style=\"stroke:#000000;stroke-width:0.8;\" x=\"148.813524\" xlink:href=\"#md8aef87e1c\" y=\"235.238438\"/>\n      </g>\n     </g>\n     <g id=\"text_2\">\n      <!-- 20000 -->\n      <defs>\n       <path d=\"M 19.1875 8.296875 \nL 53.609375 8.296875 \nL 53.609375 0 \nL 7.328125 0 \nL 7.328125 8.296875 \nQ 12.9375 14.109375 22.625 23.890625 \nQ 32.328125 33.6875 34.8125 36.53125 \nQ 39.546875 41.84375 41.421875 45.53125 \nQ 43.3125 49.21875 43.3125 52.78125 \nQ 43.3125 58.59375 39.234375 62.25 \nQ 35.15625 65.921875 28.609375 65.921875 \nQ 23.96875 65.921875 18.8125 64.3125 \nQ 13.671875 62.703125 7.8125 59.421875 \nL 7.8125 69.390625 \nQ 13.765625 71.78125 18.9375 73 \nQ 24.125 74.21875 28.421875 74.21875 \nQ 39.75 74.21875 46.484375 68.546875 \nQ 53.21875 62.890625 53.21875 53.421875 \nQ 53.21875 48.921875 51.53125 44.890625 \nQ 49.859375 40.875 45.40625 35.40625 \nQ 44.1875 33.984375 37.640625 27.21875 \nQ 31.109375 20.453125 19.1875 8.296875 \nz\n\" id=\"DejaVuSans-50\"/>\n      </defs>\n      <g transform=\"translate(132.907274 249.836875)scale(0.1 -0.1)\">\n       <use xlink:href=\"#DejaVuSans-50\"/>\n       <use x=\"63.623047\" xlink:href=\"#DejaVuSans-48\"/>\n       <use x=\"127.246094\" xlink:href=\"#DejaVuSans-48\"/>\n       <use x=\"190.869141\" xlink:href=\"#DejaVuSans-48\"/>\n       <use x=\"254.492188\" xlink:href=\"#DejaVuSans-48\"/>\n      </g>\n     </g>\n    </g>\n    <g id=\"xtick_3\">\n     <g id=\"line2d_3\">\n      <g>\n       <use style=\"stroke:#000000;stroke-width:0.8;\" x=\"217.412153\" xlink:href=\"#md8aef87e1c\" y=\"235.238438\"/>\n      </g>\n     </g>\n     <g id=\"text_3\">\n      <!-- 40000 -->\n      <defs>\n       <path d=\"M 37.796875 64.3125 \nL 12.890625 25.390625 \nL 37.796875 25.390625 \nz\nM 35.203125 72.90625 \nL 47.609375 72.90625 \nL 47.609375 25.390625 \nL 58.015625 25.390625 \nL 58.015625 17.1875 \nL 47.609375 17.1875 \nL 47.609375 0 \nL 37.796875 0 \nL 37.796875 17.1875 \nL 4.890625 17.1875 \nL 4.890625 26.703125 \nz\n\" id=\"DejaVuSans-52\"/>\n      </defs>\n      <g transform=\"translate(201.505903 249.836875)scale(0.1 -0.1)\">\n       <use xlink:href=\"#DejaVuSans-52\"/>\n       <use x=\"63.623047\" xlink:href=\"#DejaVuSans-48\"/>\n       <use x=\"127.246094\" xlink:href=\"#DejaVuSans-48\"/>\n       <use x=\"190.869141\" xlink:href=\"#DejaVuSans-48\"/>\n       <use x=\"254.492188\" xlink:href=\"#DejaVuSans-48\"/>\n      </g>\n     </g>\n    </g>\n    <g id=\"xtick_4\">\n     <g id=\"line2d_4\">\n      <g>\n       <use style=\"stroke:#000000;stroke-width:0.8;\" x=\"286.010782\" xlink:href=\"#md8aef87e1c\" y=\"235.238438\"/>\n      </g>\n     </g>\n     <g id=\"text_4\">\n      <!-- 60000 -->\n      <defs>\n       <path d=\"M 33.015625 40.375 \nQ 26.375 40.375 22.484375 35.828125 \nQ 18.609375 31.296875 18.609375 23.390625 \nQ 18.609375 15.53125 22.484375 10.953125 \nQ 26.375 6.390625 33.015625 6.390625 \nQ 39.65625 6.390625 43.53125 10.953125 \nQ 47.40625 15.53125 47.40625 23.390625 \nQ 47.40625 31.296875 43.53125 35.828125 \nQ 39.65625 40.375 33.015625 40.375 \nz\nM 52.59375 71.296875 \nL 52.59375 62.3125 \nQ 48.875 64.0625 45.09375 64.984375 \nQ 41.3125 65.921875 37.59375 65.921875 \nQ 27.828125 65.921875 22.671875 59.328125 \nQ 17.53125 52.734375 16.796875 39.40625 \nQ 19.671875 43.65625 24.015625 45.921875 \nQ 28.375 48.1875 33.59375 48.1875 \nQ 44.578125 48.1875 50.953125 41.515625 \nQ 57.328125 34.859375 57.328125 23.390625 \nQ 57.328125 12.15625 50.6875 5.359375 \nQ 44.046875 -1.421875 33.015625 -1.421875 \nQ 20.359375 -1.421875 13.671875 8.265625 \nQ 6.984375 17.96875 6.984375 36.375 \nQ 6.984375 53.65625 15.1875 63.9375 \nQ 23.390625 74.21875 37.203125 74.21875 \nQ 40.921875 74.21875 44.703125 73.484375 \nQ 48.484375 72.75 52.59375 71.296875 \nz\n\" id=\"DejaVuSans-54\"/>\n      </defs>\n      <g transform=\"translate(270.104532 249.836875)scale(0.1 -0.1)\">\n       <use xlink:href=\"#DejaVuSans-54\"/>\n       <use x=\"63.623047\" xlink:href=\"#DejaVuSans-48\"/>\n       <use x=\"127.246094\" xlink:href=\"#DejaVuSans-48\"/>\n       <use x=\"190.869141\" xlink:href=\"#DejaVuSans-48\"/>\n       <use x=\"254.492188\" xlink:href=\"#DejaVuSans-48\"/>\n      </g>\n     </g>\n    </g>\n    <g id=\"xtick_5\">\n     <g id=\"line2d_5\">\n      <g>\n       <use style=\"stroke:#000000;stroke-width:0.8;\" x=\"354.609411\" xlink:href=\"#md8aef87e1c\" y=\"235.238438\"/>\n      </g>\n     </g>\n     <g id=\"text_5\">\n      <!-- 80000 -->\n      <defs>\n       <path d=\"M 31.78125 34.625 \nQ 24.75 34.625 20.71875 30.859375 \nQ 16.703125 27.09375 16.703125 20.515625 \nQ 16.703125 13.921875 20.71875 10.15625 \nQ 24.75 6.390625 31.78125 6.390625 \nQ 38.8125 6.390625 42.859375 10.171875 \nQ 46.921875 13.96875 46.921875 20.515625 \nQ 46.921875 27.09375 42.890625 30.859375 \nQ 38.875 34.625 31.78125 34.625 \nz\nM 21.921875 38.8125 \nQ 15.578125 40.375 12.03125 44.71875 \nQ 8.5 49.078125 8.5 55.328125 \nQ 8.5 64.0625 14.71875 69.140625 \nQ 20.953125 74.21875 31.78125 74.21875 \nQ 42.671875 74.21875 48.875 69.140625 \nQ 55.078125 64.0625 55.078125 55.328125 \nQ 55.078125 49.078125 51.53125 44.71875 \nQ 48 40.375 41.703125 38.8125 \nQ 48.828125 37.15625 52.796875 32.3125 \nQ 56.78125 27.484375 56.78125 20.515625 \nQ 56.78125 9.90625 50.3125 4.234375 \nQ 43.84375 -1.421875 31.78125 -1.421875 \nQ 19.734375 -1.421875 13.25 4.234375 \nQ 6.78125 9.90625 6.78125 20.515625 \nQ 6.78125 27.484375 10.78125 32.3125 \nQ 14.796875 37.15625 21.921875 38.8125 \nz\nM 18.3125 54.390625 \nQ 18.3125 48.734375 21.84375 45.5625 \nQ 25.390625 42.390625 31.78125 42.390625 \nQ 38.140625 42.390625 41.71875 45.5625 \nQ 45.3125 48.734375 45.3125 54.390625 \nQ 45.3125 60.0625 41.71875 63.234375 \nQ 38.140625 66.40625 31.78125 66.40625 \nQ 25.390625 66.40625 21.84375 63.234375 \nQ 18.3125 60.0625 18.3125 54.390625 \nz\n\" id=\"DejaVuSans-56\"/>\n      </defs>\n      <g transform=\"translate(338.703161 249.836875)scale(0.1 -0.1)\">\n       <use xlink:href=\"#DejaVuSans-56\"/>\n       <use x=\"63.623047\" xlink:href=\"#DejaVuSans-48\"/>\n       <use x=\"127.246094\" xlink:href=\"#DejaVuSans-48\"/>\n       <use x=\"190.869141\" xlink:href=\"#DejaVuSans-48\"/>\n       <use x=\"254.492188\" xlink:href=\"#DejaVuSans-48\"/>\n      </g>\n     </g>\n    </g>\n    <g id=\"text_6\">\n     <!-- Close -->\n     <defs>\n      <path d=\"M 64.40625 67.28125 \nL 64.40625 56.890625 \nQ 59.421875 61.53125 53.78125 63.8125 \nQ 48.140625 66.109375 41.796875 66.109375 \nQ 29.296875 66.109375 22.65625 58.46875 \nQ 16.015625 50.828125 16.015625 36.375 \nQ 16.015625 21.96875 22.65625 14.328125 \nQ 29.296875 6.6875 41.796875 6.6875 \nQ 48.140625 6.6875 53.78125 8.984375 \nQ 59.421875 11.28125 64.40625 15.921875 \nL 64.40625 5.609375 \nQ 59.234375 2.09375 53.4375 0.328125 \nQ 47.65625 -1.421875 41.21875 -1.421875 \nQ 24.65625 -1.421875 15.125 8.703125 \nQ 5.609375 18.84375 5.609375 36.375 \nQ 5.609375 53.953125 15.125 64.078125 \nQ 24.65625 74.21875 41.21875 74.21875 \nQ 47.75 74.21875 53.53125 72.484375 \nQ 59.328125 70.75 64.40625 67.28125 \nz\n\" id=\"DejaVuSans-67\"/>\n      <path d=\"M 9.421875 75.984375 \nL 18.40625 75.984375 \nL 18.40625 0 \nL 9.421875 0 \nz\n\" id=\"DejaVuSans-108\"/>\n      <path d=\"M 30.609375 48.390625 \nQ 23.390625 48.390625 19.1875 42.75 \nQ 14.984375 37.109375 14.984375 27.296875 \nQ 14.984375 17.484375 19.15625 11.84375 \nQ 23.34375 6.203125 30.609375 6.203125 \nQ 37.796875 6.203125 41.984375 11.859375 \nQ 46.1875 17.53125 46.1875 27.296875 \nQ 46.1875 37.015625 41.984375 42.703125 \nQ 37.796875 48.390625 30.609375 48.390625 \nz\nM 30.609375 56 \nQ 42.328125 56 49.015625 48.375 \nQ 55.71875 40.765625 55.71875 27.296875 \nQ 55.71875 13.875 49.015625 6.21875 \nQ 42.328125 -1.421875 30.609375 -1.421875 \nQ 18.84375 -1.421875 12.171875 6.21875 \nQ 5.515625 13.875 5.515625 27.296875 \nQ 5.515625 40.765625 12.171875 48.375 \nQ 18.84375 56 30.609375 56 \nz\n\" id=\"DejaVuSans-111\"/>\n      <path d=\"M 44.28125 53.078125 \nL 44.28125 44.578125 \nQ 40.484375 46.53125 36.375 47.5 \nQ 32.28125 48.484375 27.875 48.484375 \nQ 21.1875 48.484375 17.84375 46.4375 \nQ 14.5 44.390625 14.5 40.28125 \nQ 14.5 37.15625 16.890625 35.375 \nQ 19.28125 33.59375 26.515625 31.984375 \nL 29.59375 31.296875 \nQ 39.15625 29.25 43.1875 25.515625 \nQ 47.21875 21.78125 47.21875 15.09375 \nQ 47.21875 7.46875 41.1875 3.015625 \nQ 35.15625 -1.421875 24.609375 -1.421875 \nQ 20.21875 -1.421875 15.453125 -0.5625 \nQ 10.6875 0.296875 5.421875 2 \nL 5.421875 11.28125 \nQ 10.40625 8.6875 15.234375 7.390625 \nQ 20.0625 6.109375 24.8125 6.109375 \nQ 31.15625 6.109375 34.5625 8.28125 \nQ 37.984375 10.453125 37.984375 14.40625 \nQ 37.984375 18.0625 35.515625 20.015625 \nQ 33.0625 21.96875 24.703125 23.78125 \nL 21.578125 24.515625 \nQ 13.234375 26.265625 9.515625 29.90625 \nQ 5.8125 33.546875 5.8125 39.890625 \nQ 5.8125 47.609375 11.28125 51.796875 \nQ 16.75 56 26.8125 56 \nQ 31.78125 56 36.171875 55.265625 \nQ 40.578125 54.546875 44.28125 53.078125 \nz\n\" id=\"DejaVuSans-115\"/>\n      <path d=\"M 56.203125 29.59375 \nL 56.203125 25.203125 \nL 14.890625 25.203125 \nQ 15.484375 15.921875 20.484375 11.0625 \nQ 25.484375 6.203125 34.421875 6.203125 \nQ 39.59375 6.203125 44.453125 7.46875 \nQ 49.3125 8.734375 54.109375 11.28125 \nL 54.109375 2.78125 \nQ 49.265625 0.734375 44.1875 -0.34375 \nQ 39.109375 -1.421875 33.890625 -1.421875 \nQ 20.796875 -1.421875 13.15625 6.1875 \nQ 5.515625 13.8125 5.515625 26.8125 \nQ 5.515625 40.234375 12.765625 48.109375 \nQ 20.015625 56 32.328125 56 \nQ 43.359375 56 49.78125 48.890625 \nQ 56.203125 41.796875 56.203125 29.59375 \nz\nM 47.21875 32.234375 \nQ 47.125 39.59375 43.09375 43.984375 \nQ 39.0625 48.390625 32.421875 48.390625 \nQ 24.90625 48.390625 20.390625 44.140625 \nQ 15.875 39.890625 15.1875 32.171875 \nz\n\" id=\"DejaVuSans-101\"/>\n     </defs>\n     <g transform=\"translate(188.019531 263.515)scale(0.1 -0.1)\">\n      <use xlink:href=\"#DejaVuSans-67\"/>\n      <use x=\"69.824219\" xlink:href=\"#DejaVuSans-108\"/>\n      <use x=\"97.607422\" xlink:href=\"#DejaVuSans-111\"/>\n      <use x=\"158.789062\" xlink:href=\"#DejaVuSans-115\"/>\n      <use x=\"210.888672\" xlink:href=\"#DejaVuSans-101\"/>\n     </g>\n    </g>\n   </g>\n   <g id=\"matplotlib.axis_2\">\n    <g id=\"ytick_1\">\n     <g id=\"line2d_6\">\n      <defs>\n       <path d=\"M 0 0 \nL -3.5 0 \n\" id=\"mae6b233e36\" style=\"stroke:#000000;stroke-width:0.8;\"/>\n      </defs>\n      <g>\n       <use style=\"stroke:#000000;stroke-width:0.8;\" x=\"34.240625\" xlink:href=\"#mae6b233e36\" y=\"235.238438\"/>\n      </g>\n     </g>\n     <g id=\"text_7\">\n      <!-- 0 -->\n      <g transform=\"translate(20.878125 239.037656)scale(0.1 -0.1)\">\n       <use xlink:href=\"#DejaVuSans-48\"/>\n      </g>\n     </g>\n    </g>\n    <g id=\"ytick_2\">\n     <g id=\"line2d_7\">\n      <g>\n       <use style=\"stroke:#000000;stroke-width:0.8;\" x=\"34.240625\" xlink:href=\"#mae6b233e36\" y=\"207.790917\"/>\n      </g>\n     </g>\n     <g id=\"text_8\">\n      <!-- 1 -->\n      <defs>\n       <path d=\"M 12.40625 8.296875 \nL 28.515625 8.296875 \nL 28.515625 63.921875 \nL 10.984375 60.40625 \nL 10.984375 69.390625 \nL 28.421875 72.90625 \nL 38.28125 72.90625 \nL 38.28125 8.296875 \nL 54.390625 8.296875 \nL 54.390625 0 \nL 12.40625 0 \nz\n\" id=\"DejaVuSans-49\"/>\n      </defs>\n      <g transform=\"translate(20.878125 211.590136)scale(0.1 -0.1)\">\n       <use xlink:href=\"#DejaVuSans-49\"/>\n      </g>\n     </g>\n    </g>\n    <g id=\"ytick_3\">\n     <g id=\"line2d_8\">\n      <g>\n       <use style=\"stroke:#000000;stroke-width:0.8;\" x=\"34.240625\" xlink:href=\"#mae6b233e36\" y=\"180.343397\"/>\n      </g>\n     </g>\n     <g id=\"text_9\">\n      <!-- 2 -->\n      <g transform=\"translate(20.878125 184.142616)scale(0.1 -0.1)\">\n       <use xlink:href=\"#DejaVuSans-50\"/>\n      </g>\n     </g>\n    </g>\n    <g id=\"ytick_4\">\n     <g id=\"line2d_9\">\n      <g>\n       <use style=\"stroke:#000000;stroke-width:0.8;\" x=\"34.240625\" xlink:href=\"#mae6b233e36\" y=\"152.895877\"/>\n      </g>\n     </g>\n     <g id=\"text_10\">\n      <!-- 3 -->\n      <defs>\n       <path d=\"M 40.578125 39.3125 \nQ 47.65625 37.796875 51.625 33 \nQ 55.609375 28.21875 55.609375 21.1875 \nQ 55.609375 10.40625 48.1875 4.484375 \nQ 40.765625 -1.421875 27.09375 -1.421875 \nQ 22.515625 -1.421875 17.65625 -0.515625 \nQ 12.796875 0.390625 7.625 2.203125 \nL 7.625 11.71875 \nQ 11.71875 9.328125 16.59375 8.109375 \nQ 21.484375 6.890625 26.8125 6.890625 \nQ 36.078125 6.890625 40.9375 10.546875 \nQ 45.796875 14.203125 45.796875 21.1875 \nQ 45.796875 27.640625 41.28125 31.265625 \nQ 36.765625 34.90625 28.71875 34.90625 \nL 20.21875 34.90625 \nL 20.21875 43.015625 \nL 29.109375 43.015625 \nQ 36.375 43.015625 40.234375 45.921875 \nQ 44.09375 48.828125 44.09375 54.296875 \nQ 44.09375 59.90625 40.109375 62.90625 \nQ 36.140625 65.921875 28.71875 65.921875 \nQ 24.65625 65.921875 20.015625 65.03125 \nQ 15.375 64.15625 9.8125 62.3125 \nL 9.8125 71.09375 \nQ 15.4375 72.65625 20.34375 73.4375 \nQ 25.25 74.21875 29.59375 74.21875 \nQ 40.828125 74.21875 47.359375 69.109375 \nQ 53.90625 64.015625 53.90625 55.328125 \nQ 53.90625 49.265625 50.4375 45.09375 \nQ 46.96875 40.921875 40.578125 39.3125 \nz\n\" id=\"DejaVuSans-51\"/>\n      </defs>\n      <g transform=\"translate(20.878125 156.695095)scale(0.1 -0.1)\">\n       <use xlink:href=\"#DejaVuSans-51\"/>\n      </g>\n     </g>\n    </g>\n    <g id=\"ytick_5\">\n     <g id=\"line2d_10\">\n      <g>\n       <use style=\"stroke:#000000;stroke-width:0.8;\" x=\"34.240625\" xlink:href=\"#mae6b233e36\" y=\"125.448356\"/>\n      </g>\n     </g>\n     <g id=\"text_11\">\n      <!-- 4 -->\n      <g transform=\"translate(20.878125 129.247575)scale(0.1 -0.1)\">\n       <use xlink:href=\"#DejaVuSans-52\"/>\n      </g>\n     </g>\n    </g>\n    <g id=\"ytick_6\">\n     <g id=\"line2d_11\">\n      <g>\n       <use style=\"stroke:#000000;stroke-width:0.8;\" x=\"34.240625\" xlink:href=\"#mae6b233e36\" y=\"98.000836\"/>\n      </g>\n     </g>\n     <g id=\"text_12\">\n      <!-- 5 -->\n      <defs>\n       <path d=\"M 10.796875 72.90625 \nL 49.515625 72.90625 \nL 49.515625 64.59375 \nL 19.828125 64.59375 \nL 19.828125 46.734375 \nQ 21.96875 47.46875 24.109375 47.828125 \nQ 26.265625 48.1875 28.421875 48.1875 \nQ 40.625 48.1875 47.75 41.5 \nQ 54.890625 34.8125 54.890625 23.390625 \nQ 54.890625 11.625 47.5625 5.09375 \nQ 40.234375 -1.421875 26.90625 -1.421875 \nQ 22.3125 -1.421875 17.546875 -0.640625 \nQ 12.796875 0.140625 7.71875 1.703125 \nL 7.71875 11.625 \nQ 12.109375 9.234375 16.796875 8.0625 \nQ 21.484375 6.890625 26.703125 6.890625 \nQ 35.15625 6.890625 40.078125 11.328125 \nQ 45.015625 15.765625 45.015625 23.390625 \nQ 45.015625 31 40.078125 35.4375 \nQ 35.15625 39.890625 26.703125 39.890625 \nQ 22.75 39.890625 18.8125 39.015625 \nQ 14.890625 38.140625 10.796875 36.28125 \nz\n\" id=\"DejaVuSans-53\"/>\n      </defs>\n      <g transform=\"translate(20.878125 101.800055)scale(0.1 -0.1)\">\n       <use xlink:href=\"#DejaVuSans-53\"/>\n      </g>\n     </g>\n    </g>\n    <g id=\"ytick_7\">\n     <g id=\"line2d_12\">\n      <g>\n       <use style=\"stroke:#000000;stroke-width:0.8;\" x=\"34.240625\" xlink:href=\"#mae6b233e36\" y=\"70.553316\"/>\n      </g>\n     </g>\n     <g id=\"text_13\">\n      <!-- 6 -->\n      <g transform=\"translate(20.878125 74.352535)scale(0.1 -0.1)\">\n       <use xlink:href=\"#DejaVuSans-54\"/>\n      </g>\n     </g>\n    </g>\n    <g id=\"ytick_8\">\n     <g id=\"line2d_13\">\n      <g>\n       <use style=\"stroke:#000000;stroke-width:0.8;\" x=\"34.240625\" xlink:href=\"#mae6b233e36\" y=\"43.105796\"/>\n      </g>\n     </g>\n     <g id=\"text_14\">\n      <!-- 7 -->\n      <defs>\n       <path d=\"M 8.203125 72.90625 \nL 55.078125 72.90625 \nL 55.078125 68.703125 \nL 28.609375 0 \nL 18.3125 0 \nL 43.21875 64.59375 \nL 8.203125 64.59375 \nz\n\" id=\"DejaVuSans-55\"/>\n      </defs>\n      <g transform=\"translate(20.878125 46.905014)scale(0.1 -0.1)\">\n       <use xlink:href=\"#DejaVuSans-55\"/>\n      </g>\n     </g>\n    </g>\n    <g id=\"text_15\">\n     <!-- Density -->\n     <defs>\n      <path d=\"M 19.671875 64.796875 \nL 19.671875 8.109375 \nL 31.59375 8.109375 \nQ 46.6875 8.109375 53.6875 14.9375 \nQ 60.6875 21.78125 60.6875 36.53125 \nQ 60.6875 51.171875 53.6875 57.984375 \nQ 46.6875 64.796875 31.59375 64.796875 \nz\nM 9.8125 72.90625 \nL 30.078125 72.90625 \nQ 51.265625 72.90625 61.171875 64.09375 \nQ 71.09375 55.28125 71.09375 36.53125 \nQ 71.09375 17.671875 61.125 8.828125 \nQ 51.171875 0 30.078125 0 \nL 9.8125 0 \nz\n\" id=\"DejaVuSans-68\"/>\n      <path d=\"M 54.890625 33.015625 \nL 54.890625 0 \nL 45.90625 0 \nL 45.90625 32.71875 \nQ 45.90625 40.484375 42.875 44.328125 \nQ 39.84375 48.1875 33.796875 48.1875 \nQ 26.515625 48.1875 22.3125 43.546875 \nQ 18.109375 38.921875 18.109375 30.90625 \nL 18.109375 0 \nL 9.078125 0 \nL 9.078125 54.6875 \nL 18.109375 54.6875 \nL 18.109375 46.1875 \nQ 21.34375 51.125 25.703125 53.5625 \nQ 30.078125 56 35.796875 56 \nQ 45.21875 56 50.046875 50.171875 \nQ 54.890625 44.34375 54.890625 33.015625 \nz\n\" id=\"DejaVuSans-110\"/>\n      <path d=\"M 9.421875 54.6875 \nL 18.40625 54.6875 \nL 18.40625 0 \nL 9.421875 0 \nz\nM 9.421875 75.984375 \nL 18.40625 75.984375 \nL 18.40625 64.59375 \nL 9.421875 64.59375 \nz\n\" id=\"DejaVuSans-105\"/>\n      <path d=\"M 18.3125 70.21875 \nL 18.3125 54.6875 \nL 36.8125 54.6875 \nL 36.8125 47.703125 \nL 18.3125 47.703125 \nL 18.3125 18.015625 \nQ 18.3125 11.328125 20.140625 9.421875 \nQ 21.96875 7.515625 27.59375 7.515625 \nL 36.8125 7.515625 \nL 36.8125 0 \nL 27.59375 0 \nQ 17.1875 0 13.234375 3.875 \nQ 9.28125 7.765625 9.28125 18.015625 \nL 9.28125 47.703125 \nL 2.6875 47.703125 \nL 2.6875 54.6875 \nL 9.28125 54.6875 \nL 9.28125 70.21875 \nz\n\" id=\"DejaVuSans-116\"/>\n      <path d=\"M 32.171875 -5.078125 \nQ 28.375 -14.84375 24.75 -17.8125 \nQ 21.140625 -20.796875 15.09375 -20.796875 \nL 7.90625 -20.796875 \nL 7.90625 -13.28125 \nL 13.1875 -13.28125 \nQ 16.890625 -13.28125 18.9375 -11.515625 \nQ 21 -9.765625 23.484375 -3.21875 \nL 25.09375 0.875 \nL 2.984375 54.6875 \nL 12.5 54.6875 \nL 29.59375 11.921875 \nL 46.6875 54.6875 \nL 56.203125 54.6875 \nz\n\" id=\"DejaVuSans-121\"/>\n     </defs>\n     <g transform=\"translate(14.798437 145.527031)rotate(-90)scale(0.1 -0.1)\">\n      <use xlink:href=\"#DejaVuSans-68\"/>\n      <use x=\"77.001953\" xlink:href=\"#DejaVuSans-101\"/>\n      <use x=\"138.525391\" xlink:href=\"#DejaVuSans-110\"/>\n      <use x=\"201.904297\" xlink:href=\"#DejaVuSans-115\"/>\n      <use x=\"254.003906\" xlink:href=\"#DejaVuSans-105\"/>\n      <use x=\"281.787109\" xlink:href=\"#DejaVuSans-116\"/>\n      <use x=\"320.996094\" xlink:href=\"#DejaVuSans-121\"/>\n     </g>\n    </g>\n    <g id=\"text_16\">\n     <!-- 1e−5 -->\n     <defs>\n      <path d=\"M 10.59375 35.5 \nL 73.1875 35.5 \nL 73.1875 27.203125 \nL 10.59375 27.203125 \nz\n\" id=\"DejaVuSans-8722\"/>\n     </defs>\n     <g transform=\"translate(34.240625 14.798437)scale(0.1 -0.1)\">\n      <use xlink:href=\"#DejaVuSans-49\"/>\n      <use x=\"63.623047\" xlink:href=\"#DejaVuSans-101\"/>\n      <use x=\"125.146484\" xlink:href=\"#DejaVuSans-8722\"/>\n      <use x=\"208.935547\" xlink:href=\"#DejaVuSans-53\"/>\n     </g>\n    </g>\n   </g>\n   <g id=\"line2d_14\">\n    <path clip-path=\"url(#pd9952c53ba)\" d=\"M 49.458807 235.024011 \nL 52.517738 234.807754 \nL 55.576669 234.409818 \nL 58.6356 233.710376 \nL 60.165065 233.195657 \nL 61.694531 232.535644 \nL 63.223996 231.698832 \nL 64.753462 230.649741 \nL 66.282927 229.349204 \nL 67.812393 227.75491 \nL 69.341858 225.822228 \nL 70.871324 223.505355 \nL 72.400789 220.758767 \nL 73.930255 217.538985 \nL 75.45972 213.806613 \nL 76.989186 209.528603 \nL 78.518651 204.680655 \nL 80.048117 199.249672 \nL 81.577583 193.236146 \nL 83.107048 186.656334 \nL 86.165979 171.952286 \nL 89.22491 155.639737 \nL 95.342772 121.699554 \nL 98.401703 106.397117 \nL 99.931169 99.719538 \nL 101.460634 93.892677 \nL 102.9901 89.050277 \nL 104.519565 85.305649 \nL 106.049031 82.746964 \nL 107.578496 81.433456 \nL 109.107962 81.39275 \nL 110.637427 82.619507 \nL 112.166893 85.075495 \nL 113.696358 88.691106 \nL 115.225824 93.368246 \nL 116.755289 98.984457 \nL 118.284755 105.398026 \nL 121.343686 119.989398 \nL 130.520479 166.735233 \nL 133.57941 180.081433 \nL 135.108875 186.023415 \nL 136.638341 191.451567 \nL 138.167806 196.366524 \nL 139.697272 200.781999 \nL 141.226737 204.721831 \nL 142.756203 208.217059 \nL 144.285668 211.303188 \nL 145.815134 214.017775 \nL 147.344599 216.398408 \nL 148.874065 218.481127 \nL 150.40353 220.299267 \nL 151.932996 221.882724 \nL 153.462461 223.257572 \nL 154.991927 224.445965 \nL 156.521392 225.466279 \nL 158.050858 226.333395 \nL 159.580323 227.059097 \nL 161.109789 227.652506 \nL 162.639255 228.120534 \nL 164.16872 228.468333 \nL 165.698186 228.699708 \nL 168.757117 228.823994 \nL 171.816048 228.511016 \nL 174.874979 227.778839 \nL 177.93391 226.654425 \nL 180.992841 225.179979 \nL 184.051772 223.416395 \nL 188.640168 220.406628 \nL 196.287496 215.22841 \nL 199.346427 213.378524 \nL 202.405358 211.767333 \nL 205.464289 210.437646 \nL 208.52322 209.405123 \nL 211.582151 208.659577 \nL 214.641082 208.169608 \nL 217.700013 207.890069 \nL 222.288409 207.758226 \nL 226.876806 207.854944 \nL 231.465202 208.128908 \nL 236.053599 208.623811 \nL 239.11253 209.121581 \nL 242.171461 209.777765 \nL 246.759858 211.046506 \nL 258.995582 214.817926 \nL 262.054513 215.476483 \nL 265.113444 215.95834 \nL 269.70184 216.441234 \nL 275.819702 217.06468 \nL 278.878633 217.568128 \nL 281.937564 218.285807 \nL 284.996495 219.24191 \nL 288.055426 220.425806 \nL 292.643823 222.536626 \nL 306.409012 229.297755 \nL 310.997409 231.092395 \nL 314.05634 232.078745 \nL 317.115271 232.893975 \nL 320.174202 233.546691 \nL 324.762599 234.256825 \nL 329.350995 234.70712 \nL 335.468857 235.029575 \nL 343.116185 235.185122 \nL 353.822443 235.233153 \nL 353.822443 235.233153 \n\" style=\"fill:none;stroke:#1f77b4;stroke-linecap:square;stroke-width:1.5;\"/>\n   </g>\n   <g id=\"patch_17\">\n    <path d=\"M 34.240625 235.238438 \nL 34.240625 17.798437 \n\" style=\"fill:none;stroke:#000000;stroke-linecap:square;stroke-linejoin:miter;stroke-width:0.8;\"/>\n   </g>\n   <g id=\"patch_18\">\n    <path d=\"M 369.040625 235.238438 \nL 369.040625 17.798437 \n\" style=\"fill:none;stroke:#000000;stroke-linecap:square;stroke-linejoin:miter;stroke-width:0.8;\"/>\n   </g>\n   <g id=\"patch_19\">\n    <path d=\"M 34.240625 235.238438 \nL 369.040625 235.238438 \n\" style=\"fill:none;stroke:#000000;stroke-linecap:square;stroke-linejoin:miter;stroke-width:0.8;\"/>\n   </g>\n   <g id=\"patch_20\">\n    <path d=\"M 34.240625 17.798438 \nL 369.040625 17.798438 \n\" style=\"fill:none;stroke:#000000;stroke-linecap:square;stroke-linejoin:miter;stroke-width:0.8;\"/>\n   </g>\n  </g>\n </g>\n <defs>\n  <clipPath id=\"pd9952c53ba\">\n   <rect height=\"217.44\" width=\"334.8\" x=\"34.240625\" y=\"17.798438\"/>\n  </clipPath>\n </defs>\n</svg>\n"
          },
          "metadata": {
            "needs_background": "light"
          }
        }
      ]
    },
    {
      "cell_type": "markdown",
      "source": [
        "# Построение линейной регрессии между ценой на закрытии биткоина и эфириума"
      ],
      "metadata": {
        "id": "nvuRJxvJaC-F"
      }
    },
    {
      "cell_type": "markdown",
      "source": [
        "Проверим гипотезу, что зависимость хорошо восстанавливает результаты и расчитаем коэффициент детерминации"
      ],
      "metadata": {
        "id": "dTprQa5qOpKj"
      }
    },
    {
      "cell_type": "code",
      "source": [
        "x1 = btc_df['Close']\n",
        "y1 = eth_df['Close']"
      ],
      "metadata": {
        "id": "p8lNFr2TZ0xE"
      },
      "execution_count": 41,
      "outputs": []
    },
    {
      "cell_type": "markdown",
      "source": [
        "Найдем коэффиенты линейной регрессии"
      ],
      "metadata": {
        "id": "SFQ_22MePHee"
      }
    },
    {
      "cell_type": "code",
      "source": [
        "b1 = (np.mean(x1 * y1) - np.mean(x1) * np.mean (y1)) / (np.mean (x1 ** 2) - np.mean(x1) ** 2)\n",
        "b1"
      ],
      "metadata": {
        "colab": {
          "base_uri": "https://localhost:8080/"
        },
        "id": "2D3TyQ8JPE33",
        "outputId": "e459fb27-076b-4d8f-abaf-bf149420dfa5"
      },
      "execution_count": 36,
      "outputs": [
        {
          "output_type": "execute_result",
          "data": {
            "text/plain": [
              "0.0018703239557052438"
            ]
          },
          "metadata": {},
          "execution_count": 36
        }
      ]
    },
    {
      "cell_type": "code",
      "source": [
        "b0 = np.mean(y1) - b1 * np.mean(x1)\n",
        "b0"
      ],
      "metadata": {
        "colab": {
          "base_uri": "https://localhost:8080/"
        },
        "id": "gbZhOm_HPhhP",
        "outputId": "c72c5890-c502-4780-fabc-d205fb4cf8af"
      },
      "execution_count": 37,
      "outputs": [
        {
          "output_type": "execute_result",
          "data": {
            "text/plain": [
              "991.3472284483333"
            ]
          },
          "metadata": {},
          "execution_count": 37
        }
      ]
    },
    {
      "cell_type": "markdown",
      "source": [
        "Мы получаем линейную регрессию вида: \n",
        "\n",
        "y = 991.3 + 0.002 * x"
      ],
      "metadata": {
        "id": "Xx255oHAPxl0"
      }
    },
    {
      "cell_type": "markdown",
      "source": [
        "То есть ростом цен на биткоин, цена на эфириум увеличивактся на 0.002 доллара"
      ],
      "metadata": {
        "id": "L-IyPdl6QS5o"
      }
    },
    {
      "cell_type": "markdown",
      "source": [
        "Построим граффик:"
      ],
      "metadata": {
        "id": "nw3aek8vQhCf"
      }
    },
    {
      "cell_type": "code",
      "source": [
        "ox = x1\n",
        "oy = b0 + b1 * ox\n",
        "\n",
        "plt.scatter(x1, y1)\n",
        "plt.plot(ox, oy, color='red')"
      ],
      "metadata": {
        "colab": {
          "base_uri": "https://localhost:8080/",
          "height": 373
        },
        "id": "ymJL1qGBPvR2",
        "outputId": "f8d7da87-dc72-42b5-9ac9-cc3a395cfe38"
      },
      "execution_count": 42,
      "outputs": [
        {
          "output_type": "execute_result",
          "data": {
            "text/plain": [
              "[<matplotlib.lines.Line2D at 0x7f90496147d0>]"
            ]
          },
          "metadata": {},
          "execution_count": 42
        },
        {
          "output_type": "display_data",
          "data": {
            "text/plain": [
              "<Figure size 432x288 with 1 Axes>"
            ],
            "image/svg+xml": "<?xml version=\"1.0\" encoding=\"utf-8\" standalone=\"no\"?>\n<!DOCTYPE svg PUBLIC \"-//W3C//DTD SVG 1.1//EN\"\n  \"http://www.w3.org/Graphics/SVG/1.1/DTD/svg11.dtd\">\n<!-- Created with matplotlib (https://matplotlib.org/) -->\n<svg height=\"250.290503pt\" version=\"1.1\" viewBox=\"0 0 393.850089 250.290503\" width=\"393.850089pt\" xmlns=\"http://www.w3.org/2000/svg\" xmlns:xlink=\"http://www.w3.org/1999/xlink\">\n <defs>\n  <style type=\"text/css\">\n*{stroke-linecap:butt;stroke-linejoin:round;}\n  </style>\n </defs>\n <g id=\"figure_1\">\n  <g id=\"patch_1\">\n   <path d=\"M -0 250.290503 \nL 393.850089 250.290503 \nL 393.850089 0 \nL -0 0 \nz\n\" style=\"fill:none;\"/>\n  </g>\n  <g id=\"axes_1\">\n   <g id=\"patch_2\">\n    <path d=\"M 39.65 226.412378 \nL 374.45 226.412378 \nL 374.45 8.972378 \nL 39.65 8.972378 \nz\n\" style=\"fill:#ffffff;\"/>\n   </g>\n   <g id=\"PathCollection_1\">\n    <defs>\n     <path d=\"M 0 3 \nC 0.795609 3 1.55874 2.683901 2.12132 2.12132 \nC 2.683901 1.55874 3 0.795609 3 0 \nC 3 -0.795609 2.683901 -1.55874 2.12132 -2.12132 \nC 1.55874 -2.683901 0.795609 -3 0 -3 \nC -0.795609 -3 -1.55874 -2.683901 -2.12132 -2.12132 \nC -2.683901 -1.55874 -3 -0.795609 -3 0 \nC -3 0.795609 -2.683901 1.55874 -2.12132 2.12132 \nC -1.55874 2.683901 -0.795609 3 0 3 \nz\n\" id=\"m1372324b23\" style=\"stroke:#1f77b4;\"/>\n    </defs>\n    <g clip-path=\"url(#p92e6eef6b7)\">\n     <use style=\"fill:#1f77b4;stroke:#1f77b4;\" x=\"73.352438\" xlink:href=\"#m1372324b23\" y=\"206.637297\"/>\n     <use style=\"fill:#1f77b4;stroke:#1f77b4;\" x=\"70.866434\" xlink:href=\"#m1372324b23\" y=\"207.54171\"/>\n     <use style=\"fill:#1f77b4;stroke:#1f77b4;\" x=\"69.633746\" xlink:href=\"#m1372324b23\" y=\"206.896651\"/>\n     <use style=\"fill:#1f77b4;stroke:#1f77b4;\" x=\"67.705606\" xlink:href=\"#m1372324b23\" y=\"207.179836\"/>\n     <use style=\"fill:#1f77b4;stroke:#1f77b4;\" x=\"70.588945\" xlink:href=\"#m1372324b23\" y=\"206.811565\"/>\n     <use style=\"fill:#1f77b4;stroke:#1f77b4;\" x=\"70.949751\" xlink:href=\"#m1372324b23\" y=\"205.93709\"/>\n     <use style=\"fill:#1f77b4;stroke:#1f77b4;\" x=\"74.166029\" xlink:href=\"#m1372324b23\" y=\"206.11579\"/>\n     <use style=\"fill:#1f77b4;stroke:#1f77b4;\" x=\"76.797331\" xlink:href=\"#m1372324b23\" y=\"206.217516\"/>\n     <use style=\"fill:#1f77b4;stroke:#1f77b4;\" x=\"76.027553\" xlink:href=\"#m1372324b23\" y=\"206.156053\"/>\n     <use style=\"fill:#1f77b4;stroke:#1f77b4;\" x=\"76.411542\" xlink:href=\"#m1372324b23\" y=\"205.519776\"/>\n     <use style=\"fill:#1f77b4;stroke:#1f77b4;\" x=\"77.577047\" xlink:href=\"#m1372324b23\" y=\"205.236549\"/>\n     <use style=\"fill:#1f77b4;stroke:#1f77b4;\" x=\"78.353684\" xlink:href=\"#m1372324b23\" y=\"204.720434\"/>\n     <use style=\"fill:#1f77b4;stroke:#1f77b4;\" x=\"77.741552\" xlink:href=\"#m1372324b23\" y=\"204.985056\"/>\n     <use style=\"fill:#1f77b4;stroke:#1f77b4;\" x=\"78.604017\" xlink:href=\"#m1372324b23\" y=\"204.138343\"/>\n     <use style=\"fill:#1f77b4;stroke:#1f77b4;\" x=\"77.587834\" xlink:href=\"#m1372324b23\" y=\"202.904337\"/>\n     <use style=\"fill:#1f77b4;stroke:#1f77b4;\" x=\"78.604683\" xlink:href=\"#m1372324b23\" y=\"200.197289\"/>\n     <use style=\"fill:#1f77b4;stroke:#1f77b4;\" x=\"81.146466\" xlink:href=\"#m1372324b23\" y=\"200.558326\"/>\n     <use style=\"fill:#1f77b4;stroke:#1f77b4;\" x=\"83.699607\" xlink:href=\"#m1372324b23\" y=\"200.347014\"/>\n     <use style=\"fill:#1f77b4;stroke:#1f77b4;\" x=\"86.007525\" xlink:href=\"#m1372324b23\" y=\"199.96967\"/>\n     <use style=\"fill:#1f77b4;stroke:#1f77b4;\" x=\"87.145163\" xlink:href=\"#m1372324b23\" y=\"200.281287\"/>\n     <use style=\"fill:#1f77b4;stroke:#1f77b4;\" x=\"86.339948\" xlink:href=\"#m1372324b23\" y=\"202.178624\"/>\n     <use style=\"fill:#1f77b4;stroke:#1f77b4;\" x=\"87.97219\" xlink:href=\"#m1372324b23\" y=\"201.359506\"/>\n     <use style=\"fill:#1f77b4;stroke:#1f77b4;\" x=\"91.4828\" xlink:href=\"#m1372324b23\" y=\"200.547288\"/>\n     <use style=\"fill:#1f77b4;stroke:#1f77b4;\" x=\"91.951197\" xlink:href=\"#m1372324b23\" y=\"200.676525\"/>\n     <use style=\"fill:#1f77b4;stroke:#1f77b4;\" x=\"93.127396\" xlink:href=\"#m1372324b23\" y=\"200.576012\"/>\n     <use style=\"fill:#1f77b4;stroke:#1f77b4;\" x=\"94.707644\" xlink:href=\"#m1372324b23\" y=\"200.394093\"/>\n     <use style=\"fill:#1f77b4;stroke:#1f77b4;\" x=\"95.935412\" xlink:href=\"#m1372324b23\" y=\"200.68355\"/>\n     <use style=\"fill:#1f77b4;stroke:#1f77b4;\" x=\"107.171258\" xlink:href=\"#m1372324b23\" y=\"202.134095\"/>\n     <use style=\"fill:#1f77b4;stroke:#1f77b4;\" x=\"124.242663\" xlink:href=\"#m1372324b23\" y=\"201.890757\"/>\n     <use style=\"fill:#1f77b4;stroke:#1f77b4;\" x=\"117.948645\" xlink:href=\"#m1372324b23\" y=\"200.986679\"/>\n     <use style=\"fill:#1f77b4;stroke:#1f77b4;\" x=\"111.366486\" xlink:href=\"#m1372324b23\" y=\"200.2562\"/>\n     <use style=\"fill:#1f77b4;stroke:#1f77b4;\" x=\"112.677998\" xlink:href=\"#m1372324b23\" y=\"201.584993\"/>\n     <use style=\"fill:#1f77b4;stroke:#1f77b4;\" x=\"119.68692\" xlink:href=\"#m1372324b23\" y=\"198.515446\"/>\n     <use style=\"fill:#1f77b4;stroke:#1f77b4;\" x=\"121.951309\" xlink:href=\"#m1372324b23\" y=\"192.816827\"/>\n     <use style=\"fill:#1f77b4;stroke:#1f77b4;\" x=\"117.185957\" xlink:href=\"#m1372324b23\" y=\"190.670422\"/>\n     <use style=\"fill:#1f77b4;stroke:#1f77b4;\" x=\"117.923094\" xlink:href=\"#m1372324b23\" y=\"190.961052\"/>\n     <use style=\"fill:#1f77b4;stroke:#1f77b4;\" x=\"123.330477\" xlink:href=\"#m1372324b23\" y=\"191.436357\"/>\n     <use style=\"fill:#1f77b4;stroke:#1f77b4;\" x=\"131.801837\" xlink:href=\"#m1372324b23\" y=\"190.94462\"/>\n     <use style=\"fill:#1f77b4;stroke:#1f77b4;\" x=\"130.114663\" xlink:href=\"#m1372324b23\" y=\"189.950942\"/>\n     <use style=\"fill:#1f77b4;stroke:#1f77b4;\" x=\"129.988804\" xlink:href=\"#m1372324b23\" y=\"186.82892\"/>\n     <use style=\"fill:#1f77b4;stroke:#1f77b4;\" x=\"123.660715\" xlink:href=\"#m1372324b23\" y=\"185.48353\"/>\n     <use style=\"fill:#1f77b4;stroke:#1f77b4;\" x=\"118.209808\" xlink:href=\"#m1372324b23\" y=\"185.807021\"/>\n     <use style=\"fill:#1f77b4;stroke:#1f77b4;\" x=\"114.322118\" xlink:href=\"#m1372324b23\" y=\"185.724361\"/>\n     <use style=\"fill:#1f77b4;stroke:#1f77b4;\" x=\"104.996287\" xlink:href=\"#m1372324b23\" y=\"191.837241\"/>\n     <use style=\"fill:#1f77b4;stroke:#1f77b4;\" x=\"109.100202\" xlink:href=\"#m1372324b23\" y=\"189.975525\"/>\n     <use style=\"fill:#1f77b4;stroke:#1f77b4;\" x=\"105.441027\" xlink:href=\"#m1372324b23\" y=\"191.030791\"/>\n     <use style=\"fill:#1f77b4;stroke:#1f77b4;\" x=\"105.917939\" xlink:href=\"#m1372324b23\" y=\"188.033536\"/>\n     <use style=\"fill:#1f77b4;stroke:#1f77b4;\" x=\"115.726833\" xlink:href=\"#m1372324b23\" y=\"187.698964\"/>\n     <use style=\"fill:#1f77b4;stroke:#1f77b4;\" x=\"114.49055\" xlink:href=\"#m1372324b23\" y=\"188.158634\"/>\n     <use style=\"fill:#1f77b4;stroke:#1f77b4;\" x=\"108.661611\" xlink:href=\"#m1372324b23\" y=\"189.238148\"/>\n     <use style=\"fill:#1f77b4;stroke:#1f77b4;\" x=\"108.896757\" xlink:href=\"#m1372324b23\" y=\"188.545385\"/>\n     <use style=\"fill:#1f77b4;stroke:#1f77b4;\" x=\"100.834654\" xlink:href=\"#m1372324b23\" y=\"190.064582\"/>\n     <use style=\"fill:#1f77b4;stroke:#1f77b4;\" x=\"106.532063\" xlink:href=\"#m1372324b23\" y=\"188.414057\"/>\n     <use style=\"fill:#1f77b4;stroke:#1f77b4;\" x=\"104.170207\" xlink:href=\"#m1372324b23\" y=\"187.748928\"/>\n     <use style=\"fill:#1f77b4;stroke:#1f77b4;\" x=\"110.438679\" xlink:href=\"#m1372324b23\" y=\"183.074345\"/>\n     <use style=\"fill:#1f77b4;stroke:#1f77b4;\" x=\"111.474358\" xlink:href=\"#m1372324b23\" y=\"179.801554\"/>\n     <use style=\"fill:#1f77b4;stroke:#1f77b4;\" x=\"113.358355\" xlink:href=\"#m1372324b23\" y=\"179.040511\"/>\n     <use style=\"fill:#1f77b4;stroke:#1f77b4;\" x=\"122.018018\" xlink:href=\"#m1372324b23\" y=\"178.338172\"/>\n     <use style=\"fill:#1f77b4;stroke:#1f77b4;\" x=\"122.479318\" xlink:href=\"#m1372324b23\" y=\"176.500161\"/>\n     <use style=\"fill:#1f77b4;stroke:#1f77b4;\" x=\"117.51431\" xlink:href=\"#m1372324b23\" y=\"171.838664\"/>\n     <use style=\"fill:#1f77b4;stroke:#1f77b4;\" x=\"111.32816\" xlink:href=\"#m1372324b23\" y=\"172.032667\"/>\n     <use style=\"fill:#1f77b4;stroke:#1f77b4;\" x=\"108.609096\" xlink:href=\"#m1372324b23\" y=\"165.710442\"/>\n     <use style=\"fill:#1f77b4;stroke:#1f77b4;\" x=\"110.397044\" xlink:href=\"#m1372324b23\" y=\"167.546779\"/>\n     <use style=\"fill:#1f77b4;stroke:#1f77b4;\" x=\"102.980761\" xlink:href=\"#m1372324b23\" y=\"171.765076\"/>\n     <use style=\"fill:#1f77b4;stroke:#1f77b4;\" x=\"105.7003\" xlink:href=\"#m1372324b23\" y=\"166.820105\"/>\n     <use style=\"fill:#1f77b4;stroke:#1f77b4;\" x=\"107.496298\" xlink:href=\"#m1372324b23\" y=\"161.668161\"/>\n     <use style=\"fill:#1f77b4;stroke:#1f77b4;\" x=\"104.713357\" xlink:href=\"#m1372324b23\" y=\"162.907856\"/>\n     <use style=\"fill:#1f77b4;stroke:#1f77b4;\" x=\"104.939511\" xlink:href=\"#m1372324b23\" y=\"166.037401\"/>\n     <use style=\"fill:#1f77b4;stroke:#1f77b4;\" x=\"93.918939\" xlink:href=\"#m1372324b23\" y=\"175.998017\"/>\n     <use style=\"fill:#1f77b4;stroke:#1f77b4;\" x=\"92.490563\" xlink:href=\"#m1372324b23\" y=\"177.647037\"/>\n     <use style=\"fill:#1f77b4;stroke:#1f77b4;\" x=\"93.845133\" xlink:href=\"#m1372324b23\" y=\"176.725941\"/>\n     <use style=\"fill:#1f77b4;stroke:#1f77b4;\" x=\"94.472028\" xlink:href=\"#m1372324b23\" y=\"176.608037\"/>\n     <use style=\"fill:#1f77b4;stroke:#1f77b4;\" x=\"100.583896\" xlink:href=\"#m1372324b23\" y=\"171.755879\"/>\n     <use style=\"fill:#1f77b4;stroke:#1f77b4;\" x=\"94.437485\" xlink:href=\"#m1372324b23\" y=\"176.169859\"/>\n     <use style=\"fill:#1f77b4;stroke:#1f77b4;\" x=\"91.273681\" xlink:href=\"#m1372324b23\" y=\"178.106538\"/>\n     <use style=\"fill:#1f77b4;stroke:#1f77b4;\" x=\"90.975611\" xlink:href=\"#m1372324b23\" y=\"178.81862\"/>\n     <use style=\"fill:#1f77b4;stroke:#1f77b4;\" x=\"93.29867\" xlink:href=\"#m1372324b23\" y=\"175.785196\"/>\n     <use style=\"fill:#1f77b4;stroke:#1f77b4;\" x=\"92.825542\" xlink:href=\"#m1372324b23\" y=\"175.900176\"/>\n     <use style=\"fill:#1f77b4;stroke:#1f77b4;\" x=\"92.409189\" xlink:href=\"#m1372324b23\" y=\"175.936133\"/>\n     <use style=\"fill:#1f77b4;stroke:#1f77b4;\" x=\"93.683322\" xlink:href=\"#m1372324b23\" y=\"173.766151\"/>\n     <use style=\"fill:#1f77b4;stroke:#1f77b4;\" x=\"95.318451\" xlink:href=\"#m1372324b23\" y=\"167.956941\"/>\n     <use style=\"fill:#1f77b4;stroke:#1f77b4;\" x=\"93.000599\" xlink:href=\"#m1372324b23\" y=\"170.618206\"/>\n     <use style=\"fill:#1f77b4;stroke:#1f77b4;\" x=\"87.369898\" xlink:href=\"#m1372324b23\" y=\"175.268832\"/>\n     <use style=\"fill:#1f77b4;stroke:#1f77b4;\" x=\"87.913049\" xlink:href=\"#m1372324b23\" y=\"173.296192\"/>\n     <use style=\"fill:#1f77b4;stroke:#1f77b4;\" x=\"82.942556\" xlink:href=\"#m1372324b23\" y=\"176.704617\"/>\n     <use style=\"fill:#1f77b4;stroke:#1f77b4;\" x=\"81.334914\" xlink:href=\"#m1372324b23\" y=\"181.763949\"/>\n     <use style=\"fill:#1f77b4;stroke:#1f77b4;\" x=\"82.963232\" xlink:href=\"#m1372324b23\" y=\"179.747241\"/>\n     <use style=\"fill:#1f77b4;stroke:#1f77b4;\" x=\"78.715013\" xlink:href=\"#m1372324b23\" y=\"185.154937\"/>\n     <use style=\"fill:#1f77b4;stroke:#1f77b4;\" x=\"72.46149\" xlink:href=\"#m1372324b23\" y=\"190.871785\"/>\n     <use style=\"fill:#1f77b4;stroke:#1f77b4;\" x=\"76.240507\" xlink:href=\"#m1372324b23\" y=\"186.892599\"/>\n     <use style=\"fill:#1f77b4;stroke:#1f77b4;\" x=\"75.612665\" xlink:href=\"#m1372324b23\" y=\"188.40005\"/>\n     <use style=\"fill:#1f77b4;stroke:#1f77b4;\" x=\"78.660982\" xlink:href=\"#m1372324b23\" y=\"185.860496\"/>\n     <use style=\"fill:#1f77b4;stroke:#1f77b4;\" x=\"80.891264\" xlink:href=\"#m1372324b23\" y=\"183.098552\"/>\n     <use style=\"fill:#1f77b4;stroke:#1f77b4;\" x=\"80.346787\" xlink:href=\"#m1372324b23\" y=\"184.079019\"/>\n     <use style=\"fill:#1f77b4;stroke:#1f77b4;\" x=\"78.019327\" xlink:href=\"#m1372324b23\" y=\"185.992077\"/>\n     <use style=\"fill:#1f77b4;stroke:#1f77b4;\" x=\"81.788266\" xlink:href=\"#m1372324b23\" y=\"183.732323\"/>\n     <use style=\"fill:#1f77b4;stroke:#1f77b4;\" x=\"80.235173\" xlink:href=\"#m1372324b23\" y=\"184.712746\"/>\n     <use style=\"fill:#1f77b4;stroke:#1f77b4;\" x=\"84.475916\" xlink:href=\"#m1372324b23\" y=\"181.438827\"/>\n     <use style=\"fill:#1f77b4;stroke:#1f77b4;\" x=\"87.654251\" xlink:href=\"#m1372324b23\" y=\"180.877932\"/>\n     <use style=\"fill:#1f77b4;stroke:#1f77b4;\" x=\"87.973613\" xlink:href=\"#m1372324b23\" y=\"180.575472\"/>\n     <use style=\"fill:#1f77b4;stroke:#1f77b4;\" x=\"92.131462\" xlink:href=\"#m1372324b23\" y=\"179.325118\"/>\n     <use style=\"fill:#1f77b4;stroke:#1f77b4;\" x=\"89.477684\" xlink:href=\"#m1372324b23\" y=\"181.423773\"/>\n     <use style=\"fill:#1f77b4;stroke:#1f77b4;\" x=\"92.664202\" xlink:href=\"#m1372324b23\" y=\"180.589898\"/>\n     <use style=\"fill:#1f77b4;stroke:#1f77b4;\" x=\"93.508265\" xlink:href=\"#m1372324b23\" y=\"182.617477\"/>\n     <use style=\"fill:#1f77b4;stroke:#1f77b4;\" x=\"90.133443\" xlink:href=\"#m1372324b23\" y=\"184.51569\"/>\n     <use style=\"fill:#1f77b4;stroke:#1f77b4;\" x=\"86.890621\" xlink:href=\"#m1372324b23\" y=\"186.067964\"/>\n     <use style=\"fill:#1f77b4;stroke:#1f77b4;\" x=\"88.291551\" xlink:href=\"#m1372324b23\" y=\"183.921222\"/>\n     <use style=\"fill:#1f77b4;stroke:#1f77b4;\" x=\"85.982547\" xlink:href=\"#m1372324b23\" y=\"184.911054\"/>\n     <use style=\"fill:#1f77b4;stroke:#1f77b4;\" x=\"85.28071\" xlink:href=\"#m1372324b23\" y=\"184.731477\"/>\n     <use style=\"fill:#1f77b4;stroke:#1f77b4;\" x=\"88.601926\" xlink:href=\"#m1372324b23\" y=\"183.7069\"/>\n     <use style=\"fill:#1f77b4;stroke:#1f77b4;\" x=\"90.29998\" xlink:href=\"#m1372324b23\" y=\"183.332692\"/>\n     <use style=\"fill:#1f77b4;stroke:#1f77b4;\" x=\"88.749543\" xlink:href=\"#m1372324b23\" y=\"184.297104\"/>\n     <use style=\"fill:#1f77b4;stroke:#1f77b4;\" x=\"91.366413\" xlink:href=\"#m1372324b23\" y=\"183.586276\"/>\n     <use style=\"fill:#1f77b4;stroke:#1f77b4;\" x=\"92.00703\" xlink:href=\"#m1372324b23\" y=\"184.227947\"/>\n     <use style=\"fill:#1f77b4;stroke:#1f77b4;\" x=\"93.915155\" xlink:href=\"#m1372324b23\" y=\"184.212395\"/>\n     <use style=\"fill:#1f77b4;stroke:#1f77b4;\" x=\"94.023498\" xlink:href=\"#m1372324b23\" y=\"183.817157\"/>\n     <use style=\"fill:#1f77b4;stroke:#1f77b4;\" x=\"94.310688\" xlink:href=\"#m1372324b23\" y=\"184.360446\"/>\n     <use style=\"fill:#1f77b4;stroke:#1f77b4;\" x=\"90.556892\" xlink:href=\"#m1372324b23\" y=\"185.896287\"/>\n     <use style=\"fill:#1f77b4;stroke:#1f77b4;\" x=\"86.704068\" xlink:href=\"#m1372324b23\" y=\"188.577202\"/>\n     <use style=\"fill:#1f77b4;stroke:#1f77b4;\" x=\"84.004585\" xlink:href=\"#m1372324b23\" y=\"190.593951\"/>\n     <use style=\"fill:#1f77b4;stroke:#1f77b4;\" x=\"83.732726\" xlink:href=\"#m1372324b23\" y=\"189.577109\"/>\n     <use style=\"fill:#1f77b4;stroke:#1f77b4;\" x=\"81.501691\" xlink:href=\"#m1372324b23\" y=\"191.334254\"/>\n     <use style=\"fill:#1f77b4;stroke:#1f77b4;\" x=\"84.873344\" xlink:href=\"#m1372324b23\" y=\"189.81029\"/>\n     <use style=\"fill:#1f77b4;stroke:#1f77b4;\" x=\"83.106164\" xlink:href=\"#m1372324b23\" y=\"190.79318\"/>\n     <use style=\"fill:#1f77b4;stroke:#1f77b4;\" x=\"83.057571\" xlink:href=\"#m1372324b23\" y=\"191.169644\"/>\n     <use style=\"fill:#1f77b4;stroke:#1f77b4;\" x=\"78.680947\" xlink:href=\"#m1372324b23\" y=\"194.369684\"/>\n     <use style=\"fill:#1f77b4;stroke:#1f77b4;\" x=\"78.827857\" xlink:href=\"#m1372324b23\" y=\"194.494574\"/>\n     <use style=\"fill:#1f77b4;stroke:#1f77b4;\" x=\"79.005229\" xlink:href=\"#m1372324b23\" y=\"194.897547\"/>\n     <use style=\"fill:#1f77b4;stroke:#1f77b4;\" x=\"77.011137\" xlink:href=\"#m1372324b23\" y=\"196.941558\"/>\n     <use style=\"fill:#1f77b4;stroke:#1f77b4;\" x=\"78.462693\" xlink:href=\"#m1372324b23\" y=\"197.532555\"/>\n     <use style=\"fill:#1f77b4;stroke:#1f77b4;\" x=\"80.388186\" xlink:href=\"#m1372324b23\" y=\"196.776529\"/>\n     <use style=\"fill:#1f77b4;stroke:#1f77b4;\" x=\"81.726284\" xlink:href=\"#m1372324b23\" y=\"196.757757\"/>\n     <use style=\"fill:#1f77b4;stroke:#1f77b4;\" x=\"81.801088\" xlink:href=\"#m1372324b23\" y=\"196.567225\"/>\n     <use style=\"fill:#1f77b4;stroke:#1f77b4;\" x=\"80.850997\" xlink:href=\"#m1372324b23\" y=\"197.488318\"/>\n     <use style=\"fill:#1f77b4;stroke:#1f77b4;\" x=\"81.566132\" xlink:href=\"#m1372324b23\" y=\"197.491788\"/>\n     <use style=\"fill:#1f77b4;stroke:#1f77b4;\" x=\"80.565466\" xlink:href=\"#m1372324b23\" y=\"198.042856\"/>\n     <use style=\"fill:#1f77b4;stroke:#1f77b4;\" x=\"79.750078\" xlink:href=\"#m1372324b23\" y=\"198.132834\"/>\n     <use style=\"fill:#1f77b4;stroke:#1f77b4;\" x=\"78.395134\" xlink:href=\"#m1372324b23\" y=\"199.568454\"/>\n     <use style=\"fill:#1f77b4;stroke:#1f77b4;\" x=\"76.614467\" xlink:href=\"#m1372324b23\" y=\"201.233991\"/>\n     <use style=\"fill:#1f77b4;stroke:#1f77b4;\" x=\"77.189034\" xlink:href=\"#m1372324b23\" y=\"201.394419\"/>\n     <use style=\"fill:#1f77b4;stroke:#1f77b4;\" x=\"73.457095\" xlink:href=\"#m1372324b23\" y=\"203.916077\"/>\n     <use style=\"fill:#1f77b4;stroke:#1f77b4;\" x=\"72.15514\" xlink:href=\"#m1372324b23\" y=\"203.553284\"/>\n     <use style=\"fill:#1f77b4;stroke:#1f77b4;\" x=\"72.547882\" xlink:href=\"#m1372324b23\" y=\"203.477522\"/>\n     <use style=\"fill:#1f77b4;stroke:#1f77b4;\" x=\"71.936129\" xlink:href=\"#m1372324b23\" y=\"204.182036\"/>\n     <use style=\"fill:#1f77b4;stroke:#1f77b4;\" x=\"73.069601\" xlink:href=\"#m1372324b23\" y=\"203.896969\"/>\n     <use style=\"fill:#1f77b4;stroke:#1f77b4;\" x=\"74.831105\" xlink:href=\"#m1372324b23\" y=\"202.623074\"/>\n     <use style=\"fill:#1f77b4;stroke:#1f77b4;\" x=\"71.981596\" xlink:href=\"#m1372324b23\" y=\"204.142901\"/>\n     <use style=\"fill:#1f77b4;stroke:#1f77b4;\" x=\"71.781133\" xlink:href=\"#m1372324b23\" y=\"204.030471\"/>\n     <use style=\"fill:#1f77b4;stroke:#1f77b4;\" x=\"70.952447\" xlink:href=\"#m1372324b23\" y=\"204.571797\"/>\n     <use style=\"fill:#1f77b4;stroke:#1f77b4;\" x=\"72.252462\" xlink:href=\"#m1372324b23\" y=\"203.943421\"/>\n     <use style=\"fill:#1f77b4;stroke:#1f77b4;\" x=\"72.7844\" xlink:href=\"#m1372324b23\" y=\"203.308146\"/>\n     <use style=\"fill:#1f77b4;stroke:#1f77b4;\" x=\"71.58838\" xlink:href=\"#m1372324b23\" y=\"203.391015\"/>\n     <use style=\"fill:#1f77b4;stroke:#1f77b4;\" x=\"71.891322\" xlink:href=\"#m1372324b23\" y=\"202.733873\"/>\n     <use style=\"fill:#1f77b4;stroke:#1f77b4;\" x=\"72.523233\" xlink:href=\"#m1372324b23\" y=\"202.05248\"/>\n     <use style=\"fill:#1f77b4;stroke:#1f77b4;\" x=\"76.880412\" xlink:href=\"#m1372324b23\" y=\"199.443438\"/>\n     <use style=\"fill:#1f77b4;stroke:#1f77b4;\" x=\"76.912159\" xlink:href=\"#m1372324b23\" y=\"199.452052\"/>\n     <use style=\"fill:#1f77b4;stroke:#1f77b4;\" x=\"77.3393\" xlink:href=\"#m1372324b23\" y=\"199.086499\"/>\n     <use style=\"fill:#1f77b4;stroke:#1f77b4;\" x=\"78.961515\" xlink:href=\"#m1372324b23\" y=\"197.822805\"/>\n     <use style=\"fill:#1f77b4;stroke:#1f77b4;\" x=\"77.681986\" xlink:href=\"#m1372324b23\" y=\"198.682229\"/>\n     <use style=\"fill:#1f77b4;stroke:#1f77b4;\" x=\"76.941161\" xlink:href=\"#m1372324b23\" y=\"199.027294\"/>\n     <use style=\"fill:#1f77b4;stroke:#1f77b4;\" x=\"78.177587\" xlink:href=\"#m1372324b23\" y=\"198.111845\"/>\n     <use style=\"fill:#1f77b4;stroke:#1f77b4;\" x=\"78.796863\" xlink:href=\"#m1372324b23\" y=\"196.309796\"/>\n     <use style=\"fill:#1f77b4;stroke:#1f77b4;\" x=\"81.406262\" xlink:href=\"#m1372324b23\" y=\"194.31002\"/>\n     <use style=\"fill:#1f77b4;stroke:#1f77b4;\" x=\"81.641643\" xlink:href=\"#m1372324b23\" y=\"194.741634\"/>\n     <use style=\"fill:#1f77b4;stroke:#1f77b4;\" x=\"81.201065\" xlink:href=\"#m1372324b23\" y=\"194.053219\"/>\n     <use style=\"fill:#1f77b4;stroke:#1f77b4;\" x=\"81.808656\" xlink:href=\"#m1372324b23\" y=\"193.188235\"/>\n     <use style=\"fill:#1f77b4;stroke:#1f77b4;\" x=\"85.435752\" xlink:href=\"#m1372324b23\" y=\"190.44502\"/>\n     <use style=\"fill:#1f77b4;stroke:#1f77b4;\" x=\"81.405837\" xlink:href=\"#m1372324b23\" y=\"194.322647\"/>\n     <use style=\"fill:#1f77b4;stroke:#1f77b4;\" x=\"83.467585\" xlink:href=\"#m1372324b23\" y=\"192.341103\"/>\n     <use style=\"fill:#1f77b4;stroke:#1f77b4;\" x=\"82.074412\" xlink:href=\"#m1372324b23\" y=\"193.000755\"/>\n     <use style=\"fill:#1f77b4;stroke:#1f77b4;\" x=\"83.784442\" xlink:href=\"#m1372324b23\" y=\"191.468553\"/>\n     <use style=\"fill:#1f77b4;stroke:#1f77b4;\" x=\"84.118469\" xlink:href=\"#m1372324b23\" y=\"191.25101\"/>\n     <use style=\"fill:#1f77b4;stroke:#1f77b4;\" x=\"83.273792\" xlink:href=\"#m1372324b23\" y=\"192.043618\"/>\n     <use style=\"fill:#1f77b4;stroke:#1f77b4;\" x=\"82.698752\" xlink:href=\"#m1372324b23\" y=\"191.889379\"/>\n     <use style=\"fill:#1f77b4;stroke:#1f77b4;\" x=\"83.251886\" xlink:href=\"#m1372324b23\" y=\"191.323427\"/>\n     <use style=\"fill:#1f77b4;stroke:#1f77b4;\" x=\"85.655096\" xlink:href=\"#m1372324b23\" y=\"187.460348\"/>\n     <use style=\"fill:#1f77b4;stroke:#1f77b4;\" x=\"85.451175\" xlink:href=\"#m1372324b23\" y=\"187.206096\"/>\n     <use style=\"fill:#1f77b4;stroke:#1f77b4;\" x=\"86.195834\" xlink:href=\"#m1372324b23\" y=\"185.931032\"/>\n     <use style=\"fill:#1f77b4;stroke:#1f77b4;\" x=\"85.233725\" xlink:href=\"#m1372324b23\" y=\"186.926509\"/>\n     <use style=\"fill:#1f77b4;stroke:#1f77b4;\" x=\"83.900497\" xlink:href=\"#m1372324b23\" y=\"188.539824\"/>\n     <use style=\"fill:#1f77b4;stroke:#1f77b4;\" x=\"83.246684\" xlink:href=\"#m1372324b23\" y=\"188.576115\"/>\n     <use style=\"fill:#1f77b4;stroke:#1f77b4;\" x=\"83.6742\" xlink:href=\"#m1372324b23\" y=\"188.600448\"/>\n     <use style=\"fill:#1f77b4;stroke:#1f77b4;\" x=\"82.343578\" xlink:href=\"#m1372324b23\" y=\"189.645639\"/>\n     <use style=\"fill:#1f77b4;stroke:#1f77b4;\" x=\"79.493216\" xlink:href=\"#m1372324b23\" y=\"191.639642\"/>\n     <use style=\"fill:#1f77b4;stroke:#1f77b4;\" x=\"79.793177\" xlink:href=\"#m1372324b23\" y=\"191.369461\"/>\n     <use style=\"fill:#1f77b4;stroke:#1f77b4;\" x=\"80.829568\" xlink:href=\"#m1372324b23\" y=\"189.385617\"/>\n     <use style=\"fill:#1f77b4;stroke:#1f77b4;\" x=\"80.795737\" xlink:href=\"#m1372324b23\" y=\"189.508832\"/>\n     <use style=\"fill:#1f77b4;stroke:#1f77b4;\" x=\"79.819153\" xlink:href=\"#m1372324b23\" y=\"190.415211\"/>\n     <use style=\"fill:#1f77b4;stroke:#1f77b4;\" x=\"79.149441\" xlink:href=\"#m1372324b23\" y=\"190.491348\"/>\n     <use style=\"fill:#1f77b4;stroke:#1f77b4;\" x=\"77.850655\" xlink:href=\"#m1372324b23\" y=\"191.92935\"/>\n     <use style=\"fill:#1f77b4;stroke:#1f77b4;\" x=\"78.59181\" xlink:href=\"#m1372324b23\" y=\"191.021635\"/>\n     <use style=\"fill:#1f77b4;stroke:#1f77b4;\" x=\"78.573878\" xlink:href=\"#m1372324b23\" y=\"190.931197\"/>\n     <use style=\"fill:#1f77b4;stroke:#1f77b4;\" x=\"79.832732\" xlink:href=\"#m1372324b23\" y=\"190.143521\"/>\n     <use style=\"fill:#1f77b4;stroke:#1f77b4;\" x=\"79.386762\" xlink:href=\"#m1372324b23\" y=\"190.818644\"/>\n     <use style=\"fill:#1f77b4;stroke:#1f77b4;\" x=\"77.602074\" xlink:href=\"#m1372324b23\" y=\"192.971109\"/>\n     <use style=\"fill:#1f77b4;stroke:#1f77b4;\" x=\"75.312323\" xlink:href=\"#m1372324b23\" y=\"195.65353\"/>\n     <use style=\"fill:#1f77b4;stroke:#1f77b4;\" x=\"75.45199\" xlink:href=\"#m1372324b23\" y=\"194.893826\"/>\n     <use style=\"fill:#1f77b4;stroke:#1f77b4;\" x=\"74.944799\" xlink:href=\"#m1372324b23\" y=\"195.521868\"/>\n     <use style=\"fill:#1f77b4;stroke:#1f77b4;\" x=\"74.356888\" xlink:href=\"#m1372324b23\" y=\"195.499038\"/>\n     <use style=\"fill:#1f77b4;stroke:#1f77b4;\" x=\"74.415274\" xlink:href=\"#m1372324b23\" y=\"196.109979\"/>\n     <use style=\"fill:#1f77b4;stroke:#1f77b4;\" x=\"73.316529\" xlink:href=\"#m1372324b23\" y=\"198.477815\"/>\n     <use style=\"fill:#1f77b4;stroke:#1f77b4;\" x=\"74.909076\" xlink:href=\"#m1372324b23\" y=\"196.414364\"/>\n     <use style=\"fill:#1f77b4;stroke:#1f77b4;\" x=\"74.596481\" xlink:href=\"#m1372324b23\" y=\"196.656782\"/>\n     <use style=\"fill:#1f77b4;stroke:#1f77b4;\" x=\"75.011177\" xlink:href=\"#m1372324b23\" y=\"195.901887\"/>\n     <use style=\"fill:#1f77b4;stroke:#1f77b4;\" x=\"75.234874\" xlink:href=\"#m1372324b23\" y=\"195.801624\"/>\n     <use style=\"fill:#1f77b4;stroke:#1f77b4;\" x=\"75.717464\" xlink:href=\"#m1372324b23\" y=\"195.30972\"/>\n     <use style=\"fill:#1f77b4;stroke:#1f77b4;\" x=\"76.080826\" xlink:href=\"#m1372324b23\" y=\"194.200853\"/>\n     <use style=\"fill:#1f77b4;stroke:#1f77b4;\" x=\"75.107224\" xlink:href=\"#m1372324b23\" y=\"195.260509\"/>\n     <use style=\"fill:#1f77b4;stroke:#1f77b4;\" x=\"75.671616\" xlink:href=\"#m1372324b23\" y=\"194.578239\"/>\n     <use style=\"fill:#1f77b4;stroke:#1f77b4;\" x=\"75.767284\" xlink:href=\"#m1372324b23\" y=\"194.669343\"/>\n     <use style=\"fill:#1f77b4;stroke:#1f77b4;\" x=\"75.882066\" xlink:href=\"#m1372324b23\" y=\"194.750331\"/>\n     <use style=\"fill:#1f77b4;stroke:#1f77b4;\" x=\"75.629792\" xlink:href=\"#m1372324b23\" y=\"194.922173\"/>\n     <use style=\"fill:#1f77b4;stroke:#1f77b4;\" x=\"75.190067\" xlink:href=\"#m1372324b23\" y=\"195.069139\"/>\n     <use style=\"fill:#1f77b4;stroke:#1f77b4;\" x=\"71.660721\" xlink:href=\"#m1372324b23\" y=\"198.041184\"/>\n     <use style=\"fill:#1f77b4;stroke:#1f77b4;\" x=\"72.232732\" xlink:href=\"#m1372324b23\" y=\"197.756661\"/>\n     <use style=\"fill:#1f77b4;stroke:#1f77b4;\" x=\"70.697148\" xlink:href=\"#m1372324b23\" y=\"199.280293\"/>\n     <use style=\"fill:#1f77b4;stroke:#1f77b4;\" x=\"69.597314\" xlink:href=\"#m1372324b23\" y=\"200.089292\"/>\n     <use style=\"fill:#1f77b4;stroke:#1f77b4;\" x=\"71.137111\" xlink:href=\"#m1372324b23\" y=\"198.322864\"/>\n     <use style=\"fill:#1f77b4;stroke:#1f77b4;\" x=\"70.102048\" xlink:href=\"#m1372324b23\" y=\"199.524426\"/>\n     <use style=\"fill:#1f77b4;stroke:#1f77b4;\" x=\"70.544802\" xlink:href=\"#m1372324b23\" y=\"199.163264\"/>\n     <use style=\"fill:#1f77b4;stroke:#1f77b4;\" x=\"70.304026\" xlink:href=\"#m1372324b23\" y=\"199.129564\"/>\n     <use style=\"fill:#1f77b4;stroke:#1f77b4;\" x=\"71.418479\" xlink:href=\"#m1372324b23\" y=\"198.358446\"/>\n     <use style=\"fill:#1f77b4;stroke:#1f77b4;\" x=\"71.584642\" xlink:href=\"#m1372324b23\" y=\"197.56128\"/>\n     <use style=\"fill:#1f77b4;stroke:#1f77b4;\" x=\"71.615915\" xlink:href=\"#m1372324b23\" y=\"197.631897\"/>\n     <use style=\"fill:#1f77b4;stroke:#1f77b4;\" x=\"71.394446\" xlink:href=\"#m1372324b23\" y=\"198.004056\"/>\n     <use style=\"fill:#1f77b4;stroke:#1f77b4;\" x=\"68.3378\" xlink:href=\"#m1372324b23\" y=\"200.577518\"/>\n     <use style=\"fill:#1f77b4;stroke:#1f77b4;\" x=\"68.710578\" xlink:href=\"#m1372324b23\" y=\"200.213638\"/>\n     <use style=\"fill:#1f77b4;stroke:#1f77b4;\" x=\"68.761439\" xlink:href=\"#m1372324b23\" y=\"200.918067\"/>\n     <use style=\"fill:#1f77b4;stroke:#1f77b4;\" x=\"69.120781\" xlink:href=\"#m1372324b23\" y=\"200.80777\"/>\n     <use style=\"fill:#1f77b4;stroke:#1f77b4;\" x=\"68.385018\" xlink:href=\"#m1372324b23\" y=\"201.959159\"/>\n     <use style=\"fill:#1f77b4;stroke:#1f77b4;\" x=\"68.685265\" xlink:href=\"#m1372324b23\" y=\"201.558067\"/>\n     <use style=\"fill:#1f77b4;stroke:#1f77b4;\" x=\"67.484986\" xlink:href=\"#m1372324b23\" y=\"202.394285\"/>\n     <use style=\"fill:#1f77b4;stroke:#1f77b4;\" x=\"68.974677\" xlink:href=\"#m1372324b23\" y=\"201.823817\"/>\n     <use style=\"fill:#1f77b4;stroke:#1f77b4;\" x=\"69.853277\" xlink:href=\"#m1372324b23\" y=\"201.02226\"/>\n     <use style=\"fill:#1f77b4;stroke:#1f77b4;\" x=\"69.767261\" xlink:href=\"#m1372324b23\" y=\"201.075025\"/>\n     <use style=\"fill:#1f77b4;stroke:#1f77b4;\" x=\"70.847698\" xlink:href=\"#m1372324b23\" y=\"200.17906\"/>\n     <use style=\"fill:#1f77b4;stroke:#1f77b4;\" x=\"70.447478\" xlink:href=\"#m1372324b23\" y=\"200.645334\"/>\n     <use style=\"fill:#1f77b4;stroke:#1f77b4;\" x=\"70.769015\" xlink:href=\"#m1372324b23\" y=\"200.51476\"/>\n     <use style=\"fill:#1f77b4;stroke:#1f77b4;\" x=\"70.965791\" xlink:href=\"#m1372324b23\" y=\"200.218153\"/>\n     <use style=\"fill:#1f77b4;stroke:#1f77b4;\" x=\"71.128357\" xlink:href=\"#m1372324b23\" y=\"200.234877\"/>\n     <use style=\"fill:#1f77b4;stroke:#1f77b4;\" x=\"71.996217\" xlink:href=\"#m1372324b23\" y=\"199.496998\"/>\n     <use style=\"fill:#1f77b4;stroke:#1f77b4;\" x=\"71.603283\" xlink:href=\"#m1372324b23\" y=\"199.60324\"/>\n     <use style=\"fill:#1f77b4;stroke:#1f77b4;\" x=\"71.451267\" xlink:href=\"#m1372324b23\" y=\"200.123242\"/>\n     <use style=\"fill:#1f77b4;stroke:#1f77b4;\" x=\"69.502926\" xlink:href=\"#m1372324b23\" y=\"201.890087\"/>\n     <use style=\"fill:#1f77b4;stroke:#1f77b4;\" x=\"69.809323\" xlink:href=\"#m1372324b23\" y=\"201.384426\"/>\n     <use style=\"fill:#1f77b4;stroke:#1f77b4;\" x=\"69.024404\" xlink:href=\"#m1372324b23\" y=\"202.071964\"/>\n     <use style=\"fill:#1f77b4;stroke:#1f77b4;\" x=\"69.06812\" xlink:href=\"#m1372324b23\" y=\"201.906686\"/>\n     <use style=\"fill:#1f77b4;stroke:#1f77b4;\" x=\"69.248241\" xlink:href=\"#m1372324b23\" y=\"201.820598\"/>\n     <use style=\"fill:#1f77b4;stroke:#1f77b4;\" x=\"69.643398\" xlink:href=\"#m1372324b23\" y=\"201.245112\"/>\n     <use style=\"fill:#1f77b4;stroke:#1f77b4;\" x=\"71.451267\" xlink:href=\"#m1372324b23\" y=\"199.957002\"/>\n     <use style=\"fill:#1f77b4;stroke:#1f77b4;\" x=\"74.192051\" xlink:href=\"#m1372324b23\" y=\"199.1064\"/>\n     <use style=\"fill:#1f77b4;stroke:#1f77b4;\" x=\"74.427384\" xlink:href=\"#m1372324b23\" y=\"199.963064\"/>\n     <use style=\"fill:#1f77b4;stroke:#1f77b4;\" x=\"74.881966\" xlink:href=\"#m1372324b23\" y=\"200.418553\"/>\n     <use style=\"fill:#1f77b4;stroke:#1f77b4;\" x=\"74.348609\" xlink:href=\"#m1372324b23\" y=\"201.209657\"/>\n     <use style=\"fill:#1f77b4;stroke:#1f77b4;\" x=\"74.6569\" xlink:href=\"#m1372324b23\" y=\"200.71888\"/>\n     <use style=\"fill:#1f77b4;stroke:#1f77b4;\" x=\"74.653115\" xlink:href=\"#m1372324b23\" y=\"200.835072\"/>\n     <use style=\"fill:#1f77b4;stroke:#1f77b4;\" x=\"76.037581\" xlink:href=\"#m1372324b23\" y=\"201.203176\"/>\n     <use style=\"fill:#1f77b4;stroke:#1f77b4;\" x=\"79.41174\" xlink:href=\"#m1372324b23\" y=\"200.010729\"/>\n     <use style=\"fill:#1f77b4;stroke:#1f77b4;\" x=\"78.262609\" xlink:href=\"#m1372324b23\" y=\"200.298387\"/>\n     <use style=\"fill:#1f77b4;stroke:#1f77b4;\" x=\"77.175313\" xlink:href=\"#m1372324b23\" y=\"200.651941\"/>\n     <use style=\"fill:#1f77b4;stroke:#1f77b4;\" x=\"78.185109\" xlink:href=\"#m1372324b23\" y=\"200.416588\"/>\n     <use style=\"fill:#1f77b4;stroke:#1f77b4;\" x=\"78.313519\" xlink:href=\"#m1372324b23\" y=\"200.532319\"/>\n     <use style=\"fill:#1f77b4;stroke:#1f77b4;\" x=\"78.437997\" xlink:href=\"#m1372324b23\" y=\"200.542061\"/>\n     <use style=\"fill:#1f77b4;stroke:#1f77b4;\" x=\"78.258303\" xlink:href=\"#m1372324b23\" y=\"200.942778\"/>\n     <use style=\"fill:#1f77b4;stroke:#1f77b4;\" x=\"76.365601\" xlink:href=\"#m1372324b23\" y=\"201.913376\"/>\n     <use style=\"fill:#1f77b4;stroke:#1f77b4;\" x=\"75.629746\" xlink:href=\"#m1372324b23\" y=\"202.461935\"/>\n     <use style=\"fill:#1f77b4;stroke:#1f77b4;\" x=\"75.356466\" xlink:href=\"#m1372324b23\" y=\"202.80169\"/>\n     <use style=\"fill:#1f77b4;stroke:#1f77b4;\" x=\"74.728342\" xlink:href=\"#m1372324b23\" y=\"202.565835\"/>\n     <use style=\"fill:#1f77b4;stroke:#1f77b4;\" x=\"72.828544\" xlink:href=\"#m1372324b23\" y=\"203.026173\"/>\n     <use style=\"fill:#1f77b4;stroke:#1f77b4;\" x=\"72.997119\" xlink:href=\"#m1372324b23\" y=\"202.889703\"/>\n     <use style=\"fill:#1f77b4;stroke:#1f77b4;\" x=\"72.445072\" xlink:href=\"#m1372324b23\" y=\"203.051009\"/>\n     <use style=\"fill:#1f77b4;stroke:#1f77b4;\" x=\"71.505062\" xlink:href=\"#m1372324b23\" y=\"204.156615\"/>\n     <use style=\"fill:#1f77b4;stroke:#1f77b4;\" x=\"69.388664\" xlink:href=\"#m1372324b23\" y=\"205.143435\"/>\n     <use style=\"fill:#1f77b4;stroke:#1f77b4;\" x=\"70.630295\" xlink:href=\"#m1372324b23\" y=\"204.768182\"/>\n     <use style=\"fill:#1f77b4;stroke:#1f77b4;\" x=\"68.815754\" xlink:href=\"#m1372324b23\" y=\"206.081547\"/>\n     <use style=\"fill:#1f77b4;stroke:#1f77b4;\" x=\"69.341021\" xlink:href=\"#m1372324b23\" y=\"206.585954\"/>\n     <use style=\"fill:#1f77b4;stroke:#1f77b4;\" x=\"69.468576\" xlink:href=\"#m1372324b23\" y=\"206.692237\"/>\n     <use style=\"fill:#1f77b4;stroke:#1f77b4;\" x=\"69.349726\" xlink:href=\"#m1372324b23\" y=\"208.075133\"/>\n     <use style=\"fill:#1f77b4;stroke:#1f77b4;\" x=\"68.886723\" xlink:href=\"#m1372324b23\" y=\"208.391348\"/>\n     <use style=\"fill:#1f77b4;stroke:#1f77b4;\" x=\"69.401534\" xlink:href=\"#m1372324b23\" y=\"208.247853\"/>\n     <use style=\"fill:#1f77b4;stroke:#1f77b4;\" x=\"69.525541\" xlink:href=\"#m1372324b23\" y=\"208.010284\"/>\n     <use style=\"fill:#1f77b4;stroke:#1f77b4;\" x=\"70.688963\" xlink:href=\"#m1372324b23\" y=\"206.852833\"/>\n     <use style=\"fill:#1f77b4;stroke:#1f77b4;\" x=\"69.946766\" xlink:href=\"#m1372324b23\" y=\"207.68558\"/>\n     <use style=\"fill:#1f77b4;stroke:#1f77b4;\" x=\"70.336198\" xlink:href=\"#m1372324b23\" y=\"207.475606\"/>\n     <use style=\"fill:#1f77b4;stroke:#1f77b4;\" x=\"69.40158\" xlink:href=\"#m1372324b23\" y=\"208.584389\"/>\n     <use style=\"fill:#1f77b4;stroke:#1f77b4;\" x=\"70.254299\" xlink:href=\"#m1372324b23\" y=\"208.265414\"/>\n     <use style=\"fill:#1f77b4;stroke:#1f77b4;\" x=\"69.72416\" xlink:href=\"#m1372324b23\" y=\"208.708735\"/>\n     <use style=\"fill:#1f77b4;stroke:#1f77b4;\" x=\"70.472506\" xlink:href=\"#m1372324b23\" y=\"208.467779\"/>\n     <use style=\"fill:#1f77b4;stroke:#1f77b4;\" x=\"71.348172\" xlink:href=\"#m1372324b23\" y=\"208.222641\"/>\n     <use style=\"fill:#1f77b4;stroke:#1f77b4;\" x=\"71.552706\" xlink:href=\"#m1372324b23\" y=\"208.361496\"/>\n     <use style=\"fill:#1f77b4;stroke:#1f77b4;\" x=\"71.288084\" xlink:href=\"#m1372324b23\" y=\"208.547513\"/>\n     <use style=\"fill:#1f77b4;stroke:#1f77b4;\" x=\"72.127321\" xlink:href=\"#m1372324b23\" y=\"208.112428\"/>\n     <use style=\"fill:#1f77b4;stroke:#1f77b4;\" x=\"73.128647\" xlink:href=\"#m1372324b23\" y=\"207.656857\"/>\n     <use style=\"fill:#1f77b4;stroke:#1f77b4;\" x=\"72.896248\" xlink:href=\"#m1372324b23\" y=\"207.957351\"/>\n     <use style=\"fill:#1f77b4;stroke:#1f77b4;\" x=\"72.57012\" xlink:href=\"#m1372324b23\" y=\"208.17506\"/>\n     <use style=\"fill:#1f77b4;stroke:#1f77b4;\" x=\"72.850922\" xlink:href=\"#m1372324b23\" y=\"208.221095\"/>\n     <use style=\"fill:#1f77b4;stroke:#1f77b4;\" x=\"73.587441\" xlink:href=\"#m1372324b23\" y=\"207.705273\"/>\n     <use style=\"fill:#1f77b4;stroke:#1f77b4;\" x=\"73.963437\" xlink:href=\"#m1372324b23\" y=\"207.74583\"/>\n     <use style=\"fill:#1f77b4;stroke:#1f77b4;\" x=\"73.903538\" xlink:href=\"#m1372324b23\" y=\"207.959567\"/>\n     <use style=\"fill:#1f77b4;stroke:#1f77b4;\" x=\"74.384236\" xlink:href=\"#m1372324b23\" y=\"208.107411\"/>\n     <use style=\"fill:#1f77b4;stroke:#1f77b4;\" x=\"71.692941\" xlink:href=\"#m1372324b23\" y=\"210.339779\"/>\n     <use style=\"fill:#1f77b4;stroke:#1f77b4;\" x=\"70.445491\" xlink:href=\"#m1372324b23\" y=\"210.428251\"/>\n     <use style=\"fill:#1f77b4;stroke:#1f77b4;\" x=\"70.151678\" xlink:href=\"#m1372324b23\" y=\"210.972294\"/>\n     <use style=\"fill:#1f77b4;stroke:#1f77b4;\" x=\"69.011014\" xlink:href=\"#m1372324b23\" y=\"211.777237\"/>\n     <use style=\"fill:#1f77b4;stroke:#1f77b4;\" x=\"69.365292\" xlink:href=\"#m1372324b23\" y=\"211.820178\"/>\n     <use style=\"fill:#1f77b4;stroke:#1f77b4;\" x=\"69.501744\" xlink:href=\"#m1372324b23\" y=\"211.813697\"/>\n     <use style=\"fill:#1f77b4;stroke:#1f77b4;\" x=\"69.461528\" xlink:href=\"#m1372324b23\" y=\"212.315971\"/>\n     <use style=\"fill:#1f77b4;stroke:#1f77b4;\" x=\"69.606303\" xlink:href=\"#m1372324b23\" y=\"212.388513\"/>\n     <use style=\"fill:#1f77b4;stroke:#1f77b4;\" x=\"70.389379\" xlink:href=\"#m1372324b23\" y=\"211.216846\"/>\n     <use style=\"fill:#1f77b4;stroke:#1f77b4;\" x=\"70.367614\" xlink:href=\"#m1372324b23\" y=\"211.200331\"/>\n     <use style=\"fill:#1f77b4;stroke:#1f77b4;\" x=\"70.511872\" xlink:href=\"#m1372324b23\" y=\"210.726822\"/>\n     <use style=\"fill:#1f77b4;stroke:#1f77b4;\" x=\"70.388764\" xlink:href=\"#m1372324b23\" y=\"210.830722\"/>\n     <use style=\"fill:#1f77b4;stroke:#1f77b4;\" x=\"69.272276\" xlink:href=\"#m1372324b23\" y=\"211.780415\"/>\n     <use style=\"fill:#1f77b4;stroke:#1f77b4;\" x=\"69.698563\" xlink:href=\"#m1372324b23\" y=\"211.274503\"/>\n     <use style=\"fill:#1f77b4;stroke:#1f77b4;\" x=\"69.827444\" xlink:href=\"#m1372324b23\" y=\"211.274754\"/>\n     <use style=\"fill:#1f77b4;stroke:#1f77b4;\" x=\"70.400544\" xlink:href=\"#m1372324b23\" y=\"210.663395\"/>\n     <use style=\"fill:#1f77b4;stroke:#1f77b4;\" x=\"71.419095\" xlink:href=\"#m1372324b23\" y=\"209.743848\"/>\n     <use style=\"fill:#1f77b4;stroke:#1f77b4;\" x=\"71.35773\" xlink:href=\"#m1372324b23\" y=\"209.999062\"/>\n     <use style=\"fill:#1f77b4;stroke:#1f77b4;\" x=\"71.304029\" xlink:href=\"#m1372324b23\" y=\"209.838089\"/>\n     <use style=\"fill:#1f77b4;stroke:#1f77b4;\" x=\"70.758892\" xlink:href=\"#m1372324b23\" y=\"210.49034\"/>\n     <use style=\"fill:#1f77b4;stroke:#1f77b4;\" x=\"70.054215\" xlink:href=\"#m1372324b23\" y=\"210.917856\"/>\n     <use style=\"fill:#1f77b4;stroke:#1f77b4;\" x=\"70.283823\" xlink:href=\"#m1372324b23\" y=\"211.02899\"/>\n     <use style=\"fill:#1f77b4;stroke:#1f77b4;\" x=\"71.143734\" xlink:href=\"#m1372324b23\" y=\"210.500207\"/>\n     <use style=\"fill:#1f77b4;stroke:#1f77b4;\" x=\"70.989399\" xlink:href=\"#m1372324b23\" y=\"210.754919\"/>\n     <use style=\"fill:#1f77b4;stroke:#1f77b4;\" x=\"70.789881\" xlink:href=\"#m1372324b23\" y=\"210.368879\"/>\n     <use style=\"fill:#1f77b4;stroke:#1f77b4;\" x=\"70.90154\" xlink:href=\"#m1372324b23\" y=\"210.318162\"/>\n     <use style=\"fill:#1f77b4;stroke:#1f77b4;\" x=\"70.731498\" xlink:href=\"#m1372324b23\" y=\"210.405129\"/>\n     <use style=\"fill:#1f77b4;stroke:#1f77b4;\" x=\"70.572905\" xlink:href=\"#m1372324b23\" y=\"210.555105\"/>\n     <use style=\"fill:#1f77b4;stroke:#1f77b4;\" x=\"70.319733\" xlink:href=\"#m1372324b23\" y=\"210.834903\"/>\n     <use style=\"fill:#1f77b4;stroke:#1f77b4;\" x=\"70.670322\" xlink:href=\"#m1372324b23\" y=\"210.762612\"/>\n     <use style=\"fill:#1f77b4;stroke:#1f77b4;\" x=\"70.886967\" xlink:href=\"#m1372324b23\" y=\"210.537544\"/>\n     <use style=\"fill:#1f77b4;stroke:#1f77b4;\" x=\"70.7253\" xlink:href=\"#m1372324b23\" y=\"210.641277\"/>\n     <use style=\"fill:#1f77b4;stroke:#1f77b4;\" x=\"70.794566\" xlink:href=\"#m1372324b23\" y=\"210.599508\"/>\n     <use style=\"fill:#1f77b4;stroke:#1f77b4;\" x=\"71.027723\" xlink:href=\"#m1372324b23\" y=\"210.468389\"/>\n     <use style=\"fill:#1f77b4;stroke:#1f77b4;\" x=\"70.98235\" xlink:href=\"#m1372324b23\" y=\"210.521614\"/>\n     <use style=\"fill:#1f77b4;stroke:#1f77b4;\" x=\"70.712145\" xlink:href=\"#m1372324b23\" y=\"210.614142\"/>\n     <use style=\"fill:#1f77b4;stroke:#1f77b4;\" x=\"69.154184\" xlink:href=\"#m1372324b23\" y=\"212.130624\"/>\n     <use style=\"fill:#1f77b4;stroke:#1f77b4;\" x=\"69.240955\" xlink:href=\"#m1372324b23\" y=\"211.828414\"/>\n     <use style=\"fill:#1f77b4;stroke:#1f77b4;\" x=\"69.294939\" xlink:href=\"#m1372324b23\" y=\"211.698215\"/>\n     <use style=\"fill:#1f77b4;stroke:#1f77b4;\" x=\"69.318312\" xlink:href=\"#m1372324b23\" y=\"211.870727\"/>\n     <use style=\"fill:#1f77b4;stroke:#1f77b4;\" x=\"70.764238\" xlink:href=\"#m1372324b23\" y=\"211.285834\"/>\n     <use style=\"fill:#1f77b4;stroke:#1f77b4;\" x=\"70.762203\" xlink:href=\"#m1372324b23\" y=\"211.268441\"/>\n     <use style=\"fill:#1f77b4;stroke:#1f77b4;\" x=\"70.517692\" xlink:href=\"#m1372324b23\" y=\"211.395421\"/>\n     <use style=\"fill:#1f77b4;stroke:#1f77b4;\" x=\"70.197288\" xlink:href=\"#m1372324b23\" y=\"211.551417\"/>\n     <use style=\"fill:#1f77b4;stroke:#1f77b4;\" x=\"70.143826\" xlink:href=\"#m1372324b23\" y=\"211.535738\"/>\n     <use style=\"fill:#1f77b4;stroke:#1f77b4;\" x=\"70.256334\" xlink:href=\"#m1372324b23\" y=\"211.464534\"/>\n     <use style=\"fill:#1f77b4;stroke:#1f77b4;\" x=\"70.223973\" xlink:href=\"#m1372324b23\" y=\"211.476575\"/>\n     <use style=\"fill:#1f77b4;stroke:#1f77b4;\" x=\"70.246731\" xlink:href=\"#m1372324b23\" y=\"211.522483\"/>\n     <use style=\"fill:#1f77b4;stroke:#1f77b4;\" x=\"70.1927\" xlink:href=\"#m1372324b23\" y=\"211.510275\"/>\n     <use style=\"fill:#1f77b4;stroke:#1f77b4;\" x=\"70.287797\" xlink:href=\"#m1372324b23\" y=\"211.530511\"/>\n     <use style=\"fill:#1f77b4;stroke:#1f77b4;\" x=\"70.195301\" xlink:href=\"#m1372324b23\" y=\"211.577883\"/>\n     <use style=\"fill:#1f77b4;stroke:#1f77b4;\" x=\"70.188015\" xlink:href=\"#m1372324b23\" y=\"211.552379\"/>\n     <use style=\"fill:#1f77b4;stroke:#1f77b4;\" x=\"70.214652\" xlink:href=\"#m1372324b23\" y=\"211.515543\"/>\n     <use style=\"fill:#1f77b4;stroke:#1f77b4;\" x=\"70.243088\" xlink:href=\"#m1372324b23\" y=\"211.46721\"/>\n     <use style=\"fill:#1f77b4;stroke:#1f77b4;\" x=\"69.515605\" xlink:href=\"#m1372324b23\" y=\"211.806673\"/>\n     <use style=\"fill:#1f77b4;stroke:#1f77b4;\" x=\"69.523365\" xlink:href=\"#m1372324b23\" y=\"211.793753\"/>\n     <use style=\"fill:#1f77b4;stroke:#1f77b4;\" x=\"69.444541\" xlink:href=\"#m1372324b23\" y=\"211.80107\"/>\n     <use style=\"fill:#1f77b4;stroke:#1f77b4;\" x=\"69.729222\" xlink:href=\"#m1372324b23\" y=\"211.73873\"/>\n     <use style=\"fill:#1f77b4;stroke:#1f77b4;\" x=\"69.779658\" xlink:href=\"#m1372324b23\" y=\"211.665017\"/>\n     <use style=\"fill:#1f77b4;stroke:#1f77b4;\" x=\"69.651061\" xlink:href=\"#m1372324b23\" y=\"211.68379\"/>\n     <use style=\"fill:#1f77b4;stroke:#1f77b4;\" x=\"69.721416\" xlink:href=\"#m1372324b23\" y=\"211.378571\"/>\n     <use style=\"fill:#1f77b4;stroke:#1f77b4;\" x=\"69.927369\" xlink:href=\"#m1372324b23\" y=\"211.311464\"/>\n     <use style=\"fill:#1f77b4;stroke:#1f77b4;\" x=\"70.123006\" xlink:href=\"#m1372324b23\" y=\"210.920072\"/>\n     <use style=\"fill:#1f77b4;stroke:#1f77b4;\" x=\"70.450081\" xlink:href=\"#m1372324b23\" y=\"210.97313\"/>\n     <use style=\"fill:#1f77b4;stroke:#1f77b4;\" x=\"70.088517\" xlink:href=\"#m1372324b23\" y=\"211.180178\"/>\n     <use style=\"fill:#1f77b4;stroke:#1f77b4;\" x=\"69.766316\" xlink:href=\"#m1372324b23\" y=\"211.270364\"/>\n     <use style=\"fill:#1f77b4;stroke:#1f77b4;\" x=\"69.877975\" xlink:href=\"#m1372324b23\" y=\"211.167551\"/>\n     <use style=\"fill:#1f77b4;stroke:#1f77b4;\" x=\"69.887673\" xlink:href=\"#m1372324b23\" y=\"211.217432\"/>\n     <use style=\"fill:#1f77b4;stroke:#1f77b4;\" x=\"69.698422\" xlink:href=\"#m1372324b23\" y=\"211.255981\"/>\n     <use style=\"fill:#1f77b4;stroke:#1f77b4;\" x=\"69.642689\" xlink:href=\"#m1372324b23\" y=\"211.406166\"/>\n     <use style=\"fill:#1f77b4;stroke:#1f77b4;\" x=\"66.7039\" xlink:href=\"#m1372324b23\" y=\"212.469375\"/>\n     <use style=\"fill:#1f77b4;stroke:#1f77b4;\" x=\"66.276569\" xlink:href=\"#m1372324b23\" y=\"212.494086\"/>\n     <use style=\"fill:#1f77b4;stroke:#1f77b4;\" x=\"65.933646\" xlink:href=\"#m1372324b23\" y=\"212.729439\"/>\n     <use style=\"fill:#1f77b4;stroke:#1f77b4;\" x=\"65.83325\" xlink:href=\"#m1372324b23\" y=\"212.778608\"/>\n     <use style=\"fill:#1f77b4;stroke:#1f77b4;\" x=\"66.160701\" xlink:href=\"#m1372324b23\" y=\"212.650416\"/>\n     <use style=\"fill:#1f77b4;stroke:#1f77b4;\" x=\"62.602542\" xlink:href=\"#m1372324b23\" y=\"213.816606\"/>\n     <use style=\"fill:#1f77b4;stroke:#1f77b4;\" x=\"60.617201\" xlink:href=\"#m1372324b23\" y=\"214.604156\"/>\n     <use style=\"fill:#1f77b4;stroke:#1f77b4;\" x=\"61.328312\" xlink:href=\"#m1372324b23\" y=\"214.338155\"/>\n     <use style=\"fill:#1f77b4;stroke:#1f77b4;\" x=\"60.210642\" xlink:href=\"#m1372324b23\" y=\"214.756056\"/>\n     <use style=\"fill:#1f77b4;stroke:#1f77b4;\" x=\"60.121551\" xlink:href=\"#m1372324b23\" y=\"214.898631\"/>\n     <use style=\"fill:#1f77b4;stroke:#1f77b4;\" x=\"57.915119\" xlink:href=\"#m1372324b23\" y=\"215.308461\"/>\n     <use style=\"fill:#1f77b4;stroke:#1f77b4;\" x=\"58.526448\" xlink:href=\"#m1372324b23\" y=\"215.184868\"/>\n     <use style=\"fill:#1f77b4;stroke:#1f77b4;\" x=\"57.434278\" xlink:href=\"#m1372324b23\" y=\"215.524164\"/>\n     <use style=\"fill:#1f77b4;stroke:#1f77b4;\" x=\"57.631053\" xlink:href=\"#m1372324b23\" y=\"215.45413\"/>\n     <use style=\"fill:#1f77b4;stroke:#1f77b4;\" x=\"59.697203\" xlink:href=\"#m1372324b23\" y=\"214.934504\"/>\n     <use style=\"fill:#1f77b4;stroke:#1f77b4;\" x=\"59.798579\" xlink:href=\"#m1372324b23\" y=\"215.139184\"/>\n     <use style=\"fill:#1f77b4;stroke:#1f77b4;\" x=\"58.560979\" xlink:href=\"#m1372324b23\" y=\"215.321949\"/>\n     <use style=\"fill:#1f77b4;stroke:#1f77b4;\" x=\"59.49495\" xlink:href=\"#m1372324b23\" y=\"215.093488\"/>\n     <use style=\"fill:#1f77b4;stroke:#1f77b4;\" x=\"59.141079\" xlink:href=\"#m1372324b23\" y=\"215.187423\"/>\n     <use style=\"fill:#1f77b4;stroke:#1f77b4;\" x=\"57.97838\" xlink:href=\"#m1372324b23\" y=\"215.499495\"/>\n     <use style=\"fill:#1f77b4;stroke:#1f77b4;\" x=\"58.275329\" xlink:href=\"#m1372324b23\" y=\"215.445593\"/>\n     <use style=\"fill:#1f77b4;stroke:#1f77b4;\" x=\"57.315357\" xlink:href=\"#m1372324b23\" y=\"215.769152\"/>\n     <use style=\"fill:#1f77b4;stroke:#1f77b4;\" x=\"56.213475\" xlink:href=\"#m1372324b23\" y=\"216.217135\"/>\n     <use style=\"fill:#1f77b4;stroke:#1f77b4;\" x=\"55.734837\" xlink:href=\"#m1372324b23\" y=\"216.153018\"/>\n     <use style=\"fill:#1f77b4;stroke:#1f77b4;\" x=\"56.000628\" xlink:href=\"#m1372324b23\" y=\"216.20047\"/>\n     <use style=\"fill:#1f77b4;stroke:#1f77b4;\" x=\"56.654111\" xlink:href=\"#m1372324b23\" y=\"216.075773\"/>\n     <use style=\"fill:#1f77b4;stroke:#1f77b4;\" x=\"56.126202\" xlink:href=\"#m1372324b23\" y=\"216.220288\"/>\n     <use style=\"fill:#1f77b4;stroke:#1f77b4;\" x=\"55.756841\" xlink:href=\"#m1372324b23\" y=\"216.334864\"/>\n     <use style=\"fill:#1f77b4;stroke:#1f77b4;\" x=\"56.051894\" xlink:href=\"#m1372324b23\" y=\"216.26596\"/>\n     <use style=\"fill:#1f77b4;stroke:#1f77b4;\" x=\"55.232091\" xlink:href=\"#m1372324b23\" y=\"216.435461\"/>\n     <use style=\"fill:#1f77b4;stroke:#1f77b4;\" x=\"54.89526\" xlink:href=\"#m1372324b23\" y=\"216.528742\"/>\n     <use style=\"fill:#1f77b4;stroke:#1f77b4;\" x=\"54.868182\" xlink:href=\"#m1372324b23\" y=\"216.523201\"/>\n     <use style=\"fill:#1f77b4;stroke:#1f77b4;\" x=\"54.944248\" xlink:href=\"#m1372324b23\" y=\"216.488863\"/>\n     <use style=\"fill:#1f77b4;stroke:#1f77b4;\" x=\"56.330635\" xlink:href=\"#m1372324b23\" y=\"216.076117\"/>\n     <use style=\"fill:#1f77b4;stroke:#1f77b4;\" x=\"57.041247\" xlink:href=\"#m1372324b23\" y=\"215.826145\"/>\n     <use style=\"fill:#1f77b4;stroke:#1f77b4;\" x=\"57.277298\" xlink:href=\"#m1372324b23\" y=\"215.819617\"/>\n     <use style=\"fill:#1f77b4;stroke:#1f77b4;\" x=\"59.115357\" xlink:href=\"#m1372324b23\" y=\"215.194615\"/>\n     <use style=\"fill:#1f77b4;stroke:#1f77b4;\" x=\"57.989796\" xlink:href=\"#m1372324b23\" y=\"215.475612\"/>\n     <use style=\"fill:#1f77b4;stroke:#1f77b4;\" x=\"58.546379\" xlink:href=\"#m1372324b23\" y=\"215.171928\"/>\n     <use style=\"fill:#1f77b4;stroke:#1f77b4;\" x=\"58.474452\" xlink:href=\"#m1372324b23\" y=\"214.586334\"/>\n     <use style=\"fill:#1f77b4;stroke:#1f77b4;\" x=\"58.851151\" xlink:href=\"#m1372324b23\" y=\"214.19027\"/>\n     <use style=\"fill:#1f77b4;stroke:#1f77b4;\" x=\"57.606311\" xlink:href=\"#m1372324b23\" y=\"214.624839\"/>\n     <use style=\"fill:#1f77b4;stroke:#1f77b4;\" x=\"57.804112\" xlink:href=\"#m1372324b23\" y=\"214.540327\"/>\n     <use style=\"fill:#1f77b4;stroke:#1f77b4;\" x=\"56.846197\" xlink:href=\"#m1372324b23\" y=\"215.179604\"/>\n     <use style=\"fill:#1f77b4;stroke:#1f77b4;\" x=\"58.119315\" xlink:href=\"#m1372324b23\" y=\"214.298602\"/>\n     <use style=\"fill:#1f77b4;stroke:#1f77b4;\" x=\"57.62958\" xlink:href=\"#m1372324b23\" y=\"214.283076\"/>\n     <use style=\"fill:#1f77b4;stroke:#1f77b4;\" x=\"57.845061\" xlink:href=\"#m1372324b23\" y=\"214.206098\"/>\n     <use style=\"fill:#1f77b4;stroke:#1f77b4;\" x=\"57.26192\" xlink:href=\"#m1372324b23\" y=\"214.477501\"/>\n     <use style=\"fill:#1f77b4;stroke:#1f77b4;\" x=\"57.738926\" xlink:href=\"#m1372324b23\" y=\"214.165961\"/>\n     <use style=\"fill:#1f77b4;stroke:#1f77b4;\" x=\"58.211531\" xlink:href=\"#m1372324b23\" y=\"213.571064\"/>\n     <use style=\"fill:#1f77b4;stroke:#1f77b4;\" x=\"57.706854\" xlink:href=\"#m1372324b23\" y=\"213.818278\"/>\n     <use style=\"fill:#1f77b4;stroke:#1f77b4;\" x=\"57.806098\" xlink:href=\"#m1372324b23\" y=\"213.590537\"/>\n     <use style=\"fill:#1f77b4;stroke:#1f77b4;\" x=\"57.746849\" xlink:href=\"#m1372324b23\" y=\"213.546358\"/>\n     <use style=\"fill:#1f77b4;stroke:#1f77b4;\" x=\"58.841847\" xlink:href=\"#m1372324b23\" y=\"213.458237\"/>\n     <use style=\"fill:#1f77b4;stroke:#1f77b4;\" x=\"58.598734\" xlink:href=\"#m1372324b23\" y=\"213.711066\"/>\n     <use style=\"fill:#1f77b4;stroke:#1f77b4;\" x=\"58.625227\" xlink:href=\"#m1372324b23\" y=\"213.767076\"/>\n     <use style=\"fill:#1f77b4;stroke:#1f77b4;\" x=\"58.646274\" xlink:href=\"#m1372324b23\" y=\"213.748533\"/>\n     <use style=\"fill:#1f77b4;stroke:#1f77b4;\" x=\"56.960179\" xlink:href=\"#m1372324b23\" y=\"214.675813\"/>\n     <use style=\"fill:#1f77b4;stroke:#1f77b4;\" x=\"57.000115\" xlink:href=\"#m1372324b23\" y=\"214.720837\"/>\n     <use style=\"fill:#1f77b4;stroke:#1f77b4;\" x=\"56.876797\" xlink:href=\"#m1372324b23\" y=\"214.786973\"/>\n     <use style=\"fill:#1f77b4;stroke:#1f77b4;\" x=\"56.364172\" xlink:href=\"#m1372324b23\" y=\"215.166145\"/>\n     <use style=\"fill:#1f77b4;stroke:#1f77b4;\" x=\"57.088527\" xlink:href=\"#m1372324b23\" y=\"214.657268\"/>\n     <use style=\"fill:#1f77b4;stroke:#1f77b4;\" x=\"56.731898\" xlink:href=\"#m1372324b23\" y=\"214.95145\"/>\n     <use style=\"fill:#1f77b4;stroke:#1f77b4;\" x=\"56.847017\" xlink:href=\"#m1372324b23\" y=\"214.888133\"/>\n     <use style=\"fill:#1f77b4;stroke:#1f77b4;\" x=\"56.958472\" xlink:href=\"#m1372324b23\" y=\"214.879986\"/>\n     <use style=\"fill:#1f77b4;stroke:#1f77b4;\" x=\"56.860419\" xlink:href=\"#m1372324b23\" y=\"214.9942\"/>\n     <use style=\"fill:#1f77b4;stroke:#1f77b4;\" x=\"57.195057\" xlink:href=\"#m1372324b23\" y=\"214.847495\"/>\n     <use style=\"fill:#1f77b4;stroke:#1f77b4;\" x=\"56.59156\" xlink:href=\"#m1372324b23\" y=\"215.058397\"/>\n     <use style=\"fill:#1f77b4;stroke:#1f77b4;\" x=\"56.473367\" xlink:href=\"#m1372324b23\" y=\"215.155272\"/>\n     <use style=\"fill:#1f77b4;stroke:#1f77b4;\" x=\"56.60842\" xlink:href=\"#m1372324b23\" y=\"215.088806\"/>\n     <use style=\"fill:#1f77b4;stroke:#1f77b4;\" x=\"56.516377\" xlink:href=\"#m1372324b23\" y=\"215.142948\"/>\n     <use style=\"fill:#1f77b4;stroke:#1f77b4;\" x=\"56.590859\" xlink:href=\"#m1372324b23\" y=\"215.1467\"/>\n     <use style=\"fill:#1f77b4;stroke:#1f77b4;\" x=\"56.585657\" xlink:href=\"#m1372324b23\" y=\"215.187864\"/>\n     <use style=\"fill:#1f77b4;stroke:#1f77b4;\" x=\"56.598405\" xlink:href=\"#m1372324b23\" y=\"215.183248\"/>\n     <use style=\"fill:#1f77b4;stroke:#1f77b4;\" x=\"56.510902\" xlink:href=\"#m1372324b23\" y=\"215.31217\"/>\n     <use style=\"fill:#1f77b4;stroke:#1f77b4;\" x=\"55.973829\" xlink:href=\"#m1372324b23\" y=\"215.597125\"/>\n     <use style=\"fill:#1f77b4;stroke:#1f77b4;\" x=\"55.868163\" xlink:href=\"#m1372324b23\" y=\"215.638591\"/>\n     <use style=\"fill:#1f77b4;stroke:#1f77b4;\" x=\"56.048258\" xlink:href=\"#m1372324b23\" y=\"215.500225\"/>\n     <use style=\"fill:#1f77b4;stroke:#1f77b4;\" x=\"55.913942\" xlink:href=\"#m1372324b23\" y=\"215.57743\"/>\n     <use style=\"fill:#1f77b4;stroke:#1f77b4;\" x=\"56.056602\" xlink:href=\"#m1372324b23\" y=\"215.554486\"/>\n     <use style=\"fill:#1f77b4;stroke:#1f77b4;\" x=\"56.213281\" xlink:href=\"#m1372324b23\" y=\"215.436559\"/>\n     <use style=\"fill:#1f77b4;stroke:#1f77b4;\" x=\"55.943374\" xlink:href=\"#m1372324b23\" y=\"215.559382\"/>\n     <use style=\"fill:#1f77b4;stroke:#1f77b4;\" x=\"55.920382\" xlink:href=\"#m1372324b23\" y=\"215.545629\"/>\n     <use style=\"fill:#1f77b4;stroke:#1f77b4;\" x=\"55.954464\" xlink:href=\"#m1372324b23\" y=\"215.561437\"/>\n     <use style=\"fill:#1f77b4;stroke:#1f77b4;\" x=\"55.705647\" xlink:href=\"#m1372324b23\" y=\"215.666978\"/>\n     <use style=\"fill:#1f77b4;stroke:#1f77b4;\" x=\"55.638008\" xlink:href=\"#m1372324b23\" y=\"215.683033\"/>\n     <use style=\"fill:#1f77b4;stroke:#1f77b4;\" x=\"56.902721\" xlink:href=\"#m1372324b23\" y=\"215.067056\"/>\n     <use style=\"fill:#1f77b4;stroke:#1f77b4;\" x=\"56.923649\" xlink:href=\"#m1372324b23\" y=\"215.060235\"/>\n     <use style=\"fill:#1f77b4;stroke:#1f77b4;\" x=\"57.01347\" xlink:href=\"#m1372324b23\" y=\"214.835476\"/>\n     <use style=\"fill:#1f77b4;stroke:#1f77b4;\" x=\"56.815903\" xlink:href=\"#m1372324b23\" y=\"214.982153\"/>\n     <use style=\"fill:#1f77b4;stroke:#1f77b4;\" x=\"56.840023\" xlink:href=\"#m1372324b23\" y=\"214.92889\"/>\n     <use style=\"fill:#1f77b4;stroke:#1f77b4;\" x=\"56.738499\" xlink:href=\"#m1372324b23\" y=\"214.929671\"/>\n     <use style=\"fill:#1f77b4;stroke:#1f77b4;\" x=\"56.666632\" xlink:href=\"#m1372324b23\" y=\"214.978314\"/>\n     <use style=\"fill:#1f77b4;stroke:#1f77b4;\" x=\"56.685226\" xlink:href=\"#m1372324b23\" y=\"214.94862\"/>\n     <use style=\"fill:#1f77b4;stroke:#1f77b4;\" x=\"56.727698\" xlink:href=\"#m1372324b23\" y=\"214.900127\"/>\n     <use style=\"fill:#1f77b4;stroke:#1f77b4;\" x=\"56.936104\" xlink:href=\"#m1372324b23\" y=\"214.467858\"/>\n     <use style=\"fill:#1f77b4;stroke:#1f77b4;\" x=\"58.080498\" xlink:href=\"#m1372324b23\" y=\"213.945243\"/>\n     <use style=\"fill:#1f77b4;stroke:#1f77b4;\" x=\"58.228966\" xlink:href=\"#m1372324b23\" y=\"213.976692\"/>\n     <use style=\"fill:#1f77b4;stroke:#1f77b4;\" x=\"58.478428\" xlink:href=\"#m1372324b23\" y=\"213.800746\"/>\n     <use style=\"fill:#1f77b4;stroke:#1f77b4;\" x=\"58.262197\" xlink:href=\"#m1372324b23\" y=\"213.943885\"/>\n     <use style=\"fill:#1f77b4;stroke:#1f77b4;\" x=\"58.505425\" xlink:href=\"#m1372324b23\" y=\"213.820058\"/>\n     <use style=\"fill:#1f77b4;stroke:#1f77b4;\" x=\"59.153611\" xlink:href=\"#m1372324b23\" y=\"213.414368\"/>\n     <use style=\"fill:#1f77b4;stroke:#1f77b4;\" x=\"57.582356\" xlink:href=\"#m1372324b23\" y=\"214.373625\"/>\n     <use style=\"fill:#1f77b4;stroke:#1f77b4;\" x=\"57.92428\" xlink:href=\"#m1372324b23\" y=\"214.207628\"/>\n     <use style=\"fill:#1f77b4;stroke:#1f77b4;\" x=\"57.790203\" xlink:href=\"#m1372324b23\" y=\"214.280094\"/>\n     <use style=\"fill:#1f77b4;stroke:#1f77b4;\" x=\"57.77454\" xlink:href=\"#m1372324b23\" y=\"214.362198\"/>\n     <use style=\"fill:#1f77b4;stroke:#1f77b4;\" x=\"57.792226\" xlink:href=\"#m1372324b23\" y=\"214.336264\"/>\n     <use style=\"fill:#1f77b4;stroke:#1f77b4;\" x=\"57.814928\" xlink:href=\"#m1372324b23\" y=\"214.348917\"/>\n     <use style=\"fill:#1f77b4;stroke:#1f77b4;\" x=\"57.837786\" xlink:href=\"#m1372324b23\" y=\"214.442434\"/>\n     <use style=\"fill:#1f77b4;stroke:#1f77b4;\" x=\"57.756222\" xlink:href=\"#m1372324b23\" y=\"214.52428\"/>\n     <use style=\"fill:#1f77b4;stroke:#1f77b4;\" x=\"57.351136\" xlink:href=\"#m1372324b23\" y=\"214.711396\"/>\n     <use style=\"fill:#1f77b4;stroke:#1f77b4;\" x=\"57.988998\" xlink:href=\"#m1372324b23\" y=\"214.291269\"/>\n     <use style=\"fill:#1f77b4;stroke:#1f77b4;\" x=\"58.024802\" xlink:href=\"#m1372324b23\" y=\"214.25084\"/>\n     <use style=\"fill:#1f77b4;stroke:#1f77b4;\" x=\"58.060484\" xlink:href=\"#m1372324b23\" y=\"214.282401\"/>\n     <use style=\"fill:#1f77b4;stroke:#1f77b4;\" x=\"58.011503\" xlink:href=\"#m1372324b23\" y=\"214.403963\"/>\n     <use style=\"fill:#1f77b4;stroke:#1f77b4;\" x=\"58.305704\" xlink:href=\"#m1372324b23\" y=\"214.285293\"/>\n     <use style=\"fill:#1f77b4;stroke:#1f77b4;\" x=\"58.250282\" xlink:href=\"#m1372324b23\" y=\"214.335744\"/>\n     <use style=\"fill:#1f77b4;stroke:#1f77b4;\" x=\"58.03088\" xlink:href=\"#m1372324b23\" y=\"214.458026\"/>\n     <use style=\"fill:#1f77b4;stroke:#1f77b4;\" x=\"58.049469\" xlink:href=\"#m1372324b23\" y=\"214.432569\"/>\n     <use style=\"fill:#1f77b4;stroke:#1f77b4;\" x=\"58.03793\" xlink:href=\"#m1372324b23\" y=\"214.481898\"/>\n     <use style=\"fill:#1f77b4;stroke:#1f77b4;\" x=\"58.121446\" xlink:href=\"#m1372324b23\" y=\"214.463145\"/>\n     <use style=\"fill:#1f77b4;stroke:#1f77b4;\" x=\"58.294336\" xlink:href=\"#m1372324b23\" y=\"214.29673\"/>\n     <use style=\"fill:#1f77b4;stroke:#1f77b4;\" x=\"58.709812\" xlink:href=\"#m1372324b23\" y=\"214.099951\"/>\n     <use style=\"fill:#1f77b4;stroke:#1f77b4;\" x=\"58.598642\" xlink:href=\"#m1372324b23\" y=\"214.200198\"/>\n     <use style=\"fill:#1f77b4;stroke:#1f77b4;\" x=\"58.633078\" xlink:href=\"#m1372324b23\" y=\"214.22637\"/>\n     <use style=\"fill:#1f77b4;stroke:#1f77b4;\" x=\"58.816098\" xlink:href=\"#m1372324b23\" y=\"214.178513\"/>\n     <use style=\"fill:#1f77b4;stroke:#1f77b4;\" x=\"58.893152\" xlink:href=\"#m1372324b23\" y=\"214.171524\"/>\n     <use style=\"fill:#1f77b4;stroke:#1f77b4;\" x=\"58.618031\" xlink:href=\"#m1372324b23\" y=\"214.340871\"/>\n     <use style=\"fill:#1f77b4;stroke:#1f77b4;\" x=\"58.592677\" xlink:href=\"#m1372324b23\" y=\"214.318068\"/>\n     <use style=\"fill:#1f77b4;stroke:#1f77b4;\" x=\"58.648782\" xlink:href=\"#m1372324b23\" y=\"214.273814\"/>\n     <use style=\"fill:#1f77b4;stroke:#1f77b4;\" x=\"58.584161\" xlink:href=\"#m1372324b23\" y=\"214.326201\"/>\n     <use style=\"fill:#1f77b4;stroke:#1f77b4;\" x=\"58.304553\" xlink:href=\"#m1372324b23\" y=\"214.407979\"/>\n     <use style=\"fill:#1f77b4;stroke:#1f77b4;\" x=\"58.40869\" xlink:href=\"#m1372324b23\" y=\"214.390028\"/>\n     <use style=\"fill:#1f77b4;stroke:#1f77b4;\" x=\"58.891211\" xlink:href=\"#m1372324b23\" y=\"214.158906\"/>\n     <use style=\"fill:#1f77b4;stroke:#1f77b4;\" x=\"58.806242\" xlink:href=\"#m1372324b23\" y=\"214.224619\"/>\n     <use style=\"fill:#1f77b4;stroke:#1f77b4;\" x=\"58.944714\" xlink:href=\"#m1372324b23\" y=\"214.095802\"/>\n     <use style=\"fill:#1f77b4;stroke:#1f77b4;\" x=\"58.983916\" xlink:href=\"#m1372324b23\" y=\"214.112724\"/>\n     <use style=\"fill:#1f77b4;stroke:#1f77b4;\" x=\"58.977974\" xlink:href=\"#m1372324b23\" y=\"214.136916\"/>\n     <use style=\"fill:#1f77b4;stroke:#1f77b4;\" x=\"59.227686\" xlink:href=\"#m1372324b23\" y=\"214.123694\"/>\n     <use style=\"fill:#1f77b4;stroke:#1f77b4;\" x=\"62.642227\" xlink:href=\"#m1372324b23\" y=\"213.198359\"/>\n     <use style=\"fill:#1f77b4;stroke:#1f77b4;\" x=\"63.082917\" xlink:href=\"#m1372324b23\" y=\"213.303009\"/>\n     <use style=\"fill:#1f77b4;stroke:#1f77b4;\" x=\"62.845298\" xlink:href=\"#m1372324b23\" y=\"213.445428\"/>\n     <use style=\"fill:#1f77b4;stroke:#1f77b4;\" x=\"63.384107\" xlink:href=\"#m1372324b23\" y=\"213.133423\"/>\n     <use style=\"fill:#1f77b4;stroke:#1f77b4;\" x=\"63.493571\" xlink:href=\"#m1372324b23\" y=\"213.115345\"/>\n     <use style=\"fill:#1f77b4;stroke:#1f77b4;\" x=\"64.151596\" xlink:href=\"#m1372324b23\" y=\"212.756422\"/>\n     <use style=\"fill:#1f77b4;stroke:#1f77b4;\" x=\"64.581546\" xlink:href=\"#m1372324b23\" y=\"212.516964\"/>\n     <use style=\"fill:#1f77b4;stroke:#1f77b4;\" x=\"64.180274\" xlink:href=\"#m1372324b23\" y=\"212.690238\"/>\n     <use style=\"fill:#1f77b4;stroke:#1f77b4;\" x=\"64.746104\" xlink:href=\"#m1372324b23\" y=\"212.639108\"/>\n     <use style=\"fill:#1f77b4;stroke:#1f77b4;\" x=\"63.515668\" xlink:href=\"#m1372324b23\" y=\"213.134168\"/>\n     <use style=\"fill:#1f77b4;stroke:#1f77b4;\" x=\"63.634193\" xlink:href=\"#m1372324b23\" y=\"213.165973\"/>\n     <use style=\"fill:#1f77b4;stroke:#1f77b4;\" x=\"63.667536\" xlink:href=\"#m1372324b23\" y=\"213.175296\"/>\n     <use style=\"fill:#1f77b4;stroke:#1f77b4;\" x=\"64.004099\" xlink:href=\"#m1372324b23\" y=\"213.036268\"/>\n     <use style=\"fill:#1f77b4;stroke:#1f77b4;\" x=\"63.528067\" xlink:href=\"#m1372324b23\" y=\"213.298186\"/>\n     <use style=\"fill:#1f77b4;stroke:#1f77b4;\" x=\"64.325057\" xlink:href=\"#m1372324b23\" y=\"213.04526\"/>\n     <use style=\"fill:#1f77b4;stroke:#1f77b4;\" x=\"64.402547\" xlink:href=\"#m1372324b23\" y=\"213.073386\"/>\n     <use style=\"fill:#1f77b4;stroke:#1f77b4;\" x=\"64.622305\" xlink:href=\"#m1372324b23\" y=\"212.786426\"/>\n     <use style=\"fill:#1f77b4;stroke:#1f77b4;\" x=\"64.64798\" xlink:href=\"#m1372324b23\" y=\"212.790841\"/>\n     <use style=\"fill:#1f77b4;stroke:#1f77b4;\" x=\"64.809193\" xlink:href=\"#m1372324b23\" y=\"212.78905\"/>\n     <use style=\"fill:#1f77b4;stroke:#1f77b4;\" x=\"64.698694\" xlink:href=\"#m1372324b23\" y=\"212.943949\"/>\n     <use style=\"fill:#1f77b4;stroke:#1f77b4;\" x=\"65.100067\" xlink:href=\"#m1372324b23\" y=\"212.867513\"/>\n     <use style=\"fill:#1f77b4;stroke:#1f77b4;\" x=\"65.918565\" xlink:href=\"#m1372324b23\" y=\"212.88536\"/>\n     <use style=\"fill:#1f77b4;stroke:#1f77b4;\" x=\"65.409973\" xlink:href=\"#m1372324b23\" y=\"213.120409\"/>\n     <use style=\"fill:#1f77b4;stroke:#1f77b4;\" x=\"64.206567\" xlink:href=\"#m1372324b23\" y=\"213.595661\"/>\n     <use style=\"fill:#1f77b4;stroke:#1f77b4;\" x=\"64.532233\" xlink:href=\"#m1372324b23\" y=\"213.516735\"/>\n     <use style=\"fill:#1f77b4;stroke:#1f77b4;\" x=\"64.479918\" xlink:href=\"#m1372324b23\" y=\"213.42944\"/>\n     <use style=\"fill:#1f77b4;stroke:#1f77b4;\" x=\"64.559632\" xlink:href=\"#m1372324b23\" y=\"213.477099\"/>\n     <use style=\"fill:#1f77b4;stroke:#1f77b4;\" x=\"64.380852\" xlink:href=\"#m1372324b23\" y=\"213.564612\"/>\n     <use style=\"fill:#1f77b4;stroke:#1f77b4;\" x=\"64.869944\" xlink:href=\"#m1372324b23\" y=\"213.27344\"/>\n     <use style=\"fill:#1f77b4;stroke:#1f77b4;\" x=\"65.115832\" xlink:href=\"#m1372324b23\" y=\"213.329788\"/>\n     <use style=\"fill:#1f77b4;stroke:#1f77b4;\" x=\"65.601197\" xlink:href=\"#m1372324b23\" y=\"213.275248\"/>\n     <use style=\"fill:#1f77b4;stroke:#1f77b4;\" x=\"66.845552\" xlink:href=\"#m1372324b23\" y=\"213.031506\"/>\n     <use style=\"fill:#1f77b4;stroke:#1f77b4;\" x=\"67.143045\" xlink:href=\"#m1372324b23\" y=\"213.195648\"/>\n     <use style=\"fill:#1f77b4;stroke:#1f77b4;\" x=\"66.975279\" xlink:href=\"#m1372324b23\" y=\"213.219726\"/>\n     <use style=\"fill:#1f77b4;stroke:#1f77b4;\" x=\"66.743913\" xlink:href=\"#m1372324b23\" y=\"212.834961\"/>\n     <use style=\"fill:#1f77b4;stroke:#1f77b4;\" x=\"67.135163\" xlink:href=\"#m1372324b23\" y=\"212.954312\"/>\n     <use style=\"fill:#1f77b4;stroke:#1f77b4;\" x=\"67.858841\" xlink:href=\"#m1372324b23\" y=\"212.906251\"/>\n     <use style=\"fill:#1f77b4;stroke:#1f77b4;\" x=\"68.767584\" xlink:href=\"#m1372324b23\" y=\"212.933798\"/>\n     <use style=\"fill:#1f77b4;stroke:#1f77b4;\" x=\"69.734281\" xlink:href=\"#m1372324b23\" y=\"212.814493\"/>\n     <use style=\"fill:#1f77b4;stroke:#1f77b4;\" x=\"73.641952\" xlink:href=\"#m1372324b23\" y=\"211.929708\"/>\n     <use style=\"fill:#1f77b4;stroke:#1f77b4;\" x=\"72.542403\" xlink:href=\"#m1372324b23\" y=\"212.221507\"/>\n     <use style=\"fill:#1f77b4;stroke:#1f77b4;\" x=\"76.528713\" xlink:href=\"#m1372324b23\" y=\"211.823427\"/>\n     <use style=\"fill:#1f77b4;stroke:#1f77b4;\" x=\"77.377982\" xlink:href=\"#m1372324b23\" y=\"210.97457\"/>\n     <use style=\"fill:#1f77b4;stroke:#1f77b4;\" x=\"78.375109\" xlink:href=\"#m1372324b23\" y=\"209.720055\"/>\n     <use style=\"fill:#1f77b4;stroke:#1f77b4;\" x=\"76.859875\" xlink:href=\"#m1372324b23\" y=\"209.015251\"/>\n     <use style=\"fill:#1f77b4;stroke:#1f77b4;\" x=\"74.300187\" xlink:href=\"#m1372324b23\" y=\"209.86173\"/>\n     <use style=\"fill:#1f77b4;stroke:#1f77b4;\" x=\"73.956282\" xlink:href=\"#m1372324b23\" y=\"210.245109\"/>\n     <use style=\"fill:#1f77b4;stroke:#1f77b4;\" x=\"78.339726\" xlink:href=\"#m1372324b23\" y=\"209.128884\"/>\n     <use style=\"fill:#1f77b4;stroke:#1f77b4;\" x=\"77.301776\" xlink:href=\"#m1372324b23\" y=\"209.523069\"/>\n     <use style=\"fill:#1f77b4;stroke:#1f77b4;\" x=\"77.230894\" xlink:href=\"#m1372324b23\" y=\"209.382941\"/>\n     <use style=\"fill:#1f77b4;stroke:#1f77b4;\" x=\"75.890706\" xlink:href=\"#m1372324b23\" y=\"209.822665\"/>\n     <use style=\"fill:#1f77b4;stroke:#1f77b4;\" x=\"76.845385\" xlink:href=\"#m1372324b23\" y=\"209.769701\"/>\n     <use style=\"fill:#1f77b4;stroke:#1f77b4;\" x=\"77.344653\" xlink:href=\"#m1372324b23\" y=\"209.622555\"/>\n     <use style=\"fill:#1f77b4;stroke:#1f77b4;\" x=\"77.653002\" xlink:href=\"#m1372324b23\" y=\"209.52744\"/>\n     <use style=\"fill:#1f77b4;stroke:#1f77b4;\" x=\"80.589575\" xlink:href=\"#m1372324b23\" y=\"208.887325\"/>\n     <use style=\"fill:#1f77b4;stroke:#1f77b4;\" x=\"81.216766\" xlink:href=\"#m1372324b23\" y=\"208.645114\"/>\n     <use style=\"fill:#1f77b4;stroke:#1f77b4;\" x=\"80.810744\" xlink:href=\"#m1372324b23\" y=\"208.690852\"/>\n     <use style=\"fill:#1f77b4;stroke:#1f77b4;\" x=\"80.524622\" xlink:href=\"#m1372324b23\" y=\"208.787562\"/>\n     <use style=\"fill:#1f77b4;stroke:#1f77b4;\" x=\"78.915917\" xlink:href=\"#m1372324b23\" y=\"209.356054\"/>\n     <use style=\"fill:#1f77b4;stroke:#1f77b4;\" x=\"80.122532\" xlink:href=\"#m1372324b23\" y=\"208.843678\"/>\n     <use style=\"fill:#1f77b4;stroke:#1f77b4;\" x=\"80.072923\" xlink:href=\"#m1372324b23\" y=\"208.957499\"/>\n     <use style=\"fill:#1f77b4;stroke:#1f77b4;\" x=\"80.919545\" xlink:href=\"#m1372324b23\" y=\"208.755374\"/>\n     <use style=\"fill:#1f77b4;stroke:#1f77b4;\" x=\"78.393216\" xlink:href=\"#m1372324b23\" y=\"209.491982\"/>\n     <use style=\"fill:#1f77b4;stroke:#1f77b4;\" x=\"76.021784\" xlink:href=\"#m1372324b23\" y=\"209.963155\"/>\n     <use style=\"fill:#1f77b4;stroke:#1f77b4;\" x=\"76.572791\" xlink:href=\"#m1372324b23\" y=\"209.724322\"/>\n     <use style=\"fill:#1f77b4;stroke:#1f77b4;\" x=\"76.562345\" xlink:href=\"#m1372324b23\" y=\"209.623\"/>\n     <use style=\"fill:#1f77b4;stroke:#1f77b4;\" x=\"77.612347\" xlink:href=\"#m1372324b23\" y=\"209.562123\"/>\n     <use style=\"fill:#1f77b4;stroke:#1f77b4;\" x=\"77.187368\" xlink:href=\"#m1372324b23\" y=\"209.779216\"/>\n     <use style=\"fill:#1f77b4;stroke:#1f77b4;\" x=\"75.928607\" xlink:href=\"#m1372324b23\" y=\"210.308182\"/>\n     <use style=\"fill:#1f77b4;stroke:#1f77b4;\" x=\"77.405961\" xlink:href=\"#m1372324b23\" y=\"209.704708\"/>\n     <use style=\"fill:#1f77b4;stroke:#1f77b4;\" x=\"77.062398\" xlink:href=\"#m1372324b23\" y=\"209.777387\"/>\n     <use style=\"fill:#1f77b4;stroke:#1f77b4;\" x=\"78.094494\" xlink:href=\"#m1372324b23\" y=\"209.145145\"/>\n     <use style=\"fill:#1f77b4;stroke:#1f77b4;\" x=\"78.496967\" xlink:href=\"#m1372324b23\" y=\"209.343099\"/>\n     <use style=\"fill:#1f77b4;stroke:#1f77b4;\" x=\"80.687121\" xlink:href=\"#m1372324b23\" y=\"209.012012\"/>\n     <use style=\"fill:#1f77b4;stroke:#1f77b4;\" x=\"81.37099\" xlink:href=\"#m1372324b23\" y=\"208.805807\"/>\n     <use style=\"fill:#1f77b4;stroke:#1f77b4;\" x=\"82.109605\" xlink:href=\"#m1372324b23\" y=\"208.797282\"/>\n     <use style=\"fill:#1f77b4;stroke:#1f77b4;\" x=\"83.651361\" xlink:href=\"#m1372324b23\" y=\"208.58288\"/>\n     <use style=\"fill:#1f77b4;stroke:#1f77b4;\" x=\"82.522525\" xlink:href=\"#m1372324b23\" y=\"208.97169\"/>\n     <use style=\"fill:#1f77b4;stroke:#1f77b4;\" x=\"83.42979\" xlink:href=\"#m1372324b23\" y=\"208.788561\"/>\n     <use style=\"fill:#1f77b4;stroke:#1f77b4;\" x=\"84.629826\" xlink:href=\"#m1372324b23\" y=\"208.693934\"/>\n     <use style=\"fill:#1f77b4;stroke:#1f77b4;\" x=\"87.550902\" xlink:href=\"#m1372324b23\" y=\"207.723282\"/>\n     <use style=\"fill:#1f77b4;stroke:#1f77b4;\" x=\"90.186864\" xlink:href=\"#m1372324b23\" y=\"207.118277\"/>\n     <use style=\"fill:#1f77b4;stroke:#1f77b4;\" x=\"90.913965\" xlink:href=\"#m1372324b23\" y=\"207.183189\"/>\n     <use style=\"fill:#1f77b4;stroke:#1f77b4;\" x=\"91.650775\" xlink:href=\"#m1372324b23\" y=\"207.074611\"/>\n     <use style=\"fill:#1f77b4;stroke:#1f77b4;\" x=\"95.340296\" xlink:href=\"#m1372324b23\" y=\"206.752599\"/>\n     <use style=\"fill:#1f77b4;stroke:#1f77b4;\" x=\"101.137603\" xlink:href=\"#m1372324b23\" y=\"205.973793\"/>\n     <use style=\"fill:#1f77b4;stroke:#1f77b4;\" x=\"92.463155\" xlink:href=\"#m1372324b23\" y=\"207.750152\"/>\n     <use style=\"fill:#1f77b4;stroke:#1f77b4;\" x=\"98.256729\" xlink:href=\"#m1372324b23\" y=\"207.041103\"/>\n     <use style=\"fill:#1f77b4;stroke:#1f77b4;\" x=\"96.1373\" xlink:href=\"#m1372324b23\" y=\"206.671796\"/>\n     <use style=\"fill:#1f77b4;stroke:#1f77b4;\" x=\"90.733156\" xlink:href=\"#m1372324b23\" y=\"207.899486\"/>\n     <use style=\"fill:#1f77b4;stroke:#1f77b4;\" x=\"89.625939\" xlink:href=\"#m1372324b23\" y=\"207.776347\"/>\n     <use style=\"fill:#1f77b4;stroke:#1f77b4;\" x=\"90.659927\" xlink:href=\"#m1372324b23\" y=\"207.861837\"/>\n     <use style=\"fill:#1f77b4;stroke:#1f77b4;\" x=\"96.146282\" xlink:href=\"#m1372324b23\" y=\"207.380864\"/>\n     <use style=\"fill:#1f77b4;stroke:#1f77b4;\" x=\"92.617541\" xlink:href=\"#m1372324b23\" y=\"208.157574\"/>\n     <use style=\"fill:#1f77b4;stroke:#1f77b4;\" x=\"91.496333\" xlink:href=\"#m1372324b23\" y=\"208.012311\"/>\n     <use style=\"fill:#1f77b4;stroke:#1f77b4;\" x=\"92.584958\" xlink:href=\"#m1372324b23\" y=\"208.031143\"/>\n     <use style=\"fill:#1f77b4;stroke:#1f77b4;\" x=\"93.731328\" xlink:href=\"#m1372324b23\" y=\"207.272131\"/>\n     <use style=\"fill:#1f77b4;stroke:#1f77b4;\" x=\"97.682474\" xlink:href=\"#m1372324b23\" y=\"206.956423\"/>\n     <use style=\"fill:#1f77b4;stroke:#1f77b4;\" x=\"99.044395\" xlink:href=\"#m1372324b23\" y=\"207.139153\"/>\n     <use style=\"fill:#1f77b4;stroke:#1f77b4;\" x=\"97.070032\" xlink:href=\"#m1372324b23\" y=\"207.928489\"/>\n     <use style=\"fill:#1f77b4;stroke:#1f77b4;\" x=\"93.295177\" xlink:href=\"#m1372324b23\" y=\"208.818989\"/>\n     <use style=\"fill:#1f77b4;stroke:#1f77b4;\" x=\"95.458906\" xlink:href=\"#m1372324b23\" y=\"208.502369\"/>\n     <use style=\"fill:#1f77b4;stroke:#1f77b4;\" x=\"93.4547\" xlink:href=\"#m1372324b23\" y=\"208.787432\"/>\n     <use style=\"fill:#1f77b4;stroke:#1f77b4;\" x=\"88.078449\" xlink:href=\"#m1372324b23\" y=\"210.538503\"/>\n     <use style=\"fill:#1f77b4;stroke:#1f77b4;\" x=\"91.101886\" xlink:href=\"#m1372324b23\" y=\"210.446605\"/>\n     <use style=\"fill:#1f77b4;stroke:#1f77b4;\" x=\"84.39554\" xlink:href=\"#m1372324b23\" y=\"211.725489\"/>\n     <use style=\"fill:#1f77b4;stroke:#1f77b4;\" x=\"85.418259\" xlink:href=\"#m1372324b23\" y=\"211.21137\"/>\n     <use style=\"fill:#1f77b4;stroke:#1f77b4;\" x=\"90.02028\" xlink:href=\"#m1372324b23\" y=\"210.580812\"/>\n     <use style=\"fill:#1f77b4;stroke:#1f77b4;\" x=\"89.378009\" xlink:href=\"#m1372324b23\" y=\"210.799597\"/>\n     <use style=\"fill:#1f77b4;stroke:#1f77b4;\" x=\"90.496518\" xlink:href=\"#m1372324b23\" y=\"210.474066\"/>\n     <use style=\"fill:#1f77b4;stroke:#1f77b4;\" x=\"89.701501\" xlink:href=\"#m1372324b23\" y=\"210.619921\"/>\n     <use style=\"fill:#1f77b4;stroke:#1f77b4;\" x=\"88.490297\" xlink:href=\"#m1372324b23\" y=\"210.957367\"/>\n     <use style=\"fill:#1f77b4;stroke:#1f77b4;\" x=\"86.397468\" xlink:href=\"#m1372324b23\" y=\"211.159376\"/>\n     <use style=\"fill:#1f77b4;stroke:#1f77b4;\" x=\"85.977132\" xlink:href=\"#m1372324b23\" y=\"210.978843\"/>\n     <use style=\"fill:#1f77b4;stroke:#1f77b4;\" x=\"86.449863\" xlink:href=\"#m1372324b23\" y=\"210.871321\"/>\n     <use style=\"fill:#1f77b4;stroke:#1f77b4;\" x=\"86.253335\" xlink:href=\"#m1372324b23\" y=\"210.870835\"/>\n     <use style=\"fill:#1f77b4;stroke:#1f77b4;\" x=\"84.395711\" xlink:href=\"#m1372324b23\" y=\"211.381819\"/>\n     <use style=\"fill:#1f77b4;stroke:#1f77b4;\" x=\"84.751421\" xlink:href=\"#m1372324b23\" y=\"211.223847\"/>\n     <use style=\"fill:#1f77b4;stroke:#1f77b4;\" x=\"84.591906\" xlink:href=\"#m1372324b23\" y=\"211.22044\"/>\n     <use style=\"fill:#1f77b4;stroke:#1f77b4;\" x=\"85.009576\" xlink:href=\"#m1372324b23\" y=\"211.251608\"/>\n     <use style=\"fill:#1f77b4;stroke:#1f77b4;\" x=\"87.272094\" xlink:href=\"#m1372324b23\" y=\"210.91162\"/>\n     <use style=\"fill:#1f77b4;stroke:#1f77b4;\" x=\"88.75791\" xlink:href=\"#m1372324b23\" y=\"210.94698\"/>\n     <use style=\"fill:#1f77b4;stroke:#1f77b4;\" x=\"89.318595\" xlink:href=\"#m1372324b23\" y=\"210.944341\"/>\n     <use style=\"fill:#1f77b4;stroke:#1f77b4;\" x=\"90.754784\" xlink:href=\"#m1372324b23\" y=\"210.751225\"/>\n     <use style=\"fill:#1f77b4;stroke:#1f77b4;\" x=\"91.45718\" xlink:href=\"#m1372324b23\" y=\"210.743725\"/>\n     <use style=\"fill:#1f77b4;stroke:#1f77b4;\" x=\"95.410018\" xlink:href=\"#m1372324b23\" y=\"210.261006\"/>\n     <use style=\"fill:#1f77b4;stroke:#1f77b4;\" x=\"93.860597\" xlink:href=\"#m1372324b23\" y=\"210.60362\"/>\n     <use style=\"fill:#1f77b4;stroke:#1f77b4;\" x=\"96.054965\" xlink:href=\"#m1372324b23\" y=\"210.588135\"/>\n     <use style=\"fill:#1f77b4;stroke:#1f77b4;\" x=\"96.17059\" xlink:href=\"#m1372324b23\" y=\"210.815969\"/>\n     <use style=\"fill:#1f77b4;stroke:#1f77b4;\" x=\"95.681041\" xlink:href=\"#m1372324b23\" y=\"211.253016\"/>\n     <use style=\"fill:#1f77b4;stroke:#1f77b4;\" x=\"93.273235\" xlink:href=\"#m1372324b23\" y=\"211.410032\"/>\n     <use style=\"fill:#1f77b4;stroke:#1f77b4;\" x=\"94.075445\" xlink:href=\"#m1372324b23\" y=\"211.01871\"/>\n     <use style=\"fill:#1f77b4;stroke:#1f77b4;\" x=\"93.40851\" xlink:href=\"#m1372324b23\" y=\"211.219603\"/>\n     <use style=\"fill:#1f77b4;stroke:#1f77b4;\" x=\"91.105388\" xlink:href=\"#m1372324b23\" y=\"211.327434\"/>\n     <use style=\"fill:#1f77b4;stroke:#1f77b4;\" x=\"87.111591\" xlink:href=\"#m1372324b23\" y=\"212.251509\"/>\n     <use style=\"fill:#1f77b4;stroke:#1f77b4;\" x=\"88.340975\" xlink:href=\"#m1372324b23\" y=\"212.172306\"/>\n     <use style=\"fill:#1f77b4;stroke:#1f77b4;\" x=\"88.638067\" xlink:href=\"#m1372324b23\" y=\"212.300331\"/>\n     <use style=\"fill:#1f77b4;stroke:#1f77b4;\" x=\"87.963411\" xlink:href=\"#m1372324b23\" y=\"212.289978\"/>\n     <use style=\"fill:#1f77b4;stroke:#1f77b4;\" x=\"88.503091\" xlink:href=\"#m1372324b23\" y=\"211.921798\"/>\n     <use style=\"fill:#1f77b4;stroke:#1f77b4;\" x=\"91.201072\" xlink:href=\"#m1372324b23\" y=\"211.56229\"/>\n     <use style=\"fill:#1f77b4;stroke:#1f77b4;\" x=\"90.478031\" xlink:href=\"#m1372324b23\" y=\"211.83517\"/>\n     <use style=\"fill:#1f77b4;stroke:#1f77b4;\" x=\"87.520117\" xlink:href=\"#m1372324b23\" y=\"212.23964\"/>\n     <use style=\"fill:#1f77b4;stroke:#1f77b4;\" x=\"87.487025\" xlink:href=\"#m1372324b23\" y=\"212.053946\"/>\n     <use style=\"fill:#1f77b4;stroke:#1f77b4;\" x=\"88.797161\" xlink:href=\"#m1372324b23\" y=\"211.912905\"/>\n     <use style=\"fill:#1f77b4;stroke:#1f77b4;\" x=\"87.623784\" xlink:href=\"#m1372324b23\" y=\"212.055758\"/>\n     <use style=\"fill:#1f77b4;stroke:#1f77b4;\" x=\"87.52233\" xlink:href=\"#m1372324b23\" y=\"212.241699\"/>\n     <use style=\"fill:#1f77b4;stroke:#1f77b4;\" x=\"88.621419\" xlink:href=\"#m1372324b23\" y=\"212.15444\"/>\n     <use style=\"fill:#1f77b4;stroke:#1f77b4;\" x=\"87.744617\" xlink:href=\"#m1372324b23\" y=\"212.213507\"/>\n     <use style=\"fill:#1f77b4;stroke:#1f77b4;\" x=\"85.70507\" xlink:href=\"#m1372324b23\" y=\"212.783251\"/>\n     <use style=\"fill:#1f77b4;stroke:#1f77b4;\" x=\"84.549584\" xlink:href=\"#m1372324b23\" y=\"212.9661\"/>\n     <use style=\"fill:#1f77b4;stroke:#1f77b4;\" x=\"84.965812\" xlink:href=\"#m1372324b23\" y=\"212.994609\"/>\n     <use style=\"fill:#1f77b4;stroke:#1f77b4;\" x=\"85.119532\" xlink:href=\"#m1372324b23\" y=\"212.84263\"/>\n     <use style=\"fill:#1f77b4;stroke:#1f77b4;\" x=\"85.721856\" xlink:href=\"#m1372324b23\" y=\"212.877766\"/>\n     <use style=\"fill:#1f77b4;stroke:#1f77b4;\" x=\"88.507587\" xlink:href=\"#m1372324b23\" y=\"212.596884\"/>\n     <use style=\"fill:#1f77b4;stroke:#1f77b4;\" x=\"89.817108\" xlink:href=\"#m1372324b23\" y=\"212.548719\"/>\n     <use style=\"fill:#1f77b4;stroke:#1f77b4;\" x=\"89.679679\" xlink:href=\"#m1372324b23\" y=\"212.695326\"/>\n     <use style=\"fill:#1f77b4;stroke:#1f77b4;\" x=\"89.589974\" xlink:href=\"#m1372324b23\" y=\"212.769572\"/>\n     <use style=\"fill:#1f77b4;stroke:#1f77b4;\" x=\"88.538539\" xlink:href=\"#m1372324b23\" y=\"212.947726\"/>\n     <use style=\"fill:#1f77b4;stroke:#1f77b4;\" x=\"89.314243\" xlink:href=\"#m1372324b23\" y=\"212.600427\"/>\n     <use style=\"fill:#1f77b4;stroke:#1f77b4;\" x=\"88.954767\" xlink:href=\"#m1372324b23\" y=\"212.471109\"/>\n     <use style=\"fill:#1f77b4;stroke:#1f77b4;\" x=\"88.451823\" xlink:href=\"#m1372324b23\" y=\"212.479725\"/>\n     <use style=\"fill:#1f77b4;stroke:#1f77b4;\" x=\"87.415677\" xlink:href=\"#m1372324b23\" y=\"212.536684\"/>\n     <use style=\"fill:#1f77b4;stroke:#1f77b4;\" x=\"87.710893\" xlink:href=\"#m1372324b23\" y=\"212.581073\"/>\n     <use style=\"fill:#1f77b4;stroke:#1f77b4;\" x=\"88.80739\" xlink:href=\"#m1372324b23\" y=\"212.485301\"/>\n     <use style=\"fill:#1f77b4;stroke:#1f77b4;\" x=\"88.572813\" xlink:href=\"#m1372324b23\" y=\"212.481386\"/>\n     <use style=\"fill:#1f77b4;stroke:#1f77b4;\" x=\"88.560994\" xlink:href=\"#m1372324b23\" y=\"212.188886\"/>\n     <use style=\"fill:#1f77b4;stroke:#1f77b4;\" x=\"88.512092\" xlink:href=\"#m1372324b23\" y=\"212.118493\"/>\n     <use style=\"fill:#1f77b4;stroke:#1f77b4;\" x=\"88.176554\" xlink:href=\"#m1372324b23\" y=\"211.812268\"/>\n     <use style=\"fill:#1f77b4;stroke:#1f77b4;\" x=\"88.008492\" xlink:href=\"#m1372324b23\" y=\"211.331627\"/>\n     <use style=\"fill:#1f77b4;stroke:#1f77b4;\" x=\"87.804931\" xlink:href=\"#m1372324b23\" y=\"211.215214\"/>\n     <use style=\"fill:#1f77b4;stroke:#1f77b4;\" x=\"88.127449\" xlink:href=\"#m1372324b23\" y=\"210.801795\"/>\n     <use style=\"fill:#1f77b4;stroke:#1f77b4;\" x=\"87.726362\" xlink:href=\"#m1372324b23\" y=\"210.936878\"/>\n     <use style=\"fill:#1f77b4;stroke:#1f77b4;\" x=\"86.96025\" xlink:href=\"#m1372324b23\" y=\"211.04282\"/>\n     <use style=\"fill:#1f77b4;stroke:#1f77b4;\" x=\"87.200011\" xlink:href=\"#m1372324b23\" y=\"211.208844\"/>\n     <use style=\"fill:#1f77b4;stroke:#1f77b4;\" x=\"85.586321\" xlink:href=\"#m1372324b23\" y=\"211.611235\"/>\n     <use style=\"fill:#1f77b4;stroke:#1f77b4;\" x=\"80.340476\" xlink:href=\"#m1372324b23\" y=\"213.024886\"/>\n     <use style=\"fill:#1f77b4;stroke:#1f77b4;\" x=\"79.708503\" xlink:href=\"#m1372324b23\" y=\"212.90857\"/>\n     <use style=\"fill:#1f77b4;stroke:#1f77b4;\" x=\"77.967272\" xlink:href=\"#m1372324b23\" y=\"213.082736\"/>\n     <use style=\"fill:#1f77b4;stroke:#1f77b4;\" x=\"78.595955\" xlink:href=\"#m1372324b23\" y=\"212.748923\"/>\n     <use style=\"fill:#1f77b4;stroke:#1f77b4;\" x=\"78.567895\" xlink:href=\"#m1372324b23\" y=\"212.754697\"/>\n     <use style=\"fill:#1f77b4;stroke:#1f77b4;\" x=\"77.897333\" xlink:href=\"#m1372324b23\" y=\"212.924843\"/>\n     <use style=\"fill:#1f77b4;stroke:#1f77b4;\" x=\"78.794775\" xlink:href=\"#m1372324b23\" y=\"212.533128\"/>\n     <use style=\"fill:#1f77b4;stroke:#1f77b4;\" x=\"79.028539\" xlink:href=\"#m1372324b23\" y=\"212.638984\"/>\n     <use style=\"fill:#1f77b4;stroke:#1f77b4;\" x=\"79.263994\" xlink:href=\"#m1372324b23\" y=\"212.498078\"/>\n     <use style=\"fill:#1f77b4;stroke:#1f77b4;\" x=\"78.634498\" xlink:href=\"#m1372324b23\" y=\"212.728505\"/>\n     <use style=\"fill:#1f77b4;stroke:#1f77b4;\" x=\"78.378759\" xlink:href=\"#m1372324b23\" y=\"212.653845\"/>\n     <use style=\"fill:#1f77b4;stroke:#1f77b4;\" x=\"78.121193\" xlink:href=\"#m1372324b23\" y=\"212.680332\"/>\n     <use style=\"fill:#1f77b4;stroke:#1f77b4;\" x=\"77.348363\" xlink:href=\"#m1372324b23\" y=\"212.817989\"/>\n     <use style=\"fill:#1f77b4;stroke:#1f77b4;\" x=\"78.566513\" xlink:href=\"#m1372324b23\" y=\"212.478183\"/>\n     <use style=\"fill:#1f77b4;stroke:#1f77b4;\" x=\"78.486839\" xlink:href=\"#m1372324b23\" y=\"212.443262\"/>\n     <use style=\"fill:#1f77b4;stroke:#1f77b4;\" x=\"80.223016\" xlink:href=\"#m1372324b23\" y=\"211.971982\"/>\n     <use style=\"fill:#1f77b4;stroke:#1f77b4;\" x=\"80.179173\" xlink:href=\"#m1372324b23\" y=\"212.040284\"/>\n     <use style=\"fill:#1f77b4;stroke:#1f77b4;\" x=\"78.926724\" xlink:href=\"#m1372324b23\" y=\"212.420344\"/>\n     <use style=\"fill:#1f77b4;stroke:#1f77b4;\" x=\"78.996741\" xlink:href=\"#m1372324b23\" y=\"212.493222\"/>\n     <use style=\"fill:#1f77b4;stroke:#1f77b4;\" x=\"78.923171\" xlink:href=\"#m1372324b23\" y=\"212.441021\"/>\n     <use style=\"fill:#1f77b4;stroke:#1f77b4;\" x=\"79.177149\" xlink:href=\"#m1372324b23\" y=\"212.236743\"/>\n     <use style=\"fill:#1f77b4;stroke:#1f77b4;\" x=\"78.376061\" xlink:href=\"#m1372324b23\" y=\"212.468996\"/>\n     <use style=\"fill:#1f77b4;stroke:#1f77b4;\" x=\"77.629265\" xlink:href=\"#m1372324b23\" y=\"212.694464\"/>\n     <use style=\"fill:#1f77b4;stroke:#1f77b4;\" x=\"77.896035\" xlink:href=\"#m1372324b23\" y=\"212.610222\"/>\n     <use style=\"fill:#1f77b4;stroke:#1f77b4;\" x=\"77.277639\" xlink:href=\"#m1372324b23\" y=\"212.794483\"/>\n     <use style=\"fill:#1f77b4;stroke:#1f77b4;\" x=\"77.350278\" xlink:href=\"#m1372324b23\" y=\"212.824098\"/>\n     <use style=\"fill:#1f77b4;stroke:#1f77b4;\" x=\"78.455116\" xlink:href=\"#m1372324b23\" y=\"212.714497\"/>\n     <use style=\"fill:#1f77b4;stroke:#1f77b4;\" x=\"78.557513\" xlink:href=\"#m1372324b23\" y=\"212.740143\"/>\n     <use style=\"fill:#1f77b4;stroke:#1f77b4;\" x=\"77.774403\" xlink:href=\"#m1372324b23\" y=\"212.849693\"/>\n     <use style=\"fill:#1f77b4;stroke:#1f77b4;\" x=\"75.108178\" xlink:href=\"#m1372324b23\" y=\"213.263541\"/>\n     <use style=\"fill:#1f77b4;stroke:#1f77b4;\" x=\"75.007955\" xlink:href=\"#m1372324b23\" y=\"213.273334\"/>\n     <use style=\"fill:#1f77b4;stroke:#1f77b4;\" x=\"80.53036\" xlink:href=\"#m1372324b23\" y=\"212.464098\"/>\n     <use style=\"fill:#1f77b4;stroke:#1f77b4;\" x=\"83.294718\" xlink:href=\"#m1372324b23\" y=\"212.534664\"/>\n     <use style=\"fill:#1f77b4;stroke:#1f77b4;\" x=\"84.746001\" xlink:href=\"#m1372324b23\" y=\"212.350414\"/>\n     <use style=\"fill:#1f77b4;stroke:#1f77b4;\" x=\"83.347593\" xlink:href=\"#m1372324b23\" y=\"212.416451\"/>\n     <use style=\"fill:#1f77b4;stroke:#1f77b4;\" x=\"84.159193\" xlink:href=\"#m1372324b23\" y=\"212.095353\"/>\n     <use style=\"fill:#1f77b4;stroke:#1f77b4;\" x=\"83.109033\" xlink:href=\"#m1372324b23\" y=\"212.331601\"/>\n     <use style=\"fill:#1f77b4;stroke:#1f77b4;\" x=\"83.079976\" xlink:href=\"#m1372324b23\" y=\"212.361925\"/>\n     <use style=\"fill:#1f77b4;stroke:#1f77b4;\" x=\"83.371042\" xlink:href=\"#m1372324b23\" y=\"212.3618\"/>\n     <use style=\"fill:#1f77b4;stroke:#1f77b4;\" x=\"83.672014\" xlink:href=\"#m1372324b23\" y=\"212.363647\"/>\n     <use style=\"fill:#1f77b4;stroke:#1f77b4;\" x=\"83.249211\" xlink:href=\"#m1372324b23\" y=\"212.426393\"/>\n     <use style=\"fill:#1f77b4;stroke:#1f77b4;\" x=\"84.087868\" xlink:href=\"#m1372324b23\" y=\"212.262069\"/>\n     <use style=\"fill:#1f77b4;stroke:#1f77b4;\" x=\"83.756276\" xlink:href=\"#m1372324b23\" y=\"212.138769\"/>\n     <use style=\"fill:#1f77b4;stroke:#1f77b4;\" x=\"83.843107\" xlink:href=\"#m1372324b23\" y=\"212.043036\"/>\n     <use style=\"fill:#1f77b4;stroke:#1f77b4;\" x=\"83.401592\" xlink:href=\"#m1372324b23\" y=\"212.194278\"/>\n     <use style=\"fill:#1f77b4;stroke:#1f77b4;\" x=\"81.212519\" xlink:href=\"#m1372324b23\" y=\"212.3517\"/>\n     <use style=\"fill:#1f77b4;stroke:#1f77b4;\" x=\"81.253687\" xlink:href=\"#m1372324b23\" y=\"212.31753\"/>\n     <use style=\"fill:#1f77b4;stroke:#1f77b4;\" x=\"82.398394\" xlink:href=\"#m1372324b23\" y=\"212.131531\"/>\n     <use style=\"fill:#1f77b4;stroke:#1f77b4;\" x=\"80.98971\" xlink:href=\"#m1372324b23\" y=\"212.298258\"/>\n     <use style=\"fill:#1f77b4;stroke:#1f77b4;\" x=\"81.263529\" xlink:href=\"#m1372324b23\" y=\"212.241656\"/>\n     <use style=\"fill:#1f77b4;stroke:#1f77b4;\" x=\"81.22852\" xlink:href=\"#m1372324b23\" y=\"212.18248\"/>\n     <use style=\"fill:#1f77b4;stroke:#1f77b4;\" x=\"80.754597\" xlink:href=\"#m1372324b23\" y=\"212.276935\"/>\n     <use style=\"fill:#1f77b4;stroke:#1f77b4;\" x=\"79.732155\" xlink:href=\"#m1372324b23\" y=\"212.505994\"/>\n     <use style=\"fill:#1f77b4;stroke:#1f77b4;\" x=\"80.010206\" xlink:href=\"#m1372324b23\" y=\"212.387787\"/>\n     <use style=\"fill:#1f77b4;stroke:#1f77b4;\" x=\"80.138967\" xlink:href=\"#m1372324b23\" y=\"212.313745\"/>\n     <use style=\"fill:#1f77b4;stroke:#1f77b4;\" x=\"78.867721\" xlink:href=\"#m1372324b23\" y=\"212.504388\"/>\n     <use style=\"fill:#1f77b4;stroke:#1f77b4;\" x=\"78.379734\" xlink:href=\"#m1372324b23\" y=\"212.634171\"/>\n     <use style=\"fill:#1f77b4;stroke:#1f77b4;\" x=\"77.533415\" xlink:href=\"#m1372324b23\" y=\"212.707641\"/>\n     <use style=\"fill:#1f77b4;stroke:#1f77b4;\" x=\"75.714152\" xlink:href=\"#m1372324b23\" y=\"213.302845\"/>\n     <use style=\"fill:#1f77b4;stroke:#1f77b4;\" x=\"74.076313\" xlink:href=\"#m1372324b23\" y=\"213.7709\"/>\n     <use style=\"fill:#1f77b4;stroke:#1f77b4;\" x=\"74.555209\" xlink:href=\"#m1372324b23\" y=\"213.639212\"/>\n     <use style=\"fill:#1f77b4;stroke:#1f77b4;\" x=\"72.899829\" xlink:href=\"#m1372324b23\" y=\"214.0817\"/>\n     <use style=\"fill:#1f77b4;stroke:#1f77b4;\" x=\"73.364521\" xlink:href=\"#m1372324b23\" y=\"213.929432\"/>\n     <use style=\"fill:#1f77b4;stroke:#1f77b4;\" x=\"73.706296\" xlink:href=\"#m1372324b23\" y=\"213.825384\"/>\n     <use style=\"fill:#1f77b4;stroke:#1f77b4;\" x=\"75.18857\" xlink:href=\"#m1372324b23\" y=\"213.656238\"/>\n     <use style=\"fill:#1f77b4;stroke:#1f77b4;\" x=\"74.864205\" xlink:href=\"#m1372324b23\" y=\"213.710299\"/>\n     <use style=\"fill:#1f77b4;stroke:#1f77b4;\" x=\"76.274778\" xlink:href=\"#m1372324b23\" y=\"213.560341\"/>\n     <use style=\"fill:#1f77b4;stroke:#1f77b4;\" x=\"75.3682\" xlink:href=\"#m1372324b23\" y=\"213.675926\"/>\n     <use style=\"fill:#1f77b4;stroke:#1f77b4;\" x=\"74.680568\" xlink:href=\"#m1372324b23\" y=\"213.732536\"/>\n     <use style=\"fill:#1f77b4;stroke:#1f77b4;\" x=\"74.196538\" xlink:href=\"#m1372324b23\" y=\"213.82145\"/>\n     <use style=\"fill:#1f77b4;stroke:#1f77b4;\" x=\"74.187819\" xlink:href=\"#m1372324b23\" y=\"213.867556\"/>\n     <use style=\"fill:#1f77b4;stroke:#1f77b4;\" x=\"73.865567\" xlink:href=\"#m1372324b23\" y=\"213.918092\"/>\n     <use style=\"fill:#1f77b4;stroke:#1f77b4;\" x=\"74.79419\" xlink:href=\"#m1372324b23\" y=\"213.813513\"/>\n     <use style=\"fill:#1f77b4;stroke:#1f77b4;\" x=\"75.261115\" xlink:href=\"#m1372324b23\" y=\"213.815793\"/>\n     <use style=\"fill:#1f77b4;stroke:#1f77b4;\" x=\"75.304838\" xlink:href=\"#m1372324b23\" y=\"213.833617\"/>\n     <use style=\"fill:#1f77b4;stroke:#1f77b4;\" x=\"75.343196\" xlink:href=\"#m1372324b23\" y=\"213.729233\"/>\n     <use style=\"fill:#1f77b4;stroke:#1f77b4;\" x=\"74.569888\" xlink:href=\"#m1372324b23\" y=\"213.856319\"/>\n     <use style=\"fill:#1f77b4;stroke:#1f77b4;\" x=\"73.988983\" xlink:href=\"#m1372324b23\" y=\"213.938191\"/>\n     <use style=\"fill:#1f77b4;stroke:#1f77b4;\" x=\"73.70183\" xlink:href=\"#m1372324b23\" y=\"214.049368\"/>\n     <use style=\"fill:#1f77b4;stroke:#1f77b4;\" x=\"73.823457\" xlink:href=\"#m1372324b23\" y=\"213.965913\"/>\n     <use style=\"fill:#1f77b4;stroke:#1f77b4;\" x=\"73.949074\" xlink:href=\"#m1372324b23\" y=\"213.993477\"/>\n     <use style=\"fill:#1f77b4;stroke:#1f77b4;\" x=\"73.262987\" xlink:href=\"#m1372324b23\" y=\"214.080256\"/>\n     <use style=\"fill:#1f77b4;stroke:#1f77b4;\" x=\"73.393703\" xlink:href=\"#m1372324b23\" y=\"214.069981\"/>\n     <use style=\"fill:#1f77b4;stroke:#1f77b4;\" x=\"72.353667\" xlink:href=\"#m1372324b23\" y=\"214.467225\"/>\n     <use style=\"fill:#1f77b4;stroke:#1f77b4;\" x=\"70.972297\" xlink:href=\"#m1372324b23\" y=\"214.927569\"/>\n     <use style=\"fill:#1f77b4;stroke:#1f77b4;\" x=\"73.982752\" xlink:href=\"#m1372324b23\" y=\"214.489043\"/>\n     <use style=\"fill:#1f77b4;stroke:#1f77b4;\" x=\"73.632834\" xlink:href=\"#m1372324b23\" y=\"214.646714\"/>\n     <use style=\"fill:#1f77b4;stroke:#1f77b4;\" x=\"73.708402\" xlink:href=\"#m1372324b23\" y=\"214.65738\"/>\n     <use style=\"fill:#1f77b4;stroke:#1f77b4;\" x=\"73.577546\" xlink:href=\"#m1372324b23\" y=\"214.696477\"/>\n     <use style=\"fill:#1f77b4;stroke:#1f77b4;\" x=\"75.093591\" xlink:href=\"#m1372324b23\" y=\"214.519134\"/>\n     <use style=\"fill:#1f77b4;stroke:#1f77b4;\" x=\"74.355699\" xlink:href=\"#m1372324b23\" y=\"214.676277\"/>\n     <use style=\"fill:#1f77b4;stroke:#1f77b4;\" x=\"74.199111\" xlink:href=\"#m1372324b23\" y=\"214.65747\"/>\n     <use style=\"fill:#1f77b4;stroke:#1f77b4;\" x=\"73.97496\" xlink:href=\"#m1372324b23\" y=\"214.766565\"/>\n     <use style=\"fill:#1f77b4;stroke:#1f77b4;\" x=\"73.80374\" xlink:href=\"#m1372324b23\" y=\"214.770471\"/>\n     <use style=\"fill:#1f77b4;stroke:#1f77b4;\" x=\"74.04561\" xlink:href=\"#m1372324b23\" y=\"214.73479\"/>\n     <use style=\"fill:#1f77b4;stroke:#1f77b4;\" x=\"74.177622\" xlink:href=\"#m1372324b23\" y=\"214.68846\"/>\n     <use style=\"fill:#1f77b4;stroke:#1f77b4;\" x=\"74.67281\" xlink:href=\"#m1372324b23\" y=\"214.419395\"/>\n     <use style=\"fill:#1f77b4;stroke:#1f77b4;\" x=\"74.059363\" xlink:href=\"#m1372324b23\" y=\"214.508222\"/>\n     <use style=\"fill:#1f77b4;stroke:#1f77b4;\" x=\"73.589092\" xlink:href=\"#m1372324b23\" y=\"214.634601\"/>\n     <use style=\"fill:#1f77b4;stroke:#1f77b4;\" x=\"73.620201\" xlink:href=\"#m1372324b23\" y=\"214.584798\"/>\n     <use style=\"fill:#1f77b4;stroke:#1f77b4;\" x=\"72.604376\" xlink:href=\"#m1372324b23\" y=\"214.726613\"/>\n     <use style=\"fill:#1f77b4;stroke:#1f77b4;\" x=\"74.304865\" xlink:href=\"#m1372324b23\" y=\"214.443908\"/>\n     <use style=\"fill:#1f77b4;stroke:#1f77b4;\" x=\"74.616053\" xlink:href=\"#m1372324b23\" y=\"214.406376\"/>\n     <use style=\"fill:#1f77b4;stroke:#1f77b4;\" x=\"74.619179\" xlink:href=\"#m1372324b23\" y=\"214.355893\"/>\n     <use style=\"fill:#1f77b4;stroke:#1f77b4;\" x=\"76.312513\" xlink:href=\"#m1372324b23\" y=\"214.020261\"/>\n     <use style=\"fill:#1f77b4;stroke:#1f77b4;\" x=\"78.178876\" xlink:href=\"#m1372324b23\" y=\"214.052044\"/>\n     <use style=\"fill:#1f77b4;stroke:#1f77b4;\" x=\"77.782255\" xlink:href=\"#m1372324b23\" y=\"214.147618\"/>\n     <use style=\"fill:#1f77b4;stroke:#1f77b4;\" x=\"76.832254\" xlink:href=\"#m1372324b23\" y=\"214.242902\"/>\n     <use style=\"fill:#1f77b4;stroke:#1f77b4;\" x=\"78.192416\" xlink:href=\"#m1372324b23\" y=\"214.034492\"/>\n     <use style=\"fill:#1f77b4;stroke:#1f77b4;\" x=\"77.582003\" xlink:href=\"#m1372324b23\" y=\"214.077836\"/>\n     <use style=\"fill:#1f77b4;stroke:#1f77b4;\" x=\"78.315146\" xlink:href=\"#m1372324b23\" y=\"213.954627\"/>\n     <use style=\"fill:#1f77b4;stroke:#1f77b4;\" x=\"78.086626\" xlink:href=\"#m1372324b23\" y=\"214.023504\"/>\n     <use style=\"fill:#1f77b4;stroke:#1f77b4;\" x=\"81.320789\" xlink:href=\"#m1372324b23\" y=\"213.115005\"/>\n     <use style=\"fill:#1f77b4;stroke:#1f77b4;\" x=\"81.222597\" xlink:href=\"#m1372324b23\" y=\"213.103493\"/>\n     <use style=\"fill:#1f77b4;stroke:#1f77b4;\" x=\"80.828837\" xlink:href=\"#m1372324b23\" y=\"213.180411\"/>\n     <use style=\"fill:#1f77b4;stroke:#1f77b4;\" x=\"81.799942\" xlink:href=\"#m1372324b23\" y=\"212.913284\"/>\n     <use style=\"fill:#1f77b4;stroke:#1f77b4;\" x=\"81.865094\" xlink:href=\"#m1372324b23\" y=\"212.72155\"/>\n     <use style=\"fill:#1f77b4;stroke:#1f77b4;\" x=\"80.745846\" xlink:href=\"#m1372324b23\" y=\"213.072588\"/>\n     <use style=\"fill:#1f77b4;stroke:#1f77b4;\" x=\"80.515894\" xlink:href=\"#m1372324b23\" y=\"213.066288\"/>\n     <use style=\"fill:#1f77b4;stroke:#1f77b4;\" x=\"80.933439\" xlink:href=\"#m1372324b23\" y=\"212.958556\"/>\n     <use style=\"fill:#1f77b4;stroke:#1f77b4;\" x=\"80.625817\" xlink:href=\"#m1372324b23\" y=\"213.017217\"/>\n     <use style=\"fill:#1f77b4;stroke:#1f77b4;\" x=\"79.327741\" xlink:href=\"#m1372324b23\" y=\"213.241558\"/>\n     <use style=\"fill:#1f77b4;stroke:#1f77b4;\" x=\"79.511878\" xlink:href=\"#m1372324b23\" y=\"213.236431\"/>\n     <use style=\"fill:#1f77b4;stroke:#1f77b4;\" x=\"79.144792\" xlink:href=\"#m1372324b23\" y=\"213.310321\"/>\n     <use style=\"fill:#1f77b4;stroke:#1f77b4;\" x=\"80.228173\" xlink:href=\"#m1372324b23\" y=\"213.026292\"/>\n     <use style=\"fill:#1f77b4;stroke:#1f77b4;\" x=\"81.709013\" xlink:href=\"#m1372324b23\" y=\"212.906973\"/>\n     <use style=\"fill:#1f77b4;stroke:#1f77b4;\" x=\"83.832272\" xlink:href=\"#m1372324b23\" y=\"212.679546\"/>\n     <use style=\"fill:#1f77b4;stroke:#1f77b4;\" x=\"83.633748\" xlink:href=\"#m1372324b23\" y=\"212.734735\"/>\n     <use style=\"fill:#1f77b4;stroke:#1f77b4;\" x=\"84.543873\" xlink:href=\"#m1372324b23\" y=\"212.331672\"/>\n     <use style=\"fill:#1f77b4;stroke:#1f77b4;\" x=\"83.794136\" xlink:href=\"#m1372324b23\" y=\"212.521088\"/>\n     <use style=\"fill:#1f77b4;stroke:#1f77b4;\" x=\"83.994485\" xlink:href=\"#m1372324b23\" y=\"212.374174\"/>\n     <use style=\"fill:#1f77b4;stroke:#1f77b4;\" x=\"83.764972\" xlink:href=\"#m1372324b23\" y=\"212.167478\"/>\n     <use style=\"fill:#1f77b4;stroke:#1f77b4;\" x=\"83.524416\" xlink:href=\"#m1372324b23\" y=\"212.115318\"/>\n     <use style=\"fill:#1f77b4;stroke:#1f77b4;\" x=\"82.991869\" xlink:href=\"#m1372324b23\" y=\"212.141009\"/>\n     <use style=\"fill:#1f77b4;stroke:#1f77b4;\" x=\"85.037964\" xlink:href=\"#m1372324b23\" y=\"211.514697\"/>\n     <use style=\"fill:#1f77b4;stroke:#1f77b4;\" x=\"85.58858\" xlink:href=\"#m1372324b23\" y=\"211.175659\"/>\n     <use style=\"fill:#1f77b4;stroke:#1f77b4;\" x=\"85.901515\" xlink:href=\"#m1372324b23\" y=\"210.74137\"/>\n     <use style=\"fill:#1f77b4;stroke:#1f77b4;\" x=\"86.228805\" xlink:href=\"#m1372324b23\" y=\"210.72379\"/>\n     <use style=\"fill:#1f77b4;stroke:#1f77b4;\" x=\"87.418981\" xlink:href=\"#m1372324b23\" y=\"210.496671\"/>\n     <use style=\"fill:#1f77b4;stroke:#1f77b4;\" x=\"86.188552\" xlink:href=\"#m1372324b23\" y=\"210.708061\"/>\n     <use style=\"fill:#1f77b4;stroke:#1f77b4;\" x=\"87.852189\" xlink:href=\"#m1372324b23\" y=\"210.192596\"/>\n     <use style=\"fill:#1f77b4;stroke:#1f77b4;\" x=\"88.409621\" xlink:href=\"#m1372324b23\" y=\"208.956878\"/>\n     <use style=\"fill:#1f77b4;stroke:#1f77b4;\" x=\"87.881256\" xlink:href=\"#m1372324b23\" y=\"208.844276\"/>\n     <use style=\"fill:#1f77b4;stroke:#1f77b4;\" x=\"88.343674\" xlink:href=\"#m1372324b23\" y=\"208.170357\"/>\n     <use style=\"fill:#1f77b4;stroke:#1f77b4;\" x=\"86.343802\" xlink:href=\"#m1372324b23\" y=\"208.985207\"/>\n     <use style=\"fill:#1f77b4;stroke:#1f77b4;\" x=\"86.556751\" xlink:href=\"#m1372324b23\" y=\"209.187315\"/>\n     <use style=\"fill:#1f77b4;stroke:#1f77b4;\" x=\"85.400942\" xlink:href=\"#m1372324b23\" y=\"208.916852\"/>\n     <use style=\"fill:#1f77b4;stroke:#1f77b4;\" x=\"87.538788\" xlink:href=\"#m1372324b23\" y=\"208.26539\"/>\n     <use style=\"fill:#1f77b4;stroke:#1f77b4;\" x=\"85.132414\" xlink:href=\"#m1372324b23\" y=\"209.192781\"/>\n     <use style=\"fill:#1f77b4;stroke:#1f77b4;\" x=\"85.014552\" xlink:href=\"#m1372324b23\" y=\"209.268647\"/>\n     <use style=\"fill:#1f77b4;stroke:#1f77b4;\" x=\"85.38343\" xlink:href=\"#m1372324b23\" y=\"208.948746\"/>\n     <use style=\"fill:#1f77b4;stroke:#1f77b4;\" x=\"85.273382\" xlink:href=\"#m1372324b23\" y=\"209.085421\"/>\n     <use style=\"fill:#1f77b4;stroke:#1f77b4;\" x=\"86.509826\" xlink:href=\"#m1372324b23\" y=\"208.607839\"/>\n     <use style=\"fill:#1f77b4;stroke:#1f77b4;\" x=\"85.211843\" xlink:href=\"#m1372324b23\" y=\"208.964809\"/>\n     <use style=\"fill:#1f77b4;stroke:#1f77b4;\" x=\"83.752386\" xlink:href=\"#m1372324b23\" y=\"209.69227\"/>\n     <use style=\"fill:#1f77b4;stroke:#1f77b4;\" x=\"81.286524\" xlink:href=\"#m1372324b23\" y=\"210.617852\"/>\n     <use style=\"fill:#1f77b4;stroke:#1f77b4;\" x=\"81.116064\" xlink:href=\"#m1372324b23\" y=\"210.572984\"/>\n     <use style=\"fill:#1f77b4;stroke:#1f77b4;\" x=\"80.585976\" xlink:href=\"#m1372324b23\" y=\"210.572686\"/>\n     <use style=\"fill:#1f77b4;stroke:#1f77b4;\" x=\"80.240846\" xlink:href=\"#m1372324b23\" y=\"210.861683\"/>\n     <use style=\"fill:#1f77b4;stroke:#1f77b4;\" x=\"80.06553\" xlink:href=\"#m1372324b23\" y=\"210.898389\"/>\n     <use style=\"fill:#1f77b4;stroke:#1f77b4;\" x=\"81.519055\" xlink:href=\"#m1372324b23\" y=\"210.413417\"/>\n     <use style=\"fill:#1f77b4;stroke:#1f77b4;\" x=\"81.131639\" xlink:href=\"#m1372324b23\" y=\"210.668052\"/>\n     <use style=\"fill:#1f77b4;stroke:#1f77b4;\" x=\"80.977683\" xlink:href=\"#m1372324b23\" y=\"210.666448\"/>\n     <use style=\"fill:#1f77b4;stroke:#1f77b4;\" x=\"82.508331\" xlink:href=\"#m1372324b23\" y=\"210.467838\"/>\n     <use style=\"fill:#1f77b4;stroke:#1f77b4;\" x=\"82.715482\" xlink:href=\"#m1372324b23\" y=\"209.871735\"/>\n     <use style=\"fill:#1f77b4;stroke:#1f77b4;\" x=\"81.709651\" xlink:href=\"#m1372324b23\" y=\"210.108895\"/>\n     <use style=\"fill:#1f77b4;stroke:#1f77b4;\" x=\"77.91593\" xlink:href=\"#m1372324b23\" y=\"211.662757\"/>\n     <use style=\"fill:#1f77b4;stroke:#1f77b4;\" x=\"77.043143\" xlink:href=\"#m1372324b23\" y=\"211.608517\"/>\n     <use style=\"fill:#1f77b4;stroke:#1f77b4;\" x=\"76.977307\" xlink:href=\"#m1372324b23\" y=\"211.659488\"/>\n     <use style=\"fill:#1f77b4;stroke:#1f77b4;\" x=\"76.985353\" xlink:href=\"#m1372324b23\" y=\"211.906118\"/>\n     <use style=\"fill:#1f77b4;stroke:#1f77b4;\" x=\"63.072348\" xlink:href=\"#m1372324b23\" y=\"215.356413\"/>\n     <use style=\"fill:#1f77b4;stroke:#1f77b4;\" x=\"65.877615\" xlink:href=\"#m1372324b23\" y=\"214.48446\"/>\n     <use style=\"fill:#1f77b4;stroke:#1f77b4;\" x=\"64.158547\" xlink:href=\"#m1372324b23\" y=\"214.898212\"/>\n     <use style=\"fill:#1f77b4;stroke:#1f77b4;\" x=\"65.06671\" xlink:href=\"#m1372324b23\" y=\"214.818425\"/>\n     <use style=\"fill:#1f77b4;stroke:#1f77b4;\" x=\"63.279067\" xlink:href=\"#m1372324b23\" y=\"215.429216\"/>\n     <use style=\"fill:#1f77b4;stroke:#1f77b4;\" x=\"64.278074\" xlink:href=\"#m1372324b23\" y=\"215.289699\"/>\n     <use style=\"fill:#1f77b4;stroke:#1f77b4;\" x=\"64.338678\" xlink:href=\"#m1372324b23\" y=\"215.252089\"/>\n     <use style=\"fill:#1f77b4;stroke:#1f77b4;\" x=\"68.846427\" xlink:href=\"#m1372324b23\" y=\"214.342635\"/>\n     <use style=\"fill:#1f77b4;stroke:#1f77b4;\" x=\"68.882315\" xlink:href=\"#m1372324b23\" y=\"214.503887\"/>\n     <use style=\"fill:#1f77b4;stroke:#1f77b4;\" x=\"68.81744\" xlink:href=\"#m1372324b23\" y=\"214.500478\"/>\n     <use style=\"fill:#1f77b4;stroke:#1f77b4;\" x=\"67.138727\" xlink:href=\"#m1372324b23\" y=\"214.897579\"/>\n     <use style=\"fill:#1f77b4;stroke:#1f77b4;\" x=\"69.911542\" xlink:href=\"#m1372324b23\" y=\"214.412972\"/>\n     <use style=\"fill:#1f77b4;stroke:#1f77b4;\" x=\"71.418402\" xlink:href=\"#m1372324b23\" y=\"214.252007\"/>\n     <use style=\"fill:#1f77b4;stroke:#1f77b4;\" x=\"71.16414\" xlink:href=\"#m1372324b23\" y=\"214.359275\"/>\n     <use style=\"fill:#1f77b4;stroke:#1f77b4;\" x=\"71.33152\" xlink:href=\"#m1372324b23\" y=\"214.268726\"/>\n     <use style=\"fill:#1f77b4;stroke:#1f77b4;\" x=\"70.164587\" xlink:href=\"#m1372324b23\" y=\"214.453681\"/>\n     <use style=\"fill:#1f77b4;stroke:#1f77b4;\" x=\"69.087726\" xlink:href=\"#m1372324b23\" y=\"214.577084\"/>\n     <use style=\"fill:#1f77b4;stroke:#1f77b4;\" x=\"67.573003\" xlink:href=\"#m1372324b23\" y=\"214.802979\"/>\n     <use style=\"fill:#1f77b4;stroke:#1f77b4;\" x=\"69.975542\" xlink:href=\"#m1372324b23\" y=\"214.496889\"/>\n     <use style=\"fill:#1f77b4;stroke:#1f77b4;\" x=\"70.01719\" xlink:href=\"#m1372324b23\" y=\"214.46808\"/>\n     <use style=\"fill:#1f77b4;stroke:#1f77b4;\" x=\"70.812669\" xlink:href=\"#m1372324b23\" y=\"214.382745\"/>\n     <use style=\"fill:#1f77b4;stroke:#1f77b4;\" x=\"71.6967\" xlink:href=\"#m1372324b23\" y=\"214.115381\"/>\n     <use style=\"fill:#1f77b4;stroke:#1f77b4;\" x=\"71.4117\" xlink:href=\"#m1372324b23\" y=\"214.112782\"/>\n     <use style=\"fill:#1f77b4;stroke:#1f77b4;\" x=\"72.046355\" xlink:href=\"#m1372324b23\" y=\"213.981994\"/>\n     <use style=\"fill:#1f77b4;stroke:#1f77b4;\" x=\"71.684895\" xlink:href=\"#m1372324b23\" y=\"214.051933\"/>\n     <use style=\"fill:#1f77b4;stroke:#1f77b4;\" x=\"73.958994\" xlink:href=\"#m1372324b23\" y=\"212.982024\"/>\n     <use style=\"fill:#1f77b4;stroke:#1f77b4;\" x=\"73.507787\" xlink:href=\"#m1372324b23\" y=\"213.150686\"/>\n     <use style=\"fill:#1f77b4;stroke:#1f77b4;\" x=\"74.253835\" xlink:href=\"#m1372324b23\" y=\"212.835441\"/>\n     <use style=\"fill:#1f77b4;stroke:#1f77b4;\" x=\"74.10239\" xlink:href=\"#m1372324b23\" y=\"212.912147\"/>\n     <use style=\"fill:#1f77b4;stroke:#1f77b4;\" x=\"72.036731\" xlink:href=\"#m1372324b23\" y=\"213.43038\"/>\n     <use style=\"fill:#1f77b4;stroke:#1f77b4;\" x=\"72.006403\" xlink:href=\"#m1372324b23\" y=\"213.438593\"/>\n     <use style=\"fill:#1f77b4;stroke:#1f77b4;\" x=\"72.536348\" xlink:href=\"#m1372324b23\" y=\"213.316237\"/>\n     <use style=\"fill:#1f77b4;stroke:#1f77b4;\" x=\"71.93995\" xlink:href=\"#m1372324b23\" y=\"213.519558\"/>\n     <use style=\"fill:#1f77b4;stroke:#1f77b4;\" x=\"71.927602\" xlink:href=\"#m1372324b23\" y=\"213.4645\"/>\n     <use style=\"fill:#1f77b4;stroke:#1f77b4;\" x=\"70.979842\" xlink:href=\"#m1372324b23\" y=\"213.644684\"/>\n     <use style=\"fill:#1f77b4;stroke:#1f77b4;\" x=\"73.225754\" xlink:href=\"#m1372324b23\" y=\"212.855692\"/>\n     <use style=\"fill:#1f77b4;stroke:#1f77b4;\" x=\"73.128197\" xlink:href=\"#m1372324b23\" y=\"212.877384\"/>\n     <use style=\"fill:#1f77b4;stroke:#1f77b4;\" x=\"73.892206\" xlink:href=\"#m1372324b23\" y=\"212.238704\"/>\n     <use style=\"fill:#1f77b4;stroke:#1f77b4;\" x=\"73.569343\" xlink:href=\"#m1372324b23\" y=\"212.460262\"/>\n     <use style=\"fill:#1f77b4;stroke:#1f77b4;\" x=\"72.114633\" xlink:href=\"#m1372324b23\" y=\"212.849848\"/>\n     <use style=\"fill:#1f77b4;stroke:#1f77b4;\" x=\"72.106896\" xlink:href=\"#m1372324b23\" y=\"212.831428\"/>\n     <use style=\"fill:#1f77b4;stroke:#1f77b4;\" x=\"73.227662\" xlink:href=\"#m1372324b23\" y=\"212.419094\"/>\n     <use style=\"fill:#1f77b4;stroke:#1f77b4;\" x=\"74.706268\" xlink:href=\"#m1372324b23\" y=\"212.317532\"/>\n     <use style=\"fill:#1f77b4;stroke:#1f77b4;\" x=\"75.279587\" xlink:href=\"#m1372324b23\" y=\"212.14158\"/>\n     <use style=\"fill:#1f77b4;stroke:#1f77b4;\" x=\"75.369648\" xlink:href=\"#m1372324b23\" y=\"211.879076\"/>\n     <use style=\"fill:#1f77b4;stroke:#1f77b4;\" x=\"75.889763\" xlink:href=\"#m1372324b23\" y=\"211.803723\"/>\n     <use style=\"fill:#1f77b4;stroke:#1f77b4;\" x=\"76.437333\" xlink:href=\"#m1372324b23\" y=\"211.807604\"/>\n     <use style=\"fill:#1f77b4;stroke:#1f77b4;\" x=\"76.491542\" xlink:href=\"#m1372324b23\" y=\"211.757821\"/>\n     <use style=\"fill:#1f77b4;stroke:#1f77b4;\" x=\"81.194338\" xlink:href=\"#m1372324b23\" y=\"210.98211\"/>\n     <use style=\"fill:#1f77b4;stroke:#1f77b4;\" x=\"80.520205\" xlink:href=\"#m1372324b23\" y=\"211.373718\"/>\n     <use style=\"fill:#1f77b4;stroke:#1f77b4;\" x=\"81.495856\" xlink:href=\"#m1372324b23\" y=\"211.097054\"/>\n     <use style=\"fill:#1f77b4;stroke:#1f77b4;\" x=\"82.081731\" xlink:href=\"#m1372324b23\" y=\"211.050799\"/>\n     <use style=\"fill:#1f77b4;stroke:#1f77b4;\" x=\"81.650579\" xlink:href=\"#m1372324b23\" y=\"211.234442\"/>\n     <use style=\"fill:#1f77b4;stroke:#1f77b4;\" x=\"81.722426\" xlink:href=\"#m1372324b23\" y=\"211.349804\"/>\n     <use style=\"fill:#1f77b4;stroke:#1f77b4;\" x=\"82.150209\" xlink:href=\"#m1372324b23\" y=\"211.408323\"/>\n     <use style=\"fill:#1f77b4;stroke:#1f77b4;\" x=\"83.40727\" xlink:href=\"#m1372324b23\" y=\"211.521991\"/>\n     <use style=\"fill:#1f77b4;stroke:#1f77b4;\" x=\"86.637585\" xlink:href=\"#m1372324b23\" y=\"211.177736\"/>\n     <use style=\"fill:#1f77b4;stroke:#1f77b4;\" x=\"86.122573\" xlink:href=\"#m1372324b23\" y=\"211.148377\"/>\n     <use style=\"fill:#1f77b4;stroke:#1f77b4;\" x=\"84.945574\" xlink:href=\"#m1372324b23\" y=\"211.206555\"/>\n     <use style=\"fill:#1f77b4;stroke:#1f77b4;\" x=\"80.983288\" xlink:href=\"#m1372324b23\" y=\"212.16823\"/>\n     <use style=\"fill:#1f77b4;stroke:#1f77b4;\" x=\"80.251667\" xlink:href=\"#m1372324b23\" y=\"212.280564\"/>\n     <use style=\"fill:#1f77b4;stroke:#1f77b4;\" x=\"81.210611\" xlink:href=\"#m1372324b23\" y=\"212.138421\"/>\n     <use style=\"fill:#1f77b4;stroke:#1f77b4;\" x=\"83.413069\" xlink:href=\"#m1372324b23\" y=\"211.725297\"/>\n     <use style=\"fill:#1f77b4;stroke:#1f77b4;\" x=\"85.607127\" xlink:href=\"#m1372324b23\" y=\"211.568263\"/>\n     <use style=\"fill:#1f77b4;stroke:#1f77b4;\" x=\"83.688477\" xlink:href=\"#m1372324b23\" y=\"211.874587\"/>\n     <use style=\"fill:#1f77b4;stroke:#1f77b4;\" x=\"83.919441\" xlink:href=\"#m1372324b23\" y=\"211.663256\"/>\n     <use style=\"fill:#1f77b4;stroke:#1f77b4;\" x=\"85.309139\" xlink:href=\"#m1372324b23\" y=\"211.392256\"/>\n     <use style=\"fill:#1f77b4;stroke:#1f77b4;\" x=\"85.573315\" xlink:href=\"#m1372324b23\" y=\"211.084261\"/>\n     <use style=\"fill:#1f77b4;stroke:#1f77b4;\" x=\"85.584967\" xlink:href=\"#m1372324b23\" y=\"211.129164\"/>\n     <use style=\"fill:#1f77b4;stroke:#1f77b4;\" x=\"84.610055\" xlink:href=\"#m1372324b23\" y=\"211.269413\"/>\n     <use style=\"fill:#1f77b4;stroke:#1f77b4;\" x=\"82.522521\" xlink:href=\"#m1372324b23\" y=\"211.696434\"/>\n     <use style=\"fill:#1f77b4;stroke:#1f77b4;\" x=\"82.999507\" xlink:href=\"#m1372324b23\" y=\"211.391817\"/>\n     <use style=\"fill:#1f77b4;stroke:#1f77b4;\" x=\"83.125879\" xlink:href=\"#m1372324b23\" y=\"211.328046\"/>\n     <use style=\"fill:#1f77b4;stroke:#1f77b4;\" x=\"81.143856\" xlink:href=\"#m1372324b23\" y=\"211.592461\"/>\n     <use style=\"fill:#1f77b4;stroke:#1f77b4;\" x=\"81.695364\" xlink:href=\"#m1372324b23\" y=\"211.469144\"/>\n     <use style=\"fill:#1f77b4;stroke:#1f77b4;\" x=\"81.355271\" xlink:href=\"#m1372324b23\" y=\"211.61203\"/>\n     <use style=\"fill:#1f77b4;stroke:#1f77b4;\" x=\"82.992128\" xlink:href=\"#m1372324b23\" y=\"211.320979\"/>\n     <use style=\"fill:#1f77b4;stroke:#1f77b4;\" x=\"84.623159\" xlink:href=\"#m1372324b23\" y=\"210.862021\"/>\n     <use style=\"fill:#1f77b4;stroke:#1f77b4;\" x=\"84.213302\" xlink:href=\"#m1372324b23\" y=\"210.827121\"/>\n     <use style=\"fill:#1f77b4;stroke:#1f77b4;\" x=\"85.449539\" xlink:href=\"#m1372324b23\" y=\"209.921059\"/>\n     <use style=\"fill:#1f77b4;stroke:#1f77b4;\" x=\"84.317081\" xlink:href=\"#m1372324b23\" y=\"210.396445\"/>\n     <use style=\"fill:#1f77b4;stroke:#1f77b4;\" x=\"87.658359\" xlink:href=\"#m1372324b23\" y=\"209.726799\"/>\n     <use style=\"fill:#1f77b4;stroke:#1f77b4;\" x=\"84.642333\" xlink:href=\"#m1372324b23\" y=\"210.135405\"/>\n     <use style=\"fill:#1f77b4;stroke:#1f77b4;\" x=\"85.242799\" xlink:href=\"#m1372324b23\" y=\"209.84439\"/>\n     <use style=\"fill:#1f77b4;stroke:#1f77b4;\" x=\"85.92372\" xlink:href=\"#m1372324b23\" y=\"209.834059\"/>\n     <use style=\"fill:#1f77b4;stroke:#1f77b4;\" x=\"85.284508\" xlink:href=\"#m1372324b23\" y=\"209.968038\"/>\n     <use style=\"fill:#1f77b4;stroke:#1f77b4;\" x=\"85.228425\" xlink:href=\"#m1372324b23\" y=\"209.938381\"/>\n     <use style=\"fill:#1f77b4;stroke:#1f77b4;\" x=\"85.726028\" xlink:href=\"#m1372324b23\" y=\"209.803083\"/>\n     <use style=\"fill:#1f77b4;stroke:#1f77b4;\" x=\"85.785816\" xlink:href=\"#m1372324b23\" y=\"209.755308\"/>\n     <use style=\"fill:#1f77b4;stroke:#1f77b4;\" x=\"85.900364\" xlink:href=\"#m1372324b23\" y=\"209.813778\"/>\n     <use style=\"fill:#1f77b4;stroke:#1f77b4;\" x=\"86.252346\" xlink:href=\"#m1372324b23\" y=\"209.707851\"/>\n     <use style=\"fill:#1f77b4;stroke:#1f77b4;\" x=\"83.658121\" xlink:href=\"#m1372324b23\" y=\"210.36605\"/>\n     <use style=\"fill:#1f77b4;stroke:#1f77b4;\" x=\"84.41069\" xlink:href=\"#m1372324b23\" y=\"210.123942\"/>\n     <use style=\"fill:#1f77b4;stroke:#1f77b4;\" x=\"84.384354\" xlink:href=\"#m1372324b23\" y=\"210.064753\"/>\n     <use style=\"fill:#1f77b4;stroke:#1f77b4;\" x=\"83.965686\" xlink:href=\"#m1372324b23\" y=\"210.265201\"/>\n     <use style=\"fill:#1f77b4;stroke:#1f77b4;\" x=\"84.268082\" xlink:href=\"#m1372324b23\" y=\"210.440212\"/>\n     <use style=\"fill:#1f77b4;stroke:#1f77b4;\" x=\"84.681228\" xlink:href=\"#m1372324b23\" y=\"210.252596\"/>\n     <use style=\"fill:#1f77b4;stroke:#1f77b4;\" x=\"84.407904\" xlink:href=\"#m1372324b23\" y=\"210.310625\"/>\n     <use style=\"fill:#1f77b4;stroke:#1f77b4;\" x=\"84.084218\" xlink:href=\"#m1372324b23\" y=\"210.349388\"/>\n     <use style=\"fill:#1f77b4;stroke:#1f77b4;\" x=\"83.49838\" xlink:href=\"#m1372324b23\" y=\"210.556891\"/>\n     <use style=\"fill:#1f77b4;stroke:#1f77b4;\" x=\"83.708081\" xlink:href=\"#m1372324b23\" y=\"210.467584\"/>\n     <use style=\"fill:#1f77b4;stroke:#1f77b4;\" x=\"83.572241\" xlink:href=\"#m1372324b23\" y=\"210.479476\"/>\n     <use style=\"fill:#1f77b4;stroke:#1f77b4;\" x=\"85.204949\" xlink:href=\"#m1372324b23\" y=\"209.913216\"/>\n     <use style=\"fill:#1f77b4;stroke:#1f77b4;\" x=\"85.114773\" xlink:href=\"#m1372324b23\" y=\"209.845944\"/>\n     <use style=\"fill:#1f77b4;stroke:#1f77b4;\" x=\"83.619462\" xlink:href=\"#m1372324b23\" y=\"210.195888\"/>\n     <use style=\"fill:#1f77b4;stroke:#1f77b4;\" x=\"83.38859\" xlink:href=\"#m1372324b23\" y=\"210.314128\"/>\n     <use style=\"fill:#1f77b4;stroke:#1f77b4;\" x=\"82.906494\" xlink:href=\"#m1372324b23\" y=\"210.451119\"/>\n     <use style=\"fill:#1f77b4;stroke:#1f77b4;\" x=\"82.350439\" xlink:href=\"#m1372324b23\" y=\"210.731597\"/>\n     <use style=\"fill:#1f77b4;stroke:#1f77b4;\" x=\"82.81501\" xlink:href=\"#m1372324b23\" y=\"210.631779\"/>\n     <use style=\"fill:#1f77b4;stroke:#1f77b4;\" x=\"83.038669\" xlink:href=\"#m1372324b23\" y=\"210.512714\"/>\n     <use style=\"fill:#1f77b4;stroke:#1f77b4;\" x=\"82.788567\" xlink:href=\"#m1372324b23\" y=\"210.591313\"/>\n     <use style=\"fill:#1f77b4;stroke:#1f77b4;\" x=\"83.215954\" xlink:href=\"#m1372324b23\" y=\"210.390687\"/>\n     <use style=\"fill:#1f77b4;stroke:#1f77b4;\" x=\"82.719571\" xlink:href=\"#m1372324b23\" y=\"210.462653\"/>\n     <use style=\"fill:#1f77b4;stroke:#1f77b4;\" x=\"82.548741\" xlink:href=\"#m1372324b23\" y=\"210.630111\"/>\n     <use style=\"fill:#1f77b4;stroke:#1f77b4;\" x=\"82.762522\" xlink:href=\"#m1372324b23\" y=\"210.475952\"/>\n     <use style=\"fill:#1f77b4;stroke:#1f77b4;\" x=\"82.485525\" xlink:href=\"#m1372324b23\" y=\"210.534885\"/>\n     <use style=\"fill:#1f77b4;stroke:#1f77b4;\" x=\"83.912159\" xlink:href=\"#m1372324b23\" y=\"209.955987\"/>\n     <use style=\"fill:#1f77b4;stroke:#1f77b4;\" x=\"83.329278\" xlink:href=\"#m1372324b23\" y=\"210.057784\"/>\n     <use style=\"fill:#1f77b4;stroke:#1f77b4;\" x=\"84.162247\" xlink:href=\"#m1372324b23\" y=\"209.740252\"/>\n     <use style=\"fill:#1f77b4;stroke:#1f77b4;\" x=\"83.450827\" xlink:href=\"#m1372324b23\" y=\"209.893031\"/>\n     <use style=\"fill:#1f77b4;stroke:#1f77b4;\" x=\"83.4548\" xlink:href=\"#m1372324b23\" y=\"209.977948\"/>\n     <use style=\"fill:#1f77b4;stroke:#1f77b4;\" x=\"83.272831\" xlink:href=\"#m1372324b23\" y=\"210.041785\"/>\n     <use style=\"fill:#1f77b4;stroke:#1f77b4;\" x=\"83.443882\" xlink:href=\"#m1372324b23\" y=\"209.930003\"/>\n     <use style=\"fill:#1f77b4;stroke:#1f77b4;\" x=\"83.288291\" xlink:href=\"#m1372324b23\" y=\"210.035663\"/>\n     <use style=\"fill:#1f77b4;stroke:#1f77b4;\" x=\"83.286396\" xlink:href=\"#m1372324b23\" y=\"210.010288\"/>\n     <use style=\"fill:#1f77b4;stroke:#1f77b4;\" x=\"83.048049\" xlink:href=\"#m1372324b23\" y=\"210.085045\"/>\n     <use style=\"fill:#1f77b4;stroke:#1f77b4;\" x=\"82.761289\" xlink:href=\"#m1372324b23\" y=\"210.285011\"/>\n     <use style=\"fill:#1f77b4;stroke:#1f77b4;\" x=\"82.851964\" xlink:href=\"#m1372324b23\" y=\"210.321295\"/>\n     <use style=\"fill:#1f77b4;stroke:#1f77b4;\" x=\"82.888146\" xlink:href=\"#m1372324b23\" y=\"210.207957\"/>\n     <use style=\"fill:#1f77b4;stroke:#1f77b4;\" x=\"83.014837\" xlink:href=\"#m1372324b23\" y=\"210.082369\"/>\n     <use style=\"fill:#1f77b4;stroke:#1f77b4;\" x=\"82.912708\" xlink:href=\"#m1372324b23\" y=\"210.17997\"/>\n     <use style=\"fill:#1f77b4;stroke:#1f77b4;\" x=\"83.909382\" xlink:href=\"#m1372324b23\" y=\"209.809377\"/>\n     <use style=\"fill:#1f77b4;stroke:#1f77b4;\" x=\"84.621324\" xlink:href=\"#m1372324b23\" y=\"209.09132\"/>\n     <use style=\"fill:#1f77b4;stroke:#1f77b4;\" x=\"84.884899\" xlink:href=\"#m1372324b23\" y=\"208.56875\"/>\n     <use style=\"fill:#1f77b4;stroke:#1f77b4;\" x=\"84.675873\" xlink:href=\"#m1372324b23\" y=\"208.379498\"/>\n     <use style=\"fill:#1f77b4;stroke:#1f77b4;\" x=\"85.339296\" xlink:href=\"#m1372324b23\" y=\"207.34086\"/>\n     <use style=\"fill:#1f77b4;stroke:#1f77b4;\" x=\"86.418283\" xlink:href=\"#m1372324b23\" y=\"207.107268\"/>\n     <use style=\"fill:#1f77b4;stroke:#1f77b4;\" x=\"91.555063\" xlink:href=\"#m1372324b23\" y=\"206.610952\"/>\n     <use style=\"fill:#1f77b4;stroke:#1f77b4;\" x=\"91.185788\" xlink:href=\"#m1372324b23\" y=\"206.814021\"/>\n     <use style=\"fill:#1f77b4;stroke:#1f77b4;\" x=\"92.073587\" xlink:href=\"#m1372324b23\" y=\"206.749899\"/>\n     <use style=\"fill:#1f77b4;stroke:#1f77b4;\" x=\"92.12443\" xlink:href=\"#m1372324b23\" y=\"206.064378\"/>\n     <use style=\"fill:#1f77b4;stroke:#1f77b4;\" x=\"93.128658\" xlink:href=\"#m1372324b23\" y=\"205.605795\"/>\n     <use style=\"fill:#1f77b4;stroke:#1f77b4;\" x=\"95.192092\" xlink:href=\"#m1372324b23\" y=\"203.9482\"/>\n     <use style=\"fill:#1f77b4;stroke:#1f77b4;\" x=\"91.85191\" xlink:href=\"#m1372324b23\" y=\"204.555628\"/>\n     <use style=\"fill:#1f77b4;stroke:#1f77b4;\" x=\"92.76379\" xlink:href=\"#m1372324b23\" y=\"203.902397\"/>\n     <use style=\"fill:#1f77b4;stroke:#1f77b4;\" x=\"92.572381\" xlink:href=\"#m1372324b23\" y=\"203.752701\"/>\n     <use style=\"fill:#1f77b4;stroke:#1f77b4;\" x=\"95.132619\" xlink:href=\"#m1372324b23\" y=\"203.262882\"/>\n     <use style=\"fill:#1f77b4;stroke:#1f77b4;\" x=\"95.287573\" xlink:href=\"#m1372324b23\" y=\"203.540031\"/>\n     <use style=\"fill:#1f77b4;stroke:#1f77b4;\" x=\"94.443982\" xlink:href=\"#m1372324b23\" y=\"204.185972\"/>\n     <use style=\"fill:#1f77b4;stroke:#1f77b4;\" x=\"95.165849\" xlink:href=\"#m1372324b23\" y=\"203.58078\"/>\n     <use style=\"fill:#1f77b4;stroke:#1f77b4;\" x=\"94.795358\" xlink:href=\"#m1372324b23\" y=\"203.700648\"/>\n     <use style=\"fill:#1f77b4;stroke:#1f77b4;\" x=\"95.752837\" xlink:href=\"#m1372324b23\" y=\"203.50133\"/>\n     <use style=\"fill:#1f77b4;stroke:#1f77b4;\" x=\"93.540557\" xlink:href=\"#m1372324b23\" y=\"204.149546\"/>\n     <use style=\"fill:#1f77b4;stroke:#1f77b4;\" x=\"94.365735\" xlink:href=\"#m1372324b23\" y=\"203.704673\"/>\n     <use style=\"fill:#1f77b4;stroke:#1f77b4;\" x=\"95.308221\" xlink:href=\"#m1372324b23\" y=\"202.127666\"/>\n     <use style=\"fill:#1f77b4;stroke:#1f77b4;\" x=\"95.235991\" xlink:href=\"#m1372324b23\" y=\"201.765749\"/>\n     <use style=\"fill:#1f77b4;stroke:#1f77b4;\" x=\"95.694107\" xlink:href=\"#m1372324b23\" y=\"201.934786\"/>\n     <use style=\"fill:#1f77b4;stroke:#1f77b4;\" x=\"95.822351\" xlink:href=\"#m1372324b23\" y=\"201.916737\"/>\n     <use style=\"fill:#1f77b4;stroke:#1f77b4;\" x=\"97.533176\" xlink:href=\"#m1372324b23\" y=\"202.094658\"/>\n     <use style=\"fill:#1f77b4;stroke:#1f77b4;\" x=\"96.288049\" xlink:href=\"#m1372324b23\" y=\"202.33975\"/>\n     <use style=\"fill:#1f77b4;stroke:#1f77b4;\" x=\"95.185897\" xlink:href=\"#m1372324b23\" y=\"203.05913\"/>\n     <use style=\"fill:#1f77b4;stroke:#1f77b4;\" x=\"95.754071\" xlink:href=\"#m1372324b23\" y=\"202.642023\"/>\n     <use style=\"fill:#1f77b4;stroke:#1f77b4;\" x=\"94.401479\" xlink:href=\"#m1372324b23\" y=\"203.784023\"/>\n     <use style=\"fill:#1f77b4;stroke:#1f77b4;\" x=\"94.824152\" xlink:href=\"#m1372324b23\" y=\"203.503522\"/>\n     <use style=\"fill:#1f77b4;stroke:#1f77b4;\" x=\"94.743827\" xlink:href=\"#m1372324b23\" y=\"203.689608\"/>\n     <use style=\"fill:#1f77b4;stroke:#1f77b4;\" x=\"95.263076\" xlink:href=\"#m1372324b23\" y=\"202.98887\"/>\n     <use style=\"fill:#1f77b4;stroke:#1f77b4;\" x=\"93.330532\" xlink:href=\"#m1372324b23\" y=\"203.998317\"/>\n     <use style=\"fill:#1f77b4;stroke:#1f77b4;\" x=\"93.908829\" xlink:href=\"#m1372324b23\" y=\"203.895249\"/>\n     <use style=\"fill:#1f77b4;stroke:#1f77b4;\" x=\"93.12833\" xlink:href=\"#m1372324b23\" y=\"204.055531\"/>\n     <use style=\"fill:#1f77b4;stroke:#1f77b4;\" x=\"94.164966\" xlink:href=\"#m1372324b23\" y=\"203.50187\"/>\n     <use style=\"fill:#1f77b4;stroke:#1f77b4;\" x=\"93.996367\" xlink:href=\"#m1372324b23\" y=\"203.332669\"/>\n     <use style=\"fill:#1f77b4;stroke:#1f77b4;\" x=\"94.96458\" xlink:href=\"#m1372324b23\" y=\"202.142135\"/>\n     <use style=\"fill:#1f77b4;stroke:#1f77b4;\" x=\"94.819398\" xlink:href=\"#m1372324b23\" y=\"201.86267\"/>\n     <use style=\"fill:#1f77b4;stroke:#1f77b4;\" x=\"96.189852\" xlink:href=\"#m1372324b23\" y=\"200.107776\"/>\n     <use style=\"fill:#1f77b4;stroke:#1f77b4;\" x=\"93.557158\" xlink:href=\"#m1372324b23\" y=\"201.655256\"/>\n     <use style=\"fill:#1f77b4;stroke:#1f77b4;\" x=\"88.027533\" xlink:href=\"#m1372324b23\" y=\"203.928455\"/>\n     <use style=\"fill:#1f77b4;stroke:#1f77b4;\" x=\"89.288498\" xlink:href=\"#m1372324b23\" y=\"203.821034\"/>\n     <use style=\"fill:#1f77b4;stroke:#1f77b4;\" x=\"87.669235\" xlink:href=\"#m1372324b23\" y=\"206.036221\"/>\n     <use style=\"fill:#1f77b4;stroke:#1f77b4;\" x=\"88.193386\" xlink:href=\"#m1372324b23\" y=\"205.279351\"/>\n     <use style=\"fill:#1f77b4;stroke:#1f77b4;\" x=\"88.615473\" xlink:href=\"#m1372324b23\" y=\"205.30815\"/>\n     <use style=\"fill:#1f77b4;stroke:#1f77b4;\" x=\"87.489206\" xlink:href=\"#m1372324b23\" y=\"205.938298\"/>\n     <use style=\"fill:#1f77b4;stroke:#1f77b4;\" x=\"88.013579\" xlink:href=\"#m1372324b23\" y=\"205.37352\"/>\n     <use style=\"fill:#1f77b4;stroke:#1f77b4;\" x=\"88.585075\" xlink:href=\"#m1372324b23\" y=\"204.663074\"/>\n     <use style=\"fill:#1f77b4;stroke:#1f77b4;\" x=\"88.763806\" xlink:href=\"#m1372324b23\" y=\"204.387386\"/>\n     <use style=\"fill:#1f77b4;stroke:#1f77b4;\" x=\"88.958999\" xlink:href=\"#m1372324b23\" y=\"203.865272\"/>\n     <use style=\"fill:#1f77b4;stroke:#1f77b4;\" x=\"88.398744\" xlink:href=\"#m1372324b23\" y=\"204.768935\"/>\n     <use style=\"fill:#1f77b4;stroke:#1f77b4;\" x=\"90.0882\" xlink:href=\"#m1372324b23\" y=\"204.279795\"/>\n     <use style=\"fill:#1f77b4;stroke:#1f77b4;\" x=\"90.637564\" xlink:href=\"#m1372324b23\" y=\"204.799491\"/>\n     <use style=\"fill:#1f77b4;stroke:#1f77b4;\" x=\"91.479515\" xlink:href=\"#m1372324b23\" y=\"204.758805\"/>\n     <use style=\"fill:#1f77b4;stroke:#1f77b4;\" x=\"91.356904\" xlink:href=\"#m1372324b23\" y=\"203.788502\"/>\n     <use style=\"fill:#1f77b4;stroke:#1f77b4;\" x=\"91.336066\" xlink:href=\"#m1372324b23\" y=\"203.983119\"/>\n     <use style=\"fill:#1f77b4;stroke:#1f77b4;\" x=\"92.044626\" xlink:href=\"#m1372324b23\" y=\"203.933789\"/>\n     <use style=\"fill:#1f77b4;stroke:#1f77b4;\" x=\"91.30619\" xlink:href=\"#m1372324b23\" y=\"204.539693\"/>\n     <use style=\"fill:#1f77b4;stroke:#1f77b4;\" x=\"89.054045\" xlink:href=\"#m1372324b23\" y=\"205.763363\"/>\n     <use style=\"fill:#1f77b4;stroke:#1f77b4;\" x=\"89.41457\" xlink:href=\"#m1372324b23\" y=\"205.649758\"/>\n     <use style=\"fill:#1f77b4;stroke:#1f77b4;\" x=\"88.031742\" xlink:href=\"#m1372324b23\" y=\"206.627585\"/>\n     <use style=\"fill:#1f77b4;stroke:#1f77b4;\" x=\"90.463052\" xlink:href=\"#m1372324b23\" y=\"205.446874\"/>\n     <use style=\"fill:#1f77b4;stroke:#1f77b4;\" x=\"90.144402\" xlink:href=\"#m1372324b23\" y=\"205.328647\"/>\n     <use style=\"fill:#1f77b4;stroke:#1f77b4;\" x=\"90.418849\" xlink:href=\"#m1372324b23\" y=\"205.190469\"/>\n     <use style=\"fill:#1f77b4;stroke:#1f77b4;\" x=\"90.534982\" xlink:href=\"#m1372324b23\" y=\"205.10892\"/>\n     <use style=\"fill:#1f77b4;stroke:#1f77b4;\" x=\"90.224529\" xlink:href=\"#m1372324b23\" y=\"205.204211\"/>\n     <use style=\"fill:#1f77b4;stroke:#1f77b4;\" x=\"90.863197\" xlink:href=\"#m1372324b23\" y=\"205.011966\"/>\n     <use style=\"fill:#1f77b4;stroke:#1f77b4;\" x=\"90.578613\" xlink:href=\"#m1372324b23\" y=\"205.00442\"/>\n     <use style=\"fill:#1f77b4;stroke:#1f77b4;\" x=\"89.797767\" xlink:href=\"#m1372324b23\" y=\"205.285889\"/>\n     <use style=\"fill:#1f77b4;stroke:#1f77b4;\" x=\"89.592062\" xlink:href=\"#m1372324b23\" y=\"205.577185\"/>\n     <use style=\"fill:#1f77b4;stroke:#1f77b4;\" x=\"89.465995\" xlink:href=\"#m1372324b23\" y=\"205.565346\"/>\n     <use style=\"fill:#1f77b4;stroke:#1f77b4;\" x=\"90.03495\" xlink:href=\"#m1372324b23\" y=\"205.3121\"/>\n     <use style=\"fill:#1f77b4;stroke:#1f77b4;\" x=\"90.620478\" xlink:href=\"#m1372324b23\" y=\"205.254494\"/>\n     <use style=\"fill:#1f77b4;stroke:#1f77b4;\" x=\"89.72658\" xlink:href=\"#m1372324b23\" y=\"205.803928\"/>\n     <use style=\"fill:#1f77b4;stroke:#1f77b4;\" x=\"90.032044\" xlink:href=\"#m1372324b23\" y=\"205.762419\"/>\n     <use style=\"fill:#1f77b4;stroke:#1f77b4;\" x=\"91.19933\" xlink:href=\"#m1372324b23\" y=\"205.387898\"/>\n     <use style=\"fill:#1f77b4;stroke:#1f77b4;\" x=\"91.903214\" xlink:href=\"#m1372324b23\" y=\"204.768079\"/>\n     <use style=\"fill:#1f77b4;stroke:#1f77b4;\" x=\"93.000414\" xlink:href=\"#m1372324b23\" y=\"204.543257\"/>\n     <use style=\"fill:#1f77b4;stroke:#1f77b4;\" x=\"93.415917\" xlink:href=\"#m1372324b23\" y=\"204.368719\"/>\n     <use style=\"fill:#1f77b4;stroke:#1f77b4;\" x=\"94.225825\" xlink:href=\"#m1372324b23\" y=\"203.842353\"/>\n     <use style=\"fill:#1f77b4;stroke:#1f77b4;\" x=\"93.613295\" xlink:href=\"#m1372324b23\" y=\"204.115817\"/>\n     <use style=\"fill:#1f77b4;stroke:#1f77b4;\" x=\"93.630363\" xlink:href=\"#m1372324b23\" y=\"204.187177\"/>\n     <use style=\"fill:#1f77b4;stroke:#1f77b4;\" x=\"93.941884\" xlink:href=\"#m1372324b23\" y=\"204.272563\"/>\n     <use style=\"fill:#1f77b4;stroke:#1f77b4;\" x=\"93.1223\" xlink:href=\"#m1372324b23\" y=\"204.741382\"/>\n     <use style=\"fill:#1f77b4;stroke:#1f77b4;\" x=\"93.292525\" xlink:href=\"#m1372324b23\" y=\"204.631548\"/>\n     <use style=\"fill:#1f77b4;stroke:#1f77b4;\" x=\"93.885155\" xlink:href=\"#m1372324b23\" y=\"204.240291\"/>\n     <use style=\"fill:#1f77b4;stroke:#1f77b4;\" x=\"95.109032\" xlink:href=\"#m1372324b23\" y=\"204.168296\"/>\n     <use style=\"fill:#1f77b4;stroke:#1f77b4;\" x=\"95.933684\" xlink:href=\"#m1372324b23\" y=\"204.6198\"/>\n     <use style=\"fill:#1f77b4;stroke:#1f77b4;\" x=\"100.226633\" xlink:href=\"#m1372324b23\" y=\"203.65593\"/>\n     <use style=\"fill:#1f77b4;stroke:#1f77b4;\" x=\"100.899432\" xlink:href=\"#m1372324b23\" y=\"202.753525\"/>\n     <use style=\"fill:#1f77b4;stroke:#1f77b4;\" x=\"100.7369\" xlink:href=\"#m1372324b23\" y=\"202.921032\"/>\n     <use style=\"fill:#1f77b4;stroke:#1f77b4;\" x=\"101.572082\" xlink:href=\"#m1372324b23\" y=\"202.808522\"/>\n     <use style=\"fill:#1f77b4;stroke:#1f77b4;\" x=\"101.2083\" xlink:href=\"#m1372324b23\" y=\"203.069415\"/>\n     <use style=\"fill:#1f77b4;stroke:#1f77b4;\" x=\"101.416828\" xlink:href=\"#m1372324b23\" y=\"203.584921\"/>\n     <use style=\"fill:#1f77b4;stroke:#1f77b4;\" x=\"104.156101\" xlink:href=\"#m1372324b23\" y=\"203.162266\"/>\n     <use style=\"fill:#1f77b4;stroke:#1f77b4;\" x=\"102.344334\" xlink:href=\"#m1372324b23\" y=\"203.803908\"/>\n     <use style=\"fill:#1f77b4;stroke:#1f77b4;\" x=\"103.132555\" xlink:href=\"#m1372324b23\" y=\"203.884212\"/>\n     <use style=\"fill:#1f77b4;stroke:#1f77b4;\" x=\"103.646559\" xlink:href=\"#m1372324b23\" y=\"204.047698\"/>\n     <use style=\"fill:#1f77b4;stroke:#1f77b4;\" x=\"104.755915\" xlink:href=\"#m1372324b23\" y=\"203.890056\"/>\n     <use style=\"fill:#1f77b4;stroke:#1f77b4;\" x=\"104.54828\" xlink:href=\"#m1372324b23\" y=\"203.481653\"/>\n     <use style=\"fill:#1f77b4;stroke:#1f77b4;\" x=\"103.665327\" xlink:href=\"#m1372324b23\" y=\"204.033618\"/>\n     <use style=\"fill:#1f77b4;stroke:#1f77b4;\" x=\"105.556948\" xlink:href=\"#m1372324b23\" y=\"203.84775\"/>\n     <use style=\"fill:#1f77b4;stroke:#1f77b4;\" x=\"106.424695\" xlink:href=\"#m1372324b23\" y=\"203.239827\"/>\n     <use style=\"fill:#1f77b4;stroke:#1f77b4;\" x=\"113.266797\" xlink:href=\"#m1372324b23\" y=\"202.741217\"/>\n     <use style=\"fill:#1f77b4;stroke:#1f77b4;\" x=\"113.200712\" xlink:href=\"#m1372324b23\" y=\"201.041522\"/>\n     <use style=\"fill:#1f77b4;stroke:#1f77b4;\" x=\"109.736813\" xlink:href=\"#m1372324b23\" y=\"201.836187\"/>\n     <use style=\"fill:#1f77b4;stroke:#1f77b4;\" x=\"112.792339\" xlink:href=\"#m1372324b23\" y=\"201.090212\"/>\n     <use style=\"fill:#1f77b4;stroke:#1f77b4;\" x=\"112.095648\" xlink:href=\"#m1372324b23\" y=\"201.482889\"/>\n     <use style=\"fill:#1f77b4;stroke:#1f77b4;\" x=\"111.899711\" xlink:href=\"#m1372324b23\" y=\"201.252236\"/>\n     <use style=\"fill:#1f77b4;stroke:#1f77b4;\" x=\"113.841606\" xlink:href=\"#m1372324b23\" y=\"200.696949\"/>\n     <use style=\"fill:#1f77b4;stroke:#1f77b4;\" x=\"116.562112\" xlink:href=\"#m1372324b23\" y=\"200.7787\"/>\n     <use style=\"fill:#1f77b4;stroke:#1f77b4;\" x=\"116.758293\" xlink:href=\"#m1372324b23\" y=\"200.209187\"/>\n     <use style=\"fill:#1f77b4;stroke:#1f77b4;\" x=\"115.577035\" xlink:href=\"#m1372324b23\" y=\"200.814467\"/>\n     <use style=\"fill:#1f77b4;stroke:#1f77b4;\" x=\"115.044525\" xlink:href=\"#m1372324b23\" y=\"201.340898\"/>\n     <use style=\"fill:#1f77b4;stroke:#1f77b4;\" x=\"118.642776\" xlink:href=\"#m1372324b23\" y=\"200.823227\"/>\n     <use style=\"fill:#1f77b4;stroke:#1f77b4;\" x=\"123.039531\" xlink:href=\"#m1372324b23\" y=\"199.969458\"/>\n     <use style=\"fill:#1f77b4;stroke:#1f77b4;\" x=\"123.789911\" xlink:href=\"#m1372324b23\" y=\"200.006085\"/>\n     <use style=\"fill:#1f77b4;stroke:#1f77b4;\" x=\"123.851815\" xlink:href=\"#m1372324b23\" y=\"200.334453\"/>\n     <use style=\"fill:#1f77b4;stroke:#1f77b4;\" x=\"127.656828\" xlink:href=\"#m1372324b23\" y=\"198.740866\"/>\n     <use style=\"fill:#1f77b4;stroke:#1f77b4;\" x=\"127.755796\" xlink:href=\"#m1372324b23\" y=\"197.079214\"/>\n     <use style=\"fill:#1f77b4;stroke:#1f77b4;\" x=\"126.467797\" xlink:href=\"#m1372324b23\" y=\"196.720415\"/>\n     <use style=\"fill:#1f77b4;stroke:#1f77b4;\" x=\"126.439973\" xlink:href=\"#m1372324b23\" y=\"194.613734\"/>\n     <use style=\"fill:#1f77b4;stroke:#1f77b4;\" x=\"129.956942\" xlink:href=\"#m1372324b23\" y=\"194.804236\"/>\n     <use style=\"fill:#1f77b4;stroke:#1f77b4;\" x=\"128.181085\" xlink:href=\"#m1372324b23\" y=\"196.192823\"/>\n     <use style=\"fill:#1f77b4;stroke:#1f77b4;\" x=\"120.698573\" xlink:href=\"#m1372324b23\" y=\"198.362202\"/>\n     <use style=\"fill:#1f77b4;stroke:#1f77b4;\" x=\"120.498815\" xlink:href=\"#m1372324b23\" y=\"198.416867\"/>\n     <use style=\"fill:#1f77b4;stroke:#1f77b4;\" x=\"123.380221\" xlink:href=\"#m1372324b23\" y=\"197.549873\"/>\n     <use style=\"fill:#1f77b4;stroke:#1f77b4;\" x=\"125.556943\" xlink:href=\"#m1372324b23\" y=\"195.980782\"/>\n     <use style=\"fill:#1f77b4;stroke:#1f77b4;\" x=\"132.409501\" xlink:href=\"#m1372324b23\" y=\"194.346625\"/>\n     <use style=\"fill:#1f77b4;stroke:#1f77b4;\" x=\"128.516424\" xlink:href=\"#m1372324b23\" y=\"195.497193\"/>\n     <use style=\"fill:#1f77b4;stroke:#1f77b4;\" x=\"130.399917\" xlink:href=\"#m1372324b23\" y=\"195.036094\"/>\n     <use style=\"fill:#1f77b4;stroke:#1f77b4;\" x=\"131.555801\" xlink:href=\"#m1372324b23\" y=\"194.268597\"/>\n     <use style=\"fill:#1f77b4;stroke:#1f77b4;\" x=\"128.028002\" xlink:href=\"#m1372324b23\" y=\"196.248534\"/>\n     <use style=\"fill:#1f77b4;stroke:#1f77b4;\" x=\"130.178203\" xlink:href=\"#m1372324b23\" y=\"195.109552\"/>\n     <use style=\"fill:#1f77b4;stroke:#1f77b4;\" x=\"131.08136\" xlink:href=\"#m1372324b23\" y=\"194.887388\"/>\n     <use style=\"fill:#1f77b4;stroke:#1f77b4;\" x=\"130.355155\" xlink:href=\"#m1372324b23\" y=\"195.30824\"/>\n     <use style=\"fill:#1f77b4;stroke:#1f77b4;\" x=\"126.236639\" xlink:href=\"#m1372324b23\" y=\"196.855897\"/>\n     <use style=\"fill:#1f77b4;stroke:#1f77b4;\" x=\"127.337947\" xlink:href=\"#m1372324b23\" y=\"196.076066\"/>\n     <use style=\"fill:#1f77b4;stroke:#1f77b4;\" x=\"125.970967\" xlink:href=\"#m1372324b23\" y=\"196.653082\"/>\n     <use style=\"fill:#1f77b4;stroke:#1f77b4;\" x=\"124.995907\" xlink:href=\"#m1372324b23\" y=\"197.233466\"/>\n     <use style=\"fill:#1f77b4;stroke:#1f77b4;\" x=\"128.519538\" xlink:href=\"#m1372324b23\" y=\"196.281433\"/>\n     <use style=\"fill:#1f77b4;stroke:#1f77b4;\" x=\"130.122149\" xlink:href=\"#m1372324b23\" y=\"195.399395\"/>\n     <use style=\"fill:#1f77b4;stroke:#1f77b4;\" x=\"130.61544\" xlink:href=\"#m1372324b23\" y=\"195.55209\"/>\n     <use style=\"fill:#1f77b4;stroke:#1f77b4;\" x=\"131.4218\" xlink:href=\"#m1372324b23\" y=\"195.412257\"/>\n     <use style=\"fill:#1f77b4;stroke:#1f77b4;\" x=\"140.380583\" xlink:href=\"#m1372324b23\" y=\"193.45441\"/>\n     <use style=\"fill:#1f77b4;stroke:#1f77b4;\" x=\"147.451787\" xlink:href=\"#m1372324b23\" y=\"193.174815\"/>\n     <use style=\"fill:#1f77b4;stroke:#1f77b4;\" x=\"149.026352\" xlink:href=\"#m1372324b23\" y=\"192.675467\"/>\n     <use style=\"fill:#1f77b4;stroke:#1f77b4;\" x=\"152.48904\" xlink:href=\"#m1372324b23\" y=\"192.487905\"/>\n     <use style=\"fill:#1f77b4;stroke:#1f77b4;\" x=\"150.631837\" xlink:href=\"#m1372324b23\" y=\"193.36623\"/>\n     <use style=\"fill:#1f77b4;stroke:#1f77b4;\" x=\"147.441946\" xlink:href=\"#m1372324b23\" y=\"194.556711\"/>\n     <use style=\"fill:#1f77b4;stroke:#1f77b4;\" x=\"152.078352\" xlink:href=\"#m1372324b23\" y=\"193.50992\"/>\n     <use style=\"fill:#1f77b4;stroke:#1f77b4;\" x=\"149.515495\" xlink:href=\"#m1372324b23\" y=\"195.648112\"/>\n     <use style=\"fill:#1f77b4;stroke:#1f77b4;\" x=\"151.855603\" xlink:href=\"#m1372324b23\" y=\"194.481898\"/>\n     <use style=\"fill:#1f77b4;stroke:#1f77b4;\" x=\"156.250215\" xlink:href=\"#m1372324b23\" y=\"193.862949\"/>\n     <use style=\"fill:#1f77b4;stroke:#1f77b4;\" x=\"164.63521\" xlink:href=\"#m1372324b23\" y=\"193.468877\"/>\n     <use style=\"fill:#1f77b4;stroke:#1f77b4;\" x=\"163.855768\" xlink:href=\"#m1372324b23\" y=\"191.511854\"/>\n     <use style=\"fill:#1f77b4;stroke:#1f77b4;\" x=\"167.699999\" xlink:href=\"#m1372324b23\" y=\"189.515174\"/>\n     <use style=\"fill:#1f77b4;stroke:#1f77b4;\" x=\"169.013539\" xlink:href=\"#m1372324b23\" y=\"189.468228\"/>\n     <use style=\"fill:#1f77b4;stroke:#1f77b4;\" x=\"176.008812\" xlink:href=\"#m1372324b23\" y=\"188.627879\"/>\n     <use style=\"fill:#1f77b4;stroke:#1f77b4;\" x=\"176.769449\" xlink:href=\"#m1372324b23\" y=\"189.205519\"/>\n     <use style=\"fill:#1f77b4;stroke:#1f77b4;\" x=\"178.531528\" xlink:href=\"#m1372324b23\" y=\"189.516419\"/>\n     <use style=\"fill:#1f77b4;stroke:#1f77b4;\" x=\"191.55729\" xlink:href=\"#m1372324b23\" y=\"187.669739\"/>\n     <use style=\"fill:#1f77b4;stroke:#1f77b4;\" x=\"194.655124\" xlink:href=\"#m1372324b23\" y=\"179.266888\"/>\n     <use style=\"fill:#1f77b4;stroke:#1f77b4;\" x=\"190.822269\" xlink:href=\"#m1372324b23\" y=\"176.560663\"/>\n     <use style=\"fill:#1f77b4;stroke:#1f77b4;\" x=\"200.381897\" xlink:href=\"#m1372324b23\" y=\"174.061497\"/>\n     <use style=\"fill:#1f77b4;stroke:#1f77b4;\" x=\"213.780571\" xlink:href=\"#m1372324b23\" y=\"169.583294\"/>\n     <use style=\"fill:#1f77b4;stroke:#1f77b4;\" x=\"225.829629\" xlink:href=\"#m1372324b23\" y=\"168.807036\"/>\n     <use style=\"fill:#1f77b4;stroke:#1f77b4;\" x=\"232.579116\" xlink:href=\"#m1372324b23\" y=\"168.868957\"/>\n     <use style=\"fill:#1f77b4;stroke:#1f77b4;\" x=\"230.009734\" xlink:href=\"#m1372324b23\" y=\"166.490747\"/>\n     <use style=\"fill:#1f77b4;stroke:#1f77b4;\" x=\"221.029263\" xlink:href=\"#m1372324b23\" y=\"167.27807\"/>\n     <use style=\"fill:#1f77b4;stroke:#1f77b4;\" x=\"207.830005\" xlink:href=\"#m1372324b23\" y=\"174.473782\"/>\n     <use style=\"fill:#1f77b4;stroke:#1f77b4;\" x=\"200.053221\" xlink:href=\"#m1372324b23\" y=\"176.426804\"/>\n     <use style=\"fill:#1f77b4;stroke:#1f77b4;\" x=\"216.108343\" xlink:href=\"#m1372324b23\" y=\"172.77651\"/>\n     <use style=\"fill:#1f77b4;stroke:#1f77b4;\" x=\"224.960422\" xlink:href=\"#m1372324b23\" y=\"169.109124\"/>\n     <use style=\"fill:#1f77b4;stroke:#1f77b4;\" x=\"213.785321\" xlink:href=\"#m1372324b23\" y=\"171.058282\"/>\n     <use style=\"fill:#1f77b4;stroke:#1f77b4;\" x=\"210.72311\" xlink:href=\"#m1372324b23\" y=\"168.478424\"/>\n     <use style=\"fill:#1f77b4;stroke:#1f77b4;\" x=\"208.892751\" xlink:href=\"#m1372324b23\" y=\"168.619132\"/>\n     <use style=\"fill:#1f77b4;stroke:#1f77b4;\" x=\"212.861335\" xlink:href=\"#m1372324b23\" y=\"167.485752\"/>\n     <use style=\"fill:#1f77b4;stroke:#1f77b4;\" x=\"210.210542\" xlink:href=\"#m1372324b23\" y=\"162.467759\"/>\n     <use style=\"fill:#1f77b4;stroke:#1f77b4;\" x=\"207.740555\" xlink:href=\"#m1372324b23\" y=\"162.259618\"/>\n     <use style=\"fill:#1f77b4;stroke:#1f77b4;\" x=\"185.399204\" xlink:href=\"#m1372324b23\" y=\"173.159852\"/>\n     <use style=\"fill:#1f77b4;stroke:#1f77b4;\" x=\"195.713693\" xlink:href=\"#m1372324b23\" y=\"168.354053\"/>\n     <use style=\"fill:#1f77b4;stroke:#1f77b4;\" x=\"191.275188\" xlink:href=\"#m1372324b23\" y=\"168.584916\"/>\n     <use style=\"fill:#1f77b4;stroke:#1f77b4;\" x=\"192.324284\" xlink:href=\"#m1372324b23\" y=\"161.8693\"/>\n     <use style=\"fill:#1f77b4;stroke:#1f77b4;\" x=\"192.688658\" xlink:href=\"#m1372324b23\" y=\"164.678766\"/>\n     <use style=\"fill:#1f77b4;stroke:#1f77b4;\" x=\"193.65127\" xlink:href=\"#m1372324b23\" y=\"163.313919\"/>\n     <use style=\"fill:#1f77b4;stroke:#1f77b4;\" x=\"183.53909\" xlink:href=\"#m1372324b23\" y=\"167.656859\"/>\n     <use style=\"fill:#1f77b4;stroke:#1f77b4;\" x=\"197.891672\" xlink:href=\"#m1372324b23\" y=\"164.341043\"/>\n     <use style=\"fill:#1f77b4;stroke:#1f77b4;\" x=\"201.914629\" xlink:href=\"#m1372324b23\" y=\"162.249216\"/>\n     <use style=\"fill:#1f77b4;stroke:#1f77b4;\" x=\"201.692905\" xlink:href=\"#m1372324b23\" y=\"162.517113\"/>\n     <use style=\"fill:#1f77b4;stroke:#1f77b4;\" x=\"196.227499\" xlink:href=\"#m1372324b23\" y=\"165.072984\"/>\n     <use style=\"fill:#1f77b4;stroke:#1f77b4;\" x=\"198.227962\" xlink:href=\"#m1372324b23\" y=\"162.812924\"/>\n     <use style=\"fill:#1f77b4;stroke:#1f77b4;\" x=\"207.563316\" xlink:href=\"#m1372324b23\" y=\"156.702126\"/>\n     <use style=\"fill:#1f77b4;stroke:#1f77b4;\" x=\"216.845148\" xlink:href=\"#m1372324b23\" y=\"150.609615\"/>\n     <use style=\"fill:#1f77b4;stroke:#1f77b4;\" x=\"214.261757\" xlink:href=\"#m1372324b23\" y=\"153.375275\"/>\n     <use style=\"fill:#1f77b4;stroke:#1f77b4;\" x=\"220.025603\" xlink:href=\"#m1372324b23\" y=\"148.195398\"/>\n     <use style=\"fill:#1f77b4;stroke:#1f77b4;\" x=\"225.332696\" xlink:href=\"#m1372324b23\" y=\"149.901453\"/>\n     <use style=\"fill:#1f77b4;stroke:#1f77b4;\" x=\"223.617274\" xlink:href=\"#m1372324b23\" y=\"152.561422\"/>\n     <use style=\"fill:#1f77b4;stroke:#1f77b4;\" x=\"258.122619\" xlink:href=\"#m1372324b23\" y=\"147.026117\"/>\n     <use style=\"fill:#1f77b4;stroke:#1f77b4;\" x=\"259.469334\" xlink:href=\"#m1372324b23\" y=\"146.130602\"/>\n     <use style=\"fill:#1f77b4;stroke:#1f77b4;\" x=\"252.074711\" xlink:href=\"#m1372324b23\" y=\"147.125351\"/>\n     <use style=\"fill:#1f77b4;stroke:#1f77b4;\" x=\"266.226676\" xlink:href=\"#m1372324b23\" y=\"145.471539\"/>\n     <use style=\"fill:#1f77b4;stroke:#1f77b4;\" x=\"264.312965\" xlink:href=\"#m1372324b23\" y=\"142.97398\"/>\n     <use style=\"fill:#1f77b4;stroke:#1f77b4;\" x=\"262.423594\" xlink:href=\"#m1372324b23\" y=\"144.204171\"/>\n     <use style=\"fill:#1f77b4;stroke:#1f77b4;\" x=\"270.049348\" xlink:href=\"#m1372324b23\" y=\"144.581547\"/>\n     <use style=\"fill:#1f77b4;stroke:#1f77b4;\" x=\"266.395708\" xlink:href=\"#m1372324b23\" y=\"145.639074\"/>\n     <use style=\"fill:#1f77b4;stroke:#1f77b4;\" x=\"272.332579\" xlink:href=\"#m1372324b23\" y=\"145.585702\"/>\n     <use style=\"fill:#1f77b4;stroke:#1f77b4;\" x=\"286.285774\" xlink:href=\"#m1372324b23\" y=\"142.768034\"/>\n     <use style=\"fill:#1f77b4;stroke:#1f77b4;\" x=\"284.065805\" xlink:href=\"#m1372324b23\" y=\"139.047241\"/>\n     <use style=\"fill:#1f77b4;stroke:#1f77b4;\" x=\"303.976626\" xlink:href=\"#m1372324b23\" y=\"138.097482\"/>\n     <use style=\"fill:#1f77b4;stroke:#1f77b4;\" x=\"304.976756\" xlink:href=\"#m1372324b23\" y=\"139.79629\"/>\n     <use style=\"fill:#1f77b4;stroke:#1f77b4;\" x=\"311.791816\" xlink:href=\"#m1372324b23\" y=\"139.124514\"/>\n     <use style=\"fill:#1f77b4;stroke:#1f77b4;\" x=\"296.024229\" xlink:href=\"#m1372324b23\" y=\"145.54701\"/>\n     <use style=\"fill:#1f77b4;stroke:#1f77b4;\" x=\"270.556242\" xlink:href=\"#m1372324b23\" y=\"154.402097\"/>\n     <use style=\"fill:#1f77b4;stroke:#1f77b4;\" x=\"274.724057\" xlink:href=\"#m1372324b23\" y=\"152.045145\"/>\n     <use style=\"fill:#1f77b4;stroke:#1f77b4;\" x=\"262.368408\" xlink:href=\"#m1372324b23\" y=\"158.353238\"/>\n     <use style=\"fill:#1f77b4;stroke:#1f77b4;\" x=\"258.800597\" xlink:href=\"#m1372324b23\" y=\"159.59377\"/>\n     <use style=\"fill:#1f77b4;stroke:#1f77b4;\" x=\"258.084714\" xlink:href=\"#m1372324b23\" y=\"159.010948\"/>\n     <use style=\"fill:#1f77b4;stroke:#1f77b4;\" x=\"253.113634\" xlink:href=\"#m1372324b23\" y=\"160.847459\"/>\n     <use style=\"fill:#1f77b4;stroke:#1f77b4;\" x=\"274.373517\" xlink:href=\"#m1372324b23\" y=\"154.631904\"/>\n     <use style=\"fill:#1f77b4;stroke:#1f77b4;\" x=\"268.448751\" xlink:href=\"#m1372324b23\" y=\"157.646424\"/>\n     <use style=\"fill:#1f77b4;stroke:#1f77b4;\" x=\"278.664789\" xlink:href=\"#m1372324b23\" y=\"154.1659\"/>\n     <use style=\"fill:#1f77b4;stroke:#1f77b4;\" x=\"269.310695\" xlink:href=\"#m1372324b23\" y=\"155.584914\"/>\n     <use style=\"fill:#1f77b4;stroke:#1f77b4;\" x=\"271.042991\" xlink:href=\"#m1372324b23\" y=\"155.94613\"/>\n     <use style=\"fill:#1f77b4;stroke:#1f77b4;\" x=\"270.972391\" xlink:href=\"#m1372324b23\" y=\"150.867504\"/>\n     <use style=\"fill:#1f77b4;stroke:#1f77b4;\" x=\"281.82741\" xlink:href=\"#m1372324b23\" y=\"148.007126\"/>\n     <use style=\"fill:#1f77b4;stroke:#1f77b4;\" x=\"286.747148\" xlink:href=\"#m1372324b23\" y=\"143.342112\"/>\n     <use style=\"fill:#1f77b4;stroke:#1f77b4;\" x=\"298.942469\" xlink:href=\"#m1372324b23\" y=\"141.948934\"/>\n     <use style=\"fill:#1f77b4;stroke:#1f77b4;\" x=\"304.546357\" xlink:href=\"#m1372324b23\" y=\"144.828977\"/>\n     <use style=\"fill:#1f77b4;stroke:#1f77b4;\" x=\"313.046437\" xlink:href=\"#m1372324b23\" y=\"143.698883\"/>\n     <use style=\"fill:#1f77b4;stroke:#1f77b4;\" x=\"310.808393\" xlink:href=\"#m1372324b23\" y=\"145.960541\"/>\n     <use style=\"fill:#1f77b4;stroke:#1f77b4;\" x=\"329.312415\" xlink:href=\"#m1372324b23\" y=\"139.580907\"/>\n     <use style=\"fill:#1f77b4;stroke:#1f77b4;\" x=\"320.130089\" xlink:href=\"#m1372324b23\" y=\"142.512733\"/>\n     <use style=\"fill:#1f77b4;stroke:#1f77b4;\" x=\"304.066835\" xlink:href=\"#m1372324b23\" y=\"145.141053\"/>\n     <use style=\"fill:#1f77b4;stroke:#1f77b4;\" x=\"308.314121\" xlink:href=\"#m1372324b23\" y=\"144.50262\"/>\n     <use style=\"fill:#1f77b4;stroke:#1f77b4;\" x=\"318.088911\" xlink:href=\"#m1372324b23\" y=\"143.813679\"/>\n     <use style=\"fill:#1f77b4;stroke:#1f77b4;\" x=\"313.300983\" xlink:href=\"#m1372324b23\" y=\"145.510961\"/>\n     <use style=\"fill:#1f77b4;stroke:#1f77b4;\" x=\"315.608573\" xlink:href=\"#m1372324b23\" y=\"144.057236\"/>\n     <use style=\"fill:#1f77b4;stroke:#1f77b4;\" x=\"315.452404\" xlink:href=\"#m1372324b23\" y=\"144.265852\"/>\n     <use style=\"fill:#1f77b4;stroke:#1f77b4;\" x=\"311.713639\" xlink:href=\"#m1372324b23\" y=\"145.286774\"/>\n     <use style=\"fill:#1f77b4;stroke:#1f77b4;\" x=\"297.54687\" xlink:href=\"#m1372324b23\" y=\"149.337542\"/>\n     <use style=\"fill:#1f77b4;stroke:#1f77b4;\" x=\"298.539497\" xlink:href=\"#m1372324b23\" y=\"149.867865\"/>\n     <use style=\"fill:#1f77b4;stroke:#1f77b4;\" x=\"289.244045\" xlink:href=\"#m1372324b23\" y=\"153.431688\"/>\n     <use style=\"fill:#1f77b4;stroke:#1f77b4;\" x=\"284.181075\" xlink:href=\"#m1372324b23\" y=\"153.350333\"/>\n     <use style=\"fill:#1f77b4;stroke:#1f77b4;\" x=\"300.424284\" xlink:href=\"#m1372324b23\" y=\"148.85638\"/>\n     <use style=\"fill:#1f77b4;stroke:#1f77b4;\" x=\"304.380578\" xlink:href=\"#m1372324b23\" y=\"148.285553\"/>\n     <use style=\"fill:#1f77b4;stroke:#1f77b4;\" x=\"304.272867\" xlink:href=\"#m1372324b23\" y=\"149.336623\"/>\n     <use style=\"fill:#1f77b4;stroke:#1f77b4;\" x=\"312.786586\" xlink:href=\"#m1372324b23\" y=\"143.971073\"/>\n     <use style=\"fill:#1f77b4;stroke:#1f77b4;\" x=\"318.31032\" xlink:href=\"#m1372324b23\" y=\"142.869407\"/>\n     <use style=\"fill:#1f77b4;stroke:#1f77b4;\" x=\"318.315716\" xlink:href=\"#m1372324b23\" y=\"139.845293\"/>\n     <use style=\"fill:#1f77b4;stroke:#1f77b4;\" x=\"319.153042\" xlink:href=\"#m1372324b23\" y=\"137.382012\"/>\n     <use style=\"fill:#1f77b4;stroke:#1f77b4;\" x=\"320.518036\" xlink:href=\"#m1372324b23\" y=\"130.443545\"/>\n     <use style=\"fill:#1f77b4;stroke:#1f77b4;\" x=\"312.094359\" xlink:href=\"#m1372324b23\" y=\"135.243567\"/>\n     <use style=\"fill:#1f77b4;stroke:#1f77b4;\" x=\"317.557399\" xlink:href=\"#m1372324b23\" y=\"132.538388\"/>\n     <use style=\"fill:#1f77b4;stroke:#1f77b4;\" x=\"318.973586\" xlink:href=\"#m1372324b23\" y=\"131.921075\"/>\n     <use style=\"fill:#1f77b4;stroke:#1f77b4;\" x=\"314.87857\" xlink:href=\"#m1372324b23\" y=\"131.482407\"/>\n     <use style=\"fill:#1f77b4;stroke:#1f77b4;\" x=\"304.737438\" xlink:href=\"#m1372324b23\" y=\"137.641222\"/>\n     <use style=\"fill:#1f77b4;stroke:#1f77b4;\" x=\"315.501177\" xlink:href=\"#m1372324b23\" y=\"132.728589\"/>\n     <use style=\"fill:#1f77b4;stroke:#1f77b4;\" x=\"315.127646\" xlink:href=\"#m1372324b23\" y=\"133.416999\"/>\n     <use style=\"fill:#1f77b4;stroke:#1f77b4;\" x=\"322.45276\" xlink:href=\"#m1372324b23\" y=\"130.748072\"/>\n     <use style=\"fill:#1f77b4;stroke:#1f77b4;\" x=\"324.400773\" xlink:href=\"#m1372324b23\" y=\"129.840155\"/>\n     <use style=\"fill:#1f77b4;stroke:#1f77b4;\" x=\"322.926923\" xlink:href=\"#m1372324b23\" y=\"130.60545\"/>\n     <use style=\"fill:#1f77b4;stroke:#1f77b4;\" x=\"340.006867\" xlink:href=\"#m1372324b23\" y=\"123.922626\"/>\n     <use style=\"fill:#1f77b4;stroke:#1f77b4;\" x=\"338.143869\" xlink:href=\"#m1372324b23\" y=\"118.239803\"/>\n     <use style=\"fill:#1f77b4;stroke:#1f77b4;\" x=\"339.110548\" xlink:href=\"#m1372324b23\" y=\"114.727217\"/>\n     <use style=\"fill:#1f77b4;stroke:#1f77b4;\" x=\"330.872334\" xlink:href=\"#m1372324b23\" y=\"118.371861\"/>\n     <use style=\"fill:#1f77b4;stroke:#1f77b4;\" x=\"326.666372\" xlink:href=\"#m1372324b23\" y=\"122.011563\"/>\n     <use style=\"fill:#1f77b4;stroke:#1f77b4;\" x=\"305.528727\" xlink:href=\"#m1372324b23\" y=\"126.517025\"/>\n     <use style=\"fill:#1f77b4;stroke:#1f77b4;\" x=\"303.201324\" xlink:href=\"#m1372324b23\" y=\"129.483435\"/>\n     <use style=\"fill:#1f77b4;stroke:#1f77b4;\" x=\"306.743945\" xlink:href=\"#m1372324b23\" y=\"122.625518\"/>\n     <use style=\"fill:#1f77b4;stroke:#1f77b4;\" x=\"294.599023\" xlink:href=\"#m1372324b23\" y=\"121.181337\"/>\n     <use style=\"fill:#1f77b4;stroke:#1f77b4;\" x=\"284.456025\" xlink:href=\"#m1372324b23\" y=\"119.559766\"/>\n     <use style=\"fill:#1f77b4;stroke:#1f77b4;\" x=\"281.292591\" xlink:href=\"#m1372324b23\" y=\"121.230069\"/>\n     <use style=\"fill:#1f77b4;stroke:#1f77b4;\" x=\"276.358881\" xlink:href=\"#m1372324b23\" y=\"127.583673\"/>\n     <use style=\"fill:#1f77b4;stroke:#1f77b4;\" x=\"271.407059\" xlink:href=\"#m1372324b23\" y=\"123.217199\"/>\n     <use style=\"fill:#1f77b4;stroke:#1f77b4;\" x=\"295.146263\" xlink:href=\"#m1372324b23\" y=\"114.084773\"/>\n     <use style=\"fill:#1f77b4;stroke:#1f77b4;\" x=\"299.931307\" xlink:href=\"#m1372324b23\" y=\"108.716941\"/>\n     <use style=\"fill:#1f77b4;stroke:#1f77b4;\" x=\"298.945241\" xlink:href=\"#m1372324b23\" y=\"105.225107\"/>\n     <use style=\"fill:#1f77b4;stroke:#1f77b4;\" x=\"292.938436\" xlink:href=\"#m1372324b23\" y=\"104.786225\"/>\n     <use style=\"fill:#1f77b4;stroke:#1f77b4;\" x=\"312.786475\" xlink:href=\"#m1372324b23\" y=\"104.10345\"/>\n     <use style=\"fill:#1f77b4;stroke:#1f77b4;\" x=\"313.154924\" xlink:href=\"#m1372324b23\" y=\"96.883301\"/>\n     <use style=\"fill:#1f77b4;stroke:#1f77b4;\" x=\"307.491709\" xlink:href=\"#m1372324b23\" y=\"96.625606\"/>\n     <use style=\"fill:#1f77b4;stroke:#1f77b4;\" x=\"310.184825\" xlink:href=\"#m1372324b23\" y=\"76.596927\"/>\n     <use style=\"fill:#1f77b4;stroke:#1f77b4;\" x=\"291.890125\" xlink:href=\"#m1372324b23\" y=\"84.016556\"/>\n     <use style=\"fill:#1f77b4;stroke:#1f77b4;\" x=\"311.243283\" xlink:href=\"#m1372324b23\" y=\"72.762991\"/>\n     <use style=\"fill:#1f77b4;stroke:#1f77b4;\" x=\"306.381928\" xlink:href=\"#m1372324b23\" y=\"74.096878\"/>\n     <use style=\"fill:#1f77b4;stroke:#1f77b4;\" x=\"310.923422\" xlink:href=\"#m1372324b23\" y=\"74.354072\"/>\n     <use style=\"fill:#1f77b4;stroke:#1f77b4;\" x=\"317.77136\" xlink:href=\"#m1372324b23\" y=\"56.880512\"/>\n     <use style=\"fill:#1f77b4;stroke:#1f77b4;\" x=\"315.067618\" xlink:href=\"#m1372324b23\" y=\"55.785191\"/>\n     <use style=\"fill:#1f77b4;stroke:#1f77b4;\" x=\"303.842561\" xlink:href=\"#m1372324b23\" y=\"54.804758\"/>\n     <use style=\"fill:#1f77b4;stroke:#1f77b4;\" x=\"307.83944\" xlink:href=\"#m1372324b23\" y=\"45.756576\"/>\n     <use style=\"fill:#1f77b4;stroke:#1f77b4;\" x=\"272.099157\" xlink:href=\"#m1372324b23\" y=\"61.763987\"/>\n     <use style=\"fill:#1f77b4;stroke:#1f77b4;\" x=\"274.775436\" xlink:href=\"#m1372324b23\" y=\"64.720026\"/>\n     <use style=\"fill:#1f77b4;stroke:#1f77b4;\" x=\"275.552992\" xlink:href=\"#m1372324b23\" y=\"49.504664\"/>\n     <use style=\"fill:#1f77b4;stroke:#1f77b4;\" x=\"260.78975\" xlink:href=\"#m1372324b23\" y=\"67.940569\"/>\n     <use style=\"fill:#1f77b4;stroke:#1f77b4;\" x=\"259.35083\" xlink:href=\"#m1372324b23\" y=\"70.056868\"/>\n     <use style=\"fill:#1f77b4;stroke:#1f77b4;\" x=\"245.542364\" xlink:href=\"#m1372324b23\" y=\"82.813727\"/>\n     <use style=\"fill:#1f77b4;stroke:#1f77b4;\" x=\"242.570602\" xlink:href=\"#m1372324b23\" y=\"78.729957\"/>\n     <use style=\"fill:#1f77b4;stroke:#1f77b4;\" x=\"214.623109\" xlink:href=\"#m1372324b23\" y=\"117.170522\"/>\n     <use style=\"fill:#1f77b4;stroke:#1f77b4;\" x=\"232.508756\" xlink:href=\"#m1372324b23\" y=\"103.639886\"/>\n     <use style=\"fill:#1f77b4;stroke:#1f77b4;\" x=\"216.053138\" xlink:href=\"#m1372324b23\" y=\"118.427268\"/>\n     <use style=\"fill:#1f77b4;stroke:#1f77b4;\" x=\"217.150518\" xlink:href=\"#m1372324b23\" y=\"124.068219\"/>\n     <use style=\"fill:#1f77b4;stroke:#1f77b4;\" x=\"204.063554\" xlink:href=\"#m1372324b23\" y=\"131.850304\"/>\n     <use style=\"fill:#1f77b4;stroke:#1f77b4;\" x=\"222.683031\" xlink:href=\"#m1372324b23\" y=\"109.522811\"/>\n     <use style=\"fill:#1f77b4;stroke:#1f77b4;\" x=\"221.245867\" xlink:href=\"#m1372324b23\" y=\"106.887142\"/>\n     <use style=\"fill:#1f77b4;stroke:#1f77b4;\" x=\"225.466059\" xlink:href=\"#m1372324b23\" y=\"99.274637\"/>\n     <use style=\"fill:#1f77b4;stroke:#1f77b4;\" x=\"221.410261\" xlink:href=\"#m1372324b23\" y=\"105.638684\"/>\n     <use style=\"fill:#1f77b4;stroke:#1f77b4;\" x=\"208.449563\" xlink:href=\"#m1372324b23\" y=\"118.875276\"/>\n     <use style=\"fill:#1f77b4;stroke:#1f77b4;\" x=\"203.332497\" xlink:href=\"#m1372324b23\" y=\"124.745196\"/>\n     <use style=\"fill:#1f77b4;stroke:#1f77b4;\" x=\"208.357414\" xlink:href=\"#m1372324b23\" y=\"120.112913\"/>\n     <use style=\"fill:#1f77b4;stroke:#1f77b4;\" x=\"216.186391\" xlink:href=\"#m1372324b23\" y=\"106.539425\"/>\n     <use style=\"fill:#1f77b4;stroke:#1f77b4;\" x=\"213.120853\" xlink:href=\"#m1372324b23\" y=\"109.943962\"/>\n     <use style=\"fill:#1f77b4;stroke:#1f77b4;\" x=\"217.332895\" xlink:href=\"#m1372324b23\" y=\"106.90821\"/>\n     <use style=\"fill:#1f77b4;stroke:#1f77b4;\" x=\"225.061849\" xlink:href=\"#m1372324b23\" y=\"100.678324\"/>\n     <use style=\"fill:#1f77b4;stroke:#1f77b4;\" x=\"214.111964\" xlink:href=\"#m1372324b23\" y=\"107.657877\"/>\n     <use style=\"fill:#1f77b4;stroke:#1f77b4;\" x=\"207.760459\" xlink:href=\"#m1372324b23\" y=\"110.066945\"/>\n     <use style=\"fill:#1f77b4;stroke:#1f77b4;\" x=\"209.229152\" xlink:href=\"#m1372324b23\" y=\"106.53326\"/>\n     <use style=\"fill:#1f77b4;stroke:#1f77b4;\" x=\"198.339295\" xlink:href=\"#m1372324b23\" y=\"111.752498\"/>\n     <use style=\"fill:#1f77b4;stroke:#1f77b4;\" x=\"197.922592\" xlink:href=\"#m1372324b23\" y=\"114.797355\"/>\n     <use style=\"fill:#1f77b4;stroke:#1f77b4;\" x=\"216.244423\" xlink:href=\"#m1372324b23\" y=\"110.999738\"/>\n     <use style=\"fill:#1f77b4;stroke:#1f77b4;\" x=\"213.204464\" xlink:href=\"#m1372324b23\" y=\"116.717318\"/>\n     <use style=\"fill:#1f77b4;stroke:#1f77b4;\" x=\"216.193691\" xlink:href=\"#m1372324b23\" y=\"121.640542\"/>\n     <use style=\"fill:#1f77b4;stroke:#1f77b4;\" x=\"207.763102\" xlink:href=\"#m1372324b23\" y=\"120.858027\"/>\n     <use style=\"fill:#1f77b4;stroke:#1f77b4;\" x=\"224.53712\" xlink:href=\"#m1372324b23\" y=\"115.175623\"/>\n     <use style=\"fill:#1f77b4;stroke:#1f77b4;\" x=\"229.839075\" xlink:href=\"#m1372324b23\" y=\"113.942222\"/>\n     <use style=\"fill:#1f77b4;stroke:#1f77b4;\" x=\"230.727577\" xlink:href=\"#m1372324b23\" y=\"110.888117\"/>\n     <use style=\"fill:#1f77b4;stroke:#1f77b4;\" x=\"220.984889\" xlink:href=\"#m1372324b23\" y=\"121.059589\"/>\n     <use style=\"fill:#1f77b4;stroke:#1f77b4;\" x=\"219.595981\" xlink:href=\"#m1372324b23\" y=\"120.878198\"/>\n     <use style=\"fill:#1f77b4;stroke:#1f77b4;\" x=\"208.873678\" xlink:href=\"#m1372324b23\" y=\"126.742963\"/>\n     <use style=\"fill:#1f77b4;stroke:#1f77b4;\" x=\"208.062855\" xlink:href=\"#m1372324b23\" y=\"128.968731\"/>\n     <use style=\"fill:#1f77b4;stroke:#1f77b4;\" x=\"208.452834\" xlink:href=\"#m1372324b23\" y=\"126.131213\"/>\n     <use style=\"fill:#1f77b4;stroke:#1f77b4;\" x=\"189.425497\" xlink:href=\"#m1372324b23\" y=\"141.096047\"/>\n     <use style=\"fill:#1f77b4;stroke:#1f77b4;\" x=\"193.347572\" xlink:href=\"#m1372324b23\" y=\"141.660387\"/>\n     <use style=\"fill:#1f77b4;stroke:#1f77b4;\" x=\"199.107278\" xlink:href=\"#m1372324b23\" y=\"136.86107\"/>\n     <use style=\"fill:#1f77b4;stroke:#1f77b4;\" x=\"203.551892\" xlink:href=\"#m1372324b23\" y=\"136.914589\"/>\n     <use style=\"fill:#1f77b4;stroke:#1f77b4;\" x=\"189.241383\" xlink:href=\"#m1372324b23\" y=\"144.241491\"/>\n     <use style=\"fill:#1f77b4;stroke:#1f77b4;\" x=\"191.836482\" xlink:href=\"#m1372324b23\" y=\"143.571598\"/>\n     <use style=\"fill:#1f77b4;stroke:#1f77b4;\" x=\"203.491365\" xlink:href=\"#m1372324b23\" y=\"137.31437\"/>\n     <use style=\"fill:#1f77b4;stroke:#1f77b4;\" x=\"202.472679\" xlink:href=\"#m1372324b23\" y=\"133.101385\"/>\n     <use style=\"fill:#1f77b4;stroke:#1f77b4;\" x=\"209.254694\" xlink:href=\"#m1372324b23\" y=\"129.710068\"/>\n     <use style=\"fill:#1f77b4;stroke:#1f77b4;\" x=\"205.342202\" xlink:href=\"#m1372324b23\" y=\"124.952852\"/>\n     <use style=\"fill:#1f77b4;stroke:#1f77b4;\" x=\"198.39328\" xlink:href=\"#m1372324b23\" y=\"131.681989\"/>\n     <use style=\"fill:#1f77b4;stroke:#1f77b4;\" x=\"199.930614\" xlink:href=\"#m1372324b23\" y=\"130.158616\"/>\n     <use style=\"fill:#1f77b4;stroke:#1f77b4;\" x=\"203.580797\" xlink:href=\"#m1372324b23\" y=\"126.977894\"/>\n     <use style=\"fill:#1f77b4;stroke:#1f77b4;\" x=\"206.510569\" xlink:href=\"#m1372324b23\" y=\"122.980359\"/>\n     <use style=\"fill:#1f77b4;stroke:#1f77b4;\" x=\"199.215987\" xlink:href=\"#m1372324b23\" y=\"128.129021\"/>\n     <use style=\"fill:#1f77b4;stroke:#1f77b4;\" x=\"201.530489\" xlink:href=\"#m1372324b23\" y=\"122.856795\"/>\n     <use style=\"fill:#1f77b4;stroke:#1f77b4;\" x=\"199.733231\" xlink:href=\"#m1372324b23\" y=\"123.254733\"/>\n     <use style=\"fill:#1f77b4;stroke:#1f77b4;\" x=\"195.106241\" xlink:href=\"#m1372324b23\" y=\"131.413525\"/>\n     <use style=\"fill:#1f77b4;stroke:#1f77b4;\" x=\"199.462051\" xlink:href=\"#m1372324b23\" y=\"130.298595\"/>\n     <use style=\"fill:#1f77b4;stroke:#1f77b4;\" x=\"198.149157\" xlink:href=\"#m1372324b23\" y=\"131.774052\"/>\n     <use style=\"fill:#1f77b4;stroke:#1f77b4;\" x=\"201.554109\" xlink:href=\"#m1372324b23\" y=\"130.592425\"/>\n     <use style=\"fill:#1f77b4;stroke:#1f77b4;\" x=\"196.423792\" xlink:href=\"#m1372324b23\" y=\"134.896595\"/>\n     <use style=\"fill:#1f77b4;stroke:#1f77b4;\" x=\"194.276631\" xlink:href=\"#m1372324b23\" y=\"138.937079\"/>\n     <use style=\"fill:#1f77b4;stroke:#1f77b4;\" x=\"194.84591\" xlink:href=\"#m1372324b23\" y=\"136.66895\"/>\n     <use style=\"fill:#1f77b4;stroke:#1f77b4;\" x=\"189.917726\" xlink:href=\"#m1372324b23\" y=\"140.145763\"/>\n     <use style=\"fill:#1f77b4;stroke:#1f77b4;\" x=\"188.21829\" xlink:href=\"#m1372324b23\" y=\"141.433234\"/>\n     <use style=\"fill:#1f77b4;stroke:#1f77b4;\" x=\"188.745967\" xlink:href=\"#m1372324b23\" y=\"140.662147\"/>\n     <use style=\"fill:#1f77b4;stroke:#1f77b4;\" x=\"189.993805\" xlink:href=\"#m1372324b23\" y=\"140.798997\"/>\n     <use style=\"fill:#1f77b4;stroke:#1f77b4;\" x=\"185.361982\" xlink:href=\"#m1372324b23\" y=\"144.07093\"/>\n     <use style=\"fill:#1f77b4;stroke:#1f77b4;\" x=\"180.581097\" xlink:href=\"#m1372324b23\" y=\"145.316305\"/>\n     <use style=\"fill:#1f77b4;stroke:#1f77b4;\" x=\"191.478873\" xlink:href=\"#m1372324b23\" y=\"136.809454\"/>\n     <use style=\"fill:#1f77b4;stroke:#1f77b4;\" x=\"192.436542\" xlink:href=\"#m1372324b23\" y=\"135.378186\"/>\n     <use style=\"fill:#1f77b4;stroke:#1f77b4;\" x=\"198.437913\" xlink:href=\"#m1372324b23\" y=\"131.214913\"/>\n     <use style=\"fill:#1f77b4;stroke:#1f77b4;\" x=\"201.801355\" xlink:href=\"#m1372324b23\" y=\"128.520529\"/>\n     <use style=\"fill:#1f77b4;stroke:#1f77b4;\" x=\"206.805831\" xlink:href=\"#m1372324b23\" y=\"128.430425\"/>\n     <use style=\"fill:#1f77b4;stroke:#1f77b4;\" x=\"216.208531\" xlink:href=\"#m1372324b23\" y=\"126.674663\"/>\n     <use style=\"fill:#1f77b4;stroke:#1f77b4;\" x=\"225.999474\" xlink:href=\"#m1372324b23\" y=\"123.958343\"/>\n     <use style=\"fill:#1f77b4;stroke:#1f77b4;\" x=\"228.786033\" xlink:href=\"#m1372324b23\" y=\"124.033104\"/>\n     <use style=\"fill:#1f77b4;stroke:#1f77b4;\" x=\"228.845248\" xlink:href=\"#m1372324b23\" y=\"120.503788\"/>\n     <use style=\"fill:#1f77b4;stroke:#1f77b4;\" x=\"239.382402\" xlink:href=\"#m1372324b23\" y=\"116.907856\"/>\n     <use style=\"fill:#1f77b4;stroke:#1f77b4;\" x=\"236.499389\" xlink:href=\"#m1372324b23\" y=\"114.012512\"/>\n     <use style=\"fill:#1f77b4;stroke:#1f77b4;\" x=\"228.68662\" xlink:href=\"#m1372324b23\" y=\"112.940393\"/>\n     <use style=\"fill:#1f77b4;stroke:#1f77b4;\" x=\"225.02958\" xlink:href=\"#m1372324b23\" y=\"110.920873\"/>\n     <use style=\"fill:#1f77b4;stroke:#1f77b4;\" x=\"220.066633\" xlink:href=\"#m1372324b23\" y=\"115.428244\"/>\n     <use style=\"fill:#1f77b4;stroke:#1f77b4;\" x=\"227.610771\" xlink:href=\"#m1372324b23\" y=\"106.134923\"/>\n     <use style=\"fill:#1f77b4;stroke:#1f77b4;\" x=\"232.919509\" xlink:href=\"#m1372324b23\" y=\"101.840567\"/>\n     <use style=\"fill:#1f77b4;stroke:#1f77b4;\" x=\"242.131055\" xlink:href=\"#m1372324b23\" y=\"99.180859\"/>\n     <use style=\"fill:#1f77b4;stroke:#1f77b4;\" x=\"250.360176\" xlink:href=\"#m1372324b23\" y=\"88.046735\"/>\n     <use style=\"fill:#1f77b4;stroke:#1f77b4;\" x=\"246.775362\" xlink:href=\"#m1372324b23\" y=\"94.046855\"/>\n     <use style=\"fill:#1f77b4;stroke:#1f77b4;\" x=\"258.92191\" xlink:href=\"#m1372324b23\" y=\"87.602811\"/>\n     <use style=\"fill:#1f77b4;stroke:#1f77b4;\" x=\"255.229755\" xlink:href=\"#m1372324b23\" y=\"88.696795\"/>\n     <use style=\"fill:#1f77b4;stroke:#1f77b4;\" x=\"255.27047\" xlink:href=\"#m1372324b23\" y=\"87.753793\"/>\n     <use style=\"fill:#1f77b4;stroke:#1f77b4;\" x=\"249.756882\" xlink:href=\"#m1372324b23\" y=\"92.805839\"/>\n     <use style=\"fill:#1f77b4;stroke:#1f77b4;\" x=\"265.677792\" xlink:href=\"#m1372324b23\" y=\"81.149069\"/>\n     <use style=\"fill:#1f77b4;stroke:#1f77b4;\" x=\"262.383046\" xlink:href=\"#m1372324b23\" y=\"83.522603\"/>\n     <use style=\"fill:#1f77b4;stroke:#1f77b4;\" x=\"262.146759\" xlink:href=\"#m1372324b23\" y=\"81.638571\"/>\n     <use style=\"fill:#1f77b4;stroke:#1f77b4;\" x=\"257.214306\" xlink:href=\"#m1372324b23\" y=\"88.077226\"/>\n     <use style=\"fill:#1f77b4;stroke:#1f77b4;\" x=\"251.020467\" xlink:href=\"#m1372324b23\" y=\"94.000308\"/>\n     <use style=\"fill:#1f77b4;stroke:#1f77b4;\" x=\"251.52117\" xlink:href=\"#m1372324b23\" y=\"93.781056\"/>\n     <use style=\"fill:#1f77b4;stroke:#1f77b4;\" x=\"260.588153\" xlink:href=\"#m1372324b23\" y=\"86.982088\"/>\n     <use style=\"fill:#1f77b4;stroke:#1f77b4;\" x=\"272.991669\" xlink:href=\"#m1372324b23\" y=\"82.624006\"/>\n     <use style=\"fill:#1f77b4;stroke:#1f77b4;\" x=\"270.93979\" xlink:href=\"#m1372324b23\" y=\"85.168254\"/>\n     <use style=\"fill:#1f77b4;stroke:#1f77b4;\" x=\"272.90876\" xlink:href=\"#m1372324b23\" y=\"84.497963\"/>\n     <use style=\"fill:#1f77b4;stroke:#1f77b4;\" x=\"273.970914\" xlink:href=\"#m1372324b23\" y=\"81.272593\"/>\n     <use style=\"fill:#1f77b4;stroke:#1f77b4;\" x=\"265.265209\" xlink:href=\"#m1372324b23\" y=\"87.410476\"/>\n     <use style=\"fill:#1f77b4;stroke:#1f77b4;\" x=\"271.201415\" xlink:href=\"#m1372324b23\" y=\"85.217119\"/>\n     <use style=\"fill:#1f77b4;stroke:#1f77b4;\" x=\"261.650991\" xlink:href=\"#m1372324b23\" y=\"90.426333\"/>\n     <use style=\"fill:#1f77b4;stroke:#1f77b4;\" x=\"271.664507\" xlink:href=\"#m1372324b23\" y=\"83.306965\"/>\n     <use style=\"fill:#1f77b4;stroke:#1f77b4;\" x=\"270.925171\" xlink:href=\"#m1372324b23\" y=\"84.402306\"/>\n     <use style=\"fill:#1f77b4;stroke:#1f77b4;\" x=\"270.58182\" xlink:href=\"#m1372324b23\" y=\"85.129843\"/>\n     <use style=\"fill:#1f77b4;stroke:#1f77b4;\" x=\"262.184517\" xlink:href=\"#m1372324b23\" y=\"85.239739\"/>\n     <use style=\"fill:#1f77b4;stroke:#1f77b4;\" x=\"262.713016\" xlink:href=\"#m1372324b23\" y=\"76.486275\"/>\n     <use style=\"fill:#1f77b4;stroke:#1f77b4;\" x=\"270.663176\" xlink:href=\"#m1372324b23\" y=\"59.71611\"/>\n     <use style=\"fill:#1f77b4;stroke:#1f77b4;\" x=\"272.937481\" xlink:href=\"#m1372324b23\" y=\"61.549022\"/>\n     <use style=\"fill:#1f77b4;stroke:#1f77b4;\" x=\"276.23827\" xlink:href=\"#m1372324b23\" y=\"55.293076\"/>\n     <use style=\"fill:#1f77b4;stroke:#1f77b4;\" x=\"275.856219\" xlink:href=\"#m1372324b23\" y=\"57.500122\"/>\n     <use style=\"fill:#1f77b4;stroke:#1f77b4;\" x=\"284.41409\" xlink:href=\"#m1372324b23\" y=\"54.811464\"/>\n     <use style=\"fill:#1f77b4;stroke:#1f77b4;\" x=\"288.578209\" xlink:href=\"#m1372324b23\" y=\"55.804647\"/>\n     <use style=\"fill:#1f77b4;stroke:#1f77b4;\" x=\"261.030768\" xlink:href=\"#m1372324b23\" y=\"76.793099\"/>\n     <use style=\"fill:#1f77b4;stroke:#1f77b4;\" x=\"257.625484\" xlink:href=\"#m1372324b23\" y=\"73.827832\"/>\n     <use style=\"fill:#1f77b4;stroke:#1f77b4;\" x=\"259.045016\" xlink:href=\"#m1372324b23\" y=\"76.753554\"/>\n     <use style=\"fill:#1f77b4;stroke:#1f77b4;\" x=\"251.912554\" xlink:href=\"#m1372324b23\" y=\"85.777779\"/>\n     <use style=\"fill:#1f77b4;stroke:#1f77b4;\" x=\"253.414957\" xlink:href=\"#m1372324b23\" y=\"83.320459\"/>\n     <use style=\"fill:#1f77b4;stroke:#1f77b4;\" x=\"257.492435\" xlink:href=\"#m1372324b23\" y=\"77.472935\"/>\n     <use style=\"fill:#1f77b4;stroke:#1f77b4;\" x=\"252.287101\" xlink:href=\"#m1372324b23\" y=\"82.683527\"/>\n     <use style=\"fill:#1f77b4;stroke:#1f77b4;\" x=\"262.361977\" xlink:href=\"#m1372324b23\" y=\"76.677058\"/>\n     <use style=\"fill:#1f77b4;stroke:#1f77b4;\" x=\"267.490002\" xlink:href=\"#m1372324b23\" y=\"68.895503\"/>\n     <use style=\"fill:#1f77b4;stroke:#1f77b4;\" x=\"265.630664\" xlink:href=\"#m1372324b23\" y=\"70.734672\"/>\n     <use style=\"fill:#1f77b4;stroke:#1f77b4;\" x=\"263.19008\" xlink:href=\"#m1372324b23\" y=\"77.957762\"/>\n     <use style=\"fill:#1f77b4;stroke:#1f77b4;\" x=\"267.972666\" xlink:href=\"#m1372324b23\" y=\"76.557954\"/>\n     <use style=\"fill:#1f77b4;stroke:#1f77b4;\" x=\"263.155538\" xlink:href=\"#m1372324b23\" y=\"80.846511\"/>\n     <use style=\"fill:#1f77b4;stroke:#1f77b4;\" x=\"242.260223\" xlink:href=\"#m1372324b23\" y=\"96.335553\"/>\n     <use style=\"fill:#1f77b4;stroke:#1f77b4;\" x=\"232.087377\" xlink:href=\"#m1372324b23\" y=\"104.470377\"/>\n     <use style=\"fill:#1f77b4;stroke:#1f77b4;\" x=\"245.717403\" xlink:href=\"#m1372324b23\" y=\"91.365302\"/>\n     <use style=\"fill:#1f77b4;stroke:#1f77b4;\" x=\"251.965485\" xlink:href=\"#m1372324b23\" y=\"88.118444\"/>\n     <use style=\"fill:#1f77b4;stroke:#1f77b4;\" x=\"242.241057\" xlink:href=\"#m1372324b23\" y=\"97.478004\"/>\n     <use style=\"fill:#1f77b4;stroke:#1f77b4;\" x=\"241.65837\" xlink:href=\"#m1372324b23\" y=\"97.733197\"/>\n     <use style=\"fill:#1f77b4;stroke:#1f77b4;\" x=\"243.985902\" xlink:href=\"#m1372324b23\" y=\"92.017659\"/>\n     <use style=\"fill:#1f77b4;stroke:#1f77b4;\" x=\"239.383271\" xlink:href=\"#m1372324b23\" y=\"97.374742\"/>\n     <use style=\"fill:#1f77b4;stroke:#1f77b4;\" x=\"233.700115\" xlink:href=\"#m1372324b23\" y=\"102.678133\"/>\n     <use style=\"fill:#1f77b4;stroke:#1f77b4;\" x=\"236.206844\" xlink:href=\"#m1372324b23\" y=\"100.761242\"/>\n     <use style=\"fill:#1f77b4;stroke:#1f77b4;\" x=\"246.74119\" xlink:href=\"#m1372324b23\" y=\"94.550832\"/>\n     <use style=\"fill:#1f77b4;stroke:#1f77b4;\" x=\"267.208934\" xlink:href=\"#m1372324b23\" y=\"81.763503\"/>\n     <use style=\"fill:#1f77b4;stroke:#1f77b4;\" x=\"265.290621\" xlink:href=\"#m1372324b23\" y=\"78.243936\"/>\n     <use style=\"fill:#1f77b4;stroke:#1f77b4;\" x=\"267.601686\" xlink:href=\"#m1372324b23\" y=\"77.129077\"/>\n     <use style=\"fill:#1f77b4;stroke:#1f77b4;\" x=\"271.921105\" xlink:href=\"#m1372324b23\" y=\"78.72916\"/>\n     <use style=\"fill:#1f77b4;stroke:#1f77b4;\" x=\"283.285218\" xlink:href=\"#m1372324b23\" y=\"72.9413\"/>\n     <use style=\"fill:#1f77b4;stroke:#1f77b4;\" x=\"301.484738\" xlink:href=\"#m1372324b23\" y=\"70.347207\"/>\n     <use style=\"fill:#1f77b4;stroke:#1f77b4;\" x=\"294.125396\" xlink:href=\"#m1372324b23\" y=\"70.037269\"/>\n     <use style=\"fill:#1f77b4;stroke:#1f77b4;\" x=\"294.891217\" xlink:href=\"#m1372324b23\" y=\"71.049744\"/>\n     <use style=\"fill:#1f77b4;stroke:#1f77b4;\" x=\"299.624272\" xlink:href=\"#m1372324b23\" y=\"70.54979\"/>\n     <use style=\"fill:#1f77b4;stroke:#1f77b4;\" x=\"298.693892\" xlink:href=\"#m1372324b23\" y=\"76.81574\"/>\n     <use style=\"fill:#1f77b4;stroke:#1f77b4;\" x=\"311.530856\" xlink:href=\"#m1372324b23\" y=\"71.819286\"/>\n     <use style=\"fill:#1f77b4;stroke:#1f77b4;\" x=\"304.700161\" xlink:href=\"#m1372324b23\" y=\"74.026097\"/>\n     <use style=\"fill:#1f77b4;stroke:#1f77b4;\" x=\"311.134888\" xlink:href=\"#m1372324b23\" y=\"69.27519\"/>\n     <use style=\"fill:#1f77b4;stroke:#1f77b4;\" x=\"310.7584\" xlink:href=\"#m1372324b23\" y=\"61.757066\"/>\n     <use style=\"fill:#1f77b4;stroke:#1f77b4;\" x=\"330.972448\" xlink:href=\"#m1372324b23\" y=\"58.55349\"/>\n     <use style=\"fill:#1f77b4;stroke:#1f77b4;\" x=\"327.652179\" xlink:href=\"#m1372324b23\" y=\"59.902004\"/>\n     <use style=\"fill:#1f77b4;stroke:#1f77b4;\" x=\"330.781626\" xlink:href=\"#m1372324b23\" y=\"59.202824\"/>\n     <use style=\"fill:#1f77b4;stroke:#1f77b4;\" x=\"333.016972\" xlink:href=\"#m1372324b23\" y=\"63.314686\"/>\n     <use style=\"fill:#1f77b4;stroke:#1f77b4;\" x=\"343.59571\" xlink:href=\"#m1372324b23\" y=\"57.925652\"/>\n     <use style=\"fill:#1f77b4;stroke:#1f77b4;\" x=\"351.784818\" xlink:href=\"#m1372324b23\" y=\"46.28795\"/>\n     <use style=\"fill:#1f77b4;stroke:#1f77b4;\" x=\"333.887971\" xlink:href=\"#m1372324b23\" y=\"50.538841\"/>\n     <use style=\"fill:#1f77b4;stroke:#1f77b4;\" x=\"326.70633\" xlink:href=\"#m1372324b23\" y=\"54.056847\"/>\n     <use style=\"fill:#1f77b4;stroke:#1f77b4;\" x=\"330.024621\" xlink:href=\"#m1372324b23\" y=\"45.632715\"/>\n     <use style=\"fill:#1f77b4;stroke:#1f77b4;\" x=\"327.835073\" xlink:href=\"#m1372324b23\" y=\"49.134817\"/>\n     <use style=\"fill:#1f77b4;stroke:#1f77b4;\" x=\"337.81329\" xlink:href=\"#m1372324b23\" y=\"43.700492\"/>\n     <use style=\"fill:#1f77b4;stroke:#1f77b4;\" x=\"325.152233\" xlink:href=\"#m1372324b23\" y=\"47.328629\"/>\n     <use style=\"fill:#1f77b4;stroke:#1f77b4;\" x=\"316.250771\" xlink:href=\"#m1372324b23\" y=\"55.726129\"/>\n     <use style=\"fill:#1f77b4;stroke:#1f77b4;\" x=\"326.37453\" xlink:href=\"#m1372324b23\" y=\"40.797063\"/>\n     <use style=\"fill:#1f77b4;stroke:#1f77b4;\" x=\"333.972154\" xlink:href=\"#m1372324b23\" y=\"35.469194\"/>\n     <use style=\"fill:#1f77b4;stroke:#1f77b4;\" x=\"332.367622\" xlink:href=\"#m1372324b23\" y=\"39.194387\"/>\n     <use style=\"fill:#1f77b4;stroke:#1f77b4;\" x=\"329.671383\" xlink:href=\"#m1372324b23\" y=\"40.765481\"/>\n     <use style=\"fill:#1f77b4;stroke:#1f77b4;\" x=\"328.183155\" xlink:href=\"#m1372324b23\" y=\"39.237178\"/>\n     <use style=\"fill:#1f77b4;stroke:#1f77b4;\" x=\"338.696043\" xlink:href=\"#m1372324b23\" y=\"28.359156\"/>\n     <use style=\"fill:#1f77b4;stroke:#1f77b4;\" x=\"337.483153\" xlink:href=\"#m1372324b23\" y=\"27.4228\"/>\n     <use style=\"fill:#1f77b4;stroke:#1f77b4;\" x=\"330.301937\" xlink:href=\"#m1372324b23\" y=\"30.344112\"/>\n     <use style=\"fill:#1f77b4;stroke:#1f77b4;\" x=\"328.756915\" xlink:href=\"#m1372324b23\" y=\"32.479857\"/>\n     <use style=\"fill:#1f77b4;stroke:#1f77b4;\" x=\"330.657966\" xlink:href=\"#m1372324b23\" y=\"31.002348\"/>\n     <use style=\"fill:#1f77b4;stroke:#1f77b4;\" x=\"339.171943\" xlink:href=\"#m1372324b23\" y=\"26.864171\"/>\n     <use style=\"fill:#1f77b4;stroke:#1f77b4;\" x=\"359.231818\" xlink:href=\"#m1372324b23\" y=\"18.856015\"/>\n     <use style=\"fill:#1f77b4;stroke:#1f77b4;\" x=\"356.416706\" xlink:href=\"#m1372324b23\" y=\"22.07623\"/>\n     <use style=\"fill:#1f77b4;stroke:#1f77b4;\" x=\"347.064866\" xlink:href=\"#m1372324b23\" y=\"26.2111\"/>\n     <use style=\"fill:#1f77b4;stroke:#1f77b4;\" x=\"346.850684\" xlink:href=\"#m1372324b23\" y=\"22.272096\"/>\n     <use style=\"fill:#1f77b4;stroke:#1f77b4;\" x=\"343.093954\" xlink:href=\"#m1372324b23\" y=\"24.917432\"/>\n     <use style=\"fill:#1f77b4;stroke:#1f77b4;\" x=\"344.577617\" xlink:href=\"#m1372324b23\" y=\"25.571973\"/>\n     <use style=\"fill:#1f77b4;stroke:#1f77b4;\" x=\"349.296183\" xlink:href=\"#m1372324b23\" y=\"26.621492\"/>\n     <use style=\"fill:#1f77b4;stroke:#1f77b4;\" x=\"340.264315\" xlink:href=\"#m1372324b23\" y=\"29.500381\"/>\n     <use style=\"fill:#1f77b4;stroke:#1f77b4;\" x=\"324.193927\" xlink:href=\"#m1372324b23\" y=\"43.763698\"/>\n     <use style=\"fill:#1f77b4;stroke:#1f77b4;\" x=\"325.172193\" xlink:href=\"#m1372324b23\" y=\"40.785569\"/>\n     <use style=\"fill:#1f77b4;stroke:#1f77b4;\" x=\"308.963415\" xlink:href=\"#m1372324b23\" y=\"52.782911\"/>\n     <use style=\"fill:#1f77b4;stroke:#1f77b4;\" x=\"314.534221\" xlink:href=\"#m1372324b23\" y=\"40.337654\"/>\n     <use style=\"fill:#1f77b4;stroke:#1f77b4;\" x=\"321.998372\" xlink:href=\"#m1372324b23\" y=\"35.670532\"/>\n     <use style=\"fill:#1f77b4;stroke:#1f77b4;\" x=\"317.424554\" xlink:href=\"#m1372324b23\" y=\"41.532347\"/>\n     <use style=\"fill:#1f77b4;stroke:#1f77b4;\" x=\"305.874609\" xlink:href=\"#m1372324b23\" y=\"49.111625\"/>\n     <use style=\"fill:#1f77b4;stroke:#1f77b4;\" x=\"311.929633\" xlink:href=\"#m1372324b23\" y=\"38.562487\"/>\n     <use style=\"fill:#1f77b4;stroke:#1f77b4;\" x=\"305.832675\" xlink:href=\"#m1372324b23\" y=\"42.776283\"/>\n     <use style=\"fill:#1f77b4;stroke:#1f77b4;\" x=\"310.536769\" xlink:href=\"#m1372324b23\" y=\"41.322864\"/>\n     <use style=\"fill:#1f77b4;stroke:#1f77b4;\" x=\"293.007779\" xlink:href=\"#m1372324b23\" y=\"51.517794\"/>\n     <use style=\"fill:#1f77b4;stroke:#1f77b4;\" x=\"298.899703\" xlink:href=\"#m1372324b23\" y=\"48.758142\"/>\n     <use style=\"fill:#1f77b4;stroke:#1f77b4;\" x=\"310.412703\" xlink:href=\"#m1372324b23\" y=\"40.498752\"/>\n     <use style=\"fill:#1f77b4;stroke:#1f77b4;\" x=\"313.053275\" xlink:href=\"#m1372324b23\" y=\"34.199882\"/>\n     <use style=\"fill:#1f77b4;stroke:#1f77b4;\" x=\"309.262853\" xlink:href=\"#m1372324b23\" y=\"26.407415\"/>\n     <use style=\"fill:#1f77b4;stroke:#1f77b4;\" x=\"310.324564\" xlink:href=\"#m1372324b23\" y=\"28.267531\"/>\n     <use style=\"fill:#1f77b4;stroke:#1f77b4;\" x=\"306.766585\" xlink:href=\"#m1372324b23\" y=\"31.432115\"/>\n     <use style=\"fill:#1f77b4;stroke:#1f77b4;\" x=\"293.142528\" xlink:href=\"#m1372324b23\" y=\"43.582205\"/>\n     <use style=\"fill:#1f77b4;stroke:#1f77b4;\" x=\"272.336516\" xlink:href=\"#m1372324b23\" y=\"47.810067\"/>\n     <use style=\"fill:#1f77b4;stroke:#1f77b4;\" x=\"273.132055\" xlink:href=\"#m1372324b23\" y=\"44.518071\"/>\n     <use style=\"fill:#1f77b4;stroke:#1f77b4;\" x=\"278.874777\" xlink:href=\"#m1372324b23\" y=\"37.810993\"/>\n     <use style=\"fill:#1f77b4;stroke:#1f77b4;\" x=\"279.430517\" xlink:href=\"#m1372324b23\" y=\"39.637117\"/>\n     <use style=\"fill:#1f77b4;stroke:#1f77b4;\" x=\"278.50655\" xlink:href=\"#m1372324b23\" y=\"34.440172\"/>\n     <use style=\"fill:#1f77b4;stroke:#1f77b4;\" x=\"265.104364\" xlink:href=\"#m1372324b23\" y=\"47.800513\"/>\n     <use style=\"fill:#1f77b4;stroke:#1f77b4;\" x=\"263.075513\" xlink:href=\"#m1372324b23\" y=\"56.635986\"/>\n     <use style=\"fill:#1f77b4;stroke:#1f77b4;\" x=\"273.102059\" xlink:href=\"#m1372324b23\" y=\"49.279094\"/>\n     <use style=\"fill:#1f77b4;stroke:#1f77b4;\" x=\"276.583469\" xlink:href=\"#m1372324b23\" y=\"47.188518\"/>\n     <use style=\"fill:#1f77b4;stroke:#1f77b4;\" x=\"260.682316\" xlink:href=\"#m1372324b23\" y=\"61.831797\"/>\n     <use style=\"fill:#1f77b4;stroke:#1f77b4;\" x=\"260.091627\" xlink:href=\"#m1372324b23\" y=\"63.453491\"/>\n     <use style=\"fill:#1f77b4;stroke:#1f77b4;\" x=\"270.898298\" xlink:href=\"#m1372324b23\" y=\"52.041278\"/>\n     <use style=\"fill:#1f77b4;stroke:#1f77b4;\" x=\"265.072687\" xlink:href=\"#m1372324b23\" y=\"54.379299\"/>\n     <use style=\"fill:#1f77b4;stroke:#1f77b4;\" x=\"258.149491\" xlink:href=\"#m1372324b23\" y=\"57.8489\"/>\n     <use style=\"fill:#1f77b4;stroke:#1f77b4;\" x=\"261.208893\" xlink:href=\"#m1372324b23\" y=\"54.446599\"/>\n     <use style=\"fill:#1f77b4;stroke:#1f77b4;\" x=\"260.538179\" xlink:href=\"#m1372324b23\" y=\"56.046601\"/>\n     <use style=\"fill:#1f77b4;stroke:#1f77b4;\" x=\"261.357929\" xlink:href=\"#m1372324b23\" y=\"55.576147\"/>\n     <use style=\"fill:#1f77b4;stroke:#1f77b4;\" x=\"271.087032\" xlink:href=\"#m1372324b23\" y=\"51.963035\"/>\n     <use style=\"fill:#1f77b4;stroke:#1f77b4;\" x=\"269.629317\" xlink:href=\"#m1372324b23\" y=\"53.558556\"/>\n     <use style=\"fill:#1f77b4;stroke:#1f77b4;\" x=\"279.830089\" xlink:href=\"#m1372324b23\" y=\"48.293894\"/>\n     <use style=\"fill:#1f77b4;stroke:#1f77b4;\" x=\"280.008251\" xlink:href=\"#m1372324b23\" y=\"50.803916\"/>\n     <use style=\"fill:#1f77b4;stroke:#1f77b4;\" x=\"278.151999\" xlink:href=\"#m1372324b23\" y=\"48.909961\"/>\n     <use style=\"fill:#1f77b4;stroke:#1f77b4;\" x=\"279.94826\" xlink:href=\"#m1372324b23\" y=\"49.995075\"/>\n     <use style=\"fill:#1f77b4;stroke:#1f77b4;\" x=\"279.148211\" xlink:href=\"#m1372324b23\" y=\"51.240225\"/>\n     <use style=\"fill:#1f77b4;stroke:#1f77b4;\" x=\"264.710411\" xlink:href=\"#m1372324b23\" y=\"61.134966\"/>\n     <use style=\"fill:#1f77b4;stroke:#1f77b4;\" x=\"259.297141\" xlink:href=\"#m1372324b23\" y=\"68.341549\"/>\n     <use style=\"fill:#1f77b4;stroke:#1f77b4;\" x=\"262.76713\" xlink:href=\"#m1372324b23\" y=\"64.77423\"/>\n     <use style=\"fill:#1f77b4;stroke:#1f77b4;\" x=\"258.642968\" xlink:href=\"#m1372324b23\" y=\"66.079534\"/>\n     <use style=\"fill:#1f77b4;stroke:#1f77b4;\" x=\"265.173873\" xlink:href=\"#m1372324b23\" y=\"62.439301\"/>\n     <use style=\"fill:#1f77b4;stroke:#1f77b4;\" x=\"263.557697\" xlink:href=\"#m1372324b23\" y=\"59.936169\"/>\n     <use style=\"fill:#1f77b4;stroke:#1f77b4;\" x=\"259.36057\" xlink:href=\"#m1372324b23\" y=\"62.787027\"/>\n     <use style=\"fill:#1f77b4;stroke:#1f77b4;\" x=\"256.708484\" xlink:href=\"#m1372324b23\" y=\"61.420803\"/>\n     <use style=\"fill:#1f77b4;stroke:#1f77b4;\" x=\"245.691363\" xlink:href=\"#m1372324b23\" y=\"71.608853\"/>\n     <use style=\"fill:#1f77b4;stroke:#1f77b4;\" x=\"243.760649\" xlink:href=\"#m1372324b23\" y=\"77.127005\"/>\n     <use style=\"fill:#1f77b4;stroke:#1f77b4;\" x=\"236.176276\" xlink:href=\"#m1372324b23\" y=\"86.542727\"/>\n     <use style=\"fill:#1f77b4;stroke:#1f77b4;\" x=\"237.009166\" xlink:href=\"#m1372324b23\" y=\"90.77557\"/>\n     <use style=\"fill:#1f77b4;stroke:#1f77b4;\" x=\"237.849726\" xlink:href=\"#m1372324b23\" y=\"88.025299\"/>\n     <use style=\"fill:#1f77b4;stroke:#1f77b4;\" x=\"237.422303\" xlink:href=\"#m1372324b23\" y=\"91.146632\"/>\n     <use style=\"fill:#1f77b4;stroke:#1f77b4;\" x=\"241.749503\" xlink:href=\"#m1372324b23\" y=\"84.66537\"/>\n     <use style=\"fill:#1f77b4;stroke:#1f77b4;\" x=\"247.489712\" xlink:href=\"#m1372324b23\" y=\"79.056574\"/>\n     <use style=\"fill:#1f77b4;stroke:#1f77b4;\" x=\"241.066849\" xlink:href=\"#m1372324b23\" y=\"84.23986\"/>\n     <use style=\"fill:#1f77b4;stroke:#1f77b4;\" x=\"243.47095\" xlink:href=\"#m1372324b23\" y=\"81.659588\"/>\n     <use style=\"fill:#1f77b4;stroke:#1f77b4;\" x=\"243.838567\" xlink:href=\"#m1372324b23\" y=\"80.80124\"/>\n     <use style=\"fill:#1f77b4;stroke:#1f77b4;\" x=\"243.538038\" xlink:href=\"#m1372324b23\" y=\"79.948669\"/>\n     <use style=\"fill:#1f77b4;stroke:#1f77b4;\" x=\"239.45339\" xlink:href=\"#m1372324b23\" y=\"85.744369\"/>\n     <use style=\"fill:#1f77b4;stroke:#1f77b4;\" x=\"240.045188\" xlink:href=\"#m1372324b23\" y=\"87.762991\"/>\n     <use style=\"fill:#1f77b4;stroke:#1f77b4;\" x=\"237.058308\" xlink:href=\"#m1372324b23\" y=\"90.614462\"/>\n     <use style=\"fill:#1f77b4;stroke:#1f77b4;\" x=\"232.02465\" xlink:href=\"#m1372324b23\" y=\"94.574197\"/>\n     <use style=\"fill:#1f77b4;stroke:#1f77b4;\" x=\"212.043969\" xlink:href=\"#m1372324b23\" y=\"113.104309\"/>\n     <use style=\"fill:#1f77b4;stroke:#1f77b4;\" x=\"205.292116\" xlink:href=\"#m1372324b23\" y=\"119.490945\"/>\n     <use style=\"fill:#1f77b4;stroke:#1f77b4;\" x=\"211.189917\" xlink:href=\"#m1372324b23\" y=\"114.061469\"/>\n     <use style=\"fill:#1f77b4;stroke:#1f77b4;\" x=\"212.976087\" xlink:href=\"#m1372324b23\" y=\"118.020408\"/>\n     <use style=\"fill:#1f77b4;stroke:#1f77b4;\" x=\"214.393937\" xlink:href=\"#m1372324b23\" y=\"117.368879\"/>\n     <use style=\"fill:#1f77b4;stroke:#1f77b4;\" x=\"213.911901\" xlink:href=\"#m1372324b23\" y=\"116.863167\"/>\n     <use style=\"fill:#1f77b4;stroke:#1f77b4;\" x=\"215.265583\" xlink:href=\"#m1372324b23\" y=\"118.745872\"/>\n     <use style=\"fill:#1f77b4;stroke:#1f77b4;\" x=\"218.322453\" xlink:href=\"#m1372324b23\" y=\"113.557523\"/>\n     <use style=\"fill:#1f77b4;stroke:#1f77b4;\" x=\"219.996606\" xlink:href=\"#m1372324b23\" y=\"111.467284\"/>\n     <use style=\"fill:#1f77b4;stroke:#1f77b4;\" x=\"218.952989\" xlink:href=\"#m1372324b23\" y=\"111.200453\"/>\n     <use style=\"fill:#1f77b4;stroke:#1f77b4;\" x=\"221.628639\" xlink:href=\"#m1372324b23\" y=\"107.654376\"/>\n     <use style=\"fill:#1f77b4;stroke:#1f77b4;\" x=\"222.859475\" xlink:href=\"#m1372324b23\" y=\"103.312799\"/>\n     <use style=\"fill:#1f77b4;stroke:#1f77b4;\" x=\"214.389114\" xlink:href=\"#m1372324b23\" y=\"107.881192\"/>\n     <use style=\"fill:#1f77b4;stroke:#1f77b4;\" x=\"215.343021\" xlink:href=\"#m1372324b23\" y=\"108.035533\"/>\n     <use style=\"fill:#1f77b4;stroke:#1f77b4;\" x=\"235.906463\" xlink:href=\"#m1372324b23\" y=\"95.307277\"/>\n     <use style=\"fill:#1f77b4;stroke:#1f77b4;\" x=\"235.623954\" xlink:href=\"#m1372324b23\" y=\"94.008576\"/>\n     <use style=\"fill:#1f77b4;stroke:#1f77b4;\" x=\"240.219303\" xlink:href=\"#m1372324b23\" y=\"92.217904\"/>\n     <use style=\"fill:#1f77b4;stroke:#1f77b4;\" x=\"246.974871\" xlink:href=\"#m1372324b23\" y=\"88.664201\"/>\n     <use style=\"fill:#1f77b4;stroke:#1f77b4;\" x=\"248.290924\" xlink:href=\"#m1372324b23\" y=\"89.494652\"/>\n     <use style=\"fill:#1f77b4;stroke:#1f77b4;\" x=\"249.33347\" xlink:href=\"#m1372324b23\" y=\"84.609115\"/>\n     <use style=\"fill:#1f77b4;stroke:#1f77b4;\" x=\"245.672955\" xlink:href=\"#m1372324b23\" y=\"91.38143\"/>\n     <use style=\"fill:#1f77b4;stroke:#1f77b4;\" x=\"240.198031\" xlink:href=\"#m1372324b23\" y=\"97.65719\"/>\n     <use style=\"fill:#1f77b4;stroke:#1f77b4;\" x=\"239.424614\" xlink:href=\"#m1372324b23\" y=\"98.076167\"/>\n     <use style=\"fill:#1f77b4;stroke:#1f77b4;\" x=\"239.202466\" xlink:href=\"#m1372324b23\" y=\"99.493532\"/>\n     <use style=\"fill:#1f77b4;stroke:#1f77b4;\" x=\"241.044838\" xlink:href=\"#m1372324b23\" y=\"97.402334\"/>\n     <use style=\"fill:#1f77b4;stroke:#1f77b4;\" x=\"250.451974\" xlink:href=\"#m1372324b23\" y=\"87.100202\"/>\n     <use style=\"fill:#1f77b4;stroke:#1f77b4;\" x=\"247.550072\" xlink:href=\"#m1372324b23\" y=\"89.276339\"/>\n     <use style=\"fill:#1f77b4;stroke:#1f77b4;\" x=\"231.350886\" xlink:href=\"#m1372324b23\" y=\"99.576378\"/>\n     <use style=\"fill:#1f77b4;stroke:#1f77b4;\" x=\"228.95196\" xlink:href=\"#m1372324b23\" y=\"103.579956\"/>\n     <use style=\"fill:#1f77b4;stroke:#1f77b4;\" x=\"229.383357\" xlink:href=\"#m1372324b23\" y=\"104.500899\"/>\n     <use style=\"fill:#1f77b4;stroke:#1f77b4;\" x=\"221.383814\" xlink:href=\"#m1372324b23\" y=\"110.147576\"/>\n     <use style=\"fill:#1f77b4;stroke:#1f77b4;\" x=\"214.967734\" xlink:href=\"#m1372324b23\" y=\"112.440163\"/>\n     <use style=\"fill:#1f77b4;stroke:#1f77b4;\" x=\"220.696115\" xlink:href=\"#m1372324b23\" y=\"109.702253\"/>\n     <use style=\"fill:#1f77b4;stroke:#1f77b4;\" x=\"216.014715\" xlink:href=\"#m1372324b23\" y=\"111.748466\"/>\n     <use style=\"fill:#1f77b4;stroke:#1f77b4;\" x=\"220.916507\" xlink:href=\"#m1372324b23\" y=\"111.426208\"/>\n     <use style=\"fill:#1f77b4;stroke:#1f77b4;\" x=\"225.087649\" xlink:href=\"#m1372324b23\" y=\"104.466009\"/>\n     <use style=\"fill:#1f77b4;stroke:#1f77b4;\" x=\"224.571607\" xlink:href=\"#m1372324b23\" y=\"103.772944\"/>\n     <use style=\"fill:#1f77b4;stroke:#1f77b4;\" x=\"217.969751\" xlink:href=\"#m1372324b23\" y=\"110.433842\"/>\n     <use style=\"fill:#1f77b4;stroke:#1f77b4;\" x=\"243.913491\" xlink:href=\"#m1372324b23\" y=\"97.999303\"/>\n     <use style=\"fill:#1f77b4;stroke:#1f77b4;\" x=\"249.408412\" xlink:href=\"#m1372324b23\" y=\"95.771453\"/>\n     <use style=\"fill:#1f77b4;stroke:#1f77b4;\" x=\"247.371503\" xlink:href=\"#m1372324b23\" y=\"96.706625\"/>\n     <use style=\"fill:#1f77b4;stroke:#1f77b4;\" x=\"240.405505\" xlink:href=\"#m1372324b23\" y=\"101.542032\"/>\n     <use style=\"fill:#1f77b4;stroke:#1f77b4;\" x=\"224.72517\" xlink:href=\"#m1372324b23\" y=\"110.628085\"/>\n     <use style=\"fill:#1f77b4;stroke:#1f77b4;\" x=\"225.969405\" xlink:href=\"#m1372324b23\" y=\"108.634748\"/>\n     <use style=\"fill:#1f77b4;stroke:#1f77b4;\" x=\"221.329903\" xlink:href=\"#m1372324b23\" y=\"113.225322\"/>\n     <use style=\"fill:#1f77b4;stroke:#1f77b4;\" x=\"219.636363\" xlink:href=\"#m1372324b23\" y=\"115.61967\"/>\n     <use style=\"fill:#1f77b4;stroke:#1f77b4;\" x=\"222.831068\" xlink:href=\"#m1372324b23\" y=\"112.317599\"/>\n     <use style=\"fill:#1f77b4;stroke:#1f77b4;\" x=\"238.187181\" xlink:href=\"#m1372324b23\" y=\"105.919029\"/>\n     <use style=\"fill:#1f77b4;stroke:#1f77b4;\" x=\"226.143871\" xlink:href=\"#m1372324b23\" y=\"111.008874\"/>\n     <use style=\"fill:#1f77b4;stroke:#1f77b4;\" x=\"223.104078\" xlink:href=\"#m1372324b23\" y=\"113.036101\"/>\n     <use style=\"fill:#1f77b4;stroke:#1f77b4;\" x=\"223.619973\" xlink:href=\"#m1372324b23\" y=\"112.400945\"/>\n     <use style=\"fill:#1f77b4;stroke:#1f77b4;\" x=\"218.631557\" xlink:href=\"#m1372324b23\" y=\"114.734393\"/>\n     <use style=\"fill:#1f77b4;stroke:#1f77b4;\" x=\"227.22872\" xlink:href=\"#m1372324b23\" y=\"111.7344\"/>\n     <use style=\"fill:#1f77b4;stroke:#1f77b4;\" x=\"225.677008\" xlink:href=\"#m1372324b23\" y=\"110.502917\"/>\n     <use style=\"fill:#1f77b4;stroke:#1f77b4;\" x=\"234.217654\" xlink:href=\"#m1372324b23\" y=\"104.15159\"/>\n     <use style=\"fill:#1f77b4;stroke:#1f77b4;\" x=\"233.306643\" xlink:href=\"#m1372324b23\" y=\"102.362132\"/>\n     <use style=\"fill:#1f77b4;stroke:#1f77b4;\" x=\"237.327178\" xlink:href=\"#m1372324b23\" y=\"96.906288\"/>\n     <use style=\"fill:#1f77b4;stroke:#1f77b4;\" x=\"239.169994\" xlink:href=\"#m1372324b23\" y=\"96.868071\"/>\n     <use style=\"fill:#1f77b4;stroke:#1f77b4;\" x=\"234.709209\" xlink:href=\"#m1372324b23\" y=\"100.455357\"/>\n     <use style=\"fill:#1f77b4;stroke:#1f77b4;\" x=\"233.905704\" xlink:href=\"#m1372324b23\" y=\"98.886723\"/>\n     <use style=\"fill:#1f77b4;stroke:#1f77b4;\" x=\"239.965588\" xlink:href=\"#m1372324b23\" y=\"95.744443\"/>\n     <use style=\"fill:#1f77b4;stroke:#1f77b4;\" x=\"242.492795\" xlink:href=\"#m1372324b23\" y=\"93.322085\"/>\n     <use style=\"fill:#1f77b4;stroke:#1f77b4;\" x=\"247.545692\" xlink:href=\"#m1372324b23\" y=\"90.10286\"/>\n     <use style=\"fill:#1f77b4;stroke:#1f77b4;\" x=\"249.603947\" xlink:href=\"#m1372324b23\" y=\"89.497694\"/>\n    </g>\n   </g>\n   <g id=\"matplotlib.axis_1\">\n    <g id=\"xtick_1\">\n     <g id=\"line2d_1\">\n      <defs>\n       <path d=\"M 0 0 \nL 0 3.5 \n\" id=\"m171488eda6\" style=\"stroke:#000000;stroke-width:0.8;\"/>\n      </defs>\n      <g>\n       <use style=\"stroke:#000000;stroke-width:0.8;\" x=\"86.866964\" xlink:href=\"#m171488eda6\" y=\"226.412378\"/>\n      </g>\n     </g>\n     <g id=\"text_1\">\n      <!-- 10000 -->\n      <defs>\n       <path d=\"M 12.40625 8.296875 \nL 28.515625 8.296875 \nL 28.515625 63.921875 \nL 10.984375 60.40625 \nL 10.984375 69.390625 \nL 28.421875 72.90625 \nL 38.28125 72.90625 \nL 38.28125 8.296875 \nL 54.390625 8.296875 \nL 54.390625 0 \nL 12.40625 0 \nz\n\" id=\"DejaVuSans-49\"/>\n       <path d=\"M 31.78125 66.40625 \nQ 24.171875 66.40625 20.328125 58.90625 \nQ 16.5 51.421875 16.5 36.375 \nQ 16.5 21.390625 20.328125 13.890625 \nQ 24.171875 6.390625 31.78125 6.390625 \nQ 39.453125 6.390625 43.28125 13.890625 \nQ 47.125 21.390625 47.125 36.375 \nQ 47.125 51.421875 43.28125 58.90625 \nQ 39.453125 66.40625 31.78125 66.40625 \nz\nM 31.78125 74.21875 \nQ 44.046875 74.21875 50.515625 64.515625 \nQ 56.984375 54.828125 56.984375 36.375 \nQ 56.984375 17.96875 50.515625 8.265625 \nQ 44.046875 -1.421875 31.78125 -1.421875 \nQ 19.53125 -1.421875 13.0625 8.265625 \nQ 6.59375 17.96875 6.59375 36.375 \nQ 6.59375 54.828125 13.0625 64.515625 \nQ 19.53125 74.21875 31.78125 74.21875 \nz\n\" id=\"DejaVuSans-48\"/>\n      </defs>\n      <g transform=\"translate(70.960714 241.010816)scale(0.1 -0.1)\">\n       <use xlink:href=\"#DejaVuSans-49\"/>\n       <use x=\"63.623047\" xlink:href=\"#DejaVuSans-48\"/>\n       <use x=\"127.246094\" xlink:href=\"#DejaVuSans-48\"/>\n       <use x=\"190.869141\" xlink:href=\"#DejaVuSans-48\"/>\n       <use x=\"254.492188\" xlink:href=\"#DejaVuSans-48\"/>\n      </g>\n     </g>\n    </g>\n    <g id=\"xtick_2\">\n     <g id=\"line2d_2\">\n      <g>\n       <use style=\"stroke:#000000;stroke-width:0.8;\" x=\"134.179777\" xlink:href=\"#m171488eda6\" y=\"226.412378\"/>\n      </g>\n     </g>\n     <g id=\"text_2\">\n      <!-- 20000 -->\n      <defs>\n       <path d=\"M 19.1875 8.296875 \nL 53.609375 8.296875 \nL 53.609375 0 \nL 7.328125 0 \nL 7.328125 8.296875 \nQ 12.9375 14.109375 22.625 23.890625 \nQ 32.328125 33.6875 34.8125 36.53125 \nQ 39.546875 41.84375 41.421875 45.53125 \nQ 43.3125 49.21875 43.3125 52.78125 \nQ 43.3125 58.59375 39.234375 62.25 \nQ 35.15625 65.921875 28.609375 65.921875 \nQ 23.96875 65.921875 18.8125 64.3125 \nQ 13.671875 62.703125 7.8125 59.421875 \nL 7.8125 69.390625 \nQ 13.765625 71.78125 18.9375 73 \nQ 24.125 74.21875 28.421875 74.21875 \nQ 39.75 74.21875 46.484375 68.546875 \nQ 53.21875 62.890625 53.21875 53.421875 \nQ 53.21875 48.921875 51.53125 44.890625 \nQ 49.859375 40.875 45.40625 35.40625 \nQ 44.1875 33.984375 37.640625 27.21875 \nQ 31.109375 20.453125 19.1875 8.296875 \nz\n\" id=\"DejaVuSans-50\"/>\n      </defs>\n      <g transform=\"translate(118.273527 241.010816)scale(0.1 -0.1)\">\n       <use xlink:href=\"#DejaVuSans-50\"/>\n       <use x=\"63.623047\" xlink:href=\"#DejaVuSans-48\"/>\n       <use x=\"127.246094\" xlink:href=\"#DejaVuSans-48\"/>\n       <use x=\"190.869141\" xlink:href=\"#DejaVuSans-48\"/>\n       <use x=\"254.492188\" xlink:href=\"#DejaVuSans-48\"/>\n      </g>\n     </g>\n    </g>\n    <g id=\"xtick_3\">\n     <g id=\"line2d_3\">\n      <g>\n       <use style=\"stroke:#000000;stroke-width:0.8;\" x=\"181.492589\" xlink:href=\"#m171488eda6\" y=\"226.412378\"/>\n      </g>\n     </g>\n     <g id=\"text_3\">\n      <!-- 30000 -->\n      <defs>\n       <path d=\"M 40.578125 39.3125 \nQ 47.65625 37.796875 51.625 33 \nQ 55.609375 28.21875 55.609375 21.1875 \nQ 55.609375 10.40625 48.1875 4.484375 \nQ 40.765625 -1.421875 27.09375 -1.421875 \nQ 22.515625 -1.421875 17.65625 -0.515625 \nQ 12.796875 0.390625 7.625 2.203125 \nL 7.625 11.71875 \nQ 11.71875 9.328125 16.59375 8.109375 \nQ 21.484375 6.890625 26.8125 6.890625 \nQ 36.078125 6.890625 40.9375 10.546875 \nQ 45.796875 14.203125 45.796875 21.1875 \nQ 45.796875 27.640625 41.28125 31.265625 \nQ 36.765625 34.90625 28.71875 34.90625 \nL 20.21875 34.90625 \nL 20.21875 43.015625 \nL 29.109375 43.015625 \nQ 36.375 43.015625 40.234375 45.921875 \nQ 44.09375 48.828125 44.09375 54.296875 \nQ 44.09375 59.90625 40.109375 62.90625 \nQ 36.140625 65.921875 28.71875 65.921875 \nQ 24.65625 65.921875 20.015625 65.03125 \nQ 15.375 64.15625 9.8125 62.3125 \nL 9.8125 71.09375 \nQ 15.4375 72.65625 20.34375 73.4375 \nQ 25.25 74.21875 29.59375 74.21875 \nQ 40.828125 74.21875 47.359375 69.109375 \nQ 53.90625 64.015625 53.90625 55.328125 \nQ 53.90625 49.265625 50.4375 45.09375 \nQ 46.96875 40.921875 40.578125 39.3125 \nz\n\" id=\"DejaVuSans-51\"/>\n      </defs>\n      <g transform=\"translate(165.586339 241.010816)scale(0.1 -0.1)\">\n       <use xlink:href=\"#DejaVuSans-51\"/>\n       <use x=\"63.623047\" xlink:href=\"#DejaVuSans-48\"/>\n       <use x=\"127.246094\" xlink:href=\"#DejaVuSans-48\"/>\n       <use x=\"190.869141\" xlink:href=\"#DejaVuSans-48\"/>\n       <use x=\"254.492188\" xlink:href=\"#DejaVuSans-48\"/>\n      </g>\n     </g>\n    </g>\n    <g id=\"xtick_4\">\n     <g id=\"line2d_4\">\n      <g>\n       <use style=\"stroke:#000000;stroke-width:0.8;\" x=\"228.805401\" xlink:href=\"#m171488eda6\" y=\"226.412378\"/>\n      </g>\n     </g>\n     <g id=\"text_4\">\n      <!-- 40000 -->\n      <defs>\n       <path d=\"M 37.796875 64.3125 \nL 12.890625 25.390625 \nL 37.796875 25.390625 \nz\nM 35.203125 72.90625 \nL 47.609375 72.90625 \nL 47.609375 25.390625 \nL 58.015625 25.390625 \nL 58.015625 17.1875 \nL 47.609375 17.1875 \nL 47.609375 0 \nL 37.796875 0 \nL 37.796875 17.1875 \nL 4.890625 17.1875 \nL 4.890625 26.703125 \nz\n\" id=\"DejaVuSans-52\"/>\n      </defs>\n      <g transform=\"translate(212.899151 241.010816)scale(0.1 -0.1)\">\n       <use xlink:href=\"#DejaVuSans-52\"/>\n       <use x=\"63.623047\" xlink:href=\"#DejaVuSans-48\"/>\n       <use x=\"127.246094\" xlink:href=\"#DejaVuSans-48\"/>\n       <use x=\"190.869141\" xlink:href=\"#DejaVuSans-48\"/>\n       <use x=\"254.492188\" xlink:href=\"#DejaVuSans-48\"/>\n      </g>\n     </g>\n    </g>\n    <g id=\"xtick_5\">\n     <g id=\"line2d_5\">\n      <g>\n       <use style=\"stroke:#000000;stroke-width:0.8;\" x=\"276.118214\" xlink:href=\"#m171488eda6\" y=\"226.412378\"/>\n      </g>\n     </g>\n     <g id=\"text_5\">\n      <!-- 50000 -->\n      <defs>\n       <path d=\"M 10.796875 72.90625 \nL 49.515625 72.90625 \nL 49.515625 64.59375 \nL 19.828125 64.59375 \nL 19.828125 46.734375 \nQ 21.96875 47.46875 24.109375 47.828125 \nQ 26.265625 48.1875 28.421875 48.1875 \nQ 40.625 48.1875 47.75 41.5 \nQ 54.890625 34.8125 54.890625 23.390625 \nQ 54.890625 11.625 47.5625 5.09375 \nQ 40.234375 -1.421875 26.90625 -1.421875 \nQ 22.3125 -1.421875 17.546875 -0.640625 \nQ 12.796875 0.140625 7.71875 1.703125 \nL 7.71875 11.625 \nQ 12.109375 9.234375 16.796875 8.0625 \nQ 21.484375 6.890625 26.703125 6.890625 \nQ 35.15625 6.890625 40.078125 11.328125 \nQ 45.015625 15.765625 45.015625 23.390625 \nQ 45.015625 31 40.078125 35.4375 \nQ 35.15625 39.890625 26.703125 39.890625 \nQ 22.75 39.890625 18.8125 39.015625 \nQ 14.890625 38.140625 10.796875 36.28125 \nz\n\" id=\"DejaVuSans-53\"/>\n      </defs>\n      <g transform=\"translate(260.211964 241.010816)scale(0.1 -0.1)\">\n       <use xlink:href=\"#DejaVuSans-53\"/>\n       <use x=\"63.623047\" xlink:href=\"#DejaVuSans-48\"/>\n       <use x=\"127.246094\" xlink:href=\"#DejaVuSans-48\"/>\n       <use x=\"190.869141\" xlink:href=\"#DejaVuSans-48\"/>\n       <use x=\"254.492188\" xlink:href=\"#DejaVuSans-48\"/>\n      </g>\n     </g>\n    </g>\n    <g id=\"xtick_6\">\n     <g id=\"line2d_6\">\n      <g>\n       <use style=\"stroke:#000000;stroke-width:0.8;\" x=\"323.431026\" xlink:href=\"#m171488eda6\" y=\"226.412378\"/>\n      </g>\n     </g>\n     <g id=\"text_6\">\n      <!-- 60000 -->\n      <defs>\n       <path d=\"M 33.015625 40.375 \nQ 26.375 40.375 22.484375 35.828125 \nQ 18.609375 31.296875 18.609375 23.390625 \nQ 18.609375 15.53125 22.484375 10.953125 \nQ 26.375 6.390625 33.015625 6.390625 \nQ 39.65625 6.390625 43.53125 10.953125 \nQ 47.40625 15.53125 47.40625 23.390625 \nQ 47.40625 31.296875 43.53125 35.828125 \nQ 39.65625 40.375 33.015625 40.375 \nz\nM 52.59375 71.296875 \nL 52.59375 62.3125 \nQ 48.875 64.0625 45.09375 64.984375 \nQ 41.3125 65.921875 37.59375 65.921875 \nQ 27.828125 65.921875 22.671875 59.328125 \nQ 17.53125 52.734375 16.796875 39.40625 \nQ 19.671875 43.65625 24.015625 45.921875 \nQ 28.375 48.1875 33.59375 48.1875 \nQ 44.578125 48.1875 50.953125 41.515625 \nQ 57.328125 34.859375 57.328125 23.390625 \nQ 57.328125 12.15625 50.6875 5.359375 \nQ 44.046875 -1.421875 33.015625 -1.421875 \nQ 20.359375 -1.421875 13.671875 8.265625 \nQ 6.984375 17.96875 6.984375 36.375 \nQ 6.984375 53.65625 15.1875 63.9375 \nQ 23.390625 74.21875 37.203125 74.21875 \nQ 40.921875 74.21875 44.703125 73.484375 \nQ 48.484375 72.75 52.59375 71.296875 \nz\n\" id=\"DejaVuSans-54\"/>\n      </defs>\n      <g transform=\"translate(307.524776 241.010816)scale(0.1 -0.1)\">\n       <use xlink:href=\"#DejaVuSans-54\"/>\n       <use x=\"63.623047\" xlink:href=\"#DejaVuSans-48\"/>\n       <use x=\"127.246094\" xlink:href=\"#DejaVuSans-48\"/>\n       <use x=\"190.869141\" xlink:href=\"#DejaVuSans-48\"/>\n       <use x=\"254.492188\" xlink:href=\"#DejaVuSans-48\"/>\n      </g>\n     </g>\n    </g>\n    <g id=\"xtick_7\">\n     <g id=\"line2d_7\">\n      <g>\n       <use style=\"stroke:#000000;stroke-width:0.8;\" x=\"370.743839\" xlink:href=\"#m171488eda6\" y=\"226.412378\"/>\n      </g>\n     </g>\n     <g id=\"text_7\">\n      <!-- 70000 -->\n      <defs>\n       <path d=\"M 8.203125 72.90625 \nL 55.078125 72.90625 \nL 55.078125 68.703125 \nL 28.609375 0 \nL 18.3125 0 \nL 43.21875 64.59375 \nL 8.203125 64.59375 \nz\n\" id=\"DejaVuSans-55\"/>\n      </defs>\n      <g transform=\"translate(354.837589 241.010816)scale(0.1 -0.1)\">\n       <use xlink:href=\"#DejaVuSans-55\"/>\n       <use x=\"63.623047\" xlink:href=\"#DejaVuSans-48\"/>\n       <use x=\"127.246094\" xlink:href=\"#DejaVuSans-48\"/>\n       <use x=\"190.869141\" xlink:href=\"#DejaVuSans-48\"/>\n       <use x=\"254.492188\" xlink:href=\"#DejaVuSans-48\"/>\n      </g>\n     </g>\n    </g>\n   </g>\n   <g id=\"matplotlib.axis_2\">\n    <g id=\"ytick_1\">\n     <g id=\"line2d_8\">\n      <defs>\n       <path d=\"M 0 0 \nL -3.5 0 \n\" id=\"m90e4c16208\" style=\"stroke:#000000;stroke-width:0.8;\"/>\n      </defs>\n      <g>\n       <use style=\"stroke:#000000;stroke-width:0.8;\" x=\"39.65\" xlink:href=\"#m90e4c16208\" y=\"220.053748\"/>\n      </g>\n     </g>\n     <g id=\"text_8\">\n      <!-- 0 -->\n      <g transform=\"translate(26.2875 223.852967)scale(0.1 -0.1)\">\n       <use xlink:href=\"#DejaVuSans-48\"/>\n      </g>\n     </g>\n    </g>\n    <g id=\"ytick_2\">\n     <g id=\"line2d_9\">\n      <g>\n       <use style=\"stroke:#000000;stroke-width:0.8;\" x=\"39.65\" xlink:href=\"#m90e4c16208\" y=\"178.242842\"/>\n      </g>\n     </g>\n     <g id=\"text_9\">\n      <!-- 1000 -->\n      <g transform=\"translate(7.2 182.042061)scale(0.1 -0.1)\">\n       <use xlink:href=\"#DejaVuSans-49\"/>\n       <use x=\"63.623047\" xlink:href=\"#DejaVuSans-48\"/>\n       <use x=\"127.246094\" xlink:href=\"#DejaVuSans-48\"/>\n       <use x=\"190.869141\" xlink:href=\"#DejaVuSans-48\"/>\n      </g>\n     </g>\n    </g>\n    <g id=\"ytick_3\">\n     <g id=\"line2d_10\">\n      <g>\n       <use style=\"stroke:#000000;stroke-width:0.8;\" x=\"39.65\" xlink:href=\"#m90e4c16208\" y=\"136.431936\"/>\n      </g>\n     </g>\n     <g id=\"text_10\">\n      <!-- 2000 -->\n      <g transform=\"translate(7.2 140.231155)scale(0.1 -0.1)\">\n       <use xlink:href=\"#DejaVuSans-50\"/>\n       <use x=\"63.623047\" xlink:href=\"#DejaVuSans-48\"/>\n       <use x=\"127.246094\" xlink:href=\"#DejaVuSans-48\"/>\n       <use x=\"190.869141\" xlink:href=\"#DejaVuSans-48\"/>\n      </g>\n     </g>\n    </g>\n    <g id=\"ytick_4\">\n     <g id=\"line2d_11\">\n      <g>\n       <use style=\"stroke:#000000;stroke-width:0.8;\" x=\"39.65\" xlink:href=\"#m90e4c16208\" y=\"94.621031\"/>\n      </g>\n     </g>\n     <g id=\"text_11\">\n      <!-- 3000 -->\n      <g transform=\"translate(7.2 98.420249)scale(0.1 -0.1)\">\n       <use xlink:href=\"#DejaVuSans-51\"/>\n       <use x=\"63.623047\" xlink:href=\"#DejaVuSans-48\"/>\n       <use x=\"127.246094\" xlink:href=\"#DejaVuSans-48\"/>\n       <use x=\"190.869141\" xlink:href=\"#DejaVuSans-48\"/>\n      </g>\n     </g>\n    </g>\n    <g id=\"ytick_5\">\n     <g id=\"line2d_12\">\n      <g>\n       <use style=\"stroke:#000000;stroke-width:0.8;\" x=\"39.65\" xlink:href=\"#m90e4c16208\" y=\"52.810125\"/>\n      </g>\n     </g>\n     <g id=\"text_12\">\n      <!-- 4000 -->\n      <g transform=\"translate(7.2 56.609343)scale(0.1 -0.1)\">\n       <use xlink:href=\"#DejaVuSans-52\"/>\n       <use x=\"63.623047\" xlink:href=\"#DejaVuSans-48\"/>\n       <use x=\"127.246094\" xlink:href=\"#DejaVuSans-48\"/>\n       <use x=\"190.869141\" xlink:href=\"#DejaVuSans-48\"/>\n      </g>\n     </g>\n    </g>\n    <g id=\"ytick_6\">\n     <g id=\"line2d_13\">\n      <g>\n       <use style=\"stroke:#000000;stroke-width:0.8;\" x=\"39.65\" xlink:href=\"#m90e4c16208\" y=\"10.999219\"/>\n      </g>\n     </g>\n     <g id=\"text_13\">\n      <!-- 5000 -->\n      <g transform=\"translate(7.2 14.798437)scale(0.1 -0.1)\">\n       <use xlink:href=\"#DejaVuSans-53\"/>\n       <use x=\"63.623047\" xlink:href=\"#DejaVuSans-48\"/>\n       <use x=\"127.246094\" xlink:href=\"#DejaVuSans-48\"/>\n       <use x=\"190.869141\" xlink:href=\"#DejaVuSans-48\"/>\n      </g>\n     </g>\n    </g>\n   </g>\n   <g id=\"line2d_14\">\n    <path clip-path=\"url(#p92e6eef6b7)\" d=\"M 73.352438 178.045995 \nL 54.868182 178.351508 \nL 359.231818 173.320901 \nL 249.603947 175.132861 \n\" style=\"fill:none;stroke:#ff0000;stroke-linecap:square;stroke-width:1.5;\"/>\n   </g>\n   <g id=\"patch_3\">\n    <path d=\"M 39.65 226.412378 \nL 39.65 8.972378 \n\" style=\"fill:none;stroke:#000000;stroke-linecap:square;stroke-linejoin:miter;stroke-width:0.8;\"/>\n   </g>\n   <g id=\"patch_4\">\n    <path d=\"M 374.45 226.412378 \nL 374.45 8.972378 \n\" style=\"fill:none;stroke:#000000;stroke-linecap:square;stroke-linejoin:miter;stroke-width:0.8;\"/>\n   </g>\n   <g id=\"patch_5\">\n    <path d=\"M 39.65 226.412378 \nL 374.45 226.412378 \n\" style=\"fill:none;stroke:#000000;stroke-linecap:square;stroke-linejoin:miter;stroke-width:0.8;\"/>\n   </g>\n   <g id=\"patch_6\">\n    <path d=\"M 39.65 8.972378 \nL 374.45 8.972378 \n\" style=\"fill:none;stroke:#000000;stroke-linecap:square;stroke-linejoin:miter;stroke-width:0.8;\"/>\n   </g>\n  </g>\n </g>\n <defs>\n  <clipPath id=\"p92e6eef6b7\">\n   <rect height=\"217.44\" width=\"334.8\" x=\"39.65\" y=\"8.972378\"/>\n  </clipPath>\n </defs>\n</svg>\n"
          },
          "metadata": {
            "needs_background": "light"
          }
        }
      ]
    },
    {
      "cell_type": "markdown",
      "source": [
        "Соотвественно по оси y у нас расположен эфириум, а по оси x расположен биткоин, из-за значительного разброса ценовых значений линейная регрессия обретает нестандартный вид, однако все же зависимость наблюдается, хоть и незначительная"
      ],
      "metadata": {
        "id": "abR20B2OQ2Iu"
      }
    },
    {
      "cell_type": "markdown",
      "source": [
        "Теперь посчитаем коэффициент детерминации:"
      ],
      "metadata": {
        "id": "IB7Zr2JcResz"
      }
    },
    {
      "cell_type": "code",
      "source": [
        "z1 = b0 + b1 * x1 \n",
        "\n",
        "print(f'real: {y1[:5]}')\n",
        "print(f'pred: {z1[:5]}')"
      ],
      "metadata": {
        "colab": {
          "base_uri": "https://localhost:8080/"
        },
        "id": "6RVffxyLQnde",
        "outputId": "96b6b0a0-bd70-441f-db92-74638ec640e7"
      },
      "execution_count": 43,
      "outputs": [
        {
          "output_type": "stream",
          "name": "stdout",
          "text": [
            "real: 0    320.884003\n",
            "1    299.252991\n",
            "2    314.681000\n",
            "3    307.907990\n",
            "4    316.716003\n",
            "Name: Close, dtype: float64\n",
            "pred: 1149    1004.708037\n",
            "1150    1003.725294\n",
            "1151    1003.238000\n",
            "1152    1002.475787\n",
            "1153    1003.615600\n",
            "Name: Close, dtype: float64\n"
          ]
        }
      ]
    },
    {
      "cell_type": "code",
      "source": [
        "R1 = z1.var() / y1.var()\n",
        "R1"
      ],
      "metadata": {
        "colab": {
          "base_uri": "https://localhost:8080/"
        },
        "id": "U_dd8DpzRwOX",
        "outputId": "10c9c588-8b1d-4b55-ffd4-767db1ea83ee"
      },
      "execution_count": 44,
      "outputs": [
        {
          "output_type": "execute_result",
          "data": {
            "text/plain": [
              "0.0007298098199906065"
            ]
          },
          "metadata": {},
          "execution_count": 44
        }
      ]
    },
    {
      "cell_type": "markdown",
      "source": [
        "Данный показатель означает что лишь малая доля дисперсии y учитывается или объясняется моделью. Оставшиеся почти 100% объясняются другими факторами, которые модель не учитывала."
      ],
      "metadata": {
        "id": "LcbhRR7ESCJo"
      }
    },
    {
      "cell_type": "markdown",
      "source": [
        "В таком случаю, важным будет посчитать среднюю ошибку апроксимации"
      ],
      "metadata": {
        "id": "3xvAdRndSfj0"
      }
    },
    {
      "cell_type": "code",
      "source": [
        "def mean_approximation_error(y_real, y_pred):\n",
        "    return np.abs((y_real - y_pred) / y_real).mean()"
      ],
      "metadata": {
        "id": "W-RLvEb6R5Pm"
      },
      "execution_count": 45,
      "outputs": []
    },
    {
      "cell_type": "code",
      "source": [
        "mean_approximation_error(y1, z1)"
      ],
      "metadata": {
        "colab": {
          "base_uri": "https://localhost:8080/"
        },
        "id": "LvY6wrULSsIF",
        "outputId": "aaa91ddc-68bf-4522-ee60-ec85547f7373"
      },
      "execution_count": 46,
      "outputs": [
        {
          "output_type": "execute_result",
          "data": {
            "text/plain": [
              "0.5922222610277921"
            ]
          },
          "metadata": {},
          "execution_count": 46
        }
      ]
    },
    {
      "cell_type": "markdown",
      "source": [
        "Так как полученный результат не входит в диапазон от 8 до 10%, то можно считать модель далеко не самой идельной и полученные показатели весьма размытыми"
      ],
      "metadata": {
        "id": "867o4F4oSxPv"
      }
    },
    {
      "cell_type": "markdown",
      "source": [
        "Проведем оценку значимости уравнения линейной регрессии"
      ],
      "metadata": {
        "id": "EWSd3cFeUeJ4"
      }
    },
    {
      "cell_type": "code",
      "source": [
        "alpha = 0.5\n",
        "k1 = 2 \n",
        "k2 = x1.count() - k1 - 1\n",
        "k2"
      ],
      "metadata": {
        "colab": {
          "base_uri": "https://localhost:8080/"
        },
        "id": "0JN7T1osSuFW",
        "outputId": "73eca558-f4fd-4e38-f8b2-257ebd08e8ff"
      },
      "execution_count": 51,
      "outputs": [
        {
          "output_type": "execute_result",
          "data": {
            "text/plain": [
              "1595"
            ]
          },
          "metadata": {},
          "execution_count": 51
        }
      ]
    },
    {
      "cell_type": "code",
      "source": [
        "T1 = (R1 / (1 - R1)) * (k2 / k1)\n",
        "T1"
      ],
      "metadata": {
        "colab": {
          "base_uri": "https://localhost:8080/"
        },
        "id": "hTqes4m6VIed",
        "outputId": "ababc1e9-e5fa-4dbd-d286-34aeda562a12"
      },
      "execution_count": 52,
      "outputs": [
        {
          "output_type": "execute_result",
          "data": {
            "text/plain": [
              "0.5824484080103125"
            ]
          },
          "metadata": {},
          "execution_count": 52
        }
      ]
    },
    {
      "cell_type": "code",
      "source": [
        "F_crit = scipy.stats.f.ppf(1 - alpha, k1, k2)\n",
        "F_crit"
      ],
      "metadata": {
        "colab": {
          "base_uri": "https://localhost:8080/"
        },
        "id": "JquEjTfKUrQm",
        "outputId": "f633c2cb-f360-442d-904f-73b787a20b2e"
      },
      "execution_count": 50,
      "outputs": [
        {
          "output_type": "execute_result",
          "data": {
            "text/plain": [
              "0.6934484923085212"
            ]
          },
          "metadata": {},
          "execution_count": 50
        }
      ]
    },
    {
      "cell_type": "markdown",
      "source": [
        "Так как у нас показатель статистики T меньше значения F_crit, то уравнение регрессии по итогу статистически незначимо"
      ],
      "metadata": {
        "id": "X-FHnYteVOiw"
      }
    },
    {
      "cell_type": "markdown",
      "source": [
        "# Проведем все те же операции с объемами на торгах"
      ],
      "metadata": {
        "id": "GdYAF8v9VktO"
      }
    },
    {
      "cell_type": "code",
      "source": [
        "x1 = btc_df['Volume']\n",
        "y1 = eth_df['Volume']"
      ],
      "metadata": {
        "id": "gvN1QZ7oVrhy"
      },
      "execution_count": 53,
      "outputs": []
    },
    {
      "cell_type": "code",
      "source": [
        "b1 = (np.mean(x1 * y1) - np.mean(x1) * np.mean (y1)) / (np.mean (x1 ** 2) - np.mean(x1) ** 2)\n",
        "b1"
      ],
      "metadata": {
        "colab": {
          "base_uri": "https://localhost:8080/"
        },
        "id": "MVWV9RLCVyt4",
        "outputId": "ba18ef35-26ae-4ff3-d6c8-0d6d36ec8d60"
      },
      "execution_count": 54,
      "outputs": [
        {
          "output_type": "execute_result",
          "data": {
            "text/plain": [
              "0.22380485036432238"
            ]
          },
          "metadata": {},
          "execution_count": 54
        }
      ]
    },
    {
      "cell_type": "code",
      "source": [
        "b0 = np.mean(y1) - b1 * np.mean(x1)\n",
        "b0"
      ],
      "metadata": {
        "colab": {
          "base_uri": "https://localhost:8080/"
        },
        "id": "-W8ezmXKV1F8",
        "outputId": "f0131d7d-9af4-4054-9a8a-c8ac12f192a1"
      },
      "execution_count": 55,
      "outputs": [
        {
          "output_type": "execute_result",
          "data": {
            "text/plain": [
              "6796161896.896685"
            ]
          },
          "metadata": {},
          "execution_count": 55
        }
      ]
    },
    {
      "cell_type": "code",
      "source": [
        "ox = x1\n",
        "oy = b0 + b1 * ox\n",
        "\n",
        "plt.scatter(x1, y1)\n",
        "plt.plot(ox, oy, color='red')"
      ],
      "metadata": {
        "colab": {
          "base_uri": "https://localhost:8080/",
          "height": 402
        },
        "id": "F2annrKwV4w9",
        "outputId": "3e927a47-5b84-4e62-8844-02513f5e5fb5"
      },
      "execution_count": 56,
      "outputs": [
        {
          "output_type": "execute_result",
          "data": {
            "text/plain": [
              "[<matplotlib.lines.Line2D at 0x7f9049305710>]"
            ]
          },
          "metadata": {},
          "execution_count": 56
        },
        {
          "output_type": "display_data",
          "data": {
            "text/plain": [
              "<Figure size 432x288 with 1 Axes>"
            ],
            "image/svg+xml": "<?xml version=\"1.0\" encoding=\"utf-8\" standalone=\"no\"?>\n<!DOCTYPE svg PUBLIC \"-//W3C//DTD SVG 1.1//EN\"\n  \"http://www.w3.org/Graphics/SVG/1.1/DTD/svg11.dtd\">\n<!-- Created with matplotlib (https://matplotlib.org/) -->\n<svg height=\"271.794688pt\" version=\"1.1\" viewBox=\"0 0 362.5625 271.794688\" width=\"362.5625pt\" xmlns=\"http://www.w3.org/2000/svg\" xmlns:xlink=\"http://www.w3.org/1999/xlink\">\n <defs>\n  <style type=\"text/css\">\n*{stroke-linecap:butt;stroke-linejoin:round;}\n  </style>\n </defs>\n <g id=\"figure_1\">\n  <g id=\"patch_1\">\n   <path d=\"M 0 271.794688 \nL 362.5625 271.794688 \nL 362.5625 0 \nL 0 0 \nz\n\" style=\"fill:none;\"/>\n  </g>\n  <g id=\"axes_1\">\n   <g id=\"patch_2\">\n    <path d=\"M 20.5625 235.238438 \nL 355.3625 235.238438 \nL 355.3625 17.798438 \nL 20.5625 17.798438 \nz\n\" style=\"fill:#ffffff;\"/>\n   </g>\n   <g id=\"PathCollection_1\">\n    <defs>\n     <path d=\"M 0 3 \nC 0.795609 3 1.55874 2.683901 2.12132 2.12132 \nC 2.683901 1.55874 3 0.795609 3 0 \nC 3 -0.795609 2.683901 -1.55874 2.12132 -2.12132 \nC 1.55874 -2.683901 0.795609 -3 0 -3 \nC -0.795609 -3 -1.55874 -2.683901 -2.12132 -2.12132 \nC -2.683901 -1.55874 -3 -0.795609 -3 0 \nC -3 0.795609 -2.683901 1.55874 -2.12132 2.12132 \nC -1.55874 2.683901 -0.795609 3 0 3 \nz\n\" id=\"m7a0501df12\" style=\"stroke:#1f77b4;\"/>\n    </defs>\n    <g clip-path=\"url(#pc0a42a6dca)\">\n     <use style=\"fill:#1f77b4;stroke:#1f77b4;\" x=\"36.045287\" xlink:href=\"#m7a0501df12\" y=\"224.721305\"/>\n     <use style=\"fill:#1f77b4;stroke:#1f77b4;\" x=\"37.77854\" xlink:href=\"#m7a0501df12\" y=\"224.738254\"/>\n     <use style=\"fill:#1f77b4;stroke:#1f77b4;\" x=\"37.516567\" xlink:href=\"#m7a0501df12\" y=\"224.840178\"/>\n     <use style=\"fill:#1f77b4;stroke:#1f77b4;\" x=\"41.057116\" xlink:href=\"#m7a0501df12\" y=\"223.040885\"/>\n     <use style=\"fill:#1f77b4;stroke:#1f77b4;\" x=\"38.701134\" xlink:href=\"#m7a0501df12\" y=\"224.374503\"/>\n     <use style=\"fill:#1f77b4;stroke:#1f77b4;\" x=\"36.019804\" xlink:href=\"#m7a0501df12\" y=\"224.309664\"/>\n     <use style=\"fill:#1f77b4;stroke:#1f77b4;\" x=\"36.897598\" xlink:href=\"#m7a0501df12\" y=\"225.119307\"/>\n     <use style=\"fill:#1f77b4;stroke:#1f77b4;\" x=\"37.704697\" xlink:href=\"#m7a0501df12\" y=\"224.94528\"/>\n     <use style=\"fill:#1f77b4;stroke:#1f77b4;\" x=\"37.291812\" xlink:href=\"#m7a0501df12\" y=\"225.354801\"/>\n     <use style=\"fill:#1f77b4;stroke:#1f77b4;\" x=\"36.430888\" xlink:href=\"#m7a0501df12\" y=\"225.289692\"/>\n     <use style=\"fill:#1f77b4;stroke:#1f77b4;\" x=\"35.978012\" xlink:href=\"#m7a0501df12\" y=\"224.048699\"/>\n     <use style=\"fill:#1f77b4;stroke:#1f77b4;\" x=\"36.27458\" xlink:href=\"#m7a0501df12\" y=\"224.922478\"/>\n     <use style=\"fill:#1f77b4;stroke:#1f77b4;\" x=\"36.964698\" xlink:href=\"#m7a0501df12\" y=\"224.589103\"/>\n     <use style=\"fill:#1f77b4;stroke:#1f77b4;\" x=\"36.401452\" xlink:href=\"#m7a0501df12\" y=\"224.936963\"/>\n     <use style=\"fill:#1f77b4;stroke:#1f77b4;\" x=\"36.918848\" xlink:href=\"#m7a0501df12\" y=\"222.499123\"/>\n     <use style=\"fill:#1f77b4;stroke:#1f77b4;\" x=\"37.64768\" xlink:href=\"#m7a0501df12\" y=\"221.455845\"/>\n     <use style=\"fill:#1f77b4;stroke:#1f77b4;\" x=\"37.021059\" xlink:href=\"#m7a0501df12\" y=\"223.487454\"/>\n     <use style=\"fill:#1f77b4;stroke:#1f77b4;\" x=\"38.012319\" xlink:href=\"#m7a0501df12\" y=\"224.010785\"/>\n     <use style=\"fill:#1f77b4;stroke:#1f77b4;\" x=\"38.167752\" xlink:href=\"#m7a0501df12\" y=\"223.547183\"/>\n     <use style=\"fill:#1f77b4;stroke:#1f77b4;\" x=\"38.775965\" xlink:href=\"#m7a0501df12\" y=\"223.663795\"/>\n     <use style=\"fill:#1f77b4;stroke:#1f77b4;\" x=\"43.340821\" xlink:href=\"#m7a0501df12\" y=\"220.561984\"/>\n     <use style=\"fill:#1f77b4;stroke:#1f77b4;\" x=\"40.491614\" xlink:href=\"#m7a0501df12\" y=\"222.365292\"/>\n     <use style=\"fill:#1f77b4;stroke:#1f77b4;\" x=\"39.155759\" xlink:href=\"#m7a0501df12\" y=\"223.893893\"/>\n     <use style=\"fill:#1f77b4;stroke:#1f77b4;\" x=\"37.717544\" xlink:href=\"#m7a0501df12\" y=\"224.603714\"/>\n     <use style=\"fill:#1f77b4;stroke:#1f77b4;\" x=\"39.002888\" xlink:href=\"#m7a0501df12\" y=\"224.494271\"/>\n     <use style=\"fill:#1f77b4;stroke:#1f77b4;\" x=\"38.586715\" xlink:href=\"#m7a0501df12\" y=\"224.45929\"/>\n     <use style=\"fill:#1f77b4;stroke:#1f77b4;\" x=\"39.253825\" xlink:href=\"#m7a0501df12\" y=\"223.966594\"/>\n     <use style=\"fill:#1f77b4;stroke:#1f77b4;\" x=\"44.291837\" xlink:href=\"#m7a0501df12\" y=\"222.143128\"/>\n     <use style=\"fill:#1f77b4;stroke:#1f77b4;\" x=\"48.921773\" xlink:href=\"#m7a0501df12\" y=\"221.836759\"/>\n     <use style=\"fill:#1f77b4;stroke:#1f77b4;\" x=\"51.707307\" xlink:href=\"#m7a0501df12\" y=\"221.354236\"/>\n     <use style=\"fill:#1f77b4;stroke:#1f77b4;\" x=\"45.38933\" xlink:href=\"#m7a0501df12\" y=\"222.130085\"/>\n     <use style=\"fill:#1f77b4;stroke:#1f77b4;\" x=\"44.971321\" xlink:href=\"#m7a0501df12\" y=\"223.529218\"/>\n     <use style=\"fill:#1f77b4;stroke:#1f77b4;\" x=\"43.852489\" xlink:href=\"#m7a0501df12\" y=\"222.672337\"/>\n     <use style=\"fill:#1f77b4;stroke:#1f77b4;\" x=\"45.994919\" xlink:href=\"#m7a0501df12\" y=\"214.719979\"/>\n     <use style=\"fill:#1f77b4;stroke:#1f77b4;\" x=\"44.5722\" xlink:href=\"#m7a0501df12\" y=\"216.248883\"/>\n     <use style=\"fill:#1f77b4;stroke:#1f77b4;\" x=\"45.272235\" xlink:href=\"#m7a0501df12\" y=\"217.889009\"/>\n     <use style=\"fill:#1f77b4;stroke:#1f77b4;\" x=\"45.737992\" xlink:href=\"#m7a0501df12\" y=\"220.368867\"/>\n     <use style=\"fill:#1f77b4;stroke:#1f77b4;\" x=\"44.365556\" xlink:href=\"#m7a0501df12\" y=\"221.752484\"/>\n     <use style=\"fill:#1f77b4;stroke:#1f77b4;\" x=\"44.867518\" xlink:href=\"#m7a0501df12\" y=\"221.795182\"/>\n     <use style=\"fill:#1f77b4;stroke:#1f77b4;\" x=\"46.201038\" xlink:href=\"#m7a0501df12\" y=\"219.2244\"/>\n     <use style=\"fill:#1f77b4;stroke:#1f77b4;\" x=\"47.998129\" xlink:href=\"#m7a0501df12\" y=\"217.247457\"/>\n     <use style=\"fill:#1f77b4;stroke:#1f77b4;\" x=\"52.593785\" xlink:href=\"#m7a0501df12\" y=\"217.54286\"/>\n     <use style=\"fill:#1f77b4;stroke:#1f77b4;\" x=\"47.667657\" xlink:href=\"#m7a0501df12\" y=\"218.478181\"/>\n     <use style=\"fill:#1f77b4;stroke:#1f77b4;\" x=\"52.636023\" xlink:href=\"#m7a0501df12\" y=\"215.191559\"/>\n     <use style=\"fill:#1f77b4;stroke:#1f77b4;\" x=\"44.667608\" xlink:href=\"#m7a0501df12\" y=\"221.018352\"/>\n     <use style=\"fill:#1f77b4;stroke:#1f77b4;\" x=\"43.343882\" xlink:href=\"#m7a0501df12\" y=\"221.437833\"/>\n     <use style=\"fill:#1f77b4;stroke:#1f77b4;\" x=\"42.550188\" xlink:href=\"#m7a0501df12\" y=\"220.991707\"/>\n     <use style=\"fill:#1f77b4;stroke:#1f77b4;\" x=\"44.989685\" xlink:href=\"#m7a0501df12\" y=\"221.669727\"/>\n     <use style=\"fill:#1f77b4;stroke:#1f77b4;\" x=\"44.144309\" xlink:href=\"#m7a0501df12\" y=\"221.905681\"/>\n     <use style=\"fill:#1f77b4;stroke:#1f77b4;\" x=\"44.012172\" xlink:href=\"#m7a0501df12\" y=\"221.231114\"/>\n     <use style=\"fill:#1f77b4;stroke:#1f77b4;\" x=\"44.614701\" xlink:href=\"#m7a0501df12\" y=\"220.624909\"/>\n     <use style=\"fill:#1f77b4;stroke:#1f77b4;\" x=\"45.862695\" xlink:href=\"#m7a0501df12\" y=\"219.367773\"/>\n     <use style=\"fill:#1f77b4;stroke:#1f77b4;\" x=\"43.837098\" xlink:href=\"#m7a0501df12\" y=\"220.845861\"/>\n     <use style=\"fill:#1f77b4;stroke:#1f77b4;\" x=\"42.223564\" xlink:href=\"#m7a0501df12\" y=\"220.749057\"/>\n     <use style=\"fill:#1f77b4;stroke:#1f77b4;\" x=\"47.956241\" xlink:href=\"#m7a0501df12\" y=\"213.311864\"/>\n     <use style=\"fill:#1f77b4;stroke:#1f77b4;\" x=\"47.978366\" xlink:href=\"#m7a0501df12\" y=\"214.922195\"/>\n     <use style=\"fill:#1f77b4;stroke:#1f77b4;\" x=\"52.273282\" xlink:href=\"#m7a0501df12\" y=\"211.633123\"/>\n     <use style=\"fill:#1f77b4;stroke:#1f77b4;\" x=\"54.072734\" xlink:href=\"#m7a0501df12\" y=\"211.212476\"/>\n     <use style=\"fill:#1f77b4;stroke:#1f77b4;\" x=\"49.240003\" xlink:href=\"#m7a0501df12\" y=\"215.927652\"/>\n     <use style=\"fill:#1f77b4;stroke:#1f77b4;\" x=\"47.09871\" xlink:href=\"#m7a0501df12\" y=\"213.809925\"/>\n     <use style=\"fill:#1f77b4;stroke:#1f77b4;\" x=\"49.32684\" xlink:href=\"#m7a0501df12\" y=\"207.087848\"/>\n     <use style=\"fill:#1f77b4;stroke:#1f77b4;\" x=\"47.79306\" xlink:href=\"#m7a0501df12\" y=\"208.220626\"/>\n     <use style=\"fill:#1f77b4;stroke:#1f77b4;\" x=\"49.402834\" xlink:href=\"#m7a0501df12\" y=\"205.305351\"/>\n     <use style=\"fill:#1f77b4;stroke:#1f77b4;\" x=\"47.682961\" xlink:href=\"#m7a0501df12\" y=\"209.922815\"/>\n     <use style=\"fill:#1f77b4;stroke:#1f77b4;\" x=\"43.775359\" xlink:href=\"#m7a0501df12\" y=\"214.620889\"/>\n     <use style=\"fill:#1f77b4;stroke:#1f77b4;\" x=\"44.38567\" xlink:href=\"#m7a0501df12\" y=\"213.397233\"/>\n     <use style=\"fill:#1f77b4;stroke:#1f77b4;\" x=\"42.916952\" xlink:href=\"#m7a0501df12\" y=\"215.509057\"/>\n     <use style=\"fill:#1f77b4;stroke:#1f77b4;\" x=\"44.374476\" xlink:href=\"#m7a0501df12\" y=\"215.650284\"/>\n     <use style=\"fill:#1f77b4;stroke:#1f77b4;\" x=\"49.711531\" xlink:href=\"#m7a0501df12\" y=\"207.194777\"/>\n     <use style=\"fill:#1f77b4;stroke:#1f77b4;\" x=\"49.691243\" xlink:href=\"#m7a0501df12\" y=\"206.868086\"/>\n     <use style=\"fill:#1f77b4;stroke:#1f77b4;\" x=\"46.359234\" xlink:href=\"#m7a0501df12\" y=\"212.950292\"/>\n     <use style=\"fill:#1f77b4;stroke:#1f77b4;\" x=\"42.616388\" xlink:href=\"#m7a0501df12\" y=\"217.275688\"/>\n     <use style=\"fill:#1f77b4;stroke:#1f77b4;\" x=\"43.544492\" xlink:href=\"#m7a0501df12\" y=\"217.530611\"/>\n     <use style=\"fill:#1f77b4;stroke:#1f77b4;\" x=\"41.912225\" xlink:href=\"#m7a0501df12\" y=\"218.923747\"/>\n     <use style=\"fill:#1f77b4;stroke:#1f77b4;\" x=\"42.438865\" xlink:href=\"#m7a0501df12\" y=\"217.915794\"/>\n     <use style=\"fill:#1f77b4;stroke:#1f77b4;\" x=\"41.672115\" xlink:href=\"#m7a0501df12\" y=\"218.50702\"/>\n     <use style=\"fill:#1f77b4;stroke:#1f77b4;\" x=\"41.917306\" xlink:href=\"#m7a0501df12\" y=\"217.603289\"/>\n     <use style=\"fill:#1f77b4;stroke:#1f77b4;\" x=\"40.983501\" xlink:href=\"#m7a0501df12\" y=\"217.355623\"/>\n     <use style=\"fill:#1f77b4;stroke:#1f77b4;\" x=\"41.746963\" xlink:href=\"#m7a0501df12\" y=\"218.364719\"/>\n     <use style=\"fill:#1f77b4;stroke:#1f77b4;\" x=\"39.855487\" xlink:href=\"#m7a0501df12\" y=\"219.7992\"/>\n     <use style=\"fill:#1f77b4;stroke:#1f77b4;\" x=\"40.526305\" xlink:href=\"#m7a0501df12\" y=\"214.270843\"/>\n     <use style=\"fill:#1f77b4;stroke:#1f77b4;\" x=\"39.439306\" xlink:href=\"#m7a0501df12\" y=\"218.137492\"/>\n     <use style=\"fill:#1f77b4;stroke:#1f77b4;\" x=\"40.777723\" xlink:href=\"#m7a0501df12\" y=\"217.221069\"/>\n     <use style=\"fill:#1f77b4;stroke:#1f77b4;\" x=\"40.255911\" xlink:href=\"#m7a0501df12\" y=\"218.038379\"/>\n     <use style=\"fill:#1f77b4;stroke:#1f77b4;\" x=\"41.933406\" xlink:href=\"#m7a0501df12\" y=\"214.529008\"/>\n     <use style=\"fill:#1f77b4;stroke:#1f77b4;\" x=\"44.353576\" xlink:href=\"#m7a0501df12\" y=\"211.142153\"/>\n     <use style=\"fill:#1f77b4;stroke:#1f77b4;\" x=\"39.576103\" xlink:href=\"#m7a0501df12\" y=\"219.237815\"/>\n     <use style=\"fill:#1f77b4;stroke:#1f77b4;\" x=\"39.409739\" xlink:href=\"#m7a0501df12\" y=\"219.812686\"/>\n     <use style=\"fill:#1f77b4;stroke:#1f77b4;\" x=\"41.343899\" xlink:href=\"#m7a0501df12\" y=\"216.843865\"/>\n     <use style=\"fill:#1f77b4;stroke:#1f77b4;\" x=\"45.466723\" xlink:href=\"#m7a0501df12\" y=\"211.597169\"/>\n     <use style=\"fill:#1f77b4;stroke:#1f77b4;\" x=\"41.242448\" xlink:href=\"#m7a0501df12\" y=\"217.714955\"/>\n     <use style=\"fill:#1f77b4;stroke:#1f77b4;\" x=\"41.397646\" xlink:href=\"#m7a0501df12\" y=\"218.153567\"/>\n     <use style=\"fill:#1f77b4;stroke:#1f77b4;\" x=\"39.157246\" xlink:href=\"#m7a0501df12\" y=\"220.982235\"/>\n     <use style=\"fill:#1f77b4;stroke:#1f77b4;\" x=\"40.028367\" xlink:href=\"#m7a0501df12\" y=\"219.967981\"/>\n     <use style=\"fill:#1f77b4;stroke:#1f77b4;\" x=\"38.577777\" xlink:href=\"#m7a0501df12\" y=\"221.00363\"/>\n     <use style=\"fill:#1f77b4;stroke:#1f77b4;\" x=\"38.695179\" xlink:href=\"#m7a0501df12\" y=\"221.571057\"/>\n     <use style=\"fill:#1f77b4;stroke:#1f77b4;\" x=\"38.205705\" xlink:href=\"#m7a0501df12\" y=\"221.949684\"/>\n     <use style=\"fill:#1f77b4;stroke:#1f77b4;\" x=\"40.141054\" xlink:href=\"#m7a0501df12\" y=\"220.22967\"/>\n     <use style=\"fill:#1f77b4;stroke:#1f77b4;\" x=\"41.149105\" xlink:href=\"#m7a0501df12\" y=\"220.03898\"/>\n     <use style=\"fill:#1f77b4;stroke:#1f77b4;\" x=\"39.604411\" xlink:href=\"#m7a0501df12\" y=\"221.277078\"/>\n     <use style=\"fill:#1f77b4;stroke:#1f77b4;\" x=\"40.797854\" xlink:href=\"#m7a0501df12\" y=\"220.912473\"/>\n     <use style=\"fill:#1f77b4;stroke:#1f77b4;\" x=\"40.870551\" xlink:href=\"#m7a0501df12\" y=\"220.815483\"/>\n     <use style=\"fill:#1f77b4;stroke:#1f77b4;\" x=\"39.91567\" xlink:href=\"#m7a0501df12\" y=\"221.744715\"/>\n     <use style=\"fill:#1f77b4;stroke:#1f77b4;\" x=\"41.90467\" xlink:href=\"#m7a0501df12\" y=\"220.866883\"/>\n     <use style=\"fill:#1f77b4;stroke:#1f77b4;\" x=\"41.448882\" xlink:href=\"#m7a0501df12\" y=\"220.898451\"/>\n     <use style=\"fill:#1f77b4;stroke:#1f77b4;\" x=\"40.254966\" xlink:href=\"#m7a0501df12\" y=\"221.788229\"/>\n     <use style=\"fill:#1f77b4;stroke:#1f77b4;\" x=\"39.99211\" xlink:href=\"#m7a0501df12\" y=\"221.357875\"/>\n     <use style=\"fill:#1f77b4;stroke:#1f77b4;\" x=\"39.27365\" xlink:href=\"#m7a0501df12\" y=\"222.310369\"/>\n     <use style=\"fill:#1f77b4;stroke:#1f77b4;\" x=\"38.214643\" xlink:href=\"#m7a0501df12\" y=\"222.962771\"/>\n     <use style=\"fill:#1f77b4;stroke:#1f77b4;\" x=\"39.597004\" xlink:href=\"#m7a0501df12\" y=\"222.035288\"/>\n     <use style=\"fill:#1f77b4;stroke:#1f77b4;\" x=\"39.315844\" xlink:href=\"#m7a0501df12\" y=\"222.013123\"/>\n     <use style=\"fill:#1f77b4;stroke:#1f77b4;\" x=\"39.289618\" xlink:href=\"#m7a0501df12\" y=\"222.223108\"/>\n     <use style=\"fill:#1f77b4;stroke:#1f77b4;\" x=\"39.62288\" xlink:href=\"#m7a0501df12\" y=\"222.445833\"/>\n     <use style=\"fill:#1f77b4;stroke:#1f77b4;\" x=\"39.888124\" xlink:href=\"#m7a0501df12\" y=\"222.385404\"/>\n     <use style=\"fill:#1f77b4;stroke:#1f77b4;\" x=\"39.074824\" xlink:href=\"#m7a0501df12\" y=\"222.840489\"/>\n     <use style=\"fill:#1f77b4;stroke:#1f77b4;\" x=\"38.544512\" xlink:href=\"#m7a0501df12\" y=\"222.843826\"/>\n     <use style=\"fill:#1f77b4;stroke:#1f77b4;\" x=\"38.88066\" xlink:href=\"#m7a0501df12\" y=\"222.375908\"/>\n     <use style=\"fill:#1f77b4;stroke:#1f77b4;\" x=\"39.198653\" xlink:href=\"#m7a0501df12\" y=\"222.271895\"/>\n     <use style=\"fill:#1f77b4;stroke:#1f77b4;\" x=\"40.917686\" xlink:href=\"#m7a0501df12\" y=\"221.729783\"/>\n     <use style=\"fill:#1f77b4;stroke:#1f77b4;\" x=\"39.508155\" xlink:href=\"#m7a0501df12\" y=\"222.39189\"/>\n     <use style=\"fill:#1f77b4;stroke:#1f77b4;\" x=\"40.835729\" xlink:href=\"#m7a0501df12\" y=\"221.595392\"/>\n     <use style=\"fill:#1f77b4;stroke:#1f77b4;\" x=\"37.934261\" xlink:href=\"#m7a0501df12\" y=\"223.228752\"/>\n     <use style=\"fill:#1f77b4;stroke:#1f77b4;\" x=\"38.730098\" xlink:href=\"#m7a0501df12\" y=\"223.15941\"/>\n     <use style=\"fill:#1f77b4;stroke:#1f77b4;\" x=\"38.870918\" xlink:href=\"#m7a0501df12\" y=\"222.687363\"/>\n     <use style=\"fill:#1f77b4;stroke:#1f77b4;\" x=\"38.463175\" xlink:href=\"#m7a0501df12\" y=\"223.478402\"/>\n     <use style=\"fill:#1f77b4;stroke:#1f77b4;\" x=\"38.854154\" xlink:href=\"#m7a0501df12\" y=\"222.581064\"/>\n     <use style=\"fill:#1f77b4;stroke:#1f77b4;\" x=\"39.200629\" xlink:href=\"#m7a0501df12\" y=\"222.674624\"/>\n     <use style=\"fill:#1f77b4;stroke:#1f77b4;\" x=\"37.849488\" xlink:href=\"#m7a0501df12\" y=\"223.49849\"/>\n     <use style=\"fill:#1f77b4;stroke:#1f77b4;\" x=\"37.094596\" xlink:href=\"#m7a0501df12\" y=\"223.847393\"/>\n     <use style=\"fill:#1f77b4;stroke:#1f77b4;\" x=\"39.029893\" xlink:href=\"#m7a0501df12\" y=\"220.539679\"/>\n     <use style=\"fill:#1f77b4;stroke:#1f77b4;\" x=\"39.108527\" xlink:href=\"#m7a0501df12\" y=\"222.029899\"/>\n     <use style=\"fill:#1f77b4;stroke:#1f77b4;\" x=\"38.787307\" xlink:href=\"#m7a0501df12\" y=\"222.527121\"/>\n     <use style=\"fill:#1f77b4;stroke:#1f77b4;\" x=\"38.50864\" xlink:href=\"#m7a0501df12\" y=\"222.649402\"/>\n     <use style=\"fill:#1f77b4;stroke:#1f77b4;\" x=\"38.06025\" xlink:href=\"#m7a0501df12\" y=\"223.250917\"/>\n     <use style=\"fill:#1f77b4;stroke:#1f77b4;\" x=\"38.430801\" xlink:href=\"#m7a0501df12\" y=\"223.080853\"/>\n     <use style=\"fill:#1f77b4;stroke:#1f77b4;\" x=\"38.177617\" xlink:href=\"#m7a0501df12\" y=\"223.772265\"/>\n     <use style=\"fill:#1f77b4;stroke:#1f77b4;\" x=\"37.220287\" xlink:href=\"#m7a0501df12\" y=\"224.119534\"/>\n     <use style=\"fill:#1f77b4;stroke:#1f77b4;\" x=\"38.401872\" xlink:href=\"#m7a0501df12\" y=\"222.981623\"/>\n     <use style=\"fill:#1f77b4;stroke:#1f77b4;\" x=\"37.927205\" xlink:href=\"#m7a0501df12\" y=\"223.030479\"/>\n     <use style=\"fill:#1f77b4;stroke:#1f77b4;\" x=\"37.539837\" xlink:href=\"#m7a0501df12\" y=\"223.272569\"/>\n     <use style=\"fill:#1f77b4;stroke:#1f77b4;\" x=\"38.786817\" xlink:href=\"#m7a0501df12\" y=\"222.208526\"/>\n     <use style=\"fill:#1f77b4;stroke:#1f77b4;\" x=\"38.724098\" xlink:href=\"#m7a0501df12\" y=\"222.423411\"/>\n     <use style=\"fill:#1f77b4;stroke:#1f77b4;\" x=\"37.205762\" xlink:href=\"#m7a0501df12\" y=\"223.716478\"/>\n     <use style=\"fill:#1f77b4;stroke:#1f77b4;\" x=\"37.187249\" xlink:href=\"#m7a0501df12\" y=\"223.872777\"/>\n     <use style=\"fill:#1f77b4;stroke:#1f77b4;\" x=\"37.013521\" xlink:href=\"#m7a0501df12\" y=\"224.233649\"/>\n     <use style=\"fill:#1f77b4;stroke:#1f77b4;\" x=\"38.033412\" xlink:href=\"#m7a0501df12\" y=\"223.624365\"/>\n     <use style=\"fill:#1f77b4;stroke:#1f77b4;\" x=\"37.540458\" xlink:href=\"#m7a0501df12\" y=\"223.800916\"/>\n     <use style=\"fill:#1f77b4;stroke:#1f77b4;\" x=\"38.155509\" xlink:href=\"#m7a0501df12\" y=\"223.980687\"/>\n     <use style=\"fill:#1f77b4;stroke:#1f77b4;\" x=\"36.518005\" xlink:href=\"#m7a0501df12\" y=\"224.548987\"/>\n     <use style=\"fill:#1f77b4;stroke:#1f77b4;\" x=\"36.701475\" xlink:href=\"#m7a0501df12\" y=\"224.585456\"/>\n     <use style=\"fill:#1f77b4;stroke:#1f77b4;\" x=\"36.418041\" xlink:href=\"#m7a0501df12\" y=\"224.592426\"/>\n     <use style=\"fill:#1f77b4;stroke:#1f77b4;\" x=\"37.503782\" xlink:href=\"#m7a0501df12\" y=\"223.356073\"/>\n     <use style=\"fill:#1f77b4;stroke:#1f77b4;\" x=\"36.960448\" xlink:href=\"#m7a0501df12\" y=\"224.014938\"/>\n     <use style=\"fill:#1f77b4;stroke:#1f77b4;\" x=\"37.28326\" xlink:href=\"#m7a0501df12\" y=\"223.447884\"/>\n     <use style=\"fill:#1f77b4;stroke:#1f77b4;\" x=\"41.01243\" xlink:href=\"#m7a0501df12\" y=\"220.927312\"/>\n     <use style=\"fill:#1f77b4;stroke:#1f77b4;\" x=\"40.013938\" xlink:href=\"#m7a0501df12\" y=\"221.160886\"/>\n     <use style=\"fill:#1f77b4;stroke:#1f77b4;\" x=\"37.763831\" xlink:href=\"#m7a0501df12\" y=\"223.261137\"/>\n     <use style=\"fill:#1f77b4;stroke:#1f77b4;\" x=\"37.810223\" xlink:href=\"#m7a0501df12\" y=\"222.778147\"/>\n     <use style=\"fill:#1f77b4;stroke:#1f77b4;\" x=\"38.148504\" xlink:href=\"#m7a0501df12\" y=\"222.701409\"/>\n     <use style=\"fill:#1f77b4;stroke:#1f77b4;\" x=\"39.25874\" xlink:href=\"#m7a0501df12\" y=\"222.698189\"/>\n     <use style=\"fill:#1f77b4;stroke:#1f77b4;\" x=\"38.934327\" xlink:href=\"#m7a0501df12\" y=\"222.692169\"/>\n     <use style=\"fill:#1f77b4;stroke:#1f77b4;\" x=\"39.400697\" xlink:href=\"#m7a0501df12\" y=\"221.539746\"/>\n     <use style=\"fill:#1f77b4;stroke:#1f77b4;\" x=\"40.603043\" xlink:href=\"#m7a0501df12\" y=\"220.157109\"/>\n     <use style=\"fill:#1f77b4;stroke:#1f77b4;\" x=\"39.825125\" xlink:href=\"#m7a0501df12\" y=\"220.710093\"/>\n     <use style=\"fill:#1f77b4;stroke:#1f77b4;\" x=\"39.021768\" xlink:href=\"#m7a0501df12\" y=\"221.144507\"/>\n     <use style=\"fill:#1f77b4;stroke:#1f77b4;\" x=\"39.279999\" xlink:href=\"#m7a0501df12\" y=\"221.236527\"/>\n     <use style=\"fill:#1f77b4;stroke:#1f77b4;\" x=\"42.562519\" xlink:href=\"#m7a0501df12\" y=\"218.448317\"/>\n     <use style=\"fill:#1f77b4;stroke:#1f77b4;\" x=\"42.916078\" xlink:href=\"#m7a0501df12\" y=\"216.968433\"/>\n     <use style=\"fill:#1f77b4;stroke:#1f77b4;\" x=\"41.068668\" xlink:href=\"#m7a0501df12\" y=\"219.843204\"/>\n     <use style=\"fill:#1f77b4;stroke:#1f77b4;\" x=\"39.840639\" xlink:href=\"#m7a0501df12\" y=\"220.743528\"/>\n     <use style=\"fill:#1f77b4;stroke:#1f77b4;\" x=\"40.049809\" xlink:href=\"#m7a0501df12\" y=\"220.980275\"/>\n     <use style=\"fill:#1f77b4;stroke:#1f77b4;\" x=\"40.965863\" xlink:href=\"#m7a0501df12\" y=\"220.411214\"/>\n     <use style=\"fill:#1f77b4;stroke:#1f77b4;\" x=\"40.809258\" xlink:href=\"#m7a0501df12\" y=\"220.148639\"/>\n     <use style=\"fill:#1f77b4;stroke:#1f77b4;\" x=\"39.968953\" xlink:href=\"#m7a0501df12\" y=\"220.554937\"/>\n     <use style=\"fill:#1f77b4;stroke:#1f77b4;\" x=\"39.833529\" xlink:href=\"#m7a0501df12\" y=\"220.220571\"/>\n     <use style=\"fill:#1f77b4;stroke:#1f77b4;\" x=\"42.150193\" xlink:href=\"#m7a0501df12\" y=\"216.980566\"/>\n     <use style=\"fill:#1f77b4;stroke:#1f77b4;\" x=\"40.410408\" xlink:href=\"#m7a0501df12\" y=\"218.561359\"/>\n     <use style=\"fill:#1f77b4;stroke:#1f77b4;\" x=\"39.915539\" xlink:href=\"#m7a0501df12\" y=\"219.724142\"/>\n     <use style=\"fill:#1f77b4;stroke:#1f77b4;\" x=\"39.539803\" xlink:href=\"#m7a0501df12\" y=\"219.559583\"/>\n     <use style=\"fill:#1f77b4;stroke:#1f77b4;\" x=\"39.689989\" xlink:href=\"#m7a0501df12\" y=\"216.735162\"/>\n     <use style=\"fill:#1f77b4;stroke:#1f77b4;\" x=\"39.709097\" xlink:href=\"#m7a0501df12\" y=\"219.991407\"/>\n     <use style=\"fill:#1f77b4;stroke:#1f77b4;\" x=\"39.543835\" xlink:href=\"#m7a0501df12\" y=\"220.090846\"/>\n     <use style=\"fill:#1f77b4;stroke:#1f77b4;\" x=\"39.263829\" xlink:href=\"#m7a0501df12\" y=\"220.391639\"/>\n     <use style=\"fill:#1f77b4;stroke:#1f77b4;\" x=\"40.647126\" xlink:href=\"#m7a0501df12\" y=\"219.12909\"/>\n     <use style=\"fill:#1f77b4;stroke:#1f77b4;\" x=\"39.189217\" xlink:href=\"#m7a0501df12\" y=\"220.579389\"/>\n     <use style=\"fill:#1f77b4;stroke:#1f77b4;\" x=\"38.354072\" xlink:href=\"#m7a0501df12\" y=\"221.293293\"/>\n     <use style=\"fill:#1f77b4;stroke:#1f77b4;\" x=\"39.663868\" xlink:href=\"#m7a0501df12\" y=\"219.793974\"/>\n     <use style=\"fill:#1f77b4;stroke:#1f77b4;\" x=\"39.088064\" xlink:href=\"#m7a0501df12\" y=\"220.918656\"/>\n     <use style=\"fill:#1f77b4;stroke:#1f77b4;\" x=\"39.135733\" xlink:href=\"#m7a0501df12\" y=\"221.028175\"/>\n     <use style=\"fill:#1f77b4;stroke:#1f77b4;\" x=\"38.350706\" xlink:href=\"#m7a0501df12\" y=\"221.321011\"/>\n     <use style=\"fill:#1f77b4;stroke:#1f77b4;\" x=\"38.264708\" xlink:href=\"#m7a0501df12\" y=\"221.425724\"/>\n     <use style=\"fill:#1f77b4;stroke:#1f77b4;\" x=\"37.344921\" xlink:href=\"#m7a0501df12\" y=\"222.088788\"/>\n     <use style=\"fill:#1f77b4;stroke:#1f77b4;\" x=\"37.763507\" xlink:href=\"#m7a0501df12\" y=\"221.77297\"/>\n     <use style=\"fill:#1f77b4;stroke:#1f77b4;\" x=\"37.731964\" xlink:href=\"#m7a0501df12\" y=\"222.127005\"/>\n     <use style=\"fill:#1f77b4;stroke:#1f77b4;\" x=\"37.716241\" xlink:href=\"#m7a0501df12\" y=\"221.601342\"/>\n     <use style=\"fill:#1f77b4;stroke:#1f77b4;\" x=\"38.900406\" xlink:href=\"#m7a0501df12\" y=\"219.816559\"/>\n     <use style=\"fill:#1f77b4;stroke:#1f77b4;\" x=\"38.513966\" xlink:href=\"#m7a0501df12\" y=\"220.293296\"/>\n     <use style=\"fill:#1f77b4;stroke:#1f77b4;\" x=\"37.480843\" xlink:href=\"#m7a0501df12\" y=\"221.880272\"/>\n     <use style=\"fill:#1f77b4;stroke:#1f77b4;\" x=\"36.767001\" xlink:href=\"#m7a0501df12\" y=\"222.852318\"/>\n     <use style=\"fill:#1f77b4;stroke:#1f77b4;\" x=\"36.771356\" xlink:href=\"#m7a0501df12\" y=\"222.631857\"/>\n     <use style=\"fill:#1f77b4;stroke:#1f77b4;\" x=\"37.631931\" xlink:href=\"#m7a0501df12\" y=\"221.306359\"/>\n     <use style=\"fill:#1f77b4;stroke:#1f77b4;\" x=\"38.17592\" xlink:href=\"#m7a0501df12\" y=\"221.367208\"/>\n     <use style=\"fill:#1f77b4;stroke:#1f77b4;\" x=\"37.528687\" xlink:href=\"#m7a0501df12\" y=\"222.013146\"/>\n     <use style=\"fill:#1f77b4;stroke:#1f77b4;\" x=\"37.707601\" xlink:href=\"#m7a0501df12\" y=\"222.173972\"/>\n     <use style=\"fill:#1f77b4;stroke:#1f77b4;\" x=\"37.527743\" xlink:href=\"#m7a0501df12\" y=\"222.265316\"/>\n     <use style=\"fill:#1f77b4;stroke:#1f77b4;\" x=\"37.543344\" xlink:href=\"#m7a0501df12\" y=\"222.418138\"/>\n     <use style=\"fill:#1f77b4;stroke:#1f77b4;\" x=\"37.466791\" xlink:href=\"#m7a0501df12\" y=\"222.529757\"/>\n     <use style=\"fill:#1f77b4;stroke:#1f77b4;\" x=\"37.590453\" xlink:href=\"#m7a0501df12\" y=\"222.364382\"/>\n     <use style=\"fill:#1f77b4;stroke:#1f77b4;\" x=\"37.562968\" xlink:href=\"#m7a0501df12\" y=\"222.502413\"/>\n     <use style=\"fill:#1f77b4;stroke:#1f77b4;\" x=\"37.327308\" xlink:href=\"#m7a0501df12\" y=\"222.707125\"/>\n     <use style=\"fill:#1f77b4;stroke:#1f77b4;\" x=\"37.14676\" xlink:href=\"#m7a0501df12\" y=\"222.418722\"/>\n     <use style=\"fill:#1f77b4;stroke:#1f77b4;\" x=\"36.920947\" xlink:href=\"#m7a0501df12\" y=\"222.984189\"/>\n     <use style=\"fill:#1f77b4;stroke:#1f77b4;\" x=\"36.586575\" xlink:href=\"#m7a0501df12\" y=\"223.2606\"/>\n     <use style=\"fill:#1f77b4;stroke:#1f77b4;\" x=\"38.300256\" xlink:href=\"#m7a0501df12\" y=\"221.591052\"/>\n     <use style=\"fill:#1f77b4;stroke:#1f77b4;\" x=\"37.373665\" xlink:href=\"#m7a0501df12\" y=\"222.180785\"/>\n     <use style=\"fill:#1f77b4;stroke:#1f77b4;\" x=\"37.294182\" xlink:href=\"#m7a0501df12\" y=\"222.29595\"/>\n     <use style=\"fill:#1f77b4;stroke:#1f77b4;\" x=\"37.642206\" xlink:href=\"#m7a0501df12\" y=\"221.952111\"/>\n     <use style=\"fill:#1f77b4;stroke:#1f77b4;\" x=\"37.717727\" xlink:href=\"#m7a0501df12\" y=\"221.068958\"/>\n     <use style=\"fill:#1f77b4;stroke:#1f77b4;\" x=\"36.682918\" xlink:href=\"#m7a0501df12\" y=\"222.586407\"/>\n     <use style=\"fill:#1f77b4;stroke:#1f77b4;\" x=\"36.017233\" xlink:href=\"#m7a0501df12\" y=\"223.739367\"/>\n     <use style=\"fill:#1f77b4;stroke:#1f77b4;\" x=\"35.938397\" xlink:href=\"#m7a0501df12\" y=\"223.854252\"/>\n     <use style=\"fill:#1f77b4;stroke:#1f77b4;\" x=\"36.756209\" xlink:href=\"#m7a0501df12\" y=\"223.273293\"/>\n     <use style=\"fill:#1f77b4;stroke:#1f77b4;\" x=\"36.771802\" xlink:href=\"#m7a0501df12\" y=\"222.777027\"/>\n     <use style=\"fill:#1f77b4;stroke:#1f77b4;\" x=\"36.624545\" xlink:href=\"#m7a0501df12\" y=\"223.080992\"/>\n     <use style=\"fill:#1f77b4;stroke:#1f77b4;\" x=\"36.310155\" xlink:href=\"#m7a0501df12\" y=\"223.394151\"/>\n     <use style=\"fill:#1f77b4;stroke:#1f77b4;\" x=\"37.66622\" xlink:href=\"#m7a0501df12\" y=\"221.611701\"/>\n     <use style=\"fill:#1f77b4;stroke:#1f77b4;\" x=\"36.224655\" xlink:href=\"#m7a0501df12\" y=\"222.952458\"/>\n     <use style=\"fill:#1f77b4;stroke:#1f77b4;\" x=\"37.21769\" xlink:href=\"#m7a0501df12\" y=\"220.99446\"/>\n     <use style=\"fill:#1f77b4;stroke:#1f77b4;\" x=\"38.034383\" xlink:href=\"#m7a0501df12\" y=\"217.454176\"/>\n     <use style=\"fill:#1f77b4;stroke:#1f77b4;\" x=\"36.092081\" xlink:href=\"#m7a0501df12\" y=\"223.640324\"/>\n     <use style=\"fill:#1f77b4;stroke:#1f77b4;\" x=\"36.106476\" xlink:href=\"#m7a0501df12\" y=\"223.611439\"/>\n     <use style=\"fill:#1f77b4;stroke:#1f77b4;\" x=\"36.256522\" xlink:href=\"#m7a0501df12\" y=\"223.630454\"/>\n     <use style=\"fill:#1f77b4;stroke:#1f77b4;\" x=\"36.692397\" xlink:href=\"#m7a0501df12\" y=\"223.155164\"/>\n     <use style=\"fill:#1f77b4;stroke:#1f77b4;\" x=\"37.197533\" xlink:href=\"#m7a0501df12\" y=\"223.36179\"/>\n     <use style=\"fill:#1f77b4;stroke:#1f77b4;\" x=\"37.41126\" xlink:href=\"#m7a0501df12\" y=\"223.278285\"/>\n     <use style=\"fill:#1f77b4;stroke:#1f77b4;\" x=\"37.069043\" xlink:href=\"#m7a0501df12\" y=\"223.012164\"/>\n     <use style=\"fill:#1f77b4;stroke:#1f77b4;\" x=\"37.309862\" xlink:href=\"#m7a0501df12\" y=\"222.87649\"/>\n     <use style=\"fill:#1f77b4;stroke:#1f77b4;\" x=\"36.876444\" xlink:href=\"#m7a0501df12\" y=\"223.189532\"/>\n     <use style=\"fill:#1f77b4;stroke:#1f77b4;\" x=\"37.595762\" xlink:href=\"#m7a0501df12\" y=\"222.53895\"/>\n     <use style=\"fill:#1f77b4;stroke:#1f77b4;\" x=\"36.996486\" xlink:href=\"#m7a0501df12\" y=\"223.007918\"/>\n     <use style=\"fill:#1f77b4;stroke:#1f77b4;\" x=\"36.687894\" xlink:href=\"#m7a0501df12\" y=\"223.636124\"/>\n     <use style=\"fill:#1f77b4;stroke:#1f77b4;\" x=\"36.185172\" xlink:href=\"#m7a0501df12\" y=\"223.668322\"/>\n     <use style=\"fill:#1f77b4;stroke:#1f77b4;\" x=\"36.475435\" xlink:href=\"#m7a0501df12\" y=\"223.226792\"/>\n     <use style=\"fill:#1f77b4;stroke:#1f77b4;\" x=\"36.767779\" xlink:href=\"#m7a0501df12\" y=\"222.631204\"/>\n     <use style=\"fill:#1f77b4;stroke:#1f77b4;\" x=\"36.41136\" xlink:href=\"#m7a0501df12\" y=\"223.486544\"/>\n     <use style=\"fill:#1f77b4;stroke:#1f77b4;\" x=\"36.520944\" xlink:href=\"#m7a0501df12\" y=\"223.316293\"/>\n     <use style=\"fill:#1f77b4;stroke:#1f77b4;\" x=\"36.551752\" xlink:href=\"#m7a0501df12\" y=\"223.329755\"/>\n     <use style=\"fill:#1f77b4;stroke:#1f77b4;\" x=\"35.780682\" xlink:href=\"#m7a0501df12\" y=\"223.922031\"/>\n     <use style=\"fill:#1f77b4;stroke:#1f77b4;\" x=\"36.097066\" xlink:href=\"#m7a0501df12\" y=\"223.655256\"/>\n     <use style=\"fill:#1f77b4;stroke:#1f77b4;\" x=\"37.356639\" xlink:href=\"#m7a0501df12\" y=\"222.468791\"/>\n     <use style=\"fill:#1f77b4;stroke:#1f77b4;\" x=\"38.437648\" xlink:href=\"#m7a0501df12\" y=\"221.466881\"/>\n     <use style=\"fill:#1f77b4;stroke:#1f77b4;\" x=\"38.561355\" xlink:href=\"#m7a0501df12\" y=\"221.272155\"/>\n     <use style=\"fill:#1f77b4;stroke:#1f77b4;\" x=\"37.694046\" xlink:href=\"#m7a0501df12\" y=\"221.978686\"/>\n     <use style=\"fill:#1f77b4;stroke:#1f77b4;\" x=\"37.541219\" xlink:href=\"#m7a0501df12\" y=\"222.555889\"/>\n     <use style=\"fill:#1f77b4;stroke:#1f77b4;\" x=\"36.48285\" xlink:href=\"#m7a0501df12\" y=\"223.295598\"/>\n     <use style=\"fill:#1f77b4;stroke:#1f77b4;\" x=\"36.45561\" xlink:href=\"#m7a0501df12\" y=\"223.682251\"/>\n     <use style=\"fill:#1f77b4;stroke:#1f77b4;\" x=\"37.712279\" xlink:href=\"#m7a0501df12\" y=\"223.079336\"/>\n     <use style=\"fill:#1f77b4;stroke:#1f77b4;\" x=\"39.588259\" xlink:href=\"#m7a0501df12\" y=\"221.468234\"/>\n     <use style=\"fill:#1f77b4;stroke:#1f77b4;\" x=\"38.335726\" xlink:href=\"#m7a0501df12\" y=\"222.30057\"/>\n     <use style=\"fill:#1f77b4;stroke:#1f77b4;\" x=\"37.50818\" xlink:href=\"#m7a0501df12\" y=\"223.022033\"/>\n     <use style=\"fill:#1f77b4;stroke:#1f77b4;\" x=\"37.767722\" xlink:href=\"#m7a0501df12\" y=\"222.759085\"/>\n     <use style=\"fill:#1f77b4;stroke:#1f77b4;\" x=\"36.712091\" xlink:href=\"#m7a0501df12\" y=\"223.231249\"/>\n     <use style=\"fill:#1f77b4;stroke:#1f77b4;\" x=\"36.815666\" xlink:href=\"#m7a0501df12\" y=\"222.997885\"/>\n     <use style=\"fill:#1f77b4;stroke:#1f77b4;\" x=\"38.078624\" xlink:href=\"#m7a0501df12\" y=\"221.808714\"/>\n     <use style=\"fill:#1f77b4;stroke:#1f77b4;\" x=\"37.84787\" xlink:href=\"#m7a0501df12\" y=\"222.557452\"/>\n     <use style=\"fill:#1f77b4;stroke:#1f77b4;\" x=\"37.419445\" xlink:href=\"#m7a0501df12\" y=\"222.400243\"/>\n     <use style=\"fill:#1f77b4;stroke:#1f77b4;\" x=\"36.909168\" xlink:href=\"#m7a0501df12\" y=\"223.143965\"/>\n     <use style=\"fill:#1f77b4;stroke:#1f77b4;\" x=\"37.27037\" xlink:href=\"#m7a0501df12\" y=\"222.786896\"/>\n     <use style=\"fill:#1f77b4;stroke:#1f77b4;\" x=\"36.956635\" xlink:href=\"#m7a0501df12\" y=\"223.383721\"/>\n     <use style=\"fill:#1f77b4;stroke:#1f77b4;\" x=\"36.441312\" xlink:href=\"#m7a0501df12\" y=\"223.54639\"/>\n     <use style=\"fill:#1f77b4;stroke:#1f77b4;\" x=\"36.657129\" xlink:href=\"#m7a0501df12\" y=\"223.574248\"/>\n     <use style=\"fill:#1f77b4;stroke:#1f77b4;\" x=\"37.319036\" xlink:href=\"#m7a0501df12\" y=\"222.539557\"/>\n     <use style=\"fill:#1f77b4;stroke:#1f77b4;\" x=\"37.65277\" xlink:href=\"#m7a0501df12\" y=\"222.10155\"/>\n     <use style=\"fill:#1f77b4;stroke:#1f77b4;\" x=\"36.955455\" xlink:href=\"#m7a0501df12\" y=\"223.033582\"/>\n     <use style=\"fill:#1f77b4;stroke:#1f77b4;\" x=\"37.184258\" xlink:href=\"#m7a0501df12\" y=\"222.840419\"/>\n     <use style=\"fill:#1f77b4;stroke:#1f77b4;\" x=\"36.763774\" xlink:href=\"#m7a0501df12\" y=\"222.62817\"/>\n     <use style=\"fill:#1f77b4;stroke:#1f77b4;\" x=\"38.178185\" xlink:href=\"#m7a0501df12\" y=\"223.013027\"/>\n     <use style=\"fill:#1f77b4;stroke:#1f77b4;\" x=\"36.795369\" xlink:href=\"#m7a0501df12\" y=\"222.719584\"/>\n     <use style=\"fill:#1f77b4;stroke:#1f77b4;\" x=\"37.860262\" xlink:href=\"#m7a0501df12\" y=\"221.81744\"/>\n     <use style=\"fill:#1f77b4;stroke:#1f77b4;\" x=\"37.504997\" xlink:href=\"#m7a0501df12\" y=\"222.423365\"/>\n     <use style=\"fill:#1f77b4;stroke:#1f77b4;\" x=\"37.009131\" xlink:href=\"#m7a0501df12\" y=\"223.182065\"/>\n     <use style=\"fill:#1f77b4;stroke:#1f77b4;\" x=\"37.590296\" xlink:href=\"#m7a0501df12\" y=\"222.14966\"/>\n     <use style=\"fill:#1f77b4;stroke:#1f77b4;\" x=\"36.708392\" xlink:href=\"#m7a0501df12\" y=\"222.68965\"/>\n     <use style=\"fill:#1f77b4;stroke:#1f77b4;\" x=\"36.119549\" xlink:href=\"#m7a0501df12\" y=\"223.427188\"/>\n     <use style=\"fill:#1f77b4;stroke:#1f77b4;\" x=\"36.42906\" xlink:href=\"#m7a0501df12\" y=\"223.506796\"/>\n     <use style=\"fill:#1f77b4;stroke:#1f77b4;\" x=\"36.177275\" xlink:href=\"#m7a0501df12\" y=\"224.089319\"/>\n     <use style=\"fill:#1f77b4;stroke:#1f77b4;\" x=\"37.306189\" xlink:href=\"#m7a0501df12\" y=\"223.287781\"/>\n     <use style=\"fill:#1f77b4;stroke:#1f77b4;\" x=\"36.220125\" xlink:href=\"#m7a0501df12\" y=\"223.839577\"/>\n     <use style=\"fill:#1f77b4;stroke:#1f77b4;\" x=\"36.807472\" xlink:href=\"#m7a0501df12\" y=\"223.421915\"/>\n     <use style=\"fill:#1f77b4;stroke:#1f77b4;\" x=\"36.1208\" xlink:href=\"#m7a0501df12\" y=\"223.9861\"/>\n     <use style=\"fill:#1f77b4;stroke:#1f77b4;\" x=\"36.105846\" xlink:href=\"#m7a0501df12\" y=\"223.990089\"/>\n     <use style=\"fill:#1f77b4;stroke:#1f77b4;\" x=\"36.738544\" xlink:href=\"#m7a0501df12\" y=\"223.523128\"/>\n     <use style=\"fill:#1f77b4;stroke:#1f77b4;\" x=\"37.299045\" xlink:href=\"#m7a0501df12\" y=\"223.274506\"/>\n     <use style=\"fill:#1f77b4;stroke:#1f77b4;\" x=\"36.849501\" xlink:href=\"#m7a0501df12\" y=\"223.365243\"/>\n     <use style=\"fill:#1f77b4;stroke:#1f77b4;\" x=\"37.12704\" xlink:href=\"#m7a0501df12\" y=\"223.275089\"/>\n     <use style=\"fill:#1f77b4;stroke:#1f77b4;\" x=\"37.155373\" xlink:href=\"#m7a0501df12\" y=\"223.511183\"/>\n     <use style=\"fill:#1f77b4;stroke:#1f77b4;\" x=\"36.823414\" xlink:href=\"#m7a0501df12\" y=\"223.196858\"/>\n     <use style=\"fill:#1f77b4;stroke:#1f77b4;\" x=\"37.010111\" xlink:href=\"#m7a0501df12\" y=\"223.723175\"/>\n     <use style=\"fill:#1f77b4;stroke:#1f77b4;\" x=\"36.798675\" xlink:href=\"#m7a0501df12\" y=\"223.551826\"/>\n     <use style=\"fill:#1f77b4;stroke:#1f77b4;\" x=\"36.961226\" xlink:href=\"#m7a0501df12\" y=\"223.177632\"/>\n     <use style=\"fill:#1f77b4;stroke:#1f77b4;\" x=\"38.296426\" xlink:href=\"#m7a0501df12\" y=\"221.228221\"/>\n     <use style=\"fill:#1f77b4;stroke:#1f77b4;\" x=\"38.054199\" xlink:href=\"#m7a0501df12\" y=\"221.912027\"/>\n     <use style=\"fill:#1f77b4;stroke:#1f77b4;\" x=\"36.953391\" xlink:href=\"#m7a0501df12\" y=\"222.889742\"/>\n     <use style=\"fill:#1f77b4;stroke:#1f77b4;\" x=\"36.57769\" xlink:href=\"#m7a0501df12\" y=\"223.265523\"/>\n     <use style=\"fill:#1f77b4;stroke:#1f77b4;\" x=\"36.434998\" xlink:href=\"#m7a0501df12\" y=\"223.105047\"/>\n     <use style=\"fill:#1f77b4;stroke:#1f77b4;\" x=\"36.47191\" xlink:href=\"#m7a0501df12\" y=\"223.298747\"/>\n     <use style=\"fill:#1f77b4;stroke:#1f77b4;\" x=\"36.590676\" xlink:href=\"#m7a0501df12\" y=\"223.144898\"/>\n     <use style=\"fill:#1f77b4;stroke:#1f77b4;\" x=\"36.778098\" xlink:href=\"#m7a0501df12\" y=\"222.431064\"/>\n     <use style=\"fill:#1f77b4;stroke:#1f77b4;\" x=\"36.906369\" xlink:href=\"#m7a0501df12\" y=\"221.367441\"/>\n     <use style=\"fill:#1f77b4;stroke:#1f77b4;\" x=\"36.788583\" xlink:href=\"#m7a0501df12\" y=\"221.597329\"/>\n     <use style=\"fill:#1f77b4;stroke:#1f77b4;\" x=\"36.036586\" xlink:href=\"#m7a0501df12\" y=\"222.907871\"/>\n     <use style=\"fill:#1f77b4;stroke:#1f77b4;\" x=\"36.086808\" xlink:href=\"#m7a0501df12\" y=\"223.300381\"/>\n     <use style=\"fill:#1f77b4;stroke:#1f77b4;\" x=\"36.643906\" xlink:href=\"#m7a0501df12\" y=\"222.092614\"/>\n     <use style=\"fill:#1f77b4;stroke:#1f77b4;\" x=\"36.879417\" xlink:href=\"#m7a0501df12\" y=\"222.604209\"/>\n     <use style=\"fill:#1f77b4;stroke:#1f77b4;\" x=\"37.099135\" xlink:href=\"#m7a0501df12\" y=\"222.761255\"/>\n     <use style=\"fill:#1f77b4;stroke:#1f77b4;\" x=\"37.02635\" xlink:href=\"#m7a0501df12\" y=\"222.647536\"/>\n     <use style=\"fill:#1f77b4;stroke:#1f77b4;\" x=\"38.936103\" xlink:href=\"#m7a0501df12\" y=\"220.18807\"/>\n     <use style=\"fill:#1f77b4;stroke:#1f77b4;\" x=\"37.167625\" xlink:href=\"#m7a0501df12\" y=\"222.321475\"/>\n     <use style=\"fill:#1f77b4;stroke:#1f77b4;\" x=\"36.894642\" xlink:href=\"#m7a0501df12\" y=\"222.854255\"/>\n     <use style=\"fill:#1f77b4;stroke:#1f77b4;\" x=\"36.876986\" xlink:href=\"#m7a0501df12\" y=\"222.7253\"/>\n     <use style=\"fill:#1f77b4;stroke:#1f77b4;\" x=\"37.356971\" xlink:href=\"#m7a0501df12\" y=\"221.858247\"/>\n     <use style=\"fill:#1f77b4;stroke:#1f77b4;\" x=\"37.104347\" xlink:href=\"#m7a0501df12\" y=\"222.708128\"/>\n     <use style=\"fill:#1f77b4;stroke:#1f77b4;\" x=\"37.252583\" xlink:href=\"#m7a0501df12\" y=\"222.068326\"/>\n     <use style=\"fill:#1f77b4;stroke:#1f77b4;\" x=\"37.609045\" xlink:href=\"#m7a0501df12\" y=\"222.096791\"/>\n     <use style=\"fill:#1f77b4;stroke:#1f77b4;\" x=\"37.039975\" xlink:href=\"#m7a0501df12\" y=\"221.652088\"/>\n     <use style=\"fill:#1f77b4;stroke:#1f77b4;\" x=\"36.723923\" xlink:href=\"#m7a0501df12\" y=\"222.686056\"/>\n     <use style=\"fill:#1f77b4;stroke:#1f77b4;\" x=\"36.722777\" xlink:href=\"#m7a0501df12\" y=\"223.078169\"/>\n     <use style=\"fill:#1f77b4;stroke:#1f77b4;\" x=\"36.703792\" xlink:href=\"#m7a0501df12\" y=\"223.207474\"/>\n     <use style=\"fill:#1f77b4;stroke:#1f77b4;\" x=\"36.623382\" xlink:href=\"#m7a0501df12\" y=\"222.876513\"/>\n     <use style=\"fill:#1f77b4;stroke:#1f77b4;\" x=\"36.580619\" xlink:href=\"#m7a0501df12\" y=\"223.353484\"/>\n     <use style=\"fill:#1f77b4;stroke:#1f77b4;\" x=\"36.434657\" xlink:href=\"#m7a0501df12\" y=\"223.195225\"/>\n     <use style=\"fill:#1f77b4;stroke:#1f77b4;\" x=\"36.074574\" xlink:href=\"#m7a0501df12\" y=\"223.293824\"/>\n     <use style=\"fill:#1f77b4;stroke:#1f77b4;\" x=\"36.115579\" xlink:href=\"#m7a0501df12\" y=\"223.374529\"/>\n     <use style=\"fill:#1f77b4;stroke:#1f77b4;\" x=\"36.703967\" xlink:href=\"#m7a0501df12\" y=\"223.373922\"/>\n     <use style=\"fill:#1f77b4;stroke:#1f77b4;\" x=\"36.355349\" xlink:href=\"#m7a0501df12\" y=\"223.527002\"/>\n     <use style=\"fill:#1f77b4;stroke:#1f77b4;\" x=\"36.53623\" xlink:href=\"#m7a0501df12\" y=\"223.576208\"/>\n     <use style=\"fill:#1f77b4;stroke:#1f77b4;\" x=\"37.75527\" xlink:href=\"#m7a0501df12\" y=\"221.747982\"/>\n     <use style=\"fill:#1f77b4;stroke:#1f77b4;\" x=\"36.5326\" xlink:href=\"#m7a0501df12\" y=\"223.333885\"/>\n     <use style=\"fill:#1f77b4;stroke:#1f77b4;\" x=\"35.903426\" xlink:href=\"#m7a0501df12\" y=\"224.081176\"/>\n     <use style=\"fill:#1f77b4;stroke:#1f77b4;\" x=\"35.922044\" xlink:href=\"#m7a0501df12\" y=\"224.077327\"/>\n     <use style=\"fill:#1f77b4;stroke:#1f77b4;\" x=\"39.669657\" xlink:href=\"#m7a0501df12\" y=\"220.118938\"/>\n     <use style=\"fill:#1f77b4;stroke:#1f77b4;\" x=\"36.787341\" xlink:href=\"#m7a0501df12\" y=\"223.230339\"/>\n     <use style=\"fill:#1f77b4;stroke:#1f77b4;\" x=\"36.799252\" xlink:href=\"#m7a0501df12\" y=\"223.436008\"/>\n     <use style=\"fill:#1f77b4;stroke:#1f77b4;\" x=\"36.655537\" xlink:href=\"#m7a0501df12\" y=\"223.618625\"/>\n     <use style=\"fill:#1f77b4;stroke:#1f77b4;\" x=\"36.353652\" xlink:href=\"#m7a0501df12\" y=\"223.855162\"/>\n     <use style=\"fill:#1f77b4;stroke:#1f77b4;\" x=\"36.17898\" xlink:href=\"#m7a0501df12\" y=\"223.915125\"/>\n     <use style=\"fill:#1f77b4;stroke:#1f77b4;\" x=\"36.069213\" xlink:href=\"#m7a0501df12\" y=\"224.028237\"/>\n     <use style=\"fill:#1f77b4;stroke:#1f77b4;\" x=\"36.435846\" xlink:href=\"#m7a0501df12\" y=\"223.704673\"/>\n     <use style=\"fill:#1f77b4;stroke:#1f77b4;\" x=\"36.473703\" xlink:href=\"#m7a0501df12\" y=\"223.918134\"/>\n     <use style=\"fill:#1f77b4;stroke:#1f77b4;\" x=\"36.218805\" xlink:href=\"#m7a0501df12\" y=\"224.233743\"/>\n     <use style=\"fill:#1f77b4;stroke:#1f77b4;\" x=\"36.049047\" xlink:href=\"#m7a0501df12\" y=\"224.232156\"/>\n     <use style=\"fill:#1f77b4;stroke:#1f77b4;\" x=\"36.115072\" xlink:href=\"#m7a0501df12\" y=\"224.095875\"/>\n     <use style=\"fill:#1f77b4;stroke:#1f77b4;\" x=\"36.191328\" xlink:href=\"#m7a0501df12\" y=\"224.274363\"/>\n     <use style=\"fill:#1f77b4;stroke:#1f77b4;\" x=\"36.236749\" xlink:href=\"#m7a0501df12\" y=\"224.147602\"/>\n     <use style=\"fill:#1f77b4;stroke:#1f77b4;\" x=\"36.89675\" xlink:href=\"#m7a0501df12\" y=\"223.265453\"/>\n     <use style=\"fill:#1f77b4;stroke:#1f77b4;\" x=\"36.530502\" xlink:href=\"#m7a0501df12\" y=\"223.624131\"/>\n     <use style=\"fill:#1f77b4;stroke:#1f77b4;\" x=\"36.889168\" xlink:href=\"#m7a0501df12\" y=\"223.440091\"/>\n     <use style=\"fill:#1f77b4;stroke:#1f77b4;\" x=\"36.53776\" xlink:href=\"#m7a0501df12\" y=\"223.68666\"/>\n     <use style=\"fill:#1f77b4;stroke:#1f77b4;\" x=\"36.927322\" xlink:href=\"#m7a0501df12\" y=\"223.417949\"/>\n     <use style=\"fill:#1f77b4;stroke:#1f77b4;\" x=\"36.423411\" xlink:href=\"#m7a0501df12\" y=\"223.755606\"/>\n     <use style=\"fill:#1f77b4;stroke:#1f77b4;\" x=\"37.063\" xlink:href=\"#m7a0501df12\" y=\"222.723994\"/>\n     <use style=\"fill:#1f77b4;stroke:#1f77b4;\" x=\"36.874791\" xlink:href=\"#m7a0501df12\" y=\"223.040815\"/>\n     <use style=\"fill:#1f77b4;stroke:#1f77b4;\" x=\"37.334112\" xlink:href=\"#m7a0501df12\" y=\"222.472851\"/>\n     <use style=\"fill:#1f77b4;stroke:#1f77b4;\" x=\"37.545058\" xlink:href=\"#m7a0501df12\" y=\"222.307453\"/>\n     <use style=\"fill:#1f77b4;stroke:#1f77b4;\" x=\"37.303697\" xlink:href=\"#m7a0501df12\" y=\"222.677844\"/>\n     <use style=\"fill:#1f77b4;stroke:#1f77b4;\" x=\"37.025222\" xlink:href=\"#m7a0501df12\" y=\"223.177912\"/>\n     <use style=\"fill:#1f77b4;stroke:#1f77b4;\" x=\"36.464232\" xlink:href=\"#m7a0501df12\" y=\"223.59086\"/>\n     <use style=\"fill:#1f77b4;stroke:#1f77b4;\" x=\"36.668637\" xlink:href=\"#m7a0501df12\" y=\"223.30192\"/>\n     <use style=\"fill:#1f77b4;stroke:#1f77b4;\" x=\"36.980579\" xlink:href=\"#m7a0501df12\" y=\"223.416759\"/>\n     <use style=\"fill:#1f77b4;stroke:#1f77b4;\" x=\"37.162501\" xlink:href=\"#m7a0501df12\" y=\"223.048398\"/>\n     <use style=\"fill:#1f77b4;stroke:#1f77b4;\" x=\"39.694292\" xlink:href=\"#m7a0501df12\" y=\"220.750061\"/>\n     <use style=\"fill:#1f77b4;stroke:#1f77b4;\" x=\"39.373526\" xlink:href=\"#m7a0501df12\" y=\"220.649548\"/>\n     <use style=\"fill:#1f77b4;stroke:#1f77b4;\" x=\"37.84069\" xlink:href=\"#m7a0501df12\" y=\"222.1033\"/>\n     <use style=\"fill:#1f77b4;stroke:#1f77b4;\" x=\"36.987033\" xlink:href=\"#m7a0501df12\" y=\"222.529174\"/>\n     <use style=\"fill:#1f77b4;stroke:#1f77b4;\" x=\"36.861569\" xlink:href=\"#m7a0501df12\" y=\"222.580224\"/>\n     <use style=\"fill:#1f77b4;stroke:#1f77b4;\" x=\"39.380015\" xlink:href=\"#m7a0501df12\" y=\"220.400482\"/>\n     <use style=\"fill:#1f77b4;stroke:#1f77b4;\" x=\"40.594455\" xlink:href=\"#m7a0501df12\" y=\"219.492295\"/>\n     <use style=\"fill:#1f77b4;stroke:#1f77b4;\" x=\"38.575967\" xlink:href=\"#m7a0501df12\" y=\"220.538675\"/>\n     <use style=\"fill:#1f77b4;stroke:#1f77b4;\" x=\"37.219841\" xlink:href=\"#m7a0501df12\" y=\"222.624017\"/>\n     <use style=\"fill:#1f77b4;stroke:#1f77b4;\" x=\"37.484044\" xlink:href=\"#m7a0501df12\" y=\"222.143711\"/>\n     <use style=\"fill:#1f77b4;stroke:#1f77b4;\" x=\"37.31615\" xlink:href=\"#m7a0501df12\" y=\"222.603462\"/>\n     <use style=\"fill:#1f77b4;stroke:#1f77b4;\" x=\"39.192942\" xlink:href=\"#m7a0501df12\" y=\"221.05006\"/>\n     <use style=\"fill:#1f77b4;stroke:#1f77b4;\" x=\"38.88797\" xlink:href=\"#m7a0501df12\" y=\"221.813614\"/>\n     <use style=\"fill:#1f77b4;stroke:#1f77b4;\" x=\"38.469803\" xlink:href=\"#m7a0501df12\" y=\"221.392429\"/>\n     <use style=\"fill:#1f77b4;stroke:#1f77b4;\" x=\"39.590524\" xlink:href=\"#m7a0501df12\" y=\"220.567747\"/>\n     <use style=\"fill:#1f77b4;stroke:#1f77b4;\" x=\"38.911099\" xlink:href=\"#m7a0501df12\" y=\"221.681535\"/>\n     <use style=\"fill:#1f77b4;stroke:#1f77b4;\" x=\"38.512913\" xlink:href=\"#m7a0501df12\" y=\"222.090658\"/>\n     <use style=\"fill:#1f77b4;stroke:#1f77b4;\" x=\"37.924637\" xlink:href=\"#m7a0501df12\" y=\"221.832312\"/>\n     <use style=\"fill:#1f77b4;stroke:#1f77b4;\" x=\"37.826154\" xlink:href=\"#m7a0501df12\" y=\"222.47458\"/>\n     <use style=\"fill:#1f77b4;stroke:#1f77b4;\" x=\"37.674756\" xlink:href=\"#m7a0501df12\" y=\"222.669267\"/>\n     <use style=\"fill:#1f77b4;stroke:#1f77b4;\" x=\"37.620972\" xlink:href=\"#m7a0501df12\" y=\"222.726755\"/>\n     <use style=\"fill:#1f77b4;stroke:#1f77b4;\" x=\"37.860945\" xlink:href=\"#m7a0501df12\" y=\"222.162032\"/>\n     <use style=\"fill:#1f77b4;stroke:#1f77b4;\" x=\"38.364526\" xlink:href=\"#m7a0501df12\" y=\"221.414112\"/>\n     <use style=\"fill:#1f77b4;stroke:#1f77b4;\" x=\"39.201666\" xlink:href=\"#m7a0501df12\" y=\"220.84578\"/>\n     <use style=\"fill:#1f77b4;stroke:#1f77b4;\" x=\"37.863169\" xlink:href=\"#m7a0501df12\" y=\"222.475606\"/>\n     <use style=\"fill:#1f77b4;stroke:#1f77b4;\" x=\"37.550404\" xlink:href=\"#m7a0501df12\" y=\"222.429391\"/>\n     <use style=\"fill:#1f77b4;stroke:#1f77b4;\" x=\"37.614763\" xlink:href=\"#m7a0501df12\" y=\"222.707341\"/>\n     <use style=\"fill:#1f77b4;stroke:#1f77b4;\" x=\"37.331248\" xlink:href=\"#m7a0501df12\" y=\"222.821525\"/>\n     <use style=\"fill:#1f77b4;stroke:#1f77b4;\" x=\"36.843803\" xlink:href=\"#m7a0501df12\" y=\"223.228542\"/>\n     <use style=\"fill:#1f77b4;stroke:#1f77b4;\" x=\"37.022207\" xlink:href=\"#m7a0501df12\" y=\"222.711918\"/>\n     <use style=\"fill:#1f77b4;stroke:#1f77b4;\" x=\"37.04791\" xlink:href=\"#m7a0501df12\" y=\"222.952197\"/>\n     <use style=\"fill:#1f77b4;stroke:#1f77b4;\" x=\"36.329948\" xlink:href=\"#m7a0501df12\" y=\"223.314573\"/>\n     <use style=\"fill:#1f77b4;stroke:#1f77b4;\" x=\"36.498276\" xlink:href=\"#m7a0501df12\" y=\"223.152091\"/>\n     <use style=\"fill:#1f77b4;stroke:#1f77b4;\" x=\"37.954312\" xlink:href=\"#m7a0501df12\" y=\"221.90236\"/>\n     <use style=\"fill:#1f77b4;stroke:#1f77b4;\" x=\"38.393377\" xlink:href=\"#m7a0501df12\" y=\"221.49158\"/>\n     <use style=\"fill:#1f77b4;stroke:#1f77b4;\" x=\"39.179868\" xlink:href=\"#m7a0501df12\" y=\"221.074017\"/>\n     <use style=\"fill:#1f77b4;stroke:#1f77b4;\" x=\"41.030688\" xlink:href=\"#m7a0501df12\" y=\"219.65694\"/>\n     <use style=\"fill:#1f77b4;stroke:#1f77b4;\" x=\"39.52558\" xlink:href=\"#m7a0501df12\" y=\"220.663243\"/>\n     <use style=\"fill:#1f77b4;stroke:#1f77b4;\" x=\"38.126216\" xlink:href=\"#m7a0501df12\" y=\"221.348652\"/>\n     <use style=\"fill:#1f77b4;stroke:#1f77b4;\" x=\"38.603213\" xlink:href=\"#m7a0501df12\" y=\"218.453321\"/>\n     <use style=\"fill:#1f77b4;stroke:#1f77b4;\" x=\"39.556146\" xlink:href=\"#m7a0501df12\" y=\"216.60865\"/>\n     <use style=\"fill:#1f77b4;stroke:#1f77b4;\" x=\"38.609275\" xlink:href=\"#m7a0501df12\" y=\"219.109956\"/>\n     <use style=\"fill:#1f77b4;stroke:#1f77b4;\" x=\"37.881991\" xlink:href=\"#m7a0501df12\" y=\"220.45809\"/>\n     <use style=\"fill:#1f77b4;stroke:#1f77b4;\" x=\"37.710305\" xlink:href=\"#m7a0501df12\" y=\"220.70929\"/>\n     <use style=\"fill:#1f77b4;stroke:#1f77b4;\" x=\"38.148718\" xlink:href=\"#m7a0501df12\" y=\"219.502115\"/>\n     <use style=\"fill:#1f77b4;stroke:#1f77b4;\" x=\"37.589129\" xlink:href=\"#m7a0501df12\" y=\"219.41152\"/>\n     <use style=\"fill:#1f77b4;stroke:#1f77b4;\" x=\"37.395798\" xlink:href=\"#m7a0501df12\" y=\"220.598972\"/>\n     <use style=\"fill:#1f77b4;stroke:#1f77b4;\" x=\"37.300707\" xlink:href=\"#m7a0501df12\" y=\"221.302952\"/>\n     <use style=\"fill:#1f77b4;stroke:#1f77b4;\" x=\"37.005442\" xlink:href=\"#m7a0501df12\" y=\"221.535453\"/>\n     <use style=\"fill:#1f77b4;stroke:#1f77b4;\" x=\"37.810552\" xlink:href=\"#m7a0501df12\" y=\"219.040055\"/>\n     <use style=\"fill:#1f77b4;stroke:#1f77b4;\" x=\"37.185601\" xlink:href=\"#m7a0501df12\" y=\"220.561459\"/>\n     <use style=\"fill:#1f77b4;stroke:#1f77b4;\" x=\"37.463472\" xlink:href=\"#m7a0501df12\" y=\"219.511467\"/>\n     <use style=\"fill:#1f77b4;stroke:#1f77b4;\" x=\"37.716765\" xlink:href=\"#m7a0501df12\" y=\"219.01679\"/>\n     <use style=\"fill:#1f77b4;stroke:#1f77b4;\" x=\"38.118525\" xlink:href=\"#m7a0501df12\" y=\"219.266247\"/>\n     <use style=\"fill:#1f77b4;stroke:#1f77b4;\" x=\"37.796358\" xlink:href=\"#m7a0501df12\" y=\"220.477597\"/>\n     <use style=\"fill:#1f77b4;stroke:#1f77b4;\" x=\"37.864541\" xlink:href=\"#m7a0501df12\" y=\"221.066256\"/>\n     <use style=\"fill:#1f77b4;stroke:#1f77b4;\" x=\"37.697785\" xlink:href=\"#m7a0501df12\" y=\"221.277565\"/>\n     <use style=\"fill:#1f77b4;stroke:#1f77b4;\" x=\"39.235359\" xlink:href=\"#m7a0501df12\" y=\"218.877913\"/>\n     <use style=\"fill:#1f77b4;stroke:#1f77b4;\" x=\"38.067529\" xlink:href=\"#m7a0501df12\" y=\"220.581477\"/>\n     <use style=\"fill:#1f77b4;stroke:#1f77b4;\" x=\"37.402437\" xlink:href=\"#m7a0501df12\" y=\"221.644181\"/>\n     <use style=\"fill:#1f77b4;stroke:#1f77b4;\" x=\"37.317726\" xlink:href=\"#m7a0501df12\" y=\"221.513162\"/>\n     <use style=\"fill:#1f77b4;stroke:#1f77b4;\" x=\"38.16606\" xlink:href=\"#m7a0501df12\" y=\"220.276997\"/>\n     <use style=\"fill:#1f77b4;stroke:#1f77b4;\" x=\"38.066199\" xlink:href=\"#m7a0501df12\" y=\"220.423139\"/>\n     <use style=\"fill:#1f77b4;stroke:#1f77b4;\" x=\"37.941378\" xlink:href=\"#m7a0501df12\" y=\"220.397427\"/>\n     <use style=\"fill:#1f77b4;stroke:#1f77b4;\" x=\"38.00256\" xlink:href=\"#m7a0501df12\" y=\"220.752951\"/>\n     <use style=\"fill:#1f77b4;stroke:#1f77b4;\" x=\"37.599016\" xlink:href=\"#m7a0501df12\" y=\"221.426541\"/>\n     <use style=\"fill:#1f77b4;stroke:#1f77b4;\" x=\"38.432175\" xlink:href=\"#m7a0501df12\" y=\"219.693293\"/>\n     <use style=\"fill:#1f77b4;stroke:#1f77b4;\" x=\"38.105811\" xlink:href=\"#m7a0501df12\" y=\"219.889638\"/>\n     <use style=\"fill:#1f77b4;stroke:#1f77b4;\" x=\"37.600227\" xlink:href=\"#m7a0501df12\" y=\"221.155122\"/>\n     <use style=\"fill:#1f77b4;stroke:#1f77b4;\" x=\"37.870689\" xlink:href=\"#m7a0501df12\" y=\"220.849973\"/>\n     <use style=\"fill:#1f77b4;stroke:#1f77b4;\" x=\"37.975744\" xlink:href=\"#m7a0501df12\" y=\"220.839603\"/>\n     <use style=\"fill:#1f77b4;stroke:#1f77b4;\" x=\"37.826304\" xlink:href=\"#m7a0501df12\" y=\"220.923851\"/>\n     <use style=\"fill:#1f77b4;stroke:#1f77b4;\" x=\"37.828909\" xlink:href=\"#m7a0501df12\" y=\"220.723108\"/>\n     <use style=\"fill:#1f77b4;stroke:#1f77b4;\" x=\"37.682287\" xlink:href=\"#m7a0501df12\" y=\"221.177378\"/>\n     <use style=\"fill:#1f77b4;stroke:#1f77b4;\" x=\"38.095548\" xlink:href=\"#m7a0501df12\" y=\"220.328787\"/>\n     <use style=\"fill:#1f77b4;stroke:#1f77b4;\" x=\"39.26578\" xlink:href=\"#m7a0501df12\" y=\"218.949866\"/>\n     <use style=\"fill:#1f77b4;stroke:#1f77b4;\" x=\"38.380989\" xlink:href=\"#m7a0501df12\" y=\"220.038237\"/>\n     <use style=\"fill:#1f77b4;stroke:#1f77b4;\" x=\"38.431669\" xlink:href=\"#m7a0501df12\" y=\"220.099012\"/>\n     <use style=\"fill:#1f77b4;stroke:#1f77b4;\" x=\"38.323306\" xlink:href=\"#m7a0501df12\" y=\"220.205344\"/>\n     <use style=\"fill:#1f77b4;stroke:#1f77b4;\" x=\"37.966274\" xlink:href=\"#m7a0501df12\" y=\"220.876188\"/>\n     <use style=\"fill:#1f77b4;stroke:#1f77b4;\" x=\"37.659061\" xlink:href=\"#m7a0501df12\" y=\"221.240428\"/>\n     <use style=\"fill:#1f77b4;stroke:#1f77b4;\" x=\"37.634849\" xlink:href=\"#m7a0501df12\" y=\"220.927371\"/>\n     <use style=\"fill:#1f77b4;stroke:#1f77b4;\" x=\"37.887388\" xlink:href=\"#m7a0501df12\" y=\"220.991407\"/>\n     <use style=\"fill:#1f77b4;stroke:#1f77b4;\" x=\"37.795417\" xlink:href=\"#m7a0501df12\" y=\"220.935469\"/>\n     <use style=\"fill:#1f77b4;stroke:#1f77b4;\" x=\"38.018105\" xlink:href=\"#m7a0501df12\" y=\"220.755385\"/>\n     <use style=\"fill:#1f77b4;stroke:#1f77b4;\" x=\"37.600766\" xlink:href=\"#m7a0501df12\" y=\"221.37667\"/>\n     <use style=\"fill:#1f77b4;stroke:#1f77b4;\" x=\"39.98872\" xlink:href=\"#m7a0501df12\" y=\"218.273373\"/>\n     <use style=\"fill:#1f77b4;stroke:#1f77b4;\" x=\"38.609822\" xlink:href=\"#m7a0501df12\" y=\"220.075027\"/>\n     <use style=\"fill:#1f77b4;stroke:#1f77b4;\" x=\"38.717756\" xlink:href=\"#m7a0501df12\" y=\"219.458798\"/>\n     <use style=\"fill:#1f77b4;stroke:#1f77b4;\" x=\"38.713208\" xlink:href=\"#m7a0501df12\" y=\"219.286826\"/>\n     <use style=\"fill:#1f77b4;stroke:#1f77b4;\" x=\"38.891018\" xlink:href=\"#m7a0501df12\" y=\"219.456909\"/>\n     <use style=\"fill:#1f77b4;stroke:#1f77b4;\" x=\"38.854743\" xlink:href=\"#m7a0501df12\" y=\"218.903925\"/>\n     <use style=\"fill:#1f77b4;stroke:#1f77b4;\" x=\"38.70795\" xlink:href=\"#m7a0501df12\" y=\"219.031979\"/>\n     <use style=\"fill:#1f77b4;stroke:#1f77b4;\" x=\"38.551335\" xlink:href=\"#m7a0501df12\" y=\"219.755169\"/>\n     <use style=\"fill:#1f77b4;stroke:#1f77b4;\" x=\"38.413857\" xlink:href=\"#m7a0501df12\" y=\"220.025603\"/>\n     <use style=\"fill:#1f77b4;stroke:#1f77b4;\" x=\"39.379973\" xlink:href=\"#m7a0501df12\" y=\"216.921907\"/>\n     <use style=\"fill:#1f77b4;stroke:#1f77b4;\" x=\"41.888646\" xlink:href=\"#m7a0501df12\" y=\"214.235389\"/>\n     <use style=\"fill:#1f77b4;stroke:#1f77b4;\" x=\"41.910867\" xlink:href=\"#m7a0501df12\" y=\"214.414304\"/>\n     <use style=\"fill:#1f77b4;stroke:#1f77b4;\" x=\"40.82627\" xlink:href=\"#m7a0501df12\" y=\"216.305917\"/>\n     <use style=\"fill:#1f77b4;stroke:#1f77b4;\" x=\"40.023267\" xlink:href=\"#m7a0501df12\" y=\"217.482601\"/>\n     <use style=\"fill:#1f77b4;stroke:#1f77b4;\" x=\"40.068214\" xlink:href=\"#m7a0501df12\" y=\"218.100116\"/>\n     <use style=\"fill:#1f77b4;stroke:#1f77b4;\" x=\"41.026429\" xlink:href=\"#m7a0501df12\" y=\"216.260716\"/>\n     <use style=\"fill:#1f77b4;stroke:#1f77b4;\" x=\"42.66346\" xlink:href=\"#m7a0501df12\" y=\"212.905039\"/>\n     <use style=\"fill:#1f77b4;stroke:#1f77b4;\" x=\"41.3732\" xlink:href=\"#m7a0501df12\" y=\"215.339291\"/>\n     <use style=\"fill:#1f77b4;stroke:#1f77b4;\" x=\"40.159768\" xlink:href=\"#m7a0501df12\" y=\"217.959674\"/>\n     <use style=\"fill:#1f77b4;stroke:#1f77b4;\" x=\"40.483411\" xlink:href=\"#m7a0501df12\" y=\"216.376655\"/>\n     <use style=\"fill:#1f77b4;stroke:#1f77b4;\" x=\"40.569512\" xlink:href=\"#m7a0501df12\" y=\"216.223454\"/>\n     <use style=\"fill:#1f77b4;stroke:#1f77b4;\" x=\"39.923679\" xlink:href=\"#m7a0501df12\" y=\"218.041727\"/>\n     <use style=\"fill:#1f77b4;stroke:#1f77b4;\" x=\"39.851566\" xlink:href=\"#m7a0501df12\" y=\"218.062605\"/>\n     <use style=\"fill:#1f77b4;stroke:#1f77b4;\" x=\"39.567156\" xlink:href=\"#m7a0501df12\" y=\"218.745764\"/>\n     <use style=\"fill:#1f77b4;stroke:#1f77b4;\" x=\"41.119928\" xlink:href=\"#m7a0501df12\" y=\"217.453659\"/>\n     <use style=\"fill:#1f77b4;stroke:#1f77b4;\" x=\"42.121183\" xlink:href=\"#m7a0501df12\" y=\"215.688198\"/>\n     <use style=\"fill:#1f77b4;stroke:#1f77b4;\" x=\"41.247705\" xlink:href=\"#m7a0501df12\" y=\"216.09836\"/>\n     <use style=\"fill:#1f77b4;stroke:#1f77b4;\" x=\"41.605264\" xlink:href=\"#m7a0501df12\" y=\"216.681298\"/>\n     <use style=\"fill:#1f77b4;stroke:#1f77b4;\" x=\"42.527398\" xlink:href=\"#m7a0501df12\" y=\"215.888929\"/>\n     <use style=\"fill:#1f77b4;stroke:#1f77b4;\" x=\"42.665101\" xlink:href=\"#m7a0501df12\" y=\"215.111745\"/>\n     <use style=\"fill:#1f77b4;stroke:#1f77b4;\" x=\"41.718164\" xlink:href=\"#m7a0501df12\" y=\"216.123128\"/>\n     <use style=\"fill:#1f77b4;stroke:#1f77b4;\" x=\"42.079011\" xlink:href=\"#m7a0501df12\" y=\"215.863286\"/>\n     <use style=\"fill:#1f77b4;stroke:#1f77b4;\" x=\"41.802657\" xlink:href=\"#m7a0501df12\" y=\"215.816201\"/>\n     <use style=\"fill:#1f77b4;stroke:#1f77b4;\" x=\"41.504714\" xlink:href=\"#m7a0501df12\" y=\"216.854056\"/>\n     <use style=\"fill:#1f77b4;stroke:#1f77b4;\" x=\"42.389359\" xlink:href=\"#m7a0501df12\" y=\"216.360893\"/>\n     <use style=\"fill:#1f77b4;stroke:#1f77b4;\" x=\"41.43915\" xlink:href=\"#m7a0501df12\" y=\"216.290129\"/>\n     <use style=\"fill:#1f77b4;stroke:#1f77b4;\" x=\"41.843129\" xlink:href=\"#m7a0501df12\" y=\"215.515185\"/>\n     <use style=\"fill:#1f77b4;stroke:#1f77b4;\" x=\"40.413727\" xlink:href=\"#m7a0501df12\" y=\"217.875995\"/>\n     <use style=\"fill:#1f77b4;stroke:#1f77b4;\" x=\"41.660173\" xlink:href=\"#m7a0501df12\" y=\"216.185421\"/>\n     <use style=\"fill:#1f77b4;stroke:#1f77b4;\" x=\"41.396045\" xlink:href=\"#m7a0501df12\" y=\"216.88596\"/>\n     <use style=\"fill:#1f77b4;stroke:#1f77b4;\" x=\"42.122749\" xlink:href=\"#m7a0501df12\" y=\"215.923185\"/>\n     <use style=\"fill:#1f77b4;stroke:#1f77b4;\" x=\"42.695803\" xlink:href=\"#m7a0501df12\" y=\"214.935989\"/>\n     <use style=\"fill:#1f77b4;stroke:#1f77b4;\" x=\"41.315605\" xlink:href=\"#m7a0501df12\" y=\"216.327372\"/>\n     <use style=\"fill:#1f77b4;stroke:#1f77b4;\" x=\"41.600617\" xlink:href=\"#m7a0501df12\" y=\"216.454135\"/>\n     <use style=\"fill:#1f77b4;stroke:#1f77b4;\" x=\"41.221085\" xlink:href=\"#m7a0501df12\" y=\"216.850128\"/>\n     <use style=\"fill:#1f77b4;stroke:#1f77b4;\" x=\"42.283571\" xlink:href=\"#m7a0501df12\" y=\"216.351597\"/>\n     <use style=\"fill:#1f77b4;stroke:#1f77b4;\" x=\"42.587773\" xlink:href=\"#m7a0501df12\" y=\"216.307838\"/>\n     <use style=\"fill:#1f77b4;stroke:#1f77b4;\" x=\"42.75345\" xlink:href=\"#m7a0501df12\" y=\"214.60703\"/>\n     <use style=\"fill:#1f77b4;stroke:#1f77b4;\" x=\"41.403912\" xlink:href=\"#m7a0501df12\" y=\"217.091922\"/>\n     <use style=\"fill:#1f77b4;stroke:#1f77b4;\" x=\"42.772281\" xlink:href=\"#m7a0501df12\" y=\"214.8465\"/>\n     <use style=\"fill:#1f77b4;stroke:#1f77b4;\" x=\"41.735147\" xlink:href=\"#m7a0501df12\" y=\"214.802031\"/>\n     <use style=\"fill:#1f77b4;stroke:#1f77b4;\" x=\"41.133873\" xlink:href=\"#m7a0501df12\" y=\"216.891648\"/>\n     <use style=\"fill:#1f77b4;stroke:#1f77b4;\" x=\"42.106901\" xlink:href=\"#m7a0501df12\" y=\"216.044825\"/>\n     <use style=\"fill:#1f77b4;stroke:#1f77b4;\" x=\"51.863885\" xlink:href=\"#m7a0501df12\" y=\"203.87816\"/>\n     <use style=\"fill:#1f77b4;stroke:#1f77b4;\" x=\"53.249826\" xlink:href=\"#m7a0501df12\" y=\"202.021398\"/>\n     <use style=\"fill:#1f77b4;stroke:#1f77b4;\" x=\"49.185093\" xlink:href=\"#m7a0501df12\" y=\"208.249409\"/>\n     <use style=\"fill:#1f77b4;stroke:#1f77b4;\" x=\"47.94813\" xlink:href=\"#m7a0501df12\" y=\"209.233556\"/>\n     <use style=\"fill:#1f77b4;stroke:#1f77b4;\" x=\"48.028995\" xlink:href=\"#m7a0501df12\" y=\"210.083532\"/>\n     <use style=\"fill:#1f77b4;stroke:#1f77b4;\" x=\"47.789051\" xlink:href=\"#m7a0501df12\" y=\"209.082229\"/>\n     <use style=\"fill:#1f77b4;stroke:#1f77b4;\" x=\"48.225161\" xlink:href=\"#m7a0501df12\" y=\"205.095332\"/>\n     <use style=\"fill:#1f77b4;stroke:#1f77b4;\" x=\"46.098376\" xlink:href=\"#m7a0501df12\" y=\"208.99741\"/>\n     <use style=\"fill:#1f77b4;stroke:#1f77b4;\" x=\"46.782658\" xlink:href=\"#m7a0501df12\" y=\"208.473857\"/>\n     <use style=\"fill:#1f77b4;stroke:#1f77b4;\" x=\"47.701776\" xlink:href=\"#m7a0501df12\" y=\"208.468121\"/>\n     <use style=\"fill:#1f77b4;stroke:#1f77b4;\" x=\"45.182867\" xlink:href=\"#m7a0501df12\" y=\"212.252987\"/>\n     <use style=\"fill:#1f77b4;stroke:#1f77b4;\" x=\"42.688875\" xlink:href=\"#m7a0501df12\" y=\"215.234509\"/>\n     <use style=\"fill:#1f77b4;stroke:#1f77b4;\" x=\"42.311672\" xlink:href=\"#m7a0501df12\" y=\"215.498165\"/>\n     <use style=\"fill:#1f77b4;stroke:#1f77b4;\" x=\"43.971644\" xlink:href=\"#m7a0501df12\" y=\"213.570934\"/>\n     <use style=\"fill:#1f77b4;stroke:#1f77b4;\" x=\"43.384424\" xlink:href=\"#m7a0501df12\" y=\"214.719336\"/>\n     <use style=\"fill:#1f77b4;stroke:#1f77b4;\" x=\"44.101354\" xlink:href=\"#m7a0501df12\" y=\"213.748743\"/>\n     <use style=\"fill:#1f77b4;stroke:#1f77b4;\" x=\"44.816701\" xlink:href=\"#m7a0501df12\" y=\"210.539515\"/>\n     <use style=\"fill:#1f77b4;stroke:#1f77b4;\" x=\"45.274717\" xlink:href=\"#m7a0501df12\" y=\"211.544012\"/>\n     <use style=\"fill:#1f77b4;stroke:#1f77b4;\" x=\"44.740757\" xlink:href=\"#m7a0501df12\" y=\"212.473746\"/>\n     <use style=\"fill:#1f77b4;stroke:#1f77b4;\" x=\"45.232397\" xlink:href=\"#m7a0501df12\" y=\"212.793382\"/>\n     <use style=\"fill:#1f77b4;stroke:#1f77b4;\" x=\"45.993023\" xlink:href=\"#m7a0501df12\" y=\"212.585015\"/>\n     <use style=\"fill:#1f77b4;stroke:#1f77b4;\" x=\"47.099853\" xlink:href=\"#m7a0501df12\" y=\"210.244962\"/>\n     <use style=\"fill:#1f77b4;stroke:#1f77b4;\" x=\"48.132394\" xlink:href=\"#m7a0501df12\" y=\"209.653557\"/>\n     <use style=\"fill:#1f77b4;stroke:#1f77b4;\" x=\"46.630227\" xlink:href=\"#m7a0501df12\" y=\"210.892405\"/>\n     <use style=\"fill:#1f77b4;stroke:#1f77b4;\" x=\"47.926078\" xlink:href=\"#m7a0501df12\" y=\"209.294297\"/>\n     <use style=\"fill:#1f77b4;stroke:#1f77b4;\" x=\"44.689711\" xlink:href=\"#m7a0501df12\" y=\"213.125771\"/>\n     <use style=\"fill:#1f77b4;stroke:#1f77b4;\" x=\"44.434985\" xlink:href=\"#m7a0501df12\" y=\"214.253194\"/>\n     <use style=\"fill:#1f77b4;stroke:#1f77b4;\" x=\"45.235585\" xlink:href=\"#m7a0501df12\" y=\"212.680912\"/>\n     <use style=\"fill:#1f77b4;stroke:#1f77b4;\" x=\"45.361053\" xlink:href=\"#m7a0501df12\" y=\"212.162885\"/>\n     <use style=\"fill:#1f77b4;stroke:#1f77b4;\" x=\"45.186646\" xlink:href=\"#m7a0501df12\" y=\"213.298278\"/>\n     <use style=\"fill:#1f77b4;stroke:#1f77b4;\" x=\"46.030477\" xlink:href=\"#m7a0501df12\" y=\"212.703323\"/>\n     <use style=\"fill:#1f77b4;stroke:#1f77b4;\" x=\"49.595206\" xlink:href=\"#m7a0501df12\" y=\"209.774633\"/>\n     <use style=\"fill:#1f77b4;stroke:#1f77b4;\" x=\"48.586911\" xlink:href=\"#m7a0501df12\" y=\"211.270921\"/>\n     <use style=\"fill:#1f77b4;stroke:#1f77b4;\" x=\"46.174218\" xlink:href=\"#m7a0501df12\" y=\"212.950068\"/>\n     <use style=\"fill:#1f77b4;stroke:#1f77b4;\" x=\"46.986049\" xlink:href=\"#m7a0501df12\" y=\"209.213071\"/>\n     <use style=\"fill:#1f77b4;stroke:#1f77b4;\" x=\"48.98798\" xlink:href=\"#m7a0501df12\" y=\"207.180778\"/>\n     <use style=\"fill:#1f77b4;stroke:#1f77b4;\" x=\"46.621763\" xlink:href=\"#m7a0501df12\" y=\"211.834453\"/>\n     <use style=\"fill:#1f77b4;stroke:#1f77b4;\" x=\"47.902062\" xlink:href=\"#m7a0501df12\" y=\"211.530337\"/>\n     <use style=\"fill:#1f77b4;stroke:#1f77b4;\" x=\"50.206562\" xlink:href=\"#m7a0501df12\" y=\"208.0539\"/>\n     <use style=\"fill:#1f77b4;stroke:#1f77b4;\" x=\"58.468535\" xlink:href=\"#m7a0501df12\" y=\"197.458005\"/>\n     <use style=\"fill:#1f77b4;stroke:#1f77b4;\" x=\"57.511636\" xlink:href=\"#m7a0501df12\" y=\"202.712964\"/>\n     <use style=\"fill:#1f77b4;stroke:#1f77b4;\" x=\"58.302477\" xlink:href=\"#m7a0501df12\" y=\"202.617073\"/>\n     <use style=\"fill:#1f77b4;stroke:#1f77b4;\" x=\"61.235347\" xlink:href=\"#m7a0501df12\" y=\"197.055024\"/>\n     <use style=\"fill:#1f77b4;stroke:#1f77b4;\" x=\"58.01078\" xlink:href=\"#m7a0501df12\" y=\"195.400906\"/>\n     <use style=\"fill:#1f77b4;stroke:#1f77b4;\" x=\"62.228553\" xlink:href=\"#m7a0501df12\" y=\"183.265009\"/>\n     <use style=\"fill:#1f77b4;stroke:#1f77b4;\" x=\"59.517129\" xlink:href=\"#m7a0501df12\" y=\"189.387051\"/>\n     <use style=\"fill:#1f77b4;stroke:#1f77b4;\" x=\"51.898199\" xlink:href=\"#m7a0501df12\" y=\"201.296513\"/>\n     <use style=\"fill:#1f77b4;stroke:#1f77b4;\" x=\"55.875529\" xlink:href=\"#m7a0501df12\" y=\"198.692441\"/>\n     <use style=\"fill:#1f77b4;stroke:#1f77b4;\" x=\"54.074925\" xlink:href=\"#m7a0501df12\" y=\"201.526567\"/>\n     <use style=\"fill:#1f77b4;stroke:#1f77b4;\" x=\"55.197639\" xlink:href=\"#m7a0501df12\" y=\"199.868829\"/>\n     <use style=\"fill:#1f77b4;stroke:#1f77b4;\" x=\"54.841044\" xlink:href=\"#m7a0501df12\" y=\"203.897732\"/>\n     <use style=\"fill:#1f77b4;stroke:#1f77b4;\" x=\"54.611606\" xlink:href=\"#m7a0501df12\" y=\"201.906589\"/>\n     <use style=\"fill:#1f77b4;stroke:#1f77b4;\" x=\"55.890138\" xlink:href=\"#m7a0501df12\" y=\"203.63834\"/>\n     <use style=\"fill:#1f77b4;stroke:#1f77b4;\" x=\"52.687456\" xlink:href=\"#m7a0501df12\" y=\"205.981889\"/>\n     <use style=\"fill:#1f77b4;stroke:#1f77b4;\" x=\"56.553744\" xlink:href=\"#m7a0501df12\" y=\"204.257016\"/>\n     <use style=\"fill:#1f77b4;stroke:#1f77b4;\" x=\"57.66599\" xlink:href=\"#m7a0501df12\" y=\"198.633146\"/>\n     <use style=\"fill:#1f77b4;stroke:#1f77b4;\" x=\"54.410307\" xlink:href=\"#m7a0501df12\" y=\"202.627111\"/>\n     <use style=\"fill:#1f77b4;stroke:#1f77b4;\" x=\"53.751427\" xlink:href=\"#m7a0501df12\" y=\"203.895691\"/>\n     <use style=\"fill:#1f77b4;stroke:#1f77b4;\" x=\"58.79994\" xlink:href=\"#m7a0501df12\" y=\"195.064318\"/>\n     <use style=\"fill:#1f77b4;stroke:#1f77b4;\" x=\"55.405722\" xlink:href=\"#m7a0501df12\" y=\"200.54551\"/>\n     <use style=\"fill:#1f77b4;stroke:#1f77b4;\" x=\"52.889893\" xlink:href=\"#m7a0501df12\" y=\"203.60699\"/>\n     <use style=\"fill:#1f77b4;stroke:#1f77b4;\" x=\"50.946685\" xlink:href=\"#m7a0501df12\" y=\"206.403898\"/>\n     <use style=\"fill:#1f77b4;stroke:#1f77b4;\" x=\"52.466818\" xlink:href=\"#m7a0501df12\" y=\"204.930264\"/>\n     <use style=\"fill:#1f77b4;stroke:#1f77b4;\" x=\"54.745075\" xlink:href=\"#m7a0501df12\" y=\"203.164434\"/>\n     <use style=\"fill:#1f77b4;stroke:#1f77b4;\" x=\"52.253802\" xlink:href=\"#m7a0501df12\" y=\"206.859321\"/>\n     <use style=\"fill:#1f77b4;stroke:#1f77b4;\" x=\"50.254428\" xlink:href=\"#m7a0501df12\" y=\"207.521405\"/>\n     <use style=\"fill:#1f77b4;stroke:#1f77b4;\" x=\"49.963057\" xlink:href=\"#m7a0501df12\" y=\"207.254519\"/>\n     <use style=\"fill:#1f77b4;stroke:#1f77b4;\" x=\"47.673011\" xlink:href=\"#m7a0501df12\" y=\"209.94592\"/>\n     <use style=\"fill:#1f77b4;stroke:#1f77b4;\" x=\"47.74997\" xlink:href=\"#m7a0501df12\" y=\"209.151651\"/>\n     <use style=\"fill:#1f77b4;stroke:#1f77b4;\" x=\"49.567655\" xlink:href=\"#m7a0501df12\" y=\"207.810688\"/>\n     <use style=\"fill:#1f77b4;stroke:#1f77b4;\" x=\"48.184205\" xlink:href=\"#m7a0501df12\" y=\"209.581309\"/>\n     <use style=\"fill:#1f77b4;stroke:#1f77b4;\" x=\"49.869494\" xlink:href=\"#m7a0501df12\" y=\"206.633746\"/>\n     <use style=\"fill:#1f77b4;stroke:#1f77b4;\" x=\"49.55028\" xlink:href=\"#m7a0501df12\" y=\"207.108595\"/>\n     <use style=\"fill:#1f77b4;stroke:#1f77b4;\" x=\"50.566232\" xlink:href=\"#m7a0501df12\" y=\"206.560735\"/>\n     <use style=\"fill:#1f77b4;stroke:#1f77b4;\" x=\"49.289353\" xlink:href=\"#m7a0501df12\" y=\"207.844066\"/>\n     <use style=\"fill:#1f77b4;stroke:#1f77b4;\" x=\"53.642176\" xlink:href=\"#m7a0501df12\" y=\"204.227901\"/>\n     <use style=\"fill:#1f77b4;stroke:#1f77b4;\" x=\"46.833695\" xlink:href=\"#m7a0501df12\" y=\"212.783526\"/>\n     <use style=\"fill:#1f77b4;stroke:#1f77b4;\" x=\"47.083152\" xlink:href=\"#m7a0501df12\" y=\"212.327515\"/>\n     <use style=\"fill:#1f77b4;stroke:#1f77b4;\" x=\"46.819579\" xlink:href=\"#m7a0501df12\" y=\"213.934444\"/>\n     <use style=\"fill:#1f77b4;stroke:#1f77b4;\" x=\"48.830934\" xlink:href=\"#m7a0501df12\" y=\"211.852158\"/>\n     <use style=\"fill:#1f77b4;stroke:#1f77b4;\" x=\"51.259573\" xlink:href=\"#m7a0501df12\" y=\"205.032967\"/>\n     <use style=\"fill:#1f77b4;stroke:#1f77b4;\" x=\"59.454655\" xlink:href=\"#m7a0501df12\" y=\"202.041755\"/>\n     <use style=\"fill:#1f77b4;stroke:#1f77b4;\" x=\"51.586913\" xlink:href=\"#m7a0501df12\" y=\"207.764252\"/>\n     <use style=\"fill:#1f77b4;stroke:#1f77b4;\" x=\"50.076942\" xlink:href=\"#m7a0501df12\" y=\"207.660077\"/>\n     <use style=\"fill:#1f77b4;stroke:#1f77b4;\" x=\"54.981148\" xlink:href=\"#m7a0501df12\" y=\"204.309519\"/>\n     <use style=\"fill:#1f77b4;stroke:#1f77b4;\" x=\"72.668765\" xlink:href=\"#m7a0501df12\" y=\"188.454874\"/>\n     <use style=\"fill:#1f77b4;stroke:#1f77b4;\" x=\"68.18412\" xlink:href=\"#m7a0501df12\" y=\"194.052132\"/>\n     <use style=\"fill:#1f77b4;stroke:#1f77b4;\" x=\"63.908077\" xlink:href=\"#m7a0501df12\" y=\"199.939741\"/>\n     <use style=\"fill:#1f77b4;stroke:#1f77b4;\" x=\"59.392353\" xlink:href=\"#m7a0501df12\" y=\"201.305305\"/>\n     <use style=\"fill:#1f77b4;stroke:#1f77b4;\" x=\"57.059643\" xlink:href=\"#m7a0501df12\" y=\"202.766485\"/>\n     <use style=\"fill:#1f77b4;stroke:#1f77b4;\" x=\"58.915427\" xlink:href=\"#m7a0501df12\" y=\"202.791887\"/>\n     <use style=\"fill:#1f77b4;stroke:#1f77b4;\" x=\"60.347246\" xlink:href=\"#m7a0501df12\" y=\"202.030829\"/>\n     <use style=\"fill:#1f77b4;stroke:#1f77b4;\" x=\"60.15538\" xlink:href=\"#m7a0501df12\" y=\"203.644689\"/>\n     <use style=\"fill:#1f77b4;stroke:#1f77b4;\" x=\"55.891158\" xlink:href=\"#m7a0501df12\" y=\"207.198573\"/>\n     <use style=\"fill:#1f77b4;stroke:#1f77b4;\" x=\"54.070618\" xlink:href=\"#m7a0501df12\" y=\"206.452005\"/>\n     <use style=\"fill:#1f77b4;stroke:#1f77b4;\" x=\"51.668851\" xlink:href=\"#m7a0501df12\" y=\"208.899217\"/>\n     <use style=\"fill:#1f77b4;stroke:#1f77b4;\" x=\"50.162111\" xlink:href=\"#m7a0501df12\" y=\"207.860699\"/>\n     <use style=\"fill:#1f77b4;stroke:#1f77b4;\" x=\"53.75936\" xlink:href=\"#m7a0501df12\" y=\"205.622766\"/>\n     <use style=\"fill:#1f77b4;stroke:#1f77b4;\" x=\"57.856701\" xlink:href=\"#m7a0501df12\" y=\"203.344998\"/>\n     <use style=\"fill:#1f77b4;stroke:#1f77b4;\" x=\"62.631151\" xlink:href=\"#m7a0501df12\" y=\"199.554001\"/>\n     <use style=\"fill:#1f77b4;stroke:#1f77b4;\" x=\"58.230467\" xlink:href=\"#m7a0501df12\" y=\"202.96906\"/>\n     <use style=\"fill:#1f77b4;stroke:#1f77b4;\" x=\"53.804957\" xlink:href=\"#m7a0501df12\" y=\"207.792545\"/>\n     <use style=\"fill:#1f77b4;stroke:#1f77b4;\" x=\"51.625644\" xlink:href=\"#m7a0501df12\" y=\"211.133895\"/>\n     <use style=\"fill:#1f77b4;stroke:#1f77b4;\" x=\"52.887879\" xlink:href=\"#m7a0501df12\" y=\"206.790673\"/>\n     <use style=\"fill:#1f77b4;stroke:#1f77b4;\" x=\"55.422212\" xlink:href=\"#m7a0501df12\" y=\"204.118411\"/>\n     <use style=\"fill:#1f77b4;stroke:#1f77b4;\" x=\"54.34409\" xlink:href=\"#m7a0501df12\" y=\"205.721425\"/>\n     <use style=\"fill:#1f77b4;stroke:#1f77b4;\" x=\"54.710262\" xlink:href=\"#m7a0501df12\" y=\"204.902185\"/>\n     <use style=\"fill:#1f77b4;stroke:#1f77b4;\" x=\"55.249916\" xlink:href=\"#m7a0501df12\" y=\"205.042016\"/>\n     <use style=\"fill:#1f77b4;stroke:#1f77b4;\" x=\"51.350012\" xlink:href=\"#m7a0501df12\" y=\"209.058297\"/>\n     <use style=\"fill:#1f77b4;stroke:#1f77b4;\" x=\"50.894564\" xlink:href=\"#m7a0501df12\" y=\"208.19546\"/>\n     <use style=\"fill:#1f77b4;stroke:#1f77b4;\" x=\"48.204581\" xlink:href=\"#m7a0501df12\" y=\"211.207966\"/>\n     <use style=\"fill:#1f77b4;stroke:#1f77b4;\" x=\"47.508337\" xlink:href=\"#m7a0501df12\" y=\"212.0158\"/>\n     <use style=\"fill:#1f77b4;stroke:#1f77b4;\" x=\"48.835388\" xlink:href=\"#m7a0501df12\" y=\"210.528992\"/>\n     <use style=\"fill:#1f77b4;stroke:#1f77b4;\" x=\"48.439081\" xlink:href=\"#m7a0501df12\" y=\"210.078944\"/>\n     <use style=\"fill:#1f77b4;stroke:#1f77b4;\" x=\"47.06019\" xlink:href=\"#m7a0501df12\" y=\"211.100177\"/>\n     <use style=\"fill:#1f77b4;stroke:#1f77b4;\" x=\"45.900399\" xlink:href=\"#m7a0501df12\" y=\"213.436683\"/>\n     <use style=\"fill:#1f77b4;stroke:#1f77b4;\" x=\"47.931064\" xlink:href=\"#m7a0501df12\" y=\"212.205114\"/>\n     <use style=\"fill:#1f77b4;stroke:#1f77b4;\" x=\"45.238381\" xlink:href=\"#m7a0501df12\" y=\"213.961563\"/>\n     <use style=\"fill:#1f77b4;stroke:#1f77b4;\" x=\"45.284518\" xlink:href=\"#m7a0501df12\" y=\"214.00752\"/>\n     <use style=\"fill:#1f77b4;stroke:#1f77b4;\" x=\"45.318068\" xlink:href=\"#m7a0501df12\" y=\"213.996488\"/>\n     <use style=\"fill:#1f77b4;stroke:#1f77b4;\" x=\"47.768155\" xlink:href=\"#m7a0501df12\" y=\"212.797449\"/>\n     <use style=\"fill:#1f77b4;stroke:#1f77b4;\" x=\"48.234976\" xlink:href=\"#m7a0501df12\" y=\"212.88701\"/>\n     <use style=\"fill:#1f77b4;stroke:#1f77b4;\" x=\"48.5181\" xlink:href=\"#m7a0501df12\" y=\"212.43438\"/>\n     <use style=\"fill:#1f77b4;stroke:#1f77b4;\" x=\"46.649817\" xlink:href=\"#m7a0501df12\" y=\"213.511469\"/>\n     <use style=\"fill:#1f77b4;stroke:#1f77b4;\" x=\"47.680158\" xlink:href=\"#m7a0501df12\" y=\"214.582992\"/>\n     <use style=\"fill:#1f77b4;stroke:#1f77b4;\" x=\"54.10342\" xlink:href=\"#m7a0501df12\" y=\"208.688193\"/>\n     <use style=\"fill:#1f77b4;stroke:#1f77b4;\" x=\"53.89277\" xlink:href=\"#m7a0501df12\" y=\"208.961915\"/>\n     <use style=\"fill:#1f77b4;stroke:#1f77b4;\" x=\"52.63339\" xlink:href=\"#m7a0501df12\" y=\"210.425748\"/>\n     <use style=\"fill:#1f77b4;stroke:#1f77b4;\" x=\"50.260533\" xlink:href=\"#m7a0501df12\" y=\"211.141604\"/>\n     <use style=\"fill:#1f77b4;stroke:#1f77b4;\" x=\"49.262206\" xlink:href=\"#m7a0501df12\" y=\"210.555294\"/>\n     <use style=\"fill:#1f77b4;stroke:#1f77b4;\" x=\"49.074509\" xlink:href=\"#m7a0501df12\" y=\"211.442063\"/>\n     <use style=\"fill:#1f77b4;stroke:#1f77b4;\" x=\"47.01858\" xlink:href=\"#m7a0501df12\" y=\"211.778373\"/>\n     <use style=\"fill:#1f77b4;stroke:#1f77b4;\" x=\"45.158374\" xlink:href=\"#m7a0501df12\" y=\"213.566259\"/>\n     <use style=\"fill:#1f77b4;stroke:#1f77b4;\" x=\"47.811865\" xlink:href=\"#m7a0501df12\" y=\"212.931642\"/>\n     <use style=\"fill:#1f77b4;stroke:#1f77b4;\" x=\"50.705868\" xlink:href=\"#m7a0501df12\" y=\"209.436217\"/>\n     <use style=\"fill:#1f77b4;stroke:#1f77b4;\" x=\"53.249147\" xlink:href=\"#m7a0501df12\" y=\"207.679833\"/>\n     <use style=\"fill:#1f77b4;stroke:#1f77b4;\" x=\"50.913446\" xlink:href=\"#m7a0501df12\" y=\"210.160761\"/>\n     <use style=\"fill:#1f77b4;stroke:#1f77b4;\" x=\"45.272791\" xlink:href=\"#m7a0501df12\" y=\"213.943344\"/>\n     <use style=\"fill:#1f77b4;stroke:#1f77b4;\" x=\"44.592238\" xlink:href=\"#m7a0501df12\" y=\"212.878682\"/>\n     <use style=\"fill:#1f77b4;stroke:#1f77b4;\" x=\"47.249354\" xlink:href=\"#m7a0501df12\" y=\"212.467725\"/>\n     <use style=\"fill:#1f77b4;stroke:#1f77b4;\" x=\"46.387815\" xlink:href=\"#m7a0501df12\" y=\"211.853473\"/>\n     <use style=\"fill:#1f77b4;stroke:#1f77b4;\" x=\"50.253094\" xlink:href=\"#m7a0501df12\" y=\"208.663199\"/>\n     <use style=\"fill:#1f77b4;stroke:#1f77b4;\" x=\"48.17566\" xlink:href=\"#m7a0501df12\" y=\"209.145533\"/>\n     <use style=\"fill:#1f77b4;stroke:#1f77b4;\" x=\"46.889725\" xlink:href=\"#m7a0501df12\" y=\"211.270776\"/>\n     <use style=\"fill:#1f77b4;stroke:#1f77b4;\" x=\"46.73582\" xlink:href=\"#m7a0501df12\" y=\"212.2237\"/>\n     <use style=\"fill:#1f77b4;stroke:#1f77b4;\" x=\"45.601445\" xlink:href=\"#m7a0501df12\" y=\"213.212313\"/>\n     <use style=\"fill:#1f77b4;stroke:#1f77b4;\" x=\"49.348487\" xlink:href=\"#m7a0501df12\" y=\"209.987941\"/>\n     <use style=\"fill:#1f77b4;stroke:#1f77b4;\" x=\"46.133798\" xlink:href=\"#m7a0501df12\" y=\"212.707624\"/>\n     <use style=\"fill:#1f77b4;stroke:#1f77b4;\" x=\"48.618402\" xlink:href=\"#m7a0501df12\" y=\"211.181085\"/>\n     <use style=\"fill:#1f77b4;stroke:#1f77b4;\" x=\"48.130509\" xlink:href=\"#m7a0501df12\" y=\"210.170903\"/>\n     <use style=\"fill:#1f77b4;stroke:#1f77b4;\" x=\"45.112958\" xlink:href=\"#m7a0501df12\" y=\"213.327798\"/>\n     <use style=\"fill:#1f77b4;stroke:#1f77b4;\" x=\"43.241134\" xlink:href=\"#m7a0501df12\" y=\"213.202525\"/>\n     <use style=\"fill:#1f77b4;stroke:#1f77b4;\" x=\"43.23287\" xlink:href=\"#m7a0501df12\" y=\"213.84511\"/>\n     <use style=\"fill:#1f77b4;stroke:#1f77b4;\" x=\"48.307353\" xlink:href=\"#m7a0501df12\" y=\"211.631753\"/>\n     <use style=\"fill:#1f77b4;stroke:#1f77b4;\" x=\"50.175992\" xlink:href=\"#m7a0501df12\" y=\"210.56017\"/>\n     <use style=\"fill:#1f77b4;stroke:#1f77b4;\" x=\"47.86535\" xlink:href=\"#m7a0501df12\" y=\"212.950757\"/>\n     <use style=\"fill:#1f77b4;stroke:#1f77b4;\" x=\"45.948955\" xlink:href=\"#m7a0501df12\" y=\"213.764203\"/>\n     <use style=\"fill:#1f77b4;stroke:#1f77b4;\" x=\"50.308616\" xlink:href=\"#m7a0501df12\" y=\"210.945416\"/>\n     <use style=\"fill:#1f77b4;stroke:#1f77b4;\" x=\"46.610186\" xlink:href=\"#m7a0501df12\" y=\"210.959603\"/>\n     <use style=\"fill:#1f77b4;stroke:#1f77b4;\" x=\"45.17881\" xlink:href=\"#m7a0501df12\" y=\"211.703544\"/>\n     <use style=\"fill:#1f77b4;stroke:#1f77b4;\" x=\"48.611539\" xlink:href=\"#m7a0501df12\" y=\"209.929723\"/>\n     <use style=\"fill:#1f77b4;stroke:#1f77b4;\" x=\"46.2599\" xlink:href=\"#m7a0501df12\" y=\"212.126316\"/>\n     <use style=\"fill:#1f77b4;stroke:#1f77b4;\" x=\"46.715735\" xlink:href=\"#m7a0501df12\" y=\"210.106578\"/>\n     <use style=\"fill:#1f77b4;stroke:#1f77b4;\" x=\"46.624351\" xlink:href=\"#m7a0501df12\" y=\"213.182943\"/>\n     <use style=\"fill:#1f77b4;stroke:#1f77b4;\" x=\"45.562974\" xlink:href=\"#m7a0501df12\" y=\"212.911278\"/>\n     <use style=\"fill:#1f77b4;stroke:#1f77b4;\" x=\"45.002289\" xlink:href=\"#m7a0501df12\" y=\"211.638194\"/>\n     <use style=\"fill:#1f77b4;stroke:#1f77b4;\" x=\"43.755887\" xlink:href=\"#m7a0501df12\" y=\"212.286376\"/>\n     <use style=\"fill:#1f77b4;stroke:#1f77b4;\" x=\"46.481461\" xlink:href=\"#m7a0501df12\" y=\"207.575342\"/>\n     <use style=\"fill:#1f77b4;stroke:#1f77b4;\" x=\"46.60777\" xlink:href=\"#m7a0501df12\" y=\"202.931021\"/>\n     <use style=\"fill:#1f77b4;stroke:#1f77b4;\" x=\"47.363917\" xlink:href=\"#m7a0501df12\" y=\"205.352751\"/>\n     <use style=\"fill:#1f77b4;stroke:#1f77b4;\" x=\"50.659391\" xlink:href=\"#m7a0501df12\" y=\"202.026963\"/>\n     <use style=\"fill:#1f77b4;stroke:#1f77b4;\" x=\"46.108945\" xlink:href=\"#m7a0501df12\" y=\"208.07477\"/>\n     <use style=\"fill:#1f77b4;stroke:#1f77b4;\" x=\"44.964296\" xlink:href=\"#m7a0501df12\" y=\"208.738941\"/>\n     <use style=\"fill:#1f77b4;stroke:#1f77b4;\" x=\"44.766996\" xlink:href=\"#m7a0501df12\" y=\"208.576681\"/>\n     <use style=\"fill:#1f77b4;stroke:#1f77b4;\" x=\"46.468132\" xlink:href=\"#m7a0501df12\" y=\"209.319053\"/>\n     <use style=\"fill:#1f77b4;stroke:#1f77b4;\" x=\"55.088888\" xlink:href=\"#m7a0501df12\" y=\"199.372588\"/>\n     <use style=\"fill:#1f77b4;stroke:#1f77b4;\" x=\"52.239639\" xlink:href=\"#m7a0501df12\" y=\"204.018183\"/>\n     <use style=\"fill:#1f77b4;stroke:#1f77b4;\" x=\"50.065182\" xlink:href=\"#m7a0501df12\" y=\"208.494013\"/>\n     <use style=\"fill:#1f77b4;stroke:#1f77b4;\" x=\"47.57351\" xlink:href=\"#m7a0501df12\" y=\"208.351625\"/>\n     <use style=\"fill:#1f77b4;stroke:#1f77b4;\" x=\"45.590336\" xlink:href=\"#m7a0501df12\" y=\"210.717205\"/>\n     <use style=\"fill:#1f77b4;stroke:#1f77b4;\" x=\"44.622684\" xlink:href=\"#m7a0501df12\" y=\"211.646589\"/>\n     <use style=\"fill:#1f77b4;stroke:#1f77b4;\" x=\"48.191371\" xlink:href=\"#m7a0501df12\" y=\"209.183164\"/>\n     <use style=\"fill:#1f77b4;stroke:#1f77b4;\" x=\"46.608417\" xlink:href=\"#m7a0501df12\" y=\"208.895341\"/>\n     <use style=\"fill:#1f77b4;stroke:#1f77b4;\" x=\"44.702336\" xlink:href=\"#m7a0501df12\" y=\"212.02338\"/>\n     <use style=\"fill:#1f77b4;stroke:#1f77b4;\" x=\"45.177285\" xlink:href=\"#m7a0501df12\" y=\"211.916501\"/>\n     <use style=\"fill:#1f77b4;stroke:#1f77b4;\" x=\"44.714355\" xlink:href=\"#m7a0501df12\" y=\"212.225589\"/>\n     <use style=\"fill:#1f77b4;stroke:#1f77b4;\" x=\"43.893238\" xlink:href=\"#m7a0501df12\" y=\"213.186194\"/>\n     <use style=\"fill:#1f77b4;stroke:#1f77b4;\" x=\"44.733047\" xlink:href=\"#m7a0501df12\" y=\"213.149613\"/>\n     <use style=\"fill:#1f77b4;stroke:#1f77b4;\" x=\"48.973406\" xlink:href=\"#m7a0501df12\" y=\"208.503274\"/>\n     <use style=\"fill:#1f77b4;stroke:#1f77b4;\" x=\"46.859328\" xlink:href=\"#m7a0501df12\" y=\"209.385292\"/>\n     <use style=\"fill:#1f77b4;stroke:#1f77b4;\" x=\"50.176013\" xlink:href=\"#m7a0501df12\" y=\"205.601263\"/>\n     <use style=\"fill:#1f77b4;stroke:#1f77b4;\" x=\"48.631406\" xlink:href=\"#m7a0501df12\" y=\"207.262968\"/>\n     <use style=\"fill:#1f77b4;stroke:#1f77b4;\" x=\"50.367912\" xlink:href=\"#m7a0501df12\" y=\"205.507001\"/>\n     <use style=\"fill:#1f77b4;stroke:#1f77b4;\" x=\"45.932691\" xlink:href=\"#m7a0501df12\" y=\"209.319856\"/>\n     <use style=\"fill:#1f77b4;stroke:#1f77b4;\" x=\"45.299245\" xlink:href=\"#m7a0501df12\" y=\"211.095741\"/>\n     <use style=\"fill:#1f77b4;stroke:#1f77b4;\" x=\"46.473783\" xlink:href=\"#m7a0501df12\" y=\"209.82804\"/>\n     <use style=\"fill:#1f77b4;stroke:#1f77b4;\" x=\"46.534145\" xlink:href=\"#m7a0501df12\" y=\"208.766596\"/>\n     <use style=\"fill:#1f77b4;stroke:#1f77b4;\" x=\"47.278547\" xlink:href=\"#m7a0501df12\" y=\"208.860418\"/>\n     <use style=\"fill:#1f77b4;stroke:#1f77b4;\" x=\"45.740661\" xlink:href=\"#m7a0501df12\" y=\"211.08628\"/>\n     <use style=\"fill:#1f77b4;stroke:#1f77b4;\" x=\"46.911211\" xlink:href=\"#m7a0501df12\" y=\"209.152033\"/>\n     <use style=\"fill:#1f77b4;stroke:#1f77b4;\" x=\"45.290097\" xlink:href=\"#m7a0501df12\" y=\"211.519745\"/>\n     <use style=\"fill:#1f77b4;stroke:#1f77b4;\" x=\"46.78236\" xlink:href=\"#m7a0501df12\" y=\"210.937298\"/>\n     <use style=\"fill:#1f77b4;stroke:#1f77b4;\" x=\"47.101113\" xlink:href=\"#m7a0501df12\" y=\"210.902932\"/>\n     <use style=\"fill:#1f77b4;stroke:#1f77b4;\" x=\"47.918443\" xlink:href=\"#m7a0501df12\" y=\"210.49432\"/>\n     <use style=\"fill:#1f77b4;stroke:#1f77b4;\" x=\"52.412921\" xlink:href=\"#m7a0501df12\" y=\"204.348807\"/>\n     <use style=\"fill:#1f77b4;stroke:#1f77b4;\" x=\"47.450877\" xlink:href=\"#m7a0501df12\" y=\"209.771118\"/>\n     <use style=\"fill:#1f77b4;stroke:#1f77b4;\" x=\"58.326432\" xlink:href=\"#m7a0501df12\" y=\"202.637034\"/>\n     <use style=\"fill:#1f77b4;stroke:#1f77b4;\" x=\"72.135779\" xlink:href=\"#m7a0501df12\" y=\"194.533483\"/>\n     <use style=\"fill:#1f77b4;stroke:#1f77b4;\" x=\"61.726532\" xlink:href=\"#m7a0501df12\" y=\"201.569963\"/>\n     <use style=\"fill:#1f77b4;stroke:#1f77b4;\" x=\"60.288095\" xlink:href=\"#m7a0501df12\" y=\"202.524715\"/>\n     <use style=\"fill:#1f77b4;stroke:#1f77b4;\" x=\"58.083072\" xlink:href=\"#m7a0501df12\" y=\"202.020685\"/>\n     <use style=\"fill:#1f77b4;stroke:#1f77b4;\" x=\"57.453217\" xlink:href=\"#m7a0501df12\" y=\"202.342334\"/>\n     <use style=\"fill:#1f77b4;stroke:#1f77b4;\" x=\"56.471264\" xlink:href=\"#m7a0501df12\" y=\"204.388439\"/>\n     <use style=\"fill:#1f77b4;stroke:#1f77b4;\" x=\"54.495808\" xlink:href=\"#m7a0501df12\" y=\"205.467131\"/>\n     <use style=\"fill:#1f77b4;stroke:#1f77b4;\" x=\"51.800596\" xlink:href=\"#m7a0501df12\" y=\"207.934738\"/>\n     <use style=\"fill:#1f77b4;stroke:#1f77b4;\" x=\"51.704003\" xlink:href=\"#m7a0501df12\" y=\"206.36625\"/>\n     <use style=\"fill:#1f77b4;stroke:#1f77b4;\" x=\"56.109749\" xlink:href=\"#m7a0501df12\" y=\"202.185976\"/>\n     <use style=\"fill:#1f77b4;stroke:#1f77b4;\" x=\"56.134544\" xlink:href=\"#m7a0501df12\" y=\"203.417285\"/>\n     <use style=\"fill:#1f77b4;stroke:#1f77b4;\" x=\"53.454462\" xlink:href=\"#m7a0501df12\" y=\"203.10865\"/>\n     <use style=\"fill:#1f77b4;stroke:#1f77b4;\" x=\"53.075357\" xlink:href=\"#m7a0501df12\" y=\"205.617302\"/>\n     <use style=\"fill:#1f77b4;stroke:#1f77b4;\" x=\"54.503108\" xlink:href=\"#m7a0501df12\" y=\"205.394407\"/>\n     <use style=\"fill:#1f77b4;stroke:#1f77b4;\" x=\"48.596399\" xlink:href=\"#m7a0501df12\" y=\"209.825944\"/>\n     <use style=\"fill:#1f77b4;stroke:#1f77b4;\" x=\"51.228014\" xlink:href=\"#m7a0501df12\" y=\"206.383664\"/>\n     <use style=\"fill:#1f77b4;stroke:#1f77b4;\" x=\"50.946068\" xlink:href=\"#m7a0501df12\" y=\"208.426029\"/>\n     <use style=\"fill:#1f77b4;stroke:#1f77b4;\" x=\"50.984772\" xlink:href=\"#m7a0501df12\" y=\"208.624902\"/>\n     <use style=\"fill:#1f77b4;stroke:#1f77b4;\" x=\"48.56765\" xlink:href=\"#m7a0501df12\" y=\"209.672527\"/>\n     <use style=\"fill:#1f77b4;stroke:#1f77b4;\" x=\"49.913487\" xlink:href=\"#m7a0501df12\" y=\"208.437134\"/>\n     <use style=\"fill:#1f77b4;stroke:#1f77b4;\" x=\"52.285225\" xlink:href=\"#m7a0501df12\" y=\"206.23692\"/>\n     <use style=\"fill:#1f77b4;stroke:#1f77b4;\" x=\"47.649109\" xlink:href=\"#m7a0501df12\" y=\"210.963437\"/>\n     <use style=\"fill:#1f77b4;stroke:#1f77b4;\" x=\"49.549608\" xlink:href=\"#m7a0501df12\" y=\"209.623176\"/>\n     <use style=\"fill:#1f77b4;stroke:#1f77b4;\" x=\"52.095122\" xlink:href=\"#m7a0501df12\" y=\"208.635459\"/>\n     <use style=\"fill:#1f77b4;stroke:#1f77b4;\" x=\"51.661496\" xlink:href=\"#m7a0501df12\" y=\"209.220997\"/>\n     <use style=\"fill:#1f77b4;stroke:#1f77b4;\" x=\"51.382258\" xlink:href=\"#m7a0501df12\" y=\"209.993078\"/>\n     <use style=\"fill:#1f77b4;stroke:#1f77b4;\" x=\"52.912577\" xlink:href=\"#m7a0501df12\" y=\"206.86526\"/>\n     <use style=\"fill:#1f77b4;stroke:#1f77b4;\" x=\"63.16874\" xlink:href=\"#m7a0501df12\" y=\"198.758939\"/>\n     <use style=\"fill:#1f77b4;stroke:#1f77b4;\" x=\"51.596181\" xlink:href=\"#m7a0501df12\" y=\"207.465289\"/>\n     <use style=\"fill:#1f77b4;stroke:#1f77b4;\" x=\"59.837958\" xlink:href=\"#m7a0501df12\" y=\"208.646875\"/>\n     <use style=\"fill:#1f77b4;stroke:#1f77b4;\" x=\"70.552044\" xlink:href=\"#m7a0501df12\" y=\"201.227426\"/>\n     <use style=\"fill:#1f77b4;stroke:#1f77b4;\" x=\"51.701629\" xlink:href=\"#m7a0501df12\" y=\"208.96011\"/>\n     <use style=\"fill:#1f77b4;stroke:#1f77b4;\" x=\"54.204358\" xlink:href=\"#m7a0501df12\" y=\"206.324608\"/>\n     <use style=\"fill:#1f77b4;stroke:#1f77b4;\" x=\"49.883209\" xlink:href=\"#m7a0501df12\" y=\"209.664691\"/>\n     <use style=\"fill:#1f77b4;stroke:#1f77b4;\" x=\"50.460009\" xlink:href=\"#m7a0501df12\" y=\"209.297529\"/>\n     <use style=\"fill:#1f77b4;stroke:#1f77b4;\" x=\"48.22873\" xlink:href=\"#m7a0501df12\" y=\"211.485921\"/>\n     <use style=\"fill:#1f77b4;stroke:#1f77b4;\" x=\"49.595143\" xlink:href=\"#m7a0501df12\" y=\"210.233406\"/>\n     <use style=\"fill:#1f77b4;stroke:#1f77b4;\" x=\"48.162133\" xlink:href=\"#m7a0501df12\" y=\"211.241847\"/>\n     <use style=\"fill:#1f77b4;stroke:#1f77b4;\" x=\"46.164297\" xlink:href=\"#m7a0501df12\" y=\"212.329528\"/>\n     <use style=\"fill:#1f77b4;stroke:#1f77b4;\" x=\"52.169253\" xlink:href=\"#m7a0501df12\" y=\"208.45283\"/>\n     <use style=\"fill:#1f77b4;stroke:#1f77b4;\" x=\"49.67855\" xlink:href=\"#m7a0501df12\" y=\"211.066045\"/>\n     <use style=\"fill:#1f77b4;stroke:#1f77b4;\" x=\"49.056241\" xlink:href=\"#m7a0501df12\" y=\"211.736001\"/>\n     <use style=\"fill:#1f77b4;stroke:#1f77b4;\" x=\"46.737997\" xlink:href=\"#m7a0501df12\" y=\"213.013489\"/>\n     <use style=\"fill:#1f77b4;stroke:#1f77b4;\" x=\"46.699858\" xlink:href=\"#m7a0501df12\" y=\"211.775756\"/>\n     <use style=\"fill:#1f77b4;stroke:#1f77b4;\" x=\"48.852969\" xlink:href=\"#m7a0501df12\" y=\"211.070019\"/>\n     <use style=\"fill:#1f77b4;stroke:#1f77b4;\" x=\"49.182663\" xlink:href=\"#m7a0501df12\" y=\"210.800992\"/>\n     <use style=\"fill:#1f77b4;stroke:#1f77b4;\" x=\"47.522395\" xlink:href=\"#m7a0501df12\" y=\"210.386462\"/>\n     <use style=\"fill:#1f77b4;stroke:#1f77b4;\" x=\"49.775614\" xlink:href=\"#m7a0501df12\" y=\"208.395793\"/>\n     <use style=\"fill:#1f77b4;stroke:#1f77b4;\" x=\"48.200345\" xlink:href=\"#m7a0501df12\" y=\"209.855362\"/>\n     <use style=\"fill:#1f77b4;stroke:#1f77b4;\" x=\"48.210221\" xlink:href=\"#m7a0501df12\" y=\"210.361061\"/>\n     <use style=\"fill:#1f77b4;stroke:#1f77b4;\" x=\"47.986437\" xlink:href=\"#m7a0501df12\" y=\"209.924557\"/>\n     <use style=\"fill:#1f77b4;stroke:#1f77b4;\" x=\"50.90038\" xlink:href=\"#m7a0501df12\" y=\"205.824874\"/>\n     <use style=\"fill:#1f77b4;stroke:#1f77b4;\" x=\"52.781019\" xlink:href=\"#m7a0501df12\" y=\"205.673488\"/>\n     <use style=\"fill:#1f77b4;stroke:#1f77b4;\" x=\"61.064882\" xlink:href=\"#m7a0501df12\" y=\"199.123454\"/>\n     <use style=\"fill:#1f77b4;stroke:#1f77b4;\" x=\"55.877438\" xlink:href=\"#m7a0501df12\" y=\"204.489327\"/>\n     <use style=\"fill:#1f77b4;stroke:#1f77b4;\" x=\"53.017143\" xlink:href=\"#m7a0501df12\" y=\"207.735013\"/>\n     <use style=\"fill:#1f77b4;stroke:#1f77b4;\" x=\"50.112708\" xlink:href=\"#m7a0501df12\" y=\"209.425465\"/>\n     <use style=\"fill:#1f77b4;stroke:#1f77b4;\" x=\"53.455023\" xlink:href=\"#m7a0501df12\" y=\"205.524417\"/>\n     <use style=\"fill:#1f77b4;stroke:#1f77b4;\" x=\"57.562754\" xlink:href=\"#m7a0501df12\" y=\"204.354473\"/>\n     <use style=\"fill:#1f77b4;stroke:#1f77b4;\" x=\"53.330044\" xlink:href=\"#m7a0501df12\" y=\"208.229119\"/>\n     <use style=\"fill:#1f77b4;stroke:#1f77b4;\" x=\"52.077662\" xlink:href=\"#m7a0501df12\" y=\"207.164728\"/>\n     <use style=\"fill:#1f77b4;stroke:#1f77b4;\" x=\"53.151111\" xlink:href=\"#m7a0501df12\" y=\"206.738101\"/>\n     <use style=\"fill:#1f77b4;stroke:#1f77b4;\" x=\"53.142673\" xlink:href=\"#m7a0501df12\" y=\"207.44151\"/>\n     <use style=\"fill:#1f77b4;stroke:#1f77b4;\" x=\"51.908156\" xlink:href=\"#m7a0501df12\" y=\"207.978353\"/>\n     <use style=\"fill:#1f77b4;stroke:#1f77b4;\" x=\"52.85225\" xlink:href=\"#m7a0501df12\" y=\"204.153169\"/>\n     <use style=\"fill:#1f77b4;stroke:#1f77b4;\" x=\"53.227299\" xlink:href=\"#m7a0501df12\" y=\"203.947442\"/>\n     <use style=\"fill:#1f77b4;stroke:#1f77b4;\" x=\"51.735245\" xlink:href=\"#m7a0501df12\" y=\"205.954168\"/>\n     <use style=\"fill:#1f77b4;stroke:#1f77b4;\" x=\"49.459558\" xlink:href=\"#m7a0501df12\" y=\"208.291157\"/>\n     <use style=\"fill:#1f77b4;stroke:#1f77b4;\" x=\"51.415299\" xlink:href=\"#m7a0501df12\" y=\"208.063722\"/>\n     <use style=\"fill:#1f77b4;stroke:#1f77b4;\" x=\"57.807344\" xlink:href=\"#m7a0501df12\" y=\"202.361133\"/>\n     <use style=\"fill:#1f77b4;stroke:#1f77b4;\" x=\"49.3534\" xlink:href=\"#m7a0501df12\" y=\"209.467836\"/>\n     <use style=\"fill:#1f77b4;stroke:#1f77b4;\" x=\"50.473458\" xlink:href=\"#m7a0501df12\" y=\"209.244386\"/>\n     <use style=\"fill:#1f77b4;stroke:#1f77b4;\" x=\"53.57896\" xlink:href=\"#m7a0501df12\" y=\"205.588139\"/>\n     <use style=\"fill:#1f77b4;stroke:#1f77b4;\" x=\"58.380849\" xlink:href=\"#m7a0501df12\" y=\"205.205014\"/>\n     <use style=\"fill:#1f77b4;stroke:#1f77b4;\" x=\"60.921496\" xlink:href=\"#m7a0501df12\" y=\"204.903474\"/>\n     <use style=\"fill:#1f77b4;stroke:#1f77b4;\" x=\"54.252086\" xlink:href=\"#m7a0501df12\" y=\"208.84623\"/>\n     <use style=\"fill:#1f77b4;stroke:#1f77b4;\" x=\"58.334756\" xlink:href=\"#m7a0501df12\" y=\"205.608976\"/>\n     <use style=\"fill:#1f77b4;stroke:#1f77b4;\" x=\"55.542121\" xlink:href=\"#m7a0501df12\" y=\"205.031767\"/>\n     <use style=\"fill:#1f77b4;stroke:#1f77b4;\" x=\"53.252927\" xlink:href=\"#m7a0501df12\" y=\"206.907733\"/>\n     <use style=\"fill:#1f77b4;stroke:#1f77b4;\" x=\"52.885177\" xlink:href=\"#m7a0501df12\" y=\"207.256864\"/>\n     <use style=\"fill:#1f77b4;stroke:#1f77b4;\" x=\"72.437943\" xlink:href=\"#m7a0501df12\" y=\"187.812705\"/>\n     <use style=\"fill:#1f77b4;stroke:#1f77b4;\" x=\"68.293746\" xlink:href=\"#m7a0501df12\" y=\"191.402579\"/>\n     <use style=\"fill:#1f77b4;stroke:#1f77b4;\" x=\"60.607922\" xlink:href=\"#m7a0501df12\" y=\"194.758849\"/>\n     <use style=\"fill:#1f77b4;stroke:#1f77b4;\" x=\"65.031265\" xlink:href=\"#m7a0501df12\" y=\"191.814623\"/>\n     <use style=\"fill:#1f77b4;stroke:#1f77b4;\" x=\"61.503223\" xlink:href=\"#m7a0501df12\" y=\"191.972694\"/>\n     <use style=\"fill:#1f77b4;stroke:#1f77b4;\" x=\"63.146882\" xlink:href=\"#m7a0501df12\" y=\"194.809756\"/>\n     <use style=\"fill:#1f77b4;stroke:#1f77b4;\" x=\"56.330227\" xlink:href=\"#m7a0501df12\" y=\"200.803311\"/>\n     <use style=\"fill:#1f77b4;stroke:#1f77b4;\" x=\"54.297059\" xlink:href=\"#m7a0501df12\" y=\"203.965133\"/>\n     <use style=\"fill:#1f77b4;stroke:#1f77b4;\" x=\"52.98775\" xlink:href=\"#m7a0501df12\" y=\"205.317302\"/>\n     <use style=\"fill:#1f77b4;stroke:#1f77b4;\" x=\"55.760322\" xlink:href=\"#m7a0501df12\" y=\"202.547732\"/>\n     <use style=\"fill:#1f77b4;stroke:#1f77b4;\" x=\"54.559841\" xlink:href=\"#m7a0501df12\" y=\"201.939235\"/>\n     <use style=\"fill:#1f77b4;stroke:#1f77b4;\" x=\"50.405472\" xlink:href=\"#m7a0501df12\" y=\"207.540514\"/>\n     <use style=\"fill:#1f77b4;stroke:#1f77b4;\" x=\"52.618253\" xlink:href=\"#m7a0501df12\" y=\"205.195899\"/>\n     <use style=\"fill:#1f77b4;stroke:#1f77b4;\" x=\"58.27595\" xlink:href=\"#m7a0501df12\" y=\"201.13008\"/>\n     <use style=\"fill:#1f77b4;stroke:#1f77b4;\" x=\"63.305537\" xlink:href=\"#m7a0501df12\" y=\"199.337273\"/>\n     <use style=\"fill:#1f77b4;stroke:#1f77b4;\" x=\"60.055778\" xlink:href=\"#m7a0501df12\" y=\"201.781522\"/>\n     <use style=\"fill:#1f77b4;stroke:#1f77b4;\" x=\"61.539095\" xlink:href=\"#m7a0501df12\" y=\"197.396275\"/>\n     <use style=\"fill:#1f77b4;stroke:#1f77b4;\" x=\"58.962562\" xlink:href=\"#m7a0501df12\" y=\"199.440536\"/>\n     <use style=\"fill:#1f77b4;stroke:#1f77b4;\" x=\"55.893224\" xlink:href=\"#m7a0501df12\" y=\"199.811322\"/>\n     <use style=\"fill:#1f77b4;stroke:#1f77b4;\" x=\"60.189698\" xlink:href=\"#m7a0501df12\" y=\"194.014025\"/>\n     <use style=\"fill:#1f77b4;stroke:#1f77b4;\" x=\"60.275713\" xlink:href=\"#m7a0501df12\" y=\"197.890707\"/>\n     <use style=\"fill:#1f77b4;stroke:#1f77b4;\" x=\"59.365438\" xlink:href=\"#m7a0501df12\" y=\"199.474192\"/>\n     <use style=\"fill:#1f77b4;stroke:#1f77b4;\" x=\"64.025524\" xlink:href=\"#m7a0501df12\" y=\"192.121802\"/>\n     <use style=\"fill:#1f77b4;stroke:#1f77b4;\" x=\"66.130231\" xlink:href=\"#m7a0501df12\" y=\"188.481692\"/>\n     <use style=\"fill:#1f77b4;stroke:#1f77b4;\" x=\"63.413951\" xlink:href=\"#m7a0501df12\" y=\"187.903406\"/>\n     <use style=\"fill:#1f77b4;stroke:#1f77b4;\" x=\"63.981785\" xlink:href=\"#m7a0501df12\" y=\"187.745312\"/>\n     <use style=\"fill:#1f77b4;stroke:#1f77b4;\" x=\"64.537826\" xlink:href=\"#m7a0501df12\" y=\"191.734678\"/>\n     <use style=\"fill:#1f77b4;stroke:#1f77b4;\" x=\"67.667356\" xlink:href=\"#m7a0501df12\" y=\"188.98468\"/>\n     <use style=\"fill:#1f77b4;stroke:#1f77b4;\" x=\"66.147053\" xlink:href=\"#m7a0501df12\" y=\"187.223864\"/>\n     <use style=\"fill:#1f77b4;stroke:#1f77b4;\" x=\"71.21585\" xlink:href=\"#m7a0501df12\" y=\"169.537599\"/>\n     <use style=\"fill:#1f77b4;stroke:#1f77b4;\" x=\"76.385673\" xlink:href=\"#m7a0501df12\" y=\"166.60651\"/>\n     <use style=\"fill:#1f77b4;stroke:#1f77b4;\" x=\"71.123119\" xlink:href=\"#m7a0501df12\" y=\"171.839964\"/>\n     <use style=\"fill:#1f77b4;stroke:#1f77b4;\" x=\"71.583796\" xlink:href=\"#m7a0501df12\" y=\"171.550185\"/>\n     <use style=\"fill:#1f77b4;stroke:#1f77b4;\" x=\"71.155052\" xlink:href=\"#m7a0501df12\" y=\"168.120624\"/>\n     <use style=\"fill:#1f77b4;stroke:#1f77b4;\" x=\"73.449311\" xlink:href=\"#m7a0501df12\" y=\"166.086767\"/>\n     <use style=\"fill:#1f77b4;stroke:#1f77b4;\" x=\"74.562305\" xlink:href=\"#m7a0501df12\" y=\"164.949586\"/>\n     <use style=\"fill:#1f77b4;stroke:#1f77b4;\" x=\"74.318317\" xlink:href=\"#m7a0501df12\" y=\"173.890446\"/>\n     <use style=\"fill:#1f77b4;stroke:#1f77b4;\" x=\"72.510942\" xlink:href=\"#m7a0501df12\" y=\"172.606234\"/>\n     <use style=\"fill:#1f77b4;stroke:#1f77b4;\" x=\"69.017578\" xlink:href=\"#m7a0501df12\" y=\"178.117735\"/>\n     <use style=\"fill:#1f77b4;stroke:#1f77b4;\" x=\"64.564183\" xlink:href=\"#m7a0501df12\" y=\"187.360736\"/>\n     <use style=\"fill:#1f77b4;stroke:#1f77b4;\" x=\"69.240259\" xlink:href=\"#m7a0501df12\" y=\"181.107915\"/>\n     <use style=\"fill:#1f77b4;stroke:#1f77b4;\" x=\"72.646696\" xlink:href=\"#m7a0501df12\" y=\"174.540395\"/>\n     <use style=\"fill:#1f77b4;stroke:#1f77b4;\" x=\"70.403404\" xlink:href=\"#m7a0501df12\" y=\"175.758225\"/>\n     <use style=\"fill:#1f77b4;stroke:#1f77b4;\" x=\"77.31612\" xlink:href=\"#m7a0501df12\" y=\"165.593215\"/>\n     <use style=\"fill:#1f77b4;stroke:#1f77b4;\" x=\"72.987487\" xlink:href=\"#m7a0501df12\" y=\"166.970006\"/>\n     <use style=\"fill:#1f77b4;stroke:#1f77b4;\" x=\"72.23127\" xlink:href=\"#m7a0501df12\" y=\"174.160823\"/>\n     <use style=\"fill:#1f77b4;stroke:#1f77b4;\" x=\"64.524278\" xlink:href=\"#m7a0501df12\" y=\"184.385327\"/>\n     <use style=\"fill:#1f77b4;stroke:#1f77b4;\" x=\"64.136676\" xlink:href=\"#m7a0501df12\" y=\"184.388801\"/>\n     <use style=\"fill:#1f77b4;stroke:#1f77b4;\" x=\"70.702845\" xlink:href=\"#m7a0501df12\" y=\"179.428991\"/>\n     <use style=\"fill:#1f77b4;stroke:#1f77b4;\" x=\"70.290993\" xlink:href=\"#m7a0501df12\" y=\"180.484539\"/>\n     <use style=\"fill:#1f77b4;stroke:#1f77b4;\" x=\"63.609828\" xlink:href=\"#m7a0501df12\" y=\"188.151582\"/>\n     <use style=\"fill:#1f77b4;stroke:#1f77b4;\" x=\"67.939767\" xlink:href=\"#m7a0501df12\" y=\"184.338674\"/>\n     <use style=\"fill:#1f77b4;stroke:#1f77b4;\" x=\"68.926926\" xlink:href=\"#m7a0501df12\" y=\"181.600743\"/>\n     <use style=\"fill:#1f77b4;stroke:#1f77b4;\" x=\"64.895535\" xlink:href=\"#m7a0501df12\" y=\"181.468033\"/>\n     <use style=\"fill:#1f77b4;stroke:#1f77b4;\" x=\"68.180295\" xlink:href=\"#m7a0501df12\" y=\"176.917948\"/>\n     <use style=\"fill:#1f77b4;stroke:#1f77b4;\" x=\"74.270199\" xlink:href=\"#m7a0501df12\" y=\"171.636569\"/>\n     <use style=\"fill:#1f77b4;stroke:#1f77b4;\" x=\"70.139902\" xlink:href=\"#m7a0501df12\" y=\"184.003541\"/>\n     <use style=\"fill:#1f77b4;stroke:#1f77b4;\" x=\"67.051897\" xlink:href=\"#m7a0501df12\" y=\"187.176981\"/>\n     <use style=\"fill:#1f77b4;stroke:#1f77b4;\" x=\"80.429597\" xlink:href=\"#m7a0501df12\" y=\"175.161261\"/>\n     <use style=\"fill:#1f77b4;stroke:#1f77b4;\" x=\"98.073809\" xlink:href=\"#m7a0501df12\" y=\"161.792464\"/>\n     <use style=\"fill:#1f77b4;stroke:#1f77b4;\" x=\"64.840945\" xlink:href=\"#m7a0501df12\" y=\"197.078975\"/>\n     <use style=\"fill:#1f77b4;stroke:#1f77b4;\" x=\"62.954991\" xlink:href=\"#m7a0501df12\" y=\"197.129214\"/>\n     <use style=\"fill:#1f77b4;stroke:#1f77b4;\" x=\"72.89814\" xlink:href=\"#m7a0501df12\" y=\"189.509886\"/>\n     <use style=\"fill:#1f77b4;stroke:#1f77b4;\" x=\"66.999323\" xlink:href=\"#m7a0501df12\" y=\"198.603221\"/>\n     <use style=\"fill:#1f77b4;stroke:#1f77b4;\" x=\"66.348836\" xlink:href=\"#m7a0501df12\" y=\"199.698964\"/>\n     <use style=\"fill:#1f77b4;stroke:#1f77b4;\" x=\"77.823923\" xlink:href=\"#m7a0501df12\" y=\"188.548972\"/>\n     <use style=\"fill:#1f77b4;stroke:#1f77b4;\" x=\"80.834155\" xlink:href=\"#m7a0501df12\" y=\"182.567572\"/>\n     <use style=\"fill:#1f77b4;stroke:#1f77b4;\" x=\"70.385155\" xlink:href=\"#m7a0501df12\" y=\"194.878097\"/>\n     <use style=\"fill:#1f77b4;stroke:#1f77b4;\" x=\"68.290974\" xlink:href=\"#m7a0501df12\" y=\"197.646116\"/>\n     <use style=\"fill:#1f77b4;stroke:#1f77b4;\" x=\"73.880978\" xlink:href=\"#m7a0501df12\" y=\"193.791318\"/>\n     <use style=\"fill:#1f77b4;stroke:#1f77b4;\" x=\"75.393853\" xlink:href=\"#m7a0501df12\" y=\"192.719947\"/>\n     <use style=\"fill:#1f77b4;stroke:#1f77b4;\" x=\"72.217853\" xlink:href=\"#m7a0501df12\" y=\"195.4637\"/>\n     <use style=\"fill:#1f77b4;stroke:#1f77b4;\" x=\"64.110995\" xlink:href=\"#m7a0501df12\" y=\"200.28364\"/>\n     <use style=\"fill:#1f77b4;stroke:#1f77b4;\" x=\"63.46894\" xlink:href=\"#m7a0501df12\" y=\"200.215919\"/>\n     <use style=\"fill:#1f77b4;stroke:#1f77b4;\" x=\"63.730963\" xlink:href=\"#m7a0501df12\" y=\"198.428436\"/>\n     <use style=\"fill:#1f77b4;stroke:#1f77b4;\" x=\"58.036646\" xlink:href=\"#m7a0501df12\" y=\"203.61804\"/>\n     <use style=\"fill:#1f77b4;stroke:#1f77b4;\" x=\"65.669221\" xlink:href=\"#m7a0501df12\" y=\"199.178039\"/>\n     <use style=\"fill:#1f77b4;stroke:#1f77b4;\" x=\"61.895607\" xlink:href=\"#m7a0501df12\" y=\"200.988293\"/>\n     <use style=\"fill:#1f77b4;stroke:#1f77b4;\" x=\"68.506766\" xlink:href=\"#m7a0501df12\" y=\"197.742109\"/>\n     <use style=\"fill:#1f77b4;stroke:#1f77b4;\" x=\"74.903029\" xlink:href=\"#m7a0501df12\" y=\"191.054546\"/>\n     <use style=\"fill:#1f77b4;stroke:#1f77b4;\" x=\"67.308774\" xlink:href=\"#m7a0501df12\" y=\"196.043469\"/>\n     <use style=\"fill:#1f77b4;stroke:#1f77b4;\" x=\"62.244986\" xlink:href=\"#m7a0501df12\" y=\"198.931807\"/>\n     <use style=\"fill:#1f77b4;stroke:#1f77b4;\" x=\"59.030703\" xlink:href=\"#m7a0501df12\" y=\"200.484917\"/>\n     <use style=\"fill:#1f77b4;stroke:#1f77b4;\" x=\"74.235139\" xlink:href=\"#m7a0501df12\" y=\"176.324018\"/>\n     <use style=\"fill:#1f77b4;stroke:#1f77b4;\" x=\"71.91473\" xlink:href=\"#m7a0501df12\" y=\"176.27044\"/>\n     <use style=\"fill:#1f77b4;stroke:#1f77b4;\" x=\"66.072887\" xlink:href=\"#m7a0501df12\" y=\"186.994246\"/>\n     <use style=\"fill:#1f77b4;stroke:#1f77b4;\" x=\"63.669673\" xlink:href=\"#m7a0501df12\" y=\"192.037197\"/>\n     <use style=\"fill:#1f77b4;stroke:#1f77b4;\" x=\"71.371981\" xlink:href=\"#m7a0501df12\" y=\"184.852782\"/>\n     <use style=\"fill:#1f77b4;stroke:#1f77b4;\" x=\"60.527559\" xlink:href=\"#m7a0501df12\" y=\"195.179061\"/>\n     <use style=\"fill:#1f77b4;stroke:#1f77b4;\" x=\"64.495572\" xlink:href=\"#m7a0501df12\" y=\"191.519174\"/>\n     <use style=\"fill:#1f77b4;stroke:#1f77b4;\" x=\"66.996407\" xlink:href=\"#m7a0501df12\" y=\"188.389083\"/>\n     <use style=\"fill:#1f77b4;stroke:#1f77b4;\" x=\"63.05341\" xlink:href=\"#m7a0501df12\" y=\"192.45376\"/>\n     <use style=\"fill:#1f77b4;stroke:#1f77b4;\" x=\"61.459969\" xlink:href=\"#m7a0501df12\" y=\"193.740278\"/>\n     <use style=\"fill:#1f77b4;stroke:#1f77b4;\" x=\"74.135742\" xlink:href=\"#m7a0501df12\" y=\"173.351355\"/>\n     <use style=\"fill:#1f77b4;stroke:#1f77b4;\" x=\"61.65683\" xlink:href=\"#m7a0501df12\" y=\"187.807185\"/>\n     <use style=\"fill:#1f77b4;stroke:#1f77b4;\" x=\"61.598907\" xlink:href=\"#m7a0501df12\" y=\"179.767917\"/>\n     <use style=\"fill:#1f77b4;stroke:#1f77b4;\" x=\"60.605498\" xlink:href=\"#m7a0501df12\" y=\"182.134418\"/>\n     <use style=\"fill:#1f77b4;stroke:#1f77b4;\" x=\"66.233676\" xlink:href=\"#m7a0501df12\" y=\"177.186594\"/>\n     <use style=\"fill:#1f77b4;stroke:#1f77b4;\" x=\"61.723569\" xlink:href=\"#m7a0501df12\" y=\"188.404281\"/>\n     <use style=\"fill:#1f77b4;stroke:#1f77b4;\" x=\"62.300223\" xlink:href=\"#m7a0501df12\" y=\"184.820767\"/>\n     <use style=\"fill:#1f77b4;stroke:#1f77b4;\" x=\"71.265241\" xlink:href=\"#m7a0501df12\" y=\"177.165459\"/>\n     <use style=\"fill:#1f77b4;stroke:#1f77b4;\" x=\"63.513476\" xlink:href=\"#m7a0501df12\" y=\"187.634832\"/>\n     <use style=\"fill:#1f77b4;stroke:#1f77b4;\" x=\"62.031217\" xlink:href=\"#m7a0501df12\" y=\"184.199435\"/>\n     <use style=\"fill:#1f77b4;stroke:#1f77b4;\" x=\"62.143689\" xlink:href=\"#m7a0501df12\" y=\"184.025854\"/>\n     <use style=\"fill:#1f77b4;stroke:#1f77b4;\" x=\"64.847625\" xlink:href=\"#m7a0501df12\" y=\"183.244644\"/>\n     <use style=\"fill:#1f77b4;stroke:#1f77b4;\" x=\"62.24671\" xlink:href=\"#m7a0501df12\" y=\"184.30084\"/>\n     <use style=\"fill:#1f77b4;stroke:#1f77b4;\" x=\"85.869575\" xlink:href=\"#m7a0501df12\" y=\"165.2154\"/>\n     <use style=\"fill:#1f77b4;stroke:#1f77b4;\" x=\"91.784302\" xlink:href=\"#m7a0501df12\" y=\"161.268507\"/>\n     <use style=\"fill:#1f77b4;stroke:#1f77b4;\" x=\"71.761612\" xlink:href=\"#m7a0501df12\" y=\"178.237363\"/>\n     <use style=\"fill:#1f77b4;stroke:#1f77b4;\" x=\"68.32134\" xlink:href=\"#m7a0501df12\" y=\"184.199654\"/>\n     <use style=\"fill:#1f77b4;stroke:#1f77b4;\" x=\"74.414307\" xlink:href=\"#m7a0501df12\" y=\"179.047641\"/>\n     <use style=\"fill:#1f77b4;stroke:#1f77b4;\" x=\"73.204887\" xlink:href=\"#m7a0501df12\" y=\"174.070025\"/>\n     <use style=\"fill:#1f77b4;stroke:#1f77b4;\" x=\"70.957138\" xlink:href=\"#m7a0501df12\" y=\"182.46421\"/>\n     <use style=\"fill:#1f77b4;stroke:#1f77b4;\" x=\"76.399504\" xlink:href=\"#m7a0501df12\" y=\"179.340433\"/>\n     <use style=\"fill:#1f77b4;stroke:#1f77b4;\" x=\"86.666809\" xlink:href=\"#m7a0501df12\" y=\"171.754823\"/>\n     <use style=\"fill:#1f77b4;stroke:#1f77b4;\" x=\"78.506045\" xlink:href=\"#m7a0501df12\" y=\"179.103393\"/>\n     <use style=\"fill:#1f77b4;stroke:#1f77b4;\" x=\"73.945871\" xlink:href=\"#m7a0501df12\" y=\"182.590532\"/>\n     <use style=\"fill:#1f77b4;stroke:#1f77b4;\" x=\"88.601702\" xlink:href=\"#m7a0501df12\" y=\"167.98248\"/>\n     <use style=\"fill:#1f77b4;stroke:#1f77b4;\" x=\"83.175081\" xlink:href=\"#m7a0501df12\" y=\"180.014584\"/>\n     <use style=\"fill:#1f77b4;stroke:#1f77b4;\" x=\"70.077617\" xlink:href=\"#m7a0501df12\" y=\"189.708621\"/>\n     <use style=\"fill:#1f77b4;stroke:#1f77b4;\" x=\"73.064397\" xlink:href=\"#m7a0501df12\" y=\"187.013958\"/>\n     <use style=\"fill:#1f77b4;stroke:#1f77b4;\" x=\"82.569097\" xlink:href=\"#m7a0501df12\" y=\"179.790779\"/>\n     <use style=\"fill:#1f77b4;stroke:#1f77b4;\" x=\"75.338665\" xlink:href=\"#m7a0501df12\" y=\"188.069298\"/>\n     <use style=\"fill:#1f77b4;stroke:#1f77b4;\" x=\"64.849918\" xlink:href=\"#m7a0501df12\" y=\"190.923375\"/>\n     <use style=\"fill:#1f77b4;stroke:#1f77b4;\" x=\"68.277494\" xlink:href=\"#m7a0501df12\" y=\"190.71032\"/>\n     <use style=\"fill:#1f77b4;stroke:#1f77b4;\" x=\"69.801646\" xlink:href=\"#m7a0501df12\" y=\"186.181238\"/>\n     <use style=\"fill:#1f77b4;stroke:#1f77b4;\" x=\"67.551695\" xlink:href=\"#m7a0501df12\" y=\"193.333282\"/>\n     <use style=\"fill:#1f77b4;stroke:#1f77b4;\" x=\"65.183515\" xlink:href=\"#m7a0501df12\" y=\"197.103727\"/>\n     <use style=\"fill:#1f77b4;stroke:#1f77b4;\" x=\"67.614547\" xlink:href=\"#m7a0501df12\" y=\"195.754814\"/>\n     <use style=\"fill:#1f77b4;stroke:#1f77b4;\" x=\"59.293371\" xlink:href=\"#m7a0501df12\" y=\"198.71031\"/>\n     <use style=\"fill:#1f77b4;stroke:#1f77b4;\" x=\"57.471875\" xlink:href=\"#m7a0501df12\" y=\"201.921024\"/>\n     <use style=\"fill:#1f77b4;stroke:#1f77b4;\" x=\"61.661534\" xlink:href=\"#m7a0501df12\" y=\"199.196293\"/>\n     <use style=\"fill:#1f77b4;stroke:#1f77b4;\" x=\"60.585338\" xlink:href=\"#m7a0501df12\" y=\"202.505326\"/>\n     <use style=\"fill:#1f77b4;stroke:#1f77b4;\" x=\"59.095221\" xlink:href=\"#m7a0501df12\" y=\"203.100991\"/>\n     <use style=\"fill:#1f77b4;stroke:#1f77b4;\" x=\"61.855439\" xlink:href=\"#m7a0501df12\" y=\"202.001383\"/>\n     <use style=\"fill:#1f77b4;stroke:#1f77b4;\" x=\"63.27784\" xlink:href=\"#m7a0501df12\" y=\"198.311624\"/>\n     <use style=\"fill:#1f77b4;stroke:#1f77b4;\" x=\"61.991953\" xlink:href=\"#m7a0501df12\" y=\"198.187156\"/>\n     <use style=\"fill:#1f77b4;stroke:#1f77b4;\" x=\"61.840082\" xlink:href=\"#m7a0501df12\" y=\"191.743913\"/>\n     <use style=\"fill:#1f77b4;stroke:#1f77b4;\" x=\"57.511598\" xlink:href=\"#m7a0501df12\" y=\"198.259279\"/>\n     <use style=\"fill:#1f77b4;stroke:#1f77b4;\" x=\"64.005271\" xlink:href=\"#m7a0501df12\" y=\"194.253636\"/>\n     <use style=\"fill:#1f77b4;stroke:#1f77b4;\" x=\"67.449347\" xlink:href=\"#m7a0501df12\" y=\"194.649389\"/>\n     <use style=\"fill:#1f77b4;stroke:#1f77b4;\" x=\"55.092887\" xlink:href=\"#m7a0501df12\" y=\"203.796231\"/>\n     <use style=\"fill:#1f77b4;stroke:#1f77b4;\" x=\"55.89248\" xlink:href=\"#m7a0501df12\" y=\"203.076089\"/>\n     <use style=\"fill:#1f77b4;stroke:#1f77b4;\" x=\"53.783039\" xlink:href=\"#m7a0501df12\" y=\"205.120998\"/>\n     <use style=\"fill:#1f77b4;stroke:#1f77b4;\" x=\"51.097276\" xlink:href=\"#m7a0501df12\" y=\"207.872018\"/>\n     <use style=\"fill:#1f77b4;stroke:#1f77b4;\" x=\"55.099701\" xlink:href=\"#m7a0501df12\" y=\"204.535561\"/>\n     <use style=\"fill:#1f77b4;stroke:#1f77b4;\" x=\"52.013685\" xlink:href=\"#m7a0501df12\" y=\"207.96089\"/>\n     <use style=\"fill:#1f77b4;stroke:#1f77b4;\" x=\"53.965121\" xlink:href=\"#m7a0501df12\" y=\"207.09817\"/>\n     <use style=\"fill:#1f77b4;stroke:#1f77b4;\" x=\"55.704255\" xlink:href=\"#m7a0501df12\" y=\"206.289856\"/>\n     <use style=\"fill:#1f77b4;stroke:#1f77b4;\" x=\"59.674975\" xlink:href=\"#m7a0501df12\" y=\"197.975509\"/>\n     <use style=\"fill:#1f77b4;stroke:#1f77b4;\" x=\"52.99681\" xlink:href=\"#m7a0501df12\" y=\"206.112617\"/>\n     <use style=\"fill:#1f77b4;stroke:#1f77b4;\" x=\"48.583887\" xlink:href=\"#m7a0501df12\" y=\"210.142774\"/>\n     <use style=\"fill:#1f77b4;stroke:#1f77b4;\" x=\"49.832153\" xlink:href=\"#m7a0501df12\" y=\"209.448049\"/>\n     <use style=\"fill:#1f77b4;stroke:#1f77b4;\" x=\"56.57275\" xlink:href=\"#m7a0501df12\" y=\"202.222882\"/>\n     <use style=\"fill:#1f77b4;stroke:#1f77b4;\" x=\"52.082937\" xlink:href=\"#m7a0501df12\" y=\"208.220187\"/>\n     <use style=\"fill:#1f77b4;stroke:#1f77b4;\" x=\"50.869286\" xlink:href=\"#m7a0501df12\" y=\"208.836743\"/>\n     <use style=\"fill:#1f77b4;stroke:#1f77b4;\" x=\"48.763824\" xlink:href=\"#m7a0501df12\" y=\"211.140962\"/>\n     <use style=\"fill:#1f77b4;stroke:#1f77b4;\" x=\"50.39226\" xlink:href=\"#m7a0501df12\" y=\"210.598332\"/>\n     <use style=\"fill:#1f77b4;stroke:#1f77b4;\" x=\"48.204547\" xlink:href=\"#m7a0501df12\" y=\"212.216484\"/>\n     <use style=\"fill:#1f77b4;stroke:#1f77b4;\" x=\"46.624995\" xlink:href=\"#m7a0501df12\" y=\"213.738698\"/>\n     <use style=\"fill:#1f77b4;stroke:#1f77b4;\" x=\"51.679332\" xlink:href=\"#m7a0501df12\" y=\"205.621178\"/>\n     <use style=\"fill:#1f77b4;stroke:#1f77b4;\" x=\"48.096015\" xlink:href=\"#m7a0501df12\" y=\"211.349245\"/>\n     <use style=\"fill:#1f77b4;stroke:#1f77b4;\" x=\"49.805903\" xlink:href=\"#m7a0501df12\" y=\"206.238433\"/>\n     <use style=\"fill:#1f77b4;stroke:#1f77b4;\" x=\"49.503618\" xlink:href=\"#m7a0501df12\" y=\"210.448884\"/>\n     <use style=\"fill:#1f77b4;stroke:#1f77b4;\" x=\"49.263496\" xlink:href=\"#m7a0501df12\" y=\"210.035763\"/>\n     <use style=\"fill:#1f77b4;stroke:#1f77b4;\" x=\"48.329208\" xlink:href=\"#m7a0501df12\" y=\"210.663641\"/>\n     <use style=\"fill:#1f77b4;stroke:#1f77b4;\" x=\"45.957378\" xlink:href=\"#m7a0501df12\" y=\"212.325921\"/>\n     <use style=\"fill:#1f77b4;stroke:#1f77b4;\" x=\"47.618639\" xlink:href=\"#m7a0501df12\" y=\"211.112115\"/>\n     <use style=\"fill:#1f77b4;stroke:#1f77b4;\" x=\"46.984848\" xlink:href=\"#m7a0501df12\" y=\"212.586846\"/>\n     <use style=\"fill:#1f77b4;stroke:#1f77b4;\" x=\"47.191013\" xlink:href=\"#m7a0501df12\" y=\"211.724402\"/>\n     <use style=\"fill:#1f77b4;stroke:#1f77b4;\" x=\"47.512274\" xlink:href=\"#m7a0501df12\" y=\"212.311258\"/>\n     <use style=\"fill:#1f77b4;stroke:#1f77b4;\" x=\"44.661461\" xlink:href=\"#m7a0501df12\" y=\"214.885161\"/>\n     <use style=\"fill:#1f77b4;stroke:#1f77b4;\" x=\"43.971971\" xlink:href=\"#m7a0501df12\" y=\"214.606866\"/>\n     <use style=\"fill:#1f77b4;stroke:#1f77b4;\" x=\"44.50793\" xlink:href=\"#m7a0501df12\" y=\"214.457865\"/>\n     <use style=\"fill:#1f77b4;stroke:#1f77b4;\" x=\"48.868047\" xlink:href=\"#m7a0501df12\" y=\"206.313357\"/>\n     <use style=\"fill:#1f77b4;stroke:#1f77b4;\" x=\"45.326675\" xlink:href=\"#m7a0501df12\" y=\"211.776292\"/>\n     <use style=\"fill:#1f77b4;stroke:#1f77b4;\" x=\"50.453594\" xlink:href=\"#m7a0501df12\" y=\"203.724309\"/>\n     <use style=\"fill:#1f77b4;stroke:#1f77b4;\" x=\"48.9655\" xlink:href=\"#m7a0501df12\" y=\"207.138876\"/>\n     <use style=\"fill:#1f77b4;stroke:#1f77b4;\" x=\"47.96799\" xlink:href=\"#m7a0501df12\" y=\"209.816724\"/>\n     <use style=\"fill:#1f77b4;stroke:#1f77b4;\" x=\"44.810947\" xlink:href=\"#m7a0501df12\" y=\"213.639167\"/>\n     <use style=\"fill:#1f77b4;stroke:#1f77b4;\" x=\"45.862487\" xlink:href=\"#m7a0501df12\" y=\"211.41489\"/>\n     <use style=\"fill:#1f77b4;stroke:#1f77b4;\" x=\"48.544971\" xlink:href=\"#m7a0501df12\" y=\"208.635251\"/>\n     <use style=\"fill:#1f77b4;stroke:#1f77b4;\" x=\"49.039251\" xlink:href=\"#m7a0501df12\" y=\"209.639198\"/>\n     <use style=\"fill:#1f77b4;stroke:#1f77b4;\" x=\"47.08011\" xlink:href=\"#m7a0501df12\" y=\"212.364646\"/>\n     <use style=\"fill:#1f77b4;stroke:#1f77b4;\" x=\"46.965757\" xlink:href=\"#m7a0501df12\" y=\"213.19822\"/>\n     <use style=\"fill:#1f77b4;stroke:#1f77b4;\" x=\"45.418425\" xlink:href=\"#m7a0501df12\" y=\"213.133374\"/>\n     <use style=\"fill:#1f77b4;stroke:#1f77b4;\" x=\"43.938803\" xlink:href=\"#m7a0501df12\" y=\"214.212346\"/>\n     <use style=\"fill:#1f77b4;stroke:#1f77b4;\" x=\"44.539059\" xlink:href=\"#m7a0501df12\" y=\"212.219875\"/>\n     <use style=\"fill:#1f77b4;stroke:#1f77b4;\" x=\"45.253175\" xlink:href=\"#m7a0501df12\" y=\"213.738049\"/>\n     <use style=\"fill:#1f77b4;stroke:#1f77b4;\" x=\"49.025735\" xlink:href=\"#m7a0501df12\" y=\"210.924221\"/>\n     <use style=\"fill:#1f77b4;stroke:#1f77b4;\" x=\"47.681347\" xlink:href=\"#m7a0501df12\" y=\"208.835143\"/>\n     <use style=\"fill:#1f77b4;stroke:#1f77b4;\" x=\"49.092911\" xlink:href=\"#m7a0501df12\" y=\"202.817352\"/>\n     <use style=\"fill:#1f77b4;stroke:#1f77b4;\" x=\"47.699286\" xlink:href=\"#m7a0501df12\" y=\"204.719468\"/>\n     <use style=\"fill:#1f77b4;stroke:#1f77b4;\" x=\"47.749397\" xlink:href=\"#m7a0501df12\" y=\"201.642105\"/>\n     <use style=\"fill:#1f77b4;stroke:#1f77b4;\" x=\"51.158123\" xlink:href=\"#m7a0501df12\" y=\"198.798082\"/>\n     <use style=\"fill:#1f77b4;stroke:#1f77b4;\" x=\"64.145933\" xlink:href=\"#m7a0501df12\" y=\"190.304675\"/>\n     <use style=\"fill:#1f77b4;stroke:#1f77b4;\" x=\"58.380201\" xlink:href=\"#m7a0501df12\" y=\"197.974158\"/>\n     <use style=\"fill:#1f77b4;stroke:#1f77b4;\" x=\"54.75165\" xlink:href=\"#m7a0501df12\" y=\"201.423197\"/>\n     <use style=\"fill:#1f77b4;stroke:#1f77b4;\" x=\"53.212534\" xlink:href=\"#m7a0501df12\" y=\"199.209383\"/>\n     <use style=\"fill:#1f77b4;stroke:#1f77b4;\" x=\"53.4777\" xlink:href=\"#m7a0501df12\" y=\"198.735956\"/>\n     <use style=\"fill:#1f77b4;stroke:#1f77b4;\" x=\"56.027034\" xlink:href=\"#m7a0501df12\" y=\"194.035411\"/>\n     <use style=\"fill:#1f77b4;stroke:#1f77b4;\" x=\"57.19396\" xlink:href=\"#m7a0501df12\" y=\"182.685733\"/>\n     <use style=\"fill:#1f77b4;stroke:#1f77b4;\" x=\"50.951492\" xlink:href=\"#m7a0501df12\" y=\"196.859975\"/>\n     <use style=\"fill:#1f77b4;stroke:#1f77b4;\" x=\"51.807173\" xlink:href=\"#m7a0501df12\" y=\"193.938713\"/>\n     <use style=\"fill:#1f77b4;stroke:#1f77b4;\" x=\"54.571508\" xlink:href=\"#m7a0501df12\" y=\"196.764738\"/>\n     <use style=\"fill:#1f77b4;stroke:#1f77b4;\" x=\"53.687816\" xlink:href=\"#m7a0501df12\" y=\"200.429778\"/>\n     <use style=\"fill:#1f77b4;stroke:#1f77b4;\" x=\"53.453077\" xlink:href=\"#m7a0501df12\" y=\"197.053537\"/>\n     <use style=\"fill:#1f77b4;stroke:#1f77b4;\" x=\"48.590652\" xlink:href=\"#m7a0501df12\" y=\"205.008781\"/>\n     <use style=\"fill:#1f77b4;stroke:#1f77b4;\" x=\"48.51855\" xlink:href=\"#m7a0501df12\" y=\"204.754453\"/>\n     <use style=\"fill:#1f77b4;stroke:#1f77b4;\" x=\"56.060652\" xlink:href=\"#m7a0501df12\" y=\"199.540369\"/>\n     <use style=\"fill:#1f77b4;stroke:#1f77b4;\" x=\"56.870148\" xlink:href=\"#m7a0501df12\" y=\"196.95897\"/>\n     <use style=\"fill:#1f77b4;stroke:#1f77b4;\" x=\"55.142811\" xlink:href=\"#m7a0501df12\" y=\"197.853615\"/>\n     <use style=\"fill:#1f77b4;stroke:#1f77b4;\" x=\"57.29202\" xlink:href=\"#m7a0501df12\" y=\"183.687692\"/>\n     <use style=\"fill:#1f77b4;stroke:#1f77b4;\" x=\"54.419961\" xlink:href=\"#m7a0501df12\" y=\"191.657138\"/>\n     <use style=\"fill:#1f77b4;stroke:#1f77b4;\" x=\"53.64775\" xlink:href=\"#m7a0501df12\" y=\"197.836594\"/>\n     <use style=\"fill:#1f77b4;stroke:#1f77b4;\" x=\"51.22404\" xlink:href=\"#m7a0501df12\" y=\"198.413473\"/>\n     <use style=\"fill:#1f77b4;stroke:#1f77b4;\" x=\"57.908966\" xlink:href=\"#m7a0501df12\" y=\"195.944342\"/>\n     <use style=\"fill:#1f77b4;stroke:#1f77b4;\" x=\"55.998663\" xlink:href=\"#m7a0501df12\" y=\"198.856386\"/>\n     <use style=\"fill:#1f77b4;stroke:#1f77b4;\" x=\"54.651609\" xlink:href=\"#m7a0501df12\" y=\"196.153623\"/>\n     <use style=\"fill:#1f77b4;stroke:#1f77b4;\" x=\"50.867129\" xlink:href=\"#m7a0501df12\" y=\"203.373293\"/>\n     <use style=\"fill:#1f77b4;stroke:#1f77b4;\" x=\"54.004109\" xlink:href=\"#m7a0501df12\" y=\"199.316458\"/>\n     <use style=\"fill:#1f77b4;stroke:#1f77b4;\" x=\"50.909934\" xlink:href=\"#m7a0501df12\" y=\"203.166071\"/>\n     <use style=\"fill:#1f77b4;stroke:#1f77b4;\" x=\"49.386448\" xlink:href=\"#m7a0501df12\" y=\"207.819685\"/>\n     <use style=\"fill:#1f77b4;stroke:#1f77b4;\" x=\"51.309859\" xlink:href=\"#m7a0501df12\" y=\"202.706407\"/>\n     <use style=\"fill:#1f77b4;stroke:#1f77b4;\" x=\"56.22453\" xlink:href=\"#m7a0501df12\" y=\"197.807723\"/>\n     <use style=\"fill:#1f77b4;stroke:#1f77b4;\" x=\"52.870967\" xlink:href=\"#m7a0501df12\" y=\"203.549888\"/>\n     <use style=\"fill:#1f77b4;stroke:#1f77b4;\" x=\"53.547612\" xlink:href=\"#m7a0501df12\" y=\"202.405621\"/>\n     <use style=\"fill:#1f77b4;stroke:#1f77b4;\" x=\"50.545213\" xlink:href=\"#m7a0501df12\" y=\"205.525313\"/>\n     <use style=\"fill:#1f77b4;stroke:#1f77b4;\" x=\"48.515042\" xlink:href=\"#m7a0501df12\" y=\"206.325523\"/>\n     <use style=\"fill:#1f77b4;stroke:#1f77b4;\" x=\"50.504112\" xlink:href=\"#m7a0501df12\" y=\"200.646012\"/>\n     <use style=\"fill:#1f77b4;stroke:#1f77b4;\" x=\"52.712917\" xlink:href=\"#m7a0501df12\" y=\"196.999746\"/>\n     <use style=\"fill:#1f77b4;stroke:#1f77b4;\" x=\"57.107812\" xlink:href=\"#m7a0501df12\" y=\"182.795347\"/>\n     <use style=\"fill:#1f77b4;stroke:#1f77b4;\" x=\"57.742565\" xlink:href=\"#m7a0501df12\" y=\"180.860937\"/>\n     <use style=\"fill:#1f77b4;stroke:#1f77b4;\" x=\"61.144233\" xlink:href=\"#m7a0501df12\" y=\"181.021945\"/>\n     <use style=\"fill:#1f77b4;stroke:#1f77b4;\" x=\"59.428355\" xlink:href=\"#m7a0501df12\" y=\"187.731539\"/>\n     <use style=\"fill:#1f77b4;stroke:#1f77b4;\" x=\"72.503339\" xlink:href=\"#m7a0501df12\" y=\"157.090133\"/>\n     <use style=\"fill:#1f77b4;stroke:#1f77b4;\" x=\"65.642818\" xlink:href=\"#m7a0501df12\" y=\"162.307965\"/>\n     <use style=\"fill:#1f77b4;stroke:#1f77b4;\" x=\"62.697197\" xlink:href=\"#m7a0501df12\" y=\"176.027164\"/>\n     <use style=\"fill:#1f77b4;stroke:#1f77b4;\" x=\"62.459184\" xlink:href=\"#m7a0501df12\" y=\"184.82838\"/>\n     <use style=\"fill:#1f77b4;stroke:#1f77b4;\" x=\"54.324059\" xlink:href=\"#m7a0501df12\" y=\"192.862586\"/>\n     <use style=\"fill:#1f77b4;stroke:#1f77b4;\" x=\"80.802207\" xlink:href=\"#m7a0501df12\" y=\"153.494513\"/>\n     <use style=\"fill:#1f77b4;stroke:#1f77b4;\" x=\"72.752182\" xlink:href=\"#m7a0501df12\" y=\"163.118531\"/>\n     <use style=\"fill:#1f77b4;stroke:#1f77b4;\" x=\"65.36177\" xlink:href=\"#m7a0501df12\" y=\"195.784948\"/>\n     <use style=\"fill:#1f77b4;stroke:#1f77b4;\" x=\"65.149071\" xlink:href=\"#m7a0501df12\" y=\"191.794073\"/>\n     <use style=\"fill:#1f77b4;stroke:#1f77b4;\" x=\"64.227989\" xlink:href=\"#m7a0501df12\" y=\"185.889292\"/>\n     <use style=\"fill:#1f77b4;stroke:#1f77b4;\" x=\"61.653356\" xlink:href=\"#m7a0501df12\" y=\"189.146658\"/>\n     <use style=\"fill:#1f77b4;stroke:#1f77b4;\" x=\"60.132199\" xlink:href=\"#m7a0501df12\" y=\"189.223588\"/>\n     <use style=\"fill:#1f77b4;stroke:#1f77b4;\" x=\"66.587581\" xlink:href=\"#m7a0501df12\" y=\"180.376391\"/>\n     <use style=\"fill:#1f77b4;stroke:#1f77b4;\" x=\"56.259855\" xlink:href=\"#m7a0501df12\" y=\"193.888192\"/>\n     <use style=\"fill:#1f77b4;stroke:#1f77b4;\" x=\"53.131167\" xlink:href=\"#m7a0501df12\" y=\"201.025014\"/>\n     <use style=\"fill:#1f77b4;stroke:#1f77b4;\" x=\"54.823598\" xlink:href=\"#m7a0501df12\" y=\"198.125609\"/>\n     <use style=\"fill:#1f77b4;stroke:#1f77b4;\" x=\"58.483784\" xlink:href=\"#m7a0501df12\" y=\"186.212269\"/>\n     <use style=\"fill:#1f77b4;stroke:#1f77b4;\" x=\"53.881122\" xlink:href=\"#m7a0501df12\" y=\"197.098122\"/>\n     <use style=\"fill:#1f77b4;stroke:#1f77b4;\" x=\"54.027053\" xlink:href=\"#m7a0501df12\" y=\"196.709022\"/>\n     <use style=\"fill:#1f77b4;stroke:#1f77b4;\" x=\"74.451556\" xlink:href=\"#m7a0501df12\" y=\"190.141242\"/>\n     <use style=\"fill:#1f77b4;stroke:#1f77b4;\" x=\"67.634162\" xlink:href=\"#m7a0501df12\" y=\"193.251868\"/>\n     <use style=\"fill:#1f77b4;stroke:#1f77b4;\" x=\"74.19633\" xlink:href=\"#m7a0501df12\" y=\"196.359508\"/>\n     <use style=\"fill:#1f77b4;stroke:#1f77b4;\" x=\"80.224628\" xlink:href=\"#m7a0501df12\" y=\"195.078648\"/>\n     <use style=\"fill:#1f77b4;stroke:#1f77b4;\" x=\"74.992008\" xlink:href=\"#m7a0501df12\" y=\"193.537989\"/>\n     <use style=\"fill:#1f77b4;stroke:#1f77b4;\" x=\"73.960103\" xlink:href=\"#m7a0501df12\" y=\"199.74059\"/>\n     <use style=\"fill:#1f77b4;stroke:#1f77b4;\" x=\"71.851408\" xlink:href=\"#m7a0501df12\" y=\"199.230565\"/>\n     <use style=\"fill:#1f77b4;stroke:#1f77b4;\" x=\"68.224048\" xlink:href=\"#m7a0501df12\" y=\"192.555661\"/>\n     <use style=\"fill:#1f77b4;stroke:#1f77b4;\" x=\"75.778232\" xlink:href=\"#m7a0501df12\" y=\"193.638466\"/>\n     <use style=\"fill:#1f77b4;stroke:#1f77b4;\" x=\"72.27921\" xlink:href=\"#m7a0501df12\" y=\"203.333313\"/>\n     <use style=\"fill:#1f77b4;stroke:#1f77b4;\" x=\"95.5334\" xlink:href=\"#m7a0501df12\" y=\"201.84757\"/>\n     <use style=\"fill:#1f77b4;stroke:#1f77b4;\" x=\"74.795406\" xlink:href=\"#m7a0501df12\" y=\"199.251803\"/>\n     <use style=\"fill:#1f77b4;stroke:#1f77b4;\" x=\"70.498231\" xlink:href=\"#m7a0501df12\" y=\"196.868962\"/>\n     <use style=\"fill:#1f77b4;stroke:#1f77b4;\" x=\"66.279451\" xlink:href=\"#m7a0501df12\" y=\"198.970865\"/>\n     <use style=\"fill:#1f77b4;stroke:#1f77b4;\" x=\"88.592533\" xlink:href=\"#m7a0501df12\" y=\"195.398547\"/>\n     <use style=\"fill:#1f77b4;stroke:#1f77b4;\" x=\"53.161699\" xlink:href=\"#m7a0501df12\" y=\"196.372683\"/>\n     <use style=\"fill:#1f77b4;stroke:#1f77b4;\" x=\"53.230663\" xlink:href=\"#m7a0501df12\" y=\"195.03115\"/>\n     <use style=\"fill:#1f77b4;stroke:#1f77b4;\" x=\"50.686444\" xlink:href=\"#m7a0501df12\" y=\"197.443584\"/>\n     <use style=\"fill:#1f77b4;stroke:#1f77b4;\" x=\"56.104254\" xlink:href=\"#m7a0501df12\" y=\"189.783915\"/>\n     <use style=\"fill:#1f77b4;stroke:#1f77b4;\" x=\"54.422988\" xlink:href=\"#m7a0501df12\" y=\"193.611974\"/>\n     <use style=\"fill:#1f77b4;stroke:#1f77b4;\" x=\"54.302313\" xlink:href=\"#m7a0501df12\" y=\"194.330354\"/>\n     <use style=\"fill:#1f77b4;stroke:#1f77b4;\" x=\"54.637951\" xlink:href=\"#m7a0501df12\" y=\"191.891406\"/>\n     <use style=\"fill:#1f77b4;stroke:#1f77b4;\" x=\"55.64209\" xlink:href=\"#m7a0501df12\" y=\"192.575953\"/>\n     <use style=\"fill:#1f77b4;stroke:#1f77b4;\" x=\"49.953443\" xlink:href=\"#m7a0501df12\" y=\"201.25458\"/>\n     <use style=\"fill:#1f77b4;stroke:#1f77b4;\" x=\"49.212643\" xlink:href=\"#m7a0501df12\" y=\"201.030624\"/>\n     <use style=\"fill:#1f77b4;stroke:#1f77b4;\" x=\"54.090111\" xlink:href=\"#m7a0501df12\" y=\"196.914585\"/>\n     <use style=\"fill:#1f77b4;stroke:#1f77b4;\" x=\"60.259732\" xlink:href=\"#m7a0501df12\" y=\"194.743932\"/>\n     <use style=\"fill:#1f77b4;stroke:#1f77b4;\" x=\"71.189973\" xlink:href=\"#m7a0501df12\" y=\"179.578928\"/>\n     <use style=\"fill:#1f77b4;stroke:#1f77b4;\" x=\"63.595009\" xlink:href=\"#m7a0501df12\" y=\"190.004654\"/>\n     <use style=\"fill:#1f77b4;stroke:#1f77b4;\" x=\"58.562467\" xlink:href=\"#m7a0501df12\" y=\"193.543199\"/>\n     <use style=\"fill:#1f77b4;stroke:#1f77b4;\" x=\"54.686122\" xlink:href=\"#m7a0501df12\" y=\"198.33666\"/>\n     <use style=\"fill:#1f77b4;stroke:#1f77b4;\" x=\"54.567718\" xlink:href=\"#m7a0501df12\" y=\"201.396688\"/>\n     <use style=\"fill:#1f77b4;stroke:#1f77b4;\" x=\"58.987895\" xlink:href=\"#m7a0501df12\" y=\"191.444599\"/>\n     <use style=\"fill:#1f77b4;stroke:#1f77b4;\" x=\"62.738105\" xlink:href=\"#m7a0501df12\" y=\"194.279986\"/>\n     <use style=\"fill:#1f77b4;stroke:#1f77b4;\" x=\"64.589801\" xlink:href=\"#m7a0501df12\" y=\"191.162853\"/>\n     <use style=\"fill:#1f77b4;stroke:#1f77b4;\" x=\"82.632579\" xlink:href=\"#m7a0501df12\" y=\"196.659719\"/>\n     <use style=\"fill:#1f77b4;stroke:#1f77b4;\" x=\"59.967355\" xlink:href=\"#m7a0501df12\" y=\"194.868825\"/>\n     <use style=\"fill:#1f77b4;stroke:#1f77b4;\" x=\"59.726851\" xlink:href=\"#m7a0501df12\" y=\"200.49432\"/>\n     <use style=\"fill:#1f77b4;stroke:#1f77b4;\" x=\"54.608764\" xlink:href=\"#m7a0501df12\" y=\"202.365098\"/>\n     <use style=\"fill:#1f77b4;stroke:#1f77b4;\" x=\"60.133484\" xlink:href=\"#m7a0501df12\" y=\"194.146669\"/>\n     <use style=\"fill:#1f77b4;stroke:#1f77b4;\" x=\"59.345122\" xlink:href=\"#m7a0501df12\" y=\"197.434293\"/>\n     <use style=\"fill:#1f77b4;stroke:#1f77b4;\" x=\"63.933094\" xlink:href=\"#m7a0501df12\" y=\"191.513676\"/>\n     <use style=\"fill:#1f77b4;stroke:#1f77b4;\" x=\"68.952668\" xlink:href=\"#m7a0501df12\" y=\"190.779583\"/>\n     <use style=\"fill:#1f77b4;stroke:#1f77b4;\" x=\"68.062011\" xlink:href=\"#m7a0501df12\" y=\"187.752072\"/>\n     <use style=\"fill:#1f77b4;stroke:#1f77b4;\" x=\"63.853155\" xlink:href=\"#m7a0501df12\" y=\"182.770788\"/>\n     <use style=\"fill:#1f77b4;stroke:#1f77b4;\" x=\"56.513608\" xlink:href=\"#m7a0501df12\" y=\"200.458342\"/>\n     <use style=\"fill:#1f77b4;stroke:#1f77b4;\" x=\"63.087237\" xlink:href=\"#m7a0501df12\" y=\"194.83088\"/>\n     <use style=\"fill:#1f77b4;stroke:#1f77b4;\" x=\"55.589146\" xlink:href=\"#m7a0501df12\" y=\"198.596476\"/>\n     <use style=\"fill:#1f77b4;stroke:#1f77b4;\" x=\"59.259791\" xlink:href=\"#m7a0501df12\" y=\"193.96508\"/>\n     <use style=\"fill:#1f77b4;stroke:#1f77b4;\" x=\"63.110536\" xlink:href=\"#m7a0501df12\" y=\"196.760397\"/>\n     <use style=\"fill:#1f77b4;stroke:#1f77b4;\" x=\"60.857599\" xlink:href=\"#m7a0501df12\" y=\"196.027365\"/>\n     <use style=\"fill:#1f77b4;stroke:#1f77b4;\" x=\"57.256612\" xlink:href=\"#m7a0501df12\" y=\"202.745657\"/>\n     <use style=\"fill:#1f77b4;stroke:#1f77b4;\" x=\"53.909175\" xlink:href=\"#m7a0501df12\" y=\"202.753638\"/>\n     <use style=\"fill:#1f77b4;stroke:#1f77b4;\" x=\"60.794001\" xlink:href=\"#m7a0501df12\" y=\"200.111036\"/>\n     <use style=\"fill:#1f77b4;stroke:#1f77b4;\" x=\"67.33531\" xlink:href=\"#m7a0501df12\" y=\"192.757303\"/>\n     <use style=\"fill:#1f77b4;stroke:#1f77b4;\" x=\"76.130957\" xlink:href=\"#m7a0501df12\" y=\"185.087838\"/>\n     <use style=\"fill:#1f77b4;stroke:#1f77b4;\" x=\"65.567258\" xlink:href=\"#m7a0501df12\" y=\"197.701594\"/>\n     <use style=\"fill:#1f77b4;stroke:#1f77b4;\" x=\"65.574095\" xlink:href=\"#m7a0501df12\" y=\"183.338557\"/>\n     <use style=\"fill:#1f77b4;stroke:#1f77b4;\" x=\"67.897928\" xlink:href=\"#m7a0501df12\" y=\"178.375537\"/>\n     <use style=\"fill:#1f77b4;stroke:#1f77b4;\" x=\"69.323553\" xlink:href=\"#m7a0501df12\" y=\"175.552515\"/>\n     <use style=\"fill:#1f77b4;stroke:#1f77b4;\" x=\"70.600912\" xlink:href=\"#m7a0501df12\" y=\"163.174449\"/>\n     <use style=\"fill:#1f77b4;stroke:#1f77b4;\" x=\"78.233916\" xlink:href=\"#m7a0501df12\" y=\"172.485075\"/>\n     <use style=\"fill:#1f77b4;stroke:#1f77b4;\" x=\"71.448513\" xlink:href=\"#m7a0501df12\" y=\"179.93551\"/>\n     <use style=\"fill:#1f77b4;stroke:#1f77b4;\" x=\"86.915284\" xlink:href=\"#m7a0501df12\" y=\"154.234432\"/>\n     <use style=\"fill:#1f77b4;stroke:#1f77b4;\" x=\"67.23006\" xlink:href=\"#m7a0501df12\" y=\"187.535553\"/>\n     <use style=\"fill:#1f77b4;stroke:#1f77b4;\" x=\"61.733451\" xlink:href=\"#m7a0501df12\" y=\"192.343898\"/>\n     <use style=\"fill:#1f77b4;stroke:#1f77b4;\" x=\"60.450491\" xlink:href=\"#m7a0501df12\" y=\"191.766965\"/>\n     <use style=\"fill:#1f77b4;stroke:#1f77b4;\" x=\"74.96235\" xlink:href=\"#m7a0501df12\" y=\"179.495999\"/>\n     <use style=\"fill:#1f77b4;stroke:#1f77b4;\" x=\"76.628422\" xlink:href=\"#m7a0501df12\" y=\"163.392224\"/>\n     <use style=\"fill:#1f77b4;stroke:#1f77b4;\" x=\"65.919367\" xlink:href=\"#m7a0501df12\" y=\"187.413794\"/>\n     <use style=\"fill:#1f77b4;stroke:#1f77b4;\" x=\"61.146905\" xlink:href=\"#m7a0501df12\" y=\"189.133577\"/>\n     <use style=\"fill:#1f77b4;stroke:#1f77b4;\" x=\"62.84524\" xlink:href=\"#m7a0501df12\" y=\"188.68701\"/>\n     <use style=\"fill:#1f77b4;stroke:#1f77b4;\" x=\"57.047384\" xlink:href=\"#m7a0501df12\" y=\"195.312236\"/>\n     <use style=\"fill:#1f77b4;stroke:#1f77b4;\" x=\"55.34327\" xlink:href=\"#m7a0501df12\" y=\"200.46182\"/>\n     <use style=\"fill:#1f77b4;stroke:#1f77b4;\" x=\"56.744723\" xlink:href=\"#m7a0501df12\" y=\"201.792689\"/>\n     <use style=\"fill:#1f77b4;stroke:#1f77b4;\" x=\"60.93875\" xlink:href=\"#m7a0501df12\" y=\"193.210262\"/>\n     <use style=\"fill:#1f77b4;stroke:#1f77b4;\" x=\"63.324451\" xlink:href=\"#m7a0501df12\" y=\"189.810839\"/>\n     <use style=\"fill:#1f77b4;stroke:#1f77b4;\" x=\"55.564829\" xlink:href=\"#m7a0501df12\" y=\"199.571274\"/>\n     <use style=\"fill:#1f77b4;stroke:#1f77b4;\" x=\"57.639581\" xlink:href=\"#m7a0501df12\" y=\"200.909962\"/>\n     <use style=\"fill:#1f77b4;stroke:#1f77b4;\" x=\"52.246506\" xlink:href=\"#m7a0501df12\" y=\"206.892823\"/>\n     <use style=\"fill:#1f77b4;stroke:#1f77b4;\" x=\"55.480297\" xlink:href=\"#m7a0501df12\" y=\"205.642663\"/>\n     <use style=\"fill:#1f77b4;stroke:#1f77b4;\" x=\"52.877383\" xlink:href=\"#m7a0501df12\" y=\"207.846439\"/>\n     <use style=\"fill:#1f77b4;stroke:#1f77b4;\" x=\"56.609722\" xlink:href=\"#m7a0501df12\" y=\"205.044746\"/>\n     <use style=\"fill:#1f77b4;stroke:#1f77b4;\" x=\"72.059484\" xlink:href=\"#m7a0501df12\" y=\"189.901057\"/>\n     <use style=\"fill:#1f77b4;stroke:#1f77b4;\" x=\"95.644311\" xlink:href=\"#m7a0501df12\" y=\"167.357291\"/>\n     <use style=\"fill:#1f77b4;stroke:#1f77b4;\" x=\"68.543032\" xlink:href=\"#m7a0501df12\" y=\"190.04325\"/>\n     <use style=\"fill:#1f77b4;stroke:#1f77b4;\" x=\"66.881182\" xlink:href=\"#m7a0501df12\" y=\"196.868734\"/>\n     <use style=\"fill:#1f77b4;stroke:#1f77b4;\" x=\"66.318602\" xlink:href=\"#m7a0501df12\" y=\"195.597245\"/>\n     <use style=\"fill:#1f77b4;stroke:#1f77b4;\" x=\"73.321998\" xlink:href=\"#m7a0501df12\" y=\"193.162258\"/>\n     <use style=\"fill:#1f77b4;stroke:#1f77b4;\" x=\"71.851897\" xlink:href=\"#m7a0501df12\" y=\"192.400719\"/>\n     <use style=\"fill:#1f77b4;stroke:#1f77b4;\" x=\"77.951101\" xlink:href=\"#m7a0501df12\" y=\"191.197916\"/>\n     <use style=\"fill:#1f77b4;stroke:#1f77b4;\" x=\"69.148938\" xlink:href=\"#m7a0501df12\" y=\"193.400428\"/>\n     <use style=\"fill:#1f77b4;stroke:#1f77b4;\" x=\"70.012623\" xlink:href=\"#m7a0501df12\" y=\"195.258767\"/>\n     <use style=\"fill:#1f77b4;stroke:#1f77b4;\" x=\"75.490692\" xlink:href=\"#m7a0501df12\" y=\"192.365173\"/>\n     <use style=\"fill:#1f77b4;stroke:#1f77b4;\" x=\"91.360404\" xlink:href=\"#m7a0501df12\" y=\"165.924675\"/>\n     <use style=\"fill:#1f77b4;stroke:#1f77b4;\" x=\"76.123911\" xlink:href=\"#m7a0501df12\" y=\"170.290009\"/>\n     <use style=\"fill:#1f77b4;stroke:#1f77b4;\" x=\"72.808872\" xlink:href=\"#m7a0501df12\" y=\"183.150177\"/>\n     <use style=\"fill:#1f77b4;stroke:#1f77b4;\" x=\"78.074651\" xlink:href=\"#m7a0501df12\" y=\"186.454202\"/>\n     <use style=\"fill:#1f77b4;stroke:#1f77b4;\" x=\"74.111013\" xlink:href=\"#m7a0501df12\" y=\"194.311688\"/>\n     <use style=\"fill:#1f77b4;stroke:#1f77b4;\" x=\"68.842464\" xlink:href=\"#m7a0501df12\" y=\"194.952942\"/>\n     <use style=\"fill:#1f77b4;stroke:#1f77b4;\" x=\"92.572042\" xlink:href=\"#m7a0501df12\" y=\"180.746805\"/>\n     <use style=\"fill:#1f77b4;stroke:#1f77b4;\" x=\"102.016446\" xlink:href=\"#m7a0501df12\" y=\"121.344975\"/>\n     <use style=\"fill:#1f77b4;stroke:#1f77b4;\" x=\"104.201149\" xlink:href=\"#m7a0501df12\" y=\"93.940656\"/>\n     <use style=\"fill:#1f77b4;stroke:#1f77b4;\" x=\"92.293868\" xlink:href=\"#m7a0501df12\" y=\"129.894953\"/>\n     <use style=\"fill:#1f77b4;stroke:#1f77b4;\" x=\"99.064318\" xlink:href=\"#m7a0501df12\" y=\"122.512842\"/>\n     <use style=\"fill:#1f77b4;stroke:#1f77b4;\" x=\"107.348171\" xlink:href=\"#m7a0501df12\" y=\"132.38656\"/>\n     <use style=\"fill:#1f77b4;stroke:#1f77b4;\" x=\"110.273694\" xlink:href=\"#m7a0501df12\" y=\"123.364654\"/>\n     <use style=\"fill:#1f77b4;stroke:#1f77b4;\" x=\"87.4289\" xlink:href=\"#m7a0501df12\" y=\"149.266874\"/>\n     <use style=\"fill:#1f77b4;stroke:#1f77b4;\" x=\"103.166857\" xlink:href=\"#m7a0501df12\" y=\"132.039126\"/>\n     <use style=\"fill:#1f77b4;stroke:#1f77b4;\" x=\"141.067395\" xlink:href=\"#m7a0501df12\" y=\"85.103431\"/>\n     <use style=\"fill:#1f77b4;stroke:#1f77b4;\" x=\"98.612941\" xlink:href=\"#m7a0501df12\" y=\"139.324072\"/>\n     <use style=\"fill:#1f77b4;stroke:#1f77b4;\" x=\"93.882821\" xlink:href=\"#m7a0501df12\" y=\"156.554098\"/>\n     <use style=\"fill:#1f77b4;stroke:#1f77b4;\" x=\"88.855928\" xlink:href=\"#m7a0501df12\" y=\"148.852012\"/>\n     <use style=\"fill:#1f77b4;stroke:#1f77b4;\" x=\"92.480514\" xlink:href=\"#m7a0501df12\" y=\"142.876471\"/>\n     <use style=\"fill:#1f77b4;stroke:#1f77b4;\" x=\"83.687824\" xlink:href=\"#m7a0501df12\" y=\"151.399078\"/>\n     <use style=\"fill:#1f77b4;stroke:#1f77b4;\" x=\"79.012472\" xlink:href=\"#m7a0501df12\" y=\"158.5414\"/>\n     <use style=\"fill:#1f77b4;stroke:#1f77b4;\" x=\"76.521772\" xlink:href=\"#m7a0501df12\" y=\"166.568857\"/>\n     <use style=\"fill:#1f77b4;stroke:#1f77b4;\" x=\"83.283813\" xlink:href=\"#m7a0501df12\" y=\"116.689196\"/>\n     <use style=\"fill:#1f77b4;stroke:#1f77b4;\" x=\"91.670568\" xlink:href=\"#m7a0501df12\" y=\"117.65024\"/>\n     <use style=\"fill:#1f77b4;stroke:#1f77b4;\" x=\"99.37357\" xlink:href=\"#m7a0501df12\" y=\"119.63709\"/>\n     <use style=\"fill:#1f77b4;stroke:#1f77b4;\" x=\"100.741462\" xlink:href=\"#m7a0501df12\" y=\"124.336392\"/>\n     <use style=\"fill:#1f77b4;stroke:#1f77b4;\" x=\"75.51001\" xlink:href=\"#m7a0501df12\" y=\"163.217397\"/>\n     <use style=\"fill:#1f77b4;stroke:#1f77b4;\" x=\"75.762821\" xlink:href=\"#m7a0501df12\" y=\"141.835587\"/>\n     <use style=\"fill:#1f77b4;stroke:#1f77b4;\" x=\"85.60373\" xlink:href=\"#m7a0501df12\" y=\"125.158977\"/>\n     <use style=\"fill:#1f77b4;stroke:#1f77b4;\" x=\"85.917121\" xlink:href=\"#m7a0501df12\" y=\"129.808661\"/>\n     <use style=\"fill:#1f77b4;stroke:#1f77b4;\" x=\"87.947126\" xlink:href=\"#m7a0501df12\" y=\"134.891477\"/>\n     <use style=\"fill:#1f77b4;stroke:#1f77b4;\" x=\"100.137959\" xlink:href=\"#m7a0501df12\" y=\"145.990799\"/>\n     <use style=\"fill:#1f77b4;stroke:#1f77b4;\" x=\"136.32238\" xlink:href=\"#m7a0501df12\" y=\"101.719521\"/>\n     <use style=\"fill:#1f77b4;stroke:#1f77b4;\" x=\"90.190269\" xlink:href=\"#m7a0501df12\" y=\"155.37169\"/>\n     <use style=\"fill:#1f77b4;stroke:#1f77b4;\" x=\"79.357625\" xlink:href=\"#m7a0501df12\" y=\"168.012162\"/>\n     <use style=\"fill:#1f77b4;stroke:#1f77b4;\" x=\"86.918401\" xlink:href=\"#m7a0501df12\" y=\"158.651904\"/>\n     <use style=\"fill:#1f77b4;stroke:#1f77b4;\" x=\"88.394714\" xlink:href=\"#m7a0501df12\" y=\"120.792761\"/>\n     <use style=\"fill:#1f77b4;stroke:#1f77b4;\" x=\"86.714134\" xlink:href=\"#m7a0501df12\" y=\"129.104863\"/>\n     <use style=\"fill:#1f77b4;stroke:#1f77b4;\" x=\"93.422624\" xlink:href=\"#m7a0501df12\" y=\"123.219892\"/>\n     <use style=\"fill:#1f77b4;stroke:#1f77b4;\" x=\"84.467769\" xlink:href=\"#m7a0501df12\" y=\"133.225099\"/>\n     <use style=\"fill:#1f77b4;stroke:#1f77b4;\" x=\"95.598337\" xlink:href=\"#m7a0501df12\" y=\"133.773879\"/>\n     <use style=\"fill:#1f77b4;stroke:#1f77b4;\" x=\"90.504049\" xlink:href=\"#m7a0501df12\" y=\"133.736503\"/>\n     <use style=\"fill:#1f77b4;stroke:#1f77b4;\" x=\"121.956713\" xlink:href=\"#m7a0501df12\" y=\"114.78451\"/>\n     <use style=\"fill:#1f77b4;stroke:#1f77b4;\" x=\"113.511368\" xlink:href=\"#m7a0501df12\" y=\"123.724193\"/>\n     <use style=\"fill:#1f77b4;stroke:#1f77b4;\" x=\"109.568474\" xlink:href=\"#m7a0501df12\" y=\"129.007994\"/>\n     <use style=\"fill:#1f77b4;stroke:#1f77b4;\" x=\"104.398293\" xlink:href=\"#m7a0501df12\" y=\"142.761082\"/>\n     <use style=\"fill:#1f77b4;stroke:#1f77b4;\" x=\"100.171088\" xlink:href=\"#m7a0501df12\" y=\"138.366456\"/>\n     <use style=\"fill:#1f77b4;stroke:#1f77b4;\" x=\"94.657748\" xlink:href=\"#m7a0501df12\" y=\"144.305653\"/>\n     <use style=\"fill:#1f77b4;stroke:#1f77b4;\" x=\"95.530687\" xlink:href=\"#m7a0501df12\" y=\"153.452562\"/>\n     <use style=\"fill:#1f77b4;stroke:#1f77b4;\" x=\"100.621333\" xlink:href=\"#m7a0501df12\" y=\"135.915287\"/>\n     <use style=\"fill:#1f77b4;stroke:#1f77b4;\" x=\"100.603563\" xlink:href=\"#m7a0501df12\" y=\"146.849093\"/>\n     <use style=\"fill:#1f77b4;stroke:#1f77b4;\" x=\"103.901258\" xlink:href=\"#m7a0501df12\" y=\"142.915264\"/>\n     <use style=\"fill:#1f77b4;stroke:#1f77b4;\" x=\"78.745636\" xlink:href=\"#m7a0501df12\" y=\"160.879541\"/>\n     <use style=\"fill:#1f77b4;stroke:#1f77b4;\" x=\"88.750557\" xlink:href=\"#m7a0501df12\" y=\"165.51576\"/>\n     <use style=\"fill:#1f77b4;stroke:#1f77b4;\" x=\"92.816935\" xlink:href=\"#m7a0501df12\" y=\"145.853477\"/>\n     <use style=\"fill:#1f77b4;stroke:#1f77b4;\" x=\"78.608219\" xlink:href=\"#m7a0501df12\" y=\"171.680621\"/>\n     <use style=\"fill:#1f77b4;stroke:#1f77b4;\" x=\"113.723498\" xlink:href=\"#m7a0501df12\" y=\"127.85643\"/>\n     <use style=\"fill:#1f77b4;stroke:#1f77b4;\" x=\"126.010242\" xlink:href=\"#m7a0501df12\" y=\"105.410809\"/>\n     <use style=\"fill:#1f77b4;stroke:#1f77b4;\" x=\"88.925477\" xlink:href=\"#m7a0501df12\" y=\"153.709477\"/>\n     <use style=\"fill:#1f77b4;stroke:#1f77b4;\" x=\"80.889764\" xlink:href=\"#m7a0501df12\" y=\"169.685447\"/>\n     <use style=\"fill:#1f77b4;stroke:#1f77b4;\" x=\"340.144318\" xlink:href=\"#m7a0501df12\" y=\"153.459834\"/>\n     <use style=\"fill:#1f77b4;stroke:#1f77b4;\" x=\"73.372922\" xlink:href=\"#m7a0501df12\" y=\"178.410525\"/>\n     <use style=\"fill:#1f77b4;stroke:#1f77b4;\" x=\"79.960455\" xlink:href=\"#m7a0501df12\" y=\"162.323487\"/>\n     <use style=\"fill:#1f77b4;stroke:#1f77b4;\" x=\"80.351716\" xlink:href=\"#m7a0501df12\" y=\"170.732675\"/>\n     <use style=\"fill:#1f77b4;stroke:#1f77b4;\" x=\"74.789564\" xlink:href=\"#m7a0501df12\" y=\"174.253825\"/>\n     <use style=\"fill:#1f77b4;stroke:#1f77b4;\" x=\"79.765377\" xlink:href=\"#m7a0501df12\" y=\"173.901257\"/>\n     <use style=\"fill:#1f77b4;stroke:#1f77b4;\" x=\"78.998447\" xlink:href=\"#m7a0501df12\" y=\"173.361506\"/>\n     <use style=\"fill:#1f77b4;stroke:#1f77b4;\" x=\"75.747166\" xlink:href=\"#m7a0501df12\" y=\"177.652142\"/>\n     <use style=\"fill:#1f77b4;stroke:#1f77b4;\" x=\"63.274772\" xlink:href=\"#m7a0501df12\" y=\"173.734478\"/>\n     <use style=\"fill:#1f77b4;stroke:#1f77b4;\" x=\"70.947516\" xlink:href=\"#m7a0501df12\" y=\"171.252746\"/>\n     <use style=\"fill:#1f77b4;stroke:#1f77b4;\" x=\"75.722242\" xlink:href=\"#m7a0501df12\" y=\"162.337568\"/>\n     <use style=\"fill:#1f77b4;stroke:#1f77b4;\" x=\"77.746526\" xlink:href=\"#m7a0501df12\" y=\"172.066302\"/>\n     <use style=\"fill:#1f77b4;stroke:#1f77b4;\" x=\"83.328746\" xlink:href=\"#m7a0501df12\" y=\"168.116409\"/>\n     <use style=\"fill:#1f77b4;stroke:#1f77b4;\" x=\"82.87118\" xlink:href=\"#m7a0501df12\" y=\"170.778652\"/>\n     <use style=\"fill:#1f77b4;stroke:#1f77b4;\" x=\"81.924625\" xlink:href=\"#m7a0501df12\" y=\"174.45879\"/>\n     <use style=\"fill:#1f77b4;stroke:#1f77b4;\" x=\"86.27952\" xlink:href=\"#m7a0501df12\" y=\"168.441848\"/>\n     <use style=\"fill:#1f77b4;stroke:#1f77b4;\" x=\"71.615427\" xlink:href=\"#m7a0501df12\" y=\"181.671165\"/>\n     <use style=\"fill:#1f77b4;stroke:#1f77b4;\" x=\"91.307475\" xlink:href=\"#m7a0501df12\" y=\"165.571932\"/>\n     <use style=\"fill:#1f77b4;stroke:#1f77b4;\" x=\"85.474955\" xlink:href=\"#m7a0501df12\" y=\"171.20941\"/>\n     <use style=\"fill:#1f77b4;stroke:#1f77b4;\" x=\"85.91965\" xlink:href=\"#m7a0501df12\" y=\"169.612569\"/>\n     <use style=\"fill:#1f77b4;stroke:#1f77b4;\" x=\"81.973681\" xlink:href=\"#m7a0501df12\" y=\"172.526868\"/>\n     <use style=\"fill:#1f77b4;stroke:#1f77b4;\" x=\"76.130147\" xlink:href=\"#m7a0501df12\" y=\"177.227153\"/>\n     <use style=\"fill:#1f77b4;stroke:#1f77b4;\" x=\"77.265119\" xlink:href=\"#m7a0501df12\" y=\"173.894504\"/>\n     <use style=\"fill:#1f77b4;stroke:#1f77b4;\" x=\"78.648296\" xlink:href=\"#m7a0501df12\" y=\"173.195184\"/>\n     <use style=\"fill:#1f77b4;stroke:#1f77b4;\" x=\"82.651779\" xlink:href=\"#m7a0501df12\" y=\"171.744204\"/>\n     <use style=\"fill:#1f77b4;stroke:#1f77b4;\" x=\"82.576195\" xlink:href=\"#m7a0501df12\" y=\"175.479747\"/>\n     <use style=\"fill:#1f77b4;stroke:#1f77b4;\" x=\"94.93476\" xlink:href=\"#m7a0501df12\" y=\"153.945009\"/>\n     <use style=\"fill:#1f77b4;stroke:#1f77b4;\" x=\"92.689567\" xlink:href=\"#m7a0501df12\" y=\"157.626107\"/>\n     <use style=\"fill:#1f77b4;stroke:#1f77b4;\" x=\"82.766113\" xlink:href=\"#m7a0501df12\" y=\"174.195853\"/>\n     <use style=\"fill:#1f77b4;stroke:#1f77b4;\" x=\"74.558386\" xlink:href=\"#m7a0501df12\" y=\"184.569691\"/>\n     <use style=\"fill:#1f77b4;stroke:#1f77b4;\" x=\"74.925709\" xlink:href=\"#m7a0501df12\" y=\"188.075992\"/>\n     <use style=\"fill:#1f77b4;stroke:#1f77b4;\" x=\"83.617339\" xlink:href=\"#m7a0501df12\" y=\"173.6171\"/>\n     <use style=\"fill:#1f77b4;stroke:#1f77b4;\" x=\"80.808918\" xlink:href=\"#m7a0501df12\" y=\"174.279229\"/>\n     <use style=\"fill:#1f77b4;stroke:#1f77b4;\" x=\"90.521701\" xlink:href=\"#m7a0501df12\" y=\"156.280861\"/>\n     <use style=\"fill:#1f77b4;stroke:#1f77b4;\" x=\"87.153434\" xlink:href=\"#m7a0501df12\" y=\"154.677139\"/>\n     <use style=\"fill:#1f77b4;stroke:#1f77b4;\" x=\"84.581273\" xlink:href=\"#m7a0501df12\" y=\"145.465191\"/>\n     <use style=\"fill:#1f77b4;stroke:#1f77b4;\" x=\"85.380112\" xlink:href=\"#m7a0501df12\" y=\"152.117045\"/>\n     <use style=\"fill:#1f77b4;stroke:#1f77b4;\" x=\"77.604364\" xlink:href=\"#m7a0501df12\" y=\"166.12778\"/>\n     <use style=\"fill:#1f77b4;stroke:#1f77b4;\" x=\"86.311388\" xlink:href=\"#m7a0501df12\" y=\"159.401505\"/>\n     <use style=\"fill:#1f77b4;stroke:#1f77b4;\" x=\"90.991482\" xlink:href=\"#m7a0501df12\" y=\"158.623451\"/>\n     <use style=\"fill:#1f77b4;stroke:#1f77b4;\" x=\"99.375525\" xlink:href=\"#m7a0501df12\" y=\"142.539952\"/>\n     <use style=\"fill:#1f77b4;stroke:#1f77b4;\" x=\"79.619374\" xlink:href=\"#m7a0501df12\" y=\"167.74594\"/>\n     <use style=\"fill:#1f77b4;stroke:#1f77b4;\" x=\"74.023777\" xlink:href=\"#m7a0501df12\" y=\"180.579514\"/>\n     <use style=\"fill:#1f77b4;stroke:#1f77b4;\" x=\"84.153303\" xlink:href=\"#m7a0501df12\" y=\"168.508218\"/>\n     <use style=\"fill:#1f77b4;stroke:#1f77b4;\" x=\"73.695879\" xlink:href=\"#m7a0501df12\" y=\"180.858645\"/>\n     <use style=\"fill:#1f77b4;stroke:#1f77b4;\" x=\"78.547969\" xlink:href=\"#m7a0501df12\" y=\"176.110407\"/>\n     <use style=\"fill:#1f77b4;stroke:#1f77b4;\" x=\"94.424255\" xlink:href=\"#m7a0501df12\" y=\"158.078009\"/>\n     <use style=\"fill:#1f77b4;stroke:#1f77b4;\" x=\"100.955283\" xlink:href=\"#m7a0501df12\" y=\"143.761248\"/>\n     <use style=\"fill:#1f77b4;stroke:#1f77b4;\" x=\"86.528359\" xlink:href=\"#m7a0501df12\" y=\"151.384224\"/>\n     <use style=\"fill:#1f77b4;stroke:#1f77b4;\" x=\"106.937915\" xlink:href=\"#m7a0501df12\" y=\"142.351767\"/>\n     <use style=\"fill:#1f77b4;stroke:#1f77b4;\" x=\"91.062081\" xlink:href=\"#m7a0501df12\" y=\"151.327756\"/>\n     <use style=\"fill:#1f77b4;stroke:#1f77b4;\" x=\"118.460169\" xlink:href=\"#m7a0501df12\" y=\"108.522084\"/>\n     <use style=\"fill:#1f77b4;stroke:#1f77b4;\" x=\"90.367823\" xlink:href=\"#m7a0501df12\" y=\"147.336059\"/>\n     <use style=\"fill:#1f77b4;stroke:#1f77b4;\" x=\"92.557965\" xlink:href=\"#m7a0501df12\" y=\"134.800329\"/>\n     <use style=\"fill:#1f77b4;stroke:#1f77b4;\" x=\"81.257094\" xlink:href=\"#m7a0501df12\" y=\"136.047212\"/>\n     <use style=\"fill:#1f77b4;stroke:#1f77b4;\" x=\"98.635112\" xlink:href=\"#m7a0501df12\" y=\"101.803633\"/>\n     <use style=\"fill:#1f77b4;stroke:#1f77b4;\" x=\"109.015422\" xlink:href=\"#m7a0501df12\" y=\"97.515195\"/>\n     <use style=\"fill:#1f77b4;stroke:#1f77b4;\" x=\"76.086965\" xlink:href=\"#m7a0501df12\" y=\"152.484034\"/>\n     <use style=\"fill:#1f77b4;stroke:#1f77b4;\" x=\"73.553215\" xlink:href=\"#m7a0501df12\" y=\"152.577061\"/>\n     <use style=\"fill:#1f77b4;stroke:#1f77b4;\" x=\"84.193154\" xlink:href=\"#m7a0501df12\" y=\"144.658347\"/>\n     <use style=\"fill:#1f77b4;stroke:#1f77b4;\" x=\"76.466259\" xlink:href=\"#m7a0501df12\" y=\"151.500037\"/>\n     <use style=\"fill:#1f77b4;stroke:#1f77b4;\" x=\"75.200294\" xlink:href=\"#m7a0501df12\" y=\"146.849882\"/>\n     <use style=\"fill:#1f77b4;stroke:#1f77b4;\" x=\"73.528568\" xlink:href=\"#m7a0501df12\" y=\"150.795049\"/>\n     <use style=\"fill:#1f77b4;stroke:#1f77b4;\" x=\"79.044022\" xlink:href=\"#m7a0501df12\" y=\"157.330141\"/>\n     <use style=\"fill:#1f77b4;stroke:#1f77b4;\" x=\"70.684264\" xlink:href=\"#m7a0501df12\" y=\"159.782245\"/>\n     <use style=\"fill:#1f77b4;stroke:#1f77b4;\" x=\"66.609964\" xlink:href=\"#m7a0501df12\" y=\"161.401915\"/>\n     <use style=\"fill:#1f77b4;stroke:#1f77b4;\" x=\"78.446921\" xlink:href=\"#m7a0501df12\" y=\"112.073355\"/>\n     <use style=\"fill:#1f77b4;stroke:#1f77b4;\" x=\"93.183565\" xlink:href=\"#m7a0501df12\" y=\"81.210733\"/>\n     <use style=\"fill:#1f77b4;stroke:#1f77b4;\" x=\"93.775258\" xlink:href=\"#m7a0501df12\" y=\"114.033433\"/>\n     <use style=\"fill:#1f77b4;stroke:#1f77b4;\" x=\"94.021839\" xlink:href=\"#m7a0501df12\" y=\"123.444989\"/>\n     <use style=\"fill:#1f77b4;stroke:#1f77b4;\" x=\"93.069283\" xlink:href=\"#m7a0501df12\" y=\"134.394923\"/>\n     <use style=\"fill:#1f77b4;stroke:#1f77b4;\" x=\"90.401155\" xlink:href=\"#m7a0501df12\" y=\"109.660386\"/>\n     <use style=\"fill:#1f77b4;stroke:#1f77b4;\" x=\"90.859138\" xlink:href=\"#m7a0501df12\" y=\"108.820913\"/>\n     <use style=\"fill:#1f77b4;stroke:#1f77b4;\" x=\"95.992309\" xlink:href=\"#m7a0501df12\" y=\"80.534711\"/>\n     <use style=\"fill:#1f77b4;stroke:#1f77b4;\" x=\"86.837944\" xlink:href=\"#m7a0501df12\" y=\"103.894544\"/>\n     <use style=\"fill:#1f77b4;stroke:#1f77b4;\" x=\"98.999579\" xlink:href=\"#m7a0501df12\" y=\"65.762018\"/>\n     <use style=\"fill:#1f77b4;stroke:#1f77b4;\" x=\"117.80629\" xlink:href=\"#m7a0501df12\" y=\"43.888925\"/>\n     <use style=\"fill:#1f77b4;stroke:#1f77b4;\" x=\"81.96621\" xlink:href=\"#m7a0501df12\" y=\"114.406571\"/>\n     <use style=\"fill:#1f77b4;stroke:#1f77b4;\" x=\"84.960094\" xlink:href=\"#m7a0501df12\" y=\"127.826856\"/>\n     <use style=\"fill:#1f77b4;stroke:#1f77b4;\" x=\"89.233607\" xlink:href=\"#m7a0501df12\" y=\"116.307621\"/>\n     <use style=\"fill:#1f77b4;stroke:#1f77b4;\" x=\"98.726941\" xlink:href=\"#m7a0501df12\" y=\"100.670113\"/>\n     <use style=\"fill:#1f77b4;stroke:#1f77b4;\" x=\"82.359618\" xlink:href=\"#m7a0501df12\" y=\"132.506723\"/>\n     <use style=\"fill:#1f77b4;stroke:#1f77b4;\" x=\"143.723707\" xlink:href=\"#m7a0501df12\" y=\"29.69228\"/>\n     <use style=\"fill:#1f77b4;stroke:#1f77b4;\" x=\"110.426227\" xlink:href=\"#m7a0501df12\" y=\"69.057752\"/>\n     <use style=\"fill:#1f77b4;stroke:#1f77b4;\" x=\"104.977826\" xlink:href=\"#m7a0501df12\" y=\"101.341277\"/>\n     <use style=\"fill:#1f77b4;stroke:#1f77b4;\" x=\"83.400189\" xlink:href=\"#m7a0501df12\" y=\"128.602365\"/>\n     <use style=\"fill:#1f77b4;stroke:#1f77b4;\" x=\"101.845079\" xlink:href=\"#m7a0501df12\" y=\"96.134452\"/>\n     <use style=\"fill:#1f77b4;stroke:#1f77b4;\" x=\"92.129689\" xlink:href=\"#m7a0501df12\" y=\"101.520813\"/>\n     <use style=\"fill:#1f77b4;stroke:#1f77b4;\" x=\"82.381088\" xlink:href=\"#m7a0501df12\" y=\"111.177316\"/>\n     <use style=\"fill:#1f77b4;stroke:#1f77b4;\" x=\"78.126502\" xlink:href=\"#m7a0501df12\" y=\"127.646165\"/>\n     <use style=\"fill:#1f77b4;stroke:#1f77b4;\" x=\"71.0118\" xlink:href=\"#m7a0501df12\" y=\"148.938994\"/>\n     <use style=\"fill:#1f77b4;stroke:#1f77b4;\" x=\"81.496338\" xlink:href=\"#m7a0501df12\" y=\"133.480613\"/>\n     <use style=\"fill:#1f77b4;stroke:#1f77b4;\" x=\"72.778322\" xlink:href=\"#m7a0501df12\" y=\"148.005527\"/>\n     <use style=\"fill:#1f77b4;stroke:#1f77b4;\" x=\"60.898341\" xlink:href=\"#m7a0501df12\" y=\"166.430818\"/>\n     <use style=\"fill:#1f77b4;stroke:#1f77b4;\" x=\"67.337932\" xlink:href=\"#m7a0501df12\" y=\"154.459866\"/>\n     <use style=\"fill:#1f77b4;stroke:#1f77b4;\" x=\"63.51601\" xlink:href=\"#m7a0501df12\" y=\"162.962317\"/>\n     <use style=\"fill:#1f77b4;stroke:#1f77b4;\" x=\"62.144312\" xlink:href=\"#m7a0501df12\" y=\"162.122272\"/>\n     <use style=\"fill:#1f77b4;stroke:#1f77b4;\" x=\"64.234258\" xlink:href=\"#m7a0501df12\" y=\"156.721119\"/>\n     <use style=\"fill:#1f77b4;stroke:#1f77b4;\" x=\"69.8051\" xlink:href=\"#m7a0501df12\" y=\"147.071975\"/>\n     <use style=\"fill:#1f77b4;stroke:#1f77b4;\" x=\"64.670389\" xlink:href=\"#m7a0501df12\" y=\"155.651441\"/>\n     <use style=\"fill:#1f77b4;stroke:#1f77b4;\" x=\"58.508656\" xlink:href=\"#m7a0501df12\" y=\"167.749013\"/>\n     <use style=\"fill:#1f77b4;stroke:#1f77b4;\" x=\"62.68044\" xlink:href=\"#m7a0501df12\" y=\"155.410101\"/>\n     <use style=\"fill:#1f77b4;stroke:#1f77b4;\" x=\"76.86313\" xlink:href=\"#m7a0501df12\" y=\"129.022804\"/>\n     <use style=\"fill:#1f77b4;stroke:#1f77b4;\" x=\"80.423092\" xlink:href=\"#m7a0501df12\" y=\"142.634305\"/>\n     <use style=\"fill:#1f77b4;stroke:#1f77b4;\" x=\"71.331047\" xlink:href=\"#m7a0501df12\" y=\"159.718267\"/>\n     <use style=\"fill:#1f77b4;stroke:#1f77b4;\" x=\"67.066741\" xlink:href=\"#m7a0501df12\" y=\"168.866778\"/>\n     <use style=\"fill:#1f77b4;stroke:#1f77b4;\" x=\"66.388562\" xlink:href=\"#m7a0501df12\" y=\"166.786055\"/>\n     <use style=\"fill:#1f77b4;stroke:#1f77b4;\" x=\"68.788955\" xlink:href=\"#m7a0501df12\" y=\"163.592921\"/>\n     <use style=\"fill:#1f77b4;stroke:#1f77b4;\" x=\"70.957534\" xlink:href=\"#m7a0501df12\" y=\"163.892428\"/>\n     <use style=\"fill:#1f77b4;stroke:#1f77b4;\" x=\"73.818218\" xlink:href=\"#m7a0501df12\" y=\"159.131118\"/>\n     <use style=\"fill:#1f77b4;stroke:#1f77b4;\" x=\"67.514395\" xlink:href=\"#m7a0501df12\" y=\"170.571482\"/>\n     <use style=\"fill:#1f77b4;stroke:#1f77b4;\" x=\"65.664864\" xlink:href=\"#m7a0501df12\" y=\"175.775138\"/>\n     <use style=\"fill:#1f77b4;stroke:#1f77b4;\" x=\"64.881505\" xlink:href=\"#m7a0501df12\" y=\"173.719182\"/>\n     <use style=\"fill:#1f77b4;stroke:#1f77b4;\" x=\"60.514611\" xlink:href=\"#m7a0501df12\" y=\"183.021452\"/>\n     <use style=\"fill:#1f77b4;stroke:#1f77b4;\" x=\"65.286526\" xlink:href=\"#m7a0501df12\" y=\"174.225219\"/>\n     <use style=\"fill:#1f77b4;stroke:#1f77b4;\" x=\"79.405282\" xlink:href=\"#m7a0501df12\" y=\"148.072131\"/>\n     <use style=\"fill:#1f77b4;stroke:#1f77b4;\" x=\"84.788085\" xlink:href=\"#m7a0501df12\" y=\"143.867574\"/>\n     <use style=\"fill:#1f77b4;stroke:#1f77b4;\" x=\"73.72811\" xlink:href=\"#m7a0501df12\" y=\"160.523135\"/>\n     <use style=\"fill:#1f77b4;stroke:#1f77b4;\" x=\"62.190224\" xlink:href=\"#m7a0501df12\" y=\"179.505383\"/>\n     <use style=\"fill:#1f77b4;stroke:#1f77b4;\" x=\"68.405742\" xlink:href=\"#m7a0501df12\" y=\"173.66898\"/>\n     <use style=\"fill:#1f77b4;stroke:#1f77b4;\" x=\"66.966741\" xlink:href=\"#m7a0501df12\" y=\"178.654484\"/>\n     <use style=\"fill:#1f77b4;stroke:#1f77b4;\" x=\"64.278761\" xlink:href=\"#m7a0501df12\" y=\"180.409186\"/>\n     <use style=\"fill:#1f77b4;stroke:#1f77b4;\" x=\"62.862848\" xlink:href=\"#m7a0501df12\" y=\"167.275465\"/>\n     <use style=\"fill:#1f77b4;stroke:#1f77b4;\" x=\"66.368651\" xlink:href=\"#m7a0501df12\" y=\"168.907468\"/>\n     <use style=\"fill:#1f77b4;stroke:#1f77b4;\" x=\"63.008463\" xlink:href=\"#m7a0501df12\" y=\"166.544124\"/>\n     <use style=\"fill:#1f77b4;stroke:#1f77b4;\" x=\"66.313992\" xlink:href=\"#m7a0501df12\" y=\"158.999474\"/>\n     <use style=\"fill:#1f77b4;stroke:#1f77b4;\" x=\"67.09231\" xlink:href=\"#m7a0501df12\" y=\"152.619392\"/>\n     <use style=\"fill:#1f77b4;stroke:#1f77b4;\" x=\"54.547638\" xlink:href=\"#m7a0501df12\" y=\"186.130387\"/>\n     <use style=\"fill:#1f77b4;stroke:#1f77b4;\" x=\"55.020171\" xlink:href=\"#m7a0501df12\" y=\"182.971866\"/>\n     <use style=\"fill:#1f77b4;stroke:#1f77b4;\" x=\"56.591858\" xlink:href=\"#m7a0501df12\" y=\"179.899808\"/>\n     <use style=\"fill:#1f77b4;stroke:#1f77b4;\" x=\"56.399211\" xlink:href=\"#m7a0501df12\" y=\"178.061114\"/>\n     <use style=\"fill:#1f77b4;stroke:#1f77b4;\" x=\"54.907991\" xlink:href=\"#m7a0501df12\" y=\"174.546228\"/>\n     <use style=\"fill:#1f77b4;stroke:#1f77b4;\" x=\"59.380491\" xlink:href=\"#m7a0501df12\" y=\"172.70354\"/>\n     <use style=\"fill:#1f77b4;stroke:#1f77b4;\" x=\"57.216657\" xlink:href=\"#m7a0501df12\" y=\"173.073462\"/>\n     <use style=\"fill:#1f77b4;stroke:#1f77b4;\" x=\"53.312774\" xlink:href=\"#m7a0501df12\" y=\"185.784656\"/>\n     <use style=\"fill:#1f77b4;stroke:#1f77b4;\" x=\"50.808963\" xlink:href=\"#m7a0501df12\" y=\"192.495222\"/>\n     <use style=\"fill:#1f77b4;stroke:#1f77b4;\" x=\"54.493017\" xlink:href=\"#m7a0501df12\" y=\"185.349317\"/>\n     <use style=\"fill:#1f77b4;stroke:#1f77b4;\" x=\"49.945071\" xlink:href=\"#m7a0501df12\" y=\"188.024299\"/>\n     <use style=\"fill:#1f77b4;stroke:#1f77b4;\" x=\"51.917652\" xlink:href=\"#m7a0501df12\" y=\"186.341637\"/>\n     <use style=\"fill:#1f77b4;stroke:#1f77b4;\" x=\"51.851184\" xlink:href=\"#m7a0501df12\" y=\"190.202399\"/>\n     <use style=\"fill:#1f77b4;stroke:#1f77b4;\" x=\"53.949061\" xlink:href=\"#m7a0501df12\" y=\"192.077157\"/>\n     <use style=\"fill:#1f77b4;stroke:#1f77b4;\" x=\"49.747577\" xlink:href=\"#m7a0501df12\" y=\"195.624248\"/>\n     <use style=\"fill:#1f77b4;stroke:#1f77b4;\" x=\"49.653978\" xlink:href=\"#m7a0501df12\" y=\"194.626615\"/>\n     <use style=\"fill:#1f77b4;stroke:#1f77b4;\" x=\"51.094102\" xlink:href=\"#m7a0501df12\" y=\"193.772985\"/>\n     <use style=\"fill:#1f77b4;stroke:#1f77b4;\" x=\"53.467029\" xlink:href=\"#m7a0501df12\" y=\"186.281493\"/>\n     <use style=\"fill:#1f77b4;stroke:#1f77b4;\" x=\"57.887399\" xlink:href=\"#m7a0501df12\" y=\"177.217676\"/>\n     <use style=\"fill:#1f77b4;stroke:#1f77b4;\" x=\"50.32493\" xlink:href=\"#m7a0501df12\" y=\"185.985453\"/>\n     <use style=\"fill:#1f77b4;stroke:#1f77b4;\" x=\"52.945636\" xlink:href=\"#m7a0501df12\" y=\"189.007116\"/>\n     <use style=\"fill:#1f77b4;stroke:#1f77b4;\" x=\"52.16966\" xlink:href=\"#m7a0501df12\" y=\"189.340633\"/>\n     <use style=\"fill:#1f77b4;stroke:#1f77b4;\" x=\"51.463048\" xlink:href=\"#m7a0501df12\" y=\"192.819305\"/>\n     <use style=\"fill:#1f77b4;stroke:#1f77b4;\" x=\"77.842633\" xlink:href=\"#m7a0501df12\" y=\"157.710111\"/>\n     <use style=\"fill:#1f77b4;stroke:#1f77b4;\" x=\"63.916483\" xlink:href=\"#m7a0501df12\" y=\"172.985021\"/>\n     <use style=\"fill:#1f77b4;stroke:#1f77b4;\" x=\"67.069074\" xlink:href=\"#m7a0501df12\" y=\"182.495444\"/>\n     <use style=\"fill:#1f77b4;stroke:#1f77b4;\" x=\"56.981526\" xlink:href=\"#m7a0501df12\" y=\"188.743512\"/>\n     <use style=\"fill:#1f77b4;stroke:#1f77b4;\" x=\"62.145988\" xlink:href=\"#m7a0501df12\" y=\"179.645366\"/>\n     <use style=\"fill:#1f77b4;stroke:#1f77b4;\" x=\"55.78845\" xlink:href=\"#m7a0501df12\" y=\"184.804332\"/>\n     <use style=\"fill:#1f77b4;stroke:#1f77b4;\" x=\"56.562898\" xlink:href=\"#m7a0501df12\" y=\"173.847113\"/>\n     <use style=\"fill:#1f77b4;stroke:#1f77b4;\" x=\"55.606922\" xlink:href=\"#m7a0501df12\" y=\"175.095903\"/>\n     <use style=\"fill:#1f77b4;stroke:#1f77b4;\" x=\"56.126867\" xlink:href=\"#m7a0501df12\" y=\"173.849991\"/>\n     <use style=\"fill:#1f77b4;stroke:#1f77b4;\" x=\"55.412169\" xlink:href=\"#m7a0501df12\" y=\"168.385832\"/>\n     <use style=\"fill:#1f77b4;stroke:#1f77b4;\" x=\"63.993142\" xlink:href=\"#m7a0501df12\" y=\"154.341936\"/>\n     <use style=\"fill:#1f77b4;stroke:#1f77b4;\" x=\"66.652882\" xlink:href=\"#m7a0501df12\" y=\"164.909687\"/>\n     <use style=\"fill:#1f77b4;stroke:#1f77b4;\" x=\"68.230806\" xlink:href=\"#m7a0501df12\" y=\"149.620672\"/>\n     <use style=\"fill:#1f77b4;stroke:#1f77b4;\" x=\"64.970509\" xlink:href=\"#m7a0501df12\" y=\"160.464855\"/>\n     <use style=\"fill:#1f77b4;stroke:#1f77b4;\" x=\"67.096773\" xlink:href=\"#m7a0501df12\" y=\"152.182976\"/>\n     <use style=\"fill:#1f77b4;stroke:#1f77b4;\" x=\"62.559832\" xlink:href=\"#m7a0501df12\" y=\"162.397692\"/>\n     <use style=\"fill:#1f77b4;stroke:#1f77b4;\" x=\"63.236421\" xlink:href=\"#m7a0501df12\" y=\"164.441986\"/>\n     <use style=\"fill:#1f77b4;stroke:#1f77b4;\" x=\"62.715143\" xlink:href=\"#m7a0501df12\" y=\"167.534221\"/>\n     <use style=\"fill:#1f77b4;stroke:#1f77b4;\" x=\"60.984198\" xlink:href=\"#m7a0501df12\" y=\"171.115251\"/>\n     <use style=\"fill:#1f77b4;stroke:#1f77b4;\" x=\"60.518174\" xlink:href=\"#m7a0501df12\" y=\"180.466612\"/>\n     <use style=\"fill:#1f77b4;stroke:#1f77b4;\" x=\"60.32369\" xlink:href=\"#m7a0501df12\" y=\"175.087851\"/>\n     <use style=\"fill:#1f77b4;stroke:#1f77b4;\" x=\"61.887218\" xlink:href=\"#m7a0501df12\" y=\"172.955718\"/>\n     <use style=\"fill:#1f77b4;stroke:#1f77b4;\" x=\"62.477054\" xlink:href=\"#m7a0501df12\" y=\"167.288405\"/>\n     <use style=\"fill:#1f77b4;stroke:#1f77b4;\" x=\"61.377602\" xlink:href=\"#m7a0501df12\" y=\"176.550649\"/>\n     <use style=\"fill:#1f77b4;stroke:#1f77b4;\" x=\"65.758997\" xlink:href=\"#m7a0501df12\" y=\"181.200562\"/>\n     <use style=\"fill:#1f77b4;stroke:#1f77b4;\" x=\"63.574989\" xlink:href=\"#m7a0501df12\" y=\"178.075676\"/>\n     <use style=\"fill:#1f77b4;stroke:#1f77b4;\" x=\"68.715578\" xlink:href=\"#m7a0501df12\" y=\"184.542393\"/>\n     <use style=\"fill:#1f77b4;stroke:#1f77b4;\" x=\"55.410781\" xlink:href=\"#m7a0501df12\" y=\"189.51368\"/>\n     <use style=\"fill:#1f77b4;stroke:#1f77b4;\" x=\"63.223605\" xlink:href=\"#m7a0501df12\" y=\"178.949471\"/>\n     <use style=\"fill:#1f77b4;stroke:#1f77b4;\" x=\"64.147174\" xlink:href=\"#m7a0501df12\" y=\"179.836266\"/>\n     <use style=\"fill:#1f77b4;stroke:#1f77b4;\" x=\"61.773073\" xlink:href=\"#m7a0501df12\" y=\"182.702103\"/>\n     <use style=\"fill:#1f77b4;stroke:#1f77b4;\" x=\"61.790738\" xlink:href=\"#m7a0501df12\" y=\"186.195001\"/>\n     <use style=\"fill:#1f77b4;stroke:#1f77b4;\" x=\"63.403771\" xlink:href=\"#m7a0501df12\" y=\"183.665997\"/>\n     <use style=\"fill:#1f77b4;stroke:#1f77b4;\" x=\"58.206659\" xlink:href=\"#m7a0501df12\" y=\"194.818483\"/>\n     <use style=\"fill:#1f77b4;stroke:#1f77b4;\" x=\"55.86436\" xlink:href=\"#m7a0501df12\" y=\"195.782193\"/>\n     <use style=\"fill:#1f77b4;stroke:#1f77b4;\" x=\"61.07405\" xlink:href=\"#m7a0501df12\" y=\"181.759043\"/>\n     <use style=\"fill:#1f77b4;stroke:#1f77b4;\" x=\"63.595537\" xlink:href=\"#m7a0501df12\" y=\"163.155317\"/>\n     <use style=\"fill:#1f77b4;stroke:#1f77b4;\" x=\"67.451225\" xlink:href=\"#m7a0501df12\" y=\"156.644865\"/>\n     <use style=\"fill:#1f77b4;stroke:#1f77b4;\" x=\"67.773626\" xlink:href=\"#m7a0501df12\" y=\"169.905429\"/>\n     <use style=\"fill:#1f77b4;stroke:#1f77b4;\" x=\"71.007612\" xlink:href=\"#m7a0501df12\" y=\"165.658198\"/>\n     <use style=\"fill:#1f77b4;stroke:#1f77b4;\" x=\"65.992501\" xlink:href=\"#m7a0501df12\" y=\"178.259195\"/>\n     <use style=\"fill:#1f77b4;stroke:#1f77b4;\" x=\"59.741028\" xlink:href=\"#m7a0501df12\" y=\"183.941623\"/>\n     <use style=\"fill:#1f77b4;stroke:#1f77b4;\" x=\"67.227971\" xlink:href=\"#m7a0501df12\" y=\"183.234152\"/>\n     <use style=\"fill:#1f77b4;stroke:#1f77b4;\" x=\"90.249936\" xlink:href=\"#m7a0501df12\" y=\"135.505266\"/>\n     <use style=\"fill:#1f77b4;stroke:#1f77b4;\" x=\"76.081078\" xlink:href=\"#m7a0501df12\" y=\"152.754206\"/>\n     <use style=\"fill:#1f77b4;stroke:#1f77b4;\" x=\"67.04306\" xlink:href=\"#m7a0501df12\" y=\"170.533849\"/>\n     <use style=\"fill:#1f77b4;stroke:#1f77b4;\" x=\"67.464576\" xlink:href=\"#m7a0501df12\" y=\"174.645088\"/>\n     <use style=\"fill:#1f77b4;stroke:#1f77b4;\" x=\"63.39394\" xlink:href=\"#m7a0501df12\" y=\"183.345137\"/>\n     <use style=\"fill:#1f77b4;stroke:#1f77b4;\" x=\"57.606647\" xlink:href=\"#m7a0501df12\" y=\"187.583837\"/>\n     <use style=\"fill:#1f77b4;stroke:#1f77b4;\" x=\"69.05203\" xlink:href=\"#m7a0501df12\" y=\"173.792129\"/>\n     <use style=\"fill:#1f77b4;stroke:#1f77b4;\" x=\"67.025129\" xlink:href=\"#m7a0501df12\" y=\"182.182523\"/>\n     <use style=\"fill:#1f77b4;stroke:#1f77b4;\" x=\"59.882539\" xlink:href=\"#m7a0501df12\" y=\"185.861629\"/>\n     <use style=\"fill:#1f77b4;stroke:#1f77b4;\" x=\"61.001718\" xlink:href=\"#m7a0501df12\" y=\"179.922887\"/>\n     <use style=\"fill:#1f77b4;stroke:#1f77b4;\" x=\"58.346238\" xlink:href=\"#m7a0501df12\" y=\"185.456097\"/>\n     <use style=\"fill:#1f77b4;stroke:#1f77b4;\" x=\"58.213242\" xlink:href=\"#m7a0501df12\" y=\"189.485818\"/>\n     <use style=\"fill:#1f77b4;stroke:#1f77b4;\" x=\"56.807131\" xlink:href=\"#m7a0501df12\" y=\"193.539961\"/>\n     <use style=\"fill:#1f77b4;stroke:#1f77b4;\" x=\"71.622965\" xlink:href=\"#m7a0501df12\" y=\"162.942574\"/>\n     <use style=\"fill:#1f77b4;stroke:#1f77b4;\" x=\"75.812894\" xlink:href=\"#m7a0501df12\" y=\"155.865183\"/>\n     <use style=\"fill:#1f77b4;stroke:#1f77b4;\" x=\"66.576999\" xlink:href=\"#m7a0501df12\" y=\"171.411012\"/>\n     <use style=\"fill:#1f77b4;stroke:#1f77b4;\" x=\"63.17027\" xlink:href=\"#m7a0501df12\" y=\"183.603727\"/>\n     <use style=\"fill:#1f77b4;stroke:#1f77b4;\" x=\"70.686816\" xlink:href=\"#m7a0501df12\" y=\"167.086898\"/>\n     <use style=\"fill:#1f77b4;stroke:#1f77b4;\" x=\"60.862169\" xlink:href=\"#m7a0501df12\" y=\"182.631971\"/>\n     <use style=\"fill:#1f77b4;stroke:#1f77b4;\" x=\"60.037085\" xlink:href=\"#m7a0501df12\" y=\"177.405714\"/>\n     <use style=\"fill:#1f77b4;stroke:#1f77b4;\" x=\"60.315881\" xlink:href=\"#m7a0501df12\" y=\"182.092386\"/>\n     <use style=\"fill:#1f77b4;stroke:#1f77b4;\" x=\"59.646813\" xlink:href=\"#m7a0501df12\" y=\"187.386293\"/>\n     <use style=\"fill:#1f77b4;stroke:#1f77b4;\" x=\"59.98561\" xlink:href=\"#m7a0501df12\" y=\"190.026563\"/>\n     <use style=\"fill:#1f77b4;stroke:#1f77b4;\" x=\"60.457246\" xlink:href=\"#m7a0501df12\" y=\"185.599116\"/>\n     <use style=\"fill:#1f77b4;stroke:#1f77b4;\" x=\"70.696695\" xlink:href=\"#m7a0501df12\" y=\"174.757893\"/>\n     <use style=\"fill:#1f77b4;stroke:#1f77b4;\" x=\"59.996093\" xlink:href=\"#m7a0501df12\" y=\"182.002283\"/>\n     <use style=\"fill:#1f77b4;stroke:#1f77b4;\" x=\"56.518891\" xlink:href=\"#m7a0501df12\" y=\"190.602598\"/>\n     <use style=\"fill:#1f77b4;stroke:#1f77b4;\" x=\"62.417423\" xlink:href=\"#m7a0501df12\" y=\"185.398255\"/>\n     <use style=\"fill:#1f77b4;stroke:#1f77b4;\" x=\"64.595559\" xlink:href=\"#m7a0501df12\" y=\"187.998721\"/>\n     <use style=\"fill:#1f77b4;stroke:#1f77b4;\" x=\"76.104661\" xlink:href=\"#m7a0501df12\" y=\"175.813417\"/>\n     <use style=\"fill:#1f77b4;stroke:#1f77b4;\" x=\"65.412301\" xlink:href=\"#m7a0501df12\" y=\"182.264412\"/>\n     <use style=\"fill:#1f77b4;stroke:#1f77b4;\" x=\"63.657198\" xlink:href=\"#m7a0501df12\" y=\"188.956633\"/>\n     <use style=\"fill:#1f77b4;stroke:#1f77b4;\" x=\"61.637405\" xlink:href=\"#m7a0501df12\" y=\"197.157713\"/>\n     <use style=\"fill:#1f77b4;stroke:#1f77b4;\" x=\"67.790873\" xlink:href=\"#m7a0501df12\" y=\"189.073951\"/>\n     <use style=\"fill:#1f77b4;stroke:#1f77b4;\" x=\"70.510156\" xlink:href=\"#m7a0501df12\" y=\"183.456974\"/>\n     <use style=\"fill:#1f77b4;stroke:#1f77b4;\" x=\"69.151561\" xlink:href=\"#m7a0501df12\" y=\"184.552657\"/>\n     <use style=\"fill:#1f77b4;stroke:#1f77b4;\" x=\"69.676691\" xlink:href=\"#m7a0501df12\" y=\"188.981723\"/>\n     <use style=\"fill:#1f77b4;stroke:#1f77b4;\" x=\"65.244337\" xlink:href=\"#m7a0501df12\" y=\"181.44039\"/>\n     <use style=\"fill:#1f77b4;stroke:#1f77b4;\" x=\"78.505462\" xlink:href=\"#m7a0501df12\" y=\"177.886172\"/>\n     <use style=\"fill:#1f77b4;stroke:#1f77b4;\" x=\"63.176303\" xlink:href=\"#m7a0501df12\" y=\"188.125869\"/>\n     <use style=\"fill:#1f77b4;stroke:#1f77b4;\" x=\"58.612657\" xlink:href=\"#m7a0501df12\" y=\"189.689107\"/>\n     <use style=\"fill:#1f77b4;stroke:#1f77b4;\" x=\"66.503413\" xlink:href=\"#m7a0501df12\" y=\"186.240414\"/>\n     <use style=\"fill:#1f77b4;stroke:#1f77b4;\" x=\"68.615877\" xlink:href=\"#m7a0501df12\" y=\"189.477566\"/>\n     <use style=\"fill:#1f77b4;stroke:#1f77b4;\" x=\"68.893757\" xlink:href=\"#m7a0501df12\" y=\"179.352621\"/>\n     <use style=\"fill:#1f77b4;stroke:#1f77b4;\" x=\"73.370451\" xlink:href=\"#m7a0501df12\" y=\"160.961765\"/>\n     <use style=\"fill:#1f77b4;stroke:#1f77b4;\" x=\"66.834428\" xlink:href=\"#m7a0501df12\" y=\"181.465032\"/>\n     <use style=\"fill:#1f77b4;stroke:#1f77b4;\" x=\"56.732645\" xlink:href=\"#m7a0501df12\" y=\"192.317547\"/>\n     <use style=\"fill:#1f77b4;stroke:#1f77b4;\" x=\"57.11186\" xlink:href=\"#m7a0501df12\" y=\"191.858972\"/>\n     <use style=\"fill:#1f77b4;stroke:#1f77b4;\" x=\"60.39011\" xlink:href=\"#m7a0501df12\" y=\"189.484635\"/>\n     <use style=\"fill:#1f77b4;stroke:#1f77b4;\" x=\"63.725489\" xlink:href=\"#m7a0501df12\" y=\"186.773519\"/>\n     <use style=\"fill:#1f77b4;stroke:#1f77b4;\" x=\"71.40192\" xlink:href=\"#m7a0501df12\" y=\"165.630748\"/>\n     <use style=\"fill:#1f77b4;stroke:#1f77b4;\" x=\"72.80112\" xlink:href=\"#m7a0501df12\" y=\"166.240582\"/>\n     <use style=\"fill:#1f77b4;stroke:#1f77b4;\" x=\"65.45517\" xlink:href=\"#m7a0501df12\" y=\"173.217962\"/>\n     <use style=\"fill:#1f77b4;stroke:#1f77b4;\" x=\"61.345959\" xlink:href=\"#m7a0501df12\" y=\"192.704964\"/>\n     <use style=\"fill:#1f77b4;stroke:#1f77b4;\" x=\"61.418771\" xlink:href=\"#m7a0501df12\" y=\"185.979201\"/>\n     <use style=\"fill:#1f77b4;stroke:#1f77b4;\" x=\"64.837505\" xlink:href=\"#m7a0501df12\" y=\"184.842648\"/>\n     <use style=\"fill:#1f77b4;stroke:#1f77b4;\" x=\"66.233284\" xlink:href=\"#m7a0501df12\" y=\"178.288395\"/>\n     <use style=\"fill:#1f77b4;stroke:#1f77b4;\" x=\"64.814907\" xlink:href=\"#m7a0501df12\" y=\"177.294429\"/>\n     <use style=\"fill:#1f77b4;stroke:#1f77b4;\" x=\"61.746398\" xlink:href=\"#m7a0501df12\" y=\"183.839486\"/>\n     <use style=\"fill:#1f77b4;stroke:#1f77b4;\" x=\"59.988009\" xlink:href=\"#m7a0501df12\" y=\"191.607176\"/>\n     <use style=\"fill:#1f77b4;stroke:#1f77b4;\" x=\"58.667371\" xlink:href=\"#m7a0501df12\" y=\"193.139899\"/>\n     <use style=\"fill:#1f77b4;stroke:#1f77b4;\" x=\"54.847411\" xlink:href=\"#m7a0501df12\" y=\"195.211057\"/>\n     <use style=\"fill:#1f77b4;stroke:#1f77b4;\" x=\"69.188158\" xlink:href=\"#m7a0501df12\" y=\"181.79644\"/>\n     <use style=\"fill:#1f77b4;stroke:#1f77b4;\" x=\"70.265874\" xlink:href=\"#m7a0501df12\" y=\"178.195712\"/>\n     <use style=\"fill:#1f77b4;stroke:#1f77b4;\" x=\"75.8389\" xlink:href=\"#m7a0501df12\" y=\"173.730049\"/>\n     <use style=\"fill:#1f77b4;stroke:#1f77b4;\" x=\"64.601444\" xlink:href=\"#m7a0501df12\" y=\"184.964176\"/>\n     <use style=\"fill:#1f77b4;stroke:#1f77b4;\" x=\"64.780069\" xlink:href=\"#m7a0501df12\" y=\"184.0709\"/>\n     <use style=\"fill:#1f77b4;stroke:#1f77b4;\" x=\"59.87356\" xlink:href=\"#m7a0501df12\" y=\"193.073732\"/>\n     <use style=\"fill:#1f77b4;stroke:#1f77b4;\" x=\"55.193133\" xlink:href=\"#m7a0501df12\" y=\"198.403801\"/>\n     <use style=\"fill:#1f77b4;stroke:#1f77b4;\" x=\"59.947485\" xlink:href=\"#m7a0501df12\" y=\"188.831057\"/>\n     <use style=\"fill:#1f77b4;stroke:#1f77b4;\" x=\"74.189168\" xlink:href=\"#m7a0501df12\" y=\"162.835673\"/>\n     <use style=\"fill:#1f77b4;stroke:#1f77b4;\" x=\"67.485325\" xlink:href=\"#m7a0501df12\" y=\"175.047588\"/>\n     <use style=\"fill:#1f77b4;stroke:#1f77b4;\" x=\"69.417915\" xlink:href=\"#m7a0501df12\" y=\"176.914618\"/>\n     <use style=\"fill:#1f77b4;stroke:#1f77b4;\" x=\"67.069077\" xlink:href=\"#m7a0501df12\" y=\"178.680785\"/>\n     <use style=\"fill:#1f77b4;stroke:#1f77b4;\" x=\"60.004766\" xlink:href=\"#m7a0501df12\" y=\"190.761967\"/>\n     <use style=\"fill:#1f77b4;stroke:#1f77b4;\" x=\"56.068815\" xlink:href=\"#m7a0501df12\" y=\"193.919751\"/>\n     <use style=\"fill:#1f77b4;stroke:#1f77b4;\" x=\"63.862921\" xlink:href=\"#m7a0501df12\" y=\"180.720095\"/>\n     <use style=\"fill:#1f77b4;stroke:#1f77b4;\" x=\"66.005161\" xlink:href=\"#m7a0501df12\" y=\"175.164165\"/>\n     <use style=\"fill:#1f77b4;stroke:#1f77b4;\" x=\"65.261631\" xlink:href=\"#m7a0501df12\" y=\"175.853523\"/>\n     <use style=\"fill:#1f77b4;stroke:#1f77b4;\" x=\"63.205207\" xlink:href=\"#m7a0501df12\" y=\"183.162601\"/>\n     <use style=\"fill:#1f77b4;stroke:#1f77b4;\" x=\"69.787311\" xlink:href=\"#m7a0501df12\" y=\"165.485473\"/>\n     <use style=\"fill:#1f77b4;stroke:#1f77b4;\" x=\"59.949317\" xlink:href=\"#m7a0501df12\" y=\"188.271463\"/>\n     <use style=\"fill:#1f77b4;stroke:#1f77b4;\" x=\"57.812071\" xlink:href=\"#m7a0501df12\" y=\"189.58403\"/>\n     <use style=\"fill:#1f77b4;stroke:#1f77b4;\" x=\"61.532141\" xlink:href=\"#m7a0501df12\" y=\"182.273388\"/>\n     <use style=\"fill:#1f77b4;stroke:#1f77b4;\" x=\"65.325494\" xlink:href=\"#m7a0501df12\" y=\"160.015215\"/>\n     <use style=\"fill:#1f77b4;stroke:#1f77b4;\" x=\"65.456319\" xlink:href=\"#m7a0501df12\" y=\"162.328619\"/>\n     <use style=\"fill:#1f77b4;stroke:#1f77b4;\" x=\"61.540124\" xlink:href=\"#m7a0501df12\" y=\"176.63599\"/>\n     <use style=\"fill:#1f77b4;stroke:#1f77b4;\" x=\"68.019416\" xlink:href=\"#m7a0501df12\" y=\"166.423884\"/>\n     <use style=\"fill:#1f77b4;stroke:#1f77b4;\" x=\"86.905526\" xlink:href=\"#m7a0501df12\" y=\"137.027304\"/>\n     <use style=\"fill:#1f77b4;stroke:#1f77b4;\" x=\"65.753653\" xlink:href=\"#m7a0501df12\" y=\"167.232395\"/>\n     <use style=\"fill:#1f77b4;stroke:#1f77b4;\" x=\"66.198865\" xlink:href=\"#m7a0501df12\" y=\"160.941101\"/>\n     <use style=\"fill:#1f77b4;stroke:#1f77b4;\" x=\"62.674212\" xlink:href=\"#m7a0501df12\" y=\"174.621198\"/>\n     <use style=\"fill:#1f77b4;stroke:#1f77b4;\" x=\"58.12935\" xlink:href=\"#m7a0501df12\" y=\"183.165035\"/>\n     <use style=\"fill:#1f77b4;stroke:#1f77b4;\" x=\"59.112178\" xlink:href=\"#m7a0501df12\" y=\"174.78471\"/>\n     <use style=\"fill:#1f77b4;stroke:#1f77b4;\" x=\"60.303617\" xlink:href=\"#m7a0501df12\" y=\"161.442553\"/>\n     <use style=\"fill:#1f77b4;stroke:#1f77b4;\" x=\"55.764859\" xlink:href=\"#m7a0501df12\" y=\"182.168333\"/>\n     <use style=\"fill:#1f77b4;stroke:#1f77b4;\" x=\"52.409724\" xlink:href=\"#m7a0501df12\" y=\"194.006609\"/>\n     <use style=\"fill:#1f77b4;stroke:#1f77b4;\" x=\"61.353645\" xlink:href=\"#m7a0501df12\" y=\"170.809663\"/>\n     <use style=\"fill:#1f77b4;stroke:#1f77b4;\" x=\"63.515306\" xlink:href=\"#m7a0501df12\" y=\"171.19016\"/>\n     <use style=\"fill:#1f77b4;stroke:#1f77b4;\" x=\"65.179657\" xlink:href=\"#m7a0501df12\" y=\"165.183576\"/>\n     <use style=\"fill:#1f77b4;stroke:#1f77b4;\" x=\"57.069855\" xlink:href=\"#m7a0501df12\" y=\"180.549045\"/>\n     <use style=\"fill:#1f77b4;stroke:#1f77b4;\" x=\"61.997273\" xlink:href=\"#m7a0501df12\" y=\"172.807559\"/>\n     <use style=\"fill:#1f77b4;stroke:#1f77b4;\" x=\"56.046817\" xlink:href=\"#m7a0501df12\" y=\"181.23648\"/>\n     <use style=\"fill:#1f77b4;stroke:#1f77b4;\" x=\"55.221084\" xlink:href=\"#m7a0501df12\" y=\"189.083193\"/>\n     <use style=\"fill:#1f77b4;stroke:#1f77b4;\" x=\"60.300029\" xlink:href=\"#m7a0501df12\" y=\"176.432958\"/>\n     <use style=\"fill:#1f77b4;stroke:#1f77b4;\" x=\"56.884158\" xlink:href=\"#m7a0501df12\" y=\"188.5681\"/>\n     <use style=\"fill:#1f77b4;stroke:#1f77b4;\" x=\"54.603624\" xlink:href=\"#m7a0501df12\" y=\"194.323565\"/>\n     <use style=\"fill:#1f77b4;stroke:#1f77b4;\" x=\"57.905635\" xlink:href=\"#m7a0501df12\" y=\"184.791352\"/>\n     <use style=\"fill:#1f77b4;stroke:#1f77b4;\" x=\"54.533605\" xlink:href=\"#m7a0501df12\" y=\"197.012932\"/>\n     <use style=\"fill:#1f77b4;stroke:#1f77b4;\" x=\"49.866187\" xlink:href=\"#m7a0501df12\" y=\"201.386007\"/>\n     <use style=\"fill:#1f77b4;stroke:#1f77b4;\" x=\"51.557221\" xlink:href=\"#m7a0501df12\" y=\"200.680319\"/>\n     <use style=\"fill:#1f77b4;stroke:#1f77b4;\" x=\"54.495506\" xlink:href=\"#m7a0501df12\" y=\"200.150419\"/>\n     <use style=\"fill:#1f77b4;stroke:#1f77b4;\" x=\"62.458702\" xlink:href=\"#m7a0501df12\" y=\"186.442773\"/>\n     <use style=\"fill:#1f77b4;stroke:#1f77b4;\" x=\"59.501897\" xlink:href=\"#m7a0501df12\" y=\"190.121991\"/>\n     <use style=\"fill:#1f77b4;stroke:#1f77b4;\" x=\"56.561195\" xlink:href=\"#m7a0501df12\" y=\"196.648286\"/>\n     <use style=\"fill:#1f77b4;stroke:#1f77b4;\" x=\"65.557741\" xlink:href=\"#m7a0501df12\" y=\"193.774035\"/>\n     <use style=\"fill:#1f77b4;stroke:#1f77b4;\" x=\"54.721408\" xlink:href=\"#m7a0501df12\" y=\"203.995879\"/>\n     <use style=\"fill:#1f77b4;stroke:#1f77b4;\" x=\"57.667502\" xlink:href=\"#m7a0501df12\" y=\"203.750242\"/>\n     <use style=\"fill:#1f77b4;stroke:#1f77b4;\" x=\"62.144978\" xlink:href=\"#m7a0501df12\" y=\"198.618883\"/>\n     <use style=\"fill:#1f77b4;stroke:#1f77b4;\" x=\"70.385406\" xlink:href=\"#m7a0501df12\" y=\"194.068853\"/>\n     <use style=\"fill:#1f77b4;stroke:#1f77b4;\" x=\"65.450101\" xlink:href=\"#m7a0501df12\" y=\"184.665209\"/>\n     <use style=\"fill:#1f77b4;stroke:#1f77b4;\" x=\"59.640786\" xlink:href=\"#m7a0501df12\" y=\"170.123828\"/>\n     <use style=\"fill:#1f77b4;stroke:#1f77b4;\" x=\"106.853614\" xlink:href=\"#m7a0501df12\" y=\"169.656288\"/>\n     <use style=\"fill:#1f77b4;stroke:#1f77b4;\" x=\"57.767883\" xlink:href=\"#m7a0501df12\" y=\"189.386629\"/>\n     <use style=\"fill:#1f77b4;stroke:#1f77b4;\" x=\"51.845815\" xlink:href=\"#m7a0501df12\" y=\"198.026477\"/>\n     <use style=\"fill:#1f77b4;stroke:#1f77b4;\" x=\"61.298993\" xlink:href=\"#m7a0501df12\" y=\"181.225168\"/>\n     <use style=\"fill:#1f77b4;stroke:#1f77b4;\" x=\"56.247389\" xlink:href=\"#m7a0501df12\" y=\"191.314495\"/>\n     <use style=\"fill:#1f77b4;stroke:#1f77b4;\" x=\"62.519534\" xlink:href=\"#m7a0501df12\" y=\"187.928072\"/>\n     <use style=\"fill:#1f77b4;stroke:#1f77b4;\" x=\"74.929691\" xlink:href=\"#m7a0501df12\" y=\"191.120797\"/>\n     <use style=\"fill:#1f77b4;stroke:#1f77b4;\" x=\"53.842308\" xlink:href=\"#m7a0501df12\" y=\"195.160705\"/>\n     <use style=\"fill:#1f77b4;stroke:#1f77b4;\" x=\"49.289629\" xlink:href=\"#m7a0501df12\" y=\"204.360302\"/>\n     <use style=\"fill:#1f77b4;stroke:#1f77b4;\" x=\"48.879271\" xlink:href=\"#m7a0501df12\" y=\"204.626434\"/>\n     <use style=\"fill:#1f77b4;stroke:#1f77b4;\" x=\"52.19257\" xlink:href=\"#m7a0501df12\" y=\"198.004019\"/>\n     <use style=\"fill:#1f77b4;stroke:#1f77b4;\" x=\"52.827721\" xlink:href=\"#m7a0501df12\" y=\"196.417825\"/>\n     <use style=\"fill:#1f77b4;stroke:#1f77b4;\" x=\"53.417424\" xlink:href=\"#m7a0501df12\" y=\"196.036888\"/>\n     <use style=\"fill:#1f77b4;stroke:#1f77b4;\" x=\"51.047967\" xlink:href=\"#m7a0501df12\" y=\"201.966647\"/>\n     <use style=\"fill:#1f77b4;stroke:#1f77b4;\" x=\"70.837795\" xlink:href=\"#m7a0501df12\" y=\"164.285064\"/>\n     <use style=\"fill:#1f77b4;stroke:#1f77b4;\" x=\"67.954048\" xlink:href=\"#m7a0501df12\" y=\"162.947223\"/>\n     <use style=\"fill:#1f77b4;stroke:#1f77b4;\" x=\"55.976581\" xlink:href=\"#m7a0501df12\" y=\"188.351268\"/>\n     <use style=\"fill:#1f77b4;stroke:#1f77b4;\" x=\"69.82746\" xlink:href=\"#m7a0501df12\" y=\"160.961432\"/>\n     <use style=\"fill:#1f77b4;stroke:#1f77b4;\" x=\"56.335311\" xlink:href=\"#m7a0501df12\" y=\"189.055215\"/>\n     <use style=\"fill:#1f77b4;stroke:#1f77b4;\" x=\"60.617205\" xlink:href=\"#m7a0501df12\" y=\"177.27239\"/>\n     <use style=\"fill:#1f77b4;stroke:#1f77b4;\" x=\"55.122591\" xlink:href=\"#m7a0501df12\" y=\"189.179466\"/>\n     <use style=\"fill:#1f77b4;stroke:#1f77b4;\" x=\"52.67173\" xlink:href=\"#m7a0501df12\" y=\"192.586586\"/>\n     <use style=\"fill:#1f77b4;stroke:#1f77b4;\" x=\"48.260201\" xlink:href=\"#m7a0501df12\" y=\"200.739072\"/>\n     <use style=\"fill:#1f77b4;stroke:#1f77b4;\" x=\"46.029679\" xlink:href=\"#m7a0501df12\" y=\"204.637432\"/>\n     <use style=\"fill:#1f77b4;stroke:#1f77b4;\" x=\"51.356399\" xlink:href=\"#m7a0501df12\" y=\"194.658426\"/>\n     <use style=\"fill:#1f77b4;stroke:#1f77b4;\" x=\"50.966172\" xlink:href=\"#m7a0501df12\" y=\"196.019571\"/>\n     <use style=\"fill:#1f77b4;stroke:#1f77b4;\" x=\"49.975095\" xlink:href=\"#m7a0501df12\" y=\"194.429619\"/>\n     <use style=\"fill:#1f77b4;stroke:#1f77b4;\" x=\"49.482181\" xlink:href=\"#m7a0501df12\" y=\"197.044629\"/>\n     <use style=\"fill:#1f77b4;stroke:#1f77b4;\" x=\"58.944829\" xlink:href=\"#m7a0501df12\" y=\"182.50496\"/>\n     <use style=\"fill:#1f77b4;stroke:#1f77b4;\" x=\"50.410295\" xlink:href=\"#m7a0501df12\" y=\"196.235978\"/>\n     <use style=\"fill:#1f77b4;stroke:#1f77b4;\" x=\"47.340156\" xlink:href=\"#m7a0501df12\" y=\"204.719567\"/>\n     <use style=\"fill:#1f77b4;stroke:#1f77b4;\" x=\"58.271156\" xlink:href=\"#m7a0501df12\" y=\"191.348054\"/>\n     <use style=\"fill:#1f77b4;stroke:#1f77b4;\" x=\"62.151773\" xlink:href=\"#m7a0501df12\" y=\"186.823994\"/>\n     <use style=\"fill:#1f77b4;stroke:#1f77b4;\" x=\"53.552398\" xlink:href=\"#m7a0501df12\" y=\"194.254614\"/>\n     <use style=\"fill:#1f77b4;stroke:#1f77b4;\" x=\"61.332063\" xlink:href=\"#m7a0501df12\" y=\"183.339626\"/>\n     <use style=\"fill:#1f77b4;stroke:#1f77b4;\" x=\"56.79594\" xlink:href=\"#m7a0501df12\" y=\"189.372284\"/>\n     <use style=\"fill:#1f77b4;stroke:#1f77b4;\" x=\"49.09815\" xlink:href=\"#m7a0501df12\" y=\"200.547068\"/>\n     <use style=\"fill:#1f77b4;stroke:#1f77b4;\" x=\"46.115415\" xlink:href=\"#m7a0501df12\" y=\"205.678627\"/>\n     <use style=\"fill:#1f77b4;stroke:#1f77b4;\" x=\"51.437773\" xlink:href=\"#m7a0501df12\" y=\"198.423424\"/>\n     <use style=\"fill:#1f77b4;stroke:#1f77b4;\" x=\"53.093962\" xlink:href=\"#m7a0501df12\" y=\"194.324728\"/>\n     <use style=\"fill:#1f77b4;stroke:#1f77b4;\" x=\"50.532463\" xlink:href=\"#m7a0501df12\" y=\"197.985126\"/>\n     <use style=\"fill:#1f77b4;stroke:#1f77b4;\" x=\"56.176567\" xlink:href=\"#m7a0501df12\" y=\"189.800829\"/>\n     <use style=\"fill:#1f77b4;stroke:#1f77b4;\" x=\"53.608471\" xlink:href=\"#m7a0501df12\" y=\"190.06222\"/>\n     <use style=\"fill:#1f77b4;stroke:#1f77b4;\" x=\"45.236519\" xlink:href=\"#m7a0501df12\" y=\"204.000565\"/>\n     <use style=\"fill:#1f77b4;stroke:#1f77b4;\" x=\"49.262719\" xlink:href=\"#m7a0501df12\" y=\"199.643939\"/>\n     <use style=\"fill:#1f77b4;stroke:#1f77b4;\" x=\"58.829563\" xlink:href=\"#m7a0501df12\" y=\"183.300177\"/>\n     <use style=\"fill:#1f77b4;stroke:#1f77b4;\" x=\"55.517622\" xlink:href=\"#m7a0501df12\" y=\"188.634256\"/>\n     <use style=\"fill:#1f77b4;stroke:#1f77b4;\" x=\"52.330889\" xlink:href=\"#m7a0501df12\" y=\"195.581422\"/>\n     <use style=\"fill:#1f77b4;stroke:#1f77b4;\" x=\"73.786433\" xlink:href=\"#m7a0501df12\" y=\"158.414686\"/>\n     <use style=\"fill:#1f77b4;stroke:#1f77b4;\" x=\"56.437986\" xlink:href=\"#m7a0501df12\" y=\"186.65409\"/>\n     <use style=\"fill:#1f77b4;stroke:#1f77b4;\" x=\"48.499263\" xlink:href=\"#m7a0501df12\" y=\"199.449795\"/>\n     <use style=\"fill:#1f77b4;stroke:#1f77b4;\" x=\"53.731005\" xlink:href=\"#m7a0501df12\" y=\"189.12269\"/>\n     <use style=\"fill:#1f77b4;stroke:#1f77b4;\" x=\"64.434748\" xlink:href=\"#m7a0501df12\" y=\"181.854236\"/>\n     <use style=\"fill:#1f77b4;stroke:#1f77b4;\" x=\"61.626768\" xlink:href=\"#m7a0501df12\" y=\"183.041118\"/>\n     <use style=\"fill:#1f77b4;stroke:#1f77b4;\" x=\"58.744483\" xlink:href=\"#m7a0501df12\" y=\"187.989561\"/>\n     <use style=\"fill:#1f77b4;stroke:#1f77b4;\" x=\"55.05819\" xlink:href=\"#m7a0501df12\" y=\"196.261396\"/>\n     <use style=\"fill:#1f77b4;stroke:#1f77b4;\" x=\"58.161332\" xlink:href=\"#m7a0501df12\" y=\"192.981565\"/>\n     <use style=\"fill:#1f77b4;stroke:#1f77b4;\" x=\"48.069329\" xlink:href=\"#m7a0501df12\" y=\"207.97119\"/>\n     <use style=\"fill:#1f77b4;stroke:#1f77b4;\" x=\"50.491084\" xlink:href=\"#m7a0501df12\" y=\"206.103234\"/>\n     <use style=\"fill:#1f77b4;stroke:#1f77b4;\" x=\"58.187455\" xlink:href=\"#m7a0501df12\" y=\"192.754875\"/>\n     <use style=\"fill:#1f77b4;stroke:#1f77b4;\" x=\"55.765484\" xlink:href=\"#m7a0501df12\" y=\"194.320843\"/>\n     <use style=\"fill:#1f77b4;stroke:#1f77b4;\" x=\"61.456305\" xlink:href=\"#m7a0501df12\" y=\"193.735818\"/>\n     <use style=\"fill:#1f77b4;stroke:#1f77b4;\" x=\"60.401613\" xlink:href=\"#m7a0501df12\" y=\"195.791781\"/>\n     <use style=\"fill:#1f77b4;stroke:#1f77b4;\" x=\"56.279956\" xlink:href=\"#m7a0501df12\" y=\"197.915101\"/>\n     <use style=\"fill:#1f77b4;stroke:#1f77b4;\" x=\"46.005982\" xlink:href=\"#m7a0501df12\" y=\"211.562809\"/>\n     <use style=\"fill:#1f77b4;stroke:#1f77b4;\" x=\"48.35339\" xlink:href=\"#m7a0501df12\" y=\"206.665473\"/>\n     <use style=\"fill:#1f77b4;stroke:#1f77b4;\" x=\"54.493594\" xlink:href=\"#m7a0501df12\" y=\"200.570299\"/>\n     <use style=\"fill:#1f77b4;stroke:#1f77b4;\" x=\"54.154151\" xlink:href=\"#m7a0501df12\" y=\"196.798245\"/>\n     <use style=\"fill:#1f77b4;stroke:#1f77b4;\" x=\"67.868812\" xlink:href=\"#m7a0501df12\" y=\"185.006386\"/>\n     <use style=\"fill:#1f77b4;stroke:#1f77b4;\" x=\"52.471269\" xlink:href=\"#m7a0501df12\" y=\"197.208511\"/>\n     <use style=\"fill:#1f77b4;stroke:#1f77b4;\" x=\"63.325493\" xlink:href=\"#m7a0501df12\" y=\"189.869254\"/>\n     <use style=\"fill:#1f77b4;stroke:#1f77b4;\" x=\"50.420795\" xlink:href=\"#m7a0501df12\" y=\"199.795536\"/>\n     <use style=\"fill:#1f77b4;stroke:#1f77b4;\" x=\"50.825768\" xlink:href=\"#m7a0501df12\" y=\"197.209766\"/>\n     <use style=\"fill:#1f77b4;stroke:#1f77b4;\" x=\"54.750158\" xlink:href=\"#m7a0501df12\" y=\"191.326933\"/>\n     <use style=\"fill:#1f77b4;stroke:#1f77b4;\" x=\"61.211911\" xlink:href=\"#m7a0501df12\" y=\"187.536875\"/>\n     <use style=\"fill:#1f77b4;stroke:#1f77b4;\" x=\"55.298817\" xlink:href=\"#m7a0501df12\" y=\"189.454209\"/>\n     <use style=\"fill:#1f77b4;stroke:#1f77b4;\" x=\"60.370942\" xlink:href=\"#m7a0501df12\" y=\"184.643827\"/>\n     <use style=\"fill:#1f77b4;stroke:#1f77b4;\" x=\"59.790646\" xlink:href=\"#m7a0501df12\" y=\"187.416649\"/>\n    </g>\n   </g>\n   <g id=\"matplotlib.axis_1\">\n    <g id=\"xtick_1\">\n     <g id=\"line2d_1\">\n      <defs>\n       <path d=\"M 0 0 \nL 0 3.5 \n\" id=\"m77bc27f314\" style=\"stroke:#000000;stroke-width:0.8;\"/>\n      </defs>\n      <g>\n       <use style=\"stroke:#000000;stroke-width:0.8;\" x=\"33.223941\" xlink:href=\"#m77bc27f314\" y=\"235.238438\"/>\n      </g>\n     </g>\n     <g id=\"text_1\">\n      <!-- 0.0 -->\n      <defs>\n       <path d=\"M 31.78125 66.40625 \nQ 24.171875 66.40625 20.328125 58.90625 \nQ 16.5 51.421875 16.5 36.375 \nQ 16.5 21.390625 20.328125 13.890625 \nQ 24.171875 6.390625 31.78125 6.390625 \nQ 39.453125 6.390625 43.28125 13.890625 \nQ 47.125 21.390625 47.125 36.375 \nQ 47.125 51.421875 43.28125 58.90625 \nQ 39.453125 66.40625 31.78125 66.40625 \nz\nM 31.78125 74.21875 \nQ 44.046875 74.21875 50.515625 64.515625 \nQ 56.984375 54.828125 56.984375 36.375 \nQ 56.984375 17.96875 50.515625 8.265625 \nQ 44.046875 -1.421875 31.78125 -1.421875 \nQ 19.53125 -1.421875 13.0625 8.265625 \nQ 6.59375 17.96875 6.59375 36.375 \nQ 6.59375 54.828125 13.0625 64.515625 \nQ 19.53125 74.21875 31.78125 74.21875 \nz\n\" id=\"DejaVuSans-48\"/>\n       <path d=\"M 10.6875 12.40625 \nL 21 12.40625 \nL 21 0 \nL 10.6875 0 \nz\n\" id=\"DejaVuSans-46\"/>\n      </defs>\n      <g transform=\"translate(25.272379 249.836875)scale(0.1 -0.1)\">\n       <use xlink:href=\"#DejaVuSans-48\"/>\n       <use x=\"63.623047\" xlink:href=\"#DejaVuSans-46\"/>\n       <use x=\"95.410156\" xlink:href=\"#DejaVuSans-48\"/>\n      </g>\n     </g>\n    </g>\n    <g id=\"xtick_2\">\n     <g id=\"line2d_2\">\n      <g>\n       <use style=\"stroke:#000000;stroke-width:0.8;\" x=\"76.948786\" xlink:href=\"#m77bc27f314\" y=\"235.238438\"/>\n      </g>\n     </g>\n     <g id=\"text_2\">\n      <!-- 0.5 -->\n      <defs>\n       <path d=\"M 10.796875 72.90625 \nL 49.515625 72.90625 \nL 49.515625 64.59375 \nL 19.828125 64.59375 \nL 19.828125 46.734375 \nQ 21.96875 47.46875 24.109375 47.828125 \nQ 26.265625 48.1875 28.421875 48.1875 \nQ 40.625 48.1875 47.75 41.5 \nQ 54.890625 34.8125 54.890625 23.390625 \nQ 54.890625 11.625 47.5625 5.09375 \nQ 40.234375 -1.421875 26.90625 -1.421875 \nQ 22.3125 -1.421875 17.546875 -0.640625 \nQ 12.796875 0.140625 7.71875 1.703125 \nL 7.71875 11.625 \nQ 12.109375 9.234375 16.796875 8.0625 \nQ 21.484375 6.890625 26.703125 6.890625 \nQ 35.15625 6.890625 40.078125 11.328125 \nQ 45.015625 15.765625 45.015625 23.390625 \nQ 45.015625 31 40.078125 35.4375 \nQ 35.15625 39.890625 26.703125 39.890625 \nQ 22.75 39.890625 18.8125 39.015625 \nQ 14.890625 38.140625 10.796875 36.28125 \nz\n\" id=\"DejaVuSans-53\"/>\n      </defs>\n      <g transform=\"translate(68.997224 249.836875)scale(0.1 -0.1)\">\n       <use xlink:href=\"#DejaVuSans-48\"/>\n       <use x=\"63.623047\" xlink:href=\"#DejaVuSans-46\"/>\n       <use x=\"95.410156\" xlink:href=\"#DejaVuSans-53\"/>\n      </g>\n     </g>\n    </g>\n    <g id=\"xtick_3\">\n     <g id=\"line2d_3\">\n      <g>\n       <use style=\"stroke:#000000;stroke-width:0.8;\" x=\"120.673631\" xlink:href=\"#m77bc27f314\" y=\"235.238438\"/>\n      </g>\n     </g>\n     <g id=\"text_3\">\n      <!-- 1.0 -->\n      <defs>\n       <path d=\"M 12.40625 8.296875 \nL 28.515625 8.296875 \nL 28.515625 63.921875 \nL 10.984375 60.40625 \nL 10.984375 69.390625 \nL 28.421875 72.90625 \nL 38.28125 72.90625 \nL 38.28125 8.296875 \nL 54.390625 8.296875 \nL 54.390625 0 \nL 12.40625 0 \nz\n\" id=\"DejaVuSans-49\"/>\n      </defs>\n      <g transform=\"translate(112.722069 249.836875)scale(0.1 -0.1)\">\n       <use xlink:href=\"#DejaVuSans-49\"/>\n       <use x=\"63.623047\" xlink:href=\"#DejaVuSans-46\"/>\n       <use x=\"95.410156\" xlink:href=\"#DejaVuSans-48\"/>\n      </g>\n     </g>\n    </g>\n    <g id=\"xtick_4\">\n     <g id=\"line2d_4\">\n      <g>\n       <use style=\"stroke:#000000;stroke-width:0.8;\" x=\"164.398476\" xlink:href=\"#m77bc27f314\" y=\"235.238438\"/>\n      </g>\n     </g>\n     <g id=\"text_4\">\n      <!-- 1.5 -->\n      <g transform=\"translate(156.446914 249.836875)scale(0.1 -0.1)\">\n       <use xlink:href=\"#DejaVuSans-49\"/>\n       <use x=\"63.623047\" xlink:href=\"#DejaVuSans-46\"/>\n       <use x=\"95.410156\" xlink:href=\"#DejaVuSans-53\"/>\n      </g>\n     </g>\n    </g>\n    <g id=\"xtick_5\">\n     <g id=\"line2d_5\">\n      <g>\n       <use style=\"stroke:#000000;stroke-width:0.8;\" x=\"208.123321\" xlink:href=\"#m77bc27f314\" y=\"235.238438\"/>\n      </g>\n     </g>\n     <g id=\"text_5\">\n      <!-- 2.0 -->\n      <defs>\n       <path d=\"M 19.1875 8.296875 \nL 53.609375 8.296875 \nL 53.609375 0 \nL 7.328125 0 \nL 7.328125 8.296875 \nQ 12.9375 14.109375 22.625 23.890625 \nQ 32.328125 33.6875 34.8125 36.53125 \nQ 39.546875 41.84375 41.421875 45.53125 \nQ 43.3125 49.21875 43.3125 52.78125 \nQ 43.3125 58.59375 39.234375 62.25 \nQ 35.15625 65.921875 28.609375 65.921875 \nQ 23.96875 65.921875 18.8125 64.3125 \nQ 13.671875 62.703125 7.8125 59.421875 \nL 7.8125 69.390625 \nQ 13.765625 71.78125 18.9375 73 \nQ 24.125 74.21875 28.421875 74.21875 \nQ 39.75 74.21875 46.484375 68.546875 \nQ 53.21875 62.890625 53.21875 53.421875 \nQ 53.21875 48.921875 51.53125 44.890625 \nQ 49.859375 40.875 45.40625 35.40625 \nQ 44.1875 33.984375 37.640625 27.21875 \nQ 31.109375 20.453125 19.1875 8.296875 \nz\n\" id=\"DejaVuSans-50\"/>\n      </defs>\n      <g transform=\"translate(200.171759 249.836875)scale(0.1 -0.1)\">\n       <use xlink:href=\"#DejaVuSans-50\"/>\n       <use x=\"63.623047\" xlink:href=\"#DejaVuSans-46\"/>\n       <use x=\"95.410156\" xlink:href=\"#DejaVuSans-48\"/>\n      </g>\n     </g>\n    </g>\n    <g id=\"xtick_6\">\n     <g id=\"line2d_6\">\n      <g>\n       <use style=\"stroke:#000000;stroke-width:0.8;\" x=\"251.848166\" xlink:href=\"#m77bc27f314\" y=\"235.238438\"/>\n      </g>\n     </g>\n     <g id=\"text_6\">\n      <!-- 2.5 -->\n      <g transform=\"translate(243.896604 249.836875)scale(0.1 -0.1)\">\n       <use xlink:href=\"#DejaVuSans-50\"/>\n       <use x=\"63.623047\" xlink:href=\"#DejaVuSans-46\"/>\n       <use x=\"95.410156\" xlink:href=\"#DejaVuSans-53\"/>\n      </g>\n     </g>\n    </g>\n    <g id=\"xtick_7\">\n     <g id=\"line2d_7\">\n      <g>\n       <use style=\"stroke:#000000;stroke-width:0.8;\" x=\"295.573011\" xlink:href=\"#m77bc27f314\" y=\"235.238438\"/>\n      </g>\n     </g>\n     <g id=\"text_7\">\n      <!-- 3.0 -->\n      <defs>\n       <path d=\"M 40.578125 39.3125 \nQ 47.65625 37.796875 51.625 33 \nQ 55.609375 28.21875 55.609375 21.1875 \nQ 55.609375 10.40625 48.1875 4.484375 \nQ 40.765625 -1.421875 27.09375 -1.421875 \nQ 22.515625 -1.421875 17.65625 -0.515625 \nQ 12.796875 0.390625 7.625 2.203125 \nL 7.625 11.71875 \nQ 11.71875 9.328125 16.59375 8.109375 \nQ 21.484375 6.890625 26.8125 6.890625 \nQ 36.078125 6.890625 40.9375 10.546875 \nQ 45.796875 14.203125 45.796875 21.1875 \nQ 45.796875 27.640625 41.28125 31.265625 \nQ 36.765625 34.90625 28.71875 34.90625 \nL 20.21875 34.90625 \nL 20.21875 43.015625 \nL 29.109375 43.015625 \nQ 36.375 43.015625 40.234375 45.921875 \nQ 44.09375 48.828125 44.09375 54.296875 \nQ 44.09375 59.90625 40.109375 62.90625 \nQ 36.140625 65.921875 28.71875 65.921875 \nQ 24.65625 65.921875 20.015625 65.03125 \nQ 15.375 64.15625 9.8125 62.3125 \nL 9.8125 71.09375 \nQ 15.4375 72.65625 20.34375 73.4375 \nQ 25.25 74.21875 29.59375 74.21875 \nQ 40.828125 74.21875 47.359375 69.109375 \nQ 53.90625 64.015625 53.90625 55.328125 \nQ 53.90625 49.265625 50.4375 45.09375 \nQ 46.96875 40.921875 40.578125 39.3125 \nz\n\" id=\"DejaVuSans-51\"/>\n      </defs>\n      <g transform=\"translate(287.621449 249.836875)scale(0.1 -0.1)\">\n       <use xlink:href=\"#DejaVuSans-51\"/>\n       <use x=\"63.623047\" xlink:href=\"#DejaVuSans-46\"/>\n       <use x=\"95.410156\" xlink:href=\"#DejaVuSans-48\"/>\n      </g>\n     </g>\n    </g>\n    <g id=\"xtick_8\">\n     <g id=\"line2d_8\">\n      <g>\n       <use style=\"stroke:#000000;stroke-width:0.8;\" x=\"339.297856\" xlink:href=\"#m77bc27f314\" y=\"235.238438\"/>\n      </g>\n     </g>\n     <g id=\"text_8\">\n      <!-- 3.5 -->\n      <g transform=\"translate(331.346294 249.836875)scale(0.1 -0.1)\">\n       <use xlink:href=\"#DejaVuSans-51\"/>\n       <use x=\"63.623047\" xlink:href=\"#DejaVuSans-46\"/>\n       <use x=\"95.410156\" xlink:href=\"#DejaVuSans-53\"/>\n      </g>\n     </g>\n    </g>\n    <g id=\"text_9\">\n     <!-- 1e11 -->\n     <defs>\n      <path d=\"M 56.203125 29.59375 \nL 56.203125 25.203125 \nL 14.890625 25.203125 \nQ 15.484375 15.921875 20.484375 11.0625 \nQ 25.484375 6.203125 34.421875 6.203125 \nQ 39.59375 6.203125 44.453125 7.46875 \nQ 49.3125 8.734375 54.109375 11.28125 \nL 54.109375 2.78125 \nQ 49.265625 0.734375 44.1875 -0.34375 \nQ 39.109375 -1.421875 33.890625 -1.421875 \nQ 20.796875 -1.421875 13.15625 6.1875 \nQ 5.515625 13.8125 5.515625 26.8125 \nQ 5.515625 40.234375 12.765625 48.109375 \nQ 20.015625 56 32.328125 56 \nQ 43.359375 56 49.78125 48.890625 \nQ 56.203125 41.796875 56.203125 29.59375 \nz\nM 47.21875 32.234375 \nQ 47.125 39.59375 43.09375 43.984375 \nQ 39.0625 48.390625 32.421875 48.390625 \nQ 24.90625 48.390625 20.390625 44.140625 \nQ 15.875 39.890625 15.1875 32.171875 \nz\n\" id=\"DejaVuSans-101\"/>\n     </defs>\n     <g transform=\"translate(330.121875 262.515)scale(0.1 -0.1)\">\n      <use xlink:href=\"#DejaVuSans-49\"/>\n      <use x=\"63.623047\" xlink:href=\"#DejaVuSans-101\"/>\n      <use x=\"125.146484\" xlink:href=\"#DejaVuSans-49\"/>\n      <use x=\"188.769531\" xlink:href=\"#DejaVuSans-49\"/>\n     </g>\n    </g>\n   </g>\n   <g id=\"matplotlib.axis_2\">\n    <g id=\"ytick_1\">\n     <g id=\"line2d_9\">\n      <defs>\n       <path d=\"M 0 0 \nL -3.5 0 \n\" id=\"m02145b2b63\" style=\"stroke:#000000;stroke-width:0.8;\"/>\n      </defs>\n      <g>\n       <use style=\"stroke:#000000;stroke-width:0.8;\" x=\"20.5625\" xlink:href=\"#m02145b2b63\" y=\"226.805411\"/>\n      </g>\n     </g>\n     <g id=\"text_10\">\n      <!-- 0 -->\n      <g transform=\"translate(7.2 230.60463)scale(0.1 -0.1)\">\n       <use xlink:href=\"#DejaVuSans-48\"/>\n      </g>\n     </g>\n    </g>\n    <g id=\"ytick_2\">\n     <g id=\"line2d_10\">\n      <g>\n       <use style=\"stroke:#000000;stroke-width:0.8;\" x=\"20.5625\" xlink:href=\"#m02145b2b63\" y=\"180.141979\"/>\n      </g>\n     </g>\n     <g id=\"text_11\">\n      <!-- 2 -->\n      <g transform=\"translate(7.2 183.941198)scale(0.1 -0.1)\">\n       <use xlink:href=\"#DejaVuSans-50\"/>\n      </g>\n     </g>\n    </g>\n    <g id=\"ytick_3\">\n     <g id=\"line2d_11\">\n      <g>\n       <use style=\"stroke:#000000;stroke-width:0.8;\" x=\"20.5625\" xlink:href=\"#m02145b2b63\" y=\"133.478548\"/>\n      </g>\n     </g>\n     <g id=\"text_12\">\n      <!-- 4 -->\n      <defs>\n       <path d=\"M 37.796875 64.3125 \nL 12.890625 25.390625 \nL 37.796875 25.390625 \nz\nM 35.203125 72.90625 \nL 47.609375 72.90625 \nL 47.609375 25.390625 \nL 58.015625 25.390625 \nL 58.015625 17.1875 \nL 47.609375 17.1875 \nL 47.609375 0 \nL 37.796875 0 \nL 37.796875 17.1875 \nL 4.890625 17.1875 \nL 4.890625 26.703125 \nz\n\" id=\"DejaVuSans-52\"/>\n      </defs>\n      <g transform=\"translate(7.2 137.277767)scale(0.1 -0.1)\">\n       <use xlink:href=\"#DejaVuSans-52\"/>\n      </g>\n     </g>\n    </g>\n    <g id=\"ytick_4\">\n     <g id=\"line2d_12\">\n      <g>\n       <use style=\"stroke:#000000;stroke-width:0.8;\" x=\"20.5625\" xlink:href=\"#m02145b2b63\" y=\"86.815116\"/>\n      </g>\n     </g>\n     <g id=\"text_13\">\n      <!-- 6 -->\n      <defs>\n       <path d=\"M 33.015625 40.375 \nQ 26.375 40.375 22.484375 35.828125 \nQ 18.609375 31.296875 18.609375 23.390625 \nQ 18.609375 15.53125 22.484375 10.953125 \nQ 26.375 6.390625 33.015625 6.390625 \nQ 39.65625 6.390625 43.53125 10.953125 \nQ 47.40625 15.53125 47.40625 23.390625 \nQ 47.40625 31.296875 43.53125 35.828125 \nQ 39.65625 40.375 33.015625 40.375 \nz\nM 52.59375 71.296875 \nL 52.59375 62.3125 \nQ 48.875 64.0625 45.09375 64.984375 \nQ 41.3125 65.921875 37.59375 65.921875 \nQ 27.828125 65.921875 22.671875 59.328125 \nQ 17.53125 52.734375 16.796875 39.40625 \nQ 19.671875 43.65625 24.015625 45.921875 \nQ 28.375 48.1875 33.59375 48.1875 \nQ 44.578125 48.1875 50.953125 41.515625 \nQ 57.328125 34.859375 57.328125 23.390625 \nQ 57.328125 12.15625 50.6875 5.359375 \nQ 44.046875 -1.421875 33.015625 -1.421875 \nQ 20.359375 -1.421875 13.671875 8.265625 \nQ 6.984375 17.96875 6.984375 36.375 \nQ 6.984375 53.65625 15.1875 63.9375 \nQ 23.390625 74.21875 37.203125 74.21875 \nQ 40.921875 74.21875 44.703125 73.484375 \nQ 48.484375 72.75 52.59375 71.296875 \nz\n\" id=\"DejaVuSans-54\"/>\n      </defs>\n      <g transform=\"translate(7.2 90.614335)scale(0.1 -0.1)\">\n       <use xlink:href=\"#DejaVuSans-54\"/>\n      </g>\n     </g>\n    </g>\n    <g id=\"ytick_5\">\n     <g id=\"line2d_13\">\n      <g>\n       <use style=\"stroke:#000000;stroke-width:0.8;\" x=\"20.5625\" xlink:href=\"#m02145b2b63\" y=\"40.151685\"/>\n      </g>\n     </g>\n     <g id=\"text_14\">\n      <!-- 8 -->\n      <defs>\n       <path d=\"M 31.78125 34.625 \nQ 24.75 34.625 20.71875 30.859375 \nQ 16.703125 27.09375 16.703125 20.515625 \nQ 16.703125 13.921875 20.71875 10.15625 \nQ 24.75 6.390625 31.78125 6.390625 \nQ 38.8125 6.390625 42.859375 10.171875 \nQ 46.921875 13.96875 46.921875 20.515625 \nQ 46.921875 27.09375 42.890625 30.859375 \nQ 38.875 34.625 31.78125 34.625 \nz\nM 21.921875 38.8125 \nQ 15.578125 40.375 12.03125 44.71875 \nQ 8.5 49.078125 8.5 55.328125 \nQ 8.5 64.0625 14.71875 69.140625 \nQ 20.953125 74.21875 31.78125 74.21875 \nQ 42.671875 74.21875 48.875 69.140625 \nQ 55.078125 64.0625 55.078125 55.328125 \nQ 55.078125 49.078125 51.53125 44.71875 \nQ 48 40.375 41.703125 38.8125 \nQ 48.828125 37.15625 52.796875 32.3125 \nQ 56.78125 27.484375 56.78125 20.515625 \nQ 56.78125 9.90625 50.3125 4.234375 \nQ 43.84375 -1.421875 31.78125 -1.421875 \nQ 19.734375 -1.421875 13.25 4.234375 \nQ 6.78125 9.90625 6.78125 20.515625 \nQ 6.78125 27.484375 10.78125 32.3125 \nQ 14.796875 37.15625 21.921875 38.8125 \nz\nM 18.3125 54.390625 \nQ 18.3125 48.734375 21.84375 45.5625 \nQ 25.390625 42.390625 31.78125 42.390625 \nQ 38.140625 42.390625 41.71875 45.5625 \nQ 45.3125 48.734375 45.3125 54.390625 \nQ 45.3125 60.0625 41.71875 63.234375 \nQ 38.140625 66.40625 31.78125 66.40625 \nQ 25.390625 66.40625 21.84375 63.234375 \nQ 18.3125 60.0625 18.3125 54.390625 \nz\n\" id=\"DejaVuSans-56\"/>\n      </defs>\n      <g transform=\"translate(7.2 43.950904)scale(0.1 -0.1)\">\n       <use xlink:href=\"#DejaVuSans-56\"/>\n      </g>\n     </g>\n    </g>\n    <g id=\"text_15\">\n     <!-- 1e10 -->\n     <g transform=\"translate(20.5625 14.798437)scale(0.1 -0.1)\">\n      <use xlink:href=\"#DejaVuSans-49\"/>\n      <use x=\"63.623047\" xlink:href=\"#DejaVuSans-101\"/>\n      <use x=\"125.146484\" xlink:href=\"#DejaVuSans-49\"/>\n      <use x=\"188.769531\" xlink:href=\"#DejaVuSans-48\"/>\n     </g>\n    </g>\n   </g>\n   <g id=\"line2d_14\">\n    <path clip-path=\"url(#pc0a42a6dca)\" d=\"M 36.045287 209.264132 \nL 340.144318 27.682074 \nL 35.780682 209.422131 \nL 59.790646 195.085424 \n\" style=\"fill:none;stroke:#ff0000;stroke-linecap:square;stroke-width:1.5;\"/>\n   </g>\n   <g id=\"patch_3\">\n    <path d=\"M 20.5625 235.238438 \nL 20.5625 17.798438 \n\" style=\"fill:none;stroke:#000000;stroke-linecap:square;stroke-linejoin:miter;stroke-width:0.8;\"/>\n   </g>\n   <g id=\"patch_4\">\n    <path d=\"M 355.3625 235.238438 \nL 355.3625 17.798438 \n\" style=\"fill:none;stroke:#000000;stroke-linecap:square;stroke-linejoin:miter;stroke-width:0.8;\"/>\n   </g>\n   <g id=\"patch_5\">\n    <path d=\"M 20.5625 235.238438 \nL 355.3625 235.238438 \n\" style=\"fill:none;stroke:#000000;stroke-linecap:square;stroke-linejoin:miter;stroke-width:0.8;\"/>\n   </g>\n   <g id=\"patch_6\">\n    <path d=\"M 20.5625 17.798438 \nL 355.3625 17.798438 \n\" style=\"fill:none;stroke:#000000;stroke-linecap:square;stroke-linejoin:miter;stroke-width:0.8;\"/>\n   </g>\n  </g>\n </g>\n <defs>\n  <clipPath id=\"pc0a42a6dca\">\n   <rect height=\"217.44\" width=\"334.8\" x=\"20.5625\" y=\"17.798438\"/>\n  </clipPath>\n </defs>\n</svg>\n"
          },
          "metadata": {
            "needs_background": "light"
          }
        }
      ]
    },
    {
      "cell_type": "code",
      "source": [
        "z1 = b0 + b1 * x1 \n",
        "\n",
        "print(f'real: {y1[:5]}')\n",
        "print(f'pred: {z1[:5]}')"
      ],
      "metadata": {
        "colab": {
          "base_uri": "https://localhost:8080/"
        },
        "id": "9kEUbiVjV8Sv",
        "outputId": "c8b51d10-7adf-4141-d609-cd2b767c1ce1"
      },
      "execution_count": 57,
      "outputs": [
        {
          "output_type": "stream",
          "name": "stdout",
          "text": [
            "real: 0     893249984\n",
            "1     885985984\n",
            "2     842300992\n",
            "3    1613479936\n",
            "4    1041889984\n",
            "Name: Volume, dtype: int64\n",
            "pred: 1149    7.518212e+09\n",
            "1150    7.961793e+09\n",
            "1151    7.894748e+09\n",
            "1152    8.800860e+09\n",
            "1153    8.197908e+09\n",
            "Name: Volume, dtype: float64\n"
          ]
        }
      ]
    },
    {
      "cell_type": "code",
      "source": [
        "R1 = z1.var() / y1.var()\n",
        "R1"
      ],
      "metadata": {
        "colab": {
          "base_uri": "https://localhost:8080/"
        },
        "id": "2RGfh09EWDBJ",
        "outputId": "ee72d16c-6d85-4c6a-da86-c7a200506f22"
      },
      "execution_count": 58,
      "outputs": [
        {
          "output_type": "execute_result",
          "data": {
            "text/plain": [
              "0.16857315756683997"
            ]
          },
          "metadata": {},
          "execution_count": 58
        }
      ]
    },
    {
      "cell_type": "code",
      "source": [
        "mean_approximation_error(y1, z1)"
      ],
      "metadata": {
        "colab": {
          "base_uri": "https://localhost:8080/"
        },
        "id": "k40sDF94WI5y",
        "outputId": "5a08d79d-cddb-461b-9de0-587e3ac3208e"
      },
      "execution_count": 60,
      "outputs": [
        {
          "output_type": "execute_result",
          "data": {
            "text/plain": [
              "0.6083727809059911"
            ]
          },
          "metadata": {},
          "execution_count": 60
        }
      ]
    },
    {
      "cell_type": "code",
      "source": [
        "alpha = 0.5\n",
        "k1 = 2 \n",
        "k2 = x1.count() - k1 - 1\n",
        "k2"
      ],
      "metadata": {
        "colab": {
          "base_uri": "https://localhost:8080/"
        },
        "id": "ugPlzhZhWMnA",
        "outputId": "d4f90a67-1f32-4687-a871-22791e3bd128"
      },
      "execution_count": 64,
      "outputs": [
        {
          "output_type": "execute_result",
          "data": {
            "text/plain": [
              "1595"
            ]
          },
          "metadata": {},
          "execution_count": 64
        }
      ]
    },
    {
      "cell_type": "code",
      "source": [
        "T1 = (R1 / (1 - R1)) * (k2 / k1)\n",
        "T1"
      ],
      "metadata": {
        "colab": {
          "base_uri": "https://localhost:8080/"
        },
        "id": "LFd02vIRWURE",
        "outputId": "cc4e6bf2-58a5-43c2-b014-76d8fbd7f9f8"
      },
      "execution_count": 65,
      "outputs": [
        {
          "output_type": "execute_result",
          "data": {
            "text/plain": [
              "161.69443455316699"
            ]
          },
          "metadata": {},
          "execution_count": 65
        }
      ]
    },
    {
      "cell_type": "code",
      "source": [
        "F_crit = scipy.stats.f.ppf(1 - alpha, k1, k2)\n",
        "F_crit"
      ],
      "metadata": {
        "colab": {
          "base_uri": "https://localhost:8080/"
        },
        "id": "voMWRsFsWXPY",
        "outputId": "d879442d-b1fd-4a70-9ece-3cb4af17481f"
      },
      "execution_count": 63,
      "outputs": [
        {
          "output_type": "execute_result",
          "data": {
            "text/plain": [
              "0.6934484923085212"
            ]
          },
          "metadata": {},
          "execution_count": 63
        }
      ]
    },
    {
      "cell_type": "markdown",
      "source": [
        "На основе вышепроведенных вычисленний можно сделать вывод, что корреляцию между двумя криптовалютами лучше проводить по объемам торгов, а не цене, вероятно потому что объем торгов отображает волатильность криптовалюты. Кроме того, можно сделать вывод, что корреляции между этими двумя валютами все таки наблюдается, хоть и незначительная."
      ],
      "metadata": {
        "id": "bfSfGRrkWlTt"
      }
    },
    {
      "cell_type": "markdown",
      "source": [
        "Проведем также однофакторный анализ объема торгов по биткоину и эфириуму"
      ],
      "metadata": {
        "id": "xownIz0HYL1F"
      }
    },
    {
      "cell_type": "code",
      "source": [
        "y1 = btc_df['Volume']\n",
        "y2 = eth_df['Volume']\n",
        "\n",
        "n1 = y1.shape[0]\n",
        "n2 = y2.shape[0] "
      ],
      "metadata": {
        "id": "V1BOPJ7VWafo"
      },
      "execution_count": 66,
      "outputs": []
    },
    {
      "cell_type": "code",
      "source": [
        "y1_mean = y1.mean()\n",
        "y2_mean = y2.mean()\n",
        "\n",
        "y1_mean, y2_mean"
      ],
      "metadata": {
        "colab": {
          "base_uri": "https://localhost:8080/"
        },
        "id": "Ez-wlT6OYoRg",
        "outputId": "3d2c5397-5d31-48d9-d914-0fb6e55869fb"
      },
      "execution_count": 67,
      "outputs": [
        {
          "output_type": "execute_result",
          "data": {
            "text/plain": [
              "(25277843551.71339, 12453465890.52065)"
            ]
          },
          "metadata": {},
          "execution_count": 67
        }
      ]
    },
    {
      "cell_type": "markdown",
      "source": [
        "Видно что среднее значение объема торгов значительно отличается (практически в 2 раза)"
      ],
      "metadata": {
        "id": "ZgNs296RY1pP"
      }
    },
    {
      "cell_type": "code",
      "source": [
        "y = np.concatenate([y1, y2])\n",
        "\n",
        "print(y)"
      ],
      "metadata": {
        "colab": {
          "base_uri": "https://localhost:8080/"
        },
        "id": "OjKrI-wwYxX9",
        "outputId": "be630ec5-4066-414e-8437-8b29af7bae17"
      },
      "execution_count": 68,
      "outputs": [
        {
          "output_type": "stream",
          "name": "stdout",
          "text": [
            "[ 3226249984  5208249856  4908680192 ... 16008767658 18070503166\n",
            " 16882068480]\n"
          ]
        }
      ]
    },
    {
      "cell_type": "code",
      "source": [
        "y_mean = y.mean()\n",
        "y_mean"
      ],
      "metadata": {
        "colab": {
          "base_uri": "https://localhost:8080/"
        },
        "id": "i32NrQSeZEFm",
        "outputId": "11f753c7-92b6-4ac7-d135-01251d57dd09"
      },
      "execution_count": 69,
      "outputs": [
        {
          "output_type": "execute_result",
          "data": {
            "text/plain": [
              "18865654721.11702"
            ]
          },
          "metadata": {},
          "execution_count": 69
        }
      ]
    },
    {
      "cell_type": "code",
      "source": [
        "S2_F = n1 * (y1_mean - y_mean) ** 2 + n2 * (y2_mean - y_mean) ** 2\n",
        "\n",
        "S2_res = ((y1 - y1_mean) ** 2).sum() + ((y2 - y2_mean) ** 2).sum()\n",
        "\n",
        "S2_F, S2_res"
      ],
      "metadata": {
        "colab": {
          "base_uri": "https://localhost:8080/"
        },
        "id": "i-9fQ96NZGf3",
        "outputId": "df3d235d-ce3a-4b6e-c5a0-17ccdcaf4ade"
      },
      "execution_count": 71,
      "outputs": [
        {
          "output_type": "execute_result",
          "data": {
            "text/plain": [
              "(1.3140726525512258e+23, 8.775577869475138e+23)"
            ]
          },
          "metadata": {},
          "execution_count": 71
        }
      ]
    },
    {
      "cell_type": "code",
      "source": [
        "S2_F + S2_res == ((y - y_mean) ** 2).sum()"
      ],
      "metadata": {
        "colab": {
          "base_uri": "https://localhost:8080/"
        },
        "id": "Z0UuAz8_ZMvK",
        "outputId": "0e93fae8-5d13-4c26-efa4-380d3a0c3794"
      },
      "execution_count": 72,
      "outputs": [
        {
          "output_type": "execute_result",
          "data": {
            "text/plain": [
              "False"
            ]
          },
          "metadata": {},
          "execution_count": 72
        }
      ]
    },
    {
      "cell_type": "code",
      "source": [
        "S2_F + S2_res"
      ],
      "metadata": {
        "colab": {
          "base_uri": "https://localhost:8080/"
        },
        "id": "LJ2OmmXGZS-H",
        "outputId": "9eceb591-d8b6-4be2-9e0e-5f41c8518bbe"
      },
      "execution_count": 73,
      "outputs": [
        {
          "output_type": "execute_result",
          "data": {
            "text/plain": [
              "1.0089650522026364e+24"
            ]
          },
          "metadata": {},
          "execution_count": 73
        }
      ]
    },
    {
      "cell_type": "code",
      "source": [
        "((y - y_mean) ** 2).sum()"
      ],
      "metadata": {
        "colab": {
          "base_uri": "https://localhost:8080/"
        },
        "id": "dxTyXDmbZWf9",
        "outputId": "b4381d91-1f1d-4f62-9913-0a6ea76ad13b"
      },
      "execution_count": 74,
      "outputs": [
        {
          "output_type": "execute_result",
          "data": {
            "text/plain": [
              "1.0089650522026367e+24"
            ]
          },
          "metadata": {},
          "execution_count": 74
        }
      ]
    },
    {
      "cell_type": "markdown",
      "source": [
        "Разница незначительная, соответственно можно считать, что вычисления проведены верно и продолжать:"
      ],
      "metadata": {
        "id": "NT7dTEwmZZwA"
      }
    },
    {
      "cell_type": "code",
      "source": [
        "k = 2\n",
        "n = n1 + n2\n",
        "\n",
        "k1 = k - 1\n",
        "k2 = n - k\n",
        "\n",
        "sigma2_F = S2_F / k1\n",
        "sigma2_res = S2_res / k2\n",
        "\n",
        "sigma2_F, sigma2_res"
      ],
      "metadata": {
        "colab": {
          "base_uri": "https://localhost:8080/"
        },
        "id": "PPPM9hZHZX7r",
        "outputId": "9ce7ec2a-7060-487c-cb0a-349e0bd52cb2"
      },
      "execution_count": 75,
      "outputs": [
        {
          "output_type": "execute_result",
          "data": {
            "text/plain": [
              "(1.3140726525512258e+23, 2.7475196836177638e+20)"
            ]
          },
          "metadata": {},
          "execution_count": 75
        }
      ]
    },
    {
      "cell_type": "markdown",
      "source": [
        "Итак значение статистики T:"
      ],
      "metadata": {
        "id": "54c4b56rZpO6"
      }
    },
    {
      "cell_type": "code",
      "source": [
        "T = sigma2_F / sigma2_res\n",
        "T"
      ],
      "metadata": {
        "colab": {
          "base_uri": "https://localhost:8080/"
        },
        "id": "YM92I5UkZmVx",
        "outputId": "731c0b98-df49-40d6-dda3-4de9051a3b32"
      },
      "execution_count": 76,
      "outputs": [
        {
          "output_type": "execute_result",
          "data": {
            "text/plain": [
              "478.27597392166314"
            ]
          },
          "metadata": {},
          "execution_count": 76
        }
      ]
    },
    {
      "cell_type": "markdown",
      "source": [
        "И F_crit:"
      ],
      "metadata": {
        "id": "6wNTqQFlZv0M"
      }
    },
    {
      "cell_type": "code",
      "source": [
        "alpha = 0.05\n",
        "\n",
        "F_crit = scipy.stats.f.ppf(1 - alpha, k1, k2)\n",
        "F_crit"
      ],
      "metadata": {
        "colab": {
          "base_uri": "https://localhost:8080/"
        },
        "id": "aQS2ygJWZs3L",
        "outputId": "955d0057-ad21-4b33-ceb2-7a16a63c2de0"
      },
      "execution_count": 78,
      "outputs": [
        {
          "output_type": "execute_result",
          "data": {
            "text/plain": [
              "3.8443718953881114"
            ]
          },
          "metadata": {},
          "execution_count": 78
        }
      ]
    },
    {
      "cell_type": "markdown",
      "source": [
        "Видим, что  T>Fcrit , поэтому заключаем, что отличие средних объемов торгов по криптовалютам действительно является статистически значимым."
      ],
      "metadata": {
        "id": "Z9yX7nggZ7O1"
      }
    }
  ]
}