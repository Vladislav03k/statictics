{
  "nbformat": 4,
  "nbformat_minor": 0,
  "metadata": {
    "colab": {
      "name": "Homework8.ipynb",
      "provenance": [],
      "collapsed_sections": []
    },
    "kernelspec": {
      "name": "python3",
      "display_name": "Python 3"
    },
    "language_info": {
      "name": "python"
    }
  },
  "cells": [
    {
      "cell_type": "markdown",
      "source": [
        "Провести дисперсионный анализ для определения того, есть ли различия среднего\n",
        "\n",
        " роста среди взрослых футболистов, хоккеистов и штангистов. Даны значения роста\n",
        " \n",
        "  в трех группах случайно выбранных спортсменов: Футболисты: 173, 175, 180, \n",
        "  \n",
        "  178, 177, 185, 183, 182. Хоккеисты: 177, 179, 180, 188, 177, 172, 171, 184,\n",
        "  \n",
        "   180. Штангисты: 172, 173, 169, 177, 166, 180, 178, 177, 172, 166, 170.\n",
        "    alpha = 0.05."
      ],
      "metadata": {
        "id": "hr2MRmhxI9j6"
      }
    },
    {
      "cell_type": "code",
      "source": [
        "import numpy as np\n",
        "import pandas as pd\n",
        "from matplotlib import pyplot as plt"
      ],
      "metadata": {
        "id": "PrRvHQFrJS0U"
      },
      "execution_count": 2,
      "outputs": []
    },
    {
      "cell_type": "code",
      "execution_count": 1,
      "metadata": {
        "id": "-VB-Pp4KIceq"
      },
      "outputs": [],
      "source": [
        "football_players = [173, 175, 180, 178, 177, 185, 183, 182]\n",
        "hockey_players = [177, 179, 180, 188, 177, 172, 171, 184, 180]\n",
        "lifters = [172, 173, 169, 177, 166, 180, 178, 177, 172, 166, 170]"
      ]
    },
    {
      "cell_type": "code",
      "source": [
        "y1 = np.array([173, 175, 180, 178, 177, 185, 183, 182], dtype= np.float64)\n",
        "y2 = np.array([177, 179, 180, 188, 177, 172, 171, 184, 180], dtype = np.float64)\n",
        "y3 = np.array([172, 173, 169, 177, 166, 180, 178, 177, 172, 166, 170], dtype = np.float64)\n",
        "\n",
        "n1 = y1.shape[0]\n",
        "n2 = y2.shape[0]\n",
        "n3 = y3.shape[0]"
      ],
      "metadata": {
        "id": "rrfM2DbVJOe0"
      },
      "execution_count": 3,
      "outputs": []
    },
    {
      "cell_type": "code",
      "source": [
        "y1_mean = y1.mean()\n",
        "y2_mean = y2.mean()\n",
        "y3_mean = y3.mean()\n",
        "\n",
        "y1_mean, y2_mean, y3_mean"
      ],
      "metadata": {
        "colab": {
          "base_uri": "https://localhost:8080/"
        },
        "id": "ed0Xf6MBKD7H",
        "outputId": "da118c61-9384-4135-e036-a8fa8e8018b5"
      },
      "execution_count": 4,
      "outputs": [
        {
          "output_type": "execute_result",
          "data": {
            "text/plain": [
              "(179.125, 178.66666666666666, 172.72727272727272)"
            ]
          },
          "metadata": {},
          "execution_count": 4
        }
      ]
    },
    {
      "cell_type": "code",
      "source": [
        "y = np.concatenate([y1, y2, y3])\n",
        "\n",
        "print(y)"
      ],
      "metadata": {
        "colab": {
          "base_uri": "https://localhost:8080/"
        },
        "id": "C-sAQ7K0KUo7",
        "outputId": "94875559-7d3b-49b4-bfd6-bfbeb188f1dc"
      },
      "execution_count": 6,
      "outputs": [
        {
          "output_type": "stream",
          "name": "stdout",
          "text": [
            "[173. 175. 180. 178. 177. 185. 183. 182. 177. 179. 180. 188. 177. 172.\n",
            " 171. 184. 180. 172. 173. 169. 177. 166. 180. 178. 177. 172. 166. 170.]\n"
          ]
        }
      ]
    },
    {
      "cell_type": "code",
      "source": [
        "y_mean = y.mean()\n",
        "\n",
        "y_mean"
      ],
      "metadata": {
        "colab": {
          "base_uri": "https://localhost:8080/"
        },
        "id": "LLFqwfLMKedV",
        "outputId": "0c4df628-3dfd-4f28-d5cb-6f58092b8268"
      },
      "execution_count": 7,
      "outputs": [
        {
          "output_type": "execute_result",
          "data": {
            "text/plain": [
              "176.46428571428572"
            ]
          },
          "metadata": {},
          "execution_count": 7
        }
      ]
    },
    {
      "cell_type": "markdown",
      "source": [
        "Найдём значения  SF  и  Sres :"
      ],
      "metadata": {
        "id": "OfJeIw16Kwg_"
      }
    },
    {
      "cell_type": "code",
      "source": [
        "S2_f = n1 * (y1_mean - y_mean) ** 2 + n2 * (y2_mean - y_mean) ** 2 + n3 * (y3_mean - y_mean) ** 2\n",
        "S2_res = ((y1 - y1_mean) ** 2).sum() + ((y2 - y2_mean) ** 2).sum() + ((y3 - y3_mean) ** 2).sum()\n",
        "\n",
        "S2_f, S2_res"
      ],
      "metadata": {
        "colab": {
          "base_uri": "https://localhost:8080/"
        },
        "id": "PXURtfa3Kp2X",
        "outputId": "10e794d8-fd0b-4f29-db79-b00101e2cef7"
      },
      "execution_count": 10,
      "outputs": [
        {
          "output_type": "execute_result",
          "data": {
            "text/plain": [
              "(253.9074675324678, 577.0568181818182)"
            ]
          },
          "metadata": {},
          "execution_count": 10
        }
      ]
    },
    {
      "cell_type": "code",
      "source": [
        "((y - y_mean) ** 2).sum()"
      ],
      "metadata": {
        "colab": {
          "base_uri": "https://localhost:8080/"
        },
        "id": "REXgaKQUMpQZ",
        "outputId": "fd666c1a-6852-4668-a33b-fa43c0ef37f6"
      },
      "execution_count": 14,
      "outputs": [
        {
          "output_type": "execute_result",
          "data": {
            "text/plain": [
              "830.9642857142854"
            ]
          },
          "metadata": {},
          "execution_count": 14
        }
      ]
    },
    {
      "cell_type": "code",
      "source": [
        "S2_f + S2_res "
      ],
      "metadata": {
        "colab": {
          "base_uri": "https://localhost:8080/"
        },
        "id": "xtYg65czL3T9",
        "outputId": "b92d23f2-6e5e-41f9-b120-8a1bfa0b1fe9"
      },
      "execution_count": 15,
      "outputs": [
        {
          "output_type": "execute_result",
          "data": {
            "text/plain": [
              "830.964285714286"
            ]
          },
          "metadata": {},
          "execution_count": 15
        }
      ]
    },
    {
      "cell_type": "markdown",
      "source": [
        "Из-за незначительной разницы проверка невыполняется, но решение верное"
      ],
      "metadata": {
        "id": "qFg5ApyAM1tk"
      }
    },
    {
      "cell_type": "code",
      "source": [
        "S2_f + S2_res == ((y - y_mean) ** 2).sum()"
      ],
      "metadata": {
        "colab": {
          "base_uri": "https://localhost:8080/"
        },
        "id": "APFvnroiMNT1",
        "outputId": "248598ee-37db-4f05-9143-683b36a2dcac"
      },
      "execution_count": 16,
      "outputs": [
        {
          "output_type": "execute_result",
          "data": {
            "text/plain": [
              "False"
            ]
          },
          "metadata": {},
          "execution_count": 16
        }
      ]
    },
    {
      "cell_type": "markdown",
      "source": [
        "Запишем оценки дисперсий:"
      ],
      "metadata": {
        "id": "uZZXaxf1NCPW"
      }
    },
    {
      "cell_type": "code",
      "source": [
        "k = 3\n",
        "n = n1 + n2 + n3\n",
        "\n",
        "k1 = k - 1\n",
        "k2 = n - k\n",
        "\n",
        "sig2_f = S2_f / k1\n",
        "sig2_res = S2_res / k2 \n",
        "\n",
        "sig2_f, sig2_res"
      ],
      "metadata": {
        "colab": {
          "base_uri": "https://localhost:8080/"
        },
        "id": "lPM_70b2M9n-",
        "outputId": "1fe1cd17-fb92-4a00-c84f-1d1c4e0720fd"
      },
      "execution_count": 18,
      "outputs": [
        {
          "output_type": "execute_result",
          "data": {
            "text/plain": [
              "(126.9537337662339, 23.08227272727273)"
            ]
          },
          "metadata": {},
          "execution_count": 18
        }
      ]
    },
    {
      "cell_type": "markdown",
      "source": [
        "Итак, значение статистики  T :"
      ],
      "metadata": {
        "id": "e5wgD25MNeUH"
      }
    },
    {
      "cell_type": "code",
      "source": [
        "T = sig2_f / sig2_res\n",
        "T"
      ],
      "metadata": {
        "colab": {
          "base_uri": "https://localhost:8080/"
        },
        "id": "JKdOGJjzNECq",
        "outputId": "c953430d-5669-4dc9-87dd-e552de694d69"
      },
      "execution_count": 19,
      "outputs": [
        {
          "output_type": "execute_result",
          "data": {
            "text/plain": [
              "5.500053450812598"
            ]
          },
          "metadata": {},
          "execution_count": 19
        }
      ]
    },
    {
      "cell_type": "code",
      "source": [
        "from scipy import stats"
      ],
      "metadata": {
        "id": "b9xNPNpfNpbr"
      },
      "execution_count": 20,
      "outputs": []
    },
    {
      "cell_type": "code",
      "source": [
        "from numpy.lib.shape_base import apply_along_axis\n",
        "alpha = 0.05\n",
        "\n",
        "F_crit = stats.f.ppf(1 - alpha, k1, k2)\n",
        "F_crit"
      ],
      "metadata": {
        "colab": {
          "base_uri": "https://localhost:8080/"
        },
        "id": "2gzUR0kbOg8H",
        "outputId": "42197ab0-d240-4a00-9e79-7f051d5b1c40"
      },
      "execution_count": 21,
      "outputs": [
        {
          "output_type": "execute_result",
          "data": {
            "text/plain": [
              "3.3851899614491687"
            ]
          },
          "metadata": {},
          "execution_count": 21
        }
      ]
    },
    {
      "cell_type": "markdown",
      "source": [
        "Значение статистики больше, чем F_crit поэтому деляем заключение, что отличие среднего роста по профессиям является статистически значимым показателем"
      ],
      "metadata": {
        "id": "Ba84h1-vPFyE"
      }
    }
  ]
}