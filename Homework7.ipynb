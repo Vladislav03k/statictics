{
  "nbformat": 4,
  "nbformat_minor": 0,
  "metadata": {
    "colab": {
      "name": "Homework7.ipynb",
      "provenance": [],
      "collapsed_sections": []
    },
    "kernelspec": {
      "name": "python3",
      "display_name": "Python 3"
    },
    "language_info": {
      "name": "python"
    }
  },
  "cells": [
    {
      "cell_type": "markdown",
      "source": [
        "Даны значения величины заработной платы заемщиков банка (zp) и значения их \n",
        "\n",
        "поведенческого кредитного скоринга (ks): \n",
        "\n",
        "zp = [35, 45, 190, 200, 40, 70, 54, 150, 120, 110], \n",
        "\n",
        "ks = [401, 574, 874, 919, 459, 739, 653, 902, 746, 832]. \n",
        "\n",
        "Используя математические операции, посчитать коэффициенты линейной регрессии, приняв за X заработную плату (то есть, zp - признак), а за y - значения скорингового балла (то есть, ks - целевая переменная). \n",
        "\n",
        "Произвести расчет как с использованием intercept, так и без."
      ],
      "metadata": {
        "id": "YbF73H8UxIlj"
      }
    },
    {
      "cell_type": "code",
      "execution_count": 1,
      "metadata": {
        "id": "kX9swnKexEdw"
      },
      "outputs": [],
      "source": [
        "import numpy as np\n",
        "import pandas as pd\n",
        "from matplotlib import pyplot as plt"
      ]
    },
    {
      "cell_type": "code",
      "source": [
        "zp = np.array([35, 45, 190, 200, 40, 70, 54, 150, 120, 110])\n",
        "ks = np.array([401, 574, 874, 919, 459, 739, 653, 902, 746, 832])\n",
        "print(zp, ks)"
      ],
      "metadata": {
        "colab": {
          "base_uri": "https://localhost:8080/"
        },
        "id": "_sUOkEZLxWN_",
        "outputId": "16ced825-8ed8-4574-d796-20615e62cdd0"
      },
      "execution_count": 2,
      "outputs": [
        {
          "output_type": "stream",
          "name": "stdout",
          "text": [
            "[ 35  45 190 200  40  70  54 150 120 110] [401 574 874 919 459 739 653 902 746 832]\n"
          ]
        }
      ]
    },
    {
      "cell_type": "code",
      "source": [
        "X = zp\n",
        "Y = ks\n",
        "b1 = (np.mean(X * Y) - np.mean(X) * np.mean(Y)) / (np.mean(X ** 2) - np.mean(X) ** 2)\n",
        "b1"
      ],
      "metadata": {
        "colab": {
          "base_uri": "https://localhost:8080/"
        },
        "id": "xWIbPDoqxiBb",
        "outputId": "56ace82d-405b-4a4d-d601-be411ea7c087"
      },
      "execution_count": 3,
      "outputs": [
        {
          "output_type": "execute_result",
          "data": {
            "text/plain": [
              "2.620538882402765"
            ]
          },
          "metadata": {},
          "execution_count": 3
        }
      ]
    },
    {
      "cell_type": "code",
      "source": [
        "b0 = np.mean(Y) - b1 * np.mean(X)\n",
        "b0"
      ],
      "metadata": {
        "colab": {
          "base_uri": "https://localhost:8080/"
        },
        "id": "iXZ6UxR41EJq",
        "outputId": "edf2687f-a5e2-4d30-d1e5-3452001fe765"
      },
      "execution_count": 4,
      "outputs": [
        {
          "output_type": "execute_result",
          "data": {
            "text/plain": [
              "444.1773573243596"
            ]
          },
          "metadata": {},
          "execution_count": 4
        }
      ]
    },
    {
      "cell_type": "markdown",
      "source": [
        "Получается, что функция имеет вид :у = 444.1773573243596 + 2.620538882402765 * х"
      ],
      "metadata": {
        "id": "Y56RfTFP1Utk"
      }
    },
    {
      "cell_type": "code",
      "source": [
        "ox = X\n",
        "oy = b0 + b1 * X\n",
        "\n",
        "plt.scatter(X, Y)\n",
        "plt.plot(ox, oy, color = 'red')"
      ],
      "metadata": {
        "colab": {
          "base_uri": "https://localhost:8080/",
          "height": 283
        },
        "id": "Vt38qKG51OLd",
        "outputId": "4d45a71c-9458-4ea7-b8e8-6b7d69648949"
      },
      "execution_count": 5,
      "outputs": [
        {
          "output_type": "execute_result",
          "data": {
            "text/plain": [
              "[<matplotlib.lines.Line2D at 0x7fedb057a390>]"
            ]
          },
          "metadata": {},
          "execution_count": 5
        },
        {
          "output_type": "display_data",
          "data": {
            "text/plain": [
              "<Figure size 432x288 with 1 Axes>"
            ],
            "image/png": "[encoded data removed]"
          },
          "metadata": {
            "needs_background": "light"
          }
        }
      ]
    },
    {
      "cell_type": "code",
      "source": [
        "Z = b0 + b1 * X\n",
        "\n",
        "print(f'real: {Y[:5]}')\n",
        "print(f'pred: {Z[:5]}')"
      ],
      "metadata": {
        "colab": {
          "base_uri": "https://localhost:8080/"
        },
        "id": "86rN6WKT16gR",
        "outputId": "2af8873a-091a-4a37-f06b-9cafa1f9e3b0"
      },
      "execution_count": 6,
      "outputs": [
        {
          "output_type": "stream",
          "name": "stdout",
          "text": [
            "real: [401 574 874 919 459]\n",
            "pred: [535.89621821 562.10160703 942.07974498 968.2851338  548.99891262]\n"
          ]
        }
      ]
    },
    {
      "cell_type": "markdown",
      "source": [
        "Коэффициент детерминации:"
      ],
      "metadata": {
        "id": "WxIbc9Vd2Ub5"
      }
    },
    {
      "cell_type": "code",
      "source": [
        "R1 = Z.var() / Y.var()\n",
        "R1"
      ],
      "metadata": {
        "colab": {
          "base_uri": "https://localhost:8080/"
        },
        "id": "TgKB_3rB2RJD",
        "outputId": "08cbb756-2977-4a33-a5f8-844fdb345998"
      },
      "execution_count": 7,
      "outputs": [
        {
          "output_type": "execute_result",
          "data": {
            "text/plain": [
              "0.7876386635293678"
            ]
          },
          "metadata": {},
          "execution_count": 7
        }
      ]
    },
    {
      "cell_type": "code",
      "source": [
        "np.corrcoef(X, Y) ** 2"
      ],
      "metadata": {
        "colab": {
          "base_uri": "https://localhost:8080/"
        },
        "id": "ZU1agYaP2gD5",
        "outputId": "3be90fce-9167-4c00-d3af-42ff4c4f8eec"
      },
      "execution_count": 8,
      "outputs": [
        {
          "output_type": "execute_result",
          "data": {
            "text/plain": [
              "array([[1.        , 0.78763866],\n",
              "       [0.78763866, 1.        ]])"
            ]
          },
          "metadata": {},
          "execution_count": 8
        }
      ]
    },
    {
      "cell_type": "markdown",
      "source": [
        "Средняя ошибка аппроксимации:"
      ],
      "metadata": {
        "id": "L62F_6fG3No7"
      }
    },
    {
      "cell_type": "code",
      "source": [
        "def mean_approximation_error(y_real, y_pred):\n",
        "  return np.abs((y_real - y_pred) / y_real).mean()"
      ],
      "metadata": {
        "id": "yyx9g_e42wei"
      },
      "execution_count": 11,
      "outputs": []
    },
    {
      "cell_type": "code",
      "source": [
        "mean_approximation_error(Y, Z)"
      ],
      "metadata": {
        "colab": {
          "base_uri": "https://localhost:8080/"
        },
        "id": "J4BFkUXO2ouq",
        "outputId": "87f00790-4301-4b7d-a2b8-9ec2783f5a24"
      },
      "execution_count": 12,
      "outputs": [
        {
          "output_type": "execute_result",
          "data": {
            "text/plain": [
              "0.11469251843561709"
            ]
          },
          "metadata": {},
          "execution_count": 12
        }
      ]
    },
    {
      "cell_type": "markdown",
      "source": [
        "Оценка значимости уравнения линейной регрессии:"
      ],
      "metadata": {
        "id": "6prULOll3WFE"
      }
    },
    {
      "cell_type": "markdown",
      "source": [
        "Значение статистики:"
      ],
      "metadata": {
        "id": "z7lIhWRo303O"
      }
    },
    {
      "cell_type": "code",
      "source": [
        "k1 = 1\n",
        "k2 = len(Y)\n",
        "\n",
        "T1 = (R1 / (1 - R1)) * (k2 / k1)\n",
        "T1"
      ],
      "metadata": {
        "colab": {
          "base_uri": "https://localhost:8080/"
        },
        "id": "pjQUwytl3JgC",
        "outputId": "204d0f0b-0ea3-4f49-a6ea-db30a5482c16"
      },
      "execution_count": 13,
      "outputs": [
        {
          "output_type": "execute_result",
          "data": {
            "text/plain": [
              "37.08955107458046"
            ]
          },
          "metadata": {},
          "execution_count": 13
        }
      ]
    },
    {
      "cell_type": "markdown",
      "source": [
        "Пусть а = 0.05, тогда критерий фишера:"
      ],
      "metadata": {
        "id": "5J7RzcPn38tg"
      }
    },
    {
      "cell_type": "code",
      "source": [
        "from scipy import stats"
      ],
      "metadata": {
        "id": "OVzzH4yo4KPv"
      },
      "execution_count": 14,
      "outputs": []
    },
    {
      "cell_type": "code",
      "source": [
        "a = 0.05\n",
        "\n",
        "F_crit = stats.f.ppf(1 - a, k1, k2)\n",
        "F_crit"
      ],
      "metadata": {
        "colab": {
          "base_uri": "https://localhost:8080/"
        },
        "id": "AzNEeUsY3yXV",
        "outputId": "a630c8b0-101a-42e2-df4e-8e3ce78f6290"
      },
      "execution_count": 15,
      "outputs": [
        {
          "output_type": "execute_result",
          "data": {
            "text/plain": [
              "4.9646027437307145"
            ]
          },
          "metadata": {},
          "execution_count": 15
        }
      ]
    },
    {
      "cell_type": "markdown",
      "source": [
        "Итак получается раз критерий статистики больше критерия Фишера, поэтому уравнение регрессии статистически значимо"
      ],
      "metadata": {
        "id": "_5WMd4x84dfr"
      }
    },
    {
      "cell_type": "markdown",
      "source": [
        "Проверим значимость коэффициента наклона, а также построим для него доверительный интервал."
      ],
      "metadata": {
        "id": "vtoxM4i95pGL"
      }
    },
    {
      "cell_type": "code",
      "source": [
        "def standart_error_slope(x, y, z):\n",
        "  n = x.shape[0]\n",
        "\n",
        "  upper = ((y - z) ** 2).sum() / (n - 2)\n",
        "  lower = ((y - x.mean()) ** 2).sum()\n",
        "\n",
        "  return np.sqrt(upper / lower)"
      ],
      "metadata": {
        "id": "sR7pYOlC4a10"
      },
      "execution_count": 16,
      "outputs": []
    },
    {
      "cell_type": "code",
      "source": [
        "s_slope = standart_error_slope(X, Y, Z)\n",
        "s_slope"
      ],
      "metadata": {
        "colab": {
          "base_uri": "https://localhost:8080/"
        },
        "id": "ZG1VhqFB6Zjr",
        "outputId": "cd08e855-810a-49b6-a6a3-368c1aaca5b0"
      },
      "execution_count": 17,
      "outputs": [
        {
          "output_type": "execute_result",
          "data": {
            "text/plain": [
              "0.0449251031802444"
            ]
          },
          "metadata": {},
          "execution_count": 17
        }
      ]
    },
    {
      "cell_type": "code",
      "source": [
        "T = b1 / s_slope\n",
        "T"
      ],
      "metadata": {
        "colab": {
          "base_uri": "https://localhost:8080/"
        },
        "id": "wOTk9YoL6hml",
        "outputId": "38eb40cb-d02e-4dab-92ab-aa6ab2213f40"
      },
      "execution_count": 18,
      "outputs": [
        {
          "output_type": "execute_result",
          "data": {
            "text/plain": [
              "58.331282443334146"
            ]
          },
          "metadata": {},
          "execution_count": 18
        }
      ]
    },
    {
      "cell_type": "markdown",
      "source": [
        "Доверительный интервал:"
      ],
      "metadata": {
        "id": "uRFjflTu6uqE"
      }
    },
    {
      "cell_type": "code",
      "source": [
        "t = 2.2281\n",
        "\n",
        "(b1 - t * s_slope, b1 + t * s_slope)"
      ],
      "metadata": {
        "colab": {
          "base_uri": "https://localhost:8080/"
        },
        "id": "0OsK0uB86qc-",
        "outputId": "eebdb37d-17c5-403e-a4db-526acfe286d9"
      },
      "execution_count": 19,
      "outputs": [
        {
          "output_type": "execute_result",
          "data": {
            "text/plain": [
              "(2.520441260006862, 2.7206365047986676)"
            ]
          },
          "metadata": {},
          "execution_count": 19
        }
      ]
    },
    {
      "cell_type": "markdown",
      "source": [
        "Теперь через интерсепт:"
      ],
      "metadata": {
        "id": "Fm6IltKR7DoM"
      }
    },
    {
      "cell_type": "code",
      "source": [
        "def standart_error_intercept(x, y, z):\n",
        "  return standart_error_slope(x, y ,z) * np.sqrt((x ** 2).mean())"
      ],
      "metadata": {
        "id": "TI8Bzwmj68LI"
      },
      "execution_count": 20,
      "outputs": []
    },
    {
      "cell_type": "code",
      "source": [
        "s_intercept = standart_error_intercept(X, Y ,Z)\n",
        "s_intercept"
      ],
      "metadata": {
        "colab": {
          "base_uri": "https://localhost:8080/"
        },
        "id": "ZsDLAnNL7XL1",
        "outputId": "ee85eb9e-d23e-4021-c0e5-6ed3b55d919f"
      },
      "execution_count": 21,
      "outputs": [
        {
          "output_type": "execute_result",
          "data": {
            "text/plain": [
              "5.273028367348944"
            ]
          },
          "metadata": {},
          "execution_count": 21
        }
      ]
    },
    {
      "cell_type": "code",
      "source": [
        "T = b0 / s_intercept\n",
        "T"
      ],
      "metadata": {
        "colab": {
          "base_uri": "https://localhost:8080/"
        },
        "id": "dp-7P0KC7fqm",
        "outputId": "d91f3a83-f69e-49c9-a49a-7494f4e44a9e"
      },
      "execution_count": 22,
      "outputs": [
        {
          "output_type": "execute_result",
          "data": {
            "text/plain": [
              "84.23572307608752"
            ]
          },
          "metadata": {},
          "execution_count": 22
        }
      ]
    },
    {
      "cell_type": "markdown",
      "source": [
        "Доверительный интервал:"
      ],
      "metadata": {
        "id": "W74fxWms7oMd"
      }
    },
    {
      "cell_type": "code",
      "source": [
        "(b0 - t * s_intercept, b0 + t * s_intercept)"
      ],
      "metadata": {
        "colab": {
          "base_uri": "https://localhost:8080/"
        },
        "id": "YZqyOzc_7lBN",
        "outputId": "18506658-b746-43bd-9d1e-950063db6f8b"
      },
      "execution_count": 23,
      "outputs": [
        {
          "output_type": "execute_result",
          "data": {
            "text/plain": [
              "(432.4285228190694, 455.9261918296498)"
            ]
          },
          "metadata": {},
          "execution_count": 23
        }
      ]
    },
    {
      "cell_type": "code",
      "source": [
        ""
      ],
      "metadata": {
        "id": "fFvp1bZH7xFt"
      },
      "execution_count": null,
      "outputs": []
    }
  ]
}