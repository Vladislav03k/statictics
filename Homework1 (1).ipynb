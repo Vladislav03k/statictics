{
  "nbformat": 4,
  "nbformat_minor": 0,
  "metadata": {
    "colab": {
      "name": "Homework1.ipynb",
      "provenance": []
    },
    "kernelspec": {
      "name": "python3",
      "display_name": "Python 3"
    },
    "language_info": {
      "name": "python"
    }
  },
  "cells": [
    {
      "cell_type": "markdown",
      "source": [
        "Из колоды в 52 карты извлекаются случайным образом 4 карты. a) Найти вероятность того, что все карты – крести. б) Найти вероятность, что среди 4-х карт окажется хотя бы один туз."
      ],
      "metadata": {
        "id": "Dh78m6lR8tty"
      }
    },
    {
      "cell_type": "code",
      "source": [
        "from google.colab import drive\n",
        "drive.mount('/content/drive')"
      ],
      "metadata": {
        "colab": {
          "base_uri": "https://localhost:8080/"
        },
        "id": "t48KTLfa839S",
        "outputId": "a2eb53cb-6413-435c-942f-bba5fa76c3e4"
      },
      "execution_count": 1,
      "outputs": [
        {
          "output_type": "stream",
          "name": "stdout",
          "text": [
            "Mounted at /content/drive\n"
          ]
        }
      ]
    },
    {
      "cell_type": "code",
      "source": [
        "import numpy as np"
      ],
      "metadata": {
        "id": "cCVN5DJO936M"
      },
      "execution_count": 4,
      "outputs": []
    },
    {
      "cell_type": "code",
      "source": [
        "from math import factorial"
      ],
      "metadata": {
        "id": "7BWeD-eQ-BPn"
      },
      "execution_count": 5,
      "outputs": []
    },
    {
      "cell_type": "markdown",
      "source": [
        "а)так крести составляют 13 штук из колоды в 52 карты, то:"
      ],
      "metadata": {
        "id": "_iCZt0FDCCGt"
      }
    },
    {
      "cell_type": "code",
      "source": [
        "(13/52)*(12/51)*(11/50)*(10/49)"
      ],
      "metadata": {
        "colab": {
          "base_uri": "https://localhost:8080/"
        },
        "id": "cy2FGpTECDYS",
        "outputId": "fd91e656-000b-4c28-d46e-9c7b3785dbf6"
      },
      "execution_count": 6,
      "outputs": [
        {
          "output_type": "execute_result",
          "data": {
            "text/plain": [
              "0.0026410564225690276"
            ]
          },
          "metadata": {},
          "execution_count": 6
        }
      ]
    },
    {
      "cell_type": "markdown",
      "source": [
        "б) так как мы вытягиваем по 1 карте, то:"
      ],
      "metadata": {
        "id": "0PnPfJKyCioy"
      }
    },
    {
      "cell_type": "code",
      "source": [
        "(4/52)+(4/51)+(4/50)+(4/49)"
      ],
      "metadata": {
        "colab": {
          "base_uri": "https://localhost:8080/"
        },
        "id": "gtUVC_cJ-KwW",
        "outputId": "7b844eb9-b8e6-4772-927e-b97ab80cffc2"
      },
      "execution_count": 7,
      "outputs": [
        {
          "output_type": "execute_result",
          "data": {
            "text/plain": [
              "0.316987102533321"
            ]
          },
          "metadata": {},
          "execution_count": 7
        }
      ]
    },
    {
      "cell_type": "markdown",
      "source": [
        "На входной двери подъезда установлен кодовый замок, содержащий десять кнопок с цифрами от 0 до 9. Код содержит три цифры, которые нужно нажать одновременно. Какова вероятность того, что человек, не знающий код, откроет дверь с первой попытки?"
      ],
      "metadata": {
        "id": "vq3QRvX9CzAq"
      }
    },
    {
      "cell_type": "code",
      "source": [
        "def combinations(n, k):\n",
        "  return int(factorial(n) / (factorial(k) * factorial(n-k)))"
      ],
      "metadata": {
        "id": "Ebww8w2kCvmA"
      },
      "execution_count": 8,
      "outputs": []
    },
    {
      "cell_type": "code",
      "source": [
        "key = combinations(10, 3)"
      ],
      "metadata": {
        "id": "Nl83A6IXDlOu"
      },
      "execution_count": 11,
      "outputs": []
    },
    {
      "cell_type": "code",
      "source": [
        "1/key"
      ],
      "metadata": {
        "colab": {
          "base_uri": "https://localhost:8080/"
        },
        "id": "HHS3UDTRDq2U",
        "outputId": "d1c77f18-82bb-4d97-f3ac-1e88fc4bd719"
      },
      "execution_count": 12,
      "outputs": [
        {
          "output_type": "execute_result",
          "data": {
            "text/plain": [
              "0.008333333333333333"
            ]
          },
          "metadata": {},
          "execution_count": 12
        }
      ]
    },
    {
      "cell_type": "markdown",
      "source": [
        "В ящике имеется 15 деталей, из которых 9 окрашены. Рабочий случайным образом извлекает 3 детали. Какова вероятность того, что все извлеченные детали окрашены?"
      ],
      "metadata": {
        "id": "lVV3t9sKEEip"
      }
    },
    {
      "cell_type": "markdown",
      "source": [
        "Число благоприятных исходов:"
      ],
      "metadata": {
        "id": "bf1a3VUaFvkB"
      }
    },
    {
      "cell_type": "code",
      "source": [
        "n = combinations(15, 3)"
      ],
      "metadata": {
        "id": "YS9E3UJkD5l8"
      },
      "execution_count": 15,
      "outputs": []
    },
    {
      "cell_type": "markdown",
      "source": [
        "Число неблагоприятных исходов:"
      ],
      "metadata": {
        "id": "YWBF5WjVFzYb"
      }
    },
    {
      "cell_type": "code",
      "source": [
        "m = combinations(9, 3)"
      ],
      "metadata": {
        "id": "XWaHrlSIFg88"
      },
      "execution_count": 16,
      "outputs": []
    },
    {
      "cell_type": "code",
      "source": [
        "m/n"
      ],
      "metadata": {
        "colab": {
          "base_uri": "https://localhost:8080/"
        },
        "id": "cce_iujLFmrp",
        "outputId": "07f5be0d-3bad-44b0-b36f-3887ab7c0954"
      },
      "execution_count": 17,
      "outputs": [
        {
          "output_type": "execute_result",
          "data": {
            "text/plain": [
              "0.18461538461538463"
            ]
          },
          "metadata": {},
          "execution_count": 17
        }
      ]
    },
    {
      "cell_type": "markdown",
      "source": [
        "В лотерее 100 билетов. Из них 2 выигрышных. Какова вероятность того, что 2 приобретенных билета окажутся выигрышными?"
      ],
      "metadata": {
        "id": "iOQGYUMXF-vl"
      }
    },
    {
      "cell_type": "code",
      "source": [
        "(2/100)*(1/99)"
      ],
      "metadata": {
        "colab": {
          "base_uri": "https://localhost:8080/"
        },
        "id": "RcnqJ5w3F781",
        "outputId": "509f553b-1891-4275-e87e-56a7d81525d6"
      },
      "execution_count": 18,
      "outputs": [
        {
          "output_type": "execute_result",
          "data": {
            "text/plain": [
              "0.00020202020202020205"
            ]
          },
          "metadata": {},
          "execution_count": 18
        }
      ]
    },
    {
      "cell_type": "markdown",
      "source": [
        "На соревновании по биатлону один из трех спортсменов стреляет и попадает в мишень. Вероятность попадания для первого спортсмена равна 0.9, для второго — 0.8, для третьего — 0.6. Найти вероятность того, что выстрел произведен: a). первым спортсменом б). вторым спортсменом в). третьим спортсменом."
      ],
      "metadata": {
        "id": "LzdSA7qlJb_A"
      }
    },
    {
      "cell_type": "code",
      "source": [
        "first = 0.9\n",
        "second = 0.8\n",
        "third = 0.6\n",
        "B = 1/3"
      ],
      "metadata": {
        "id": "lwD4_9zoJWQo"
      },
      "execution_count": 19,
      "outputs": []
    },
    {
      "cell_type": "code",
      "source": [
        "P1 = (B * first)/(B * first) + (B * second) + (B * third)\n",
        "P1"
      ],
      "metadata": {
        "colab": {
          "base_uri": "https://localhost:8080/"
        },
        "id": "f5wVnzvGKV62",
        "outputId": "446363d0-d583-4063-db63-a13ac489c394"
      },
      "execution_count": 21,
      "outputs": [
        {
          "output_type": "execute_result",
          "data": {
            "text/plain": [
              "1.4666666666666666"
            ]
          },
          "metadata": {},
          "execution_count": 21
        }
      ]
    },
    {
      "cell_type": "code",
      "source": [
        "P2 = (B * second)/(B * first) + (B * second) + (B * third)\n",
        "P2"
      ],
      "metadata": {
        "colab": {
          "base_uri": "https://localhost:8080/"
        },
        "id": "iSceEyDHKsWH",
        "outputId": "099b57fd-4466-4aae-ce7b-d71337e9eeb1"
      },
      "execution_count": 22,
      "outputs": [
        {
          "output_type": "execute_result",
          "data": {
            "text/plain": [
              "1.3555555555555556"
            ]
          },
          "metadata": {},
          "execution_count": 22
        }
      ]
    },
    {
      "cell_type": "code",
      "source": [
        "P3 = (B * third)/(B * first) + (B * second) + (B * third)\n",
        "P3"
      ],
      "metadata": {
        "colab": {
          "base_uri": "https://localhost:8080/"
        },
        "id": "ZmejegSHK2YA",
        "outputId": "527c5eb2-515c-48a8-9a9c-011a0e837522"
      },
      "execution_count": 23,
      "outputs": [
        {
          "output_type": "execute_result",
          "data": {
            "text/plain": [
              "1.1333333333333333"
            ]
          },
          "metadata": {},
          "execution_count": 23
        }
      ]
    },
    {
      "cell_type": "code",
      "source": [
        ""
      ],
      "metadata": {
        "id": "9BTmJ964K6ds"
      },
      "execution_count": null,
      "outputs": []
    }
  ]
}