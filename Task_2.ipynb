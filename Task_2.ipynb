{
  "nbformat": 4,
  "nbformat_minor": 0,
  "metadata": {
    "colab": {
      "name": "Homework2.ipynb",
      "provenance": []
    },
    "kernelspec": {
      "name": "python3",
      "display_name": "Python 3"
    },
    "language_info": {
      "name": "python"
    }
  },
  "cells": [
    {
      "cell_type": "markdown",
      "source": [
        "Вероятность того, что стрелок попадет в мишень, выстрелив один раз, равна 0.8. Стрелок выстрелил 100 раз. Найдите вероятность того, что стрелок попадет в цель ровно 85 раз."
      ],
      "metadata": {
        "id": "YpddEumyq7lu"
      }
    },
    {
      "cell_type": "code",
      "execution_count": 1,
      "metadata": {
        "id": "AOaaVNJOq47J",
        "colab": {
          "base_uri": "https://localhost:8080/"
        },
        "outputId": "a4bd9bc4-141c-4122-af7c-661a0dc1b7c0"
      },
      "outputs": [
        {
          "output_type": "stream",
          "name": "stdout",
          "text": [
            "Mounted at /content/drive\n"
          ]
        }
      ],
      "source": [
        "from google.colab import drive\n",
        "drive.mount('/content/drive')\n",
        "\n",
        "import numpy as np\n",
        "\n",
        "from math import factorial"
      ]
    },
    {
      "cell_type": "code",
      "source": [
        "def combinations(n, k):\n",
        "  return int(factorial(n) / (factorial(k) * factorial(n-k)))"
      ],
      "metadata": {
        "id": "i4ueoJh8uEfC"
      },
      "execution_count": 2,
      "outputs": []
    },
    {
      "cell_type": "code",
      "source": [
        "n = 100\n",
        "k = 85\n",
        "c = combinations(n, k)\n",
        "p = 0.8"
      ],
      "metadata": {
        "id": "EL03hEmRuJtO"
      },
      "execution_count": 7,
      "outputs": []
    },
    {
      "cell_type": "code",
      "source": [
        "P = c * (p ** k) * ((1 - p) ** (n - k))\n",
        "P"
      ],
      "metadata": {
        "colab": {
          "base_uri": "https://localhost:8080/"
        },
        "id": "P_JJY3pJuk8w",
        "outputId": "b380c533-e6af-4ec5-90d6-470aa9eba9d5"
      },
      "execution_count": 8,
      "outputs": [
        {
          "output_type": "execute_result",
          "data": {
            "text/plain": [
              "0.048061793700746355"
            ]
          },
          "metadata": {},
          "execution_count": 8
        }
      ]
    },
    {
      "cell_type": "markdown",
      "source": [
        "Вероятность того, что лампочка перегорит в течение первого дня эксплуатации, равна 0.0004. В жилом комплексе после ремонта в один день включили 5000 новых лампочек. Какова вероятность, что ни одна из них не перегорит в первый день? Какова вероятность, что перегорят ровно две?"
      ],
      "metadata": {
        "id": "j9Y-6Hn_vQ6q"
      }
    },
    {
      "cell_type": "code",
      "source": [
        "p = 0.0004\n",
        "n = 5000\n",
        "m = 1\n",
        "lambda_ = n * p"
      ],
      "metadata": {
        "id": "TM7H-Ctmu2_v"
      },
      "execution_count": 33,
      "outputs": []
    },
    {
      "cell_type": "code",
      "source": [
        "P_1 = combinations(n, m) * (p ** m) * ((1 - p) ** (n - m))\n",
        "P_1"
      ],
      "metadata": {
        "colab": {
          "base_uri": "https://localhost:8080/"
        },
        "id": "1q-KpWrIyLgh",
        "outputId": "753a78b3-db63-4d67-e582-7becb5372bbe"
      },
      "execution_count": 34,
      "outputs": [
        {
          "output_type": "execute_result",
          "data": {
            "text/plain": [
              "0.27067055925251515"
            ]
          },
          "metadata": {},
          "execution_count": 34
        }
      ]
    },
    {
      "cell_type": "code",
      "source": [
        "P_1 = (lambda_ ** m / factorial(m)) * np.exp(-lambda_)\n",
        "P_1"
      ],
      "metadata": {
        "colab": {
          "base_uri": "https://localhost:8080/"
        },
        "id": "48Wt8-PbzZSc",
        "outputId": "caa0edc5-1652-49be-a884-c9f6ea7a3c5a"
      },
      "execution_count": 35,
      "outputs": [
        {
          "output_type": "execute_result",
          "data": {
            "text/plain": [
              "0.2706705664732254"
            ]
          },
          "metadata": {},
          "execution_count": 35
        }
      ]
    },
    {
      "cell_type": "markdown",
      "source": [
        "По итогу получается, что в первом случае более корректно использовать формулу биноминального распределения, а во втором формулу распределения Пуассона "
      ],
      "metadata": {
        "id": "J_OJj5Yjze4q"
      }
    },
    {
      "cell_type": "code",
      "source": [
        "p = 0.0004\n",
        "n = 5000\n",
        "m = 2\n",
        "lambda_ = n * p"
      ],
      "metadata": {
        "id": "Cy3aljg0wpYt"
      },
      "execution_count": 30,
      "outputs": []
    },
    {
      "cell_type": "code",
      "source": [
        "P_2 = (lambda_ ** m / factorial(m)) * np.exp(-lambda_)\n",
        "P_2"
      ],
      "metadata": {
        "colab": {
          "base_uri": "https://localhost:8080/"
        },
        "id": "50q0tGYuxF1c",
        "outputId": "99852578-875c-4fa8-992d-605f1fbc979c"
      },
      "execution_count": 31,
      "outputs": [
        {
          "output_type": "execute_result",
          "data": {
            "text/plain": [
              "0.2706705664732254"
            ]
          },
          "metadata": {},
          "execution_count": 31
        }
      ]
    },
    {
      "cell_type": "markdown",
      "source": [
        "Монету подбросили 144 раза. Какова вероятность, что орел выпадет ровно 70 раз?"
      ],
      "metadata": {
        "id": "_X5wQIBPzxR0"
      }
    },
    {
      "cell_type": "markdown",
      "source": [
        "Так как вероятность выпадения орла = 0.5, то"
      ],
      "metadata": {
        "id": "Po6B1X1n0QEs"
      }
    },
    {
      "cell_type": "code",
      "source": [
        "p = 0.5\n",
        "n = 144\n",
        "k = 70\n",
        "P = combinations(n, k) * (p ** k) * ((1 - p) ** (n - k))\n",
        "P"
      ],
      "metadata": {
        "colab": {
          "base_uri": "https://localhost:8080/"
        },
        "id": "mUXegLmDxHpL",
        "outputId": "520fa1bd-0626-447f-a65d-bd3dc1cbaa66"
      },
      "execution_count": 36,
      "outputs": [
        {
          "output_type": "execute_result",
          "data": {
            "text/plain": [
              "0.06281178035144776"
            ]
          },
          "metadata": {},
          "execution_count": 36
        }
      ]
    },
    {
      "cell_type": "markdown",
      "source": [
        "В первом ящике находится 10 мячей, из которых 7 - белые. Во втором ящике - 11 мячей, из которых 9 белых. Из каждого ящика вытаскивают случайным образом по два мяча одновременно (можно решать и в иной постановке, т.е. что шары вытаскиваются не одновременно, важно лишь уточнить, что Вы имели в виду). Какова вероятность того, что все мячи белые? Какова вероятность того, что ровно два мяча белые? Какова вероятность того, что хотя бы один мяч белый?"
      ],
      "metadata": {
        "id": "dhPAUWpu0rke"
      }
    },
    {
      "cell_type": "markdown",
      "source": [
        "Если я правильно понял, то вероятность, что все мячи белые:"
      ],
      "metadata": {
        "id": "pBdGwWEt2zRz"
      }
    },
    {
      "cell_type": "code",
      "source": [
        "P = ((1/2) * ((7/10) * (6/9))) + ((1/2) * ((9/11) * (8/10)))\n",
        "P"
      ],
      "metadata": {
        "colab": {
          "base_uri": "https://localhost:8080/"
        },
        "id": "XxC-A7A_0pek",
        "outputId": "a8e3bd79-0865-44a4-dbf0-f6c02cc40898"
      },
      "execution_count": 40,
      "outputs": [
        {
          "output_type": "execute_result",
          "data": {
            "text/plain": [
              "0.5606060606060607"
            ]
          },
          "metadata": {},
          "execution_count": 40
        }
      ]
    },
    {
      "cell_type": "markdown",
      "source": [
        "Вероятность, что хотя бы 2 из 4 мяча белые:"
      ],
      "metadata": {
        "id": "PbucPDIK259N"
      }
    },
    {
      "cell_type": "code",
      "source": [
        "P = ((1/2) * (7/10)) + ((1/2) * (9/11))\n",
        "P"
      ],
      "metadata": {
        "colab": {
          "base_uri": "https://localhost:8080/"
        },
        "id": "lAUgAlDQ2Q2R",
        "outputId": "9ed0e10c-ade6-4c0a-ea34-aea3b930df69"
      },
      "execution_count": 41,
      "outputs": [
        {
          "output_type": "execute_result",
          "data": {
            "text/plain": [
              "0.759090909090909"
            ]
          },
          "metadata": {},
          "execution_count": 41
        }
      ]
    },
    {
      "cell_type": "markdown",
      "source": [
        "Вероятность, что только 1 мяч белый:"
      ],
      "metadata": {
        "id": "x3xqpQsB3TsE"
      }
    },
    {
      "cell_type": "code",
      "source": [
        "P = ((1/2) * (7/10)) * ((1/2) * (9/11))\n",
        "P"
      ],
      "metadata": {
        "colab": {
          "base_uri": "https://localhost:8080/"
        },
        "id": "mppLJ5my3HGL",
        "outputId": "b185d876-b8b9-4356-b063-1db6033c1a38"
      },
      "execution_count": 42,
      "outputs": [
        {
          "output_type": "execute_result",
          "data": {
            "text/plain": [
              "0.1431818181818182"
            ]
          },
          "metadata": {},
          "execution_count": 42
        }
      ]
    },
    {
      "cell_type": "code",
      "source": [
        ""
      ],
      "metadata": {
        "id": "AB_8krB53eAy"
      },
      "execution_count": null,
      "outputs": []
    }
  ]
}